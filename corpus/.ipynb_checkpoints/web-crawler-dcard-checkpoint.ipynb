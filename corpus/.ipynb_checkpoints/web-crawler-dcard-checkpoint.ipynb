{
 "cells": [
  {
   "cell_type": "markdown",
   "metadata": {},
   "source": [
    "# Web Crawler (Dcard)"
   ]
  },
  {
   "cell_type": "markdown",
   "metadata": {},
   "source": [
    "- Based on a [blog post](https://tlyu0419.github.io/2019/04/06/Crawl-Dcard/)"
   ]
  },
  {
   "cell_type": "code",
   "execution_count": 1,
   "metadata": {},
   "outputs": [],
   "source": [
    "# 載入使用的套件\n",
    "import pandas as pd\n",
    "import requests\n",
    "\n",
    "import re"
   ]
  },
  {
   "cell_type": "code",
   "execution_count": 2,
   "metadata": {},
   "outputs": [
    {
     "data": {
      "text/plain": [
       "{'id': 235442609,\n",
       " 'title': '超狂學經歷！195公分帥家教徵學生',\n",
       " 'content': 'https://i.imgur.com/REIEzSd.jpg\\n\\n身高195公分的男大生楊承翰在家教社團PO文徵學生的文章被網友推爆了，網友們看到他的學經歷及成績不禁大讚根本就是學霸王，而他不只擁有高顏質，還是籃球系隊成員，超乎常人的學經歷及證書考試成績，瞬間讓網友都跪著朝聖，直呼「天哪好厲害的帥哥」、「這個當家教太可惜了」。\\n\\n21歲台大學生楊承翰日前在臉書社團「家教補教學校兼全職、打工、師訓交流」發文，想以時薪1千5百元找家教學生，授課內容為英文、數學、理化、程式語言、留學申請，及SAT／ACT／TOFEL／AP等，希望能在台北範圍教學，也可接受線上教學，貼文下方也附註他的學經歷。\\n\\n學歷：\\n就讀美國杜克大學（Duke University）大三，雙主修資工，數學\\n畢業於新竹科學園區實驗中學（National Experimental High School）\\n美國哈佛大學（Harvard University）暑期醫學研究生\\n國立台灣大學（National Taiwan University) 新冠專案訪問生\\n\\n相關經歷：\\n從小在美國及台灣長大，精通中英文。\\n擁有三年以上的教學經驗，1對1家教經驗豐富（7+學生，科目分別為代數、微積分、化學、Python程式設計及英文寫作）。\\n曾任教於台北市美西留學教育顧問公司，擔任數學專科及SAT衝刺班教師。\\n多次擔任私人留學顧問，幫助學生錄取杜克大學（Duke University），加州理工學院（California Institute of Technology）及密西根大學（University of Michigan）等。\\n協助杜克大學校方開發資工系大一必修的課程網頁及作業内容。\\n\\n考試分數：\\nSAT: 1540/1600（Essay 24/24）\\nACT: 34/36\\nTOEFL: 119/120\\nSAT Chinese, Biology, Chemistry, Math Level 2: 800/800\\nAP English Language, English Literature, Chinese, World History, US Government, Biology, Chemistry, Physics 1, Physics C: Mechanics, Physics C: E&M, Calculus AB, Calculus BC: 5/5 （Advanced Placement (AP) = 美國大學先修課）\\nUSA Biology Olympiad（USABO）Semifinalist（美國生物奧林匹亞準決賽入選者）\\n\\n文章吸引4千多位網友按讚，超狂的學經歷背景讓網友全看傻眼了，紛紛留言「這經歷是鬼吧，好猛」、「這個當家教太可惜了」、「哇賽我還不推爆」、「來看神仙」、「這是學霸王吧」、「怎麼不去打NCAA？」\\n\\n對此，楊承翰向《ETtoday新聞雲》表示，「我真的沒有想到徵學生的貼文會被受到那麼多關注。很謝謝大家給我的支持、鼓勵及建議，我也成功的找到好幾個合適的家教案件了。」\\nhttps://i.imgur.com/xWRCeuo.jpg\\nhttps://i.imgur.com/5An71PS.jpg\\n\\nhttps://www.ettoday.net/news/20210226/1926628.htm\\n\\n\\n他會這麼高是遺傳+後天愛運動\\n他爸183\\n媽媽172\\n基因強大👀\\n\\n另外這個學經歷收1500也很佛心\\n台大的家教一小時大概800up\\n醫學可以到1200~1500\\n\\n這樣應該算很勝利了?',\n",
       " 'excerpt': '身高195公分的男大生楊承翰在家教社團PO文徵學生的文章被網友推爆了，網友們看到他的學經歷及成績不禁大讚根本就是學霸王，而他不只擁有高顏質，還是籃球系隊成員，超乎常人的學經歷及證書考試成績，瞬間讓網友',\n",
       " 'anonymousSchool': False,\n",
       " 'anonymousDepartment': True,\n",
       " 'pinned': False,\n",
       " 'forumId': 'd43f33f9-873f-46b3-9f24-38c90056b96c',\n",
       " 'replyId': None,\n",
       " 'createdAt': '2021-02-27T14:33:42.684Z',\n",
       " 'updatedAt': '2021-02-27T19:20:43.811Z',\n",
       " 'commentCount': 519,\n",
       " 'likeCount': 5372,\n",
       " 'tags': [],\n",
       " 'topics': ['帥哥', 'SAT', 'Duke', '家教'],\n",
       " 'supportedReactions': None,\n",
       " 'withNickname': False,\n",
       " 'reportReason': '',\n",
       " 'hiddenByAuthor': False,\n",
       " 'meta': {'layout': 'classic'},\n",
       " 'forumName': '考試',\n",
       " 'forumAlias': 'exam',\n",
       " 'nsfw': False,\n",
       " 'school': '國立臺灣大學',\n",
       " 'replyTitle': None,\n",
       " 'gender': 'F',\n",
       " 'personaSubscriptable': True,\n",
       " 'reactions': [{'id': '286f599c-f86a-4932-82f0-f5a06f1eca03', 'count': 5179},\n",
       "  {'id': '011ead16-9b83-4729-9fde-c588920c6c2d', 'count': 94},\n",
       "  {'id': '4b018f48-e184-445f-adf1-fc8e04ba09b9', 'count': 76},\n",
       "  {'id': 'e8e6bc5d-41b0-4129-b134-97507523d7ff', 'count': 18},\n",
       "  {'id': 'aa0d425f-d530-4478-9a77-fe3aedc79eea', 'count': 3},\n",
       "  {'id': '514c2569-fd53-4d9d-a415-bf0f88e7329f', 'count': 2}],\n",
       " 'hidden': False,\n",
       " 'customStyle': None,\n",
       " 'isSuspiciousAccount': False,\n",
       " 'isModerator': False,\n",
       " 'layout': 'classic',\n",
       " 'spoilerAlert': False,\n",
       " 'withImages': True,\n",
       " 'withVideos': False,\n",
       " 'media': [{'url': 'https://i.imgur.com/REIEzSd.jpg'},\n",
       "  {'url': 'https://i.imgur.com/xWRCeuo.jpg'},\n",
       "  {'url': 'https://i.imgur.com/5An71PS.jpg'}],\n",
       " 'reportReasonText': '',\n",
       " 'mediaMeta': [{'id': 'c4276c8c-f4b5-4c1d-82e8-56b1c26a4fd5',\n",
       "   'url': 'https://i.imgur.com/REIEzSdl.jpg',\n",
       "   'normalizedUrl': 'https://i.imgur.com/REIEzSdl.jpg',\n",
       "   'thumbnail': 'https://i.imgur.com/REIEzSdl.jpg',\n",
       "   'type': 'image/thumbnail',\n",
       "   'tags': ['ANNOTATED'],\n",
       "   'createdAt': '2021-02-27T14:34:57.354Z',\n",
       "   'updatedAt': '2021-02-27T19:20:43.811Z',\n",
       "   'width': 795,\n",
       "   'height': 796},\n",
       "  {'id': 'c4276c8c-f4b5-4c1d-82e8-56b1c26a4fd5',\n",
       "   'url': 'https://i.imgur.com/REIEzSd.jpg',\n",
       "   'normalizedUrl': 'https://imgur.com/REIEzSd',\n",
       "   'thumbnail': 'https://i.imgur.com/REIEzSdl.jpg',\n",
       "   'type': 'image/imgur',\n",
       "   'tags': ['ANNOTATED'],\n",
       "   'createdAt': '2021-02-27T14:34:57.354Z',\n",
       "   'updatedAt': '2021-02-27T19:20:43.811Z',\n",
       "   'width': 795,\n",
       "   'height': 796},\n",
       "  {'id': 'df8d763d-91c8-4384-a405-161bc606248a',\n",
       "   'url': 'https://i.imgur.com/xWRCeuo.jpg',\n",
       "   'normalizedUrl': 'https://imgur.com/xWRCeuo',\n",
       "   'thumbnail': 'https://i.imgur.com/xWRCeuol.jpg',\n",
       "   'type': 'image/imgur',\n",
       "   'tags': ['ANNOTATED', 'POSSIBLY_UNSAFE', 'GOOGLE_VISION_ADULT_LIKELY'],\n",
       "   'createdAt': '2021-02-27T14:34:57.354Z',\n",
       "   'updatedAt': '2021-02-27T19:20:43.811Z',\n",
       "   'width': 738,\n",
       "   'height': 483},\n",
       "  {'id': '72775c40-c99a-49f3-a7ac-a907484aa2fd',\n",
       "   'url': 'https://i.imgur.com/5An71PS.jpg',\n",
       "   'normalizedUrl': 'https://imgur.com/5An71PS',\n",
       "   'thumbnail': 'https://i.imgur.com/5An71PSl.jpg',\n",
       "   'type': 'image/imgur',\n",
       "   'tags': ['ANNOTATED'],\n",
       "   'createdAt': '2021-02-27T14:34:57.354Z',\n",
       "   'updatedAt': '2021-02-27T19:20:43.811Z',\n",
       "   'width': 451,\n",
       "   'height': 791}],\n",
       " 'excerptComments': [],\n",
       " 'postAvatar': '',\n",
       " 'verifiedBadge': False}"
      ]
     },
     "execution_count": 2,
     "metadata": {},
     "output_type": "execute_result"
    }
   ],
   "source": [
    "# 檢視資料結構\n",
    "ID = '235442609'\n",
    "url = 'https://www.dcard.tw/_api/posts/' + ID\n",
    "# 透過request套件抓下這個網址的資料\n",
    "requ = requests.get(url)\n",
    "# 初步檢視抓到的資料結構\n",
    "requ.json()"
   ]
  },
  {
   "cell_type": "code",
   "execution_count": 3,
   "metadata": {},
   "outputs": [
    {
     "data": {
      "text/html": [
       "<div>\n",
       "<style scoped>\n",
       "    .dataframe tbody tr th:only-of-type {\n",
       "        vertical-align: middle;\n",
       "    }\n",
       "\n",
       "    .dataframe tbody tr th {\n",
       "        vertical-align: top;\n",
       "    }\n",
       "\n",
       "    .dataframe thead th {\n",
       "        text-align: right;\n",
       "    }\n",
       "</style>\n",
       "<table border=\"1\" class=\"dataframe\">\n",
       "  <thead>\n",
       "    <tr style=\"text-align: right;\">\n",
       "      <th></th>\n",
       "      <th>ID</th>\n",
       "      <th>title</th>\n",
       "      <th>content</th>\n",
       "      <th>excerpt</th>\n",
       "      <th>createdAt</th>\n",
       "      <th>updatedAt</th>\n",
       "      <th>commentCount</th>\n",
       "      <th>forumName</th>\n",
       "      <th>forumAlias</th>\n",
       "      <th>gender</th>\n",
       "      <th>likeCount</th>\n",
       "      <th>reactions</th>\n",
       "      <th>topics</th>\n",
       "    </tr>\n",
       "  </thead>\n",
       "  <tbody>\n",
       "    <tr>\n",
       "      <th>0</th>\n",
       "      <td>235442609</td>\n",
       "      <td>超狂學經歷！195公分帥家教徵學生</td>\n",
       "      <td>https://i.imgur.com/REIEzSd.jpg\\n\\n身高195公分的男大生...</td>\n",
       "      <td>身高195公分的男大生楊承翰在家教社團PO文徵學生的文章被網友推爆了，網友們看到他的學經歷及...</td>\n",
       "      <td>2021-02-27T14:33:42.684Z</td>\n",
       "      <td>2021-02-27T19:20:43.811Z</td>\n",
       "      <td>519</td>\n",
       "      <td>考試</td>\n",
       "      <td>exam</td>\n",
       "      <td>F</td>\n",
       "      <td>5372</td>\n",
       "      <td>[{'id': '286f599c-f86a-4932-82f0-f5a06f1eca03'...</td>\n",
       "      <td>[帥哥, SAT, Duke, 家教]</td>\n",
       "    </tr>\n",
       "  </tbody>\n",
       "</table>\n",
       "</div>"
      ],
      "text/plain": [
       "          ID              title  \\\n",
       "0  235442609  超狂學經歷！195公分帥家教徵學生   \n",
       "\n",
       "                                             content  \\\n",
       "0  https://i.imgur.com/REIEzSd.jpg\\n\\n身高195公分的男大生...   \n",
       "\n",
       "                                             excerpt  \\\n",
       "0  身高195公分的男大生楊承翰在家教社團PO文徵學生的文章被網友推爆了，網友們看到他的學經歷及...   \n",
       "\n",
       "                  createdAt                 updatedAt  commentCount forumName  \\\n",
       "0  2021-02-27T14:33:42.684Z  2021-02-27T19:20:43.811Z           519        考試   \n",
       "\n",
       "  forumAlias gender  likeCount  \\\n",
       "0       exam      F       5372   \n",
       "\n",
       "                                           reactions               topics  \n",
       "0  [{'id': '286f599c-f86a-4932-82f0-f5a06f1eca03'...  [帥哥, SAT, Duke, 家教]  "
      ]
     },
     "execution_count": 3,
     "metadata": {},
     "output_type": "execute_result"
    }
   ],
   "source": [
    "# 將抓下來的資料轉為DataFrame\n",
    "ID = '235442609'\n",
    "url = url = 'https://www.dcard.tw/_api/posts/' + ID\n",
    "requ = requests.get(url)\n",
    "rejs = requ.json()\n",
    "pd.DataFrame(\n",
    "    data=\n",
    "    [{'ID':rejs['id'],\n",
    "      'title':rejs['title'],\n",
    "      'content':rejs['content'],\n",
    "      'excerpt':rejs['excerpt'],\n",
    "      'createdAt':rejs['createdAt'],\n",
    "      'updatedAt':rejs['updatedAt'],\n",
    "      'commentCount':rejs['commentCount'],\n",
    "      'forumName':rejs['forumName'],\n",
    "      'forumAlias':rejs['forumAlias'],\n",
    "      'gender':rejs['gender'],\n",
    "      'likeCount':rejs['likeCount'],\n",
    "      'reactions':rejs['reactions'],\n",
    "      'topics':rejs['topics']}],\n",
    "    columns=['ID','title','content','excerpt','createdAt','updatedAt','commentCount','forumName','forumAlias','gender','likeCount','reactions','topics'])"
   ]
  },
  {
   "cell_type": "code",
   "execution_count": 4,
   "metadata": {},
   "outputs": [],
   "source": [
    "# 撰寫簡單的函數，透過輸入文章ID，就輸出文章的資料\n",
    "def Crawl(ID):\n",
    "    link = 'https://www.dcard.tw/_api/posts/' + str(ID)\n",
    "    requ = requests.get(link)\n",
    "    rejs = requ.json()\n",
    "    return(pd.DataFrame(\n",
    "        data=\n",
    "        [{'ID':rejs['id'],\n",
    "          'title':rejs['title'],\n",
    "          'content':rejs['content'],\n",
    "          'excerpt':rejs['excerpt'],\n",
    "          'createdAt':rejs['createdAt'],\n",
    "          'updatedAt':rejs['updatedAt'],\n",
    "          'commentCount':rejs['commentCount'],\n",
    "          'forumName':rejs['forumName'],\n",
    "          'forumAlias':rejs['forumAlias'],\n",
    "          'gender':rejs['gender'],\n",
    "          'likeCount':rejs['likeCount'],\n",
    "          'reactions':rejs['reactions'],\n",
    "          'topics':rejs['topics']}],\n",
    "        columns=['ID','title','content','excerpt','createdAt','updatedAt','commentCount','forumName','forumAlias','gender','likeCount','reactions','topics']))"
   ]
  },
  {
   "cell_type": "code",
   "execution_count": 5,
   "metadata": {},
   "outputs": [
    {
     "data": {
      "text/html": [
       "<div>\n",
       "<style scoped>\n",
       "    .dataframe tbody tr th:only-of-type {\n",
       "        vertical-align: middle;\n",
       "    }\n",
       "\n",
       "    .dataframe tbody tr th {\n",
       "        vertical-align: top;\n",
       "    }\n",
       "\n",
       "    .dataframe thead th {\n",
       "        text-align: right;\n",
       "    }\n",
       "</style>\n",
       "<table border=\"1\" class=\"dataframe\">\n",
       "  <thead>\n",
       "    <tr style=\"text-align: right;\">\n",
       "      <th></th>\n",
       "      <th>ID</th>\n",
       "      <th>title</th>\n",
       "      <th>content</th>\n",
       "      <th>excerpt</th>\n",
       "      <th>createdAt</th>\n",
       "      <th>updatedAt</th>\n",
       "      <th>commentCount</th>\n",
       "      <th>forumName</th>\n",
       "      <th>forumAlias</th>\n",
       "      <th>gender</th>\n",
       "      <th>likeCount</th>\n",
       "      <th>reactions</th>\n",
       "      <th>topics</th>\n",
       "    </tr>\n",
       "  </thead>\n",
       "  <tbody>\n",
       "    <tr>\n",
       "      <th>0</th>\n",
       "      <td>235442609</td>\n",
       "      <td>超狂學經歷！195公分帥家教徵學生</td>\n",
       "      <td>https://i.imgur.com/REIEzSd.jpg\\n\\n身高195公分的男大生...</td>\n",
       "      <td>身高195公分的男大生楊承翰在家教社團PO文徵學生的文章被網友推爆了，網友們看到他的學經歷及...</td>\n",
       "      <td>2021-02-27T14:33:42.684Z</td>\n",
       "      <td>2021-02-27T19:20:43.811Z</td>\n",
       "      <td>519</td>\n",
       "      <td>考試</td>\n",
       "      <td>exam</td>\n",
       "      <td>F</td>\n",
       "      <td>5372</td>\n",
       "      <td>[{'id': '286f599c-f86a-4932-82f0-f5a06f1eca03'...</td>\n",
       "      <td>[帥哥, SAT, Duke, 家教]</td>\n",
       "    </tr>\n",
       "  </tbody>\n",
       "</table>\n",
       "</div>"
      ],
      "text/plain": [
       "          ID              title  \\\n",
       "0  235442609  超狂學經歷！195公分帥家教徵學生   \n",
       "\n",
       "                                             content  \\\n",
       "0  https://i.imgur.com/REIEzSd.jpg\\n\\n身高195公分的男大生...   \n",
       "\n",
       "                                             excerpt  \\\n",
       "0  身高195公分的男大生楊承翰在家教社團PO文徵學生的文章被網友推爆了，網友們看到他的學經歷及...   \n",
       "\n",
       "                  createdAt                 updatedAt  commentCount forumName  \\\n",
       "0  2021-02-27T14:33:42.684Z  2021-02-27T19:20:43.811Z           519        考試   \n",
       "\n",
       "  forumAlias gender  likeCount  \\\n",
       "0       exam      F       5372   \n",
       "\n",
       "                                           reactions               topics  \n",
       "0  [{'id': '286f599c-f86a-4932-82f0-f5a06f1eca03'...  [帥哥, SAT, Duke, 家教]  "
      ]
     },
     "execution_count": 5,
     "metadata": {},
     "output_type": "execute_result"
    }
   ],
   "source": [
    "# 嘗試使用撰寫出的函數，抓取編號231030181的文章\n",
    "Crawl(235442609)"
   ]
  },
  {
   "cell_type": "code",
   "execution_count": 8,
   "metadata": {},
   "outputs": [
    {
     "name": "stdout",
     "output_type": "stream",
     "text": [
      "(100, 13)\n"
     ]
    }
   ],
   "source": [
    "import random, time\n",
    "# 一次讀取100篇最熱門的文章\n",
    "url = 'https://www.dcard.tw/_api/posts?popular=true&limit=100'\n",
    "resq = requests.get(url)\n",
    "rejs = resq.json()\n",
    "df = pd.DataFrame()\n",
    "for i in range(len(rejs)):\n",
    "    wait_time = random.randint(3,10)\n",
    "    time.sleep(wait_time)\n",
    "    df = df.append(Crawl(rejs[i]['id']),ignore_index=True)\n",
    "print(df.shape)\n",
    "df\n",
    "# 將資料存到桌面\n",
    "df.to_excel('dcard.xlsx')"
   ]
  },
  {
   "cell_type": "code",
   "execution_count": null,
   "metadata": {},
   "outputs": [],
   "source": [
    "# # 透過迴圈讀取10*100篇文章，若需讀取更多資料，可以將range(10)中的數值提升\n",
    "# for j in range(2):\n",
    "#     last = str(int(df.tail(1).ID)) # 找出爬出資料的最後一筆ID\n",
    "#     url = 'https://www.dcard.tw/_api/posts?popular=true&limit=100&before=' + last\n",
    "#     resq = requests.get(url)\n",
    "#     rejs = resq.json()\n",
    "#     for i in range(len(rejs)):\n",
    "#         wait_time = random.randomint(3,10)\n",
    "#         time.sleep(wait_time)\n",
    "#         df = df.append(Crawl(rejs[i]['id']), ignore_index=True)\n",
    "# print(df.shape)\n",
    "# df"
   ]
  },
  {
   "cell_type": "code",
   "execution_count": null,
   "metadata": {},
   "outputs": [],
   "source": [
    "# 將資料存到桌面\n",
    "# df.to_excel('dcard.xlsx')"
   ]
  }
 ],
 "metadata": {
  "kernelspec": {
   "display_name": "python-notes",
   "language": "python",
   "name": "python-notes"
  },
  "language_info": {
   "codemirror_mode": {
    "name": "ipython",
    "version": 3
   },
   "file_extension": ".py",
   "mimetype": "text/x-python",
   "name": "python",
   "nbconvert_exporter": "python",
   "pygments_lexer": "ipython3",
   "version": "3.7.0"
  },
  "toc": {
   "base_numbering": 1,
   "nav_menu": {},
   "number_sections": false,
   "sideBar": true,
   "skip_h1_title": false,
   "title_cell": "Table of Contents",
   "title_sidebar": "Contents",
   "toc_cell": false,
   "toc_position": {},
   "toc_section_display": true,
   "toc_window_display": false
  },
  "varInspector": {
   "cols": {
    "lenName": 16,
    "lenType": 16,
    "lenVar": 40
   },
   "kernels_config": {
    "python": {
     "delete_cmd_postfix": "",
     "delete_cmd_prefix": "del ",
     "library": "var_list.py",
     "varRefreshCmd": "print(var_dic_list())"
    },
    "r": {
     "delete_cmd_postfix": ") ",
     "delete_cmd_prefix": "rm(",
     "library": "var_list.r",
     "varRefreshCmd": "cat(var_dic_list()) "
    }
   },
   "types_to_exclude": [
    "module",
    "function",
    "builtin_function_or_method",
    "instance",
    "_Feature"
   ],
   "window_display": false
  }
 },
 "nbformat": 4,
 "nbformat_minor": 4
}
