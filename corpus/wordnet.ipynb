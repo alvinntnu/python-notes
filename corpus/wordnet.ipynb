{
 "cells": [
  {
   "cell_type": "markdown",
   "metadata": {},
   "source": [
    "# WordNet"
   ]
  },
  {
   "cell_type": "markdown",
   "metadata": {},
   "source": [
    "WordNet is a lexical database for the English language, where word senses are connected as a systematic lexical network."
   ]
  },
  {
   "cell_type": "markdown",
   "metadata": {},
   "source": [
    "## Import"
   ]
  },
  {
   "cell_type": "code",
   "execution_count": 1,
   "metadata": {},
   "outputs": [],
   "source": [
    "from nltk.corpus import wordnet"
   ]
  },
  {
   "cell_type": "markdown",
   "metadata": {},
   "source": [
    "## Synsets"
   ]
  },
  {
   "cell_type": "markdown",
   "metadata": {},
   "source": [
    "A `synset` has several attributes, which can be extracted via its defined methods:\n",
    "\n",
    "- `synset.name()`\n",
    "- `synset.definition()`\n",
    "- `synset.hypernyms()`\n",
    "- `synset.hyponyms()`\n",
    "- `synset.hypernym_path()`\n",
    "- `synset.pos()`"
   ]
  },
  {
   "cell_type": "code",
   "execution_count": 6,
   "metadata": {},
   "outputs": [
    {
     "name": "stdout",
     "output_type": "stream",
     "text": [
      "walk.v.01\n",
      "use one's feet to advance; advance by steps\n"
     ]
    }
   ],
   "source": [
    "syn = wordnet.synsets('walk', pos='v')[0]\n",
    "print(syn.name())\n",
    "print(syn.definition())\n"
   ]
  },
  {
   "cell_type": "code",
   "execution_count": 7,
   "metadata": {},
   "outputs": [
    {
     "data": {
      "text/plain": [
       "[\"Walk, don't run!\",\n",
       " 'We walked instead of driving',\n",
       " 'She walks with a slight limp',\n",
       " 'The patient cannot walk yet',\n",
       " 'Walk over to the cabinet']"
      ]
     },
     "execution_count": 7,
     "metadata": {},
     "output_type": "execute_result"
    }
   ],
   "source": [
    "syn.examples()"
   ]
  },
  {
   "cell_type": "code",
   "execution_count": 8,
   "metadata": {},
   "outputs": [
    {
     "data": {
      "text/plain": [
       "[Synset('travel.v.01')]"
      ]
     },
     "execution_count": 8,
     "metadata": {},
     "output_type": "execute_result"
    }
   ],
   "source": [
    "syn.hypernyms()"
   ]
  },
  {
   "cell_type": "code",
   "execution_count": 10,
   "metadata": {},
   "outputs": [
    {
     "data": {
      "text/plain": [
       "[Synset('accompany.v.02'),\n",
       " Synset('advance.v.01'),\n",
       " Synset('angle.v.01'),\n",
       " Synset('ascend.v.01'),\n",
       " Synset('automobile.v.01'),\n",
       " Synset('back.v.02'),\n",
       " Synset('bang.v.04'),\n",
       " Synset('beetle.v.02'),\n",
       " Synset('betake_oneself.v.01'),\n",
       " Synset('billow.v.02'),\n",
       " Synset('bounce.v.03'),\n",
       " Synset('breeze.v.02'),\n",
       " Synset('caravan.v.01'),\n",
       " Synset('career.v.01'),\n",
       " Synset('carry.v.36'),\n",
       " Synset('circle.v.01'),\n",
       " Synset('circle.v.02'),\n",
       " Synset('circuit.v.01'),\n",
       " Synset('circulate.v.07'),\n",
       " Synset('come.v.01'),\n",
       " Synset('come.v.11'),\n",
       " Synset('crawl.v.01'),\n",
       " Synset('cruise.v.02'),\n",
       " Synset('derail.v.02'),\n",
       " Synset('descend.v.01'),\n",
       " Synset('do.v.13'),\n",
       " Synset('drag.v.04'),\n",
       " Synset('draw.v.12'),\n",
       " Synset('drive.v.02'),\n",
       " Synset('drive.v.14'),\n",
       " Synset('ease.v.01'),\n",
       " Synset('fall.v.01'),\n",
       " Synset('fall.v.15'),\n",
       " Synset('ferry.v.03'),\n",
       " Synset('float.v.01'),\n",
       " Synset('float.v.02'),\n",
       " Synset('float.v.05'),\n",
       " Synset('flock.v.01'),\n",
       " Synset('fly.v.01'),\n",
       " Synset('fly.v.06'),\n",
       " Synset('follow.v.01'),\n",
       " Synset('follow.v.04'),\n",
       " Synset('forge.v.05'),\n",
       " Synset('get_around.v.04'),\n",
       " Synset('ghost.v.01'),\n",
       " Synset('glide.v.01'),\n",
       " Synset('go_around.v.02'),\n",
       " Synset('hiss.v.02'),\n",
       " Synset('hurtle.v.01'),\n",
       " Synset('island_hop.v.01'),\n",
       " Synset('lance.v.01'),\n",
       " Synset('lurch.v.03'),\n",
       " Synset('outflank.v.01'),\n",
       " Synset('pace.v.02'),\n",
       " Synset('pan.v.01'),\n",
       " Synset('pass.v.01'),\n",
       " Synset('pass_over.v.04'),\n",
       " Synset('play.v.09'),\n",
       " Synset('plow.v.03'),\n",
       " Synset('prance.v.02'),\n",
       " Synset('precede.v.04'),\n",
       " Synset('precess.v.01'),\n",
       " Synset('proceed.v.02'),\n",
       " Synset('propagate.v.02'),\n",
       " Synset('pursue.v.02'),\n",
       " Synset('push.v.09'),\n",
       " Synset('raft.v.02'),\n",
       " Synset('repair.v.03'),\n",
       " Synset('retreat.v.02'),\n",
       " Synset('retrograde.v.02'),\n",
       " Synset('return.v.01'),\n",
       " Synset('ride.v.01'),\n",
       " Synset('ride.v.04'),\n",
       " Synset('ride.v.10'),\n",
       " Synset('rise.v.01'),\n",
       " Synset('roll.v.12'),\n",
       " Synset('round.v.01'),\n",
       " Synset('run.v.11'),\n",
       " Synset('run.v.34'),\n",
       " Synset('rush.v.01'),\n",
       " Synset('scramble.v.01'),\n",
       " Synset('seek.v.04'),\n",
       " Synset('shuttle.v.01'),\n",
       " Synset('sift.v.01'),\n",
       " Synset('ski.v.01'),\n",
       " Synset('slice_into.v.01'),\n",
       " Synset('slither.v.01'),\n",
       " Synset('snowshoe.v.01'),\n",
       " Synset('speed.v.04'),\n",
       " Synset('steamer.v.01'),\n",
       " Synset('step.v.01'),\n",
       " Synset('step.v.02'),\n",
       " Synset('step.v.06'),\n",
       " Synset('stray.v.02'),\n",
       " Synset('swap.v.02'),\n",
       " Synset('swash.v.01'),\n",
       " Synset('swim.v.01'),\n",
       " Synset('swim.v.05'),\n",
       " Synset('swing.v.03'),\n",
       " Synset('taxi.v.01'),\n",
       " Synset('trail.v.03'),\n",
       " Synset('tram.v.01'),\n",
       " Synset('transfer.v.06'),\n",
       " Synset('travel.v.04'),\n",
       " Synset('travel.v.05'),\n",
       " Synset('travel.v.06'),\n",
       " Synset('travel_by.v.01'),\n",
       " Synset('travel_purposefully.v.01'),\n",
       " Synset('travel_rapidly.v.01'),\n",
       " Synset('trundle.v.01'),\n",
       " Synset('turn.v.06'),\n",
       " Synset('walk.v.01'),\n",
       " Synset('walk.v.10'),\n",
       " Synset('weave.v.04'),\n",
       " Synset('wend.v.01'),\n",
       " Synset('wheel.v.03'),\n",
       " Synset('whine.v.01'),\n",
       " Synset('whish.v.02'),\n",
       " Synset('whisk.v.02'),\n",
       " Synset('whistle.v.02'),\n",
       " Synset('withdraw.v.01'),\n",
       " Synset('zigzag.v.01'),\n",
       " Synset('zoom.v.02')]"
      ]
     },
     "execution_count": 10,
     "metadata": {},
     "output_type": "execute_result"
    }
   ],
   "source": [
    "syn.hypernyms()[0].hyponyms()"
   ]
  },
  {
   "cell_type": "code",
   "execution_count": 12,
   "metadata": {},
   "outputs": [
    {
     "data": {
      "text/plain": [
       "[[Synset('travel.v.01'), Synset('walk.v.01')]]"
      ]
     },
     "execution_count": 12,
     "metadata": {},
     "output_type": "execute_result"
    }
   ],
   "source": [
    "syn.hypernym_paths()"
   ]
  },
  {
   "cell_type": "code",
   "execution_count": 14,
   "metadata": {},
   "outputs": [
    {
     "data": {
      "text/plain": [
       "'v'"
      ]
     },
     "execution_count": 14,
     "metadata": {},
     "output_type": "execute_result"
    }
   ],
   "source": [
    "syn.pos()"
   ]
  },
  {
   "cell_type": "markdown",
   "metadata": {},
   "source": [
    "## Lemmas "
   ]
  },
  {
   "cell_type": "markdown",
   "metadata": {},
   "source": [
    "A `synset` may coreespond to more than one lemma."
   ]
  },
  {
   "cell_type": "code",
   "execution_count": 19,
   "metadata": {},
   "outputs": [
    {
     "name": "stdout",
     "output_type": "stream",
     "text": [
      "[Lemma('walk.n.01.walk'), Lemma('walk.n.01.walking')]\n"
     ]
    }
   ],
   "source": [
    "syn = wordnet.synsets('walk', pos='n')[0]\n",
    "print(syn.lemmas())"
   ]
  },
  {
   "cell_type": "markdown",
   "metadata": {},
   "source": [
    "Check the lemma names."
   ]
  },
  {
   "cell_type": "code",
   "execution_count": 23,
   "metadata": {},
   "outputs": [
    {
     "name": "stdout",
     "output_type": "stream",
     "text": [
      "walk\n",
      "walking\n"
     ]
    }
   ],
   "source": [
    "for l in syn.lemmas():\n",
    "    print(l.name())"
   ]
  },
  {
   "cell_type": "markdown",
   "metadata": {},
   "source": [
    "## Synonyms"
   ]
  },
  {
   "cell_type": "code",
   "execution_count": 29,
   "metadata": {
    "scrolled": true
   },
   "outputs": [
    {
     "name": "stdout",
     "output_type": "stream",
     "text": [
      "98\n",
      "52\n",
      "{'turn_tail', 'melt_down', 'guide', 'pass', 'be_given', 'run', 'prevail', 'melt', 'track_down', 'escape', 'feed', 'incline', 'hightail_it', 'function', 'head_for_the_hills', 'move', 'break_away', 'lean', 'ladder', 'bunk', 'go', 'hunt', 'play', 'consort', 'range', 'carry', 'ply', 'campaign', 'scarper', 'scat', 'black_market', 'bleed', 'run_away', 'race', 'course', 'lam', 'take_to_the_woods', 'work', 'fly_the_coop', 'tend', 'execute', 'hunt_down', 'persist', 'endure', 'unravel', 'lead', 'run_for', 'draw', 'extend', 'operate', 'flow', 'die_hard'}\n"
     ]
    }
   ],
   "source": [
    "synonyms = []\n",
    "for s in wordnet.synsets('run', pos='v'):\n",
    "    for l in s.lemmas():\n",
    "        synonyms.append(l.name())\n",
    "print(len(synonyms))\n",
    "print(len(set(synonyms)))\n",
    "\n",
    "print(set(synonyms))"
   ]
  },
  {
   "cell_type": "markdown",
   "metadata": {},
   "source": [
    "## Antonyms"
   ]
  },
  {
   "cell_type": "markdown",
   "metadata": {},
   "source": [
    "Some lemmas have antonyms.\n",
    "\n",
    "The following examples show how to find the antonyms of `good` for its two different senses, `good.n.02` and `good.a.01`."
   ]
  },
  {
   "cell_type": "code",
   "execution_count": 37,
   "metadata": {},
   "outputs": [
    {
     "data": {
      "text/plain": [
       "'moral excellence or admirableness'"
      ]
     },
     "execution_count": 37,
     "metadata": {},
     "output_type": "execute_result"
    }
   ],
   "source": [
    "syn1 = wordnet.synset('good.n.02')\n",
    "syn1.definition()"
   ]
  },
  {
   "cell_type": "code",
   "execution_count": 38,
   "metadata": {},
   "outputs": [],
   "source": [
    "ant1 = syn1.lemmas()[0].antonyms()[0]"
   ]
  },
  {
   "cell_type": "code",
   "execution_count": 39,
   "metadata": {},
   "outputs": [
    {
     "data": {
      "text/plain": [
       "'the quality of being morally wrong in principle or practice'"
      ]
     },
     "execution_count": 39,
     "metadata": {},
     "output_type": "execute_result"
    }
   ],
   "source": [
    "ant1.synset().definition()"
   ]
  },
  {
   "cell_type": "code",
   "execution_count": 54,
   "metadata": {},
   "outputs": [
    {
     "data": {
      "text/plain": [
       "['attempts to explain the origin of evil in the world']"
      ]
     },
     "execution_count": 54,
     "metadata": {},
     "output_type": "execute_result"
    }
   ],
   "source": [
    "ant1.synset().examples()"
   ]
  },
  {
   "cell_type": "code",
   "execution_count": 48,
   "metadata": {},
   "outputs": [
    {
     "data": {
      "text/plain": [
       "'having desirable or positive qualities especially those suitable for a thing specified'"
      ]
     },
     "execution_count": 48,
     "metadata": {},
     "output_type": "execute_result"
    }
   ],
   "source": [
    "syn2 = wordnet.synset('good.a.01')\n",
    "syn2.definition()"
   ]
  },
  {
   "cell_type": "code",
   "execution_count": 50,
   "metadata": {},
   "outputs": [],
   "source": [
    "ant2 = syn2.lemmas()[0].antonyms()[0]"
   ]
  },
  {
   "cell_type": "code",
   "execution_count": 51,
   "metadata": {},
   "outputs": [
    {
     "data": {
      "text/plain": [
       "'having undesirable or negative qualities'"
      ]
     },
     "execution_count": 51,
     "metadata": {},
     "output_type": "execute_result"
    }
   ],
   "source": [
    "ant2.synset().definition()"
   ]
  },
  {
   "cell_type": "code",
   "execution_count": 53,
   "metadata": {},
   "outputs": [
    {
     "data": {
      "text/plain": [
       "['a bad report card',\n",
       " 'his sloppy appearance made a bad impression',\n",
       " 'a bad little boy',\n",
       " 'clothes in bad shape',\n",
       " 'a bad cut',\n",
       " 'bad luck',\n",
       " 'the news was very bad',\n",
       " 'the reviews were bad',\n",
       " 'the pay is bad',\n",
       " 'it was a bad light for reading',\n",
       " 'the movie was a bad choice']"
      ]
     },
     "execution_count": 53,
     "metadata": {},
     "output_type": "execute_result"
    }
   ],
   "source": [
    "ant2.synset().examples()"
   ]
  },
  {
   "cell_type": "markdown",
   "metadata": {},
   "source": [
    "## Wordnet Synset Similarity"
   ]
  },
  {
   "cell_type": "markdown",
   "metadata": {},
   "source": [
    "With a semantic network, we can also compute the semantic similarty between two synsets based on their distance on the tree. \n",
    "\n",
    "In particular, this is possible cause all synsets are organized in a hypernym tree.\n",
    "\n",
    "The recommended distance metric is Wu-Palmer Similarity (i.e., `synset.wup_similarity()`)"
   ]
  },
  {
   "cell_type": "code",
   "execution_count": 62,
   "metadata": {},
   "outputs": [],
   "source": [
    "s1 = wordnet.synset('walk.v.01')\n",
    "s2 = wordnet.synset('run.v.01')\n",
    "s3 = wordnet.synset('toddle.v.01')"
   ]
  },
  {
   "cell_type": "code",
   "execution_count": 63,
   "metadata": {},
   "outputs": [
    {
     "data": {
      "text/plain": [
       "0.2857142857142857"
      ]
     },
     "execution_count": 63,
     "metadata": {},
     "output_type": "execute_result"
    }
   ],
   "source": [
    "s1.wup_similarity(s2)"
   ]
  },
  {
   "cell_type": "code",
   "execution_count": 64,
   "metadata": {},
   "outputs": [
    {
     "data": {
      "text/plain": [
       "0.8"
      ]
     },
     "execution_count": 64,
     "metadata": {},
     "output_type": "execute_result"
    }
   ],
   "source": [
    "s1.wup_similarity(s3)"
   ]
  },
  {
   "cell_type": "code",
   "execution_count": 65,
   "metadata": {},
   "outputs": [
    {
     "data": {
      "text/plain": [
       "[Synset('travel.v.01'), Synset('walk.v.01')]"
      ]
     },
     "execution_count": 65,
     "metadata": {},
     "output_type": "execute_result"
    }
   ],
   "source": [
    "s1.common_hypernyms(s3)"
   ]
  },
  {
   "cell_type": "code",
   "execution_count": 66,
   "metadata": {},
   "outputs": [
    {
     "data": {
      "text/plain": [
       "[Synset('travel.v.01')]"
      ]
     },
     "execution_count": 66,
     "metadata": {},
     "output_type": "execute_result"
    }
   ],
   "source": [
    "s1.common_hypernyms(s2)"
   ]
  },
  {
   "cell_type": "markdown",
   "metadata": {},
   "source": [
    "Two more metrics for lexical semilarity:\n",
    "\n",
    "- `synset.path_similarity()`: Path Similarity\n",
    "- `synset.lch_similarity()`: Leacock Chordorow Similarity"
   ]
  }
 ],
 "metadata": {
  "kernelspec": {
   "display_name": "python-notes",
   "language": "python",
   "name": "python-notes"
  },
  "language_info": {
   "codemirror_mode": {
    "name": "ipython",
    "version": 3
   },
   "file_extension": ".py",
   "mimetype": "text/x-python",
   "name": "python",
   "nbconvert_exporter": "python",
   "pygments_lexer": "ipython3",
   "version": "3.7.0"
  },
  "toc": {
   "base_numbering": 1,
   "nav_menu": {},
   "number_sections": false,
   "sideBar": true,
   "skip_h1_title": false,
   "title_cell": "Table of Contents",
   "title_sidebar": "Contents",
   "toc_cell": false,
   "toc_position": {},
   "toc_section_display": true,
   "toc_window_display": false
  },
  "varInspector": {
   "cols": {
    "lenName": 16,
    "lenType": 16,
    "lenVar": 40
   },
   "kernels_config": {
    "python": {
     "delete_cmd_postfix": "",
     "delete_cmd_prefix": "del ",
     "library": "var_list.py",
     "varRefreshCmd": "print(var_dic_list())"
    },
    "r": {
     "delete_cmd_postfix": ") ",
     "delete_cmd_prefix": "rm(",
     "library": "var_list.r",
     "varRefreshCmd": "cat(var_dic_list()) "
    }
   },
   "types_to_exclude": [
    "module",
    "function",
    "builtin_function_or_method",
    "instance",
    "_Feature"
   ],
   "window_display": false
  }
 },
 "nbformat": 4,
 "nbformat_minor": 4
}
