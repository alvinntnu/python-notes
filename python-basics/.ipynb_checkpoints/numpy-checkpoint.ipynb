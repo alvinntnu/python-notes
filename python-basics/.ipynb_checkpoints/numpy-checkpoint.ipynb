{
 "cells": [
  {
   "cell_type": "markdown",
   "metadata": {},
   "source": [
    "# Numpy\n"
   ]
  },
  {
   "cell_type": "markdown",
   "metadata": {},
   "source": [
    "## Why Numpy Array?"
   ]
  },
  {
   "cell_type": "markdown",
   "metadata": {},
   "source": [
    "- If compared to built-in data structures (e.g., `list`), numpy array is more efficient, faster in computation.\n"
   ]
  },
  {
   "cell_type": "code",
   "execution_count": 1,
   "metadata": {},
   "outputs": [
    {
     "name": "stdout",
     "output_type": "stream",
     "text": [
      "[1. 2. 3.]\n",
      "4\n",
      "12\n"
     ]
    }
   ],
   "source": [
    "## Basics\n",
    "import numpy as np\n",
    "## memory size and data type\n",
    "x = np.array([1,2,3], dtype=np.float32)\n",
    "print(x)\n",
    "print(x.itemsize) # four bytes for item\n",
    "print(x.nbytes)"
   ]
  },
  {
   "cell_type": "code",
   "execution_count": 2,
   "metadata": {},
   "outputs": [
    {
     "name": "stdout",
     "output_type": "stream",
     "text": [
      "1\n",
      "(3,)\n",
      "float32\n",
      "3\n"
     ]
    }
   ],
   "source": [
    "\n",
    "print(x.ndim) ## get num of dimensions\n",
    "print(x.shape) ## shape\n",
    "print(x.dtype) ## data type\n",
    "print(x.size) ## num of elements"
   ]
  },
  {
   "cell_type": "code",
   "execution_count": 3,
   "metadata": {},
   "outputs": [
    {
     "name": "stdout",
     "output_type": "stream",
     "text": [
      "CPU times: user 18 µs, sys: 5 µs, total: 23 µs\n",
      "Wall time: 26 µs\n"
     ]
    },
    {
     "data": {
      "text/plain": [
       "array([0.84147096, 0.9092974 , 0.14112   ], dtype=float32)"
      ]
     },
     "execution_count": 3,
     "metadata": {},
     "output_type": "execute_result"
    }
   ],
   "source": [
    "%%time\n",
    "## unary function\n",
    "np.sin(x)"
   ]
  },
  {
   "cell_type": "code",
   "execution_count": 4,
   "metadata": {},
   "outputs": [
    {
     "name": "stdout",
     "output_type": "stream",
     "text": [
      "CPU times: user 57 µs, sys: 4 µs, total: 61 µs\n",
      "Wall time: 65.1 µs\n"
     ]
    },
    {
     "data": {
      "text/plain": [
       "[0.8414709848078965, 0.9092974268256817, 0.1411200080598672]"
      ]
     },
     "execution_count": 4,
     "metadata": {},
     "output_type": "execute_result"
    }
   ],
   "source": [
    "%%time\n",
    "## math equivalent\n",
    "## we have to use list comprehension\n",
    "from math import sin\n",
    "[sin(i) for i in x]"
   ]
  },
  {
   "cell_type": "code",
   "execution_count": 5,
   "metadata": {
    "scrolled": true
   },
   "outputs": [
    {
     "name": "stdout",
     "output_type": "stream",
     "text": [
      "[[0 1 2 3 4 5 6 7 8 9]\n",
      " [0 1 2 3 4 5 6 7 8 9]]\n",
      "(2, 10)\n"
     ]
    }
   ],
   "source": [
    "## Multidimensional array\n",
    "## np supports at maximum 32-dimension array\n",
    "x = np.array([range(10),range(10)])\n",
    "print(x)\n",
    "print(x.shape)"
   ]
  },
  {
   "cell_type": "markdown",
   "metadata": {},
   "source": [
    "## Array Properties"
   ]
  },
  {
   "cell_type": "markdown",
   "metadata": {},
   "source": [
    "- `arr.size`: Return number of elements in the `arr`\n",
    "- `arr.shape`: Return dimensions of array (rows, columns)\n",
    "- `arr.dtype`: Return type of elements in `arr`\n",
    "- `arr.astype(dtype)`: Convert `arr` elements to type `dtype`\n",
    "- `arr.tolist()`: Convert `arr` into a list\n"
   ]
  },
  {
   "cell_type": "markdown",
   "metadata": {},
   "source": [
    "## Subsetting and Slicing"
   ]
  },
  {
   "cell_type": "markdown",
   "metadata": {},
   "source": [
    "- `arr[START:END:STEP]`: Slicing elements\n",
    "- `arr[4,4]`: Indexing specific element by (row, column)\n"
   ]
  },
  {
   "cell_type": "code",
   "execution_count": 6,
   "metadata": {},
   "outputs": [
    {
     "name": "stdout",
     "output_type": "stream",
     "text": [
      "[0 0]\n",
      "[1 1]\n",
      "[0 1 2 3 4 5 6 7 8 9]\n",
      "[[1 2 3 4 5 6 7 8 9]\n",
      " [1 2 3 4 5 6 7 8 9]]\n",
      "[[0 2 4 6 8]\n",
      " [0 2 4 6 8]]\n",
      "[[9 8 7 6 5 4 3 2 1 0]\n",
      " [9 8 7 6 5 4 3 2 1 0]]\n",
      "[[5 7]\n",
      " [5 7]]\n",
      "[[0 1 2 3 4 5 6 7 8 9]\n",
      " [0 1 2 3 4 5 6 7 8 9]]\n"
     ]
    }
   ],
   "source": [
    "## Subsetting\n",
    "print(x[:,0]) # first column\n",
    "print(x[:,1]) # second column\n",
    "print(x[0,:]) # first row\n",
    "\n",
    "## Subsetting sections of array\n",
    "print(x[:, 1:]) # columsn from first to the last\n",
    "print(x[:, ::2]) # all rows, every other columns\n",
    "print(x[:, ::-1]) # all rows, reversed columns\n",
    "print(x[:, 5:9:2]) # [, StartIndex:EndIndex:StepSize]\n",
    "print(x[::-1,:]) ## all columns, reversed rows"
   ]
  },
  {
   "cell_type": "code",
   "execution_count": 7,
   "metadata": {},
   "outputs": [
    {
     "name": "stdout",
     "output_type": "stream",
     "text": [
      "[[[1 2]\n",
      "  [3 4]]\n",
      "\n",
      " [[5 6]\n",
      "  [7 8]]]\n",
      "4\n",
      "[[[ 1  2]\n",
      "  [99 99]]\n",
      "\n",
      " [[ 5  6]\n",
      "  [99 99]]]\n"
     ]
    }
   ],
   "source": [
    "## Subsetting 3D Array\n",
    "## Principle: From outside in!\n",
    "x = np.array([[[1,2],[3,4]],[[5,6],[7,8]]])\n",
    "print(x)\n",
    "print(x[0,1,1]) # should be 4\n",
    "y = np.copy(x)\n",
    "y[:,1,:]=[99,99]\n",
    "print(y)"
   ]
  },
  {
   "cell_type": "code",
   "execution_count": 8,
   "metadata": {},
   "outputs": [
    {
     "name": "stdout",
     "output_type": "stream",
     "text": [
      "[[1. 1. 1.]\n",
      " [1. 1. 1.]]\n",
      "[[1. 1. 1.]\n",
      " [1. 1. 1.]]\n",
      "[[1. 1. 1.]\n",
      " [1. 2. 1.]]\n",
      "[[1. 1. 1.]\n",
      " [1. 2. 1.]]\n"
     ]
    }
   ],
   "source": [
    "## Pass-by-reference\n",
    "x = np.ones((2,3))\n",
    "y = x\n",
    "print(x)\n",
    "print(y)\n",
    "x[1,1]=2\n",
    "\n",
    "## Note that both x and y objects are altered\n",
    "print(x)\n",
    "print(y)"
   ]
  },
  {
   "cell_type": "markdown",
   "metadata": {},
   "source": [
    "## Creating Arrays"
   ]
  },
  {
   "cell_type": "markdown",
   "metadata": {},
   "source": [
    "- `np.array([1,2,3])`: 1-D array\n",
    "- `np.array([1,2,3],[4,5,6])`: 2-D array\n",
    "- `np.zeros()`\n",
    "- `np.ones((3,4))`: 3x4 aray with all values 1\n",
    "- `np.eye(5)`: 5x5 array of 0 with 1 on diagonal (identity matrix)\n",
    "- `np.linespace(0, 100, 6)`: Array of 6 evenly divided values from 0 to 100\n",
    "- `np.arrange(0, 10, 3)`: Array of values from 0 to less than 10 with step 3\n",
    "- `np.full((2,3), 8)`: 2x3 array with all values 8\n",
    "- `np.random.ran(6,7)*100`: 6x7 array of random floats between 0-100\n",
    "- `np.random.randint(5, size=(2,3))`: 2x3 array with random ints between 0-1\n",
    "\n",
    "```{note}\n",
    "In Python, the indices (esp. the closing indices) are often NOT inclusive.\n",
    "```"
   ]
  },
  {
   "cell_type": "code",
   "execution_count": 9,
   "metadata": {},
   "outputs": [
    {
     "name": "stdout",
     "output_type": "stream",
     "text": [
      "[[0. 0. 0.]\n",
      " [0. 0. 0.]]\n",
      "[[1. 1. 1.]\n",
      " [1. 1. 1.]]\n",
      "[[99 99 99]\n",
      " [99 99 99]]\n",
      "[[1 2 3]\n",
      " [4 5 6]]\n",
      "[[99 99 99]\n",
      " [99 99 99]]\n",
      "[[0.06702106 0.11582396 0.86849828]\n",
      " [0.66777362 0.46304232 0.72715271]\n",
      " [0.36493309 0.97211601 0.11689888]\n",
      " [0.93841395 0.75317111 0.673672  ]]\n",
      "[[  6   4   6]\n",
      " [  9  -2  -1]\n",
      " [-10   1   5]]\n",
      "[[1. 0. 0. 0. 0.]\n",
      " [0. 1. 0. 0. 0.]\n",
      " [0. 0. 1. 0. 0.]\n",
      " [0. 0. 0. 1. 0.]\n",
      " [0. 0. 0. 0. 1.]]\n",
      "[[1 2 3]\n",
      " [1 2 3]\n",
      " [1 2 3]\n",
      " [1 2 3]]\n",
      "[1 1 1 1 2 2 2 2 3 3 3 3]\n",
      "(1, 3)\n",
      "(3,)\n"
     ]
    }
   ],
   "source": [
    "## Initialize different types of Arrays\n",
    "\n",
    "print(np.zeros((2,3)))\n",
    "print(np.ones((2,3)))\n",
    "print(np.full((2,3),99)) # create an array with self-defined default\n",
    "x = np.array([[1,2,3],[4,5,6]])\n",
    "print(x)\n",
    "print(np.full_like(x,99)) # copy an array with default values\n",
    "\n",
    "print(np.random.rand(4,3)) # random decimal numbers\n",
    "print(np.random.randint(-10,10, size=(3,3))) ## random integer values\n",
    "print(np.identity(5))\n",
    "x1 = np.array([[1,2,3]])\n",
    "x2 = np.array([1,2,3])\n",
    "print(np.repeat(x1, 4, axis=0))\n",
    "print(np.repeat(x2, 4, axis=0))\n",
    "print(x1.shape)\n",
    "print(x2.shape)"
   ]
  },
  {
   "cell_type": "markdown",
   "metadata": {},
   "source": [
    ":::{admonition,important}\n",
    "If the indexing object for the array is a non-tuple sequence object, another Numpy array (of type integer or boolean), or a tuple with at least one sequence object or Numpy array, then indexing creates copies.\n",
    ":::"
   ]
  },
  {
   "cell_type": "code",
   "execution_count": 10,
   "metadata": {},
   "outputs": [
    {
     "name": "stdout",
     "output_type": "stream",
     "text": [
      "[[1. 1. 1.]\n",
      " [1. 1. 1.]]\n",
      "[[1. 1. 1.]\n",
      " [1. 1. 1.]]\n",
      "[[ 1.  1.  1.]\n",
      " [ 1. 99.  1.]]\n",
      "[[1. 1. 1.]\n",
      " [1. 1. 1.]]\n"
     ]
    }
   ],
   "source": [
    "## \n",
    "x = np.ones((2,3))\n",
    "y = x[:,[0,1,2]]\n",
    "print(x)\n",
    "print(y)\n",
    "x[1,1] = 99\n",
    "## Note that only x object is altered. y is stil the original!!!\n",
    "print(x)\n",
    "print(y)"
   ]
  },
  {
   "cell_type": "code",
   "execution_count": 11,
   "metadata": {},
   "outputs": [
    {
     "name": "stdout",
     "output_type": "stream",
     "text": [
      "[[1. 1. 1.]\n",
      " [1. 1. 1.]]\n",
      "[[1. 1. 1.]\n",
      " [1. 1. 1.]]\n",
      "[[ 1.  1.  1.]\n",
      " [ 1. 99.  1.]]\n",
      "[[1. 1. 1.]\n",
      " [1. 1. 1.]]\n"
     ]
    }
   ],
   "source": [
    "## To explicity create a copy of an array\n",
    "x = np.ones((2,3))\n",
    "y = x.copy()\n",
    "print(x)\n",
    "print(y)\n",
    "x[1,1]=99\n",
    "print(x)\n",
    "print(y)"
   ]
  },
  {
   "cell_type": "code",
   "execution_count": 12,
   "metadata": {},
   "outputs": [
    {
     "name": "stdout",
     "output_type": "stream",
     "text": [
      "[[0 1]\n",
      " [0 1]]\n",
      "[[0 0]\n",
      " [1 1]]\n"
     ]
    },
    {
     "data": {
      "text/plain": [
       "array([[0, 1],\n",
       "       [1, 2]])"
      ]
     },
     "execution_count": 12,
     "metadata": {},
     "output_type": "execute_result"
    }
   ],
   "source": [
    "## Numpy Broadcasting\n",
    "X, Y = np.meshgrid(np.arange(2), np.arange(2))\n",
    "print(X)\n",
    "print(Y)\n",
    "X + Y\n"
   ]
  },
  {
   "cell_type": "code",
   "execution_count": 13,
   "metadata": {},
   "outputs": [
    {
     "name": "stdout",
     "output_type": "stream",
     "text": [
      "[0 2]\n",
      "[[0 1]\n",
      " [1 2]]\n"
     ]
    }
   ],
   "source": [
    "x = np.array([0,1])\n",
    "y = np.array([0,1])\n",
    "print(x+y)\n",
    "print(x + y[:,np.newaxis]) # the np.newaxis (None) makes copies of y along the dimension\n"
   ]
  },
  {
   "cell_type": "markdown",
   "metadata": {},
   "source": [
    "## Adding/Removing Elements"
   ]
  },
  {
   "cell_type": "markdown",
   "metadata": {},
   "source": [
    "- `np.append(arr, values)`\n",
    "- `np.insert(arr, 2 values)`: Insert `values` into `arr` before index 2\n",
    "- `np.delete(arr, 3, axis=0)`: Delete row (`axis=0`) on index 3 of `arr`\n",
    "- `np.delete(arr, 3, axis=1)`: Delete column (`axis=1`) on index 3 of `arr`\n",
    "- `np.repeat()`"
   ]
  },
  {
   "cell_type": "code",
   "execution_count": 24,
   "metadata": {},
   "outputs": [
    {
     "data": {
      "text/plain": [
       "array([2, 2, 8, 8, 8, 8, 8])"
      ]
     },
     "execution_count": 24,
     "metadata": {},
     "output_type": "execute_result"
    }
   ],
   "source": [
    "np.repeat(3, 4)\n",
    "np.repeat([2,8],[2,5])"
   ]
  },
  {
   "cell_type": "markdown",
   "metadata": {},
   "source": [
    "## Concatenating/Slitting Arrays"
   ]
  },
  {
   "cell_type": "markdown",
   "metadata": {},
   "source": [
    "- `np.concatenate((arr1, arr2), axis=0)`: Row-bind arrays\n",
    "- `np.concatenate((arr1, arr2), axis=1)`: Column-bind arrays\n",
    "- `np.split(arr, 3)`: Split `arr` into 3 sub-arrays based on rows\n",
    "- `np.hsplit(arr, 3)`: Split `arr` into 3 euqal-sized sub-arrays based on the columns"
   ]
  },
  {
   "cell_type": "code",
   "execution_count": 14,
   "metadata": {},
   "outputs": [
    {
     "name": "stdout",
     "output_type": "stream",
     "text": [
      "[[90 72 35 23]\n",
      " [13 26 63 79]\n",
      " [89 85 73 89]]\n",
      "[array([[90, 72, 35, 23]]), array([[13, 26, 63, 79]]), array([[89, 85, 73, 89]])]\n",
      "[array([[90, 72],\n",
      "       [13, 26],\n",
      "       [89, 85]]), array([[35, 23],\n",
      "       [63, 79],\n",
      "       [73, 89]])]\n"
     ]
    }
   ],
   "source": [
    "x = np.random.randint(0,100,size=(3,4))\n",
    "print(x)\n",
    "print(np.split(x,3))\n",
    "print(np.hsplit(x,2))"
   ]
  },
  {
   "cell_type": "markdown",
   "metadata": {},
   "source": [
    "## Masked Array"
   ]
  },
  {
   "cell_type": "code",
   "execution_count": 15,
   "metadata": {},
   "outputs": [
    {
     "name": "stdout",
     "output_type": "stream",
     "text": [
      "[-- -- -- -- -- 5 6 7 8 9]\n",
      "(10,)\n",
      "[ 0  1  2  3  4  5 99  7  8  9]\n",
      "[-- -- -- -- -- 5 99 7 8 9]\n"
     ]
    }
   ],
   "source": [
    "## Masked Array\n",
    "from numpy import ma\n",
    "x = np.arange(10)\n",
    "y = ma.masked_array(x , x<5) # copy=False\n",
    "print(y)\n",
    "print(y.shape)\n",
    "x[6]=99\n",
    "print(x)\n",
    "print(y)\n",
    "## The above shows that masked_array does not force an implicit copy operation"
   ]
  },
  {
   "cell_type": "markdown",
   "metadata": {},
   "source": [
    "## Linear Algebra"
   ]
  },
  {
   "cell_type": "markdown",
   "metadata": {},
   "source": [
    "- `np.add(arr, 2)`\n",
    "- `np.substract(arr, 2)`\n",
    "- `np.multiply(arr, 2)`\n",
    "- `np.divide(arr, 2)`\n",
    "- `np.power(arr, 2)`\n",
    "- `np.array_equal(arr1, arr2)`\n",
    "- `np.sqrt()`\n",
    "- `np.sin()`\n",
    "- `np.log()`\n",
    "- `np.abs()`\n",
    "- `np.ceil()`: Round up to the nearest int\n",
    "- `np.floor()`\n",
    "- `np.round()`"
   ]
  },
  {
   "cell_type": "code",
   "execution_count": 16,
   "metadata": {},
   "outputs": [
    {
     "name": "stdout",
     "output_type": "stream",
     "text": [
      "[[1. 1. 1.]\n",
      " [1. 1. 1.]]\n",
      "[[2 2]\n",
      " [2 2]\n",
      " [2 2]]\n",
      "[[6. 6.]\n",
      " [6. 6.]]\n"
     ]
    },
    {
     "data": {
      "text/plain": [
       "1.0"
      ]
     },
     "execution_count": 16,
     "metadata": {},
     "output_type": "execute_result"
    }
   ],
   "source": [
    "## Linear Algebra\n",
    "\n",
    "## Matrix Multiplication\n",
    "a = np.ones((2,3))\n",
    "print(a)\n",
    "b = np.full((3,2),2)\n",
    "print(b)\n",
    "print(np.matmul(a,b))\n",
    "\n",
    "## Find the determinant\n",
    "x = np.identity(3)\n",
    "np.linalg.det(x)"
   ]
  },
  {
   "cell_type": "markdown",
   "metadata": {},
   "source": [
    ":::{admonition,note}\n",
    "Reference docs (https://docs.scipy.org/doc/numpy/reference/routines.linalg.html)\n",
    "- Determinant\n",
    "- Trace\n",
    "- Singular Vector Decomposition\n",
    "- Eigenvalues\n",
    "- Matrix Norm\n",
    "- Inverse\n",
    "-  Etc...\n",
    ":::"
   ]
  },
  {
   "cell_type": "markdown",
   "metadata": {},
   "source": [
    "## Statistics"
   ]
  },
  {
   "cell_type": "markdown",
   "metadata": {},
   "source": [
    "- `np.mean(arr)`\n",
    "- `arr.sum()`\n",
    "- `arr.max()`\n",
    "- `arr.max(axis=0)`: Return max values of the rows\n",
    "- `arr.max(axis=1)`: Return max values of the columns\n",
    "- `arr.var()`:\n",
    "- `arr.std()`\n",
    "- `arr.correcoef()`: Returns correlation coefficient of array\n",
    "- `np.where(arr==2)`: Return the index of which elements in `arr` is equal to 2\n",
    "- `np.argmin(arr)`: Return the index of the min value of `arr`\n",
    "- `np.argmax(arr)`: Return the index of the max value of `arr`"
   ]
  },
  {
   "cell_type": "code",
   "execution_count": 17,
   "metadata": {},
   "outputs": [
    {
     "name": "stdout",
     "output_type": "stream",
     "text": [
      "[[63 89 86]\n",
      " [96 63 92]]\n",
      "[63 63 86]\n",
      "[63 63]\n",
      "[159 152 178]\n"
     ]
    }
   ],
   "source": [
    "## Statistics\n",
    "x = np.random.randint(0,100, size=(2,3))\n",
    "print(x)\n",
    "print(np.min(x, axis=0)) # min of each column\n",
    "print(np.min(x, axis=1)) # min of each row\n",
    "## 2D-array, first axis is the column?\n",
    "print(np.sum(x, axis=0)) # sum of columsn"
   ]
  },
  {
   "cell_type": "code",
   "execution_count": 18,
   "metadata": {},
   "outputs": [
    {
     "name": "stdout",
     "output_type": "stream",
     "text": [
      "[[0 1 2 3]\n",
      " [0 1 2 3]]\n",
      "[[0 1]\n",
      " [2 3]\n",
      " [0 1]\n",
      " [2 3]]\n",
      "[3 3 3]\n",
      "[6 6 6]\n",
      "[[3 3 3]\n",
      " [6 6 6]]\n",
      "[3 3 3 6 6 6]\n"
     ]
    }
   ],
   "source": [
    "## Reorganizing Arrays\n",
    "x = np.array([range(4),range(4)])\n",
    "print(x)\n",
    "y = x.reshape((4,2))\n",
    "print(y)\n",
    "\n",
    "# Stacking arrays\n",
    "x = np.full((3,),3)\n",
    "y = np.full((3,),6)\n",
    "print(x)\n",
    "print(y)\n",
    "print(np.vstack([x,y]))\n",
    "print(np.hstack([x,y]))"
   ]
  },
  {
   "cell_type": "markdown",
   "metadata": {},
   "source": [
    "- Find which element has a specific value"
   ]
  },
  {
   "cell_type": "code",
   "execution_count": 19,
   "metadata": {},
   "outputs": [
    {
     "data": {
      "text/plain": [
       "(array([1, 6]),)"
      ]
     },
     "execution_count": 19,
     "metadata": {},
     "output_type": "execute_result"
    }
   ],
   "source": [
    "## Search Elements in array\n",
    "x = [1,2,3,4,0,1,2,3,4,11] \n",
    "x=np.array(x)\n",
    "np.where(x == 2)"
   ]
  },
  {
   "cell_type": "markdown",
   "metadata": {},
   "source": [
    "- Identify the first index of the element that is of the specific value"
   ]
  },
  {
   "cell_type": "code",
   "execution_count": 20,
   "metadata": {},
   "outputs": [
    {
     "data": {
      "text/plain": [
       "1"
      ]
     },
     "execution_count": 20,
     "metadata": {},
     "output_type": "execute_result"
    }
   ],
   "source": [
    "np.min(np.where(x==2))"
   ]
  },
  {
   "cell_type": "markdown",
   "metadata": {},
   "source": [
    "- Find the index of the MIN/MAX"
   ]
  },
  {
   "cell_type": "code",
   "execution_count": 21,
   "metadata": {},
   "outputs": [
    {
     "data": {
      "text/plain": [
       "9"
      ]
     },
     "execution_count": 21,
     "metadata": {},
     "output_type": "execute_result"
    }
   ],
   "source": [
    "np.argmin(x)\n",
    "np.argmax(x)"
   ]
  },
  {
   "cell_type": "markdown",
   "metadata": {},
   "source": [
    "## Load from File\n",
    "\n",
    "```\n",
    "filedata = np.genformat('', delimiter=',')\n",
    "filedata = filedata.astype('int32')\n",
    "print(filedata\n",
    "```\n"
   ]
  },
  {
   "cell_type": "markdown",
   "metadata": {},
   "source": [
    "## Requirements"
   ]
  },
  {
   "cell_type": "code",
   "execution_count": 22,
   "metadata": {
    "code_folding": [
     0
    ],
    "tags": [
     "remove-input"
    ]
   },
   "outputs": [
    {
     "name": "stdout",
     "output_type": "stream",
     "text": [
      "numpy==1.18.1\n"
     ]
    }
   ],
   "source": [
    "# %load ../get_modules.py\n",
    "import pkg_resources\n",
    "import types\n",
    "def get_imports():\n",
    "    for name, val in globals().items():\n",
    "        if isinstance(val, types.ModuleType):\n",
    "            # Split ensures you get root package, \n",
    "            # not just imported function\n",
    "            name = val.__name__.split(\".\")[0]\n",
    "\n",
    "        elif isinstance(val, type):\n",
    "            name = val.__module__.split(\".\")[0]\n",
    "\n",
    "        # Some packages are weird and have different\n",
    "        # imported names vs. system/pip names. Unfortunately,\n",
    "        # there is no systematic way to get pip names from\n",
    "        # a package's imported name. You'll have to add\n",
    "        # exceptions to this list manually!\n",
    "        poorly_named_packages = {\n",
    "            \"PIL\": \"Pillow\",\n",
    "            \"sklearn\": \"scikit-learn\"\n",
    "        }\n",
    "        if name in poorly_named_packages.keys():\n",
    "            name = poorly_named_packages[name]\n",
    "\n",
    "        yield name\n",
    "        \n",
    "        \n",
    "imports = list(set(get_imports()))\n",
    "\n",
    "# The only way I found to get the version of the root package\n",
    "# from only the name of the package is to cross-check the names \n",
    "# of installed packages vs. imported packages\n",
    "requirements = []\n",
    "for m in pkg_resources.working_set:\n",
    "    if m.project_name in imports and m.project_name!=\"pip\":\n",
    "        requirements.append((m.project_name, m.version))\n",
    "\n",
    "for r in requirements:\n",
    "    print(\"{}=={}\".format(*r))"
   ]
  },
  {
   "cell_type": "markdown",
   "metadata": {},
   "source": [
    "## References"
   ]
  }
 ],
 "metadata": {
  "kernelspec": {
   "display_name": "python-notes",
   "language": "python",
   "name": "python-notes"
  },
  "language_info": {
   "codemirror_mode": {
    "name": "ipython",
    "version": 3
   },
   "file_extension": ".py",
   "mimetype": "text/x-python",
   "name": "python",
   "nbconvert_exporter": "python",
   "pygments_lexer": "ipython3",
   "version": "3.6.12"
  },
  "toc": {
   "base_numbering": 1,
   "nav_menu": {},
   "number_sections": false,
   "sideBar": true,
   "skip_h1_title": true,
   "title_cell": "Table of Contents",
   "title_sidebar": "Contents",
   "toc_cell": false,
   "toc_position": {},
   "toc_section_display": true,
   "toc_window_display": true
  },
  "varInspector": {
   "cols": {
    "lenName": 16,
    "lenType": 16,
    "lenVar": 40
   },
   "kernels_config": {
    "python": {
     "delete_cmd_postfix": "",
     "delete_cmd_prefix": "del ",
     "library": "var_list.py",
     "varRefreshCmd": "print(var_dic_list())"
    },
    "r": {
     "delete_cmd_postfix": ") ",
     "delete_cmd_prefix": "rm(",
     "library": "var_list.r",
     "varRefreshCmd": "cat(var_dic_list()) "
    }
   },
   "types_to_exclude": [
    "module",
    "function",
    "builtin_function_or_method",
    "instance",
    "_Feature"
   ],
   "window_display": false
  }
 },
 "nbformat": 4,
 "nbformat_minor": 4
}
