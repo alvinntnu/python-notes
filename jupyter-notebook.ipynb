{
 "cells": [
  {
   "cell_type": "markdown",
   "metadata": {},
   "source": [
    "# Jupyer Notebook\n",
    "\n",
    "This section includes notes relate to `Jupyter Notebook` as well as `jupyter-book`.\n",
    "\n",
    "Recommended Readings:\n",
    "- [Jupyter Notebook Tips and Tricks](https://www.dataquest.io/blog/jupyter-notebook-tips-tricks-shortcuts/)\n",
    "- [Notebook to slides](https://medium.com/pyradise/jupyter-notebook-tricks-slideshows-a057a39c0a23)\n",
    "\n"
   ]
  },
  {
   "cell_type": "markdown",
   "metadata": {},
   "source": [
    "## Keyboard Shortcuts\n",
    "\n",
    "- `Cmd + Shift + P`: Look up key shortcuts\n",
    "- `Esc`: Get into command mode\n",
    "- `Enter`: Get into edit mode\n",
    "- While in command mode:\n",
    "    - `A`: insert a new cell above\n",
    "    - `B`: insert a new cell below\n",
    "    - `DD`: delete the current cell\n",
    "- `Shift + Tab`: Documentation (Docstring) of the object\n",
    "- `Ctrl + Shift + -`: Split cells\n",
    "- `Esc + F`: Find and replace\n",
    "- `Esc + O`: Toggle cell outputs\n",
    "- `Shift + UP/DOWN`: select multiple cells\n",
    "\n",
    "- `Shift + M`: Merge multiple cells\n",
    "- `Y`: Change cell to code\n",
    "- `M`: Change cell to markdown"
   ]
  },
  {
   "cell_type": "markdown",
   "metadata": {},
   "source": [
    "## Citation\n",
    "\n",
    "- In-text citation\n",
    "\n",
    "An example of in-text citation {cite}`deyne2016`.\n",
    "\n",
    "- Bibliography\n",
    "\n",
    "```{bibliography} book.bib\n",
    ":style: unsrt\n",
    "```"
   ]
  },
  {
   "cell_type": "markdown",
   "metadata": {},
   "source": [
    "## Build the book\n",
    "\n",
    "- Open `terminal` and set to the root of the book directory\n",
    "- Build the book\n",
    "```\n",
    "$ jupyter-book build .\n",
    "```\n",
    "\n",
    "- Push to GitHub\n",
    "```\n",
    "$ git add .\n",
    "$ git commit -m \"XXX\"\n",
    "$ git push origin master\n",
    "```\n",
    "\n",
    "- Update GitHub Pages html files\n",
    "```\n",
    "$ git-ghp -n -p -f _build/html\n",
    "```"
   ]
  },
  {
   "cell_type": "markdown",
   "metadata": {},
   "source": [
    "## Publish Jupyter-book on Github\n",
    "\n",
    "- Documentations\n",
    "    - [Official documentation](https://jupyterbook.org/publish/gh-pages.html)\n",
    "    - [Adding existing projects to Github repo](https://docs.github.com/en/github/importing-your-projects-to-github/adding-an-existing-project-to-github-using-the-command-line)\n",
    "- Important Steps\n",
    "    - Create an empty repo on Github\n",
    "    - Open Terminal.\n",
    "    - Change the current working directory to your local project.\n",
    "    - Initialize the local directory as a Git repository: `$ git init`\n",
    "    - Add commmits:\n",
    "    ```\n",
    "    $ git add .\n",
    "    # To unstage a file, use 'git reset HEAD YOUR-FILE'.\n",
    "    $ git commit -m \"First commit\"\n",
    "    ```\n",
    "\n",
    "    - Add the Github remote URL to the project local directory \n",
    "    ```\n",
    "    $ git remote add origin remote repository URL\n",
    "    # Sets the new remote\n",
    "    $ git remote -v\n",
    "    # Verifies the new remote URL\n",
    "    ```\n",
    "\n",
    "    - Push changes\n",
    "    ```\n",
    "    $ git push -u origin master\n",
    "    # Pushes the changes in your local repository up to the remote repository you specified as the origin\n",
    "    ```\n",
    "\n",
    "\n",
    "    "
   ]
  },
  {
   "cell_type": "markdown",
   "metadata": {},
   "source": [
    "##  Publish the book as Github Pages\n",
    "\n",
    "- Install `ghp-import`\n",
    "```\n",
    "$ pip install ghp-import\n",
    "```\n",
    "\n",
    "- Create a branch of the repo called gh-pages and pushes to GitHub\n",
    "```\n",
    "$ ghp-import -n -p -f _build/html\n",
    "```\n",
    "\n",
    "```{note}\n",
    "The `-n` refers to \"not Jekyll\"\n",
    "```"
   ]
  },
  {
   "cell_type": "markdown",
   "metadata": {},
   "source": [
    "## Change Notebook Themes\n",
    "\n",
    "- The following code runs in the terminal.\n",
    "```\n",
    "$ pip install jupyterthemes\n",
    "$ jt -l\n",
    "$ jt -t monokai\n",
    "```\n",
    "\n",
    "- List of theme names\n",
    "    - onedork\n",
    "    - grade3\n",
    "    - oceans16\n",
    "    - chesterish\n",
    "    - monokai\n",
    "    - solarizedl\n",
    "    - solarizedd\n",
    "- Reset to the original default theme:\n",
    "```\n",
    "$ jt -r\n",
    "```"
   ]
  },
  {
   "cell_type": "markdown",
   "metadata": {},
   "source": [
    "## Use a specific environment in notebook\n",
    "\n",
    "- First, create a new environment\n",
    "```\n",
    "! conda create --name ENV_NAME python=3.6\n",
    "```\n",
    "- Activate the new envrionment\n",
    "```\n",
    "$ source activate ENV_NAME\n",
    "```\n",
    "\n",
    "- install `ipykernal`\n",
    "```\n",
    "$ pip install --user ipykernel\n",
    "```\n",
    "\n",
    "- Add the environment kernal to Jupyter\n",
    "```\n",
    "$ python -m ipykernel install --user --name=myenv\n",
    "```\n",
    "\n",
    "- Check current environment kernels in Jupyter\n",
    "```\n",
    "$ jupyter kernelspec list\n",
    "```\n",
    "\n",
    "- Remove an environment from Jupyter kernel list\n",
    "```\n",
    "$ jupyter kernelspec uninstall myenv\n",
    "```\n",
    "\n",
    "```{note}\n",
    ":class: dropdown\n",
    "\n",
    "Sometimes, the pre-existing conda environment does not work properly. An easy solution is to create the environment again after you set up the jupyter notebook.\n",
    "\n",
    "```\n"
   ]
  },
  {
   "cell_type": "markdown",
   "metadata": {},
   "source": [
    "## IPython Magic Commands\n",
    "\n",
    "- Magic commands from IPythhon\n",
    "- Useful magic commands:\n",
    "    ```\n",
    "    # list all env variables\n",
    "    %evn\n",
    "    # set env variable\n",
    "    %env OMP_NUM_THREADS=4\n",
    "    ```\n",
    "- Run external python codes/files\n",
    "    ```\n",
    "    %run ./hello-world.py\n",
    "    ```\n",
    "- Insert code from an external script\n",
    "    ```\n",
    "    %load SCRIPT_NAME\n",
    "    ```\n",
    "- Time the process\n",
    "    ```\n",
    "    ## Time the single run of the code in the cell\n",
    "    %%time\n",
    "    ## Run a statement 100,000 times by default and provide the mean of the fastest three times\n",
    "    %timeit\n",
    "    ## Shoe how much time your program spent in each function\n",
    "    %prun STATEMENT_NAME\n",
    "    ```\n",
    "- Write files\n",
    "    ```\n",
    "    %%writefile FILENAME\n",
    "    ## save contents of the cell to an external file\n",
    "    %pycat\n",
    "    ## show the syntax highlighted contents of an external file\n",
    "    ```\n",
    "- Debugging `%pdb`\n",
    "- Render high-resolution graphs for Retina screens\n",
    "    ```\n",
    "    %config InlineBackend.figure_format = 'retina'\n",
    "    ```\n",
    "- Run shell commands\n",
    "    ```\n",
    "    !ls *.ipynb\n",
    "    ```\n",
    "- LaTex formula automatic rendering in markdown\n",
    "\n",
    "    $P(A \\mid B) = \\frac{P(B \\mid A) P(A)}{P(B)}$\n"
   ]
  },
  {
   "cell_type": "markdown",
   "metadata": {},
   "source": [
    "## Hide or Remove Content\n",
    "\n",
    "- See [documentation page](https://jupyterbook.org/interactive/hiding.html)"
   ]
  },
  {
   "cell_type": "markdown",
   "metadata": {},
   "source": [
    "## Running R  and Python in the Same Notebook\n",
    "\n",
    "- To do this, first we need to install relevant R packages to make the system default R kernel avaiable to the notebook\n",
    "    ```\n",
    "    # in the terminal\n",
    "    $ R\n",
    "    # in R\n",
    "    install.package(\"IRkernel\")\n",
    "    IRkernel::installspec()\n",
    "    ```\n",
    "- Then install the python module `pip install rpy2`\n",
    "- To use R and Python at the same time, the magic commend\n",
    "    ```\n",
    "    %load_ext rpy2.ipython\n",
    "    %R library(ggplot2)\n",
    "    ```\n",
    "- Mac users may run into issues when installing `rpy2`. Please see [this solution](https://blog.csdn.net/u010555997/article/details/104078809). General principles:\n",
    "    - Install Homebrew\n",
    "    - Install ggc with `brew install gcc`\n",
    "    - Install rpy2 using the updated gcc `env CC=/usr/local/Cellar/gcc/10.2.0/bin/gcc-10 pip install rpy2`"
   ]
  },
  {
   "cell_type": "code",
   "execution_count": 1,
   "metadata": {},
   "outputs": [
    {
     "name": "stdout",
     "output_type": "stream",
     "text": [
      "Hello Word!\n",
      "\n"
     ]
    }
   ],
   "source": [
    "%run hello-world.ipynb"
   ]
  },
  {
   "cell_type": "code",
   "execution_count": 7,
   "metadata": {},
   "outputs": [
    {
     "name": "stdout",
     "output_type": "stream",
     "text": [
      "CPU times: user 14.3 ms, sys: 16.7 ms, total: 30.9 ms\n",
      "Wall time: 11.6 s\n"
     ]
    }
   ],
   "source": [
    "%%time\n",
    "import time\n",
    "for _ in range(1000):\n",
    "    time.sleep(0.01)"
   ]
  },
  {
   "cell_type": "code",
   "execution_count": 8,
   "metadata": {},
   "outputs": [
    {
     "name": "stdout",
     "output_type": "stream",
     "text": [
      "9.65 µs ± 65.6 ns per loop (mean ± std. dev. of 7 runs, 100000 loops each)\n"
     ]
    }
   ],
   "source": [
    "import numpy\n",
    "%timeit numpy.random.normal(size=100)"
   ]
  },
  {
   "cell_type": "code",
   "execution_count": 1,
   "metadata": {},
   "outputs": [
    {
     "data": {
      "application/json": {
       "cell": {
        "!": "OSMagics",
        "HTML": "Other",
        "SVG": "Other",
        "bash": "Other",
        "capture": "ExecutionMagics",
        "debug": "ExecutionMagics",
        "file": "Other",
        "html": "DisplayMagics",
        "javascript": "DisplayMagics",
        "js": "DisplayMagics",
        "latex": "DisplayMagics",
        "markdown": "DisplayMagics",
        "perl": "Other",
        "prun": "ExecutionMagics",
        "pypy": "Other",
        "python": "Other",
        "python2": "Other",
        "python3": "Other",
        "ruby": "Other",
        "script": "ScriptMagics",
        "sh": "Other",
        "svg": "DisplayMagics",
        "sx": "OSMagics",
        "system": "OSMagics",
        "time": "ExecutionMagics",
        "timeit": "ExecutionMagics",
        "writefile": "OSMagics"
       },
       "line": {
        "alias": "OSMagics",
        "alias_magic": "BasicMagics",
        "autoawait": "AsyncMagics",
        "autocall": "AutoMagics",
        "automagic": "AutoMagics",
        "autosave": "KernelMagics",
        "bookmark": "OSMagics",
        "cat": "Other",
        "cd": "OSMagics",
        "clear": "KernelMagics",
        "colors": "BasicMagics",
        "conda": "PackagingMagics",
        "config": "ConfigMagics",
        "connect_info": "KernelMagics",
        "cp": "Other",
        "debug": "ExecutionMagics",
        "dhist": "OSMagics",
        "dirs": "OSMagics",
        "doctest_mode": "BasicMagics",
        "ed": "Other",
        "edit": "KernelMagics",
        "env": "OSMagics",
        "gui": "BasicMagics",
        "hist": "Other",
        "history": "HistoryMagics",
        "killbgscripts": "ScriptMagics",
        "ldir": "Other",
        "less": "KernelMagics",
        "lf": "Other",
        "lk": "Other",
        "ll": "Other",
        "load": "CodeMagics",
        "load_ext": "ExtensionMagics",
        "loadpy": "CodeMagics",
        "logoff": "LoggingMagics",
        "logon": "LoggingMagics",
        "logstart": "LoggingMagics",
        "logstate": "LoggingMagics",
        "logstop": "LoggingMagics",
        "ls": "Other",
        "lsmagic": "BasicMagics",
        "lx": "Other",
        "macro": "ExecutionMagics",
        "magic": "BasicMagics",
        "man": "KernelMagics",
        "matplotlib": "PylabMagics",
        "mkdir": "Other",
        "more": "KernelMagics",
        "mv": "Other",
        "notebook": "BasicMagics",
        "page": "BasicMagics",
        "pastebin": "CodeMagics",
        "pdb": "ExecutionMagics",
        "pdef": "NamespaceMagics",
        "pdoc": "NamespaceMagics",
        "pfile": "NamespaceMagics",
        "pinfo": "NamespaceMagics",
        "pinfo2": "NamespaceMagics",
        "pip": "PackagingMagics",
        "popd": "OSMagics",
        "pprint": "BasicMagics",
        "precision": "BasicMagics",
        "prun": "ExecutionMagics",
        "psearch": "NamespaceMagics",
        "psource": "NamespaceMagics",
        "pushd": "OSMagics",
        "pwd": "OSMagics",
        "pycat": "OSMagics",
        "pylab": "PylabMagics",
        "qtconsole": "KernelMagics",
        "quickref": "BasicMagics",
        "recall": "HistoryMagics",
        "rehashx": "OSMagics",
        "reload_ext": "ExtensionMagics",
        "rep": "Other",
        "rerun": "HistoryMagics",
        "reset": "NamespaceMagics",
        "reset_selective": "NamespaceMagics",
        "rm": "Other",
        "rmdir": "Other",
        "run": "ExecutionMagics",
        "save": "CodeMagics",
        "sc": "OSMagics",
        "set_env": "OSMagics",
        "store": "StoreMagics",
        "sx": "OSMagics",
        "system": "OSMagics",
        "tb": "ExecutionMagics",
        "time": "ExecutionMagics",
        "timeit": "ExecutionMagics",
        "unalias": "OSMagics",
        "unload_ext": "ExtensionMagics",
        "who": "NamespaceMagics",
        "who_ls": "NamespaceMagics",
        "whos": "NamespaceMagics",
        "xdel": "NamespaceMagics",
        "xmode": "BasicMagics"
       }
      },
      "text/plain": [
       "Available line magics:\n",
       "%alias  %alias_magic  %autoawait  %autocall  %automagic  %autosave  %bookmark  %cat  %cd  %clear  %colors  %conda  %config  %connect_info  %cp  %debug  %dhist  %dirs  %doctest_mode  %ed  %edit  %env  %gui  %hist  %history  %killbgscripts  %ldir  %less  %lf  %lk  %ll  %load  %load_ext  %loadpy  %logoff  %logon  %logstart  %logstate  %logstop  %ls  %lsmagic  %lx  %macro  %magic  %man  %matplotlib  %mkdir  %more  %mv  %notebook  %page  %pastebin  %pdb  %pdef  %pdoc  %pfile  %pinfo  %pinfo2  %pip  %popd  %pprint  %precision  %prun  %psearch  %psource  %pushd  %pwd  %pycat  %pylab  %qtconsole  %quickref  %recall  %rehashx  %reload_ext  %rep  %rerun  %reset  %reset_selective  %rm  %rmdir  %run  %save  %sc  %set_env  %store  %sx  %system  %tb  %time  %timeit  %unalias  %unload_ext  %who  %who_ls  %whos  %xdel  %xmode\n",
       "\n",
       "Available cell magics:\n",
       "%%!  %%HTML  %%SVG  %%bash  %%capture  %%debug  %%file  %%html  %%javascript  %%js  %%latex  %%markdown  %%perl  %%prun  %%pypy  %%python  %%python2  %%python3  %%ruby  %%script  %%sh  %%svg  %%sx  %%system  %%time  %%timeit  %%writefile\n",
       "\n",
       "Automagic is ON, % prefix IS NOT needed for line magics."
      ]
     },
     "execution_count": 1,
     "metadata": {},
     "output_type": "execute_result"
    }
   ],
   "source": [
    "# List all Magic commands\n",
    "%lsmagic"
   ]
  },
  {
   "cell_type": "code",
   "execution_count": 9,
   "metadata": {},
   "outputs": [
    {
     "name": "stdout",
     "output_type": "stream",
     "text": [
      "data-structure.ipynb    input-output.ipynb      references.ipynb\r\n",
      "dplyr.ipynb             jupyter-notebook.ipynb  temp-notes.ipynb\r\n",
      "ggplot.ipynb            productive-tech.ipynb\r\n",
      "hello-world.ipynb       program-structure.ipynb\r\n"
     ]
    }
   ],
   "source": [
    "!ls *.ipynb"
   ]
  },
  {
   "cell_type": "code",
   "execution_count": 1,
   "metadata": {},
   "outputs": [],
   "source": [
    "## Run R code chunks in notebook with python codes\n",
    "%load_ext rpy2.ipython"
   ]
  },
  {
   "cell_type": "code",
   "execution_count": 2,
   "metadata": {},
   "outputs": [
    {
     "name": "stderr",
     "output_type": "stream",
     "text": [
      "R[write to console]: \n",
      "Attaching package: ‘dplyr’\n",
      "\n",
      "\n",
      "R[write to console]: The following objects are masked from ‘package:stats’:\n",
      "\n",
      "    filter, lag\n",
      "\n",
      "\n",
      "R[write to console]: The following objects are masked from ‘package:base’:\n",
      "\n",
      "    intersect, setdiff, setequal, union\n",
      "\n",
      "\n",
      "R[write to console]: Keep up to date with changes at https://www.tidyverse.org/blog/\n",
      "\n"
     ]
    },
    {
     "data": {
      "image/png": "[encoded data removed]"
     },
     "metadata": {},
     "output_type": "display_data"
    }
   ],
   "source": [
    "%%R \n",
    "library(dplyr)\n",
    "library(ggplot2)\n",
    "data.frame(x = seq(1,100), y = seq(seq(1,100))) %>%\n",
    "ggplot(aes(x,y)) + geom_point()"
   ]
  }
 ],
 "metadata": {
  "kernelspec": {
   "display_name": "Python 3",
   "language": "python",
   "name": "python3"
  },
  "language_info": {
   "codemirror_mode": {
    "name": "ipython",
    "version": 3
   },
   "file_extension": ".py",
   "mimetype": "text/x-python",
   "name": "python",
   "nbconvert_exporter": "python",
   "pygments_lexer": "ipython3",
   "version": "3.7.6"
  }
 },
 "nbformat": 4,
 "nbformat_minor": 4
}
