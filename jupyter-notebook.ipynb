{
 "cells": [
  {
   "cell_type": "markdown",
   "metadata": {},
   "source": [
    "# Jupyer Notebook\n",
    "\n",
    "This section includes notes relate to Jupyter Notebook (Book).\n"
   ]
  },
  {
   "cell_type": "markdown",
   "metadata": {},
   "source": [
    "## Publish Jupyter-book on Github\n",
    "\n",
    "- Documentations\n",
    "    - [Official documentation](https://jupyterbook.org/publish/gh-pages.html)\n",
    "    - [Adding existing projects to Github repo](https://docs.github.com/en/github/importing-your-projects-to-github/adding-an-existing-project-to-github-using-the-command-line)\n",
    "- Important Steps\n",
    "    - Create an empty repo on Github\n",
    "    - Open Terminal.\n",
    "    - Change the current working directory to your local project.\n",
    "    - Initialize the local directory as a Git repository: `$ git init`\n",
    "    - Add commmits:\n",
    "```\n",
    "$ git add .\n",
    "# To unstage a file, use 'git reset HEAD YOUR-FILE'.\n",
    "$ git commit -m \"First commit\"\n",
    "```\n",
    "    - Add the Github remote URL to the project local directory \n",
    "```\n",
    "$ git remote add origin remote repository URL\n",
    "# Sets the new remote\n",
    "$ git remote -v\n",
    "# Verifies the new remote URL\n",
    "```\n",
    "\n",
    "    - Push changes\n",
    "    ```\n",
    "    $ git push -u origin master\n",
    "# Pushes the changes in your local repository up to the remote repository you specified as the origin\n",
    "    ```\n",
    "\n",
    "\n",
    "    "
   ]
  },
  {
   "cell_type": "markdown",
   "metadata": {},
   "source": [
    "##  Publish the book as Github Pages\n",
    "\n",
    "- Install `ghp-import`\n",
    "```\n",
    "$ pip install ghp-import\n",
    "```\n",
    "\n",
    "- Create a branch of the repo called gh-pages and pushes to GitHub\n",
    "```\n",
    "$ ghp-import -n -p -f _build/html\n",
    "```\n",
    "\n",
    "```{note}\n",
    "The `-n` refers to \"not Jekyll\"\n",
    "```"
   ]
  },
  {
   "cell_type": "markdown",
   "metadata": {},
   "source": [
    "## Change Notebook Themes\n",
    "\n",
    "The following code runs in the terminal.\n",
    "\n",
    "```\n",
    "$ pip install jupyterthemes\n",
    "$ jt -l\n",
    "$ jt -t monokai\n",
    "```"
   ]
  },
  {
   "cell_type": "markdown",
   "metadata": {},
   "source": [
    "## Use a specific environment in notebook\n",
    "\n",
    "- First, create a new environment\n",
    "- Activate the new envrionment\n",
    "```\n",
    "$ source activate ENV_NAME\n",
    "```\n",
    "\n",
    "- install `ipykernal`\n",
    "```\n",
    "$ pip install --user ipykernel\n",
    "```\n",
    "\n",
    "- Add the environment kernal to Jupyter\n",
    "```\n",
    "$ python -m ipykernel install --user --name=myenv\n",
    "```\n",
    "\n",
    "- Check current environment kernels in Jupyter\n",
    "```\n",
    "$ jupyter kernelspec list\n",
    "```\n",
    "\n",
    "- Remove an environment from Jupyter kernel list\n",
    "```\n",
    "$ jupyter kernelspec uninstall myenv\n",
    "```"
   ]
  }
 ],
 "metadata": {
  "kernelspec": {
   "display_name": "Python 3",
   "language": "python",
   "name": "python3"
  },
  "language_info": {
   "codemirror_mode": {
    "name": "ipython",
    "version": 3
   },
   "file_extension": ".py",
   "mimetype": "text/x-python",
   "name": "python",
   "nbconvert_exporter": "python",
   "pygments_lexer": "ipython3",
   "version": "3.7.6"
  }
 },
 "nbformat": 4,
 "nbformat_minor": 4
}
