{
 "cells": [
  {
   "cell_type": "markdown",
   "metadata": {},
   "source": [
    "# Python Fundamentals"
   ]
  },
  {
   "cell_type": "markdown",
   "metadata": {},
   "source": [
    "- Fundamentals\n",
    "- Data Structure\n",
    "- Program Structure\n",
    "- Input and Output\n",
    "- Classes and Objects"
   ]
  },
  {
   "cell_type": "code",
   "execution_count": 5,
   "metadata": {},
   "outputs": [
    {
     "name": "stdout",
     "output_type": "stream",
     "text": [
      "a\t \n",
      "Variable   Type     Data/Info\n",
      "-----------------------------\n",
      "a          range    range(0, 10000)\n"
     ]
    },
    {
     "data": {
      "text/plain": [
       "{'__name__': '__main__',\n",
       " '__doc__': 'Automatically created module for IPython interactive environment',\n",
       " '__package__': None,\n",
       " '__loader__': None,\n",
       " '__spec__': None,\n",
       " '__builtin__': <module 'builtins' (built-in)>,\n",
       " '__builtins__': <module 'builtins' (built-in)>,\n",
       " '_ih': ['',\n",
       "  \"#import sys\\na = range(10000)\\n#%memusage a\\nget_ipython().run_line_magic('who', '')\\nget_ipython().run_line_magic('whos', '')\",\n",
       "  \"#import sys\\na = range(10000)\\n#%memusage a\\nget_ipython().run_line_magic('who', '')\\nget_ipython().run_line_magic('whos', '')\",\n",
       "  \"#import sys\\na = range(10000)\\n#%memusage a\\nget_ipython().run_line_magic('who', '')\\nget_ipython().run_line_magic('whos', '')\\nglobal()\",\n",
       "  \"#import sys\\na = range(10000)\\n#%memusage a\\nget_ipython().run_line_magic('who', '')\\nget_ipython().run_line_magic('whos', '')\\nglobals()\",\n",
       "  \"#import sys\\na = range(10000)\\n#%memusage a\\nget_ipython().run_line_magic('who', '')\\nget_ipython().run_line_magic('whos', '')\\nglobals()\\nlocals()\"],\n",
       " '_oh': {4: {...}},\n",
       " '_dh': ['/Users/Alvin/Dropbox/Python/PythonTricksTheBook/PythonTricksJupyterBook'],\n",
       " 'In': ['',\n",
       "  \"#import sys\\na = range(10000)\\n#%memusage a\\nget_ipython().run_line_magic('who', '')\\nget_ipython().run_line_magic('whos', '')\",\n",
       "  \"#import sys\\na = range(10000)\\n#%memusage a\\nget_ipython().run_line_magic('who', '')\\nget_ipython().run_line_magic('whos', '')\",\n",
       "  \"#import sys\\na = range(10000)\\n#%memusage a\\nget_ipython().run_line_magic('who', '')\\nget_ipython().run_line_magic('whos', '')\\nglobal()\",\n",
       "  \"#import sys\\na = range(10000)\\n#%memusage a\\nget_ipython().run_line_magic('who', '')\\nget_ipython().run_line_magic('whos', '')\\nglobals()\",\n",
       "  \"#import sys\\na = range(10000)\\n#%memusage a\\nget_ipython().run_line_magic('who', '')\\nget_ipython().run_line_magic('whos', '')\\nglobals()\\nlocals()\"],\n",
       " 'Out': {4: {...}},\n",
       " 'get_ipython': <bound method InteractiveShell.get_ipython of <ipykernel.zmqshell.ZMQInteractiveShell object at 0x7ff579662588>>,\n",
       " 'exit': <IPython.core.autocall.ZMQExitAutocall at 0x7ff57969aa20>,\n",
       " 'quit': <IPython.core.autocall.ZMQExitAutocall at 0x7ff57969aa20>,\n",
       " '_': {...},\n",
       " '__': '',\n",
       " '___': '',\n",
       " '_i': '#import sys\\na = range(10000)\\n#%memusage a\\n%who\\n%whos\\nglobals()',\n",
       " '_ii': '#import sys\\na = range(10000)\\n#%memusage a\\n%who\\n%whos\\nglobal()',\n",
       " '_iii': '#import sys\\na = range(10000)\\n#%memusage a\\n%who\\n%whos',\n",
       " '_i1': '#import sys\\na = range(10000)\\n#%memusage a\\n%who\\n%whos',\n",
       " 'a': range(0, 10000),\n",
       " '_i2': '#import sys\\na = range(10000)\\n#%memusage a\\n%who\\n%whos',\n",
       " '_i3': '#import sys\\na = range(10000)\\n#%memusage a\\n%who\\n%whos\\nglobal()',\n",
       " '_i4': '#import sys\\na = range(10000)\\n#%memusage a\\n%who\\n%whos\\nglobals()',\n",
       " '_4': {...},\n",
       " '_i5': '#import sys\\na = range(10000)\\n#%memusage a\\n%who\\n%whos\\nglobals()\\nlocals()'}"
      ]
     },
     "execution_count": 5,
     "metadata": {},
     "output_type": "execute_result"
    }
   ],
   "source": [
    "## How to check current object sizes in Notebook\n",
    "#import sys\n",
    "a = range(10000)\n",
    "#%memusage a\n",
    "%who\n",
    "%whos\n",
    "globals()\n",
    "locals()"
   ]
  }
 ],
 "metadata": {
  "kernelspec": {
   "display_name": "r-tensorlfow",
   "language": "python",
   "name": "r-tensorlfow"
  },
  "language_info": {
   "codemirror_mode": {
    "name": "ipython",
    "version": 3
   },
   "file_extension": ".py",
   "mimetype": "text/x-python",
   "name": "python",
   "nbconvert_exporter": "python",
   "pygments_lexer": "ipython3",
   "version": "3.6.10"
  },
  "widgets": {
   "application/vnd.jupyter.widget-state+json": {
    "state": {},
    "version_major": 2,
    "version_minor": 0
   }
  }
 },
 "nbformat": 4,
 "nbformat_minor": 4
}
