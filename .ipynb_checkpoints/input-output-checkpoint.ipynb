{
 "cells": [
  {
   "cell_type": "markdown",
   "metadata": {},
   "source": [
    "# Input and Output\n"
   ]
  },
  {
   "cell_type": "markdown",
   "metadata": {},
   "source": [
    "## Displaying Outputs\n",
    "\n",
    "```\n",
    "print(..., end = '\\n')\n",
    "print(..., sep = '***')\n",
    "print('...' % (x, x, x))\n",
    "```\n",
    "\n",
    "## Getting User Input\n",
    "\n",
    "```\n",
    "input_text = input('Enter your name:')\n",
    "```"
   ]
  },
  {
   "cell_type": "markdown",
   "metadata": {},
   "source": [
    "## Reading Files\n",
    "\n",
    "- Open a file \n",
    "\n",
    "```\n",
    "fname = 'myfile.txt'\n",
    "fp = open(fname, 'r')\n",
    "fp = open(fname, 'w')\n",
    "fp = open(fname, 'a')\n",
    "\n",
    "fp.close()\n",
    "```\n",
    "\n",
    "- Read a text file (the entire contents of the file as one string\n",
    "\n",
    "```\n",
    "fp = open(fname, 'r')\n",
    "text = fp.read()\n",
    "lines = text.split('\\n')\n",
    "fp.close()\n",
    "```\n",
    "\n",
    "- Read a text file line by line\n",
    "\n",
    "```\n",
    "fp = open(fname, 'r')\n",
    "lines = fp.readlines()\n",
    "fp.close()\n",
    "```\n",
    "\n",
    "- Read lines and remove line breaks at the same time\n",
    "\n",
    "```\n",
    "lines = line.strip() for line in fp.readlines()\n",
    "```\n",
    "\n",
    "- Process the file line by line\n",
    "\n",
    "```\n",
    "fp = open(fname, 'r')\n",
    "for eachLine in fp:\n",
    "    # prceoss each line in turn\n",
    "    \n",
    "    print(eachLine, end=' ')\n",
    " fp.close()\n",
    "```\n"
   ]
  },
  {
   "cell_type": "code",
   "execution_count": 5,
   "metadata": {},
   "outputs": [
    {
     "name": "stdout",
     "output_type": "stream",
     "text": [
      "['hello world!\\n', 'This is my first sentence.']\n"
     ]
    }
   ],
   "source": [
    "with open('temp.txt', 'w') as f:\n",
    "    f.write('hello world!\\n' + 'This is my first sentence.' )\n",
    "    \n",
    "with open('temp.txt', 'r') as f:\n",
    "    print([l for l in f.readlines()])\n",
    "    \n",
    "!rm temp.txt"
   ]
  },
  {
   "cell_type": "markdown",
   "metadata": {},
   "source": [
    "## Writing Files\n",
    "\n",
    "- prefered way:\n",
    "```\n",
    "with open('FILENAME', 'w') as f:\n",
    "    f.write('hello world!')\n",
    "```"
   ]
  },
  {
   "cell_type": "code",
   "execution_count": 2,
   "metadata": {},
   "outputs": [
    {
     "name": "stdout",
     "output_type": "stream",
     "text": [
      "Enter text (end with blank):This is the first line \n",
      "Enter text (end with blank):This is the second line \n",
      "Enter text (end with blank):\n"
     ]
    }
   ],
   "source": [
    "fp = open('temp.txt', 'w')\n",
    "while True:\n",
    "    text = input('Enter text (end with blank):')\n",
    "    if len(text)==0:\n",
    "        break\n",
    "    else:\n",
    "        fp.write(text+'\\n')\n",
    "fp.close()"
   ]
  },
  {
   "cell_type": "code",
   "execution_count": 6,
   "metadata": {},
   "outputs": [
    {
     "name": "stdout",
     "output_type": "stream",
     "text": [
      "['This is the first line \\n', 'This is the second line \\n']\n"
     ]
    }
   ],
   "source": [
    "fp2 = open('temp.txt','r')\n",
    "print([line for line in fp2])"
   ]
  },
  {
   "cell_type": "markdown",
   "metadata": {},
   "source": [
    ":::{admonition, tip}\n",
    "To access files at specific positions:\n",
    "```\n",
    "file.seek()\n",
    "file.read()\n",
    "file.tell()\n",
    "```\n",
    "\n",
    ":::"
   ]
  },
  {
   "cell_type": "markdown",
   "metadata": {},
   "source": [
    "## File/Directory Operation\n",
    "\n",
    "```\n",
    "import os\n",
    "os.unlink()\n",
    "os.rename()\n",
    "os.chdir()\n",
    "os.listdir()\n",
    "os.getwd()\n",
    "os.mkdir()\n",
    "os.rmdir\n",
    "os.path.exists()\n",
    "os.path.isfile()\n",
    "os.path.isdir()\n",
    "```"
   ]
  },
  {
   "cell_type": "markdown",
   "metadata": {},
   "source": [
    "## Command-Line Arguments\n",
    "\n",
    "```\n",
    "import sys\n",
    "\n",
    "sys.argv \n",
    "\n",
    "```"
   ]
  }
 ],
 "metadata": {
  "kernelspec": {
   "display_name": "Python 3",
   "language": "python",
   "name": "python3"
  },
  "language_info": {
   "codemirror_mode": {
    "name": "ipython",
    "version": 3
   },
   "file_extension": ".py",
   "mimetype": "text/x-python",
   "name": "python",
   "nbconvert_exporter": "python",
   "pygments_lexer": "ipython3",
   "version": "3.7.6"
  }
 },
 "nbformat": 4,
 "nbformat_minor": 4
}
