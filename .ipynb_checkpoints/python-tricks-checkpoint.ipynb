{
 "cells": [
  {
   "cell_type": "markdown",
   "metadata": {},
   "source": [
    "# Python Tricks\n",
    "\n",
    "- This notebook includes useful Python tricks provided by [Dan Bader](https://dbader.org/).\n",
    "- All the tricks are cumulated via different sources as well as many trial-and-errors. Not very organized."
   ]
  },
  {
   "cell_type": "markdown",
   "metadata": {},
   "source": [
    "### Sorting iterable objects\n",
    "\n",
    "----\n"
   ]
  },
  {
   "cell_type": "code",
   "execution_count": 5,
   "metadata": {},
   "outputs": [
    {
     "data": {
      "text/plain": [
       "[('d', 1), ('c', 2), ('b', 3), ('a', 4)]"
      ]
     },
     "execution_count": 5,
     "metadata": {},
     "output_type": "execute_result"
    }
   ],
   "source": [
    "# How to sort a Python dict by value\n",
    "# (== get a representation sorted by value)\n",
    "xs = {'a': 4, 'b': 3, 'c': 2, 'd': 1}\n",
    "sorted(xs.items(), key=lambda x: x[1])"
   ]
  },
  {
   "cell_type": "code",
   "execution_count": 13,
   "metadata": {},
   "outputs": [
    {
     "data": {
      "text/plain": [
       "[('a', 4), ('b', 3), ('c', 2), ('d', 1)]"
      ]
     },
     "execution_count": 13,
     "metadata": {},
     "output_type": "execute_result"
    }
   ],
   "source": [
    "import operator\n",
    "sorted(xs.items(), key=operator.itemgetter(0))\n",
    "#operator.itemgette\n"
   ]
  },
  {
   "cell_type": "code",
   "execution_count": 16,
   "metadata": {},
   "outputs": [
    {
     "name": "stdout",
     "output_type": "stream",
     "text": [
      "('a', 4)\n",
      "('b', 3)\n",
      "('c', 2)\n",
      "('d', 1)\n"
     ]
    }
   ],
   "source": [
    "for item in xs.items():\n",
    "    print(item)\n"
   ]
  },
  {
   "cell_type": "code",
   "execution_count": 61,
   "metadata": {},
   "outputs": [
    {
     "name": "stdout",
     "output_type": "stream",
     "text": [
      "[95, 54, 89, 66, 44, 51, 11, 32, 76, 69, 55, 19, 1, 63, 91, 56, 36, 26, 65, 93]\n",
      "[1, 11, 19, 26, 32, 36, 44, 51, 54, 55, 56, 63, 65, 66, 69, 76, 89, 91, 93, 95]\n"
     ]
    }
   ],
   "source": [
    "# sort a list\n",
    "from random import randrange\n",
    "num = [randrange(1,100) for _ in range(20)]\n",
    "#sorted(num, reverse=True)\n",
    "#sorted(num) # default ascending order\n",
    "print(num)\n",
    "num.sort()# this mutates the list and does not return anything\n",
    "print(num) # list is mutable\n"
   ]
  },
  {
   "cell_type": "code",
   "execution_count": 86,
   "metadata": {},
   "outputs": [
    {
     "name": "stdout",
     "output_type": "stream",
     "text": [
      "(2, 50, -2, 30)\n",
      "[-2, 2, 30, 50]\n"
     ]
    },
    {
     "data": {
      "text/plain": [
       "('2', '50', '-2', '30')"
      ]
     },
     "execution_count": 86,
     "metadata": {},
     "output_type": "execute_result"
    }
   ],
   "source": [
    "# sort a tuple?\n",
    "\n",
    "tuple_ex = (2,50, -2, 30)\n",
    "#tuple_ex\n",
    "tuple_ex_sorted = sorted(tuple_ex)\n",
    "print(tuple_ex)\n",
    "print(tuple_ex_sorted)\n",
    "type(tuple_ex_sorted)\n",
    "\n"
   ]
  },
  {
   "cell_type": "code",
   "execution_count": 88,
   "metadata": {},
   "outputs": [
    {
     "name": "stdout",
     "output_type": "stream",
     "text": [
      "2,50,-2,30\n"
     ]
    }
   ],
   "source": [
    "# into string \n",
    "def convertTuple(tup, split=''): \n",
    "    str =  split.join(tup) \n",
    "    return str\n",
    "  \n",
    "# Driver code \n",
    "print(convertTuple(tuple([str(i) for i in tuple_ex]), split=','))"
   ]
  },
  {
   "cell_type": "code",
   "execution_count": 70,
   "metadata": {},
   "outputs": [
    {
     "name": "stdout",
     "output_type": "stream",
     "text": [
      "[('the', 'det', [23, 800]), ('off', 'prep', [70, 100])]\n",
      "None\n",
      "[('off', 'prep', [70, 100]), ('the', 'det', [23, 800])]\n"
     ]
    }
   ],
   "source": [
    "tuple_lexicon = [\n",
    "    ('the', 'det',[23, 800]),\n",
    "    ('off', 'prep', [70, 100])\n",
    "]\n",
    "\n",
    "# sort according to alphabets?\n",
    "#print(sorted(tuple_lexicon, key=lambda x:x[0]))\n",
    "\n",
    "print(tuple_lexicon)\n",
    "print(tuple_lexicon.sort())\n",
    "print(tuple_lexicon)"
   ]
  }
 ],
 "metadata": {
  "kernelspec": {
   "display_name": "Python 3",
   "language": "python",
   "name": "python3"
  },
  "language_info": {
   "codemirror_mode": {
    "name": "ipython",
    "version": 3
   },
   "file_extension": ".py",
   "mimetype": "text/x-python",
   "name": "python",
   "nbconvert_exporter": "python",
   "pygments_lexer": "ipython3",
   "version": "3.7.6"
  }
 },
 "nbformat": 4,
 "nbformat_minor": 4
}
