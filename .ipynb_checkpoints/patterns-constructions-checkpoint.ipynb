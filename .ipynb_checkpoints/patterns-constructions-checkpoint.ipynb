{
 "cells": [
  {
   "cell_type": "markdown",
   "metadata": {},
   "source": [
    "# Patterns and Constructions"
   ]
  },
  {
   "cell_type": "code",
   "execution_count": 15,
   "metadata": {},
   "outputs": [
    {
     "data": {
      "text/plain": [
       "'(<(DT)>)?(<(NN[^\\\\{\\\\}<>]*)>)+'"
      ]
     },
     "execution_count": 15,
     "metadata": {},
     "output_type": "execute_result"
    }
   ],
   "source": [
    "from nltk.chunk.regexp import tag_pattern2re_pattern\n",
    "from nltk.chunk import RegexpParser\n",
    "from nltk.corpus import brown\n",
    "import nltk\n",
    "tag_pattern2re_pattern('<DT>?<NN.*>+')"
   ]
  },
  {
   "cell_type": "code",
   "execution_count": 23,
   "metadata": {},
   "outputs": [
    {
     "name": "stdout",
     "output_type": "stream",
     "text": [
      "(S\n",
      "  (NP The/DT article/NN)\n",
      "  looks/VBZ\n",
      "  (NP like/IN a/DT work/NN)\n",
      "  written/VBN\n",
      "  (NP by/IN a/DT foreigner/NN)\n",
      "  ./.)\n"
     ]
    },
    {
     "data": {
      "image/png": "[encoded data removed]",
      "text/plain": [
       "Tree('S', [Tree('NP', [('The', 'DT'), ('article', 'NN')]), ('looks', 'VBZ'), Tree('NP', [('like', 'IN'), ('a', 'DT'), ('work', 'NN')]), ('written', 'VBN'), Tree('NP', [('by', 'IN'), ('a', 'DT'), ('foreigner', 'NN')]), ('.', '.')])"
      ]
     },
     "execution_count": 23,
     "metadata": {},
     "output_type": "execute_result"
    }
   ],
   "source": [
    "chunker = RegexpParser('''\n",
    "NP:\n",
    "    {<DT><NN.*><.*>*<NN.*>}\n",
    "    }<VB.*>{\n",
    "''')\n",
    "\n",
    "#sent = brown.tagged_sents()[10]\n",
    "#chunker.parse(sent)\n",
    "\n",
    "sent = 'The article looks like a work written by a foreigner.'\n",
    "sent = nltk.pos_tag(nltk.word_tokenize(sent))\n",
    "sent_ct = chunker.parse(sent)\n",
    "print(sent_ct)\n"
   ]
  },
  {
   "cell_type": "code",
   "execution_count": 76,
   "metadata": {},
   "outputs": [
    {
     "data": {
      "image/png": "[encoded data removed]",
      "text/plain": [
       "Tree('NP', [('The', 'DT'), ('article', 'NN')])"
      ]
     },
     "execution_count": 76,
     "metadata": {},
     "output_type": "execute_result"
    }
   ],
   "source": [
    "sent_ct.productions()\n",
    "#sent_ct.chomsky_normal_form()\n",
    "sent_ct\n",
    "sent_ct[0]"
   ]
  },
  {
   "cell_type": "code",
   "execution_count": 68,
   "metadata": {},
   "outputs": [
    {
     "name": "stdout",
     "output_type": "stream",
     "text": [
      "<class 'method'>\n",
      "(NP The/DT article/NN)\n",
      "<class 'method'>\n",
      "<class 'tuple'>\n"
     ]
    },
    {
     "data": {
      "text/plain": [
       "nltk.tree.Tree"
      ]
     },
     "execution_count": 68,
     "metadata": {},
     "output_type": "execute_result"
    }
   ],
   "source": [
    "print(type(sent_ct[0].label))\n",
    "print(sent_ct[0])\n",
    "print(type(sent_ct[0].leaves))\n",
    "print(type(sent_ct[1]))\n",
    "type(sent_ct[2])"
   ]
  },
  {
   "cell_type": "code",
   "execution_count": 78,
   "metadata": {
    "scrolled": true
   },
   "outputs": [
    {
     "name": "stdout",
     "output_type": "stream",
     "text": [
      "1\n",
      "label: S\n",
      "(S\n",
      "  (NP The/DT article/NN)\n",
      "  looks/VBZ\n",
      "  (NP like/IN a/DT work/NN)\n",
      "  written/VBN\n",
      "  (NP by/IN a/DT foreigner/NN)\n",
      "  ./.)\n",
      "2\n",
      "label: NP\n",
      "(NP The/DT article/NN)\n",
      "3\n",
      "label: NP\n",
      "(NP like/IN a/DT work/NN)\n",
      "4\n",
      "label: NP\n",
      "(NP by/IN a/DT foreigner/NN)\n"
     ]
    }
   ],
   "source": [
    "i=0\n",
    "for subtree in sent_ct.subtrees():\n",
    "    i=i+1\n",
    "    print(str(i))\n",
    "    print('label: {}'.format(subtree.label()))\n",
    "    print(subtree)"
   ]
  },
  {
   "cell_type": "code",
   "execution_count": 103,
   "metadata": {},
   "outputs": [
    {
     "data": {
      "text/plain": [
       "'(S\\n  (NP The/DT article/NN)\\n  looks/VBZ\\n  (NP like/IN a/DT work/NN)\\n  written/VBN\\n  (NP by/IN a/DT foreigner/NN)\\n  ./.)'"
      ]
     },
     "execution_count": 103,
     "metadata": {},
     "output_type": "execute_result"
    }
   ],
   "source": [
    "str(sent_ct)"
   ]
  },
  {
   "cell_type": "code",
   "execution_count": 80,
   "metadata": {
    "scrolled": true
   },
   "outputs": [
    {
     "name": "stdout",
     "output_type": "stream",
     "text": [
      "(NP The/DT article/NN)\n",
      "(NP like/IN a/DT work/NN)\n",
      "(NP by/IN a/DT foreigner/NN)\n"
     ]
    }
   ],
   "source": [
    "for subtree in sent_ct.subtrees(filter=lambda t: t.label().endswith(\"NP\")):\n",
    "    print(subtree)"
   ]
  },
  {
   "cell_type": "code",
   "execution_count": 106,
   "metadata": {},
   "outputs": [
    {
     "name": "stdout",
     "output_type": "stream",
     "text": [
      "[Tree('ADJ_AND_ADJ', [('outmoded', 'JJ'), ('or', 'CC'), ('inadequate', 'JJ')])]\n",
      "[Tree('ADJ_AND_ADJ', [('fair', 'JJ'), ('and', 'CC'), ('equitable', 'JJ')])]\n",
      "[Tree('ADJ_AND_ADJ', [('rural', 'JJ'), ('and', 'CC'), ('urban', 'JJ')])]\n",
      "[Tree('ADJ_AND_ADJ', [('junior', 'JJ'), ('or', 'CC'), ('senior', 'JJ')])]\n",
      "[Tree('ADJ_AND_ADJ', [('medical', 'JJ'), ('and', 'CC'), ('dental', 'JJ')])]\n",
      "[Tree('ADJ_AND_ADJ', [('ambitious', 'JJ'), ('and', 'CC'), ('costly', 'JJ')]), Tree('ADJ_AND_ADJ', [('medical', 'JJ'), ('and', 'CC'), ('dental', 'JJ')])]\n",
      "[Tree('ADJ_AND_ADJ', [('medical', 'JJ'), ('and', 'CC'), ('dental', 'JJ')])]\n",
      "[Tree('ADJ_AND_ADJ', [('medical', 'JJ'), ('and', 'CC'), ('dental', 'JJ')])]\n",
      "[Tree('ADJ_AND_ADJ', [('tentative', 'JJ'), ('and', 'CC'), ('exploratory', 'JJ')])]\n",
      "[Tree('ADJ_AND_ADJ', [('military', 'JJ'), ('and', 'CC'), ('economic', 'JJ')])]\n",
      "[Tree('ADJ_AND_ADJ', [('firmer', 'JJR'), ('and', 'CC'), ('tougher', 'JJR')])]\n",
      "[Tree('ADJ_AND_ADJ', [('amateurish', 'JJ'), ('and', 'CC'), ('monumental', 'JJ')])]\n"
     ]
    }
   ],
   "source": [
    "# write chunk rules\n",
    "pat_chunker = RegexpParser('''\n",
    "ADJ_AND_ADJ:\n",
    "    {<JJ.*><CC><JJ.*>}\n",
    "''')\n",
    "\n",
    "for sent in brown.tagged_sents()[:500]:\n",
    "    cur_t = pat_chunker.parse(sent)\n",
    "    cur_pat = [pat for pat in cur_t.subtrees(filter=lambda t: t.label().startswith(\"ADJ_AND\"))]\n",
    "    if len(cur_pat)>0:\n",
    "        print(cur_pat)\n",
    "    "
   ]
  }
 ],
 "metadata": {
  "kernelspec": {
   "display_name": "ckiptagger",
   "language": "python",
   "name": "ckiptagger"
  },
  "language_info": {
   "codemirror_mode": {
    "name": "ipython",
    "version": 3
   },
   "file_extension": ".py",
   "mimetype": "text/x-python",
   "name": "python",
   "nbconvert_exporter": "python",
   "pygments_lexer": "ipython3",
   "version": "3.6.12"
  }
 },
 "nbformat": 4,
 "nbformat_minor": 4
}
