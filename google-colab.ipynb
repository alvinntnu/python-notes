{
 "cells": [
  {
   "cell_type": "markdown",
   "metadata": {},
   "source": [
    "# Google Colaboratory (Colab)\n",
    "\n",
    "- Anyone with a google acount can use it.\n",
    "- An on-line python platform to run codes\n",
    "- Pre-installed several common packages for machine learning\n",
    "\n",
    "## How to use?\n",
    "\n",
    "- Get a Gmail account\n",
    "- Upload/save data files on Google Drive\n",
    "- Upload/save jupyter notebooks on Google Drive\n",
    "- Now you are ready to go: [Google Colab](https://colab.research.google.com/)\n",
    "    - Download the notebook files and save it on the Google Drive\n",
    "    - Run the notebook on Colab\n",
    " \n",
    "## How to install packages on Colab?\n",
    "\n",
    "- You may install the Python package on your Google Colab terminal by runing the following code in the notebook:\n",
    "```\n",
    "!pip install PACKAGE_NAME\n",
    "```\n",
    "\n",
    "## How to access files/directories on your Google Drive?\n",
    "\n",
    "- You need to mount your Google Drive first\n",
    "```\n",
    "from google.colab import drive\n",
    "drive.mount('/content/gdrive')\n",
    "##check directories of cwd\n",
    "!ls -l '/content/gdrive/My Drive'\n",
    "```\n",
    "\n",
    "```{note}\n",
    "When you mount the drive, you will be asked to log into your Gmail and then Google would give you the authorization text. Copy it and paste it back to your Colab notebook.\n",
    "```\n",
    "\n",
    "## Run .py script on Colab\n",
    "\n",
    "```\n",
    "! python3 '/content/gdrive/My Drive/SCRIPT_NAME.py'\n",
    "```"
   ]
  }
 ],
 "metadata": {
  "kernelspec": {
   "display_name": "Python 3",
   "language": "python",
   "name": "python3"
  },
  "language_info": {
   "codemirror_mode": {
    "name": "ipython",
    "version": 3
   },
   "file_extension": ".py",
   "mimetype": "text/x-python",
   "name": "python",
   "nbconvert_exporter": "python",
   "pygments_lexer": "ipython3",
   "version": "3.7.6"
  }
 },
 "nbformat": 4,
 "nbformat_minor": 4
}
