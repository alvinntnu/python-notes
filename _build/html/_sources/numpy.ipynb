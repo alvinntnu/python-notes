{
 "cells": [
  {
   "cell_type": "markdown",
   "metadata": {},
   "source": [
    "# Numpy\n",
    "\n",
    "- Array structure\n",
    "- Array subsetting\n",
    "- Pass-by-reference vs. explicit copy\n",
    "- Numpy broadcasting\n",
    "- Masked Array\n"
   ]
  },
  {
   "cell_type": "code",
   "execution_count": 1,
   "metadata": {},
   "outputs": [
    {
     "name": "stdout",
     "output_type": "stream",
     "text": [
      "[1. 2. 3.]\n",
      "4\n",
      "12\n"
     ]
    }
   ],
   "source": [
    "## Basics\n",
    "import numpy as np\n",
    "## memory size and data type\n",
    "x = np.array([1,2,3], dtype=np.float32)\n",
    "print(x)\n",
    "print(x.itemsize) # four bytes for item\n",
    "print(x.nbytes)"
   ]
  },
  {
   "cell_type": "code",
   "execution_count": 2,
   "metadata": {},
   "outputs": [
    {
     "name": "stdout",
     "output_type": "stream",
     "text": [
      "1\n",
      "(3,)\n",
      "float32\n",
      "3\n"
     ]
    }
   ],
   "source": [
    "\n",
    "print(x.ndim) ## get num of dimensions\n",
    "print(x.shape) ## shape\n",
    "print(x.dtype) ## data type\n",
    "print(x.size) ## num of elements"
   ]
  },
  {
   "cell_type": "code",
   "execution_count": 3,
   "metadata": {},
   "outputs": [
    {
     "name": "stdout",
     "output_type": "stream",
     "text": [
      "CPU times: user 17 µs, sys: 4 µs, total: 21 µs\n",
      "Wall time: 23.8 µs\n"
     ]
    },
    {
     "data": {
      "text/plain": [
       "array([0.84147096, 0.9092974 , 0.14112   ], dtype=float32)"
      ]
     },
     "execution_count": 3,
     "metadata": {},
     "output_type": "execute_result"
    }
   ],
   "source": [
    "%%time\n",
    "## unary function\n",
    "np.sin(x)"
   ]
  },
  {
   "cell_type": "code",
   "execution_count": 4,
   "metadata": {},
   "outputs": [
    {
     "name": "stdout",
     "output_type": "stream",
     "text": [
      "CPU times: user 61 µs, sys: 3 µs, total: 64 µs\n",
      "Wall time: 67.7 µs\n"
     ]
    },
    {
     "data": {
      "text/plain": [
       "[0.8414709848078965, 0.9092974268256817, 0.1411200080598672]"
      ]
     },
     "execution_count": 4,
     "metadata": {},
     "output_type": "execute_result"
    }
   ],
   "source": [
    "%%time\n",
    "## math equivalent\n",
    "## we have to use list comprehension\n",
    "from math import sin\n",
    "[sin(i) for i in x]"
   ]
  },
  {
   "cell_type": "code",
   "execution_count": 5,
   "metadata": {},
   "outputs": [
    {
     "name": "stdout",
     "output_type": "stream",
     "text": [
      "[[0 1 2 3 4 5 6 7 8 9]\n",
      " [0 1 2 3 4 5 6 7 8 9]]\n",
      "(2, 10)\n"
     ]
    }
   ],
   "source": [
    "## Multidimensional array\n",
    "## np supports at maximum 32-dimension array\n",
    "x = np.array([range(10),range(10)])\n",
    "print(x)\n",
    "print(x.shape)"
   ]
  },
  {
   "cell_type": "code",
   "execution_count": 6,
   "metadata": {},
   "outputs": [
    {
     "name": "stdout",
     "output_type": "stream",
     "text": [
      "[0 0]\n",
      "[1 1]\n",
      "[0 1 2 3 4 5 6 7 8 9]\n",
      "[[1 2 3 4 5 6 7 8 9]\n",
      " [1 2 3 4 5 6 7 8 9]]\n",
      "[[0 2 4 6 8]\n",
      " [0 2 4 6 8]]\n",
      "[[9 8 7 6 5 4 3 2 1 0]\n",
      " [9 8 7 6 5 4 3 2 1 0]]\n",
      "[[5 7]\n",
      " [5 7]]\n",
      "[[0 1 2 3 4 5 6 7 8 9]\n",
      " [0 1 2 3 4 5 6 7 8 9]]\n"
     ]
    }
   ],
   "source": [
    "## Subsetting\n",
    "print(x[:,0]) # first column\n",
    "print(x[:,1]) # second column\n",
    "print(x[0,:]) # first row\n",
    "\n",
    "## Subsetting sections of array\n",
    "print(x[:, 1:]) # columsn from first to the last\n",
    "print(x[:, ::2]) # all rows, every other columns\n",
    "print(x[:, ::-1]) # all rows, reversed columns\n",
    "print(x[:, 5:9:2]) # [, StartIndex:EndIndex:StepSize]\n",
    "print(x[::-1,:]) ## all columns, reversed rows"
   ]
  },
  {
   "cell_type": "code",
   "execution_count": 7,
   "metadata": {},
   "outputs": [
    {
     "name": "stdout",
     "output_type": "stream",
     "text": [
      "[[[1 2]\n",
      "  [3 4]]\n",
      "\n",
      " [[5 6]\n",
      "  [7 8]]]\n",
      "4\n",
      "[[[ 1  2]\n",
      "  [99 99]]\n",
      "\n",
      " [[ 5  6]\n",
      "  [99 99]]]\n"
     ]
    }
   ],
   "source": [
    "## Subsetting 3D Array\n",
    "## Principle: From outside in!\n",
    "x = np.array([[[1,2],[3,4]],[[5,6],[7,8]]])\n",
    "print(x)\n",
    "print(x[0,1,1]) # should be 4\n",
    "y = np.copy(x)\n",
    "y[:,1,:]=[99,99]\n",
    "print(y)"
   ]
  },
  {
   "cell_type": "code",
   "execution_count": 8,
   "metadata": {},
   "outputs": [
    {
     "name": "stdout",
     "output_type": "stream",
     "text": [
      "[[1. 1. 1.]\n",
      " [1. 1. 1.]]\n",
      "[[1. 1. 1.]\n",
      " [1. 1. 1.]]\n",
      "[[1. 1. 1.]\n",
      " [1. 2. 1.]]\n",
      "[[1. 1. 1.]\n",
      " [1. 2. 1.]]\n"
     ]
    }
   ],
   "source": [
    "## Pass-by-reference\n",
    "x = np.ones((2,3))\n",
    "y = x\n",
    "print(x)\n",
    "print(y)\n",
    "x[1,1]=2\n",
    "\n",
    "## Note that both x and y objects are altered\n",
    "print(x)\n",
    "print(y)"
   ]
  },
  {
   "cell_type": "code",
   "execution_count": 9,
   "metadata": {},
   "outputs": [
    {
     "name": "stdout",
     "output_type": "stream",
     "text": [
      "[[0. 0. 0.]\n",
      " [0. 0. 0.]]\n",
      "[[1. 1. 1.]\n",
      " [1. 1. 1.]]\n",
      "[[99 99 99]\n",
      " [99 99 99]]\n",
      "[[1 2 3]\n",
      " [4 5 6]]\n",
      "[[99 99 99]\n",
      " [99 99 99]]\n",
      "[[0.17302484 0.6488814  0.18553416]\n",
      " [0.65113494 0.89330517 0.475007  ]\n",
      " [0.85339122 0.3950132  0.38144628]\n",
      " [0.13687413 0.53867414 0.44876099]]\n",
      "[[  7 -10   9]\n",
      " [  7  -1   0]\n",
      " [  0  -2   0]]\n",
      "[[1. 0. 0. 0. 0.]\n",
      " [0. 1. 0. 0. 0.]\n",
      " [0. 0. 1. 0. 0.]\n",
      " [0. 0. 0. 1. 0.]\n",
      " [0. 0. 0. 0. 1.]]\n",
      "[[1 2 3]\n",
      " [1 2 3]\n",
      " [1 2 3]\n",
      " [1 2 3]]\n",
      "[1 1 1 1 2 2 2 2 3 3 3 3]\n",
      "(1, 3)\n",
      "(3,)\n"
     ]
    }
   ],
   "source": [
    "## Initialize different types of Arrays\n",
    "\n",
    "print(np.zeros((2,3)))\n",
    "print(np.ones((2,3)))\n",
    "print(np.full((2,3),99)) # create an array with self-defined default\n",
    "x = np.array([[1,2,3],[4,5,6]])\n",
    "print(x)\n",
    "print(np.full_like(x,99)) # copy an array with default values\n",
    "\n",
    "print(np.random.rand(4,3)) # random decimal numbers\n",
    "print(np.random.randint(-10,10, size=(3,3))) ## random integer values\n",
    "print(np.identity(5))\n",
    "x1 = np.array([[1,2,3]])\n",
    "x2 = np.array([1,2,3])\n",
    "print(np.repeat(x1, 4, axis=0))\n",
    "print(np.repeat(x2, 4, axis=0))\n",
    "print(x1.shape)\n",
    "print(x2.shape)"
   ]
  },
  {
   "cell_type": "markdown",
   "metadata": {},
   "source": [
    ":::{admonition,important}\n",
    "If the indexing object for the array is a non-tuple sequence object, another Numpy array (of type integer or boolean), or a tuple with at least one sequence object or Numpy array, then indexing creates copies.\n",
    ":::"
   ]
  },
  {
   "cell_type": "code",
   "execution_count": 10,
   "metadata": {},
   "outputs": [
    {
     "name": "stdout",
     "output_type": "stream",
     "text": [
      "[[1. 1. 1.]\n",
      " [1. 1. 1.]]\n",
      "[[1. 1. 1.]\n",
      " [1. 1. 1.]]\n",
      "[[ 1.  1.  1.]\n",
      " [ 1. 99.  1.]]\n",
      "[[1. 1. 1.]\n",
      " [1. 1. 1.]]\n"
     ]
    }
   ],
   "source": [
    "## \n",
    "x = np.ones((2,3))\n",
    "y = x[:,[0,1,2]]\n",
    "print(x)\n",
    "print(y)\n",
    "x[1,1] = 99\n",
    "## Note that only x object is altered. y is stil the original!!!\n",
    "print(x)\n",
    "print(y)"
   ]
  },
  {
   "cell_type": "code",
   "execution_count": 11,
   "metadata": {},
   "outputs": [
    {
     "name": "stdout",
     "output_type": "stream",
     "text": [
      "[[1. 1. 1.]\n",
      " [1. 1. 1.]]\n",
      "[[1. 1. 1.]\n",
      " [1. 1. 1.]]\n",
      "[[ 1.  1.  1.]\n",
      " [ 1. 99.  1.]]\n",
      "[[1. 1. 1.]\n",
      " [1. 1. 1.]]\n"
     ]
    }
   ],
   "source": [
    "## To explicity create a copy of an array\n",
    "x = np.ones((2,3))\n",
    "y = x.copy()\n",
    "print(x)\n",
    "print(y)\n",
    "x[1,1]=99\n",
    "print(x)\n",
    "print(y)"
   ]
  },
  {
   "cell_type": "code",
   "execution_count": 12,
   "metadata": {},
   "outputs": [
    {
     "name": "stdout",
     "output_type": "stream",
     "text": [
      "[[0 1]\n",
      " [0 1]]\n",
      "[[0 0]\n",
      " [1 1]]\n"
     ]
    },
    {
     "data": {
      "text/plain": [
       "array([[0, 1],\n",
       "       [1, 2]])"
      ]
     },
     "execution_count": 12,
     "metadata": {},
     "output_type": "execute_result"
    }
   ],
   "source": [
    "## Numpy Broadcasting\n",
    "X, Y = np.meshgrid(np.arange(2), np.arange(2))\n",
    "print(X)\n",
    "print(Y)\n",
    "X + Y\n"
   ]
  },
  {
   "cell_type": "code",
   "execution_count": 13,
   "metadata": {},
   "outputs": [
    {
     "name": "stdout",
     "output_type": "stream",
     "text": [
      "[0 2]\n",
      "[[0 1]\n",
      " [1 2]]\n"
     ]
    }
   ],
   "source": [
    "x = np.array([0,1])\n",
    "y = np.array([0,1])\n",
    "print(x+y)\n",
    "print(x + y[:,np.newaxis]) # the np.newaxis (None) makes copies of y along the dimension\n"
   ]
  },
  {
   "cell_type": "code",
   "execution_count": 14,
   "metadata": {},
   "outputs": [
    {
     "name": "stdout",
     "output_type": "stream",
     "text": [
      "[-- -- -- -- -- 5 6 7 8 9]\n",
      "(10,)\n",
      "[ 0  1  2  3  4  5 99  7  8  9]\n",
      "[-- -- -- -- -- 5 99 7 8 9]\n"
     ]
    }
   ],
   "source": [
    "## Masked Array\n",
    "from numpy import ma\n",
    "x = np.arange(10)\n",
    "y = ma.masked_array(x , x<5) # copy=False\n",
    "print(y)\n",
    "print(y.shape)\n",
    "x[6]=99\n",
    "print(x)\n",
    "print(y)\n",
    "## The above shows that masked_array does not force an implicit copy operation"
   ]
  },
  {
   "cell_type": "code",
   "execution_count": 15,
   "metadata": {},
   "outputs": [
    {
     "name": "stdout",
     "output_type": "stream",
     "text": [
      "[[1. 1. 1.]\n",
      " [1. 1. 1.]]\n",
      "[[2 2]\n",
      " [2 2]\n",
      " [2 2]]\n",
      "[[6. 6.]\n",
      " [6. 6.]]\n"
     ]
    },
    {
     "data": {
      "text/plain": [
       "1.0"
      ]
     },
     "execution_count": 15,
     "metadata": {},
     "output_type": "execute_result"
    }
   ],
   "source": [
    "## Linear Algebra\n",
    "\n",
    "## Matrix Multiplication\n",
    "a = np.ones((2,3))\n",
    "print(a)\n",
    "b = np.full((3,2),2)\n",
    "print(b)\n",
    "print(np.matmul(a,b))\n",
    "\n",
    "## Find the determinant\n",
    "x = np.identity(3)\n",
    "np.linalg.det(x)"
   ]
  },
  {
   "cell_type": "markdown",
   "metadata": {},
   "source": [
    ":::{admonition,note}\n",
    "Reference docs (https://docs.scipy.org/doc/numpy/reference/routines.linalg.html)\n",
    "- Determinant\n",
    "- Trace\n",
    "- Singular Vector Decomposition\n",
    "- Eigenvalues\n",
    "- Matrix Norm\n",
    "- Inverse\n",
    "-  Etc...\n",
    ":::"
   ]
  },
  {
   "cell_type": "code",
   "execution_count": 16,
   "metadata": {},
   "outputs": [
    {
     "name": "stdout",
     "output_type": "stream",
     "text": [
      "[[45  2 19]\n",
      " [74 93 21]]\n",
      "[45  2 19]\n",
      "[ 2 21]\n",
      "[119  95  40]\n"
     ]
    }
   ],
   "source": [
    "## Statistics\n",
    "x = np.random.randint(0,100, size=(2,3))\n",
    "print(x)\n",
    "print(np.min(x, axis=0)) # min of each column\n",
    "print(np.min(x, axis=1)) # min of each row\n",
    "## 2D-array, first axis is the column?\n",
    "print(np.sum(x, axis=0)) # sum of columsn"
   ]
  },
  {
   "cell_type": "code",
   "execution_count": 17,
   "metadata": {},
   "outputs": [
    {
     "name": "stdout",
     "output_type": "stream",
     "text": [
      "[[0 1 2 3]\n",
      " [0 1 2 3]]\n",
      "[[0 1]\n",
      " [2 3]\n",
      " [0 1]\n",
      " [2 3]]\n",
      "[3 3 3]\n",
      "[6 6 6]\n",
      "[[3 3 3]\n",
      " [6 6 6]]\n",
      "[3 3 3 6 6 6]\n"
     ]
    }
   ],
   "source": [
    "## Reorganizing Arrays\n",
    "x = np.array([range(4),range(4)])\n",
    "print(x)\n",
    "y = x.reshape((4,2))\n",
    "print(y)\n",
    "\n",
    "# Stacking arrays\n",
    "x = np.full((3,),3)\n",
    "y = np.full((3,),6)\n",
    "print(x)\n",
    "print(y)\n",
    "print(np.vstack([x,y]))\n",
    "print(np.hstack([x,y]))"
   ]
  },
  {
   "cell_type": "markdown",
   "metadata": {},
   "source": [
    "- Find which element has a specific value"
   ]
  },
  {
   "cell_type": "code",
   "execution_count": 18,
   "metadata": {},
   "outputs": [
    {
     "data": {
      "text/plain": [
       "(array([1, 6]),)"
      ]
     },
     "execution_count": 18,
     "metadata": {},
     "output_type": "execute_result"
    }
   ],
   "source": [
    "## Search Elements in array\n",
    "x = [1,2,3,4,0,1,2,3,4,11] \n",
    "x=np.array(x)\n",
    "np.where(x == 2)"
   ]
  },
  {
   "cell_type": "markdown",
   "metadata": {},
   "source": [
    "- Identify the first index of the element that is of the specific value"
   ]
  },
  {
   "cell_type": "code",
   "execution_count": 19,
   "metadata": {},
   "outputs": [
    {
     "data": {
      "text/plain": [
       "1"
      ]
     },
     "execution_count": 19,
     "metadata": {},
     "output_type": "execute_result"
    }
   ],
   "source": [
    "np.min(np.where(x==2))"
   ]
  },
  {
   "cell_type": "markdown",
   "metadata": {},
   "source": [
    "- Find the index of the MIN/MAX"
   ]
  },
  {
   "cell_type": "code",
   "execution_count": 20,
   "metadata": {},
   "outputs": [
    {
     "data": {
      "text/plain": [
       "9"
      ]
     },
     "execution_count": 20,
     "metadata": {},
     "output_type": "execute_result"
    }
   ],
   "source": [
    "np.argmin(x)\n",
    "np.argmax(x)"
   ]
  },
  {
   "cell_type": "markdown",
   "metadata": {},
   "source": [
    "## Load from File\n",
    "\n",
    "```\n",
    "filedata = np.genformat('', delimiter=',')\n",
    "filedata = filedata.astype('int32')\n",
    "print(filedata\n",
    "```\n"
   ]
  }
 ],
 "metadata": {
  "kernelspec": {
   "display_name": "python-notes",
   "language": "python",
   "name": "python-notes"
  },
  "language_info": {
   "codemirror_mode": {
    "name": "ipython",
    "version": 3
   },
   "file_extension": ".py",
   "mimetype": "text/x-python",
   "name": "python",
   "nbconvert_exporter": "python",
   "pygments_lexer": "ipython3",
   "version": "3.6.12"
  },
  "toc": {
   "base_numbering": 1,
   "nav_menu": {},
   "number_sections": false,
   "sideBar": true,
   "skip_h1_title": false,
   "title_cell": "Table of Contents",
   "title_sidebar": "Contents",
   "toc_cell": false,
   "toc_position": {},
   "toc_section_display": true,
   "toc_window_display": false
  },
  "varInspector": {
   "cols": {
    "lenName": 16,
    "lenType": 16,
    "lenVar": 40
   },
   "kernels_config": {
    "python": {
     "delete_cmd_postfix": "",
     "delete_cmd_prefix": "del ",
     "library": "var_list.py",
     "varRefreshCmd": "print(var_dic_list())"
    },
    "r": {
     "delete_cmd_postfix": ") ",
     "delete_cmd_prefix": "rm(",
     "library": "var_list.r",
     "varRefreshCmd": "cat(var_dic_list()) "
    }
   },
   "types_to_exclude": [
    "module",
    "function",
    "builtin_function_or_method",
    "instance",
    "_Feature"
   ],
   "window_display": false
  }
 },
 "nbformat": 4,
 "nbformat_minor": 4
}
