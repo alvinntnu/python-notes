{
 "cells": [
  {
   "cell_type": "markdown",
   "metadata": {},
   "source": [
    "## Chapter 8 Phythonic Productivity Techniques"
   ]
  },
  {
   "cell_type": "markdown",
   "metadata": {},
   "source": [
    "### Getting Help"
   ]
  },
  {
   "cell_type": "code",
   "execution_count": 1,
   "metadata": {},
   "outputs": [
    {
     "data": {
      "text/plain": [
       "['MAXYEAR',\n",
       " 'MINYEAR',\n",
       " '__builtins__',\n",
       " '__cached__',\n",
       " '__doc__',\n",
       " '__file__',\n",
       " '__loader__',\n",
       " '__name__',\n",
       " '__package__',\n",
       " '__spec__',\n",
       " 'date',\n",
       " 'datetime',\n",
       " 'datetime_CAPI',\n",
       " 'sys',\n",
       " 'time',\n",
       " 'timedelta',\n",
       " 'timezone',\n",
       " 'tzinfo']"
      ]
     },
     "execution_count": 1,
     "metadata": {},
     "output_type": "execute_result"
    }
   ],
   "source": [
    "import datetime\n",
    "dir(datetime)"
   ]
  },
  {
   "cell_type": "code",
   "execution_count": 3,
   "metadata": {},
   "outputs": [
    {
     "data": {
      "text/plain": [
       "['date', 'datetime', 'datetime_CAPI']"
      ]
     },
     "execution_count": 3,
     "metadata": {},
     "output_type": "execute_result"
    }
   ],
   "source": [
    "# Check objects with specific keywords\n",
    "[_ for _ in dir(datetime) if 'date' in _.lower()]"
   ]
  },
  {
   "cell_type": "markdown",
   "metadata": {},
   "source": [
    "### Virtual Environments"
   ]
  },
  {
   "cell_type": "markdown",
   "metadata": {},
   "source": [
    "The following codes are run under terminal.\n",
    "\n",
    "The following codes show how to create a virtual environment in the terminal.\n",
    "\n",
    "```\n",
    "which pip\n",
    "\n",
    "pytho3 -m venv `DIRECTORY`\n",
    "ls `DIRECTORY`\n",
    "\n",
    "source activate `DIRECTORY`\n",
    "pip list\n",
    "pip install `PACKAGE_NAME`\n",
    "source deactivate\n",
    "\n",
    "```"
   ]
  },
  {
   "cell_type": "markdown",
   "metadata": {},
   "source": [
    "### Change Notebook Themes\n",
    "\n",
    "The following code runs in the terminal.\n",
    "\n",
    "```\n",
    "pip install jupyterthemes\n",
    "jt -l\n",
    "jt -t monokai\n",
    "```"
   ]
  },
  {
   "cell_type": "markdown",
   "metadata": {},
   "source": [
    "### Use a specific environment in notebook\n",
    "\n",
    "- First, create a new environment\n",
    "- Activate the new envrionment\n",
    "\n",
    "```\n",
    "source activate ENV_NAME\n",
    "```\n",
    "\n",
    "- install `ipykernal`\n",
    "\n",
    "```\n",
    "pip install --user ipykernel\n",
    "```\n",
    "\n",
    "- Add the environment kernal to Jupyter\n",
    "\n",
    "```\n",
    "python -m ipykernel install --user --name=myenv\n",
    "```\n",
    "\n",
    "- Check current environment kernels in Jupyter\n",
    "\n",
    "```\n",
    "jupyter kernelspec list\n",
    "```\n",
    "\n",
    "- Remove an environment from Jupyter kernel list\n",
    "\n",
    "```\n",
    "jupyter kernelspec uninstall myenv\n",
    "```"
   ]
  }
 ],
 "metadata": {
  "kernelspec": {
   "display_name": "r-tensorlfow",
   "language": "python",
   "name": "r-tensorlfow"
  },
  "language_info": {
   "codemirror_mode": {
    "name": "ipython",
    "version": 3
   },
   "file_extension": ".py",
   "mimetype": "text/x-python",
   "name": "python",
   "nbconvert_exporter": "python",
   "pygments_lexer": "ipython3",
   "version": "3.6.10"
  }
 },
 "nbformat": 4,
 "nbformat_minor": 4
}