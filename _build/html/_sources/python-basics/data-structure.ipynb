{
 "cells": [
  {
   "cell_type": "markdown",
   "metadata": {},
   "source": [
    "# Data Structure\n",
    "\n",
    "- A quick overview of important data structures in Python\n"
   ]
  },
  {
   "cell_type": "markdown",
   "metadata": {},
   "source": [
    "## General Functions"
   ]
  },
  {
   "cell_type": "code",
   "execution_count": 1,
   "metadata": {},
   "outputs": [
    {
     "data": {
      "text/plain": [
       "list"
      ]
     },
     "execution_count": 1,
     "metadata": {},
     "output_type": "execute_result"
    }
   ],
   "source": [
    "## Check object types\n",
    "type(23)\n",
    "type('some texts')\n",
    "c = [1, 2, 'some text']\n",
    "type(c)"
   ]
  },
  {
   "cell_type": "markdown",
   "metadata": {},
   "source": [
    "## Basic Structures"
   ]
  },
  {
   "cell_type": "code",
   "execution_count": 2,
   "metadata": {},
   "outputs": [
    {
     "data": {
      "text/plain": [
       "{'one': 1, 'two': 2}"
      ]
     },
     "execution_count": 2,
     "metadata": {},
     "output_type": "execute_result"
    }
   ],
   "source": [
    "## Factory functions\n",
    "int(4.0)\n",
    "str(4)\n",
    "list()\n",
    "tuple('international')\n",
    "dict(one=1, two=2)"
   ]
  },
  {
   "cell_type": "code",
   "execution_count": 3,
   "metadata": {},
   "outputs": [
    {
     "data": {
      "text/plain": [
       "7"
      ]
     },
     "execution_count": 3,
     "metadata": {},
     "output_type": "execute_result"
    }
   ],
   "source": [
    "## Operations\n",
    "\n",
    "## Modulus\n",
    "15 % 4\n",
    "## Exponentiation\n",
    "4 ** 3\n",
    "-4 ** 2 # minus applies to the result\n",
    "(-4)**2\n",
    "\n",
    "## Random numbers\n",
    "import random\n",
    "random.randint(1,10)"
   ]
  },
  {
   "cell_type": "markdown",
   "metadata": {},
   "source": [
    "## `str` Object"
   ]
  },
  {
   "cell_type": "code",
   "execution_count": 4,
   "metadata": {},
   "outputs": [
    {
     "name": "stdout",
     "output_type": "stream",
     "text": [
      "\\O\n",
      "\t\n",
      "\n",
      "\n",
      "'\n",
      "\"\n",
      "\\\n",
      "This is the first sentence\n",
      "This is a second.\n",
      "And A third. \n"
     ]
    },
    {
     "data": {
      "text/plain": [
       "'The toy is 1234.568 meters long'"
      ]
     },
     "execution_count": 4,
     "metadata": {},
     "output_type": "execute_result"
    }
   ],
   "source": [
    "## Sequences\n",
    "\n",
    "## Membership\n",
    "'a' in 'track'\n",
    "9 in [1, 2, 3, 4]\n",
    "9 not in [1, 2, 3, 4]\n",
    "\n",
    "## Concatenation\n",
    "'this' + 'is'\n",
    "' '.join(['this','is'])\n",
    "\n",
    "## Subsetting Sequences\n",
    "mylist = ['a', 'b','c','a word','e']\n",
    "mylist[1]\n",
    "mylist[0]\n",
    "mylist[-1]\n",
    "mylist[:3]\n",
    "mylist[3][2:6]\n",
    "\n",
    "##Strings\n",
    "mystr = '   This is a seentence sample.  '\n",
    "mystr.capitalize()\n",
    "mystr.title()\n",
    "mystr.upper()\n",
    "mystr.lower()\n",
    "mystr.rstrip()\n",
    "mystr.lstrip()\n",
    "mystr.strip()\n",
    "mystr.find('is')\n",
    "mystr.replace('is','was')\n",
    "\n",
    "## String Comparison\n",
    "## sapce > num > upper > lower\n",
    "' ' > '0'\n",
    "'0' > 'a'\n",
    "'z' > 'm'\n",
    "'m' > 'M'\n",
    "\n",
    "## Special Characters\n",
    "print('\\O')\n",
    "print('\\t')\n",
    "print('\\n')\n",
    "print('\\'')\n",
    "print('\\\"')\n",
    "print('\\\\')\n",
    "\n",
    "### Triple Quotes\n",
    "\n",
    "multiline = \"\"\"This is the first sentence\n",
    "This is a second.\n",
    "And A third. \"\"\"\n",
    "\n",
    "print(multiline)\n",
    "\n",
    "### Format Strings\n",
    "##`formatstring % (arguments to format)`\n",
    "ntoys = 4\n",
    "myname = 'Alvin'\n",
    "length = 1234.5678\n",
    "'%s has %d types' % (myname, ntoys)\n",
    "'The toy is %.3f meters long' % (length)\n"
   ]
  },
  {
   "cell_type": "markdown",
   "metadata": {},
   "source": [
    "## List\n",
    "\n",
    "- A List is typically a sequence of objects all having the same type, of arbitrary length\n",
    "- It is a mutable data structure.\n",
    "- You can always append elements into the list, and it will automatically expand its size.\n",
    "- A List can include elements of different object types.\n"
   ]
  },
  {
   "cell_type": "code",
   "execution_count": 2,
   "metadata": {},
   "outputs": [
    {
     "name": "stdout",
     "output_type": "stream",
     "text": [
      "['Tom', 'John']\n",
      "John\n",
      "['Tom']\n"
     ]
    },
    {
     "data": {
      "text/plain": [
       "0"
      ]
     },
     "execution_count": 2,
     "metadata": {},
     "output_type": "execute_result"
    }
   ],
   "source": [
    "## Lists\n",
    "list_empty = []\n",
    "list_strings = ['Amy', 'Emma','Jane']\n",
    "list_mixed = ['Amy','Emma', 5, 6]\n",
    "list_embeded = [1, 3, 4, [99, 100, 101]]\n",
    "len(list_empty)\n",
    "len(list_mixed)\n",
    "len(list_embeded)\n",
    "\n",
    "## List operations\n",
    "list_empty.append('Tom')\n",
    "list_empty.append('John')\n",
    "print(list_empty)\n",
    "print(list_empty[1])\n",
    "del list_empty[1]\n",
    "print(list_empty)\n",
    "list_mixed.index('Amy')\n",
    "# list_mixed.index('Alvin')\n",
    "\n",
    "## Other functions\n",
    "## max(), min(), sum(), sorted(), reversed()"
   ]
  },
  {
   "cell_type": "markdown",
   "metadata": {},
   "source": [
    "- Python lists are zero-indexed (i.e., the index of the first element of the list is **0**.\n",
    "- Negative indices mean counting elements from the back.\n",
    "- Syntax for a slice of a list:\n",
    "    - `x[-2:]`: print the last two elements of `x`\n",
    "    - `x[2:]`: print all elements starting from the third element\n",
    "    - `x[start:end:step]`: the end is not included in the result"
   ]
  },
  {
   "cell_type": "code",
   "execution_count": 8,
   "metadata": {},
   "outputs": [
    {
     "name": "stdout",
     "output_type": "stream",
     "text": [
      "[1, 3, 5, 7, 9]\n",
      "[2, 4, 6, 8, 10]\n"
     ]
    }
   ],
   "source": [
    "x = [1, 2, 3, 4, 5, 6, 7, 8, 9, 10]\n",
    "odd = x[::2]\n",
    "even = x[1::2]\n",
    "print(odd)\n",
    "print(even)"
   ]
  },
  {
   "cell_type": "markdown",
   "metadata": {},
   "source": [
    "## Tuples\n",
    "- A Tuple is typically a collection of objects of different types, of fixed length\n",
    "- Immutable (The tuple is a read-only data structure. It cannot be modified after it is created)."
   ]
  },
  {
   "cell_type": "code",
   "execution_count": 6,
   "metadata": {},
   "outputs": [
    {
     "name": "stdout",
     "output_type": "stream",
     "text": [
      "(1, 'mon', ['feb', 2])\n"
     ]
    },
    {
     "data": {
      "text/plain": [
       "3"
      ]
     },
     "execution_count": 6,
     "metadata": {},
     "output_type": "execute_result"
    }
   ],
   "source": [
    "## Tuples\n",
    "\n",
    "tuple_numbers = (1,2,3,4,5,6,7)\n",
    "tuple_strings = ('mon','tue','wed','thu','fri','sat','sun')\n",
    "tuple_mixed = (1, 'mon', ['feb', 2])\n",
    "print(tuple_mixed)\n",
    "len(tuple_mixed)"
   ]
  },
  {
   "cell_type": "code",
   "execution_count": 16,
   "metadata": {},
   "outputs": [
    {
     "name": "stdout",
     "output_type": "stream",
     "text": [
      "(2, 4, 8)\n",
      "2 4 8\n"
     ]
    }
   ],
   "source": [
    "## unpacking with tuples\n",
    "def powers(n):\n",
    "    return n, n**2, n**3\n",
    "x = powers(2)\n",
    "print(x)\n",
    "\n",
    "a,b,c = powers(2)\n",
    "print(a, b, c)"
   ]
  },
  {
   "cell_type": "markdown",
   "metadata": {},
   "source": [
    "## Dictionary\n",
    "\n",
    "- Square brackets `[]` for list and curly brackets `{}` for dict.\n",
    "- A dict is for key-value mapping, and the key must be **hashable**.\n",
    "\n",
    "\n",
    ":::{note}\n",
    "\n",
    "**From Official Python Documentation**\n",
    "\n",
    "An object is hashable if it has a hash value which never changes during its lifetime, and can be compared to other objects. Hashable objects which compare equal must have the same hash value.\n",
    "\n",
    "Hashability makes an object usable as a dictionary key and a set member, because these data structures use the hash value internally.\n",
    "\n",
    "All of Python’s immutable built-in objects are hashable, while no mutable containers (such as lists or dictionaries) are. Objects which are instances of user-defined classes are hashable by default; they all compare unequal, and their hash value is their id().\n",
    ":::"
   ]
  },
  {
   "cell_type": "code",
   "execution_count": 7,
   "metadata": {},
   "outputs": [
    {
     "data": {
      "text/plain": [
       "'NA'"
      ]
     },
     "execution_count": 7,
     "metadata": {},
     "output_type": "execute_result"
    }
   ],
   "source": [
    "## Dictionary\n",
    "\n",
    "dict_days = {'M': 'Monday', 'T':'Tuesday', 'W':'Wednesday'}\n",
    "dict_days['M']\n",
    "#dict_days['S']\n",
    "dict_days['S']='Sunday'\n",
    "dict_days['S']\n",
    "'A' in dict_days\n",
    "dict_days.keys()\n",
    "dict_days.values()\n",
    "dict_days.get('A','NA')"
   ]
  },
  {
   "cell_type": "code",
   "execution_count": 13,
   "metadata": {},
   "outputs": [
    {
     "name": "stdout",
     "output_type": "stream",
     "text": [
      "100\n",
      "It is not observed in the corpus\n",
      "0\n",
      "{'the': 100, 'name': 10, 'banana': 50, 'hay': 20}\n"
     ]
    }
   ],
   "source": [
    "wordfreq = {\n",
    "    \"the\":100,\n",
    "    \"name\": 10,\n",
    "    \"banana\": 50\n",
    "}\n",
    "\n",
    "print(wordfreq[\"the\"])\n",
    "\n",
    "w = \"hay\"\n",
    "\n",
    "if w in wordfreq:\n",
    "    print(w)\n",
    "    print(\"Its freq is \", wordfreq[w])\n",
    "else:\n",
    "    print(\"It is not observed in the corpus\")\n",
    "    \n",
    "## set default values   \n",
    "print(wordfreq.get(w, 0))\n",
    "\n",
    "## Use keys or values\n",
    "\n",
    "list(wordfreq.keys())\n",
    "list(wordfreq.values())\n",
    "\n",
    "## items()\n",
    "list(wordfreq.items())\n",
    "\n",
    "## combine two lists\n",
    "\n",
    "wordfreq1 = {\n",
    "    \"hay\":20\n",
    "}\n",
    "\n",
    "newwordfreq = dict(list(wordfreq.items())+ list(wordfreq1.items()))\n",
    "print(newwordfreq)"
   ]
  },
  {
   "cell_type": "markdown",
   "metadata": {},
   "source": [
    "## String Formatting"
   ]
  },
  {
   "cell_type": "code",
   "execution_count": 8,
   "metadata": {},
   "outputs": [
    {
     "name": "stdout",
     "output_type": "stream",
     "text": [
      "Hello, Alvin! This is your No.5 book!\n",
      "An apple a day keeps the doctor away.\n",
      "An doctor a day keeps the apple away.\n",
      "The book is difficult!\n",
      "Jack: 45\n",
      "Jack: 45Jessica: 78\n"
     ]
    }
   ],
   "source": [
    "## Format strings\n",
    "print('Hello, {}! This is your No.{} book!'.format('Alvin',5))\n",
    "print('An {0} a day keeps the {1} away.'.format('apple','doctor'))\n",
    "print('An {1} a day keeps the {0} away.'.format('apple','doctor'))\n",
    "print('The {noun} is {adj}!'.format(noun='book',adj='difficult'))\n",
    "\n",
    "## Format strings with Dictionary\n",
    "table = {'John': 98, 'Mary': 30, 'Jessica': 78, 'Goerge': 89, 'Jack': 45}\n",
    "print('Jack: {0[Jack]:d}'.format(table))\n",
    "print('Jack: {Jack:d}Jessica: {Jessica:d}'.format(**table))"
   ]
  },
  {
   "cell_type": "code",
   "execution_count": 9,
   "metadata": {},
   "outputs": [
    {
     "name": "stdout",
     "output_type": "stream",
     "text": [
      " 美國大選首場總統辯論今晚登場，辯論會上\n",
      "總統川普頻頻插話，並與對手拜登互相人身攻\n",
      "擊，兩人鬥嘴不斷。美國有線電視新聞網（C\n",
      "NN）主持人直呼，這是史上最混亂總統辯論\n",
      "。 總統辯論一向被視為美國大選最重要環節\n",
      "之一，不少選民專心聆聽候選人政見，並為他\n",
      "們颱風及口條打分數。不過，今晚在俄亥俄州\n",
      "克里夫蘭市（Cleveland）登場的首\n",
      "場總統辯論，恐怕讓許多民眾直搖頭。 90\n",
      "分鐘辯論開始沒多久，總統川普與民主黨總統\n",
      "候選人拜登（Joe Biden）就吵個不\n",
      "停。川普頻頻插話並對拜登展開人身攻擊，不\n",
      "只酸拜登造勢活動只有兩三隻小貓，並指他一\n",
      "點都不聰明；拜登則多次面露不耐要川普「閉\n",
      "嘴」，並稱他是個「小丑」（clown）。\n"
     ]
    }
   ],
   "source": [
    "# wrapping strings\n",
    "import textwrap\n",
    "sentence= '''\n",
    "美國大選首場總統辯論今晚登場，辯論會上總統川普頻頻插話，並與對手拜登互相人身攻擊，兩人鬥嘴不斷。美國有線電視新聞網（CNN）主持人直呼，這是史上最混亂總統辯論。\n",
    "總統辯論一向被視為美國大選最重要環節之一，不少選民專心聆聽候選人政見，並為他們颱風及口條打分數。不過，今晚在俄亥俄州克里夫蘭市（Cleveland）登場的首場總統辯論，恐怕讓許多民眾直搖頭。\n",
    "90分鐘辯論開始沒多久，總統川普與民主黨總統候選人拜登（Joe Biden）就吵個不停。川普頻頻插話並對拜登展開人身攻擊，不只酸拜登造勢活動只有兩三隻小貓，並指他一點都不聰明；拜登則多次面露不耐要川普「閉嘴」，並稱他是個「小丑」（clown）。'''\n",
    "\n",
    "print(textwrap.fill(sentence, 20))"
   ]
  },
  {
   "cell_type": "code",
   "execution_count": 10,
   "metadata": {},
   "outputs": [
    {
     "name": "stdout",
     "output_type": "stream",
     "text": [
      "The value of pi is 3.14\n"
     ]
    }
   ],
   "source": [
    "## Old string formatting\n",
    "import math\n",
    "print('The value of pi is %1.2f' % math.pi) # specify number of digits before and after ."
   ]
  },
  {
   "cell_type": "markdown",
   "metadata": {},
   "source": [
    "## List Comprehension\n",
    "\n",
    "- A classic Pythonic way to create a list on the fly."
   ]
  },
  {
   "cell_type": "code",
   "execution_count": 19,
   "metadata": {},
   "outputs": [
    {
     "data": {
      "text/plain": [
       "[3,\n",
       " 6,\n",
       " 9,\n",
       " 12,\n",
       " 15,\n",
       " 18,\n",
       " 21,\n",
       " 24,\n",
       " 27,\n",
       " 30,\n",
       " 33,\n",
       " 36,\n",
       " 39,\n",
       " 42,\n",
       " 45,\n",
       " 48,\n",
       " 51,\n",
       " 54,\n",
       " 57,\n",
       " 60,\n",
       " 63,\n",
       " 66,\n",
       " 69,\n",
       " 72,\n",
       " 75,\n",
       " 78,\n",
       " 81,\n",
       " 84,\n",
       " 87,\n",
       " 90,\n",
       " 93,\n",
       " 96,\n",
       " 99]"
      ]
     },
     "execution_count": 19,
     "metadata": {},
     "output_type": "execute_result"
    }
   ],
   "source": [
    "mul3 = [n for n in range(1,101) if n%3 == 0]\n",
    "mul3"
   ]
  },
  {
   "cell_type": "code",
   "execution_count": 20,
   "metadata": {},
   "outputs": [
    {
     "name": "stdout",
     "output_type": "stream",
     "text": [
      "[1, 2, 3, 4, 5, 6, 7, 8, 9, 10]\n",
      "[2, 4, 6, 8, 10, 12, 14, 16, 18, 20]\n",
      "[3, 6, 9, 12, 15, 18, 21, 24, 27, 30]\n",
      "[4, 8, 12, 16, 20, 24, 28, 32, 36, 40]\n",
      "[5, 10, 15, 20, 25, 30, 35, 40, 45, 50]\n",
      "[6, 12, 18, 24, 30, 36, 42, 48, 54, 60]\n",
      "[7, 14, 21, 28, 35, 42, 49, 56, 63, 70]\n",
      "[8, 16, 24, 32, 40, 48, 56, 64, 72, 80]\n",
      "[9, 18, 27, 36, 45, 54, 63, 72, 81, 90]\n",
      "[10, 20, 30, 40, 50, 60, 70, 80, 90, 100]\n"
     ]
    }
   ],
   "source": [
    "table = [[m*n for n in range(1,11)] for m in range(1,11)]\n",
    "for row in table:\n",
    "    print(row)"
   ]
  },
  {
   "cell_type": "markdown",
   "metadata": {},
   "source": [
    "## Enumerate and Zip\n",
    "\n",
    "- `enumerate()`: This is a handy function for loop-structure. We can get the loop index and the object from the looped structure at the same time. The result of `enumerate()` produces a tuple of the counter (default starts with zero) and the element of the list.\n",
    "- `zip()`: It takes elements from different lists and put them side by side."
   ]
  },
  {
   "cell_type": "code",
   "execution_count": 21,
   "metadata": {},
   "outputs": [
    {
     "name": "stdout",
     "output_type": "stream",
     "text": [
      "0: alpha\n",
      "1: beta\n",
      "2: gamma\n",
      "3: delta\n"
     ]
    }
   ],
   "source": [
    "x = [\"alpha\", \"beta\", \"gamma\", \"delta\"]\n",
    "for n,string in enumerate(x):\n",
    "    print(\"{}: {}\".format(n, string))"
   ]
  },
  {
   "cell_type": "code",
   "execution_count": 22,
   "metadata": {},
   "outputs": [
    {
     "name": "stdout",
     "output_type": "stream",
     "text": [
      "blue cheese\n",
      "red apple\n",
      "green pea\n",
      "yellow mustard\n"
     ]
    }
   ],
   "source": [
    "x = [\"blue\", \"red\", \"green\", \"yellow\"]\n",
    "y = [\"cheese\", \"apple\", \"pea\", \"mustard\"]\n",
    "for a, b in zip(x, y):\n",
    "    print(\"{} {}\".format(a, b))"
   ]
  },
  {
   "cell_type": "markdown",
   "metadata": {},
   "source": [
    "## Map, Filter, and Reduce\n",
    "\n",
    "\n",
    "- `map()`: to transform elements of a list using some function.\n",
    "- `filter()`: to short list the elements based on certain criteria.\n",
    "- `reduce()`: It scans the elements from a list and combines them using a function.\n"
   ]
  },
  {
   "cell_type": "code",
   "execution_count": 34,
   "metadata": {},
   "outputs": [
    {
     "name": "stdout",
     "output_type": "stream",
     "text": [
      "12\n"
     ]
    },
    {
     "data": {
      "text/plain": [
       "30"
      ]
     },
     "execution_count": 34,
     "metadata": {},
     "output_type": "execute_result"
    }
   ],
   "source": [
    "from functools import reduce\n",
    "\n",
    "def maximum(a,b):\n",
    "    if a > b:\n",
    "        return a\n",
    "    else:\n",
    "        return b\n",
    " \n",
    "x = [-3, 10, 2, 5, -6, 12, 0, 1]\n",
    "max_x = reduce(maximum, x)\n",
    "print(max_x)\n",
    "\n",
    "\n",
    "\n",
    "## use reduce to \n",
    "## sum all positive words from a list\n",
    "def concat_num(a,b):\n",
    "    \n",
    "    def pos(i):\n",
    "        return i > 0\n",
    "    \n",
    "    out = filter(pos, [a,b])\n",
    "    return(sum(out))\n",
    "\n",
    "reduce(concat_num, x)"
   ]
  },
  {
   "cell_type": "markdown",
   "metadata": {},
   "source": [
    "## Requirements"
   ]
  },
  {
   "cell_type": "code",
   "execution_count": 11,
   "metadata": {
    "tags": [
     "remove-input"
    ]
   },
   "outputs": [
    {
     "name": "stdout",
     "output_type": "stream",
     "text": [
      "numpy==1.18.1\n"
     ]
    }
   ],
   "source": [
    "# %load get_modules.py\n",
    "import pkg_resources\n",
    "import types\n",
    "def get_imports():\n",
    "    for name, val in globals().items():\n",
    "        if isinstance(val, types.ModuleType):\n",
    "            # Split ensures you get root package, \n",
    "            # not just imported function\n",
    "            name = val.__name__.split(\".\")[0]\n",
    "\n",
    "        elif isinstance(val, type):\n",
    "            name = val.__module__.split(\".\")[0]\n",
    "\n",
    "        # Some packages are weird and have different\n",
    "        # imported names vs. system/pip names. Unfortunately,\n",
    "        # there is no systematic way to get pip names from\n",
    "        # a package's imported name. You'll have to add\n",
    "        # exceptions to this list manually!\n",
    "        poorly_named_packages = {\n",
    "            \"PIL\": \"Pillow\",\n",
    "            \"sklearn\": \"scikit-learn\"\n",
    "        }\n",
    "        if name in poorly_named_packages.keys():\n",
    "            name = poorly_named_packages[name]\n",
    "\n",
    "        yield name\n",
    "        \n",
    "        \n",
    "imports = list(set(get_imports()))\n",
    "\n",
    "# The only way I found to get the version of the root package\n",
    "# from only the name of the package is to cross-check the names \n",
    "# of installed packages vs. imported packages\n",
    "requirements = []\n",
    "for m in pkg_resources.working_set:\n",
    "    if m.project_name in imports and m.project_name!=\"pip\":\n",
    "        requirements.append((m.project_name, m.version))\n",
    "\n",
    "for r in requirements:\n",
    "    print(\"{}=={}\".format(*r))"
   ]
  }
 ],
 "metadata": {
  "celltoolbar": "Tags",
  "kernelspec": {
   "display_name": "Python 3",
   "language": "python",
   "name": "python3"
  },
  "language_info": {
   "codemirror_mode": {
    "name": "ipython",
    "version": 3
   },
   "file_extension": ".py",
   "mimetype": "text/x-python",
   "name": "python",
   "nbconvert_exporter": "python",
   "pygments_lexer": "ipython3",
   "version": "3.7.6"
  },
  "toc": {
   "base_numbering": 1,
   "nav_menu": {},
   "number_sections": false,
   "sideBar": true,
   "skip_h1_title": false,
   "title_cell": "Table of Contents",
   "title_sidebar": "Contents",
   "toc_cell": false,
   "toc_position": {
    "height": "calc(100% - 180px)",
    "left": "10px",
    "top": "150px",
    "width": "203.837px"
   },
   "toc_section_display": true,
   "toc_window_display": true
  },
  "varInspector": {
   "cols": {
    "lenName": 16,
    "lenType": 16,
    "lenVar": 40
   },
   "kernels_config": {
    "python": {
     "delete_cmd_postfix": "",
     "delete_cmd_prefix": "del ",
     "library": "var_list.py",
     "varRefreshCmd": "print(var_dic_list())"
    },
    "r": {
     "delete_cmd_postfix": ") ",
     "delete_cmd_prefix": "rm(",
     "library": "var_list.r",
     "varRefreshCmd": "cat(var_dic_list()) "
    }
   },
   "types_to_exclude": [
    "module",
    "function",
    "builtin_function_or_method",
    "instance",
    "_Feature"
   ],
   "window_display": false
  }
 },
 "nbformat": 4,
 "nbformat_minor": 4
}
