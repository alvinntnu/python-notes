{
 "cells": [
  {
   "cell_type": "markdown",
   "metadata": {},
   "source": [
    "# Data Structure\n",
    "\n",
    "- An quick overview of important data structures in Python\n",
    "- A List is typically a sequence of objects all having the same type, of arbitrary length. \n",
    "- A Tuple is typically a collection of objects of different types, of fixed length.\n"
   ]
  },
  {
   "cell_type": "code",
   "execution_count": 4,
   "metadata": {},
   "outputs": [
    {
     "data": {
      "text/plain": [
       "list"
      ]
     },
     "execution_count": 4,
     "metadata": {},
     "output_type": "execute_result"
    }
   ],
   "source": [
    "## Check object types\n",
    "type(23)\n",
    "type('some texts')\n",
    "c = [1, 2, 'some text']\n",
    "type(c)"
   ]
  },
  {
   "cell_type": "code",
   "execution_count": 17,
   "metadata": {},
   "outputs": [
    {
     "data": {
      "text/plain": [
       "{'one': 1, 'two': 2}"
      ]
     },
     "execution_count": 17,
     "metadata": {},
     "output_type": "execute_result"
    }
   ],
   "source": [
    "## Factory functions\n",
    "int(4.0)\n",
    "str(4)\n",
    "list()\n",
    "tuple('international')\n",
    "dict(one=1, two=2)"
   ]
  },
  {
   "cell_type": "code",
   "execution_count": 28,
   "metadata": {},
   "outputs": [
    {
     "data": {
      "text/plain": [
       "6"
      ]
     },
     "execution_count": 28,
     "metadata": {},
     "output_type": "execute_result"
    }
   ],
   "source": [
    "## Operations\n",
    "\n",
    "## Modulus\n",
    "15 % 4\n",
    "## Exponentiation\n",
    "4 ** 3\n",
    "-4 ** 2 # minus applies to the result\n",
    "(-4)**2\n",
    "\n",
    "## Random numbers\n",
    "import random\n",
    "random.randint(1,10)"
   ]
  },
  {
   "cell_type": "code",
   "execution_count": 77,
   "metadata": {},
   "outputs": [
    {
     "name": "stdout",
     "output_type": "stream",
     "text": [
      "\\O\n",
      "\t\n",
      "\n",
      "\n",
      "'\n",
      "\"\n",
      "\\\n",
      "This is the first sentence\n",
      "This is a second.\n",
      "And A third. \n"
     ]
    },
    {
     "data": {
      "text/plain": [
       "'The toy is 1234.568 meters long'"
      ]
     },
     "execution_count": 77,
     "metadata": {},
     "output_type": "execute_result"
    }
   ],
   "source": [
    "## Sequences\n",
    "\n",
    "## Membership\n",
    "'a' in 'track'\n",
    "9 in [1, 2, 3, 4]\n",
    "9 not in [1, 2, 3, 4]\n",
    "\n",
    "## Concatenation\n",
    "'this' + 'is'\n",
    "' '.join(['this','is'])\n",
    "\n",
    "## Subsetting Sequences\n",
    "mylist = ['a', 'b','c','a word','e']\n",
    "mylist[1]\n",
    "mylist[0]\n",
    "mylist[-1]\n",
    "mylist[:3]\n",
    "mylist[3][2:6]\n",
    "\n",
    "##Strings\n",
    "mystr = '   This is a seentence sample.  '\n",
    "mystr.capitalize()\n",
    "mystr.title()\n",
    "mystr.upper()\n",
    "mystr.lower()\n",
    "mystr.rstrip()\n",
    "mystr.lstrip()\n",
    "mystr.strip()\n",
    "mystr.find('is')\n",
    "mystr.replace('is','was')\n",
    "\n",
    "## String Comparison\n",
    "## sapce > num > upper > lower\n",
    "' ' > '0'\n",
    "'0' > 'a'\n",
    "'z' > 'm'\n",
    "'m' > 'M'\n",
    "\n",
    "## Special Characters\n",
    "print('\\O')\n",
    "print('\\t')\n",
    "print('\\n')\n",
    "print('\\'')\n",
    "print('\\\"')\n",
    "print('\\\\')\n",
    "\n",
    "### Triple Quotes\n",
    "\n",
    "multiline = \"\"\"This is the first sentence\n",
    "This is a second.\n",
    "And A third. \"\"\"\n",
    "\n",
    "print(multiline)\n",
    "\n",
    "### Format Strings\n",
    "##`formatstring % (arguments to format)`\n",
    "ntoys = 4\n",
    "myname = 'Alvin'\n",
    "length = 1234.5678\n",
    "'%s has %d types' % (myname, ntoys)\n",
    "'The toy is %.3f meters long' % (length)\n"
   ]
  },
  {
   "cell_type": "code",
   "execution_count": 92,
   "metadata": {},
   "outputs": [
    {
     "name": "stdout",
     "output_type": "stream",
     "text": [
      "['Tom', 'John']\n",
      "John\n",
      "['Tom']\n"
     ]
    },
    {
     "data": {
      "text/plain": [
       "0"
      ]
     },
     "execution_count": 92,
     "metadata": {},
     "output_type": "execute_result"
    }
   ],
   "source": [
    "## Lists\n",
    "list_empty = []\n",
    "list_strings = ['Amy', 'Emma','Jane']\n",
    "list_mixed = ['Amy','Emma', 5, 6]\n",
    "list_embeded = [1, 3, 4, [99, 100, 101]]\n",
    "len(list_empty)\n",
    "len(list_mixed)\n",
    "len(list_embeded)\n",
    "\n",
    "## List operations\n",
    "list_empty.append('Tom')\n",
    "list_empty.append('John')\n",
    "print(list_empty)\n",
    "print(list_empty[1])\n",
    "del list_empty[1]\n",
    "print(list_empty)\n",
    "list_mixed.index('Amy')\n",
    "# list_mixed.index('Alvin')\n",
    "\n",
    "## Other functions\n",
    "## max(), min(), sum(), sorted(), reversed()"
   ]
  },
  {
   "cell_type": "code",
   "execution_count": 99,
   "metadata": {},
   "outputs": [
    {
     "name": "stdout",
     "output_type": "stream",
     "text": [
      "(1, 'mon', ['feb', 2])\n"
     ]
    },
    {
     "data": {
      "text/plain": [
       "3"
      ]
     },
     "execution_count": 99,
     "metadata": {},
     "output_type": "execute_result"
    }
   ],
   "source": [
    "## Tuples\n",
    "\n",
    "tuple_numbers = (1,2,3,4,5,6,7)\n",
    "tuple_strings = ('mon','tue','wed','thu','fri','sat','sun')\n",
    "tuple_mixed = (1, 'mon', ['feb', 2])\n",
    "print(tuple_mixed)\n",
    "len(tuple_mixed)"
   ]
  },
  {
   "cell_type": "code",
   "execution_count": 109,
   "metadata": {},
   "outputs": [
    {
     "data": {
      "text/plain": [
       "'NA'"
      ]
     },
     "execution_count": 109,
     "metadata": {},
     "output_type": "execute_result"
    }
   ],
   "source": [
    "## Dictionary\n",
    "\n",
    "dict_days = {'M': 'Monday', 'T':'Tuesday', 'W':'Wednesday'}\n",
    "dict_days['M']\n",
    "#dict_days['S']\n",
    "dict_days['S']='Sunday'\n",
    "dict_days['S']\n",
    "'A' in dict_days\n",
    "dict_days.keys()\n",
    "dict_days.values()\n",
    "dict_days.get('A','NA')"
   ]
  },
  {
   "cell_type": "code",
   "execution_count": 15,
   "metadata": {},
   "outputs": [
    {
     "name": "stdout",
     "output_type": "stream",
     "text": [
      "Hello, Alvin! This is your No.5 book!\n",
      "An apple a day keeps the doctor away.\n",
      "An doctor a day keeps the apple away.\n",
      "The book is difficult!\n",
      "Jack: 45\n",
      "Jack: 45Jessica: 78\n"
     ]
    }
   ],
   "source": [
    "## Format strings\n",
    "print('Hello, {}! This is your No.{} book!'.format('Alvin',5))\n",
    "print('An {0} a day keeps the {1} away.'.format('apple','doctor'))\n",
    "print('An {1} a day keeps the {0} away.'.format('apple','doctor'))\n",
    "print('The {noun} is {adj}!'.format(noun='book',adj='difficult'))\n",
    "\n",
    "## Format strings with Dictionary\n",
    "table = {'John': 98, 'Mary': 30, 'Jessica': 78, 'Goerge': 89, 'Jack': 45}\n",
    "print('Jack: {0[Jack]:d}'.format(table))\n",
    "print('Jack: {Jack:d}Jessica: {Jessica:d}'.format(**table))"
   ]
  },
  {
   "cell_type": "code",
   "execution_count": 27,
   "metadata": {},
   "outputs": [
    {
     "name": "stdout",
     "output_type": "stream",
     "text": [
      "The value of pi is 3.14\n"
     ]
    }
   ],
   "source": [
    "## Old string formatting\n",
    "import math\n",
    "print('The value of pi is %1.2f' % math.pi) # specify number of digits before and after ."
   ]
  }
 ],
 "metadata": {
  "kernelspec": {
   "display_name": "Python 3",
   "language": "python",
   "name": "python3"
  },
  "language_info": {
   "codemirror_mode": {
    "name": "ipython",
    "version": 3
   },
   "file_extension": ".py",
   "mimetype": "text/x-python",
   "name": "python",
   "nbconvert_exporter": "python",
   "pygments_lexer": "ipython3",
   "version": "3.7.6"
  }
 },
 "nbformat": 4,
 "nbformat_minor": 4
}
