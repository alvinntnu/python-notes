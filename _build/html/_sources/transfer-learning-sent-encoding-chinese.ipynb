{
 "cells": [
  {
   "cell_type": "markdown",
   "metadata": {
    "id": "M5WiwUUuJGks"
   },
   "source": [
    "# Universal Sentence Encoding\n",
    "\n",
    "- Google released this pre-trained Universal Sentence Encoder, which supports 16 languages, including traditional Chinese!!\n",
    "- [Universal Sentence Encoder](https://tfhub.dev/google/universal-sentence-encoder-multilingual-large/3)\n",
    "- This universal encoding allows us to compute the semantic similarities between sentences in one language as well as sentences across different languages\n",
    "\n"
   ]
  },
  {
   "cell_type": "code",
   "execution_count": 1,
   "metadata": {
    "executionInfo": {
     "elapsed": 4910,
     "status": "ok",
     "timestamp": 1601092115064,
     "user": {
      "displayName": "Alvin Chen",
      "photoUrl": "",
      "userId": "06244732172561186175"
     },
     "user_tz": -480
    },
    "id": "Z3Sq9H-QG8v5"
   },
   "outputs": [],
   "source": [
    "!pip3 install tensorflow_text>=2.0.0rc0"
   ]
  },
  {
   "cell_type": "code",
   "execution_count": 2,
   "metadata": {
    "executionInfo": {
     "elapsed": 6889,
     "status": "ok",
     "timestamp": 1601092117052,
     "user": {
      "displayName": "Alvin Chen",
      "photoUrl": "",
      "userId": "06244732172561186175"
     },
     "user_tz": -480
    },
    "id": "qfesbMq8EimL"
   },
   "outputs": [],
   "source": [
    "import tensorflow_hub as hub\n",
    "import numpy as np\n",
    "import tensorflow_text\n"
   ]
  },
  {
   "cell_type": "code",
   "execution_count": 3,
   "metadata": {
    "executionInfo": {
     "elapsed": 20340,
     "status": "ok",
     "timestamp": 1601092130509,
     "user": {
      "displayName": "Alvin Chen",
      "photoUrl": "",
      "userId": "06244732172561186175"
     },
     "user_tz": -480
    },
    "id": "PjC-egeuHKs9"
   },
   "outputs": [],
   "source": [
    "# Some texts of different lengths.\n",
    "chinese_sentences = [\"今天天氣還不錯\",\n",
    "                     \"我昨天去那家店買本書\",\n",
    "                     \"他的名字是奶奶取的\",\n",
    "                     \"這天氣也太美妙了\"]\n",
    "\n",
    "english_sentences = [\"It's nice today\",\n",
    "                     \"I bought a book at the store yesterday\",\n",
    "                     \"His granny gave him this beautiful name\",\n",
    "                     \"The weather is just lovely\"]\n",
    "\n",
    "embed = hub.load(\"https://tfhub.dev/google/universal-sentence-encoder-multilingual-large/3\")"
   ]
  },
  {
   "cell_type": "code",
   "execution_count": 4,
   "metadata": {
    "executionInfo": {
     "elapsed": 23806,
     "status": "ok",
     "timestamp": 1601092133980,
     "user": {
      "displayName": "Alvin Chen",
      "photoUrl": "",
      "userId": "06244732172561186175"
     },
     "user_tz": -480
    },
    "id": "IXIN_aCDHitt"
   },
   "outputs": [],
   "source": [
    "# Compute embeddings.\n",
    "\n",
    "ch_result = embed(chinese_sentences)\n",
    "en_result = embed(english_sentences)\n",
    "# Compute similarity matrix. Higher score indicates greater similarity.\n",
    "similarity_matrix_ch = np.inner(ch_result, ch_result)\n",
    "similarity_matrix_en = np.inner(en_result, en_result)\n",
    "similarity_matrix_ce = np.inner(ch_result, en_result)"
   ]
  },
  {
   "cell_type": "code",
   "execution_count": 5,
   "metadata": {
    "colab": {
     "base_uri": "https://localhost:8080/",
     "height": 87
    },
    "executionInfo": {
     "elapsed": 23801,
     "status": "ok",
     "timestamp": 1601092133981,
     "user": {
      "displayName": "Alvin Chen",
      "photoUrl": "",
      "userId": "06244732172561186175"
     },
     "user_tz": -480
    },
    "id": "2NLmJV3eHyE3",
    "outputId": "5072e512-c48b-4112-db95-e625cd865640"
   },
   "outputs": [
    {
     "name": "stdout",
     "output_type": "stream",
     "text": [
      "[[1.0000001  0.24749225 0.06170724 0.89655745]\n",
      " [0.24749225 1.0000002  0.03579599 0.16391829]\n",
      " [0.06170724 0.03579599 0.9999998  0.06162469]\n",
      " [0.89655745 0.16391829 0.06162469 0.9999999 ]]\n"
     ]
    }
   ],
   "source": [
    "print(similarity_matrix_ch)"
   ]
  },
  {
   "cell_type": "code",
   "execution_count": 6,
   "metadata": {
    "colab": {
     "base_uri": "https://localhost:8080/",
     "height": 87
    },
    "executionInfo": {
     "elapsed": 23794,
     "status": "ok",
     "timestamp": 1601092133982,
     "user": {
      "displayName": "Alvin Chen",
      "photoUrl": "",
      "userId": "06244732172561186175"
     },
     "user_tz": -480
    },
    "id": "8Xq2kC2yIvne",
    "outputId": "7b203d53-eba0-4aaf-b1ee-14b7b5586eca"
   },
   "outputs": [
    {
     "name": "stdout",
     "output_type": "stream",
     "text": [
      "[[1.0000001  0.2479216  0.17508116 0.50977063]\n",
      " [0.2479216  1.0000002  0.11042947 0.08615555]\n",
      " [0.17508116 0.11042947 1.0000002  0.20739618]\n",
      " [0.50977063 0.08615555 0.20739618 1.0000002 ]]\n"
     ]
    }
   ],
   "source": [
    "print(similarity_matrix_en)"
   ]
  },
  {
   "cell_type": "code",
   "execution_count": 7,
   "metadata": {
    "colab": {
     "base_uri": "https://localhost:8080/",
     "height": 87
    },
    "executionInfo": {
     "elapsed": 23788,
     "status": "ok",
     "timestamp": 1601092133982,
     "user": {
      "displayName": "Alvin Chen",
      "photoUrl": "",
      "userId": "06244732172561186175"
     },
     "user_tz": -480
    },
    "id": "YrOq5fl-I1eE",
    "outputId": "e6562cb0-9c2f-4ec2-bd6f-e35625901d19"
   },
   "outputs": [
    {
     "name": "stdout",
     "output_type": "stream",
     "text": [
      "[[0.7144892  0.22732086 0.09561004 0.59900224]\n",
      " [0.18444145 0.8110584  0.07247735 0.08440702]\n",
      " [0.12534358 0.04717048 0.73678607 0.09883476]\n",
      " [0.6257671  0.13114104 0.12800807 0.72508615]]\n"
     ]
    }
   ],
   "source": [
    "print(similarity_matrix_ce)"
   ]
  }
 ],
 "metadata": {
  "colab": {
   "authorship_tag": "ABX9TyOH1POT2/dmuNVCr0YQYaKl",
   "collapsed_sections": [],
   "name": "transfer-learning-sent-encoding-chinese.ipynb",
   "provenance": []
  },
  "kernelspec": {
   "display_name": "Python 3",
   "language": "python",
   "name": "python3"
  },
  "language_info": {
   "codemirror_mode": {
    "name": "ipython",
    "version": 3
   },
   "file_extension": ".py",
   "mimetype": "text/x-python",
   "name": "python",
   "nbconvert_exporter": "python",
   "pygments_lexer": "ipython3",
   "version": "3.7.6"
  },
  "toc": {
   "base_numbering": 1,
   "nav_menu": {},
   "number_sections": false,
   "sideBar": true,
   "skip_h1_title": false,
   "title_cell": "Table of Contents",
   "title_sidebar": "Contents",
   "toc_cell": false,
   "toc_position": {},
   "toc_section_display": true,
   "toc_window_display": false
  },
  "varInspector": {
   "cols": {
    "lenName": 16,
    "lenType": 16,
    "lenVar": 40
   },
   "kernels_config": {
    "python": {
     "delete_cmd_postfix": "",
     "delete_cmd_prefix": "del ",
     "library": "var_list.py",
     "varRefreshCmd": "print(var_dic_list())"
    },
    "r": {
     "delete_cmd_postfix": ") ",
     "delete_cmd_prefix": "rm(",
     "library": "var_list.r",
     "varRefreshCmd": "cat(var_dic_list()) "
    }
   },
   "types_to_exclude": [
    "module",
    "function",
    "builtin_function_or_method",
    "instance",
    "_Feature"
   ],
   "window_display": false
  }
 },
 "nbformat": 4,
 "nbformat_minor": 1
}
