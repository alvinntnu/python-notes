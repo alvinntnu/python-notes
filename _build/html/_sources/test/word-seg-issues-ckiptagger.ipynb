{
 "cells": [
  {
   "cell_type": "markdown",
   "metadata": {},
   "source": [
    "# Word Segmentation Issues\n",
    "\n"
   ]
  },
  {
   "cell_type": "code",
   "execution_count": null,
   "metadata": {
    "scrolled": true,
    "tags": [
     "hide-output",
     "hide-input"
    ]
   },
   "outputs": [],
   "source": [
    "from ckiptagger import data_utils, construct_dictionary, WS, POS, NER"
   ]
  },
  {
   "cell_type": "code",
   "execution_count": 2,
   "metadata": {
    "tags": [
     "hide-input"
    ]
   },
   "outputs": [],
   "source": [
    "# Set Parameter Path\n",
    "MODEL_PATH = '/Users/Alvin/Dropbox/Corpus/CKIP_WordSeg/data/'\n",
    "ws = WS(MODEL_PATH)\n",
    "pos = POS(MODEL_PATH)\n",
    "#ner = NER(MODEL_PATH)"
   ]
  },
  {
   "cell_type": "code",
   "execution_count": 36,
   "metadata": {
    "tags": [
     "hide-input"
    ]
   },
   "outputs": [
    {
     "name": "stdout",
     "output_type": "stream",
     "text": [
      "\n",
      "'他每天開車上班，整天塞啊！'\n",
      "==========\n",
      "他(Nh)　每(Nes)　天(Nf)　開車(VA)　上班(VA)　，(COMMACATEGORY)　整(Neqa)　天(Nf)　塞(VC)　啊(T)　！(EXCLAMATIONCATEGORY)　\n",
      "\n",
      "\n",
      "\n",
      "'他每天開著車，沒客人。'\n",
      "==========\n",
      "他(Nh)　每(Nes)　天(Nf)　開(VC)　著(Di)　車(Na)　，(COMMACATEGORY)　沒(VJ)　客人(Na)　。(PERIODCATEGORY)　\n",
      "\n",
      "\n",
      "\n",
      "'他每天開車上班得開一小時，整天塞啊'\n",
      "==========\n",
      "他(Nh)　每(Nes)　天(Nf)　開車(VA)　上班(VA)　得(DE)　開(VC)　一(Neu)　小時(Na)　，(COMMACATEGORY)　整(Neqa)　天(Nf)　塞(VC)　啊(T)　\n",
      "\n",
      "\n",
      "\n",
      "'這間店每天八點準時開門。'\n",
      "==========\n",
      "這(Nep)　間(Nf)　店(Nc)　每(Nes)　天(Nf)　八點(Nd)　準時(VH)　開門(VA)　。(PERIODCATEGORY)　\n",
      "\n",
      "\n",
      "\n",
      "'這小女孩很高呢！'\n",
      "==========\n",
      "這(Nep)　小女孩(Na)　很(Dfa)　高(VH)　呢(T)　！(EXCLAMATIONCATEGORY)　\n",
      "\n",
      "\n",
      "\n",
      "'這小女孩很高這小女孩好高！'\n",
      "==========\n",
      "這(Nep)　小女孩(Na)　很(Dfa)　高(VH)　這(Nep)　小女孩(Na)　好(Dfa)　高(VH)　！(EXCLAMATIONCATEGORY)　\n",
      "\n",
      "\n",
      "\n",
      "'這小女孩很愛看書'\n",
      "==========\n",
      "這(Nep)　小女孩(Na)　很(Dfa)　愛(VL)　看書(VA)　\n",
      "\n",
      "\n",
      "\n",
      "'這本書好像是他寫的'\n",
      "==========\n",
      "這(Nep)　本(Nf)　書(Na)　好像(D)　是(SHI)　他(Nh)　寫(VC)　的(DE)　\n",
      "\n",
      "\n",
      "\n",
      "'這本書像是他寫的'\n",
      "==========\n",
      "這(Nep)　本(Nf)　書(Na)　像是(SHI)　他(Nh)　寫(VC)　的(DE)　\n",
      "\n",
      "\n",
      "\n",
      "'他慢慢地走進教室裡'\n",
      "==========\n",
      "他(Nh)　慢慢(VH)　地(DE)　走進(VCL)　教室(Nc)　裡(Ncd)　\n",
      "\n",
      "\n",
      "\n",
      "'他慢慢得走進教室裡'\n",
      "==========\n",
      "他(Nh)　慢慢(VH)　得(DE)　走進(VCL)　教室(Nc)　裡(Ncd)　\n",
      "\n",
      "\n",
      "\n",
      "'這本書看起來很有趣'\n",
      "==========\n",
      "這(Nep)　本(Nf)　書(Na)　看起來(D)　很(Dfa)　有趣(VH)　\n",
      "\n",
      "\n",
      "\n",
      "'他拿起這本書'\n",
      "==========\n",
      "他(Nh)　拿起(VC)　這(Nep)　本(Nf)　書(Na)　\n",
      "\n",
      "\n",
      "\n",
      "'這小男孩嚐看味道怎麼樣'\n",
      "==========\n",
      "這(Nep)　小(VH)　男孩(Na)　嚐看(VC)　味道(Na)　怎麼樣(VH)　\n",
      "\n",
      "\n",
      "\n",
      "'這小男孩嚐看看味道怎麼樣'\n",
      "==========\n",
      "這(Nep)　小(VH)　男孩(Na)　嚐(VC)　看看(Di)　味道(Na)　怎麼樣(VH)　\n",
      "\n",
      "\n",
      "\n",
      "'現代年輕人都吃得起高檔餐廳'\n",
      "==========\n",
      "現代(VH)　年輕人(Na)　都(D)　吃得起(VJ)　高檔(A)　餐廳(Nc)　\n",
      "\n",
      "\n",
      "\n",
      "'這孩子吃到棒棒糖好開心'\n",
      "==========\n",
      "這(Nep)　孩子(Na)　吃到(VC)　棒棒糖(Na)　好(Dfa)　開心(VH)　\n",
      "\n",
      "\n",
      "\n",
      "'這孩子吃到掉滿地'\n",
      "==========\n",
      "這(Nep)　孩子(Na)　吃到(VC)　掉滿(VH)　地(DE)　\n",
      "\n",
      "\n",
      "\n",
      "'這孩子吃到全身都是'\n",
      "==========\n",
      "這(Nep)　孩子(Na)　吃到(VC)　全(Neqa)　身(Na)　都(D)　是(SHI)　\n",
      "\n",
      "\n"
     ]
    }
   ],
   "source": [
    "## Raw text corpus \n",
    "sentence_list = ['他每天開車上班，整天塞啊！',\n",
    "                 '他每天開著車，沒客人。',\n",
    "                '他每天開車上班得開一小時，整天塞啊',\n",
    "                '這間店每天八點準時開門。',\n",
    "                '這小女孩很高呢！','這小女孩很高'\n",
    "                '這小女孩好高！',\n",
    "                '這小女孩很愛看書',\n",
    "                '這本書好像是他寫的',\n",
    "                '這本書像是他寫的',\n",
    "                 '他慢慢地走進教室裡','他慢慢得走進教室裡',\n",
    "                 '這本書看起來很有趣',\n",
    "                 '他拿起這本書',\n",
    "                 '這小男孩嚐看味道怎麼樣','這小男孩嚐看看味道怎麼樣', ## 屈折詞綴切分\n",
    "                 '現代年輕人都吃得起高檔餐廳',\n",
    "                 '這孩子吃到棒棒糖好開心','這孩子吃到掉滿地','這孩子吃到全身都是'\n",
    "            ]\n",
    "\n",
    "word_list = ws(sentence_list)\n",
    "pos_list = pos(word_list)\n",
    "def print_word_pos_sentence(word_sentence, pos_sentence):\n",
    "    assert len(word_sentence) == len(pos_sentence)\n",
    "    for word, pos in zip(word_sentence, pos_sentence):\n",
    "        print(f\"{word}({pos})\", end=\"\\u3000\")\n",
    "    print()\n",
    "    return\n",
    "    \n",
    "for i, sentence in enumerate(sentence_list):\n",
    "    print()\n",
    "    print(f\"'{sentence}'\")\n",
    "    print(\"==\"*5)\n",
    "    print_word_pos_sentence(word_list[i],  pos_list[i])\n",
    "    print('\\n')\n",
    "    "
   ]
  }
 ],
 "metadata": {
  "kernelspec": {
   "display_name": "ckiptagger",
   "language": "python",
   "name": "ckiptagger"
  },
  "language_info": {
   "codemirror_mode": {
    "name": "ipython",
    "version": 3
   },
   "file_extension": ".py",
   "mimetype": "text/x-python",
   "name": "python",
   "nbconvert_exporter": "python",
   "pygments_lexer": "ipython3",
   "version": "3.6.12"
  },
  "toc": {
   "base_numbering": 1,
   "nav_menu": {},
   "number_sections": false,
   "sideBar": true,
   "skip_h1_title": false,
   "title_cell": "Table of Contents",
   "title_sidebar": "Contents",
   "toc_cell": false,
   "toc_position": {},
   "toc_section_display": true,
   "toc_window_display": false
  },
  "varInspector": {
   "cols": {
    "lenName": 16,
    "lenType": 16,
    "lenVar": 40
   },
   "kernels_config": {
    "python": {
     "delete_cmd_postfix": "",
     "delete_cmd_prefix": "del ",
     "library": "var_list.py",
     "varRefreshCmd": "print(var_dic_list())"
    },
    "r": {
     "delete_cmd_postfix": ") ",
     "delete_cmd_prefix": "rm(",
     "library": "var_list.r",
     "varRefreshCmd": "cat(var_dic_list()) "
    }
   },
   "types_to_exclude": [
    "module",
    "function",
    "builtin_function_or_method",
    "instance",
    "_Feature"
   ],
   "window_display": false
  }
 },
 "nbformat": 4,
 "nbformat_minor": 4
}
