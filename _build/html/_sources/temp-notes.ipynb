{
 "cells": [
  {
   "cell_type": "markdown",
   "metadata": {},
   "source": [
    "# Python Fundamentals"
   ]
  },
  {
   "cell_type": "markdown",
   "metadata": {},
   "source": [
    "- Fundamentals\n",
    "- Data Structure\n",
    "- Program Structure\n",
    "- Input and Output\n",
    "- Classes and Objects"
   ]
  }
 ],
 "metadata": {
  "kernelspec": {
   "display_name": "r-tensorlfow",
   "language": "python",
   "name": "r-tensorlfow"
  },
  "widgets": {
   "application/vnd.jupyter.widget-state+json": {
    "state": {},
    "version_major": 2,
    "version_minor": 0
   }
  }
 },
 "nbformat": 4,
 "nbformat_minor": 4
}
