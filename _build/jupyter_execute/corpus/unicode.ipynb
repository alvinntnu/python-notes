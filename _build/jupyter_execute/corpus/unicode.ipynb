{
 "cells": [
  {
   "cell_type": "markdown",
   "metadata": {},
   "source": [
    "# Unicode"
   ]
  },
  {
   "cell_type": "markdown",
   "metadata": {},
   "source": [
    "- Dealing with unicode texts can be tedious sometimes.\n",
    "- It is good to have a basic understanding of the [Unicode Character Database](https://unicodebook.readthedocs.io/index.html)\n",
    "- In particular, this notebook focuses on the Python module `unicodedata`."
   ]
  },
  {
   "cell_type": "markdown",
   "metadata": {},
   "source": [
    "## Character Name"
   ]
  },
  {
   "cell_type": "code",
   "execution_count": 11,
   "metadata": {},
   "outputs": [
    {
     "name": "stdout",
     "output_type": "stream",
     "text": [
      "LATIN CAPITAL LETTER A\n",
      "CJK UNIFIED IDEOGRAPH-6211\n"
     ]
    }
   ],
   "source": [
    "import unicodedata\n",
    "\n",
    "print(unicodedata.name('A'))\n",
    "print(unicodedata.name('我'))"
   ]
  },
  {
   "cell_type": "markdown",
   "metadata": {},
   "source": [
    "## Characrer to Numbers"
   ]
  },
  {
   "cell_type": "code",
   "execution_count": 26,
   "metadata": {},
   "outputs": [
    {
     "name": "stdout",
     "output_type": "stream",
     "text": [
      "4.0\n",
      "1.0\n"
     ]
    }
   ],
   "source": [
    "print(unicodedata.numeric('四'))  # any character\n",
    "print(unicodedata.numeric('壹'))  # any character\n",
    "#print(unicodedata.digit('四')) # digits only\n",
    "#print(unicodedata.decimal('六'))"
   ]
  },
  {
   "cell_type": "markdown",
   "metadata": {},
   "source": [
    "## Look-up By Name"
   ]
  },
  {
   "cell_type": "code",
   "execution_count": 10,
   "metadata": {
    "scrolled": true
   },
   "outputs": [
    {
     "name": "stdout",
     "output_type": "stream",
     "text": [
      "我\n",
      "{\n"
     ]
    }
   ],
   "source": [
    "print(unicodedata.lookup('CJK UNIFIED IDEOGRAPH-6211'))\n",
    "print(unicodedata.lookup('LEFT CURLY BRACKET'))"
   ]
  },
  {
   "cell_type": "markdown",
   "metadata": {},
   "source": [
    "## Unicode Category"
   ]
  },
  {
   "cell_type": "code",
   "execution_count": 32,
   "metadata": {},
   "outputs": [
    {
     "name": "stdout",
     "output_type": "stream",
     "text": [
      "Ll\n",
      "Lu\n",
      "Ps\n",
      "Po\n",
      "Sc\n",
      "Lo\n"
     ]
    }
   ],
   "source": [
    "print(unicodedata.category('a'))\n",
    "print(unicodedata.category('A'))\n",
    "print(unicodedata.category('{'))\n",
    "print(unicodedata.category('。'))\n",
    "print(unicodedata.category('$'))\n",
    "print(unicodedata.category('我'))"
   ]
  },
  {
   "cell_type": "markdown",
   "metadata": {},
   "source": [
    "## Normalization"
   ]
  },
  {
   "cell_type": "markdown",
   "metadata": {},
   "source": [
    "- Ways of normalization: NFD, NFC, NFKD, NFKC\n",
    "- Suggested use:**NFKC**\n",
    "- Meaning:\n",
    "    - D = Decomposition (will change the length of the original form)\n",
    "    - C = Composition \n",
    "    - K = Compatibility (will change the original form)"
   ]
  },
  {
   "cell_type": "code",
   "execution_count": 60,
   "metadata": {
    "scrolled": true
   },
   "outputs": [
    {
     "name": "stdout",
     "output_type": "stream",
     "text": [
      "中英文abc,,。..ABC123\n",
      "中英文abc,,。..ABC123\n",
      "中英文abc,，。.．ＡＢＣ１２３\n",
      "中英文abc,，。.．ＡＢＣ１２３\n"
     ]
    }
   ],
   "source": [
    "## Chinese characters with full-width English letters and punctuations\n",
    "text = '中英文abc,，。.．ＡＢＣ１２３'\n",
    "print(unicodedata.normalize('NFKD', text))\n",
    "print(unicodedata.normalize('NFKC', text))  # recommended method\n",
    "print(unicodedata.normalize('NFC', text))\n",
    "print(unicodedata.normalize('NFD', text))"
   ]
  },
  {
   "cell_type": "code",
   "execution_count": 66,
   "metadata": {},
   "outputs": [
    {
     "name": "stdout",
     "output_type": "stream",
     "text": [
      "English characters with full-wdiths ABC\n",
      "English characters with full-wdiths ABC\n",
      "English characters with full-wdiths \n",
      "English characters with full-wdiths \n"
     ]
    }
   ],
   "source": [
    "text = 'English characters with full-wdiths ＡＢＣ。'\n",
    "\n",
    "## Encode the string in ASCII and find compatible characters\n",
    "print(\n",
    "    unicodedata.normalize('NFKC',\n",
    "                          text).encode('ascii',\n",
    "                                       'ignore').decode('utf-8', 'ignore'))\n",
    "print(\n",
    "    unicodedata.normalize('NFKD',\n",
    "                          text).encode('ascii',\n",
    "                                       'ignore').decode('utf-8', 'ignore'))\n",
    "\n",
    "## Encode the string in ASCII and but remove ASCII-incompatible chars\n",
    "\n",
    "print(\n",
    "    unicodedata.normalize('NFC',\n",
    "                          text).encode('ascii',\n",
    "                                       'ignore').decode('utf-8', 'ignore'))\n",
    "print(\n",
    "    unicodedata.normalize('NFD',\n",
    "                          text).encode('ascii',\n",
    "                                       'ignore').decode('utf-8', 'ignore'))"
   ]
  },
  {
   "cell_type": "code",
   "execution_count": 79,
   "metadata": {},
   "outputs": [
    {
     "data": {
      "text/plain": [
       "'Kluft skrams infor pa federal electoral groe'"
      ]
     },
     "execution_count": 79,
     "metadata": {},
     "output_type": "execute_result"
    }
   ],
   "source": [
    "text = 'Klüft skräms inför på fédéral électoral große'\n",
    "\n",
    "unicodedata.normalize('NFKD', text).encode('ascii',\n",
    "                                           'ignore').decode('utf-8', 'ignore')"
   ]
  },
  {
   "cell_type": "markdown",
   "metadata": {},
   "source": [
    "## Normalizing Texts"
   ]
  },
  {
   "cell_type": "code",
   "execution_count": 105,
   "metadata": {},
   "outputs": [
    {
     "name": "stdout",
     "output_type": "stream",
     "text": [
      "中文ＣＨＩＮＥＳＥ o 2020520 alvingmalcob\n",
      "中文ＣＨＩＮＥＳＥoalvingmalcob\n",
      "中文。！＝=.= ＾＾ 2020/5/20 @.@%&*\n",
      "中文\n"
     ]
    }
   ],
   "source": [
    "text = \"中文ＣＨＩＮＥＳＥ。！＝=.= ＾o＾ 2020/5/20 alvin@gmal.cob@%&*\"\n",
    "\n",
    "# remove puncs/symbols\n",
    "print(''.join(\n",
    "    [c for c in text if unicodedata.category(c)[0] not in [\"P\", \"S\"]]))\n",
    "\n",
    "# select letters\n",
    "print(''.join([c for c in text if unicodedata.category(c)[0] in [\"L\"]]))\n",
    "\n",
    "# remove alphabets\n",
    "print(''.join(\n",
    "    [c for c in text if unicodedata.category(c)[:2] not in [\"Lu\", 'Ll']]))\n",
    "\n",
    "# select Chinese chars?\n",
    "print(''.join([c for c in text if unicodedata.category(c)[:2] in [\"Lo\"]]))"
   ]
  },
  {
   "cell_type": "markdown",
   "metadata": {},
   "source": [
    "```{note}\n",
    "It seems that the unicode catetory **Lo** is good to identify Chinese characters?\n",
    "```"
   ]
  }
 ],
 "metadata": {
  "kernelspec": {
   "display_name": "python-notes",
   "language": "python",
   "name": "python-notes"
  },
  "language_info": {
   "codemirror_mode": {
    "name": "ipython",
    "version": 3
   },
   "file_extension": ".py",
   "mimetype": "text/x-python",
   "name": "python",
   "nbconvert_exporter": "python",
   "pygments_lexer": "ipython3",
   "version": "3.7.0"
  },
  "toc": {
   "base_numbering": 1,
   "nav_menu": {},
   "number_sections": false,
   "sideBar": true,
   "skip_h1_title": false,
   "title_cell": "Table of Contents",
   "title_sidebar": "Contents",
   "toc_cell": false,
   "toc_position": {},
   "toc_section_display": true,
   "toc_window_display": false
  },
  "varInspector": {
   "cols": {
    "lenName": 16,
    "lenType": 16,
    "lenVar": 40
   },
   "kernels_config": {
    "python": {
     "delete_cmd_postfix": "",
     "delete_cmd_prefix": "del ",
     "library": "var_list.py",
     "varRefreshCmd": "print(var_dic_list())"
    },
    "r": {
     "delete_cmd_postfix": ") ",
     "delete_cmd_prefix": "rm(",
     "library": "var_list.r",
     "varRefreshCmd": "cat(var_dic_list()) "
    }
   },
   "types_to_exclude": [
    "module",
    "function",
    "builtin_function_or_method",
    "instance",
    "_Feature"
   ],
   "window_display": false
  }
 },
 "nbformat": 4,
 "nbformat_minor": 4
}