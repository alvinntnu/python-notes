{
 "cells": [
  {
   "cell_type": "markdown",
   "metadata": {},
   "source": [
    "# Web Crawler"
   ]
  },
  {
   "cell_type": "code",
   "execution_count": 1,
   "metadata": {},
   "outputs": [],
   "source": [
    "import requests\n",
    "from bs4 import BeautifulSoup as soup  # HTML data structure\n",
    "\n",
    "# extract article hyperlinks from an index page\n",
    "def extractArtLinks(url):\n",
    "    r = requests.get(url, cookies={'over18':'1'})\n",
    "    page_soup = soup(r.text, \"html.parser\")\n",
    "    containers = page_soup.findAll(\"div\", {\"class\": \"r-ent\"})\n",
    "    art_links = []\n",
    "    for container in containers:\n",
    "        # Finds all link tags \"a\" from within the first div.\n",
    "        art_link = container.find('a')\n",
    "        if art_link:\n",
    "            #print(art_link['href'])\n",
    "            #print(container.find('div',{'class':'title'}).get_text())\n",
    "            art_meta = container.find('div',{'class':'meta'})\n",
    "            #print(art_meta.find('div',{'class':'author'}).get_text())\n",
    "            #print(art_meta.find('div',{'class':'date'}).get_text())\n",
    "\n",
    "            art_links.append({\n",
    "                'push': container.find('div',{'class':'nrec'}).get_text(),\n",
    "                'title': container.find('div',{'class':'title'}).get_text().strip(),\n",
    "                'date': art_meta.find('div',{'class':'date'}).get_text(),\n",
    "                'author': art_meta.find('div',{'class':'author'}).get_text(),\n",
    "                'link': art_link['href'],\n",
    "                'text': extractArtText('https://www.ptt.cc' + art_link['href'])\n",
    "            })\n",
    "\n",
    "    return(art_links)\n",
    "\n",
    "# find the previous index page link\n",
    "def findPrevIndex(url):\n",
    "    r = requests.get(url, cookies={'over18':'1'})\n",
    "    page_soup = soup(r.text,\"html.parser\")\n",
    "    btn = page_soup.select('div.btn-group > a')\n",
    "    up_page_href = btn[3]['href']\n",
    "    next_page_url = 'https://www.ptt.cc' + up_page_href\n",
    "    return(next_page_url)\n",
    "\n",
    "# extract article contents from  the article hyperlink\n",
    "def extractArtText(url):\n",
    "    r = requests.get(url, cookies={'over18':'1'})\n",
    "    page_soup = soup(r.text, \"lxml\")\n",
    "    #print(page_soup.find(\"div\",{\"id\":\"main-content\"}).get_text())\n",
    "    art_text=page_soup.select('div#main-content', limit=1)[0].text\n",
    "    return(art_text)"
   ]
  },
  {
   "cell_type": "code",
   "execution_count": 2,
   "metadata": {},
   "outputs": [
    {
     "data": {
      "text/plain": [
       "9"
      ]
     },
     "execution_count": 2,
     "metadata": {},
     "output_type": "execute_result"
    }
   ],
   "source": [
    "# main()\n",
    "num_of_index_page = 2\n",
    "board_name = 'Food'\n",
    "url = 'https://www.ptt.cc/bbs/{}/index.html'.format(board_name)\n",
    "all_links =[]\n",
    "for page in range(1,num_of_index_page):\n",
    "    all_links = all_links + extractArtLinks(url)\n",
    "    url = findPrevIndex(url)\n",
    "len(all_links)"
   ]
  },
  {
   "cell_type": "code",
   "execution_count": 3,
   "metadata": {},
   "outputs": [
    {
     "name": "stdout",
     "output_type": "stream",
     "text": [
      "{'push': '', 'title': '[食記] 台中 老派廚房 值得一吃的高鐵附近美食', 'date': '10/10', 'author': 'tonlin', 'link': '/bbs/Food/M.1602260252.A.ADF.html', 'text': '作者tonlin (帽子與大象)看板Food標題[食記] 台中 老派廚房時間Sat Oct 10 00:17:25 2020\\n   餐廳名稱：老派廚房\\n   消費時間：2020年/10月\\n   地址：台中市烏日區三榮路一段366號\\n   電話：04-2338-4066\\n   營業時間：週三、四、日 09:00~16:00\\n             週五、六 09:00–14:30、17:00–20:00（週一、二公休）\\n\\n   圖文網誌版：https://tonlinphoto.pixnet.net/blog/post/47515127\\n\\n\\n距離高鐵高鐵車程只要5分鐘的老派廚房，座落在台中市與彰化縣的交界。\\n\\n這一區應該是新開發的區域，附近有好多大樓正在興建當中，感覺一派欣欣向榮。\\n\\n一下車，就看到老派廚房小小的門面，\\n\\n外頭有張復古的圓桌和一臺Vespa，很有一種義式風情。\\n\\n\\n\\n走進餐廳，有許多歐式風情的復古感畫作，餐廳內的桌椅也都是深色的木桌與木椅，\\n\\n燈光和氛圍，就和我在義大利吃過的小餐館一樣。\\n\\n可能因為是平日，氣氛輕鬆而舒適，讓人覺得很放鬆。\\n\\n\\n\\n老派廚房原本是以私廚和外燴餐點為主，9月起正式轉型為餐酒館，也販售早午餐。\\n\\n不過我們到的時候已經超過早午餐供應時間了。\\n\\n我們點了德國豬腳佐香腸花椰、主廚煙燻美式肋排佐薯瓣、綜合莓果冰沙、美式咖啡。\\n\\n\\n\\n可能是因為有點忙，或者是因為剛開業還沒上手（？），原本桌上是沒有水的。\\n\\n我們詢問了之後，服務人員送上了這瓶加了葡萄柚和香草的水瓶。\\n\\n整瓶水本身是冰過的，我覺得在炎熱的天氣中還蠻貼心的。\\n\\n在我們喝完了之後，也有來關心我們是否需要補水，很細心。\\n\\n\\n\\n沒有很久，主菜就上桌了。\\n\\n這道德國豬腳佐香腸花椰，表皮烤得金黃香脆，內裡軟嫩多汁，\\n\\n我覺得是蠻成功的一道德國豬腳。\\n\\n旁邊的沾醬酸甜開胃，不過我覺得豬腳單吃就很不錯。\\n\\n\\n\\n同時上桌的主廚煙燻美式肋排佐薯瓣令我非常驚喜。\\n\\n因為多年前在王品吃的肋排，以及喜宴上的肋排料理幾乎都超大支，\\n\\n光是處理就要花一點時間。\\n\\n老派廚房的美式肋排，已經先處理好成一塊一塊、方便入口的大小，這一點非常加分。\\n\\n而且口味非常細膩，鹹香入味，卻不會讓人有一般肋排料理過度重口味的感覺，很棒。\\n\\n肋排搭配的薯瓣，網狀造型搭配上香脆的口感，也很推薦。\\n\\n\\n\\n我沒拍冰美式，直接分享我的綜合莓果冰沙，我覺得秒殺目前我喝過的各家冰沙。\\n\\n不僅可以喝出莓果的用料豐富，而且調味很剛好，不會讓人覺得過酸，清爽好入口。\\n\\n\\n\\n整體來說我給這一次用餐經驗非常高的分數，也立刻在我自己的私人臉書分享了。\\n\\n一位朋友偶爾會到台中上課出差，馬上留言說下次要去試試，非常期待她的心得。\\n\\n我回覆她的時候，有特別提到兩個人用餐居然不用1,000元，CP值很高，\\n\\n但剛剛認真看了菜單，才發現店家似乎有幫我們打了8折（是因為剛開幕嗎？）～\\n\\n當天結帳的時候因為趕著要去搭高鐵，沒有發現被打折了XD\\n\\n不過不管有沒有折扣，都非常推薦這間老派廚房喔！\\n\\n\\n\\n以上～\\n\\n\\n\\n\\n--\\n※ 發信站: 批踢踢實業坊(ptt.cc), 來自: 111.240.127.210 (臺灣)\\n※ 文章網址: https://www.ptt.cc/bbs/Food/M.1602260252.A.ADF.html\\n※ 編輯: tonlin (111.240.127.210 臺灣), 10/10/2020 00:18:12\\n'}\n"
     ]
    }
   ],
   "source": [
    "type(all_links[2])\n",
    "print(all_links[2])"
   ]
  },
  {
   "cell_type": "code",
   "execution_count": 4,
   "metadata": {},
   "outputs": [
    {
     "name": "stdout",
     "output_type": "stream",
     "text": [
      "Push:  \n",
      "title: [食記] 台中 老派廚房 值得一吃的高鐵附近美食 \n",
      "date: 10/10 \n",
      "author: tonlin \n",
      "link: /bbs/Food/M.1602260252.A.ADF.html \n",
      "text: 作者ton \n",
      "\n"
     ]
    }
   ],
   "source": [
    "print('Push: {push:s} \\n'\n",
    "      'title: {title:s} \\n'\n",
    "      'date: {date:s} \\n'\n",
    "      'author: {author:s} \\n'\n",
    "      'link: {link:s} \\n'\n",
    "      'text: {text:.5} \\n'.format(**all_links[2]))"
   ]
  },
  {
   "cell_type": "code",
   "execution_count": null,
   "metadata": {},
   "outputs": [],
   "source": []
  },
  {
   "cell_type": "markdown",
   "metadata": {},
   "source": [
    ":::{admonition} Exercise\n",
    "How to seperate post texts from push texts?\n",
    ":::\n"
   ]
  }
 ],
 "metadata": {
  "kernelspec": {
   "display_name": "ckiptagger",
   "language": "python",
   "name": "ckiptagger"
  },
  "language_info": {
   "codemirror_mode": {
    "name": "ipython",
    "version": 3
   },
   "file_extension": ".py",
   "mimetype": "text/x-python",
   "name": "python",
   "nbconvert_exporter": "python",
   "pygments_lexer": "ipython3",
   "version": "3.6.12"
  }
 },
 "nbformat": 4,
 "nbformat_minor": 4
}