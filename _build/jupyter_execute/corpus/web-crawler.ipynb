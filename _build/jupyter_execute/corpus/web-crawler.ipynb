{
 "cells": [
  {
   "cell_type": "markdown",
   "metadata": {},
   "source": [
    "# Web Crawler"
   ]
  },
  {
   "cell_type": "code",
   "execution_count": 1,
   "metadata": {},
   "outputs": [],
   "source": [
    "import requests\n",
    "from bs4 import BeautifulSoup as soup  # HTML data structure\n",
    "\n",
    "# extract article hyperlinks from an index page\n",
    "def extractArtLinks(url):\n",
    "    r = requests.get(url, cookies={'over18':'1'})\n",
    "    page_soup = soup(r.text, \"html.parser\")\n",
    "    containers = page_soup.findAll(\"div\", {\"class\": \"r-ent\"})\n",
    "    art_links = []\n",
    "    for container in containers:\n",
    "        # Finds all link tags \"a\" from within the first div.\n",
    "        art_link = container.find('a')\n",
    "        if art_link:\n",
    "            #print(art_link['href'])\n",
    "            #print(container.find('div',{'class':'title'}).get_text())\n",
    "            art_meta = container.find('div',{'class':'meta'})\n",
    "            #print(art_meta.find('div',{'class':'author'}).get_text())\n",
    "            #print(art_meta.find('div',{'class':'date'}).get_text())\n",
    "\n",
    "            art_links.append({\n",
    "                'push': container.find('div',{'class':'nrec'}).get_text(),\n",
    "                'title': container.find('div',{'class':'title'}).get_text().strip(),\n",
    "                'date': art_meta.find('div',{'class':'date'}).get_text(),\n",
    "                'author': art_meta.find('div',{'class':'author'}).get_text(),\n",
    "                'link': art_link['href'],\n",
    "                'text': extractArtText('https://www.ptt.cc' + art_link['href'])\n",
    "            })\n",
    "\n",
    "    return(art_links)\n",
    "\n",
    "# find the previous index page link\n",
    "def findPrevIndex(url):\n",
    "    r = requests.get(url, cookies={'over18':'1'})\n",
    "    page_soup = soup(r.text,\"html.parser\")\n",
    "    btn = page_soup.select('div.btn-group > a')\n",
    "    up_page_href = btn[3]['href']\n",
    "    next_page_url = 'https://www.ptt.cc' + up_page_href\n",
    "    return(next_page_url)\n",
    "\n",
    "# extract article contents from  the article hyperlink\n",
    "def extractArtText(url):\n",
    "    r = requests.get(url, cookies={'over18':'1'})\n",
    "    page_soup = soup(r.text, \"lxml\")\n",
    "    #print(page_soup.find(\"div\",{\"id\":\"main-content\"}).get_text())\n",
    "    art_text=page_soup.select('div#main-content', limit=1)[0].text\n",
    "    return(art_text)"
   ]
  },
  {
   "cell_type": "code",
   "execution_count": 2,
   "metadata": {},
   "outputs": [
    {
     "data": {
      "text/plain": [
       "12"
      ]
     },
     "execution_count": 2,
     "metadata": {},
     "output_type": "execute_result"
    }
   ],
   "source": [
    "# main()\n",
    "num_of_index_page = 2\n",
    "board_name = 'Food'\n",
    "url = 'https://www.ptt.cc/bbs/{}/index.html'.format(board_name)\n",
    "all_links =[]\n",
    "for page in range(1,num_of_index_page):\n",
    "    all_links = all_links + extractArtLinks(url)\n",
    "    url = findPrevIndex(url)\n",
    "len(all_links)"
   ]
  },
  {
   "cell_type": "code",
   "execution_count": 3,
   "metadata": {},
   "outputs": [
    {
     "name": "stdout",
     "output_type": "stream",
     "text": [
      "{'push': '', 'title': '[食記] 台北車站商業午餐-【樂雅樂】', 'date': '10/10', 'author': 'hellolego', 'link': '/bbs/Food/M.1602332970.A.C66.html', 'text': '作者hellolego (hellolego)看板Food標題[食記] 台北車站商業午餐-【樂雅樂】 時間Sat Oct 10 20:29:28 2020\\n店家資料：樂雅樂(站前店)\\n用餐時間：2020年6月\\n營業時間：週一至週四07:00-21:30/ 週五至週日07:00-22:00\\n電話：02 2371 3128\\n付現、刷卡、一成服務費\\n地址：台北市中正區許昌街19號一樓(捷運台北車站8號出口)\\n醬廖食被秀：https://reurl.cc/ygDa2y\\n---------------\\n以前高中在北車補習的時候就看過這間樂雅樂，\\n\\n就在YMCA旁邊，\\n\\n而且全台很多分店，\\n\\n但直到現在都3X歲了，才來第一次造訪，\\n\\n\\n\\n\\n\\n我們臨時起意，所以沒有預約，\\n\\n現場倒是不少組客人，\\n\\n有些是預定席，當我們開始用餐時，人都陸陸續續到，\\n\\n\\n\\n\\n\\n有非常多的菜單可以選，\\n\\n我們光選菜就選了5分鐘，\\n\\n類別很多，包含漢堡排、蛋包飯、焗烤、義大利麵、排餐、咖哩飯、御膳等，\\n\\n我們當天是平日，所以有商業午餐，\\n\\n我選了蒜味雞排香酥魚餐(310元)，另外還附湯品、麵包(或白飯)、百元飲品，\\n\\n\\n\\n\\n\\n朋友點的是海鮮青醬義大利麵套餐(310元)，\\n\\n另外也有附湯品跟百元飲品(可是沒麵包)\\n\\n\\n\\n另外還有很多品項，\\n\\n詳細菜單就請大家到樂雅樂官網看個仔細吧\\n\\n\\n\\n坐下後不會等太久餐點就陸續登場，\\n\\n首先是當日例湯：奶油濃湯\\n\\n這款真的有濃~算是濃稠型的湯品，\\n\\n味道不錯、留著等等可以沾麵包(聰明)\\n\\n\\n\\n\\n\\n再來上桌的是剛烤好的麵包!\\n\\n香香軟軟，還附上有鹽奶油根本絕配，\\n\\n當然也可以沾上面的濃湯，口感也完全不同，\\n\\n\\n\\n\\n\\n我的主餐蒜味雞排香酥魚!\\n\\n\\n\\n\\n\\n除了有生菜沙拉加百香果醬之外，\\n\\n還有煎的嫩雞腿佐炸蒜片，\\n\\n\\n\\n\\n\\n以及肥滋滋塔塔醬的香酥魚，\\n\\n\\n\\n\\n\\n他的雞排跟魚排都很好吃!\\n\\n但因為都是比較重口味的，所以搭配清爽生菜真的很聰明，\\n\\n不然會太油膩(愛吃又怕胖QQ)\\n\\n\\n\\n\\n\\n\\n\\n總體而言，我們都覺得是個會再訪的餐廳，\\n\\n環境算乾淨舒適，餐點味道不錯且不算太貴，\\n\\n又有很多不同料理可以選擇，\\n\\n就算不是在北車周邊上班，單純要來吃飯交通也很方便喔\\n\\n\\n--\\n※ 發信站: 批踢踢實業坊(ptt.cc), 來自: 124.218.35.64 (臺灣)\\n※ 文章網址: https://www.ptt.cc/bbs/Food/M.1602332970.A.C66.html\\n'}\n"
     ]
    }
   ],
   "source": [
    "type(all_links[2])\n",
    "print(all_links[2])"
   ]
  },
  {
   "cell_type": "code",
   "execution_count": 4,
   "metadata": {},
   "outputs": [
    {
     "name": "stdout",
     "output_type": "stream",
     "text": [
      "Push:  \n",
      "title: [食記] 台北車站商業午餐-【樂雅樂】 \n",
      "date: 10/10 \n",
      "author: hellolego \n",
      "link: /bbs/Food/M.1602332970.A.C66.html \n",
      "text: 作者hel \n",
      "\n"
     ]
    }
   ],
   "source": [
    "print('Push: {push:s} \\n'\n",
    "      'title: {title:s} \\n'\n",
    "      'date: {date:s} \\n'\n",
    "      'author: {author:s} \\n'\n",
    "      'link: {link:s} \\n'\n",
    "      'text: {text:.5} \\n'.format(**all_links[2]))"
   ]
  },
  {
   "cell_type": "code",
   "execution_count": null,
   "metadata": {},
   "outputs": [],
   "source": []
  },
  {
   "cell_type": "markdown",
   "metadata": {},
   "source": [
    ":::{admonition} Exercise\n",
    "How to seperate post texts from push texts?\n",
    ":::\n"
   ]
  }
 ],
 "metadata": {
  "kernelspec": {
   "display_name": "ckiptagger",
   "language": "python",
   "name": "ckiptagger"
  },
  "language_info": {
   "codemirror_mode": {
    "name": "ipython",
    "version": 3
   },
   "file_extension": ".py",
   "mimetype": "text/x-python",
   "name": "python",
   "nbconvert_exporter": "python",
   "pygments_lexer": "ipython3",
   "version": "3.6.12"
  }
 },
 "nbformat": 4,
 "nbformat_minor": 4
}