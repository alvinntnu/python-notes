{
 "cells": [
  {
   "cell_type": "markdown",
   "metadata": {},
   "source": [
    "# CHILDES Corpus\n",
    "\n"
   ]
  },
  {
   "cell_type": "markdown",
   "metadata": {},
   "source": [
    "- This section includes two methods to process CHILDES data: `nltk` and `pylangacq`.\n",
    "- Good for language acquisition analysis\n",
    "- NLTK can deal with the xml format of the CHILDES corpus\n",
    "- CHILDES xml is available at [https://childes.talkbank.org/data-xml/](https://childes.talkbank.org/data-xml/)\n"
   ]
  },
  {
   "cell_type": "code",
   "execution_count": 1,
   "metadata": {},
   "outputs": [],
   "source": [
    "DEMO_DATA_ROOT = \"../../../RepositoryData/data\""
   ]
  },
  {
   "cell_type": "code",
   "execution_count": 2,
   "metadata": {},
   "outputs": [],
   "source": [
    "import nltk\n",
    "from nltk.corpus.reader import CHILDESCorpusReader\n",
    "r = CHILDESCorpusReader(DEMO_DATA_ROOT+'/CHILDES_Chang1_xml', '.*.xml')"
   ]
  },
  {
   "cell_type": "code",
   "execution_count": 3,
   "metadata": {},
   "outputs": [
    {
     "data": {
      "text/plain": [
       "['01.xml',\n",
       " '02.xml',\n",
       " '03.xml',\n",
       " '04.xml',\n",
       " '05.xml',\n",
       " '06.xml',\n",
       " '07.xml',\n",
       " '08.xml',\n",
       " '09.xml',\n",
       " '10.xml',\n",
       " '11.xml',\n",
       " '12.xml',\n",
       " '13.xml',\n",
       " '14.xml',\n",
       " '15.xml',\n",
       " '16.xml',\n",
       " '17.xml',\n",
       " '18.xml',\n",
       " '19.xml',\n",
       " '20.xml',\n",
       " '21.xml',\n",
       " '22.xml',\n",
       " '23.xml',\n",
       " '24.xml']"
      ]
     },
     "execution_count": 3,
     "metadata": {},
     "output_type": "execute_result"
    }
   ],
   "source": [
    "r.fileids()"
   ]
  },
  {
   "cell_type": "code",
   "execution_count": 4,
   "metadata": {},
   "outputs": [
    {
     "name": "stdout",
     "output_type": "stream",
     "text": [
      "Chang1 11312/c-00007599-1 toyplay 1996-02-06\n",
      "Num of Words: 1632\n",
      "Num of Sents: 343\n"
     ]
    },
    {
     "name": "stdout",
     "output_type": "stream",
     "text": [
      "Chang1 11312/c-00007600-1 toyplay 1996-02-06\n",
      "Num of Words: 864\n",
      "Num of Sents: 215\n",
      "Chang1 11312/c-00007601-1 toyplay 1996-02-06\n",
      "Num of Words: 879\n",
      "Num of Sents: 197\n",
      "Chang1 11312/c-00007602-1 toyplay 1996-02-07\n",
      "Num of Words: 816\n",
      "Num of Sents: 144\n",
      "Chang1 11312/c-00007603-1 toyplay 1996-02-07\n"
     ]
    },
    {
     "name": "stdout",
     "output_type": "stream",
     "text": [
      "Num of Words: 1294\n",
      "Num of Sents: 200\n"
     ]
    }
   ],
   "source": [
    "# print basic profile for each xml\n",
    "for f in r.fileids()[:5]:\n",
    "    cur_corpus = r.corpus(f)[0]\n",
    "    print(cur_corpus['Corpus'],\n",
    "          cur_corpus['PID'],\n",
    "         cur_corpus['ActivityType'],\n",
    "         cur_corpus['Date'])\n",
    "    print(\"Num of Words: {}\".format(len(r.words(f))))\n",
    "    print(\"Num of Sents: {}\".format(len(r.sents(f))))"
   ]
  },
  {
   "cell_type": "code",
   "execution_count": 5,
   "metadata": {},
   "outputs": [
    {
     "data": {
      "text/plain": [
       "defaultdict(<function nltk.corpus.reader.childes.CHILDESCorpusReader._get_participants.<locals>.dictOfDicts()>,\n",
       "            {'CHI': defaultdict(<function nltk.corpus.reader.childes.CHILDESCorpusReader._get_participants.<locals>.dictOfDicts()>,\n",
       "                         {'id': 'CHI',\n",
       "                          'name': '中立',\n",
       "                          'role': 'Target_Child',\n",
       "                          'language': 'zho',\n",
       "                          'age': 'P6Y05M',\n",
       "                          'sex': 'male',\n",
       "                          'group': 'six',\n",
       "                          'SES': 'MC',\n",
       "                          'birthday': '1989-09-22'}),\n",
       "             'EXP': defaultdict(<function nltk.corpus.reader.childes.CHILDESCorpusReader._get_participants.<locals>.dictOfDicts()>,\n",
       "                         {'id': 'EXP',\n",
       "                          'role': 'Investigator',\n",
       "                          'language': 'zho'})})"
      ]
     },
     "execution_count": 5,
     "metadata": {},
     "output_type": "execute_result"
    }
   ],
   "source": [
    "# participants\n",
    "r.participants(fileids=r.fileids()[10])[0]# first file participants"
   ]
  },
  {
   "cell_type": "code",
   "execution_count": 6,
   "metadata": {},
   "outputs": [
    {
     "name": "stdout",
     "output_type": "stream",
     "text": [
      "====\n",
      "CHI :  [('id', 'CHI'), ('name', '爱华'), ('role', 'Target_Child'), ('language', 'zho'), ('age', 'P6Y05M'), ('sex', 'female'), ('group', 'six'), ('SES', 'MC'), ('birthday', '1989-09-25')]\n",
      "EXP :  [('id', 'EXP'), ('role', 'Investigator'), ('language', 'zho')]\n",
      "====\n",
      "CHI :  [('id', 'CHI'), ('name', '建华'), ('role', 'Target_Child'), ('language', 'zho'), ('age', 'P6Y01M'), ('sex', 'male'), ('group', 'six'), ('SES', 'MC'), ('birthday', '1989-01-17')]\n",
      "EXP :  [('id', 'EXP'), ('role', 'Investigator'), ('language', 'zho')]\n",
      "====\n",
      "CHI :  [('id', 'CHI'), ('name', '凯丽'), ('role', 'Target_Child'), ('language', 'zho'), ('age', 'P5Y07M'), ('sex', 'female'), ('group', 'five'), ('SES', 'MC'), ('birthday', '1990-07-10')]\n",
      "EXP :  [('id', 'EXP'), ('role', 'Investigator'), ('language', 'zho')]\n",
      "====\n",
      "CHI :  [('id', 'CHI'), ('name', '志强'), ('role', 'Target_Child'), ('language', 'zho'), ('age', 'P5Y11M'), ('sex', 'male'), ('group', 'five'), ('SES', 'MC'), ('birthday', '1990-03-28')]\n",
      "EXP :  [('id', 'EXP'), ('role', 'Investigator'), ('language', 'zho')]\n",
      "====\n",
      "CHI :  [('id', 'CHI'), ('name', '兰欣'), ('role', 'Target_Child'), ('language', 'zho'), ('age', 'P6Y02M'), ('sex', 'female'), ('group', 'six'), ('SES', 'MC'), ('birthday', '1989-12-24')]\n",
      "EXP :  [('id', 'EXP'), ('role', 'Investigator'), ('language', 'zho')]\n"
     ]
    }
   ],
   "source": [
    "all_speakers = r.participants()\n",
    "\n",
    "for speakers_cur_file in all_speakers[:5]:\n",
    "    print(\"====\")\n",
    "    for spid in speakers_cur_file.keys():\n",
    "        cur_spid_data = speakers_cur_file[spid]\n",
    "        print(spid, \": \", [(param, cur_spid_data[param]) for param in cur_spid_data.keys()] )"
   ]
  },
  {
   "cell_type": "code",
   "execution_count": 7,
   "metadata": {},
   "outputs": [
    {
     "name": "stdout",
     "output_type": "stream",
     "text": [
      "[['我们', '来', '玩', '森林', '的', '游戏'], ['哦', '这', '是', '森林', '的', '草地'], ...]\n"
     ]
    },
    {
     "name": "stdout",
     "output_type": "stream",
     "text": [
      "[['森林', '有', '很', '多', '树'], ['爸爸', '办公室', '有', '好', '多', '树'], ...]\n"
     ]
    }
   ],
   "source": [
    "r.words('01.xml')\n",
    "print(r.sents('01.xml', speaker='EXP'))\n",
    "print(r.sents('01.xml', speaker='CHI')) # replace=T, stem=True"
   ]
  },
  {
   "cell_type": "code",
   "execution_count": 8,
   "metadata": {},
   "outputs": [
    {
     "data": {
      "text/plain": [
       "[77]"
      ]
     },
     "execution_count": 8,
     "metadata": {},
     "output_type": "execute_result"
    }
   ],
   "source": [
    "# age\n",
    "r.age()\n",
    "r.age(month=True)\n",
    "r.age(fileids='01.xml', month=True)"
   ]
  },
  {
   "cell_type": "code",
   "execution_count": 9,
   "metadata": {},
   "outputs": [
    {
     "data": {
      "text/plain": [
       "[5.5606060606060606]"
      ]
     },
     "execution_count": 9,
     "metadata": {},
     "output_type": "execute_result"
    }
   ],
   "source": [
    "# MLU\n",
    "r.MLU(fileids='01.xml')"
   ]
  },
  {
   "cell_type": "code",
   "execution_count": 10,
   "metadata": {},
   "outputs": [
    {
     "data": {
      "text/plain": [
       "[(77, 5.5606060606060606),\n",
       " (73, 4.304347826086956),\n",
       " (67, 4.445783132530121),\n",
       " (71, 5.046511627906977),\n",
       " (74, 7.421052631578948),\n",
       " (77, 8.365853658536585),\n",
       " (71, 7.355263157894737),\n",
       " (70, 9.371428571428572),\n",
       " (67, 5.439024390243903),\n",
       " (69, 5.931677018633541),\n",
       " (77, 5.0),\n",
       " (70, 6.712328767123288),\n",
       " (48, 4.022222222222222),\n",
       " (51, 5.208791208791209),\n",
       " (52, 3.9863013698630136),\n",
       " (51, 3.8867924528301887),\n",
       " (50, 5.409638554216867),\n",
       " (42, 3.3185840707964602),\n",
       " (47, 6.27027027027027),\n",
       " (47, 3.9545454545454546),\n",
       " (49, 3.68),\n",
       " (53, 4.785714285714286),\n",
       " (46, 5.798941798941799),\n",
       " (46, 3.5090909090909093)]"
      ]
     },
     "execution_count": 10,
     "metadata": {},
     "output_type": "execute_result"
    }
   ],
   "source": [
    "[(age, mlu)  \n",
    "for f in r.fileids()\n",
    "for age in r.age(fileids = f, month=True)\n",
    "for mlu in r.MLU(fileids = f)\n",
    "]"
   ]
  },
  {
   "cell_type": "code",
   "execution_count": 11,
   "metadata": {},
   "outputs": [],
   "source": [
    "import pandas\n",
    "\n",
    "age_mlu_data = pandas.DataFrame([(age, mlu)  \n",
    "for f in r.fileids()\n",
    "for age in r.age(fileids = f, month=True)\n",
    "for mlu in r.MLU(fileids = f)\n",
    "], columns=['Age','MLU'])"
   ]
  },
  {
   "cell_type": "code",
   "execution_count": 12,
   "metadata": {},
   "outputs": [],
   "source": [
    "%load_ext rpy2.ipython"
   ]
  },
  {
   "cell_type": "code",
   "execution_count": 13,
   "metadata": {},
   "outputs": [
    {
     "name": "stderr",
     "output_type": "stream",
     "text": [
      "R[write to console]: Keep up to date with changes at https://www.tidyverse.org/blog/\n",
      "\n",
      "R[write to console]: \n",
      "Attaching package: ‘dplyr’\n",
      "\n",
      "\n",
      "R[write to console]: The following objects are masked from ‘package:stats’:\n",
      "\n",
      "    filter, lag\n",
      "\n",
      "\n",
      "R[write to console]: The following objects are masked from ‘package:base’:\n",
      "\n",
      "    intersect, setdiff, setequal, union\n",
      "\n",
      "\n"
     ]
    }
   ],
   "source": [
    "%%R\n",
    "library(ggplot2)\n",
    "library(dplyr)"
   ]
  },
  {
   "cell_type": "code",
   "execution_count": 14,
   "metadata": {
    "scrolled": true
   },
   "outputs": [
    {
     "name": "stderr",
     "output_type": "stream",
     "text": [
      "R[write to console]: `geom_smooth()` using formula 'y ~ x'\n",
      "\n"
     ]
    },
    {
     "data": {
      "image/png": "[encoded data removed]"
     },
     "metadata": {
      "filenames": {
       "image/png": "/Users/Alvin/GoogleDrive/_MySyncDrive/Repository/python-notes/_build/jupyter_execute/corpus/childes_15_1.png"
      }
     },
     "output_type": "display_data"
    }
   ],
   "source": [
    "%%R -i age_mlu_data\n",
    "age_mlu_data %>%\n",
    "ggplot(aes(Age, MLU)) +\n",
    "geom_point(size=2) +\n",
    "geom_smooth(method=\"lm\") +\n",
    "labs(x=\"Child Age(Months)\",y=\"Mean Length of Utterances (MLU)\")"
   ]
  },
  {
   "cell_type": "markdown",
   "metadata": {},
   "source": [
    "## CHA file\n",
    "\n",
    "- Fantastic package for CHA files: [PyLangAcq](http://pylangacq.org/)"
   ]
  },
  {
   "cell_type": "code",
   "execution_count": 15,
   "metadata": {},
   "outputs": [
    {
     "data": {
      "text/plain": [
       "'0.11.0'"
      ]
     },
     "execution_count": 15,
     "metadata": {},
     "output_type": "execute_result"
    }
   ],
   "source": [
    "import pylangacq as pla\n",
    "pla.__version__  # show version number"
   ]
  },
  {
   "cell_type": "code",
   "execution_count": 16,
   "metadata": {},
   "outputs": [],
   "source": [
    "nccu = pla.read_chat(DEMO_DATA_ROOT+'/CHILDES_NCCU/transcript/*.cha')"
   ]
  },
  {
   "cell_type": "code",
   "execution_count": 17,
   "metadata": {},
   "outputs": [
    {
     "data": {
      "text/plain": [
       "36"
      ]
     },
     "execution_count": 17,
     "metadata": {},
     "output_type": "execute_result"
    }
   ],
   "source": [
    "nccu.number_of_files()"
   ]
  },
  {
   "cell_type": "code",
   "execution_count": 18,
   "metadata": {},
   "outputs": [
    {
     "name": "stdout",
     "output_type": "stream",
     "text": [
      "Corpus Size: 171254\n"
     ]
    }
   ],
   "source": [
    "print('Corpus Size:', len(nccu.words()))"
   ]
  },
  {
   "cell_type": "code",
   "execution_count": 19,
   "metadata": {},
   "outputs": [
    {
     "data": {
      "text/plain": [
       "('/Users/Alvin/GoogleDrive/_MySyncDrive/RepositoryData/data/CHILDES_NCCU/transcript/M018.cha',\n",
       " {'UTF8': '',\n",
       "  'PID': '11312/a-00005099-1',\n",
       "  'Languages': 'zho, nan, eng',\n",
       "  'Participants': {'F': {'participant_name': 'Participant',\n",
       "    'language': 'zho',\n",
       "    'corpus': 'TaiwanMandarin',\n",
       "    'age': '49;',\n",
       "    'sex': 'female',\n",
       "    'group': '',\n",
       "    'SES': 'Asian',\n",
       "    'participant_role': 'Participant',\n",
       "    'education': '',\n",
       "    'custom': 'Wife'},\n",
       "   'M': {'participant_name': 'Participant',\n",
       "    'language': 'zho',\n",
       "    'corpus': 'TaiwanMandarin',\n",
       "    'age': '50;',\n",
       "    'sex': 'male',\n",
       "    'group': '',\n",
       "    'SES': 'Asian',\n",
       "    'participant_role': 'Participant',\n",
       "    'education': '',\n",
       "    'custom': 'Husband'}},\n",
       "  'Options': 'CA-Unicode',\n",
       "  'Media': 'M018, audio, unlinked',\n",
       "  'Comment': 'Please use the slider at the left to control media playback.',\n",
       "  'Date': ['11-OCT-2008']})"
      ]
     },
     "execution_count": 19,
     "metadata": {},
     "output_type": "execute_result"
    }
   ],
   "source": [
    "all_headers= nccu.headers()\n",
    "#all_headers[list(all_headers.keys())[0]]\n",
    "list(all_headers.items())[0]"
   ]
  },
  {
   "cell_type": "code",
   "execution_count": 20,
   "metadata": {},
   "outputs": [
    {
     "data": {
      "text/plain": [
       "[(('對', '對', '對'), 210),\n",
       " (('然後', '我', '就'), 137),\n",
       " (('我', '不', '知道'), 129),\n",
       " (('⌊', '對', '啊'), 119),\n",
       " (('有', '一', '個'), 113),\n",
       " (('對', '啊', '⌋'), 109),\n",
       " (('⌊', 'um', '⌋'), 108),\n",
       " (('我', '就', '說'), 90),\n",
       " (('真', '的', '很'), 76),\n",
       " (('他', '就', '說'), 71)]"
      ]
     },
     "execution_count": 20,
     "metadata": {},
     "output_type": "execute_result"
    }
   ],
   "source": [
    "nccu.word_frequency().most_common(5)\n",
    "nccu.word_ngrams(n=3).most_common(10)"
   ]
  },
  {
   "cell_type": "code",
   "execution_count": 21,
   "metadata": {},
   "outputs": [
    {
     "name": "stdout",
     "output_type": "stream",
     "text": [
      "反正 就 我 覺得 喔 就 現在 小學生 程度 差 真 的 很 誇張 我 教 的 那個 我 教 的 那個 小五 跟 我 上次 上次 教到 的 ⌈ 那個 小五 ⌉\n",
      "⌊ 對 對 那個 ⌋ 那個\n",
      "一樣 喔 我 那個 學生 是 他 學 那個 何嘉仁 已經 那個 程度 太 高 了 他 跟不上 才 請 家教 我 上次 去 那個 瑛如 他們 那個 是 那個 課本 太 難 他 完全 看不懂 他 連 you I 都 看不懂 然後 我 那個 學生 是 課本 太 簡單 了 瞄 兩下 單字 背 一下 就好 那 我們 先 把 這 簡單 的 課本 放到 旁邊 去 我們 來 看 何嘉仁 是 這樣子 耶 差 好 多 喔 然後 看了 有 點 心酸 吶 ⌈ 可 那 沒 辦法 ⌉\n",
      "⌊ 可 那 沒 辦 ⌋ .\n",
      "沒 辦法\n",
      "對 呀 因為 這 並 不是 老師 有時候 我 覺得 老師 其實 能 做 的\n",
      "而且 ⌈ 一 個 禮拜 ⌉ 才 一 次 耶\n",
      "⌊ 大概 有 ⌋\n",
      "⌈ 一 次 ⌉\n",
      "⌊ 一 個 禮拜 ⌋ 一 次 真的 很 少 ⌈ 家教 都 ⌉ /.\n"
     ]
    }
   ],
   "source": [
    "for line in [' '.join(sent) for sent in nccu.sents()[:10]]:\n",
    "    print(line)"
   ]
  }
 ],
 "metadata": {
  "kernelspec": {
   "display_name": "python-notes",
   "language": "python",
   "name": "python-notes"
  },
  "language_info": {
   "codemirror_mode": {
    "name": "ipython",
    "version": 3
   },
   "file_extension": ".py",
   "mimetype": "text/x-python",
   "name": "python",
   "nbconvert_exporter": "python",
   "pygments_lexer": "ipython3",
   "version": "3.7.0"
  },
  "toc": {
   "base_numbering": 1,
   "nav_menu": {},
   "number_sections": false,
   "sideBar": true,
   "skip_h1_title": false,
   "title_cell": "Table of Contents",
   "title_sidebar": "Contents",
   "toc_cell": false,
   "toc_position": {},
   "toc_section_display": true,
   "toc_window_display": true
  },
  "varInspector": {
   "cols": {
    "lenName": 16,
    "lenType": 16,
    "lenVar": 40
   },
   "kernels_config": {
    "python": {
     "delete_cmd_postfix": "",
     "delete_cmd_prefix": "del ",
     "library": "var_list.py",
     "varRefreshCmd": "print(var_dic_list())"
    },
    "r": {
     "delete_cmd_postfix": ") ",
     "delete_cmd_prefix": "rm(",
     "library": "var_list.r",
     "varRefreshCmd": "cat(var_dic_list()) "
    }
   },
   "types_to_exclude": [
    "module",
    "function",
    "builtin_function_or_method",
    "instance",
    "_Feature"
   ],
   "window_display": false
  }
 },
 "nbformat": 4,
 "nbformat_minor": 4
}