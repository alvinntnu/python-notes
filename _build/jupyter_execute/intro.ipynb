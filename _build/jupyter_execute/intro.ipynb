{
 "cells": [
  {
   "cell_type": "markdown",
   "id": "4ee19e95",
   "metadata": {},
   "source": [
    "# Introduction"
   ]
  },
  {
   "cell_type": "code",
   "execution_count": 1,
   "id": "a2f003b8",
   "metadata": {
    "tags": [
     "remove-input"
    ]
   },
   "outputs": [
    {
     "name": "stdout",
     "output_type": "stream",
     "text": [
      "Last updated: July 16, 2023\n"
     ]
    }
   ],
   "source": [
    "from datetime import date\n",
    "print(\"Last updated: \" + date.today().strftime(\"%B %d, %Y\"))"
   ]
  },
  {
   "cell_type": "markdown",
   "id": "83b133b4",
   "metadata": {},
   "source": [
    "```{admonition} My Personal Python Notes!\n",
    ":class: tip\n",
    "\n",
    "This notebook collects my personal Python notes for linguistics. These notes are based on many different sources. Please note that these notes may have not been organized in a very systematic way. This notebook is being updated on a regular basis. Most of the materials here are for educational purposes only.\n",
    "\n",
    "```"
   ]
  },
  {
   "cell_type": "markdown",
   "id": "1400a0a5",
   "metadata": {},
   "source": [
    "## Table of Contents\n",
    "\n",
    "There are four main sections in Python Notes for Linguistics:\n",
    "\n",
    "::::{grid}\n",
    ":gutter: 2\n",
    "\n",
    ":::{grid-item-card} <i class=\"fa fa-check fa-1x\" style=\"color:DarkTurquoise;margin-right:5px\"></i>[Python Basics](python-basics/python-basics)\n",
    ":columns: 6\n",
    "\n",
    "This section covers the fundamental concepts of the Python language.\n",
    ":::\n",
    "\n",
    ":::{grid-item-card} <i class=\"fa fa-check fa-1x\" style=\"color:DarkTurquoise;margin-right:5px\"></i>[Corpus Linguistics with Python](corpus/corpus-processing)\n",
    ":columns: 6\n",
    "\n",
    "This section covers the corpus processing skills and techniques using Python.\n",
    ":::\n",
    "\n",
    ":::{grid-item-card} <i class=\"fa fa-check fa-1x\" style=\"color:DarkTurquoise;margin-right:5px\"></i> [Statistical Analyses](statistical-analyses/statistical-analyses)\n",
    ":columns: 6\n",
    "\n",
    "This section covers statistical analyses using Python.\n",
    ":::\n",
    "\n",
    ":::{grid-item-card} <i class=\"fa fa-check fa-1x\" style=\"color:DarkTurquoise;margin-right:5px\"></i> [NLP with Python](nlp/nlp)\n",
    ":columns: 6\n",
    "\n",
    "This section covers computational text analytics using Python.\n",
    ":::\n",
    "::::\n"
   ]
  },
  {
   "cell_type": "markdown",
   "id": "d23a7116",
   "metadata": {},
   "source": [
    "## Useful Resources\n",
    "\n",
    "There are many resources for Python-learning. Here I keep track of a few useful sources of inspirations for my Python journey."
   ]
  },
  {
   "cell_type": "markdown",
   "id": "abaa9d9a",
   "metadata": {},
   "source": [
    "::::{tab-set}\n",
    ":::{tab-item} Books\n",
    "\n",
    "The materials collected here were based on several useful reference books, which are listed as follows in terms of three categories:\n",
    "\n",
    "- Python Basics {cite}`gerrard2016lean`\n",
    "- Data Analysis with Python {cite}`mckinney2012python`\n",
    "- Natural Language Processing with Python {cite}`sarkar2019text,bird2009natural,vajjala2020,perkins2014python,srinivasa2018natural`\n",
    "- Deep Learning {cite}`francois2017deep`\n",
    ":::\n",
    "\n",
    "\n",
    ":::{tab-item} Online Resources\n",
    "\n",
    "In addition to books, there are many wonderful on-line resources, esp. professional blogs, providing useful tutorials and intuitive understanding of many complex ideas in NLP and AI development. Among them, here is a list of my favorites:\n",
    "\n",
    "- [Toward Data Science](https://towardsdatascience.com/)\n",
    "- [LeeMeng](https://leemeng.tw/)\n",
    "- [Dipanzan Sarkar's articles](https://towardsdatascience.com/@dipanzan.sarkar)\n",
    "- [Python Graph Libraries](https://python-graph-gallery.com/)\n",
    "- [KGPTalkie NLP](https://kgptalkie.com/category/natural-language-processing-nlp/)\n",
    "- [Jason Brownlee's Blog: Machine Learning Mastery](https://machinelearningmastery.com/)\n",
    "- [Jay Alammar's Blog](https://jalammar.github.io/)\n",
    "- [Chris McCormich's Blog](https://mccormickml.com/)\n",
    "- [GLUE: General Language Understanding Evaluation Benchmark](https://gluebenchmark.com/)\n",
    "- [SuperGLUE](https://super.gluebenchmark.com/)\n",
    "\n",
    ":::\n",
    "\n",
    "\n",
    "\n",
    ":::{tab-item} YouTube Channels\n",
    "\n",
    "- [Chris McCormick AI](https://www.youtube.com/channel/UCoRX98PLOsaN8PtekB9kWrw/videos)\n",
    "- [Corey Schafer](https://www.youtube.com/channel/UCCezIgC97PvUuR4_gbFUs5g)\n",
    "- [Edureka!](https://www.youtube.com/channel/UCkw4JCwteGrDHIsyIIKo4tQ)\n",
    "- [Deeplearning.ai](https://www.youtube.com/channel/UCcIXc5mJsHVYTZR1maL5l9w)\n",
    "- [Free Code Camp](https://www.youtube.com/c/Freecodecamp/videos)\n",
    "- [Giant Neural Network](https://www.youtube.com/watch?v=ZzWaow1Rvho&list=PLxt59R_fWVzT9bDxA76AHm3ig0Gg9S3So)\n",
    "- [Tech with Tim](https://www.youtube.com/channel/UC4JX40jDee_tINbkjycV4Sg)\n",
    "- [PyData](https://www.youtube.com/user/PyDataTV/featured)\n",
    "- [Python Programmer](https://www.youtube.com/channel/UC68KSmHePPePCjW4v57VPQg)\n",
    "- [Keith Galli](https://www.youtube.com/channel/UCq6XkhO5SZ66N04IcPbqNcw)\n",
    "- [Data Science Dojo](https://www.youtube.com/c/Datasciencedojo/featured)\n",
    "- [Calculus: Single Variable by Professor Robert Ghrist](https://www.youtube.com/playlist?list=PLKc2XOQp0dMwj9zAXD5LlWpriIXIrGaNb)\n",
    "\n",
    ":::\n",
    "::::"
   ]
  },
  {
   "cell_type": "markdown",
   "id": "e5493af5",
   "metadata": {},
   "source": [
    "## References\n",
    "\n",
    "```{bibliography} book.bib\n",
    ":filter: docname in docnames\n",
    ":style: unsrt\n",
    "```"
   ]
  }
 ],
 "metadata": {
  "celltoolbar": "Tags",
  "kernelspec": {
   "display_name": "Python 3",
   "language": "python",
   "name": "python3"
  },
  "language_info": {
   "codemirror_mode": {
    "name": "ipython",
    "version": 3
   },
   "file_extension": ".py",
   "mimetype": "text/x-python",
   "name": "python",
   "nbconvert_exporter": "python",
   "pygments_lexer": "ipython3",
   "version": "3.9.17"
  },
  "toc": {
   "base_numbering": 1,
   "nav_menu": {},
   "number_sections": false,
   "sideBar": true,
   "skip_h1_title": true,
   "title_cell": "Table of Contents",
   "title_sidebar": "Contents",
   "toc_cell": false,
   "toc_position": {},
   "toc_section_display": true,
   "toc_window_display": false
  },
  "varInspector": {
   "cols": {
    "lenName": 16,
    "lenType": 16,
    "lenVar": 40
   },
   "kernels_config": {
    "python": {
     "delete_cmd_postfix": "",
     "delete_cmd_prefix": "del ",
     "library": "var_list.py",
     "varRefreshCmd": "print(var_dic_list())"
    },
    "r": {
     "delete_cmd_postfix": ") ",
     "delete_cmd_prefix": "rm(",
     "library": "var_list.r",
     "varRefreshCmd": "cat(var_dic_list()) "
    }
   },
   "types_to_exclude": [
    "module",
    "function",
    "builtin_function_or_method",
    "instance",
    "_Feature"
   ],
   "window_display": false
  }
 },
 "nbformat": 4,
 "nbformat_minor": 5
}