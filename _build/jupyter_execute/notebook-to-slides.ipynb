{
 "cells": [
  {
   "cell_type": "markdown",
   "metadata": {},
   "source": [
    "# Notebook to Slides\n",
    "\n",
    "## Installation\n",
    "\n",
    "```\n",
    "## using conda\n",
    "!conda install -c conda-forge rise\n",
    "\n",
    "## using pip\n",
    "!pip install RISE\n",
    "!jupyter-nbextension install rise --py --sys-prefix\n",
    "!jupyter-nbextension enable rise --py --sys-prefix\n",
    "```\n",
    "\n",
    "## Use\n",
    "\n",
    "- Render the notebook into a rj slide:\n",
    "\n",
    "```\n",
    "jupyter nbconvert my-nb-slide.ipynb --to slides --post serve\n",
    "```\n",
    "\n",
    "- add metadata to Jupyter notebook to set parameters of `reveal.js`\n",
    "\n",
    "```\n",
    "{\n",
    "    ...\n",
    "    \"livereveal\": {\n",
    "        \"theme\": \"serif\",\n",
    "        \"transition\": \"zoom\",\n",
    "        ...\n",
    "    },\n",
    "    ...\n",
    "}\n",
    "```\n",
    "\n",
    "- With RISE, we can run a live notebook slide by directly using the notebook file (`alt + r`)"
   ]
  }
 ],
 "metadata": {
  "kernelspec": {
   "display_name": "ckiptagger",
   "language": "python",
   "name": "ckiptagger"
  },
  "language_info": {
   "codemirror_mode": {
    "name": "ipython",
    "version": 3
   },
   "file_extension": ".py",
   "mimetype": "text/x-python",
   "name": "python",
   "nbconvert_exporter": "python",
   "pygments_lexer": "ipython3",
   "version": "3.6.12"
  }
 },
 "nbformat": 4,
 "nbformat_minor": 4
}