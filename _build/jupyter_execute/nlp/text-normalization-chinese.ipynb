{
 "cells": [
  {
   "cell_type": "markdown",
   "metadata": {},
   "source": [
    "# Text Normalization (Chinese)"
   ]
  },
  {
   "cell_type": "markdown",
   "metadata": {},
   "source": [
    "- `text_normalizer_zh.py`\n",
    "- Including functions for:\n",
    "    - word-seg chinese texts\n",
    "    - clean up texts by removing duplicate spaces and line breaks\n",
    "    - remove incompatible weird characters"
   ]
  },
  {
   "cell_type": "code",
   "execution_count": 1,
   "metadata": {},
   "outputs": [],
   "source": [
    "import unicodedata\n",
    "import re\n",
    "#from nltk.corpus import wordnet\n",
    "#import collections\n",
    "from nltk.tokenize.toktok import ToktokTokenizer\n",
    "from bs4 import BeautifulSoup\n",
    "import requests\n",
    "import pandas as pd\n",
    "import text_normalizer_zh as tnz"
   ]
  },
  {
   "cell_type": "markdown",
   "metadata": {},
   "source": [
    "## Normalization Functions"
   ]
  },
  {
   "cell_type": "code",
   "execution_count": 2,
   "metadata": {},
   "outputs": [],
   "source": [
    "# %load text_normalizer_zh.py\n",
    "\"\"\"\n",
    "\n",
    "Notes\n",
    "-----\n",
    "\n",
    "    These functions are based on the text normalization functions \n",
    "    provided in Text Analytics with Python 2ed.\n",
    "\n",
    "\"\"\"\n",
    "\n",
    "import unicodedata\n",
    "import re\n",
    "# from nltk.tokenize.toktok import ToktokTokenizer\n",
    "import pandas as pd\n",
    "import jieba\n",
    "\n",
    "## Initialize Trad Chinese dictionary\n",
    "jieba.set_dictionary('../../../RepositoryData/data/jiaba/dict.txt.jiebatw.txt')\n",
    "\n",
    "\n",
    "## Normalize unicode characters\n",
    "def remove_weird_chars(text):\n",
    "    #     ```\n",
    "    #     (NFKD) will apply the compatibility decomposition, i.e.\n",
    "    #     replace all compatibility characters with their equivalents.\n",
    "    #     ```\n",
    "    text = unicodedata.normalize('NFKD', text).encode('utf-8',\n",
    "                                                      'ignore').decode(\n",
    "                                                          'utf-8', 'ignore')\n",
    "    return text\n",
    "\n",
    "\n",
    "## Remove extra linebreaks\n",
    "def remove_extra_linebreaks(text):\n",
    "    lines = text.split(r'\\n+')\n",
    "    return '\\n'.join(\n",
    "        [re.sub(r'[\\s]+', ' ', l).strip() for l in lines if len(l) != 0])\n",
    "\n",
    "\n",
    "## Remove extra medial/trailing/leading spaces\n",
    "def remove_extra_spaces(text):\n",
    "    return re.sub(\"\\\\s+\", \" \", text).strip()\n",
    "\n",
    "\n",
    "## Seg the text into words\n",
    "def seg(text):\n",
    "    text_seg = jieba.cut(text)\n",
    "    out = ' '.join(text_seg)\n",
    "    return out\n",
    "\n",
    "\n",
    "## Remove punctuation/symbols\n",
    "def remove_symbols(text):\n",
    "    \"\"\"\n",
    "    \n",
    "    Unicode 6.0 has 7 character categories, and each category has subcategories:\n",
    "\n",
    "    Letter (L): lowercase (Ll), modifier (Lm), titlecase (Lt), uppercase (Lu), other (Lo)\n",
    "    Mark (M): spacing combining (Mc), enclosing (Me), non-spacing (Mn)\n",
    "    Number (N): decimal digit (Nd), letter (Nl), other (No)\n",
    "    Punctuation (P): connector (Pc), dash (Pd), initial quote (Pi), final quote (Pf), open (Ps), close (Pe), other (Po)\n",
    "    Symbol (S): currency (Sc), modifier (Sk), math (Sm), other (So)\n",
    "    Separator (Z): line (Zl), paragraph (Zp), space (Zs)\n",
    "    Other (C): control (Cc), format (Cf), not assigned (Cn), private use (Co), surrogate (Cs)\n",
    "    \n",
    "    \n",
    "    There are 3 ranges reserved for private use (Co subcategory): \n",
    "    U+E000—U+F8FF (6,400 code points), U+F0000—U+FFFFD (65,534) and U+100000—U+10FFFD (65,534). \n",
    "    Surrogates (Cs subcategory) use the range U+D800—U+DFFF (2,048 code points).\n",
    "    \n",
    "    \n",
    "    \"\"\"\n",
    "\n",
    "    ## Brute-force version: list all possible unicode ranges, but this list is not complete.\n",
    "    #   text = re.sub('[\\u0021-\\u002f\\u003a-\\u0040\\u005b-\\u0060\\u007b-\\u007e\\u00a1-\\u00bf\\u2000-\\u206f\\u2013-\\u204a\\u20a0-\\u20bf\\u2100-\\u214f\\u2150-\\u218b\\u2190-\\u21ff\\u2200-\\u22ff\\u2300-\\u23ff\\u2460-\\u24ff\\u2500-\\u257f\\u2580-\\u259f\\u25a0-\\u25ff\\u2600-\\u26ff\\u2e00-\\u2e7f\\u3000-\\u303f\\ufe50-\\ufe6f\\ufe30-\\ufe4f\\ufe10-\\ufe1f\\uff00-\\uffef─◆╱]+','',text)\n",
    "\n",
    "    text = ''.join(ch for ch in text\n",
    "                   if unicodedata.category(ch)[0] not in ['P', 'S'])\n",
    "    return text\n",
    "\n",
    "\n",
    "## Remove numbers\n",
    "def remove_numbers(text):\n",
    "    return re.sub('\\\\d+', \"\", text)\n",
    "\n",
    "\n",
    "## Remove alphabets\n",
    "def remove_alphabets(text):\n",
    "    return re.sub('[a-zA-Z]+', '', text)\n",
    "\n",
    "\n",
    "## Combine every step\n",
    "def normalize_corpus(corpus,\n",
    "                     is_remove_extra_linebreaks=True,\n",
    "                     is_remove_weird_chars=True,\n",
    "                     is_seg=True,\n",
    "                     is_remove_symbols=True,\n",
    "                     is_remove_numbers=True,\n",
    "                     is_remove_alphabets=True):\n",
    "\n",
    "    normalized_corpus = []\n",
    "    # normalize each document in the corpus\n",
    "    for doc in corpus:\n",
    "\n",
    "        if is_remove_extra_linebreaks:\n",
    "            doc = remove_extra_linebreaks(doc)\n",
    "\n",
    "        if is_remove_weird_chars:\n",
    "            doc = remove_weird_chars(doc)\n",
    "\n",
    "        if is_seg:\n",
    "            doc = seg(doc)\n",
    "\n",
    "        if is_remove_symbols:\n",
    "            doc = remove_symbols(doc)\n",
    "\n",
    "        if is_remove_alphabets:\n",
    "            doc = remove_alphabets(doc)\n",
    "\n",
    "        if is_remove_numbers:\n",
    "            doc = remove_numbers(doc)\n",
    "\n",
    "        normalized_corpus.append(remove_extra_spaces(doc))\n",
    "\n",
    "    return normalized_corpus"
   ]
  },
  {
   "cell_type": "markdown",
   "metadata": {},
   "source": [
    "## Extract an Article"
   ]
  },
  {
   "cell_type": "markdown",
   "metadata": {},
   "source": [
    "- Grab the first article from Google news for demonstration"
   ]
  },
  {
   "cell_type": "code",
   "execution_count": 3,
   "metadata": {
    "scrolled": true
   },
   "outputs": [
    {
     "name": "stdout",
     "output_type": "stream",
     "text": [
      "['新北市警新店分局今天凌晨1時許接獲報案，一名社區警衛在警衛亭聽到一聲巨響，外出查看，發現一名男子倒臥在路上；警方獲報趕往調查，發現是18歲的王姓男子，初步研判是從住家12樓頂樓墜落，現場已無呼吸心跳，經送醫急救，仍於凌晨2時許宣告不治。經了解，王目前就讀高雄海軍官校。', '\\n', '\\r\\n據了解，18歲王姓男子住在新北市新店區永安街一處社區大樓，平時住校，上周四因雙十國慶返家過連假，昨天晚間10時原本應該要收假回到學校；沒想到今天凌晨1時許，卻從住家社區大樓12樓頂樓墜落至1樓馬路，頭部受到重擊當場沒有呼吸心跳，家屬聽到聲響外出查看，發現是王，當場痛哭失聲。', '\\n', '\\r\\n家屬表示死者回家時並沒有異狀，連假期間還與家人有說有笑，甚至還去找表哥、表姊烤肉聊天，很難相信王會做傻事。', '\\n', '\\r\\n警方趕往後，封鎖現場採證，在頂樓發現王姓男子的黑色行李袋，經鑑識人員初步勘察，現場無打鬥跡象，初步排除他殺嫌疑，也沒有發現遺書，研判為輕生可能性大，詳細原因仍有待警方進一步釐清，目前已請家屬至派出所製作筆錄調查中。', '\\n', '\\n 自殺，不能解決難題；求助，才是最好的路。求救請打1995 ( 要救救我 ) ', '\\n', '\\n新北市警新店分局今天凌晨1時許接獲報案，一名社區警衛在警衛亭聽到一聲巨響，外出查看，發現一名男子倒臥在路上。記者袁志豪／翻攝', '\\n新北市警新店分局今天凌晨1時許接獲報案，一名社區警衛在警衛亭聽到一聲巨響，外出查看，發現一名男子倒臥在路上。記者袁志豪／翻攝新北市警新店分局今天凌晨1時許接獲報案，一名社區警衛在警衛亭聽到一聲巨響，外出查看，發現一名男子倒臥在路上。記者袁志豪／翻攝', '\\n                    新北市警新店分局今天凌晨1時許接獲報案，一名社區警衛在警衛亭聽到一聲巨響，外出查看，發現一名男子倒臥在路上；警方獲報趕往...                  ', '\\n                    王姓海軍官校學生今晨在新北市新店區安和路住家墜樓身亡，海軍上午證實該名學生確就讀海軍官校一年級，目前官校正與家屬取得聯繫...                  ', '\\n                    高雄市警仁武分局澄觀派出所所長薛冠洲今晨執行釣蝦場勤務，疑似連夜過勞引發心肌梗塞，結束勤務後返回派出所，下車時門口身體不...                  ', '\\n                    台中市陳姓男子在今天凌晨3時許，開車行經南屯區大業路、文心路時，與騎車的張姓男子發生碰撞，張連人帶車被撞到對向車道，波及...                  ', '\\n                    84歲陳姓老婦人昨天下午騎機車在苗栗縣竹南鎮永貞路（台13線）2段，從外車道左轉，內車道砂石車煞不住，擦撞機車後，再衝向...                  ', '\\n                    台中市大里區中興路二段與現岱路口的有喜早餐店前，清晨5時50分發生全航客運和休旅車相撞的事故，造成休旅車左側嚴重凹陷，全...                  ', '\\n                    十八歲陳姓女子昨天上午在花蓮鯉魚潭完成龍舟訓練後騎機車返家，疑在一處轉彎路段失控自撞路旁電線桿，頭部嚴重受創，送醫不治。...                  ', '\\n                    彰化縣埔鹽鄉一家鎂合金工廠昨天上午發生火警，消防局出動三個分隊搶救，火勢猛烈，因鎂遇水會燃燒，消防員以泡沫救火，一小時控...                  ', '\\n                    台東縣鹿野鄉山區、太麻里鄉金針山區昨天連傳虎頭蜂螫人意外，造成五人送醫，來自高雄市林姓女遊客最嚴重，出現頭暈、心悸症狀；...                  ', '\\n                    和碩（4938）與景碩合資成立的軟板廠復揚科技新竹新豐廠，今日下午發生火警意外，消防單位出動16車31人前往灌救，景碩針...                  ', '\\n                    新北市坪林區北宜公路傳落石傷人意外！68歲的丘姓男子今天下午1時許騎乘普通重機沿坪林往新店方向前進，在該路段32.5公里...                  ', '\\n                    高雄郭姓男子今天上午與友人登上柴山秘境時，意外扭傷腳，無法獨自行走，因路線陡峭，救難器材難以進入，只好找來友人徒手背負，...                  ', '\\n', '\\n', '\\n', '\\n', '\\n', '\\n']\n"
     ]
    }
   ],
   "source": [
    "url = 'https://news.google.com/topics/CAAqJQgKIh9DQkFTRVFvSUwyMHZNRFptTXpJU0JYcG9MVlJYS0FBUAE?hl=zh-TW&gl=TW&ceid=TW%3Azh-Hant'\n",
    "r = requests.get(url)\n",
    "web_content = r.text\n",
    "soup = BeautifulSoup(web_content, 'lxml')\n",
    "title = soup.find_all('a', class_='DY5T1d')\n",
    "first_art_link = title[0]['href'].replace('.', 'https://news.google.com', 1)\n",
    "\n",
    "#print(first_art_link)\n",
    "art_request = requests.get(first_art_link)\n",
    "art_request.encoding = 'utf8'\n",
    "soup_art = BeautifulSoup(art_request.text, 'lxml')\n",
    "\n",
    "art_content = soup_art.find_all('p')\n",
    "art_texts = [p.text for p in art_content]\n",
    "print(art_texts)"
   ]
  },
  {
   "cell_type": "markdown",
   "metadata": {},
   "source": [
    "- Normalized results:"
   ]
  },
  {
   "cell_type": "code",
   "execution_count": 4,
   "metadata": {},
   "outputs": [
    {
     "name": "stderr",
     "output_type": "stream",
     "text": [
      "Building prefix dict from /Users/Alvin/GoogleDrive/_MySyncDrive/RepositoryData/data/jiaba/dict.txt.jiebatw.txt ...\n"
     ]
    },
    {
     "name": "stderr",
     "output_type": "stream",
     "text": [
      "Loading model from cache /var/folders/n7/ltpzwx813c599nfxfb94s_640000gn/T/jieba.u1b52b47246a0f2e6497af6bbe107adac.cache\n"
     ]
    },
    {
     "name": "stderr",
     "output_type": "stream",
     "text": [
      "Loading model cost 0.531 seconds.\n"
     ]
    },
    {
     "name": "stderr",
     "output_type": "stream",
     "text": [
      "Prefix dict has been built successfully.\n"
     ]
    },
    {
     "data": {
      "text/plain": [
       "['新北 市警 新店 分局 今天 凌晨 時許 接獲 報案 一名 社區 警衛 在 警衛亭 聽到 一聲 巨響 外出 查看 發現 一名 男子 倒臥 在 路 上 警方 獲報 趕往 調查 發現 是 歲 的 王姓 男子 初步 研判 是 從 住家 樓 頂樓 墜落 現場 已 無 呼吸 心跳 經 送醫 急救 仍 於 凌晨 時許 宣告 不治 經 了解 王 目前 就讀 高雄 海軍 官校 據了解 歲 王姓 男子 住 在 新 北市 新店區 永安街 一處 社區 大樓 平時 住校 上 周四 因 雙十國慶 返家過 連假 昨天 晚間 時 原本 應該 要 收假 回到 學校 沒想到 今天 凌晨 時許 卻 從 住家 社區 大樓 樓 頂樓 墜落 至 樓 馬路 頭部 受到 重擊 當場 沒有 呼吸 心跳 家屬 聽到 聲響 外出 查看 發現 是 王 當場 痛哭失聲 家屬 表示 死者 回家 時並 沒有 異狀 連假 期間 還與 家人 有說有笑 甚至 還去 找 表哥 表姊 烤肉 聊天 很 難 相信 王會 做 傻事 警方 趕往 後 封鎖 現場 採證 在 頂樓 發現 王姓 男子 的 黑色 行李袋 經 鑑識 人員 初步 勘察 現場 無 打鬥 跡象 初步 排除 他殺 嫌疑 也 沒有 發現 遺書 研判 為 輕生 可能性 大 詳細 原因 仍 有待 警方 進一步 釐清 目前 已 請 家屬 至 派出所 製作 筆錄 調查 中 自殺 不能 解決 難題 求助 才 是 最好 的 路 求救 請 打 要 救救 我 新北 市警 新店 分局 今天 凌晨 時許 接獲 報案 一名 社區 警衛 在 警衛亭 聽到 一聲 巨響 外出 查看 發現 一名 男子 倒臥 在 路 上 記者 袁 志豪 翻攝 新北 市警 新店 分局 今天 凌晨 時許 接獲 報案 一名 社區 警衛 在 警衛亭 聽到 一聲 巨響 外出 查看 發現 一名 男子 倒臥 在 路 上 記者 袁 志豪 翻攝 新北 市警 新店 分局 今天 凌晨 時許 接獲 報案 一名 社區 警衛 在 警衛亭 聽到 一聲 巨響 外出 查看 發現 一名 男子 倒臥 在 路 上 記者 袁 志豪 翻攝 新北 市警 新店 分局 今天 凌晨 時許 接獲 報案 一名 社區 警衛 在 警衛亭 聽到 一聲 巨響 外出 查看 發現 一名 男子 倒臥 在 路 上 警方 獲報 趕往 王姓 海軍 官校 學生 今晨 在 新 北市 新店區 安和路 住家 墜樓 身亡 海軍 上午 證實 該名 學生 確 就讀 海軍 官校 一年級 目前 官校 正 與 家屬 取得 聯繫 高雄市 警 仁武 分局 澄觀 派出所 所長 薛冠洲 今晨 執行 釣蝦場 勤務 疑似 連夜 過勞 引發 心肌 梗塞 結束 勤務 後 返回 派出所 下車 時 門口 身體 不 台中市 陳姓 男子 在 今天 凌晨 時許 開車 行經 南屯區 大業路 文心路 時 與 騎車 的 張姓 男子 發生 碰撞 張連人 帶車 被 撞到 對 向 車道 波及 歲 陳姓 老婦人 昨天 下午 騎 機車 在 苗栗縣 竹南鎮 永貞路 台 線 段 從外 車道 左轉 內車道 砂石車 煞不 住 擦撞 機車 後 再 衝向 台中市 大里區 中興路 二段 與 現岱路 口 的 有喜 早餐店 前 清晨 時 分 發生 全航 客運 和 休旅車 相撞 的 事故 造成 休旅車 左側 嚴重 凹陷 全 十八歲 陳姓 女子 昨天 上午 在 花蓮 鯉魚潭 完成 龍舟 訓練 後 騎 機車 返家 疑在 一處 轉彎 路段 失控 自 撞路 旁 電線桿 頭部 嚴重 受創 送醫 不治 彰化縣 埔鹽鄉 一家 鎂合金 工廠 昨天 上午 發生 火警 消防局 出動 三個 分隊 搶救 火勢 猛烈 因鎂遇 水會 燃燒 消防員 以 泡沫 救火 一小時 控 台東縣 鹿野鄉 山區 太麻里鄉 金針 山區 昨天 連傳 虎頭蜂 螫人 意外 造成 五人 送醫 來自 高雄市 林姓 女 遊客 最 嚴重 出現 頭暈 心悸 症狀 和 碩 與 景碩 合資 成立 的 軟板廠 復 揚 科技 新竹 新豐廠 今日 下午 發生 火警 意外 消防 單位 出動 車 人 前往 灌救 景碩 針 新 北市 坪林區 北宜 公路 傳 落石 傷人 意外 歲 的 丘姓 男子 今天 下午 時許 騎乘 普通 重機 沿 坪林 往 新店 方向 前進 在 該 路段 公里 高雄 郭姓 男子 今天 上午 與 友人 登上 柴山 秘境 時 意外 扭傷 腳 無法 獨自 行走 因 路線 陡峭 救難 器材 難以 進入 只好 找來 友人 徒手 背負']"
      ]
     },
     "execution_count": 4,
     "metadata": {},
     "output_type": "execute_result"
    }
   ],
   "source": [
    "tnz.normalize_corpus([' '.join(art_texts)])"
   ]
  },
  {
   "cell_type": "code",
   "execution_count": null,
   "metadata": {},
   "outputs": [],
   "source": []
  }
 ],
 "metadata": {
  "kernelspec": {
   "display_name": "python-notes",
   "language": "python",
   "name": "python-notes"
  },
  "language_info": {
   "codemirror_mode": {
    "name": "ipython",
    "version": 3
   },
   "file_extension": ".py",
   "mimetype": "text/x-python",
   "name": "python",
   "nbconvert_exporter": "python",
   "pygments_lexer": "ipython3",
   "version": "3.7.0"
  },
  "toc": {
   "base_numbering": 1,
   "nav_menu": {},
   "number_sections": false,
   "sideBar": true,
   "skip_h1_title": false,
   "title_cell": "Table of Contents",
   "title_sidebar": "Contents",
   "toc_cell": false,
   "toc_position": {},
   "toc_section_display": true,
   "toc_window_display": false
  },
  "varInspector": {
   "cols": {
    "lenName": 16,
    "lenType": 16,
    "lenVar": 40
   },
   "kernels_config": {
    "python": {
     "delete_cmd_postfix": "",
     "delete_cmd_prefix": "del ",
     "library": "var_list.py",
     "varRefreshCmd": "print(var_dic_list())"
    },
    "r": {
     "delete_cmd_postfix": ") ",
     "delete_cmd_prefix": "rm(",
     "library": "var_list.r",
     "varRefreshCmd": "cat(var_dic_list()) "
    }
   },
   "types_to_exclude": [
    "module",
    "function",
    "builtin_function_or_method",
    "instance",
    "_Feature"
   ],
   "window_display": false
  }
 },
 "nbformat": 4,
 "nbformat_minor": 4
}