{
 "cells": [
  {
   "cell_type": "markdown",
   "metadata": {},
   "source": [
    "# Text Normalization (Chinese)"
   ]
  },
  {
   "cell_type": "markdown",
   "metadata": {},
   "source": [
    "- `text_normalizer_zh.py`\n",
    "- Including functions for:\n",
    "    - word-seg chinese texts\n",
    "    - clean up texts by removing duplicate spaces and line breaks\n",
    "    - remove incompatible weird characters"
   ]
  },
  {
   "cell_type": "code",
   "execution_count": 1,
   "metadata": {},
   "outputs": [],
   "source": [
    "import unicodedata\n",
    "import re\n",
    "#from nltk.corpus import wordnet\n",
    "#import collections\n",
    "from nltk.tokenize.toktok import ToktokTokenizer\n",
    "from bs4 import BeautifulSoup\n",
    "import requests\n",
    "import pandas as pd\n",
    "import text_normalizer_zh as tnz"
   ]
  },
  {
   "cell_type": "markdown",
   "metadata": {},
   "source": [
    "## Normalization Functions"
   ]
  },
  {
   "cell_type": "code",
   "execution_count": 2,
   "metadata": {},
   "outputs": [],
   "source": [
    "# %load text_normalizer_zh.py\n",
    "\"\"\"\n",
    "\n",
    "Notes\n",
    "-----\n",
    "\n",
    "    These functions are based on the text normalization functions \n",
    "    provided in Text Analytics with Python 2ed.\n",
    "\n",
    "\"\"\"\n",
    "\n",
    "import unicodedata\n",
    "import re\n",
    "# from nltk.tokenize.toktok import ToktokTokenizer\n",
    "import pandas as pd\n",
    "import jieba\n",
    "\n",
    "## Initialize Trad Chinese dictionary\n",
    "jieba.set_dictionary('../../../RepositoryData/data/jiaba/dict.txt.jiebatw.txt')\n",
    "\n",
    "\n",
    "## Normalize unicode characters\n",
    "def remove_weird_chars(text):\n",
    "    #     ```\n",
    "    #     (NFKD) will apply the compatibility decomposition, i.e.\n",
    "    #     replace all compatibility characters with their equivalents.\n",
    "    #     ```\n",
    "    text = unicodedata.normalize('NFKD', text).encode('utf-8',\n",
    "                                                      'ignore').decode(\n",
    "                                                          'utf-8', 'ignore')\n",
    "    return text\n",
    "\n",
    "\n",
    "## Remove extra linebreaks\n",
    "def remove_extra_linebreaks(text):\n",
    "    lines = text.split(r'\\n+')\n",
    "    return '\\n'.join(\n",
    "        [re.sub(r'[\\s]+', ' ', l).strip() for l in lines if len(l) != 0])\n",
    "\n",
    "\n",
    "## Remove extra medial/trailing/leading spaces\n",
    "def remove_extra_spaces(text):\n",
    "    return re.sub(\"\\\\s+\", \" \", text).strip()\n",
    "\n",
    "\n",
    "## Seg the text into words\n",
    "def seg(text):\n",
    "    text_seg = jieba.cut(text)\n",
    "    out = ' '.join(text_seg)\n",
    "    return out\n",
    "\n",
    "\n",
    "## Remove punctuation/symbols\n",
    "def remove_symbols(text):\n",
    "    \"\"\"\n",
    "    \n",
    "    Unicode 6.0 has 7 character categories, and each category has subcategories:\n",
    "\n",
    "    Letter (L): lowercase (Ll), modifier (Lm), titlecase (Lt), uppercase (Lu), other (Lo)\n",
    "    Mark (M): spacing combining (Mc), enclosing (Me), non-spacing (Mn)\n",
    "    Number (N): decimal digit (Nd), letter (Nl), other (No)\n",
    "    Punctuation (P): connector (Pc), dash (Pd), initial quote (Pi), final quote (Pf), open (Ps), close (Pe), other (Po)\n",
    "    Symbol (S): currency (Sc), modifier (Sk), math (Sm), other (So)\n",
    "    Separator (Z): line (Zl), paragraph (Zp), space (Zs)\n",
    "    Other (C): control (Cc), format (Cf), not assigned (Cn), private use (Co), surrogate (Cs)\n",
    "    \n",
    "    \n",
    "    There are 3 ranges reserved for private use (Co subcategory): \n",
    "    U+E000—U+F8FF (6,400 code points), U+F0000—U+FFFFD (65,534) and U+100000—U+10FFFD (65,534). \n",
    "    Surrogates (Cs subcategory) use the range U+D800—U+DFFF (2,048 code points).\n",
    "    \n",
    "    \n",
    "    \"\"\"\n",
    "\n",
    "    ## Brute-force version: list all possible unicode ranges, but this list is not complete.\n",
    "    #   text = re.sub('[\\u0021-\\u002f\\u003a-\\u0040\\u005b-\\u0060\\u007b-\\u007e\\u00a1-\\u00bf\\u2000-\\u206f\\u2013-\\u204a\\u20a0-\\u20bf\\u2100-\\u214f\\u2150-\\u218b\\u2190-\\u21ff\\u2200-\\u22ff\\u2300-\\u23ff\\u2460-\\u24ff\\u2500-\\u257f\\u2580-\\u259f\\u25a0-\\u25ff\\u2600-\\u26ff\\u2e00-\\u2e7f\\u3000-\\u303f\\ufe50-\\ufe6f\\ufe30-\\ufe4f\\ufe10-\\ufe1f\\uff00-\\uffef─◆╱]+','',text)\n",
    "\n",
    "    text = ''.join(ch for ch in text\n",
    "                   if unicodedata.category(ch)[0] not in ['P', 'S'])\n",
    "    return text\n",
    "\n",
    "\n",
    "## Remove numbers\n",
    "def remove_numbers(text):\n",
    "    return re.sub('\\\\d+', \"\", text)\n",
    "\n",
    "\n",
    "## Remove alphabets\n",
    "def remove_alphabets(text):\n",
    "    return re.sub('[a-zA-Z]+', '', text)\n",
    "\n",
    "\n",
    "## Combine every step\n",
    "def normalize_corpus(corpus,\n",
    "                     is_remove_extra_linebreaks=True,\n",
    "                     is_remove_weird_chars=True,\n",
    "                     is_seg=True,\n",
    "                     is_remove_symbols=True,\n",
    "                     is_remove_numbers=True,\n",
    "                     is_remove_alphabets=True):\n",
    "\n",
    "    normalized_corpus = []\n",
    "    # normalize each document in the corpus\n",
    "    for doc in corpus:\n",
    "\n",
    "        if is_remove_extra_linebreaks:\n",
    "            doc = remove_extra_linebreaks(doc)\n",
    "\n",
    "        if is_remove_weird_chars:\n",
    "            doc = remove_weird_chars(doc)\n",
    "\n",
    "        if is_seg:\n",
    "            doc = seg(doc)\n",
    "\n",
    "        if is_remove_symbols:\n",
    "            doc = remove_symbols(doc)\n",
    "\n",
    "        if is_remove_alphabets:\n",
    "            doc = remove_alphabets(doc)\n",
    "\n",
    "        if is_remove_numbers:\n",
    "            doc = remove_numbers(doc)\n",
    "\n",
    "        normalized_corpus.append(remove_extra_spaces(doc))\n",
    "\n",
    "    return normalized_corpus"
   ]
  },
  {
   "cell_type": "markdown",
   "metadata": {},
   "source": [
    "## Extract an Article"
   ]
  },
  {
   "cell_type": "markdown",
   "metadata": {},
   "source": [
    "- Grab the first article from Google news for demonstration"
   ]
  },
  {
   "cell_type": "code",
   "execution_count": 3,
   "metadata": {
    "scrolled": true
   },
   "outputs": [
    {
     "name": "stdout",
     "output_type": "stream",
     "text": [
      "['台北市長柯文哲上午赴議會針對疫情紓困、無現金交易、老人安養等政策進行專案報告。針對疫情紓困，市府已提出9到12月的紓困措施，包括有稅籍者先延租再減租，娛樂稅也減半徵收7個月，若有業者到了年底還不行，可能要考慮轉行。', '\\n', '\\r\\n柯文哲指出，2020年實質GDP成長率，全球經濟衰退５.5% 、台灣成長1.56%；2020年1至8月出口成長率，除了台灣正常1.5%，其餘主要國家均為負成長。這是因台灣出口資通訊產品，而台灣GDP成長率較高，這不是台灣厲害，而是別人衰退太多。', '\\n', '\\r\\n柯文哲指出，北市109年1至6月營利事業銷售額年增率，批發零售業 、運輸倉儲業 、住宿餐飲業與藝術、娛樂及休閒服務在5、6月營業額年增率，衰退減幅均有少，呈V 型反轉，顯示疫情對經濟衝擊已漸緩和，但藝術娛樂休閒服務業沒有恢復，這些事業有傷到，要特別處理，包括延租減租，但到年底還不行怎麼辦？可能要考慮轉行。', '\\n', '\\r\\n柯文哲指出，他估疫情還會持續1年半左右，今年耶誕節到明年過年前疫情還不會過去，北市災害準備金仍有3億元額度，市府還在規畫如何促進台北旅遊。', '\\n', '\\r\\n柯文哲提到，今年10月12日為止，防疫旅館家數已達到73家，供可檢疫房間數5041間，完成接待超過2萬2500人， 防疫旅館是是台灣免於境外移入的戰略，未來居家檢疫隔離會嚴格執行，並嚴查日租套房，這些是阻絕國外疫情傳入台灣的方法。柯文哲對於近日引發爭議的跨年活動停辦的標準，柯說，未來有一種新常態叫風險管理，未來是充滿風險的年代。', '\\n                    經濟部昨（23）日發布9月製造業生產指數123.91，年增11.32%，續創歷年單月新高，為連續第八個月正成長。經濟部統...                  ', '\\n                    政府力推能源轉型，行政院副院長沈榮津今天表示，在台灣與歐洲具有經驗的開發商、系統商、設備商合作下，離岸風電已見初步成果，...                  ', '\\n                    為防堵關鍵技術外流，經濟部投審會預告修訂「在大陸地區從事投資或技術合作許可辦法」第5條，針對授權或轉讓專門技術到中國，將...                  ', '\\n                    立法院院會昨（23）日審查2,100億元「紓困3.0」特別預算案，最後僅刪除5,300萬元，其餘全數通過，行政院將以舉債...                  ', '\\n                    經濟部昨（23）日發布9月零售業營業額3,206億元，年增2.9%，創歷年同月新高，主因是節慶帶動買氣，以及振興方案持續...                  ', '\\n                    國泰航空10月21日宣布裁員8500人，旗下港龍航空甚至走入歷史，對比國泰慘狀，中華航空則是宣布十一月起增加香港航線航班，每周北、中、南共12班往返；航空界人士說，國泰大裁員、港龍會收，最大問題出在規模太大...                  ', '\\n                    針對網傳台電發布電力系統警戒運轉恐缺電，台電澄清，因應「110學年度高中英語聽力測驗」明天登場，依慣例發布電力系統警戒運...                  ', '\\n                    零售業今年相當有望擺脫新冠肺炎疫情陰霾，9月餐飲、零售業營業額都維持正成長，不過，經濟部統計處表示，餐飲業今年前三季年減...                  ', '\\n                    台北市長柯文哲上午赴議會針對疫情紓困、無現金交易、老人安養等政策進行專案報告。針對疫情紓困，市府已提出9到12月的紓困措...                  ', '\\n                    對於熟齡勞工族來說，他們原本預估的退休金，應該準備多少錢呢？yes123今（23）日公布的「銀髮勞工職場危機與退休規劃調...                  ', '\\n                    外交部與貿協今天舉行拉丁美洲牛肉採購成果發表會，根據進口資料顯示，今年前9月台灣進口牛肉金額年減2.2%，不過在宏都拉斯...                  ', '\\n                    財信傳媒董事長謝金河今（23）日在臉書發文表示，香港上半年經濟成長率衰退逾9%，失業率上升至6.4%，內需消費急凍，過去...                  ', '\\n', '\\n', '\\n', '\\n', '\\n', '\\n']\n"
     ]
    }
   ],
   "source": [
    "url = 'https://news.google.com/topics/CAAqJQgKIh9DQkFTRVFvSUwyMHZNRFptTXpJU0JYcG9MVlJYS0FBUAE?hl=zh-TW&gl=TW&ceid=TW%3Azh-Hant'\n",
    "r = requests.get(url)\n",
    "web_content = r.text\n",
    "soup = BeautifulSoup(web_content, 'lxml')\n",
    "title = soup.find_all('a', class_='DY5T1d')\n",
    "first_art_link = title[0]['href'].replace('.', 'https://news.google.com', 1)\n",
    "\n",
    "#print(first_art_link)\n",
    "art_request = requests.get(first_art_link)\n",
    "art_request.encoding = 'utf8'\n",
    "soup_art = BeautifulSoup(art_request.text, 'lxml')\n",
    "\n",
    "art_content = soup_art.find_all('p')\n",
    "art_texts = [p.text for p in art_content]\n",
    "print(art_texts)"
   ]
  },
  {
   "cell_type": "markdown",
   "metadata": {},
   "source": [
    "- Normalized results:"
   ]
  },
  {
   "cell_type": "code",
   "execution_count": 4,
   "metadata": {},
   "outputs": [
    {
     "name": "stderr",
     "output_type": "stream",
     "text": [
      "Building prefix dict from /Users/Alvin/GoogleDrive/_MySyncDrive/RepositoryData/data/jiaba/dict.txt.jiebatw.txt ...\n"
     ]
    },
    {
     "name": "stderr",
     "output_type": "stream",
     "text": [
      "Loading model from cache /var/folders/n7/ltpzwx813c599nfxfb94s_640000gn/T/jieba.u1b52b47246a0f2e6497af6bbe107adac.cache\n"
     ]
    },
    {
     "name": "stderr",
     "output_type": "stream",
     "text": [
      "Loading model cost 0.617 seconds.\n"
     ]
    },
    {
     "name": "stderr",
     "output_type": "stream",
     "text": [
      "Prefix dict has been built successfully.\n"
     ]
    },
    {
     "data": {
      "text/plain": [
       "['台北市長 柯文哲 上午 赴 議會 針對 疫情 紓困 無 現金 交易 老人 安養 等 政策 進行 專案 報告 針對 疫情 紓困 市府 已 提出 到 月 的 紓困 措施 包括 有 稅籍 者 先延租 再 減租 娛樂稅 也 減半 徵收 個 月 若有 業者 到 了 年底 還 不行 可能 要 考慮 轉行 柯文哲 指出 年 實質 成長率 全球 經濟 衰退 台灣 成長 年 至 月 出口 成長率 除了 台灣 正常 其餘 主要 國家 均 為 負成長 這是 因 台灣 出口 資通訊 產品 而 台灣 成長率 較 高 這不 是 台灣 厲害 而是 別人 衰退 太多 柯文哲 指出 北市 年 至 月 營利 事業 銷售額 年增率 批發 零售業 運輸 倉儲業 住宿 餐飲業 與 藝術 娛樂 及 休閒 服務 在 月 營業額 年增率 衰退 減幅 均 有 少 呈 型 反轉 顯示 疫情 對 經濟 衝擊 已漸 緩和 但 藝術 娛樂 休閒 服務業 沒有 恢復 這些 事業 有 傷到 要 特別 處理 包括 延租 減租 但 到 年底 還 不行 怎麼辦 可能 要 考慮 轉行 柯文哲 指出 他估 疫情 還 會 持續 年 半 左右 今年 耶誕節 到 明年 過年 前 疫情 還 不會 過去 北市 災害 準備金 仍 有 億元 額度 市府 還在 規畫 如何 促進 台北 旅遊 柯文哲 提到 今年 月 日 為止 防疫 旅館 家數 已 達到 家 供 可 檢疫 房間數 間 完成 接待 超過 萬 人 防疫 旅館 是 是 台灣 免於 境外 移入 的 戰略 未來 居家 檢疫 隔離 會 嚴格 執行 並 嚴查 日 租套房 這些 是 阻絕 國外 疫情 傳入 台灣 的 方法 柯文哲 對於 近日 引發 爭議 的 跨年 活動 停辦 的 標準 柯 說 未來 有 一種 新常態 叫 風險 管理 未來 是 充滿 風險 的 年代 經濟部 昨 日 發布 月 製造業 生產 指數 年增 續創 歷年 單月 新高 為 連續 第八個 月 正成長 經濟部 統 政府 力推 能源 轉型 行政院 副院長 沈榮津 今天 表示 在 台灣 與 歐洲 具有 經驗 的 開發商 系統商 設備商 合作 下 離 岸風電 已見 初步 成果 為 防堵 關鍵 技術 外流 經濟部 投審會 預告 修訂 在 大陸 地區 從事 投資 或 技術 合作 許可 辦法 第 條 針對 授權 或 轉讓 專門 技術 到 中國 將 立法院 院會 昨 日 審查 億元 紓困 特別 預算案 最後 僅 刪除 萬元 其餘 全數 通過 行政院 將以 舉債 經濟部 昨 日 發布 月 零售業 營業額 億元 年增 創 歷年 同月 新高 主因 是 節慶 帶動 買氣 以及 振興 方案 持續 國泰 航空 月 日 宣布 裁員 人 旗下 港龍 航空 甚至 走入 歷史 對比 國泰 慘狀 中華 航空 則是 宣布 十一月 起 增加 香港 航線 航班 每周 北 中 南共 班 往返 航空界 人士 說 國泰 大 裁員 港龍 會收 最 大 問題 出 在 規模 太大 針對 網傳 台電 發布 電力 系統 警戒 運轉 恐 缺電 台電 澄清 因應 學年度 高中 英語 聽力 測驗 明天 登場 依 慣例 發布 電力 系統 警戒 運 零售業 今年 相當 有望 擺脫 新冠 肺炎 疫情 陰霾 月 餐飲 零售業 營業額 都 維持 正成長 不過 經濟部 統計處 表示 餐飲業 今年 前三季 年減 台北市長 柯文哲 上午 赴 議會 針對 疫情 紓困 無 現金 交易 老人 安養 等 政策 進行 專案 報告 針對 疫情 紓困 市府 已 提出 到 月 的 紓困 措 對於 熟齡 勞工 族 來 說 他們 原本 預估 的 退休金 應該 準備 多少 錢 呢 今 日 公布 的 銀髮 勞工 職場 危機 與 退休 規劃 調 外交部 與 貿協 今天 舉行 拉丁美洲 牛肉 採購 成果 發表會 根據 進口 資料 顯示 今年 前 月 台灣 進口 牛肉 金額 年減 不過 在 宏都拉斯 財信 傳媒 董事長 謝金河 今 日 在 臉書 發文 表示 香港 上半年 經濟 成長率 衰退 逾 失業率 上升 至 內需 消費 急凍 過去']"
      ]
     },
     "execution_count": 4,
     "metadata": {},
     "output_type": "execute_result"
    }
   ],
   "source": [
    "tnz.normalize_corpus([' '.join(art_texts)])"
   ]
  },
  {
   "cell_type": "code",
   "execution_count": null,
   "metadata": {},
   "outputs": [],
   "source": []
  }
 ],
 "metadata": {
  "kernelspec": {
   "display_name": "python-notes",
   "language": "python",
   "name": "python-notes"
  },
  "language_info": {
   "codemirror_mode": {
    "name": "ipython",
    "version": 3
   },
   "file_extension": ".py",
   "mimetype": "text/x-python",
   "name": "python",
   "nbconvert_exporter": "python",
   "pygments_lexer": "ipython3",
   "version": "3.7.0"
  },
  "toc": {
   "base_numbering": 1,
   "nav_menu": {},
   "number_sections": false,
   "sideBar": true,
   "skip_h1_title": false,
   "title_cell": "Table of Contents",
   "title_sidebar": "Contents",
   "toc_cell": false,
   "toc_position": {},
   "toc_section_display": true,
   "toc_window_display": false
  },
  "varInspector": {
   "cols": {
    "lenName": 16,
    "lenType": 16,
    "lenVar": 40
   },
   "kernels_config": {
    "python": {
     "delete_cmd_postfix": "",
     "delete_cmd_prefix": "del ",
     "library": "var_list.py",
     "varRefreshCmd": "print(var_dic_list())"
    },
    "r": {
     "delete_cmd_postfix": ") ",
     "delete_cmd_prefix": "rm(",
     "library": "var_list.r",
     "varRefreshCmd": "cat(var_dic_list()) "
    }
   },
   "types_to_exclude": [
    "module",
    "function",
    "builtin_function_or_method",
    "instance",
    "_Feature"
   ],
   "window_display": false
  }
 },
 "nbformat": 4,
 "nbformat_minor": 4
}