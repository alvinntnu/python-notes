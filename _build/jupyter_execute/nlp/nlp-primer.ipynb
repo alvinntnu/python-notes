{
 "cells": [
  {
   "cell_type": "markdown",
   "metadata": {
    "slideshow": {
     "slide_type": "slide"
    }
   },
   "source": [
    "\n",
    "# Natural Language Processing: A Primer"
   ]
  },
  {
   "cell_type": "markdown",
   "metadata": {
    "slideshow": {
     "slide_type": "subslide"
    }
   },
   "source": [
    "- Computational Linguistics is a very active subject in linguistics.\n",
    "- Natural Language Processing (NLP): It is a sub-field of computer science that deals with methods to analyze, model, and understand human language.\n"
   ]
  },
  {
   "cell_type": "markdown",
   "metadata": {
    "slideshow": {
     "slide_type": "slide"
    }
   },
   "source": [
    "## NLP Applications"
   ]
  },
  {
   "cell_type": "markdown",
   "metadata": {
    "slideshow": {
     "slide_type": "subslide"
    }
   },
   "source": [
    "![nlp-apps](../images/nlp-apps.png)"
   ]
  },
  {
   "cell_type": "markdown",
   "metadata": {
    "slideshow": {
     "slide_type": "slide"
    }
   },
   "source": [
    "## NLP Tasks and Language Blocks"
   ]
  },
  {
   "cell_type": "markdown",
   "metadata": {
    "slideshow": {
     "slide_type": "subslide"
    }
   },
   "source": [
    "![lg-blocks](../images/lg-blocks.png)"
   ]
  },
  {
   "cell_type": "markdown",
   "metadata": {
    "slideshow": {
     "slide_type": "slide"
    }
   },
   "source": [
    "## NLP Challenges"
   ]
  },
  {
   "cell_type": "markdown",
   "metadata": {
    "slideshow": {
     "slide_type": "subslide"
    }
   },
   "source": [
    "- Ambiguity\n",
    "- Creativity\n",
    "- Diversity\n",
    "- Common Knowledge (Context)"
   ]
  },
  {
   "cell_type": "markdown",
   "metadata": {
    "slideshow": {
     "slide_type": "slide"
    }
   },
   "source": [
    "## Artificial Intelligence, Machine Learning, Deep Learning and NLP"
   ]
  },
  {
   "cell_type": "markdown",
   "metadata": {
    "slideshow": {
     "slide_type": "subslide"
    }
   },
   "source": [
    "- **Artificial Intelligence** is a branch of computer sceience that aims to build systems that can perform taskes that require human intelligence.\n",
    "- **Machine Learning** is a branch of AI that deals with the development of algorithms that can learn to perform tasks automatically based on large number of examples, without requiring handcrafted rules.\n",
    "- **Deep Learning** is a branch of machine learning that is based on the artificial neural network architectures. "
   ]
  },
  {
   "cell_type": "markdown",
   "metadata": {
    "slideshow": {
     "slide_type": "subslide"
    }
   },
   "source": [
    "- Approaches to NLP\n",
    "    - Heuristics-based NLP\n",
    "    - Machine Learning NLP\n",
    "    - Deep Learning for NLP"
   ]
  },
  {
   "cell_type": "markdown",
   "metadata": {
    "slideshow": {
     "slide_type": "slide"
    }
   },
   "source": [
    "### Heuristics-based NLP"
   ]
  },
  {
   "cell_type": "markdown",
   "metadata": {
    "slideshow": {
     "slide_type": "subslide"
    }
   },
   "source": [
    "Examples:\n",
    "   - Dictionary-based sentiment analysis\n",
    "   - WordNet for lexical relations\n",
    "   - Common sense world knowledge (Open Mind Common Sense, Ontoloty)\n",
    "   - Regular Expressions\n",
    "   - Context-free grammar\n",
    "\n",
    "Strengths:\n",
    "   - Rules based on domain-specific knowledge can efficiently reduce the mistakes that are sometimes very expensive.\n",
    "    "
   ]
  },
  {
   "cell_type": "markdown",
   "metadata": {
    "slideshow": {
     "slide_type": "slide"
    }
   },
   "source": [
    "### Machine Learning for NLP"
   ]
  },
  {
   "cell_type": "markdown",
   "metadata": {
    "slideshow": {
     "slide_type": "subslide"
    }
   },
   "source": [
    "- Types of machine learning:\n",
    "    - Supervised vs. Unsupervised\n",
    "    - Classification vs. Regression"
   ]
  },
  {
   "cell_type": "markdown",
   "metadata": {
    "slideshow": {
     "slide_type": "subslide"
    }
   },
   "source": [
    "- Three common steps for machine learning\n",
    "    - extracting features from texts\n",
    "    - using the feature representation to learn a model\n",
    "    - evaluating and improving the model"
   ]
  },
  {
   "cell_type": "markdown",
   "metadata": {
    "slideshow": {
     "slide_type": "subslide"
    }
   },
   "source": [
    "- Common methods:\n",
    "   - Naive Bayes\n",
    "   - Support Vector Machine\n",
    "   - Hidden Markov Model\n",
    "   - Conditional Random Field"
   ]
  },
  {
   "cell_type": "markdown",
   "metadata": {
    "slideshow": {
     "slide_type": "slide"
    }
   },
   "source": [
    "### Deep Learning for NLP"
   ]
  },
  {
   "cell_type": "markdown",
   "metadata": {
    "slideshow": {
     "slide_type": "subslide"
    }
   },
   "source": [
    "- Sequence Models\n",
    "    - Recurrent Neural Network (RNN)\n",
    "    - Long-Term Short-Term Memory (LSTM)\n",
    "- Convolutional Neural Network (CNN)"
   ]
  },
  {
   "cell_type": "markdown",
   "metadata": {
    "slideshow": {
     "slide_type": "subslide"
    }
   },
   "source": [
    "- Transformers\n",
    "    - The state-of-the-art model in major NLP tasks\n",
    "    - It models the textual context in a non-sequential mannwer.\n",
    "    - Given a word in the input, the model looks at all the words around it and represent each word with respect to its context. This is referred to as *self-attention*. "
   ]
  },
  {
   "cell_type": "markdown",
   "metadata": {
    "slideshow": {
     "slide_type": "subslide"
    }
   },
   "source": [
    "- Transfer Learning\n",
    "    - It is a technique in AI where the knowledge gained while solving one problem is applied to a different but related problem.\n",
    "    - We can use unsupervised methods to train a transformer-based model for predicting a part of a sentence given the rest of the content. \n",
    "    - This model can encode high-level nuances of the language, which can be applied to other relevant downstream tasks."
   ]
  },
  {
   "cell_type": "markdown",
   "metadata": {
    "slideshow": {
     "slide_type": "slide"
    }
   },
   "source": [
    "## Deep Learning is NOT Everything"
   ]
  },
  {
   "cell_type": "markdown",
   "metadata": {
    "slideshow": {
     "slide_type": "subslide"
    }
   },
   "source": [
    "- The trend now is to leverage large transformer models and huge datasets for generic NLP tasks like language models, and then adapt these pre-trained models to smaller downstream tasks. "
   ]
  },
  {
   "cell_type": "markdown",
   "metadata": {
    "slideshow": {
     "slide_type": "subslide"
    }
   },
   "source": [
    "- Challenges\n",
    "    - Overfitting on small datasets\n",
    "        - Occam's razor\n",
    "        - Data accessibility\n",
    "    - Domain adaptation\n",
    "    - Interpretable models\n",
    "    - Cost\n",
    "        - Data guzzler\n",
    "        - Specialized hardware (GPUs)\n",
    "        - Deployment and maintenance\n",
    "    - On-device deployment\n",
    "        "
   ]
  },
  {
   "cell_type": "markdown",
   "metadata": {
    "slideshow": {
     "slide_type": "slide"
    }
   },
   "source": [
    "## Conclusion"
   ]
  },
  {
   "cell_type": "markdown",
   "metadata": {
    "slideshow": {
     "slide_type": "subslide"
    }
   },
   "source": [
    "- Deep learning is not always the go-to solution for all industrial NLP applications.\n",
    "\n",
    "- Many deep learning models are not interpretable enough to indicate the sources of empirical gains."
   ]
  },
  {
   "cell_type": "markdown",
   "metadata": {},
   "source": [
    "\n",
    "```{toctree}\n",
    ":hidden:\n",
    ":titlesonly:\n",
    "\n",
    "\n",
    "nlp-pipeline\n",
    "nlp-spacy\n",
    "nlp-spacy-zh\n",
    "nlp-ckipnlp\n",
    "```\n"
   ]
  }
 ],
 "metadata": {
  "celltoolbar": "Slideshow",
  "kernelspec": {
   "display_name": "python-notes",
   "language": "python",
   "name": "python-notes"
  },
  "language_info": {
   "codemirror_mode": {
    "name": "ipython",
    "version": 3
   },
   "file_extension": ".py",
   "mimetype": "text/x-python",
   "name": "python",
   "nbconvert_exporter": "python",
   "pygments_lexer": "ipython3",
   "version": "3.7.0"
  },
  "toc": {
   "base_numbering": 1,
   "nav_menu": {},
   "number_sections": false,
   "sideBar": true,
   "skip_h1_title": false,
   "title_cell": "Table of Contents",
   "title_sidebar": "Contents",
   "toc_cell": false,
   "toc_position": {},
   "toc_section_display": true,
   "toc_window_display": false
  },
  "varInspector": {
   "cols": {
    "lenName": 16,
    "lenType": 16,
    "lenVar": 40
   },
   "kernels_config": {
    "python": {
     "delete_cmd_postfix": "",
     "delete_cmd_prefix": "del ",
     "library": "var_list.py",
     "varRefreshCmd": "print(var_dic_list())"
    },
    "r": {
     "delete_cmd_postfix": ") ",
     "delete_cmd_prefix": "rm(",
     "library": "var_list.r",
     "varRefreshCmd": "cat(var_dic_list()) "
    }
   },
   "types_to_exclude": [
    "module",
    "function",
    "builtin_function_or_method",
    "instance",
    "_Feature"
   ],
   "window_display": false
  }
 },
 "nbformat": 4,
 "nbformat_minor": 4
}