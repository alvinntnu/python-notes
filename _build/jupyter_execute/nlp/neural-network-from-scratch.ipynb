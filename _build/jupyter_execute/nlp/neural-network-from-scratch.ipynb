{
 "cells": [
  {
   "cell_type": "markdown",
   "metadata": {},
   "source": [
    "# Neural Network From Scratch"
   ]
  },
  {
   "cell_type": "markdown",
   "metadata": {},
   "source": [
    "This notebook provides an intuitive understanding of the mechanism of the neural network, or deep learning.\n",
    "\n",
    "Important steps in neural network:\n",
    "\n",
    "- forward propagation\n",
    "    - matrix multiplication\n",
    "    - weights, biases, and activation functions\n",
    "- back propagation\n",
    "    - derivatives and partial derivatives\n",
    "    - chain rules\n",
    "- gradient descent \n",
    "    - Batch\n",
    "    - Mini-batch\n",
    "    - Stochastic gradient descent"
   ]
  },
  {
   "cell_type": "markdown",
   "metadata": {},
   "source": [
    "---\n",
    "\n",
    "![](../images/neural-network-sample.png)\n",
    "\n",
    "---"
   ]
  },
  {
   "cell_type": "code",
   "execution_count": 1,
   "metadata": {},
   "outputs": [],
   "source": [
    "import numpy as np\n",
    "import matplotlib.pylab as plt"
   ]
  },
  {
   "cell_type": "markdown",
   "metadata": {},
   "source": [
    "## Linear Algebra and Matrix"
   ]
  },
  {
   "cell_type": "markdown",
   "metadata": {},
   "source": [
    "- 2D matrix\n",
    "\n",
    "$$\n",
    "\\begin{pmatrix}\n",
    "1&2 \\\\\n",
    "3&4 \\\\\n",
    "5&6 \\\\\n",
    "\\end{pmatrix}\n",
    "$$\n",
    "\n",
    "- Matrix Multiplication\n",
    "\n",
    "\n",
    "$$\\begin{pmatrix}\n",
    "1&2 \\\\\n",
    "3&4 \\\\\n",
    "\\end{pmatrix}\n",
    "\\begin{pmatrix}\n",
    "5&6 \\\\\n",
    "7&8\n",
    "\\end{pmatrix} =\n",
    "\\begin{pmatrix}\n",
    "19&22 \\\\\n",
    "43&50\n",
    "\\end{pmatrix}\n",
    "$$"
   ]
  },
  {
   "cell_type": "markdown",
   "metadata": {},
   "source": [
    "## Activation Functions"
   ]
  },
  {
   "cell_type": "markdown",
   "metadata": {},
   "source": [
    "In neural network, the activation function of a node determines whether the node would activate the output given the input values. Different types of activation functions may determine the cut-offs for output activation in different ways."
   ]
  },
  {
   "cell_type": "markdown",
   "metadata": {},
   "source": [
    "- sigmoid function\n",
    "\n",
    "$$ h(x) = \\frac{1}{1 + \\exp(-x)}$$\n",
    "\n",
    "- step function\n",
    "\n",
    "$$ h(x)= \\left\\{ \n",
    "     \\begin{array}\\\\\n",
    "     0 & (x \\leq 0) \\\\\n",
    "     1 & (x > 0)\n",
    "     \\end{array}\n",
    "\\right.\n",
    "$$\n",
    "\n",
    "- ReLU function\n",
    "\n",
    "$$ h(x)= \\left\\{ \n",
    "     \\begin{array}\\\\\n",
    "     x & (x > 0) \\\\\n",
    "     0 & (x \\leq 0)\n",
    "     \\end{array}\n",
    "\\right.\n",
    "$$\n",
    "\n",
    "- Softmax function\n",
    "\n",
    "\n",
    "$$\n",
    "y_k = \\frac{\\exp(a_k)}{\\sum_{i = 1}^{n} {a_i}}\n",
    "$$"
   ]
  },
  {
   "cell_type": "code",
   "execution_count": 2,
   "metadata": {},
   "outputs": [],
   "source": [
    "def step_function(x):\n",
    "    y = x > 0\n",
    "    return y.astype(np.int)\n",
    "\n",
    "def sigmoid(x):\n",
    "    return 1/(1+np.exp(-x))\n",
    "\n",
    "def relu(x):\n",
    "    return np.maximum(0,x)\n",
    "\n",
    "\n",
    "# def softmax(x):\n",
    "#     exp_x = np.exp(x)\n",
    "#     sum_exp_x = np.sum(exp_x)\n",
    "#     y = exp_x/sum_exp_x\n",
    "#     return y\n",
    "\n",
    "def softmax(x):\n",
    "    c = np.max(x)\n",
    "    exp_x = np.exp(x-c) # avoid overflow issues\n",
    "    sum_exp_x = np.sum(exp_x)\n",
    "    y = exp_x/sum_exp_x\n",
    "    return y"
   ]
  },
  {
   "cell_type": "code",
   "execution_count": 3,
   "metadata": {},
   "outputs": [
    {
     "data": {
      "image/png": "[encoded data removed]",
      "text/plain": [
       "<Figure size 432x288 with 1 Axes>"
      ]
     },
     "metadata": {
      "filenames": {
       "image/png": "/Users/Alvin/GoogleDrive/_MySyncDrive/Repository/python-notes/_build/jupyter_execute/nlp/neural-network-from-scratch_10_0.png"
      },
      "needs_background": "light"
     },
     "output_type": "display_data"
    }
   ],
   "source": [
    "# step function\n",
    "x = np.arange(-5.0, 5.0, 0.1)\n",
    "plt.plot(x, step_function(x))\n",
    "plt.ylim(-0.1, 1.1)\n",
    "plt.show()"
   ]
  },
  {
   "cell_type": "code",
   "execution_count": 4,
   "metadata": {},
   "outputs": [
    {
     "data": {
      "image/png": "[encoded data removed]",
      "text/plain": [
       "<Figure size 432x288 with 1 Axes>"
      ]
     },
     "metadata": {
      "filenames": {
       "image/png": "/Users/Alvin/GoogleDrive/_MySyncDrive/Repository/python-notes/_build/jupyter_execute/nlp/neural-network-from-scratch_11_0.png"
      },
      "needs_background": "light"
     },
     "output_type": "display_data"
    }
   ],
   "source": [
    "## sigmoid function\n",
    "plt.plot(x, sigmoid(x))\n",
    "plt.ylim(-0.1, 1.1)\n",
    "plt.show()"
   ]
  },
  {
   "cell_type": "code",
   "execution_count": 5,
   "metadata": {},
   "outputs": [
    {
     "data": {
      "image/png": "[encoded data removed]",
      "text/plain": [
       "<Figure size 432x288 with 1 Axes>"
      ]
     },
     "metadata": {
      "filenames": {
       "image/png": "/Users/Alvin/GoogleDrive/_MySyncDrive/Repository/python-notes/_build/jupyter_execute/nlp/neural-network-from-scratch_12_0.png"
      },
      "needs_background": "light"
     },
     "output_type": "display_data"
    }
   ],
   "source": [
    "# ReLU\n",
    "plt.plot(x, relu(x))\n",
    "plt.ylim(-1, 6)\n",
    "plt.show()"
   ]
  },
  {
   "cell_type": "markdown",
   "metadata": {},
   "source": [
    "## Forward Propagation"
   ]
  },
  {
   "cell_type": "markdown",
   "metadata": {},
   "source": [
    "![](../images/neural-network-sample2.png)"
   ]
  },
  {
   "cell_type": "markdown",
   "metadata": {},
   "source": [
    "- Neural network is a model with weights for data/value transformation.\n",
    "- The input data values will be transformed according to the weights of the neural network.\n",
    "- Given a two-layer network, with two input values $x1$ and $x2$, to get the values of the three outputs in the second layer, $a_1^{(1)}$, $a_2^{(1)}$, $a_3^{(1)}$, we compute the dot product of the *X* and *W*.\n",
    "    - *X* refers to the input vector/matrix\n",
    "    - *W* refers to the network weights, which is a 2 x 3 matrix in the current example\n",
    "    - The weights are represented as the links in-between the first and second layers\n",
    "    - These weights can be mathematically represesnted as a 2 x 3 Matrix *W*\n",
    "- Taking the dot product of the input values *X* and the weight matrix *W* is referred to as the **forward propagation** of the network.\n",
    "- Forward propagation gives us the values of the nodes in the second layer"
   ]
  },
  {
   "cell_type": "code",
   "execution_count": 6,
   "metadata": {},
   "outputs": [
    {
     "data": {
      "text/plain": [
       "(2,)"
      ]
     },
     "execution_count": 6,
     "metadata": {},
     "output_type": "execute_result"
    }
   ],
   "source": [
    "X = np.array([1,2])\n",
    "X.shape"
   ]
  },
  {
   "cell_type": "code",
   "execution_count": 7,
   "metadata": {},
   "outputs": [
    {
     "data": {
      "text/plain": [
       "(2, 3)"
      ]
     },
     "execution_count": 7,
     "metadata": {},
     "output_type": "execute_result"
    }
   ],
   "source": [
    "W = np.array([[1,3,5],[2,4,6]])\n",
    "W.shape"
   ]
  },
  {
   "cell_type": "code",
   "execution_count": 8,
   "metadata": {},
   "outputs": [
    {
     "name": "stdout",
     "output_type": "stream",
     "text": [
      "[ 5 11 17]\n"
     ]
    }
   ],
   "source": [
    "Y = np.dot(X,W)\n",
    "print(Y)"
   ]
  },
  {
   "cell_type": "markdown",
   "metadata": {},
   "source": [
    "## Weights, Biases, and Activation Functions"
   ]
  },
  {
   "cell_type": "markdown",
   "metadata": {},
   "source": [
    "- The output of a node in the network is computed as the sum of the weighted inputs and the bias. Take $a^{(1)}_1 $ for example:\n",
    "\n",
    "$$ a^{(1)}_1 = w_{11}^{(1)}x_1 + w_{12}^{(1)}x_2 + b_1$$\n",
    "\n",
    "- Then the output values go through the activation function and this result would indicate the final output of the node.\n",
    "\n",
    "$$ z^{(1)}_1= h(a^{(1)}_1) $$\n",
    "\n",
    "- Not all the nodes need to have an activation function."
   ]
  },
  {
   "cell_type": "code",
   "execution_count": 9,
   "metadata": {},
   "outputs": [
    {
     "name": "stdout",
     "output_type": "stream",
     "text": [
      "(2,)\n",
      "(2, 3)\n",
      "(3,)\n"
     ]
    }
   ],
   "source": [
    "X = np.array([1.0, 0.5])\n",
    "W1 = np.array([[0.1, 0.3, 0.5], [0.2, 0.4, 0.6]])\n",
    "B1 = np.array([0.1,0.2,0.3])\n",
    "\n",
    "print(X.shape)\n",
    "print(W1.shape)\n",
    "print(B1.shape)"
   ]
  },
  {
   "cell_type": "code",
   "execution_count": 10,
   "metadata": {},
   "outputs": [
    {
     "name": "stdout",
     "output_type": "stream",
     "text": [
      "[0.3 0.7 1.1]\n",
      "[0.57444252 0.66818777 0.75026011]\n",
      "[0.21198272 0.31624106 0.47177622]\n"
     ]
    }
   ],
   "source": [
    "A1 = np.dot(X, W1) + B1\n",
    "print(A1)\n",
    "\n",
    "\n",
    "Z1 = sigmoid(A1)\n",
    "print(Z1)\n",
    "\n",
    "Z2 = softmax(A1)\n",
    "print(Z2)"
   ]
  },
  {
   "cell_type": "markdown",
   "metadata": {},
   "source": [
    "## Learning and Training"
   ]
  },
  {
   "cell_type": "markdown",
   "metadata": {},
   "source": [
    "- Forward propagation shows how the network takes the input values and produce the output values based on the network parameters (i.e., weights).\n",
    "- The network needs to learn the weights that best produce the output values according to some loss function."
   ]
  },
  {
   "cell_type": "markdown",
   "metadata": {},
   "source": [
    "## Loss Function on One Sample"
   ]
  },
  {
   "cell_type": "markdown",
   "metadata": {},
   "source": [
    "- Mean Square Error \n",
    "\n",
    "$$E = \\frac{1}{2}\\sum(y_k - t_k)^2$$\n",
    "\n",
    "- Cross Entropy Error\n",
    "\n",
    "$$E= -\\sum_{k}t_k\\log(y_k)$$"
   ]
  },
  {
   "cell_type": "code",
   "execution_count": 11,
   "metadata": {},
   "outputs": [],
   "source": [
    "def mean_square_error(y, t):\n",
    "    return(0.5 * np.sum((y-t)**2))\n",
    "\n",
    "def cross_entropy_error(y, t):\n",
    "    delta = 1e-7 # avoid log(0)\n",
    "    return -np.sum(t * np.log(y + delta))"
   ]
  },
  {
   "cell_type": "code",
   "execution_count": 12,
   "metadata": {},
   "outputs": [
    {
     "name": "stdout",
     "output_type": "stream",
     "text": [
      "0.09750000000000003\n",
      "0.510825457099338\n"
     ]
    }
   ],
   "source": [
    "## mean square error\n",
    "y = [0.1, 0.05, 0.6, 0.0, 0.05, 0.1, 0.0, 0.1, 0.0, 0.0] # predicted values\n",
    "t = [0, 0, 1, 0, 0, 0, 0, 0, 0, 0] # true label\n",
    "print(mean_square_error(np.array(y),  np.array(t)))\n",
    "print(cross_entropy_error(np.array(y), np.array(t)))"
   ]
  },
  {
   "cell_type": "markdown",
   "metadata": {},
   "source": [
    "## Loss Function on Batch Samples"
   ]
  },
  {
   "cell_type": "markdown",
   "metadata": {},
   "source": [
    "- If the training goes based on a small batch size *N*, we can compute the average loss of the batch sample:\n",
    "\n",
    "$$ E = - \\frac{1}{N}\\sum_n\\sum_k t_{nk}\\log y_{nk}$$"
   ]
  },
  {
   "cell_type": "markdown",
   "metadata": {},
   "source": [
    "- We can revise the `cross_entropy_error()` function to work with outputs from a min-batch sample."
   ]
  },
  {
   "cell_type": "code",
   "execution_count": 13,
   "metadata": {},
   "outputs": [],
   "source": [
    "# adjust the function to for batch sample outputs\n",
    "def cross_entropy_error(y, t):\n",
    "    if y.ndim==1:\n",
    "        t = t.reshape(1, t.size)\n",
    "        y = y.reshape(1, y.size)\n",
    "    batch_size = y.shape[0]\n",
    "    return -np.sum(t*np.log(y + 1e-7))/batch_size "
   ]
  },
  {
   "cell_type": "markdown",
   "metadata": {},
   "source": [
    "- When the labels uses one-hot encoding, the function can be simplified as follows:"
   ]
  },
  {
   "cell_type": "code",
   "execution_count": 14,
   "metadata": {},
   "outputs": [],
   "source": [
    "def cross_entropy_error(y, t):\n",
    "    if y.ndim==1:\n",
    "        t = t.reshape(1, t.size)\n",
    "        y = y.reshape(1, y.size)\n",
    "    batch_size = y.shape[0]\n",
    "    # because for one-hot labels\n",
    "    # cross-entropy sums only the values of the true labels `1`\n",
    "    return -np.sum(np.log(y[np.arange(batch_size),t] + 1e-7))/batch_size"
   ]
  },
  {
   "cell_type": "markdown",
   "metadata": {},
   "source": [
    "## Gradient Descent"
   ]
  },
  {
   "cell_type": "markdown",
   "metadata": {},
   "source": []
  },
  {
   "cell_type": "markdown",
   "metadata": {},
   "source": [
    "## References\n",
    "\n",
    "- [Deep Learning From Scratch](https://www.books.com.tw/products/0010761759)\n",
    "- [史上最完整機器學習自學攻略！我不相信有人看完這份不會把它加進我的最愛](https://buzzorange.com/techorange/2017/08/21/the-best-ai-lesson/)"
   ]
  }
 ],
 "metadata": {
  "kernelspec": {
   "display_name": "python-notes",
   "language": "python",
   "name": "python-notes"
  },
  "language_info": {
   "codemirror_mode": {
    "name": "ipython",
    "version": 3
   },
   "file_extension": ".py",
   "mimetype": "text/x-python",
   "name": "python",
   "nbconvert_exporter": "python",
   "pygments_lexer": "ipython3",
   "version": "3.7.0"
  },
  "toc": {
   "base_numbering": 1,
   "nav_menu": {},
   "number_sections": false,
   "sideBar": true,
   "skip_h1_title": false,
   "title_cell": "Table of Contents",
   "title_sidebar": "Contents",
   "toc_cell": false,
   "toc_position": {},
   "toc_section_display": true,
   "toc_window_display": true
  },
  "varInspector": {
   "cols": {
    "lenName": 16,
    "lenType": 16,
    "lenVar": 40
   },
   "kernels_config": {
    "python": {
     "delete_cmd_postfix": "",
     "delete_cmd_prefix": "del ",
     "library": "var_list.py",
     "varRefreshCmd": "print(var_dic_list())"
    },
    "r": {
     "delete_cmd_postfix": ") ",
     "delete_cmd_prefix": "rm(",
     "library": "var_list.r",
     "varRefreshCmd": "cat(var_dic_list()) "
    }
   },
   "types_to_exclude": [
    "module",
    "function",
    "builtin_function_or_method",
    "instance",
    "_Feature"
   ],
   "window_display": false
  }
 },
 "nbformat": 4,
 "nbformat_minor": 4
}