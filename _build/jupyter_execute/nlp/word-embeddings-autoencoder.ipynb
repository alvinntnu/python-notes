{
 "cells": [
  {
   "cell_type": "markdown",
   "metadata": {
    "id": "yPLB7MfIULIL"
   },
   "source": [
    "# Generate Text Embeddings Using AutoEncoder"
   ]
  },
  {
   "cell_type": "markdown",
   "metadata": {
    "id": "Z0nQ2kZPULIL"
   },
   "source": [
    "## Preparing the Input"
   ]
  },
  {
   "cell_type": "code",
   "execution_count": 2,
   "metadata": {
    "executionInfo": {
     "elapsed": 4068,
     "status": "ok",
     "timestamp": 1606885185332,
     "user": {
      "displayName": "Alvin Chen",
      "photoUrl": "",
      "userId": "12962786962925949010"
     },
     "user_tz": -480
    },
    "id": "HhovmQ9DULIL"
   },
   "outputs": [],
   "source": [
    "import nltk\n",
    "from nltk.corpus import brown\n",
    "from keras.preprocessing.text import Tokenizer\n",
    "from keras.preprocessing.sequence import pad_sequences\n",
    "from keras import Input, Model, optimizers\n",
    "from keras.layers import Bidirectional, LSTM, Embedding, RepeatVector, Dense\n",
    "import numpy as np"
   ]
  },
  {
   "cell_type": "code",
   "execution_count": 3,
   "metadata": {
    "colab": {
     "base_uri": "https://localhost:8080/"
    },
    "executionInfo": {
     "elapsed": 4062,
     "status": "ok",
     "timestamp": 1606885185333,
     "user": {
      "displayName": "Alvin Chen",
      "photoUrl": "",
      "userId": "12962786962925949010"
     },
     "user_tz": -480
    },
    "id": "kss1GCvPUz8o",
    "outputId": "1b1e19ea-2c3a-43a1-d457-38af35bde6d5"
   },
   "outputs": [
    {
     "name": "stdout",
     "output_type": "stream",
     "text": [
      "[nltk_data] Downloading package brown to /root/nltk_data...\n",
      "[nltk_data]   Unzipping corpora/brown.zip.\n"
     ]
    },
    {
     "data": {
      "text/plain": [
       "True"
      ]
     },
     "execution_count": 3,
     "metadata": {
      "tags": []
     },
     "output_type": "execute_result"
    }
   ],
   "source": [
    "nltk.download('brown')"
   ]
  },
  {
   "cell_type": "code",
   "execution_count": 4,
   "metadata": {
    "executionInfo": {
     "elapsed": 4055,
     "status": "ok",
     "timestamp": 1606885185333,
     "user": {
      "displayName": "Alvin Chen",
      "photoUrl": "",
      "userId": "12962786962925949010"
     },
     "user_tz": -480
    },
    "id": "VBBxbtyiULIM"
   },
   "outputs": [],
   "source": [
    "sents = brown.sents()"
   ]
  },
  {
   "cell_type": "code",
   "execution_count": 5,
   "metadata": {
    "colab": {
     "base_uri": "https://localhost:8080/"
    },
    "executionInfo": {
     "elapsed": 6909,
     "status": "ok",
     "timestamp": 1606885188194,
     "user": {
      "displayName": "Alvin Chen",
      "photoUrl": "",
      "userId": "12962786962925949010"
     },
     "user_tz": -480
    },
    "id": "KYoj_TiZULIM",
    "outputId": "5f11e46f-9dab-410f-897d-a625d6da9b0d"
   },
   "outputs": [
    {
     "data": {
      "text/plain": [
       "57340"
      ]
     },
     "execution_count": 5,
     "metadata": {
      "tags": []
     },
     "output_type": "execute_result"
    }
   ],
   "source": [
    "len(sents)"
   ]
  },
  {
   "cell_type": "code",
   "execution_count": 6,
   "metadata": {
    "executionInfo": {
     "elapsed": 8029,
     "status": "ok",
     "timestamp": 1606885189322,
     "user": {
      "displayName": "Alvin Chen",
      "photoUrl": "",
      "userId": "12962786962925949010"
     },
     "user_tz": -480
    },
    "id": "tUB4hiE_ULIN"
   },
   "outputs": [],
   "source": [
    "maxlen = max([len(s) for s in sents])"
   ]
  },
  {
   "cell_type": "code",
   "execution_count": 7,
   "metadata": {
    "colab": {
     "base_uri": "https://localhost:8080/"
    },
    "executionInfo": {
     "elapsed": 8022,
     "status": "ok",
     "timestamp": 1606885189323,
     "user": {
      "displayName": "Alvin Chen",
      "photoUrl": "",
      "userId": "12962786962925949010"
     },
     "user_tz": -480
    },
    "id": "AVqLLkhlULIN",
    "outputId": "29ca8c27-8a96-49c7-bd5b-54ada4559e0a"
   },
   "outputs": [
    {
     "name": "stdout",
     "output_type": "stream",
     "text": [
      "180\n"
     ]
    }
   ],
   "source": [
    "print(maxlen)"
   ]
  },
  {
   "cell_type": "code",
   "execution_count": 8,
   "metadata": {
    "executionInfo": {
     "elapsed": 10266,
     "status": "ok",
     "timestamp": 1606885191574,
     "user": {
      "displayName": "Alvin Chen",
      "photoUrl": "",
      "userId": "12962786962925949010"
     },
     "user_tz": -480
    },
    "id": "LGR6nbevULIN"
   },
   "outputs": [],
   "source": [
    "vocab = set(brown.words())"
   ]
  },
  {
   "cell_type": "code",
   "execution_count": 9,
   "metadata": {
    "colab": {
     "base_uri": "https://localhost:8080/"
    },
    "executionInfo": {
     "elapsed": 10260,
     "status": "ok",
     "timestamp": 1606885191575,
     "user": {
      "displayName": "Alvin Chen",
      "photoUrl": "",
      "userId": "12962786962925949010"
     },
     "user_tz": -480
    },
    "id": "VsaSB5LaULIN",
    "outputId": "28467d16-8a63-4178-a3e4-3fe5bf47680b"
   },
   "outputs": [
    {
     "name": "stdout",
     "output_type": "stream",
     "text": [
      "56057\n",
      "57340\n"
     ]
    }
   ],
   "source": [
    "num_words = len(vocab)\n",
    "print(num_words)\n",
    "print(len(sents))"
   ]
  },
  {
   "cell_type": "code",
   "execution_count": 10,
   "metadata": {
    "executionInfo": {
     "elapsed": 10254,
     "status": "ok",
     "timestamp": 1606885191576,
     "user": {
      "displayName": "Alvin Chen",
      "photoUrl": "",
      "userId": "12962786962925949010"
     },
     "user_tz": -480
    },
    "id": "0jqJzu5_ULIN"
   },
   "outputs": [],
   "source": [
    "num_words = 10000\n",
    "embed_dim = 128\n",
    "batch_size = 512\n",
    "maxlen = 60"
   ]
  },
  {
   "cell_type": "markdown",
   "metadata": {
    "id": "OEYtDaZXULIN"
   },
   "source": [
    "## Tokenizing and Padding"
   ]
  },
  {
   "cell_type": "code",
   "execution_count": 11,
   "metadata": {
    "executionInfo": {
     "elapsed": 16292,
     "status": "ok",
     "timestamp": 1606885197620,
     "user": {
      "displayName": "Alvin Chen",
      "photoUrl": "",
      "userId": "12962786962925949010"
     },
     "user_tz": -480
    },
    "id": "BtQcBzX_ULIN"
   },
   "outputs": [],
   "source": [
    "tokenizer = Tokenizer(num_words = num_words, split=' ')\n",
    "tokenizer.fit_on_texts(sents)\n",
    "seqs = tokenizer.texts_to_sequences(sents)\n",
    "pad_seqs = pad_sequences(seqs, maxlen)"
   ]
  },
  {
   "cell_type": "markdown",
   "metadata": {
    "id": "5HUHII1nULIN"
   },
   "source": [
    "## Encoder Model"
   ]
  },
  {
   "cell_type": "code",
   "execution_count": 12,
   "metadata": {
    "colab": {
     "base_uri": "https://localhost:8080/"
    },
    "executionInfo": {
     "elapsed": 22374,
     "status": "ok",
     "timestamp": 1606885203709,
     "user": {
      "displayName": "Alvin Chen",
      "photoUrl": "",
      "userId": "12962786962925949010"
     },
     "user_tz": -480
    },
    "id": "qDlH9qPfULIN",
    "outputId": "80723b47-bfae-410f-ecb0-f8f1071f59b4"
   },
   "outputs": [
    {
     "name": "stdout",
     "output_type": "stream",
     "text": [
      "WARNING:tensorflow:Layer Encoder-Last-LSTM will not use cuDNN kernel since it doesn't meet the cuDNN kernel criteria. It will use generic GPU kernel as fallback when running on GPU\n",
      "WARNING:tensorflow:Layer Encoder-Last-LSTM will not use cuDNN kernel since it doesn't meet the cuDNN kernel criteria. It will use generic GPU kernel as fallback when running on GPU\n",
      "WARNING:tensorflow:Layer Encoder-Last-LSTM will not use cuDNN kernel since it doesn't meet the cuDNN kernel criteria. It will use generic GPU kernel as fallback when running on GPU\n"
     ]
    }
   ],
   "source": [
    "encoder_inputs = Input(shape=(maxlen,), name='Encoder-Input')\n",
    "emb_layer = Embedding(num_words, embed_dim,input_length = maxlen, name='Body-Word-Embedding', mask_zero=False)\n",
    "x = emb_layer(encoder_inputs)\n",
    "state_h = Bidirectional(LSTM(128, activation='relu', name='Encoder-Last-LSTM'))(x)\n",
    "encoder_model = Model(inputs=encoder_inputs, outputs=state_h, name='Encoder-Model')\n",
    "seq2seq_encoder_out = encoder_model(encoder_inputs)"
   ]
  },
  {
   "cell_type": "markdown",
   "metadata": {
    "id": "Tv68uqYkULIN"
   },
   "source": [
    "## Decoder Model"
   ]
  },
  {
   "cell_type": "code",
   "execution_count": 13,
   "metadata": {
    "executionInfo": {
     "elapsed": 22368,
     "status": "ok",
     "timestamp": 1606885203709,
     "user": {
      "displayName": "Alvin Chen",
      "photoUrl": "",
      "userId": "12962786962925949010"
     },
     "user_tz": -480
    },
    "id": "Sgy_kpU_ULIN"
   },
   "outputs": [],
   "source": [
    "decoded = RepeatVector(maxlen)(seq2seq_encoder_out)\n",
    "decoder_lstm = Bidirectional(LSTM(128, return_sequences=True, name='Decoder-LSTM-before'))\n",
    "decoder_lstm_output = decoder_lstm(decoded)\n",
    "decoder_dense = Dense(num_words, activation='softmax', name='Final-Output-Dense-before')\n",
    "decoder_outputs = decoder_dense(decoder_lstm_output)"
   ]
  },
  {
   "cell_type": "markdown",
   "metadata": {
    "id": "bJQzPIu7ULIN"
   },
   "source": [
    "## Combining Model and Training"
   ]
  },
  {
   "cell_type": "code",
   "execution_count": 14,
   "metadata": {
    "colab": {
     "base_uri": "https://localhost:8080/"
    },
    "executionInfo": {
     "elapsed": 842551,
     "status": "ok",
     "timestamp": 1606886023899,
     "user": {
      "displayName": "Alvin Chen",
      "photoUrl": "",
      "userId": "12962786962925949010"
     },
     "user_tz": -480
    },
    "id": "wRYh6zf8ULIN",
    "outputId": "ab9c44fb-03db-4809-89f6-9c2bbd4d2792"
   },
   "outputs": [
    {
     "name": "stdout",
     "output_type": "stream",
     "text": [
      "Epoch 1/10\n",
      "112/112 [==============================] - 81s 720ms/step - loss: 3.2937\n",
      "Epoch 2/10\n",
      "112/112 [==============================] - 80s 718ms/step - loss: 2.6175\n",
      "Epoch 3/10\n",
      "112/112 [==============================] - 80s 718ms/step - loss: 2.5973\n",
      "Epoch 4/10\n",
      "112/112 [==============================] - 80s 714ms/step - loss: 2.5855\n",
      "Epoch 5/10\n",
      "112/112 [==============================] - 80s 715ms/step - loss: 2.5793\n",
      "Epoch 6/10\n",
      "112/112 [==============================] - 80s 711ms/step - loss: 2.5756\n",
      "Epoch 7/10\n",
      "112/112 [==============================] - 80s 715ms/step - loss: 2.5730\n",
      "Epoch 8/10\n",
      "112/112 [==============================] - 80s 714ms/step - loss: 2.5711\n",
      "Epoch 9/10\n",
      "112/112 [==============================] - 80s 716ms/step - loss: 2.5695\n",
      "Epoch 10/10\n",
      "112/112 [==============================] - 80s 714ms/step - loss: 2.5681\n"
     ]
    }
   ],
   "source": [
    "seq2seq_Model = Model(encoder_inputs, decoder_outputs)\n",
    "seq2seq_Model.compile(optimizer=optimizers.Nadam(lr=0.001), loss='sparse_categorical_crossentropy')\n",
    "history = seq2seq_Model.fit(pad_seqs, np.expand_dims(pad_seqs, -1),\n",
    "          batch_size=batch_size,\n",
    "          epochs=10)"
   ]
  },
  {
   "cell_type": "code",
   "execution_count": 17,
   "metadata": {
    "executionInfo": {
     "elapsed": 27039,
     "status": "ok",
     "timestamp": 1606886264830,
     "user": {
      "displayName": "Alvin Chen",
      "photoUrl": "",
      "userId": "12962786962925949010"
     },
     "user_tz": -480
    },
    "id": "_zxd-JqgULIN"
   },
   "outputs": [],
   "source": [
    "vecs = encoder_model.predict(pad_seqs)\n"
   ]
  },
  {
   "cell_type": "code",
   "execution_count": 16,
   "metadata": {
    "executionInfo": {
     "elapsed": 867325,
     "status": "ok",
     "timestamp": 1606886048685,
     "user": {
      "displayName": "Alvin Chen",
      "photoUrl": "",
      "userId": "12962786962925949010"
     },
     "user_tz": -480
    },
    "id": "O3dIRMnGULIN"
   },
   "outputs": [],
   "source": [
    "sentence = \"here's a sample unseen sentence\"\n",
    "seq = tokenizer.texts_to_sequences([sentence])\n",
    "pad_seq = pad_sequences(seq, maxlen)\n",
    "sentence_vec = encoder_model.predict(pad_seq)[0]"
   ]
  },
  {
   "cell_type": "markdown",
   "metadata": {
    "id": "OqCLq1gbULIN"
   },
   "source": [
    "## References"
   ]
  },
  {
   "cell_type": "markdown",
   "metadata": {
    "id": "6oR2cl0_ULIN"
   },
   "source": [
    "- [Building autoencoders in Keras](https://blog.keras.io/building-autoencoders-in-keras.html)\n",
    "- [Training an AutoEncoder to Generate Text Embeddings](http://yaronvazana.com/2019/09/28/training-an-autoencoder-to-generate-text-embeddings/)"
   ]
  }
 ],
 "metadata": {
  "accelerator": "GPU",
  "colab": {
   "collapsed_sections": [],
   "name": "word-embedding-autoencoder.ipynb",
   "provenance": []
  },
  "kernelspec": {
   "display_name": "python-notes",
   "language": "python",
   "name": "python-notes"
  },
  "language_info": {
   "codemirror_mode": {
    "name": "ipython",
    "version": 3
   },
   "file_extension": ".py",
   "mimetype": "text/x-python",
   "name": "python",
   "nbconvert_exporter": "python",
   "pygments_lexer": "ipython3",
   "version": "3.7.0"
  },
  "toc": {
   "base_numbering": 1,
   "nav_menu": {},
   "number_sections": false,
   "sideBar": true,
   "skip_h1_title": false,
   "title_cell": "Table of Contents",
   "title_sidebar": "Contents",
   "toc_cell": false,
   "toc_position": {},
   "toc_section_display": true,
   "toc_window_display": false
  },
  "varInspector": {
   "cols": {
    "lenName": 16,
    "lenType": 16,
    "lenVar": 40
   },
   "kernels_config": {
    "python": {
     "delete_cmd_postfix": "",
     "delete_cmd_prefix": "del ",
     "library": "var_list.py",
     "varRefreshCmd": "print(var_dic_list())"
    },
    "r": {
     "delete_cmd_postfix": ") ",
     "delete_cmd_prefix": "rm(",
     "library": "var_list.r",
     "varRefreshCmd": "cat(var_dic_list()) "
    }
   },
   "types_to_exclude": [
    "module",
    "function",
    "builtin_function_or_method",
    "instance",
    "_Feature"
   ],
   "window_display": false
  }
 },
 "nbformat": 4,
 "nbformat_minor": 1
}