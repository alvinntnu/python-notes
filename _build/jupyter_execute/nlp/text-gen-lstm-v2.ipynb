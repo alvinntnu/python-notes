{
 "cells": [
  {
   "cell_type": "markdown",
   "metadata": {},
   "source": [
    "# Text Generation\n",
    "\n",
    "- Deep-learning Language model\n",
    "- Generative model\n",
    "- Based on Chp 8 Deep Learning with Python"
   ]
  },
  {
   "cell_type": "code",
   "execution_count": 1,
   "metadata": {},
   "outputs": [],
   "source": [
    "import keras\n",
    "import numpy as np"
   ]
  },
  {
   "cell_type": "code",
   "execution_count": 2,
   "metadata": {},
   "outputs": [
    {
     "name": "stdout",
     "output_type": "stream",
     "text": [
      "Corpus Length: 5458199\n"
     ]
    }
   ],
   "source": [
    "## Download texts\n",
    "path = '../data/t8.shakespeare.txt'\n",
    "text = open(path).read().lower()\n",
    "print('Corpus Length:', len(text))"
   ]
  },
  {
   "cell_type": "code",
   "execution_count": 3,
   "metadata": {},
   "outputs": [
    {
     "name": "stdout",
     "output_type": "stream",
     "text": [
      "Number of sequences: 1819380\n"
     ]
    }
   ],
   "source": [
    "## Creating sequences for training\n",
    "maxlen = 60 # 60 characters as one sequence at a time\n",
    "step = 3 # sample new sequence every 3 characters, shift size\n",
    "sentences = []\n",
    "next_chars = []\n",
    "for i in range(0, len(text) - maxlen, step):\n",
    "    sentences.append(text[i: i + maxlen]) # context\n",
    "    next_chars.append(text[i + maxlen]) # target word\n",
    "print('Number of sequences:', len(sentences))"
   ]
  },
  {
   "cell_type": "code",
   "execution_count": 4,
   "metadata": {},
   "outputs": [
    {
     "name": "stdout",
     "output_type": "stream",
     "text": [
      "Unique characters: 65\n"
     ]
    }
   ],
   "source": [
    "## Creating char mapping dictionary\n",
    "chars = sorted(list(set(text))) # dict of chars\n",
    "print('Unique characters:', len(chars))\n",
    "# create a map of each character and its corresponding numeric index in `chars`\n",
    "char_indices = dict((char, chars.index(char)) for char in chars)"
   ]
  },
  {
   "cell_type": "code",
   "execution_count": 5,
   "metadata": {},
   "outputs": [
    {
     "name": "stdout",
     "output_type": "stream",
     "text": [
      "Vectorization...\n"
     ]
    }
   ],
   "source": [
    "## Vectorizing sequences\n",
    "print('Vectorization...')\n",
    "## one-hot encoding for all characters\n",
    "x = np.zeros((len(sentences), maxlen, len(chars)), dtype=np.bool)\n",
    "y = np.zeros((len(sentences), len(chars)), dtype=np.bool)\n",
    "for i, sentence in enumerate(sentences):\n",
    "    for t, char in enumerate(sentence):\n",
    "        x[i, t, char_indices[char]]=1 # i-th sentence, t-th character, one-hot position\n",
    "    y[i, char_indices[next_chars[i]]]=1 # i-th sentence, the target word one-hot position"
   ]
  },
  {
   "cell_type": "code",
   "execution_count": 6,
   "metadata": {},
   "outputs": [],
   "source": [
    "# ## Building Network\n",
    "# from keras import layers\n",
    "# model = keras.models.Sequential()\n",
    "# model.add(layers.LSTM(128, input_shape=(maxlen, len(chars))))\n",
    "# model.add(layers.Dense(len(chars), activation='softmax'))\n",
    "\n",
    "# ## Model configuration\n",
    "# optimizer = keras.optimizers.RMSprop(lr=0.001)\n",
    "# model.compile(loss='categorical_crossentropy', optimizer=optimizer)"
   ]
  },
  {
   "cell_type": "code",
   "execution_count": 7,
   "metadata": {},
   "outputs": [],
   "source": [
    "## After the training, a function to sample the next char given the model prediction\n",
    "def sample(preds, temperature = 1.0):\n",
    "    preds = np.asarray(preds).astype('float64')\n",
    "    preds = np.log(preds)/temperature\n",
    "    exp_preds = np.exp(preds)\n",
    "    preds = exp_preds/np.sum(exp_preds)\n",
    "    probas = np.random.multinomial(1, preds, 1)\n",
    "    return np.argmax(probas)"
   ]
  },
  {
   "cell_type": "code",
   "execution_count": 8,
   "metadata": {},
   "outputs": [],
   "source": [
    "## Model Training\n",
    "# history = model.fit(x, y, batch_size=128, epochs = 10)\n"
   ]
  },
  {
   "cell_type": "code",
   "execution_count": 9,
   "metadata": {},
   "outputs": [],
   "source": [
    "## Save model\n",
    "# model.save('../data/text-gen-lstm-shakespear.h5')"
   ]
  },
  {
   "cell_type": "code",
   "execution_count": 10,
   "metadata": {},
   "outputs": [],
   "source": [
    "# print(history.history.keys())\n",
    "# loss_values = history.history['loss']\n",
    "# epochs = range(1, len(loss_values)+1)"
   ]
  },
  {
   "cell_type": "code",
   "execution_count": 11,
   "metadata": {},
   "outputs": [],
   "source": [
    "# import seaborn as sns\n",
    "# import pandas as pd\n",
    "# %matplotlib inline\n",
    "\n",
    "# hist_df=pd.DataFrame(list(zip(epochs, loss_values)), columns=['epochs','loss_values'])\n",
    "# sns.set(style='darkgrid')\n",
    "# sns.relplot(data=hist_df,x='epochs', y='loss_values', kind='line')"
   ]
  },
  {
   "cell_type": "code",
   "execution_count": 12,
   "metadata": {},
   "outputs": [],
   "source": [
    "from keras.models import load_model\n",
    "model = load_model('../data/text-gen-lstm-shakespear.h5')"
   ]
  },
  {
   "cell_type": "code",
   "execution_count": 13,
   "metadata": {},
   "outputs": [],
   "source": [
    "## Generating Texts\n",
    "import random\n",
    "import sys\n",
    "\n",
    "\n",
    "start_index = random.randint(0, len(text)-maxlen-1)\n",
    "generated_text = text[start_index:start_index+maxlen]"
   ]
  },
  {
   "cell_type": "code",
   "execution_count": null,
   "metadata": {},
   "outputs": [
    {
     "name": "stdout",
     "output_type": "stream",
     "text": [
      "--Generating with seed: \"ou urge. mowb'r away the kings?\n",
      "  mess. with love a telled i\"\n",
      "----- temperature: 0.2\n",
      "ou urge. mowb'r away the kings?\n",
      "  mess. with love a telled in the"
     ]
    },
    {
     "name": "stderr",
     "output_type": "stream",
     "text": [
      "/Users/Alvin/opt/anaconda3/lib/python3.7/site-packages/ipykernel_launcher.py:4: RuntimeWarning: divide by zero encountered in log\n",
      "  after removing the cwd from sys.path.\n"
     ]
    },
    {
     "name": "stdout",
     "output_type": "stream",
     "text": [
      " court of the state of the world,\n",
      "    and the companion of the constant and the state\n",
      "    to be a words and the man and the state of the man\n",
      "    that the father the body of the shall see the stat----- temperature: 0.5\n",
      "e man\n",
      "    that the father the body of the shall see the state of france.\n",
      "                                                       [tow,\n",
      "\n",
      " \n",
      "peord aidgency and lady marcius that holdnee,\n",
      "                                                        mess?\n",
      "               ----- temperature: 1.0\n",
      "                                       mess?\n",
      "                  shame, pity fall appoint\n",
      "    for i did staff. pack and lancuser, and he\n",
      "    and do teace thy verge and duke basest serv?\n",
      "    which had made stratch'd. upon it or else;\n",
      "    i'll deformed thy after t----- temperature: 1.2\n",
      "de stratch'd. upon it or else;\n",
      "    i'll deformed thy after to heaven, they do sir,\n",
      "    how. neit?\n",
      "  wolsey. i would down quit tell the pain; slee,x'y change shefrs.\n",
      "    whoses me let her, for new within, hast they\n",
      "    m"
     ]
    }
   ],
   "source": [
    "print('--Generating with seed: \"'+ generated_text + '\"')\n",
    "for temperature in [0.2, 0.5, 1.0, 1.2]:\n",
    "    print('----- temperature:', temperature)\n",
    "    sys.stdout.write(generated_text)\n",
    "    # generate 400 chars after the seed text\n",
    "    for i in range(200):\n",
    "        # one-hot encoding seed text\n",
    "        sampled = np.zeros((1, maxlen, len(chars)))\n",
    "        for t, char in enumerate(generated_text):\n",
    "            sampled[0, t, char_indices[char]]=1 # given the sample text, t-th char, one-hot position\n",
    "        \n",
    "        preds = model.predict(sampled, verbose=0)[0] # get output prob distribution\n",
    "        next_index = sample(preds, temperature) # choose the char based on temperature\n",
    "        next_char = chars[next_index]\n",
    "        \n",
    "        generated_text += next_char # append the new char\n",
    "        generated_text = generated_text[1:] # get rid of the first char\n",
    "        sys.stdout.write(next_char)\n",
    "    "
   ]
  }
 ],
 "metadata": {
  "kernelspec": {
   "display_name": "r-tensorflow",
   "language": "python",
   "name": "r-tensorflow"
  },
  "language_info": {
   "codemirror_mode": {
    "name": "ipython",
    "version": 3
   },
   "file_extension": ".py",
   "mimetype": "text/x-python",
   "name": "python",
   "nbconvert_exporter": "python",
   "pygments_lexer": "ipython3",
   "version": "3.7.6"
  }
 },
 "nbformat": 4,
 "nbformat_minor": 4
}