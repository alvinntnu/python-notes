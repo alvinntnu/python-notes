{
 "cells": [
  {
   "cell_type": "markdown",
   "metadata": {},
   "source": [
    "# Word2Vec"
   ]
  },
  {
   "cell_type": "code",
   "execution_count": 1,
   "metadata": {},
   "outputs": [],
   "source": [
    "DEMO_DATA_ROOT = \"../../../RepositoryData/data\""
   ]
  },
  {
   "cell_type": "markdown",
   "metadata": {},
   "source": [
    "## Training "
   ]
  },
  {
   "cell_type": "code",
   "execution_count": 2,
   "metadata": {},
   "outputs": [],
   "source": [
    "from gensim.models import word2vec"
   ]
  },
  {
   "cell_type": "code",
   "execution_count": 3,
   "metadata": {},
   "outputs": [
    {
     "name": "stdout",
     "output_type": "stream",
     "text": [
      "Word2Vec(vocab=71290, size=200, alpha=0.025)\n",
      "CPU times: user 756 ms, sys: 164 ms, total: 920 ms\n",
      "Wall time: 3.03 s\n"
     ]
    }
   ],
   "source": [
    "%%time\n",
    "\n",
    "# sentences = word2vec.Text8Corpus('../data/text8') \n",
    "# model = word2vec.Word2Vec(sentences, size=200, hs=1)\n",
    "\n",
    "# ## It takes a few minutes to train the model (about 7min on my Mac)\n",
    "model = word2vec.Word2Vec.load(DEMO_DATA_ROOT+\"/text8_model\") ## load the pretrained model\n",
    "print(model)"
   ]
  },
  {
   "cell_type": "code",
   "execution_count": 4,
   "metadata": {},
   "outputs": [],
   "source": [
    "# with open('../data/text8', 'r') as f:\n",
    "#     for i in range(2):\n",
    "#         l = f.readline()\n",
    "#         print(l)\n",
    "\n",
    "# f = open('../data/text8', 'r')\n",
    "# l=f.readline()\n",
    "# print(l)\n",
    "# f.close()"
   ]
  },
  {
   "cell_type": "markdown",
   "metadata": {},
   "source": [
    "## Functionality of Word2Vec"
   ]
  },
  {
   "cell_type": "code",
   "execution_count": 5,
   "metadata": {},
   "outputs": [
    {
     "data": {
      "text/plain": [
       "('queen', 0.5748783946037292)"
      ]
     },
     "execution_count": 5,
     "metadata": {},
     "output_type": "execute_result"
    }
   ],
   "source": [
    "model.wv.most_similar(positive=['woman', 'king'], negative=['man'], topn=1)[0]"
   ]
  },
  {
   "cell_type": "code",
   "execution_count": 6,
   "metadata": {},
   "outputs": [
    {
     "data": {
      "text/plain": [
       "[('queen', 0.8940829038619995),\n",
       " ('empress', 0.8937370777130127),\n",
       " ('princess', 0.8518531322479248),\n",
       " ('emperor', 0.8512904047966003),\n",
       " ('regent', 0.8473389148712158),\n",
       " ('throne', 0.8459529876708984),\n",
       " ('monarch', 0.8368226885795593),\n",
       " ('isabella', 0.8320038318634033),\n",
       " ('sibylla', 0.8314303755760193),\n",
       " ('jadwiga', 0.8261555433273315)]"
      ]
     },
     "execution_count": 6,
     "metadata": {},
     "output_type": "execute_result"
    }
   ],
   "source": [
    "model.wv.most_similar_cosmul(positive=['woman', 'king'], negative=['man'])"
   ]
  },
  {
   "cell_type": "code",
   "execution_count": 7,
   "metadata": {},
   "outputs": [
    {
     "data": {
      "text/plain": [
       "array([-1.17254339e-01,  4.70646173e-01, -1.15694833e+00, -8.97728980e-01,\n",
       "        1.15642047e+00, -2.03339005e+00,  7.01289952e-01, -1.11925972e+00,\n",
       "        1.17422521e+00,  4.63798374e-01, -6.72478601e-02,  3.30501437e-01,\n",
       "       -7.57089615e-01, -4.59393084e-01,  3.89266312e-01, -1.67691112e-01,\n",
       "       -1.80406973e-01,  1.40426183e+00,  1.24042916e+00,  1.84407628e+00,\n",
       "        4.64765906e-01, -7.38014638e-01,  1.83312774e+00,  1.71752162e-02,\n",
       "       -5.27668774e-01, -6.67166591e-01,  1.74540222e-01,  4.31302249e-01,\n",
       "        1.03518534e+00,  3.24519843e-01,  7.13556111e-02, -7.15949610e-02,\n",
       "        3.07470173e-01, -5.74518507e-03,  6.15448058e-01,  7.78246939e-01,\n",
       "       -8.88471067e-01, -5.79098582e-01,  1.33962059e+00,  7.19661295e-01,\n",
       "       -3.83392334e-01,  2.46488988e-01, -5.60600996e-01,  5.98364115e-01,\n",
       "       -1.40608335e+00,  6.73182905e-01, -3.65087390e-01,  2.30255529e-01,\n",
       "        8.63087058e-01,  1.22027040e+00,  1.13827503e+00, -1.18817401e+00,\n",
       "        2.85448551e-01, -7.82568395e-01,  4.02545780e-01,  6.60875589e-02,\n",
       "        1.51032221e+00,  9.94960129e-01,  1.24707676e-01,  7.94527650e-01,\n",
       "       -2.69986093e-02, -8.55119646e-01,  7.95365810e-01, -3.79019380e-01,\n",
       "        1.22088611e+00,  7.96358168e-01,  1.04621410e+00,  3.96696359e-01,\n",
       "        9.29427922e-01,  8.66234660e-01, -9.24454570e-01, -3.76318961e-01,\n",
       "        1.04890609e+00,  8.51937532e-01,  3.34305197e-01, -3.16695660e-01,\n",
       "        1.18693018e+00,  1.07048072e-01, -1.24399948e+00,  9.83345866e-01,\n",
       "        9.33714211e-03,  4.24297571e-01,  1.07042766e+00, -9.20922160e-01,\n",
       "       -2.46151656e-01, -1.93568599e+00,  4.54634100e-01,  2.16434672e-01,\n",
       "        1.86997283e+00,  6.58555090e-01,  3.78553569e-01, -8.56598854e-01,\n",
       "        2.35696316e+00, -2.64574885e-01,  4.15431172e-01, -5.35059333e-01,\n",
       "        8.68177507e-03, -1.11359477e-01,  9.96651709e-01, -1.06247401e+00,\n",
       "       -1.36753070e+00,  3.40388775e-01, -5.99112034e-01, -6.11427546e-01,\n",
       "       -1.15183902e+00,  5.37539184e-01,  1.80423367e+00, -4.81293678e-01,\n",
       "       -6.35907412e-01, -7.23960027e-02, -1.57974362e+00,  5.74998856e-01,\n",
       "        5.53423345e-01,  8.37536994e-03,  8.32435310e-01,  5.00282764e-01,\n",
       "       -6.94399297e-01,  5.48820436e-01, -2.81742275e-01,  6.27194285e-01,\n",
       "       -7.05770373e-01,  1.10796496e-01, -1.25799537e+00,  5.82167387e-01,\n",
       "       -1.77261010e-01,  7.24546239e-02,  1.50734350e-01,  4.55408633e-01,\n",
       "        4.86394316e-01, -3.76472086e-01,  1.26964223e+00, -1.31312454e+00,\n",
       "       -6.45934939e-01,  1.47276115e+00, -1.76065519e-01,  1.79628527e+00,\n",
       "        1.09290409e+00, -1.21314025e+00, -2.38349915e+00, -8.91337395e-01,\n",
       "       -1.35162795e+00, -1.46668983e+00,  3.97862308e-03,  1.25508201e+00,\n",
       "        4.63355213e-01,  1.69070315e+00,  5.58419228e-02, -1.08110212e-01,\n",
       "       -8.78365099e-01, -2.92798311e-01, -6.87128603e-01,  4.14220542e-01,\n",
       "        1.42605889e+00,  1.76894319e+00,  4.85055119e-01,  1.08360457e+00,\n",
       "       -6.78736210e-01,  1.41002119e+00, -5.10324061e-01,  8.77373457e-01,\n",
       "        5.70898175e-01,  9.42756712e-01, -2.99045861e-01,  7.27172852e-01,\n",
       "       -1.86424971e-01,  1.13094814e-01,  1.71645498e+00,  1.34982371e+00,\n",
       "       -7.21141160e-01, -1.23967505e+00,  7.64659405e-01,  6.48746610e-01,\n",
       "       -2.11395370e-03,  2.88643193e+00, -3.21905404e-01, -1.33649492e+00,\n",
       "       -4.06139165e-01, -4.51481551e-01,  1.60868120e+00,  5.36135018e-01,\n",
       "       -1.19246781e+00,  7.17969716e-01, -8.80770087e-01, -5.75246453e-01,\n",
       "       -7.81882703e-02, -1.62620556e+00, -5.82351685e-01, -6.77818179e-01,\n",
       "        6.04225695e-01,  5.68108916e-01, -1.11943448e+00,  3.44590217e-01,\n",
       "        9.33967158e-02, -5.61498761e-01,  7.19003439e-01,  6.15942478e-01,\n",
       "       -4.79622155e-01,  8.51873755e-01, -1.01825945e-01,  5.73794305e-01],\n",
       "      dtype=float32)"
      ]
     },
     "execution_count": 7,
     "metadata": {},
     "output_type": "execute_result"
    }
   ],
   "source": [
    "model.wv['computer']"
   ]
  },
  {
   "cell_type": "markdown",
   "metadata": {},
   "source": [
    "## Save Model"
   ]
  },
  {
   "cell_type": "code",
   "execution_count": 8,
   "metadata": {},
   "outputs": [],
   "source": [
    "#model.save(\"../data/text8_model\")"
   ]
  },
  {
   "cell_type": "code",
   "execution_count": 9,
   "metadata": {},
   "outputs": [],
   "source": [
    "## Load model\n",
    "#model = word2vec.Word2Vec.load(\"../data/text8_model\")"
   ]
  },
  {
   "cell_type": "code",
   "execution_count": 10,
   "metadata": {},
   "outputs": [
    {
     "name": "stderr",
     "output_type": "stream",
     "text": [
      "/Users/Alvin/opt/anaconda3/envs/python-notes/lib/python3.7/site-packages/gensim/models/keyedvectors.py:877: FutureWarning: arrays to stack must be passed as a \"sequence\" type such as list or tuple. Support for non-sequence iterables such as generators is deprecated as of NumPy 1.16 and will raise an error in the future.\n",
      "  vectors = vstack(self.word_vec(word, use_norm=True) for word in used_words).astype(REAL)\n"
     ]
    },
    {
     "data": {
      "text/plain": [
       "'cereal'"
      ]
     },
     "execution_count": 10,
     "metadata": {},
     "output_type": "execute_result"
    }
   ],
   "source": [
    "## identify the most that is the most semantically distant from the others from a word list\n",
    "model.wv.doesnt_match(\"breakfast cereal dinner lunch\".split())"
   ]
  },
  {
   "cell_type": "code",
   "execution_count": 11,
   "metadata": {},
   "outputs": [
    {
     "data": {
      "text/plain": [
       "0.64496356"
      ]
     },
     "execution_count": 11,
     "metadata": {},
     "output_type": "execute_result"
    }
   ],
   "source": [
    "model.wv.similarity('woman', 'man')"
   ]
  },
  {
   "cell_type": "code",
   "execution_count": 12,
   "metadata": {},
   "outputs": [
    {
     "data": {
      "text/plain": [
       "0.07749185"
      ]
     },
     "execution_count": 12,
     "metadata": {},
     "output_type": "execute_result"
    }
   ],
   "source": [
    "model.wv.similarity('woman', 'cereal')"
   ]
  },
  {
   "cell_type": "code",
   "execution_count": 13,
   "metadata": {},
   "outputs": [
    {
     "data": {
      "text/plain": [
       "0.3550364375114441"
      ]
     },
     "execution_count": 13,
     "metadata": {},
     "output_type": "execute_result"
    }
   ],
   "source": [
    " \n",
    "model.wv.distance('man', 'woman')"
   ]
  },
  {
   "cell_type": "code",
   "execution_count": 14,
   "metadata": {},
   "outputs": [],
   "source": [
    "## Save model keyed vector\n",
    "#word_vectors = model.wv\n",
    "#del model"
   ]
  },
  {
   "cell_type": "markdown",
   "metadata": {},
   "source": [
    "## Evaluating Word Vectors"
   ]
  },
  {
   "cell_type": "code",
   "execution_count": 15,
   "metadata": {
    "scrolled": true
   },
   "outputs": [
    {
     "name": "stdout",
     "output_type": "stream",
     "text": [
      "/Users/Alvin/opt/anaconda3/envs/python-notes/lib/python3.7/site-packages/gensim/test/test_data/wordsim353.tsv\n"
     ]
    },
    {
     "data": {
      "text/plain": [
       "((0.6278063835451551, 7.150967548418006e-40),\n",
       " SpearmanrResult(correlation=0.6535293499880102, pvalue=3.9626028815462023e-44),\n",
       " 0.56657223796034)"
      ]
     },
     "execution_count": 15,
     "metadata": {},
     "output_type": "execute_result"
    }
   ],
   "source": [
    "import os, gensim\n",
    "module_path = gensim.__path__[0]\n",
    "#print(module_path)\n",
    "print(os.path.join(module_path, 'test/test_data','wordsim353.tsv'))\n",
    "model.wv.evaluate_word_pairs(os.path.join(gensim.__path__[0], 'test/test_data','wordsim353.tsv'))"
   ]
  },
  {
   "cell_type": "code",
   "execution_count": 16,
   "metadata": {},
   "outputs": [
    {
     "name": "stderr",
     "output_type": "stream",
     "text": [
      "/Users/Alvin/.local/lib/python3.7/site-packages/ipykernel_launcher.py:1: DeprecationWarning: Call to deprecated `accuracy` (Method will be removed in 4.0.0, use self.evaluate_word_analogies() instead).\n",
      "  \"\"\"Entry point for launching an IPython kernel.\n"
     ]
    }
   ],
   "source": [
    "model.wv.accuracy(os.path.join(module_path, 'test/test_data', 'questions-words.txt'))[1]"
   ]
  },
  {
   "cell_type": "markdown",
   "metadata": {},
   "source": [
    "## Loading Pre-trained Model"
   ]
  },
  {
   "cell_type": "code",
   "execution_count": 17,
   "metadata": {},
   "outputs": [],
   "source": [
    "# from gensim.models import KeyedVectors\n",
    "# load the google word2vec model\n",
    "# filename = 'GoogleNews-vectors-negative300.bin'\n",
    "# model = KeyedVectors.load_word2vec_format(filename, binary=True)\n",
    "\n"
   ]
  }
 ],
 "metadata": {
  "kernelspec": {
   "display_name": "python-notes",
   "language": "python",
   "name": "python-notes"
  },
  "language_info": {
   "codemirror_mode": {
    "name": "ipython",
    "version": 3
   },
   "file_extension": ".py",
   "mimetype": "text/x-python",
   "name": "python",
   "nbconvert_exporter": "python",
   "pygments_lexer": "ipython3",
   "version": "3.7.0"
  },
  "toc": {
   "base_numbering": 1,
   "nav_menu": {},
   "number_sections": false,
   "sideBar": true,
   "skip_h1_title": false,
   "title_cell": "Table of Contents",
   "title_sidebar": "Contents",
   "toc_cell": false,
   "toc_position": {},
   "toc_section_display": true,
   "toc_window_display": true
  },
  "varInspector": {
   "cols": {
    "lenName": 16,
    "lenType": 16,
    "lenVar": 40
   },
   "kernels_config": {
    "python": {
     "delete_cmd_postfix": "",
     "delete_cmd_prefix": "del ",
     "library": "var_list.py",
     "varRefreshCmd": "print(var_dic_list())"
    },
    "r": {
     "delete_cmd_postfix": ") ",
     "delete_cmd_prefix": "rm(",
     "library": "var_list.r",
     "varRefreshCmd": "cat(var_dic_list()) "
    }
   },
   "types_to_exclude": [
    "module",
    "function",
    "builtin_function_or_method",
    "instance",
    "_Feature"
   ],
   "window_display": false
  }
 },
 "nbformat": 4,
 "nbformat_minor": 4
}