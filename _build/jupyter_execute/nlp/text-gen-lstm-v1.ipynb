{
 "cells": [
  {
   "cell_type": "markdown",
   "metadata": {},
   "source": [
    "# Text Generation\n",
    "\n",
    "- Deep-learning Language model\n",
    "- Generative model\n",
    "- Based on Chp 8 Deep Learning with Python\n",
    "- Character-based text generative model (using LSTM)"
   ]
  },
  {
   "cell_type": "code",
   "execution_count": 2,
   "metadata": {},
   "outputs": [],
   "source": [
    "import keras\n",
    "import numpy as np"
   ]
  },
  {
   "cell_type": "code",
   "execution_count": 3,
   "metadata": {},
   "outputs": [
    {
     "name": "stdout",
     "output_type": "stream",
     "text": [
      "Corpus Length: 600893\n"
     ]
    }
   ],
   "source": [
    "## Download texts\n",
    "path = keras.utils.get_file('nietzsche.txt',\n",
    "                           origin='https://s3.amazonaws.com/text-datasets/nietzsche.txt')\n",
    "text = open(path).read().lower()\n",
    "print('Corpus Length:', len(text))"
   ]
  },
  {
   "cell_type": "code",
   "execution_count": 4,
   "metadata": {},
   "outputs": [
    {
     "name": "stdout",
     "output_type": "stream",
     "text": [
      "Number of sequences: 200278\n"
     ]
    }
   ],
   "source": [
    "## Creating sequences for training\n",
    "maxlen = 60 # 60 characters as one sequence at a time\n",
    "step = 3 # sample new sequence every 3 characters, shift size\n",
    "sentences = []\n",
    "next_chars = []\n",
    "for i in range(0, len(text) - maxlen, step):\n",
    "    sentences.append(text[i: i + maxlen]) # context\n",
    "    next_chars.append(text[i + maxlen]) # target word\n",
    "print('Number of sequences:', len(sentences))"
   ]
  },
  {
   "cell_type": "code",
   "execution_count": 5,
   "metadata": {},
   "outputs": [
    {
     "name": "stdout",
     "output_type": "stream",
     "text": [
      "Unique characters: 57\n"
     ]
    }
   ],
   "source": [
    "## Creating char mapping dictionary\n",
    "chars = sorted(list(set(text))) # dict of chars\n",
    "print('Unique characters:', len(chars))\n",
    "# create a map of each character and its corresponding numeric index in `chars`\n",
    "char_indices = dict((char, chars.index(char)) for char in chars)"
   ]
  },
  {
   "cell_type": "code",
   "execution_count": 6,
   "metadata": {},
   "outputs": [
    {
     "name": "stdout",
     "output_type": "stream",
     "text": [
      "Vectorization...\n"
     ]
    }
   ],
   "source": [
    "## Vectorizing sequences\n",
    "print('Vectorization...')\n",
    "## one-hot encoding for all characters\n",
    "x = np.zeros((len(sentences), maxlen, len(chars)), dtype=np.bool)\n",
    "y = np.zeros((len(sentences), len(chars)), dtype=np.bool)\n",
    "for i, sentence in enumerate(sentences):\n",
    "    for t, char in enumerate(sentence):\n",
    "        x[i, t, char_indices[char]]=1 # i-th sentence, t-th character, one-hot position\n",
    "    y[i, char_indices[next_chars[i]]]=1 # i-th sentence, the target word one-hot position"
   ]
  },
  {
   "cell_type": "code",
   "execution_count": 7,
   "metadata": {},
   "outputs": [],
   "source": [
    "# ## Building Network\n",
    "# from keras import layers\n",
    "# model = keras.models.Sequential()\n",
    "# model.add(layers.LSTM(128, input_shape=(maxlen, len(chars))))\n",
    "# model.add(layers.Dense(len(chars), activation='softmax'))\n",
    "\n",
    "# ## Model configuration\n",
    "# optimizer = keras.optimizers.RMSprop(lr=0.001)\n",
    "# model.compile(loss='categorical_crossentropy', optimizer=optimizer)"
   ]
  },
  {
   "cell_type": "code",
   "execution_count": 8,
   "metadata": {},
   "outputs": [],
   "source": [
    "## After the training, a function to sample the next char given the model prediction\n",
    "def sample(preds, temperature = 1.0):\n",
    "    preds = np.asarray(preds).astype('float64')\n",
    "    preds = np.log(preds)/temperature\n",
    "    exp_preds = np.exp(preds)\n",
    "    preds = exp_preds/np.sum(exp_preds)\n",
    "    probas = np.random.multinomial(1, preds, 1)\n",
    "    return np.argmax(probas)"
   ]
  },
  {
   "cell_type": "code",
   "execution_count": 9,
   "metadata": {},
   "outputs": [],
   "source": [
    "## Model Training\n",
    "# history = model.fit(x, y, batch_size=128, epochs = 60)\n"
   ]
  },
  {
   "cell_type": "code",
   "execution_count": 10,
   "metadata": {},
   "outputs": [],
   "source": [
    "## Save model\n",
    "# model.save('../data/text-gen-lstm-nietzsche.h5')\n"
   ]
  },
  {
   "cell_type": "code",
   "execution_count": 11,
   "metadata": {},
   "outputs": [],
   "source": [
    "# print(history.history.keys())\n",
    "# loss_values = history.history['loss']\n",
    "# epochs = range(1, len(loss_values)+1)"
   ]
  },
  {
   "cell_type": "code",
   "execution_count": 17,
   "metadata": {},
   "outputs": [
    {
     "data": {
      "text/plain": [
       "<seaborn.axisgrid.FacetGrid at 0x7fe0ed3eead0>"
      ]
     },
     "execution_count": 17,
     "metadata": {},
     "output_type": "execute_result"
    },
    {
     "data": {
      "image/png": "[encoded data removed]",
      "text/plain": [
       "<Figure size 360x360 with 1 Axes>"
      ]
     },
     "metadata": {},
     "output_type": "display_data"
    }
   ],
   "source": [
    "import seaborn as sns\n",
    "import pandas as pd\n",
    "import pickle\n",
    "%matplotlib inline\n",
    "\n",
    "## load previous saved df\n",
    "pickle_in = open(\"../data/text-gen-lstm-nietzschet-history.pickle\",\"rb\")\n",
    "hist_df = pickle.load(pickle_in)\n",
    "\n",
    "#hist_df=pd.DataFrame(list(zip(epochs, loss_values)), columns=['epochs','loss_values'])\n",
    "sns.set(style='darkgrid')\n",
    "sns.relplot(data=hist_df,x='epochs', y='loss_values', kind='line')"
   ]
  },
  {
   "cell_type": "code",
   "execution_count": null,
   "metadata": {},
   "outputs": [],
   "source": [
    "# import pickle\n",
    "# pickle_out = open(\"../data/text-gen-lstm-nietzschet-history.pickle\",\"wb\")\n",
    "# pickle.dump(hist_df, pickle_out)\n",
    "# pickle_out.close()"
   ]
  },
  {
   "cell_type": "code",
   "execution_count": 13,
   "metadata": {},
   "outputs": [],
   "source": [
    "## Load Saved Model\n",
    "## No need to create and compile the model first?\n",
    "model = keras.models.load_model('../data/text-gen-lstm-nietzsche.h5')"
   ]
  },
  {
   "cell_type": "code",
   "execution_count": 18,
   "metadata": {},
   "outputs": [],
   "source": [
    "## Generating Texts\n",
    "\n",
    "import random\n",
    "import sys\n",
    "\n",
    "\n",
    "start_index = random.randint(0, len(text)-maxlen-1)\n",
    "generated_text = text[start_index:start_index+maxlen]"
   ]
  },
  {
   "cell_type": "code",
   "execution_count": 15,
   "metadata": {},
   "outputs": [
    {
     "name": "stdout",
     "output_type": "stream",
     "text": [
      "--Generating with seed: \" everything that has heretofore made metaphysical assumption\"\n",
      "----- temperature: 0.2\n",
      " everything that has heretofore made metaphysical assumption of the\n",
      "same spirit, the present deeply before a his spirit as i succing of the existence from the\n",
      "intellectual condition to be a profound in the fact of a religion of the\n",
      "soul modern cause of the sam----- temperature: 0.5\n",
      "n the fact of a religion of the\n",
      "soul modern cause of the same will be attained to be souch to have been to\n",
      "dut about, also a mester it is a point, in the end of the spirit,\n",
      "which such an indispreneded, and for the subtle meass of a man who induder\n",
      "be believed ----- temperature: 1.0\n",
      ", and for the subtle meass of a man who induder\n",
      "be believed toble itself is rearly developidly inexistencelizes by\n",
      "lake always themselves just acqusowhed has not the german himselop. the\n",
      "hownelighing elogence by the world with of a comp\" with and more\n",
      "morality----- temperature: 1.2\n",
      "elogence by the world with of a comp\" with and more\n",
      "morality, the proseemy no adabl. the even and find now besing,\n",
      "succtraborions.--swas do the past of his own lory as samethicas of puriops from the \"xh\"-gove\n",
      "and \"trad the love of lifered higherble, in which w"
     ]
    }
   ],
   "source": [
    "print('--Generating with seed: \"'+ generated_text + '\"')\n",
    "for temperature in [0.2, 0.5, 1.0, 1.2]:\n",
    "    print('----- temperature:', temperature)\n",
    "    sys.stdout.write(generated_text)\n",
    "    # generate 400 chars after the seed text\n",
    "    for i in range(200):\n",
    "        # one-hot encoding seed text\n",
    "        sampled = np.zeros((1, maxlen, len(chars)))\n",
    "        for t, char in enumerate(generated_text):\n",
    "            sampled[0, t, char_indices[char]]=1 # given the sample text, t-th char, one-hot position\n",
    "        \n",
    "        preds = model.predict(sampled, verbose=0)[0] # get output prob distribution\n",
    "        next_index = sample(preds, temperature) # choose the char based on temperature\n",
    "        next_char = chars[next_index]\n",
    "        \n",
    "        generated_text += next_char # append the new char\n",
    "        generated_text = generated_text[1:] # get rid of the first char\n",
    "        sys.stdout.write(next_char)\n",
    "    "
   ]
  }
 ],
 "metadata": {
  "kernelspec": {
   "display_name": "r-tensorflow",
   "language": "python",
   "name": "r-tensorflow"
  },
  "language_info": {
   "codemirror_mode": {
    "name": "ipython",
    "version": 3
   },
   "file_extension": ".py",
   "mimetype": "text/x-python",
   "name": "python",
   "nbconvert_exporter": "python",
   "pygments_lexer": "ipython3",
   "version": "3.7.6"
  }
 },
 "nbformat": 4,
 "nbformat_minor": 4
}