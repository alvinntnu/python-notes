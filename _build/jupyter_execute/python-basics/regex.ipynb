{
 "cells": [
  {
   "cell_type": "markdown",
   "metadata": {},
   "source": [
    "# Regular Expression"
   ]
  },
  {
   "cell_type": "markdown",
   "metadata": {},
   "source": [
    "- This notebook introduces the powerful regular expressions for pattern matching.\n",
    "- Codes credit to [Corey Schaffer's tutorial on regular expressions](https://www.youtube.com/watch?v=sa-TUpSx1JA)"
   ]
  },
  {
   "cell_type": "markdown",
   "metadata": {},
   "source": [
    "## Comparison of Python and R"
   ]
  },
  {
   "cell_type": "markdown",
   "metadata": {},
   "source": [
    "|Python   |R     |\n",
    "|---|---|\n",
    "|`re.search()`|`str_extract()`|\n",
    "|`re.findall()`|`str_extract_all()`|\n",
    "|`re.finditer()`|`str_match_all()`|\n",
    "|`re.sub()`|`str_replace_all()`|\n",
    "|`re.split()`|`str_split()`|\n",
    "|`re.subn()`|?|\n",
    "|`re.match()`|?|\n",
    "|?|`str_detect()`|\n",
    "|?|`str_subset()`|"
   ]
  },
  {
   "cell_type": "markdown",
   "metadata": {},
   "source": [
    "The above table shows the similarities and differences in terms of the regular expression functions in Python and R. They are more or less similar. These mappings can be helpful for R users to understand the `re` in Python."
   ]
  },
  {
   "cell_type": "markdown",
   "metadata": {},
   "source": [
    "## Regular Expression Syntax"
   ]
  },
  {
   "cell_type": "code",
   "execution_count": 42,
   "metadata": {},
   "outputs": [],
   "source": [
    "import re\n",
    "\n",
    "text_to_search = '''\n",
    "abcdefghijklmnopqurtuvwxyz\n",
    "ABCDEFGHIJKLMNOPQRSTUVWXYZ\n",
    "1234567890\n",
    "Ha HaHa\n",
    "MetaCharacters (Need to be escaped):\n",
    ". ^ $ * + ? { } [ ] \\ | ( )\n",
    "coreyms.com\n",
    "321-555-4321\n",
    "123.555.1234\n",
    "123*555*1234\n",
    "800-555-1234\n",
    "900-555-1234\n",
    "Mr. Schafer\n",
    "Mr Smith\n",
    "Ms Davis\n",
    "Mrs. Robinson\n",
    "Mr. T\n",
    "'''\n",
    "\n",
    "sentence = 'Start a sentence and then bring it to an end'\n",
    "\n",
    "pattern = re.compile(r'\\d{3}-\\d{3}-\\d{4}', re.I)"
   ]
  },
  {
   "cell_type": "code",
   "execution_count": 46,
   "metadata": {},
   "outputs": [
    {
     "name": "stdout",
     "output_type": "stream",
     "text": [
      "321-555-4321\n"
     ]
    }
   ],
   "source": [
    "## perform a search\n",
    "matches= re.search(pattern, text_to_search)\n",
    "if matches:\n",
    "    print(matches.group())"
   ]
  },
  {
   "cell_type": "code",
   "execution_count": 51,
   "metadata": {},
   "outputs": [
    {
     "name": "stdout",
     "output_type": "stream",
     "text": [
      "321-555-4321\n",
      "800-555-1234\n",
      "900-555-1234\n"
     ]
    }
   ],
   "source": [
    "## find all matches\n",
    "matches = re.findall(pattern, text_to_search)\n",
    "if matches:\n",
    "    for m in matches:\n",
    "        print(m.strip())"
   ]
  },
  {
   "cell_type": "code",
   "execution_count": 57,
   "metadata": {},
   "outputs": [
    {
     "name": "stdout",
     "output_type": "stream",
     "text": [
      "151-163: 321-555-4321\n",
      "190-202: 800-555-1234\n",
      "203-215: 900-555-1234\n"
     ]
    }
   ],
   "source": [
    "## find all matches\n",
    "matches = re.finditer(pattern, text_to_search)\n",
    "if matches:\n",
    "    for m in matches:\n",
    "        print(\"%02d-%02d: %s\" % (m.start(), m.end(), m.group()))"
   ]
  },
  {
   "cell_type": "markdown",
   "metadata": {},
   "source": [
    "## Regular Expression in Python"
   ]
  },
  {
   "cell_type": "markdown",
   "metadata": {},
   "source": [
    "### Raw String Notation\n",
    "\n",
    "Raw string notation (r\"text\") keeps regular expressions sane. Without it, every backslash ('\\') in a regular expression would have to be prefixed with another one to escape it. For example, the two following lines of code are functionally identical:"
   ]
  },
  {
   "cell_type": "markdown",
   "metadata": {},
   "source": [
    "### Find all matches"
   ]
  },
  {
   "cell_type": "markdown",
   "metadata": {},
   "source": [
    "- `re.findall()`: matches all occurrences of a pattern, not just the first one as search() does.\n",
    "- `re.finditer(): If one wants more information about all matches of a pattern than the matched text, finditer() is useful as it provides match objects instead of strings."
   ]
  },
  {
   "cell_type": "markdown",
   "metadata": {},
   "source": [
    "### group() vs. groups()\n",
    "\n",
    "- `group()`: by default, returns the match\n",
    "- `groups()`: by default, returns all capturing groups"
   ]
  },
  {
   "cell_type": "code",
   "execution_count": 36,
   "metadata": {},
   "outputs": [
    {
     "name": "stdout",
     "output_type": "stream",
     "text": [
      "abc\n",
      "abc\n",
      "('b', 'c')\n",
      "b\n"
     ]
    }
   ],
   "source": [
    "m = re.match(\"a(.)(.)\",\"abcedf\")\n",
    "\n",
    "print(m.group(0)) # return the whole match\n",
    "print(m.group()) # return the whole match, same as above\n",
    "print(m.groups()) # return each capturing group match\n",
    "print(m.group(1)) # return first capturing gorup match"
   ]
  },
  {
   "cell_type": "markdown",
   "metadata": {},
   "source": [
    "### string format validation"
   ]
  },
  {
   "cell_type": "code",
   "execution_count": 41,
   "metadata": {},
   "outputs": [
    {
     "name": "stdout",
     "output_type": "stream",
     "text": [
      "<re.Match object; span=(0, 14), match='alvin@ntnu.edu'>\n",
      "None\n",
      "None\n"
     ]
    }
   ],
   "source": [
    "valid = re.compile(r\"^[a-z]+@[a-z]+\\.[a-z]{3}$\")\n",
    "print(valid.match('alvin@ntnu.edu'))\n",
    "print(valid.match('alvin123@ntnu.edu'))\n",
    "print(valid.match('alvin@ntnu.homeschool'))\n"
   ]
  },
  {
   "cell_type": "markdown",
   "metadata": {},
   "source": [
    "### re.match() vs. re.search()"
   ]
  },
  {
   "cell_type": "markdown",
   "metadata": {},
   "source": [
    "Python offers two different primitive operations based on regular expressions: \n",
    "- `re.match()` checks for a match only at the beginning of the string\n",
    "- `re.search()` checks for a match anywhere in the string (this is what Perl does by default)."
   ]
  },
  {
   "cell_type": "code",
   "execution_count": 16,
   "metadata": {},
   "outputs": [
    {
     "name": "stdout",
     "output_type": "stream",
     "text": [
      "None\n",
      "None\n"
     ]
    }
   ],
   "source": [
    "print(re.match(\"c\", \"abcdef\"))    # No match\n",
    "print(re.search(\"^c\", \"abcdef\"))  # No match, same as above"
   ]
  },
  {
   "cell_type": "code",
   "execution_count": 15,
   "metadata": {},
   "outputs": [
    {
     "name": "stdout",
     "output_type": "stream",
     "text": [
      "<re.Match object; span=(2, 3), match='c'>\n"
     ]
    }
   ],
   "source": [
    "print(re.search(\"c\", \"abcdef\"))   # Match"
   ]
  },
  {
   "cell_type": "markdown",
   "metadata": {},
   "source": [
    ":::{note}\n",
    "\n",
    "- `re.match` always matches at the beginning of the input string even if it is in the MULTILINE mode.\n",
    "\n",
    "- `re.search` however, when in MULTILINE mode, is able to search at the beginning of every line if used in combination with `^`.\n",
    "\n",
    ":::\n",
    "\n"
   ]
  },
  {
   "cell_type": "code",
   "execution_count": 17,
   "metadata": {},
   "outputs": [
    {
     "name": "stdout",
     "output_type": "stream",
     "text": [
      "None\n",
      "<re.Match object; span=(4, 5), match='X'>\n",
      "None\n"
     ]
    }
   ],
   "source": [
    "print(re.match('X', 'A\\nB\\nX', re.MULTILINE))  # No match\n",
    "print(re.search('^X', 'A\\nB\\nX', re.MULTILINE))  # Match\n",
    "print(re.search('^X', 'A\\nB\\nX')) # No match"
   ]
  },
  {
   "cell_type": "markdown",
   "metadata": {},
   "source": [
    "### re.split()"
   ]
  },
  {
   "cell_type": "code",
   "execution_count": null,
   "metadata": {},
   "outputs": [],
   "source": [
    "text = \"\"\"Ross McFluff: 834.345.1254 155 Elm Street\n",
    "\n",
    "Ronald Heathmore: 892.345.3428 436 Finley Avenue\n",
    "Frank Burger: 925.541.7625 662 South Dogwood Way\n",
    "\n",
    "\n",
    "Heather Albrecht: 548.326.4584 919 Park Place\"\"\""
   ]
  },
  {
   "cell_type": "code",
   "execution_count": 64,
   "metadata": {},
   "outputs": [
    {
     "data": {
      "text/plain": [
       "['Ross McFluff: 834.345.1254 155 Elm Street',\n",
       " '',\n",
       " 'Ronald Heathmore: 892.345.3428 436 Finley Avenue',\n",
       " 'Frank Burger: 925.541.7625 662 South Dogwood Way',\n",
       " '',\n",
       " '',\n",
       " 'Heather Albrecht: 548.326.4584 919 Park Place']"
      ]
     },
     "execution_count": 64,
     "metadata": {},
     "output_type": "execute_result"
    }
   ],
   "source": [
    "# split text into lines\n",
    "re.split(r'\\n',text)"
   ]
  },
  {
   "cell_type": "code",
   "execution_count": 63,
   "metadata": {},
   "outputs": [
    {
     "data": {
      "text/plain": [
       "['Ross McFluff: 834.345.1254 155 Elm Street',\n",
       " 'Ronald Heathmore: 892.345.3428 436 Finley Avenue',\n",
       " 'Frank Burger: 925.541.7625 662 South Dogwood Way',\n",
       " 'Heather Albrecht: 548.326.4584 919 Park Place']"
      ]
     },
     "execution_count": 63,
     "metadata": {},
     "output_type": "execute_result"
    }
   ],
   "source": [
    "re.split(r'\\n+', text)"
   ]
  },
  {
   "cell_type": "code",
   "execution_count": null,
   "metadata": {},
   "outputs": [],
   "source": [
    "entries = re.split(r'\\n+', text)"
   ]
  },
  {
   "cell_type": "code",
   "execution_count": 66,
   "metadata": {},
   "outputs": [
    {
     "data": {
      "text/plain": [
       "[['Ross', 'McFluff:', '834.345.1254', '155', 'Elm', 'Street'],\n",
       " ['Ronald', 'Heathmore:', '892.345.3428', '436', 'Finley', 'Avenue'],\n",
       " ['Frank', 'Burger:', '925.541.7625', '662', 'South', 'Dogwood', 'Way'],\n",
       " ['Heather', 'Albrecht:', '548.326.4584', '919', 'Park', 'Place']]"
      ]
     },
     "execution_count": 66,
     "metadata": {},
     "output_type": "execute_result"
    }
   ],
   "source": [
    "[re.split(r'\\s', entry) for entry in entries]"
   ]
  },
  {
   "cell_type": "code",
   "execution_count": 69,
   "metadata": {},
   "outputs": [
    {
     "data": {
      "text/plain": [
       "[['Ross', 'McFluff', '834.345.1254', '155 Elm Street'],\n",
       " ['Ronald', 'Heathmore', '892.345.3428', '436 Finley Avenue'],\n",
       " ['Frank', 'Burger', '925.541.7625', '662 South Dogwood Way'],\n",
       " ['Heather', 'Albrecht', '548.326.4584', '919 Park Place']]"
      ]
     },
     "execution_count": 69,
     "metadata": {},
     "output_type": "execute_result"
    }
   ],
   "source": [
    "[re.split(r':?\\s', entry, maxsplit=3) for entry in entries]"
   ]
  },
  {
   "cell_type": "markdown",
   "metadata": {},
   "source": [
    "### Text Munging"
   ]
  },
  {
   "cell_type": "markdown",
   "metadata": {},
   "source": [
    "- re.sub()"
   ]
  },
  {
   "cell_type": "code",
   "execution_count": 70,
   "metadata": {},
   "outputs": [],
   "source": [
    "text = '''Peter Piper picked a peck of pickled peppers\n",
    "A peck of pickled peppers Peter Piper picked\n",
    "If Peter Piper picked a peck of pickled peppers\n",
    "Where’s the peck of pickled peppers Peter Piper picked?'''"
   ]
  },
  {
   "cell_type": "code",
   "execution_count": 73,
   "metadata": {},
   "outputs": [
    {
     "name": "stdout",
     "output_type": "stream",
     "text": [
      "P_t_r P_p_r p_ck_d _ p_ck _f p_ckl_d p_pp_rs\n",
      "A p_ck _f p_ckl_d p_pp_rs P_t_r P_p_r p_ck_d\n",
      "If P_t_r P_p_r p_ck_d _ p_ck _f p_ckl_d p_pp_rs\n",
      "Wh_r_’s th_ p_ck _f p_ckl_d p_pp_rs P_t_r P_p_r p_ck_d?\n"
     ]
    }
   ],
   "source": [
    "print(re.sub(r'[aeiou]','_', text))"
   ]
  },
  {
   "cell_type": "code",
   "execution_count": 74,
   "metadata": {},
   "outputs": [
    {
     "name": "stdout",
     "output_type": "stream",
     "text": [
      "P[e]t[e]r P[i]p[e]r p[i]ck[e]d [a] p[e]ck [o]f p[i]ckl[e]d p[e]pp[e]rs\n",
      "A p[e]ck [o]f p[i]ckl[e]d p[e]pp[e]rs P[e]t[e]r P[i]p[e]r p[i]ck[e]d\n",
      "If P[e]t[e]r P[i]p[e]r p[i]ck[e]d [a] p[e]ck [o]f p[i]ckl[e]d p[e]pp[e]rs\n",
      "Wh[e]r[e]’s th[e] p[e]ck [o]f p[i]ckl[e]d p[e]pp[e]rs P[e]t[e]r P[i]p[e]r p[i]ck[e]d?\n"
     ]
    }
   ],
   "source": [
    "print(re.sub(r'([aeiou])',r'[\\1]', text))"
   ]
  },
  {
   "cell_type": "code",
   "execution_count": 82,
   "metadata": {},
   "outputs": [],
   "source": [
    "American_dates = [\"7/31/1976\", \"02.15.1970\", \"11-31-1986\", \"04/01.2020\"]"
   ]
  },
  {
   "cell_type": "code",
   "execution_count": 85,
   "metadata": {},
   "outputs": [
    {
     "name": "stdout",
     "output_type": "stream",
     "text": [
      "['7/31/1976', '02.15.1970', '11-31-1986', '04/01.2020']\n",
      "['31/7/1976', '15.02.1970', '31-11-1986', '01/04.2020']\n"
     ]
    }
   ],
   "source": [
    "print(American_dates)\n",
    "print([re.sub(r'(\\d+)(\\D)(\\d+)(\\D)(\\d+)', r'\\3\\2\\1\\4\\5', date) for date in American_dates])"
   ]
  },
  {
   "cell_type": "markdown",
   "metadata": {},
   "source": [
    "## References"
   ]
  },
  {
   "cell_type": "markdown",
   "metadata": {},
   "source": [
    "- [Python regular expression cheatsheet](https://learnbyexample.github.io/python-regex-cheatsheet/)\n",
    "- [Python official regular expression documentation](https://docs.python.org/3/library/re.html)\n",
    "- [Friedl, Jeffrey. Mastering Regular Expressions. 3rd ed., O’Reilly Media, 2009.](https://doc.lagout.org/programmation/Regular%20Expressions/Mastering%20Regular%20Expressions_%20Understand%20Your%20Data%20and%20Be%20More%20Productive%20%283rd%20ed.%29%20%5BFriedl%202006-08-18%5D.pdf)"
   ]
  }
 ],
 "metadata": {
  "kernelspec": {
   "display_name": "python-notes",
   "language": "python",
   "name": "python-notes"
  },
  "language_info": {
   "codemirror_mode": {
    "name": "ipython",
    "version": 3
   },
   "file_extension": ".py",
   "mimetype": "text/x-python",
   "name": "python",
   "nbconvert_exporter": "python",
   "pygments_lexer": "ipython3",
   "version": "3.7.0"
  },
  "toc": {
   "base_numbering": 1,
   "nav_menu": {},
   "number_sections": false,
   "sideBar": true,
   "skip_h1_title": false,
   "title_cell": "Table of Contents",
   "title_sidebar": "Contents",
   "toc_cell": false,
   "toc_position": {},
   "toc_section_display": true,
   "toc_window_display": true
  },
  "varInspector": {
   "cols": {
    "lenName": 16,
    "lenType": 16,
    "lenVar": 40
   },
   "kernels_config": {
    "python": {
     "delete_cmd_postfix": "",
     "delete_cmd_prefix": "del ",
     "library": "var_list.py",
     "varRefreshCmd": "print(var_dic_list())"
    },
    "r": {
     "delete_cmd_postfix": ") ",
     "delete_cmd_prefix": "rm(",
     "library": "var_list.r",
     "varRefreshCmd": "cat(var_dic_list()) "
    }
   },
   "types_to_exclude": [
    "module",
    "function",
    "builtin_function_or_method",
    "instance",
    "_Feature"
   ],
   "window_display": false
  }
 },
 "nbformat": 4,
 "nbformat_minor": 4
}