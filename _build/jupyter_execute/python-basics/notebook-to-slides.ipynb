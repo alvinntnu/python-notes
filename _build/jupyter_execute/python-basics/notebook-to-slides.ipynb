{
 "cells": [
  {
   "cell_type": "markdown",
   "metadata": {},
   "source": [
    "# Notebook to Slides\n",
    "\n",
    "## Installation\n",
    "\n",
    "```\n",
    "## using conda\n",
    "!conda install -c conda-forge rise\n",
    "\n",
    "## using pip\n",
    "!pip install RISE\n",
    "!jupyter-nbextension install rise --py --sys-prefix\n",
    "!jupyter-nbextension enable rise --py --sys-prefix\n",
    "```\n",
    "\n",
    "## Use\n",
    "\n",
    "- Render the notebook into a *reveal.js* slide:\n",
    "\n",
    "```\n",
    "jupyter nbconvert my-nb-slide.ipynb --to slides --post serve\n",
    "```\n",
    "\n",
    "- Add metadata to Jupyter notebook to set parameters of `reveal.js`\n",
    "\n",
    "```\n",
    "{\n",
    "    ...\n",
    "    \"livereveal\": {\n",
    "        \"theme\": \"serif\",\n",
    "        \"transition\": \"zoom\",\n",
    "        ...\n",
    "    },\n",
    "    ...\n",
    "}\n",
    "```\n",
    "\n",
    "- With *rise* library, we can run a live notebook slide by directly using the notebook file (`alt + r`)"
   ]
  },
  {
   "cell_type": "markdown",
   "metadata": {},
   "source": [
    "## Other settings\n",
    "\n",
    "- To customize RISE, use the `Nbextensions` in Jupyter. Under `Nbextensions`, find `rise` tab.\n"
   ]
  }
 ],
 "metadata": {
  "kernelspec": {
   "display_name": "python-notes",
   "language": "python",
   "name": "python-notes"
  },
  "language_info": {
   "codemirror_mode": {
    "name": "ipython",
    "version": 3
   },
   "file_extension": ".py",
   "mimetype": "text/x-python",
   "name": "python",
   "nbconvert_exporter": "python",
   "pygments_lexer": "ipython3",
   "version": "3.7.0"
  },
  "toc": {
   "base_numbering": 1,
   "nav_menu": {},
   "number_sections": false,
   "sideBar": true,
   "skip_h1_title": false,
   "title_cell": "Table of Contents",
   "title_sidebar": "Contents",
   "toc_cell": false,
   "toc_position": {},
   "toc_section_display": true,
   "toc_window_display": false
  },
  "varInspector": {
   "cols": {
    "lenName": 16,
    "lenType": 16,
    "lenVar": 40
   },
   "kernels_config": {
    "python": {
     "delete_cmd_postfix": "",
     "delete_cmd_prefix": "del ",
     "library": "var_list.py",
     "varRefreshCmd": "print(var_dic_list())"
    },
    "r": {
     "delete_cmd_postfix": ") ",
     "delete_cmd_prefix": "rm(",
     "library": "var_list.r",
     "varRefreshCmd": "cat(var_dic_list()) "
    }
   },
   "types_to_exclude": [
    "module",
    "function",
    "builtin_function_or_method",
    "instance",
    "_Feature"
   ],
   "window_display": false
  }
 },
 "nbformat": 4,
 "nbformat_minor": 4
}