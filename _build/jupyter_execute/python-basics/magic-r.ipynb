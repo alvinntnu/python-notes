{
 "cells": [
  {
   "cell_type": "markdown",
   "metadata": {},
   "source": [
    "# Magic R\n",
    "\n",
    "- This is a notebook based on an R kernel.\n",
    "- To install the system default R kernel to work with Jupyter Notebook:\n",
    "    - Open the terminal\n",
    "    - Run the following commands in the terminal (running in RStudio does not work)\n",
    "    ```\n",
    "    # intiate R\n",
    "    $ R\n",
    "    # install packages\n",
    "    install.package(\"IRkernel\")\n",
    "    IRkernel::installspec()\n",
    "    ```\n",
    "    - This step is necessary if we want to use the default system R kernel instead of the R provided by Anaconda\n",
    " \n",
    "- After installing the R packages, we can use the R kernel in a jupyter notebook. And the entire notebook has to use the same R kernel.\n",
    "- If we need to combine python and R codes in one notebook, we need to do the following:\n",
    "    - Install the rpy2 module\n",
    "    ```\n",
    "    pip install rpy2\n",
    "    ```\n",
    "    - Use magic command to switch to R codes\n",
    "    ```\n",
    "    %%R\n",
    "    library(dplyr)\n",
    "    \n",
    "    %% R -i DUMP_PYTHON_OBJECTS_FOR_R\n",
    "    ```\n",
    "    \n",
    "    - Some other parameters\n",
    "    \n",
    "    ```\n",
    "    %%R -i df -w 5 -h 5 --units in -r 200\n",
    "    # import df from global environment\n",
    "    # make default figure size 5 by 5 inches with 200 dpi resolution\n",
    "\n",
    "    ```\n",
    "    \n",
    "    - Other parameters for rmagic, see [this post](https://ipython.org/ipython-doc/2/config/extensions/rmagic.html)\n"
   ]
  },
  {
   "cell_type": "markdown",
   "metadata": {},
   "source": [
    "## Running R codes in Notebook\n",
    "\n",
    "- After installing the R kernel, we can create an entire notebook, which is based on the system default R kernel.\n",
    "- This notebook is an example. (awesome!)"
   ]
  },
  {
   "cell_type": "code",
   "execution_count": 1,
   "metadata": {},
   "outputs": [
    {
     "name": "stderr",
     "output_type": "stream",
     "text": [
      "Warning message:\n",
      "“replacing previous import ‘vctrs::data_frame’ by ‘tibble::data_frame’ when loading ‘dplyr’”\n",
      "── \u001b[1mAttaching packages\u001b[22m ─────────────────────────────────────── tidyverse 1.3.0 ──\n",
      "\n",
      "\u001b[32m✔\u001b[39m \u001b[34mtibble \u001b[39m 3.0.3     \u001b[32m✔\u001b[39m \u001b[34mdplyr  \u001b[39m 1.0.0\n",
      "\u001b[32m✔\u001b[39m \u001b[34mtidyr  \u001b[39m 1.1.2     \u001b[32m✔\u001b[39m \u001b[34mstringr\u001b[39m 1.4.0\n",
      "\u001b[32m✔\u001b[39m \u001b[34mreadr  \u001b[39m 1.3.1     \u001b[32m✔\u001b[39m \u001b[34mforcats\u001b[39m 0.5.0\n",
      "\u001b[32m✔\u001b[39m \u001b[34mpurrr  \u001b[39m 0.3.4     \n",
      "\n",
      "── \u001b[1mConflicts\u001b[22m ────────────────────────────────────────── tidyverse_conflicts() ──\n",
      "\u001b[31m✖\u001b[39m \u001b[34mdplyr\u001b[39m::\u001b[32mfilter()\u001b[39m masks \u001b[34mstats\u001b[39m::filter()\n",
      "\u001b[31m✖\u001b[39m \u001b[34mdplyr\u001b[39m::\u001b[32mlag()\u001b[39m    masks \u001b[34mstats\u001b[39m::lag()\n",
      "\n",
      "Package version: 2.0.1\n",
      "\n",
      "Parallel computing: 2 of 4 threads used.\n",
      "\n",
      "See https://quanteda.io for tutorials and examples.\n",
      "\n",
      "\n",
      "Attaching package: ‘quanteda’\n",
      "\n",
      "\n",
      "The following object is masked from ‘jupyter:irkernel’:\n",
      "\n",
      "    View\n",
      "\n",
      "\n",
      "The following object is masked from ‘package:utils’:\n",
      "\n",
      "    View\n",
      "\n",
      "\n"
     ]
    }
   ],
   "source": [
    "library(ggplot2)\n",
    "library(tidyverse)\n",
    "library(quanteda)"
   ]
  },
  {
   "cell_type": "code",
   "execution_count": 2,
   "metadata": {},
   "outputs": [
    {
     "data": {
      "text/html": [
       "'/Users/Alvin/GoogleDrive/_MySyncDrive/Repository/python-notes'"
      ],
      "text/latex": [
       "'/Users/Alvin/GoogleDrive/\\_MySyncDrive/Repository/python-notes'"
      ],
      "text/markdown": [
       "'/Users/Alvin/GoogleDrive/_MySyncDrive/Repository/python-notes'"
      ],
      "text/plain": [
       "[1] \"/Users/Alvin/GoogleDrive/_MySyncDrive/Repository/python-notes\""
      ]
     },
     "metadata": {},
     "output_type": "display_data"
    },
    {
     "data": {
      "text/plain": [
       "               _                           \n",
       "platform       x86_64-apple-darwin15.6.0   \n",
       "arch           x86_64                      \n",
       "os             darwin15.6.0                \n",
       "system         x86_64, darwin15.6.0        \n",
       "status                                     \n",
       "major          3                           \n",
       "minor          6.3                         \n",
       "year           2020                        \n",
       "month          02                          \n",
       "day            29                          \n",
       "svn rev        77875                       \n",
       "language       R                           \n",
       "version.string R version 3.6.3 (2020-02-29)\n",
       "nickname       Holding the Windsock        "
      ]
     },
     "metadata": {},
     "output_type": "display_data"
    },
    {
     "data": {
      "text/plain": [
       "R version 3.6.3 (2020-02-29)\n",
       "Platform: x86_64-apple-darwin15.6.0 (64-bit)\n",
       "Running under: macOS Catalina 10.15.7\n",
       "\n",
       "Matrix products: default\n",
       "BLAS:   /Library/Frameworks/R.framework/Versions/3.6/Resources/lib/libRblas.0.dylib\n",
       "LAPACK: /Library/Frameworks/R.framework/Versions/3.6/Resources/lib/libRlapack.dylib\n",
       "\n",
       "locale:\n",
       "[1] C/UTF-8/C/C/C/C\n",
       "\n",
       "attached base packages:\n",
       "[1] stats     graphics  grDevices utils     datasets  methods   base     \n",
       "\n",
       "other attached packages:\n",
       " [1] quanteda_2.0.1  forcats_0.5.0   stringr_1.4.0   dplyr_1.0.0    \n",
       " [5] purrr_0.3.4     readr_1.3.1     tidyr_1.1.2     tibble_3.0.3   \n",
       " [9] tidyverse_1.3.0 ggplot2_3.3.2  \n",
       "\n",
       "loaded via a namespace (and not attached):\n",
       " [1] pbdZMQ_0.3-3       tidyselect_1.1.0   repr_1.1.0         lattice_0.20-41   \n",
       " [5] haven_2.2.0        colorspace_1.4-1   vctrs_0.3.4        generics_0.0.2    \n",
       " [9] usethis_1.6.1      htmltools_0.5.0    base64enc_0.1-3    rlang_0.4.7       \n",
       "[13] pillar_1.4.6       glue_1.4.2         withr_2.2.0        DBI_1.1.0         \n",
       "[17] dbplyr_1.4.3       modelr_0.1.7       readxl_1.3.1       uuid_0.1-4        \n",
       "[21] lifecycle_0.2.0    munsell_0.5.0      gtable_0.3.0       cellranger_1.1.0  \n",
       "[25] rvest_0.3.5        evaluate_0.14      fansi_0.4.1        broom_0.7.1       \n",
       "[29] IRdisplay_0.7.0    Rcpp_1.0.4.6       backports_1.1.9    scales_1.1.1      \n",
       "[33] IRkernel_1.1.1     RcppParallel_5.0.1 jsonlite_1.7.0     fs_1.4.1          \n",
       "[37] fastmatch_1.1-0    stopwords_2.0      hms_0.5.3          digest_0.6.25     \n",
       "[41] stringi_1.4.6      grid_3.6.3         cli_2.0.2          tools_3.6.3       \n",
       "[45] magrittr_1.5       crayon_1.3.4       pkgconfig_2.0.3    ellipsis_0.3.1    \n",
       "[49] Matrix_1.2-18      data.table_1.12.8  xml2_1.3.2         reprex_0.3.0      \n",
       "[53] lubridate_1.7.9    assertthat_0.2.1   httr_1.4.1         rstudioapi_0.11   \n",
       "[57] R6_2.4.1           compiler_3.6.3    "
      ]
     },
     "metadata": {},
     "output_type": "display_data"
    }
   ],
   "source": [
    "getwd()\n",
    "version\n",
    "sessionInfo()"
   ]
  },
  {
   "cell_type": "code",
   "execution_count": 3,
   "metadata": {},
   "outputs": [
    {
     "data": {
      "text/html": [
       "<table>\n",
       "<caption>A data.frame: 6 × 5</caption>\n",
       "<thead>\n",
       "\t<tr><th></th><th scope=col>Sepal.Length</th><th scope=col>Sepal.Width</th><th scope=col>Petal.Length</th><th scope=col>Petal.Width</th><th scope=col>Species</th></tr>\n",
       "\t<tr><th></th><th scope=col>&lt;dbl&gt;</th><th scope=col>&lt;dbl&gt;</th><th scope=col>&lt;dbl&gt;</th><th scope=col>&lt;dbl&gt;</th><th scope=col>&lt;fct&gt;</th></tr>\n",
       "</thead>\n",
       "<tbody>\n",
       "\t<tr><th scope=row>1</th><td>5.1</td><td>3.5</td><td>1.4</td><td>0.2</td><td>setosa</td></tr>\n",
       "\t<tr><th scope=row>2</th><td>4.9</td><td>3.0</td><td>1.4</td><td>0.2</td><td>setosa</td></tr>\n",
       "\t<tr><th scope=row>3</th><td>4.7</td><td>3.2</td><td>1.3</td><td>0.2</td><td>setosa</td></tr>\n",
       "\t<tr><th scope=row>4</th><td>4.6</td><td>3.1</td><td>1.5</td><td>0.2</td><td>setosa</td></tr>\n",
       "\t<tr><th scope=row>5</th><td>5.0</td><td>3.6</td><td>1.4</td><td>0.2</td><td>setosa</td></tr>\n",
       "\t<tr><th scope=row>6</th><td>5.4</td><td>3.9</td><td>1.7</td><td>0.4</td><td>setosa</td></tr>\n",
       "</tbody>\n",
       "</table>\n"
      ],
      "text/latex": [
       "A data.frame: 6 × 5\n",
       "\\begin{tabular}{r|lllll}\n",
       "  & Sepal.Length & Sepal.Width & Petal.Length & Petal.Width & Species\\\\\n",
       "  & <dbl> & <dbl> & <dbl> & <dbl> & <fct>\\\\\n",
       "\\hline\n",
       "\t1 & 5.1 & 3.5 & 1.4 & 0.2 & setosa\\\\\n",
       "\t2 & 4.9 & 3.0 & 1.4 & 0.2 & setosa\\\\\n",
       "\t3 & 4.7 & 3.2 & 1.3 & 0.2 & setosa\\\\\n",
       "\t4 & 4.6 & 3.1 & 1.5 & 0.2 & setosa\\\\\n",
       "\t5 & 5.0 & 3.6 & 1.4 & 0.2 & setosa\\\\\n",
       "\t6 & 5.4 & 3.9 & 1.7 & 0.4 & setosa\\\\\n",
       "\\end{tabular}\n"
      ],
      "text/markdown": [
       "\n",
       "A data.frame: 6 × 5\n",
       "\n",
       "| <!--/--> | Sepal.Length &lt;dbl&gt; | Sepal.Width &lt;dbl&gt; | Petal.Length &lt;dbl&gt; | Petal.Width &lt;dbl&gt; | Species &lt;fct&gt; |\n",
       "|---|---|---|---|---|---|\n",
       "| 1 | 5.1 | 3.5 | 1.4 | 0.2 | setosa |\n",
       "| 2 | 4.9 | 3.0 | 1.4 | 0.2 | setosa |\n",
       "| 3 | 4.7 | 3.2 | 1.3 | 0.2 | setosa |\n",
       "| 4 | 4.6 | 3.1 | 1.5 | 0.2 | setosa |\n",
       "| 5 | 5.0 | 3.6 | 1.4 | 0.2 | setosa |\n",
       "| 6 | 5.4 | 3.9 | 1.7 | 0.4 | setosa |\n",
       "\n"
      ],
      "text/plain": [
       "  Sepal.Length Sepal.Width Petal.Length Petal.Width Species\n",
       "1 5.1          3.5         1.4          0.2         setosa \n",
       "2 4.9          3.0         1.4          0.2         setosa \n",
       "3 4.7          3.2         1.3          0.2         setosa \n",
       "4 4.6          3.1         1.5          0.2         setosa \n",
       "5 5.0          3.6         1.4          0.2         setosa \n",
       "6 5.4          3.9         1.7          0.4         setosa "
      ]
     },
     "metadata": {},
     "output_type": "display_data"
    }
   ],
   "source": [
    "head(iris)"
   ]
  },
  {
   "cell_type": "code",
   "execution_count": 4,
   "metadata": {},
   "outputs": [
    {
     "data": {
      "image/png": "[encoded data removed]",
      "text/plain": [
       "plot without title"
      ]
     },
     "metadata": {
      "filenames": {
       "image/png": "/Users/Alvin/GoogleDrive/_MySyncDrive/Repository/python-notes/_build/jupyter_execute/python-basics/magic-r_5_0.png"
      },
      "image/png": {
       "height": 420,
       "width": 420
      }
     },
     "output_type": "display_data"
    }
   ],
   "source": [
    "ggplot(iris, aes(Species, Sepal.Length, fill=Species)) +\n",
    "geom_boxplot(notch=T)"
   ]
  },
  {
   "cell_type": "code",
   "execution_count": 6,
   "metadata": {},
   "outputs": [
    {
     "data": {
      "text/html": [
       "<table>\n",
       "<caption>A data.frame: 10 × 5</caption>\n",
       "<thead>\n",
       "\t<tr><th></th><th scope=col>Sepal.Length</th><th scope=col>Sepal.Width</th><th scope=col>Petal.Length</th><th scope=col>Petal.Width</th><th scope=col>Species</th></tr>\n",
       "\t<tr><th></th><th scope=col>&lt;dbl&gt;</th><th scope=col>&lt;dbl&gt;</th><th scope=col>&lt;dbl&gt;</th><th scope=col>&lt;dbl&gt;</th><th scope=col>&lt;fct&gt;</th></tr>\n",
       "</thead>\n",
       "<tbody>\n",
       "\t<tr><th scope=row>1</th><td>5.1</td><td>3.5</td><td>1.4</td><td>0.2</td><td>setosa</td></tr>\n",
       "\t<tr><th scope=row>2</th><td>5.4</td><td>3.9</td><td>1.7</td><td>0.4</td><td>setosa</td></tr>\n",
       "\t<tr><th scope=row>3</th><td>5.4</td><td>3.7</td><td>1.5</td><td>0.2</td><td>setosa</td></tr>\n",
       "\t<tr><th scope=row>4</th><td>5.8</td><td>4.0</td><td>1.2</td><td>0.2</td><td>setosa</td></tr>\n",
       "\t<tr><th scope=row>5</th><td>5.7</td><td>4.4</td><td>1.5</td><td>0.4</td><td>setosa</td></tr>\n",
       "\t<tr><th scope=row>6</th><td>5.4</td><td>3.9</td><td>1.3</td><td>0.4</td><td>setosa</td></tr>\n",
       "\t<tr><th scope=row>7</th><td>5.1</td><td>3.5</td><td>1.4</td><td>0.3</td><td>setosa</td></tr>\n",
       "\t<tr><th scope=row>8</th><td>5.7</td><td>3.8</td><td>1.7</td><td>0.3</td><td>setosa</td></tr>\n",
       "\t<tr><th scope=row>9</th><td>5.1</td><td>3.8</td><td>1.5</td><td>0.3</td><td>setosa</td></tr>\n",
       "\t<tr><th scope=row>10</th><td>5.4</td><td>3.4</td><td>1.7</td><td>0.2</td><td>setosa</td></tr>\n",
       "</tbody>\n",
       "</table>\n"
      ],
      "text/latex": [
       "A data.frame: 10 × 5\n",
       "\\begin{tabular}{r|lllll}\n",
       "  & Sepal.Length & Sepal.Width & Petal.Length & Petal.Width & Species\\\\\n",
       "  & <dbl> & <dbl> & <dbl> & <dbl> & <fct>\\\\\n",
       "\\hline\n",
       "\t1 & 5.1 & 3.5 & 1.4 & 0.2 & setosa\\\\\n",
       "\t2 & 5.4 & 3.9 & 1.7 & 0.4 & setosa\\\\\n",
       "\t3 & 5.4 & 3.7 & 1.5 & 0.2 & setosa\\\\\n",
       "\t4 & 5.8 & 4.0 & 1.2 & 0.2 & setosa\\\\\n",
       "\t5 & 5.7 & 4.4 & 1.5 & 0.4 & setosa\\\\\n",
       "\t6 & 5.4 & 3.9 & 1.3 & 0.4 & setosa\\\\\n",
       "\t7 & 5.1 & 3.5 & 1.4 & 0.3 & setosa\\\\\n",
       "\t8 & 5.7 & 3.8 & 1.7 & 0.3 & setosa\\\\\n",
       "\t9 & 5.1 & 3.8 & 1.5 & 0.3 & setosa\\\\\n",
       "\t10 & 5.4 & 3.4 & 1.7 & 0.2 & setosa\\\\\n",
       "\\end{tabular}\n"
      ],
      "text/markdown": [
       "\n",
       "A data.frame: 10 × 5\n",
       "\n",
       "| <!--/--> | Sepal.Length &lt;dbl&gt; | Sepal.Width &lt;dbl&gt; | Petal.Length &lt;dbl&gt; | Petal.Width &lt;dbl&gt; | Species &lt;fct&gt; |\n",
       "|---|---|---|---|---|---|\n",
       "| 1 | 5.1 | 3.5 | 1.4 | 0.2 | setosa |\n",
       "| 2 | 5.4 | 3.9 | 1.7 | 0.4 | setosa |\n",
       "| 3 | 5.4 | 3.7 | 1.5 | 0.2 | setosa |\n",
       "| 4 | 5.8 | 4.0 | 1.2 | 0.2 | setosa |\n",
       "| 5 | 5.7 | 4.4 | 1.5 | 0.4 | setosa |\n",
       "| 6 | 5.4 | 3.9 | 1.3 | 0.4 | setosa |\n",
       "| 7 | 5.1 | 3.5 | 1.4 | 0.3 | setosa |\n",
       "| 8 | 5.7 | 3.8 | 1.7 | 0.3 | setosa |\n",
       "| 9 | 5.1 | 3.8 | 1.5 | 0.3 | setosa |\n",
       "| 10 | 5.4 | 3.4 | 1.7 | 0.2 | setosa |\n",
       "\n"
      ],
      "text/plain": [
       "   Sepal.Length Sepal.Width Petal.Length Petal.Width Species\n",
       "1  5.1          3.5         1.4          0.2         setosa \n",
       "2  5.4          3.9         1.7          0.4         setosa \n",
       "3  5.4          3.7         1.5          0.2         setosa \n",
       "4  5.8          4.0         1.2          0.2         setosa \n",
       "5  5.7          4.4         1.5          0.4         setosa \n",
       "6  5.4          3.9         1.3          0.4         setosa \n",
       "7  5.1          3.5         1.4          0.3         setosa \n",
       "8  5.7          3.8         1.7          0.3         setosa \n",
       "9  5.1          3.8         1.5          0.3         setosa \n",
       "10 5.4          3.4         1.7          0.2         setosa "
      ]
     },
     "metadata": {},
     "output_type": "display_data"
    }
   ],
   "source": [
    "iris %>% \n",
    "filter(Sepal.Length > 5) %>% \n",
    "head(10)"
   ]
  }
 ],
 "metadata": {
  "kernelspec": {
   "display_name": "R",
   "language": "R",
   "name": "ir"
  },
  "language_info": {
   "codemirror_mode": "r",
   "file_extension": ".r",
   "mimetype": "text/x-r-source",
   "name": "R",
   "pygments_lexer": "r",
   "version": "3.6.3"
  },
  "toc": {
   "base_numbering": 1,
   "nav_menu": {},
   "number_sections": false,
   "sideBar": true,
   "skip_h1_title": false,
   "title_cell": "Table of Contents",
   "title_sidebar": "Contents",
   "toc_cell": false,
   "toc_position": {},
   "toc_section_display": true,
   "toc_window_display": false
  },
  "varInspector": {
   "cols": {
    "lenName": 16,
    "lenType": 16,
    "lenVar": 40
   },
   "kernels_config": {
    "python": {
     "delete_cmd_postfix": "",
     "delete_cmd_prefix": "del ",
     "library": "var_list.py",
     "varRefreshCmd": "print(var_dic_list())"
    },
    "r": {
     "delete_cmd_postfix": ") ",
     "delete_cmd_prefix": "rm(",
     "library": "var_list.r",
     "varRefreshCmd": "cat(var_dic_list()) "
    }
   },
   "types_to_exclude": [
    "module",
    "function",
    "builtin_function_or_method",
    "instance",
    "_Feature"
   ],
   "window_display": false
  }
 },
 "nbformat": 4,
 "nbformat_minor": 4
}