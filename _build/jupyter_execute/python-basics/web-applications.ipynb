{
 "cells": [
  {
   "cell_type": "markdown",
   "metadata": {},
   "source": [
    "# Web Applications\n",
    "\n",
    "- Several packages for building and developing web applications\n",
    "    - Django\n",
    "    - Flask\n",
    "    - Pelican\n",
    "- Recommended Readings\n",
    "    - [How to Create Your Data Science Blog with Pelican and Jupyter Notebooks](https://janakiev.com/blog/pelican-jupyter/)\n",
    "    - [From Pelican to Blogdown](https://juanitorduz.github.io/pelican_to_blogdown/)\n",
    "        - It seems that to accomplishment everything within Rstudio is really a plus for R!! \n"
   ]
  }
 ],
 "metadata": {
  "kernelspec": {
   "display_name": "Python 3",
   "language": "python",
   "name": "python3"
  },
  "language_info": {
   "codemirror_mode": {
    "name": "ipython",
    "version": 3
   },
   "file_extension": ".py",
   "mimetype": "text/x-python",
   "name": "python",
   "nbconvert_exporter": "python",
   "pygments_lexer": "ipython3",
   "version": "3.7.6"
  }
 },
 "nbformat": 4,
 "nbformat_minor": 4
}