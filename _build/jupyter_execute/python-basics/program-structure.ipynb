{
 "cells": [
  {
   "cell_type": "markdown",
   "metadata": {},
   "source": [
    "# Program Structure\n",
    "\n",
    "- A quick overview of control sturctures in Python"
   ]
  },
  {
   "cell_type": "markdown",
   "metadata": {},
   "source": [
    "## If- structure\n",
    "\n",
    "- Format\n",
    "\n",
    "```\n",
    "if test:\n",
    "    DoThis()\n",
    "elseif test:\n",
    "    DoThat()\n",
    "else:\n",
    "    pass\n",
    "```"
   ]
  },
  {
   "cell_type": "markdown",
   "metadata": {},
   "source": [
    "## Types of Test\n",
    "\n",
    "```\n",
    "# comparisons\n",
    "a > b\n",
    "a == b\n",
    "a != b\n",
    "\n",
    "# membership\n",
    "a in b\n",
    "a not in b\n",
    "\n",
    "# len check\n",
    "len(x) > 5\n",
    "\n",
    "# boolean value\n",
    "fileopen\n",
    "not fileopen\n",
    "\n",
    "# Validation\n",
    "x.isalpha()\n",
    "x.isdigit()\n",
    "\n",
    "# Calculation\n",
    "(a*b) > 100.0\n",
    "## use braces to force the calculation\n",
    "\n",
    "# Combining Tests\n",
    "and, or, not\n",
    "```"
   ]
  },
  {
   "cell_type": "markdown",
   "metadata": {},
   "source": [
    "## For Statement\n"
   ]
  },
  {
   "cell_type": "code",
   "execution_count": 7,
   "metadata": {},
   "outputs": [
    {
     "name": "stdout",
     "output_type": "stream",
     "text": [
      "Julia has passed 1.000000 test\n",
      "Julia has passed 2.000000 test\n",
      "Julia has passed 3.000000 test\n",
      "Julia has passed 4.000000 test\n",
      "Jane has passed 1.000000 test\n",
      "Jane has passed 2.000000 test\n",
      "Jane has passed 3.000000 test\n",
      "Jane has passed 4.000000 test\n",
      "Tom has passed 1.000000 test\n",
      "Tom has passed 2.000000 test\n",
      "Tom has passed 3.000000 test\n",
      "Tom has passed 4.000000 test\n",
      "Dickson has passed 1.000000 test\n",
      "Dickson has passed 2.000000 test\n",
      "Dickson has passed 3.000000 test\n",
      "Dickson has passed 4.000000 test\n",
      "Harry has passed 1.000000 test\n",
      "Harry has passed 2.000000 test\n",
      "Harry has passed 3.000000 test\n",
      "Harry has passed 4.000000 test\n"
     ]
    }
   ],
   "source": [
    "names = ['Julia','Jane','Tom','Dickson','Harry']\n",
    "tnum = range(1,5)\n",
    "for p in names:\n",
    "    for tn in tnum:\n",
    "        print('%s has passed %f test' % (p, tn))\n",
    "    "
   ]
  },
  {
   "cell_type": "code",
   "execution_count": 10,
   "metadata": {},
   "outputs": [
    {
     "name": "stdout",
     "output_type": "stream",
     "text": [
      "Julia has passed 1 test(s)\n",
      "Jane has passed 2 test(s)\n",
      "Tom has passed 3 test(s)\n",
      "Dickson has passed 4 test(s)\n"
     ]
    }
   ],
   "source": [
    "import itertools\n",
    "\n",
    "for (p, tn) in zip(names, tnum):\n",
    "    print('%s has passed %.0f test(s)' % (p, tn))"
   ]
  },
  {
   "cell_type": "markdown",
   "metadata": {},
   "source": [
    "```{tip}\n",
    "Using `tqdm`in for-loop can give us a progress bar in the iteration process.\n",
    "```"
   ]
  },
  {
   "cell_type": "code",
   "execution_count": null,
   "metadata": {},
   "outputs": [],
   "source": [
    "from tqdm import tqdm \n",
    "for i in tqdm(range(10000)): \n",
    "sleep(0.01) "
   ]
  },
  {
   "cell_type": "markdown",
   "metadata": {},
   "source": [
    "## While Statement"
   ]
  },
  {
   "cell_type": "code",
   "execution_count": 12,
   "metadata": {},
   "outputs": [
    {
     "name": "stdout",
     "output_type": "stream",
     "text": [
      "5\n",
      "4\n",
      "3\n",
      "2\n",
      "1\n"
     ]
    }
   ],
   "source": [
    "n=5\n",
    "while n > 0:\n",
    "    print(n)\n",
    "    n-=1"
   ]
  },
  {
   "cell_type": "code",
   "execution_count": 15,
   "metadata": {},
   "outputs": [
    {
     "name": "stdout",
     "output_type": "stream",
     "text": [
      "5\n",
      "4\n",
      "3\n",
      "2\n",
      "1\n",
      "0\n"
     ]
    }
   ],
   "source": [
    "n=5\n",
    "\n",
    "while not n < 0:\n",
    "    print(n)\n",
    "    n-=1"
   ]
  },
  {
   "cell_type": "markdown",
   "metadata": {},
   "source": [
    "## Break Statement\n"
   ]
  },
  {
   "cell_type": "code",
   "execution_count": 25,
   "metadata": {},
   "outputs": [
    {
     "name": "stdout",
     "output_type": "stream",
     "text": [
      "Enter Command:exit\n",
      "bye\n"
     ]
    }
   ],
   "source": [
    "\n",
    "def doCommand(s):\n",
    "    print('Hay %s! You are in the system now!!' % s)\n",
    "\n",
    "while True:\n",
    "    command=input('Enter your name:')\n",
    "    if command=='exit':\n",
    "        break\n",
    "    else:\n",
    "        doCommand(command)\n",
    "print('bye')"
   ]
  },
  {
   "cell_type": "code",
   "execution_count": 30,
   "metadata": {},
   "outputs": [
    {
     "name": "stdout",
     "output_type": "stream",
     "text": [
      "Enter your name:exit\n",
      "Goodbye!\n",
      "bye\n"
     ]
    }
   ],
   "source": [
    "while True:\n",
    "    command=input('Enter your name:')\n",
    "    if len(command)==0:\n",
    "        continue\n",
    "    elif command=='exit':\n",
    "        print('Goodbye!')\n",
    "        break\n",
    "    else:\n",
    "        doCommand(command)\n",
    "print('bye')"
   ]
  },
  {
   "cell_type": "markdown",
   "metadata": {},
   "source": [
    "## List Comprehensions\n",
    "\n",
    "- A *list comprehension* is a way of dynamically creating a list elements in an elegant shorthand.\n",
    "\n",
    "```\n",
    "[expr for element in iterable if condition]\n",
    "```"
   ]
  },
  {
   "cell_type": "code",
   "execution_count": 35,
   "metadata": {},
   "outputs": [
    {
     "name": "stdout",
     "output_type": "stream",
     "text": [
      "[1, 4, 9, 16, 25, 36, 49, 64, 81]\n",
      "[4, 16, 36, 64]\n",
      "['T', 'H', 'I', 'S', ' ', 'I', 'S', ' ', ' ', 'S', 'M', 'P', 'L', 'E', ' ', 'S', 'E', 'N', 'T', 'E', 'N', 'C', 'E', ' ', 'L', 'O', 'N', 'G', ' ', 'S', 'T', 'R', 'I', 'N', 'G', '.']\n"
     ]
    }
   ],
   "source": [
    "squares = [i**2 for i in range(1,10)]\n",
    "print(squares)\n",
    "\n",
    "squares2 = [i**2 for i in range(1,10) if not i % 2]\n",
    "print(squares2)\n",
    "\n",
    "text = 'This is a sample sentence long string.'\n",
    "\n",
    "print([i.upper() for i in text if i.find('a')])"
   ]
  },
  {
   "cell_type": "markdown",
   "metadata": {},
   "source": [
    "## Functions\n",
    "\n",
    "```\n",
    "def FUNCTION_NAME:\n",
    "    PROCDURES\n",
    "    \n",
    "    reutrn RETURN_VALUES\n",
    "```"
   ]
  }
 ],
 "metadata": {
  "kernelspec": {
   "display_name": "Python 3",
   "language": "python",
   "name": "python3"
  },
  "language_info": {
   "codemirror_mode": {
    "name": "ipython",
    "version": 3
   },
   "file_extension": ".py",
   "mimetype": "text/x-python",
   "name": "python",
   "nbconvert_exporter": "python",
   "pygments_lexer": "ipython3",
   "version": "3.7.6"
  }
 },
 "nbformat": 4,
 "nbformat_minor": 4
}