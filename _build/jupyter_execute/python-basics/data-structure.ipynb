{
 "cells": [
  {
   "cell_type": "markdown",
   "metadata": {},
   "source": [
    "# Data Structure\n",
    "\n",
    "- A quick overview of important data structures in Python\n"
   ]
  },
  {
   "cell_type": "markdown",
   "metadata": {},
   "source": [
    "## General Functions"
   ]
  },
  {
   "cell_type": "code",
   "execution_count": 1,
   "metadata": {},
   "outputs": [
    {
     "data": {
      "text/plain": [
       "list"
      ]
     },
     "execution_count": 1,
     "metadata": {},
     "output_type": "execute_result"
    }
   ],
   "source": [
    "## Check object types\n",
    "type(23)\n",
    "type('some texts')\n",
    "c = [1, 2, 'some text']\n",
    "type(c)"
   ]
  },
  {
   "cell_type": "markdown",
   "metadata": {},
   "source": [
    "## Basic Structures"
   ]
  },
  {
   "cell_type": "code",
   "execution_count": 2,
   "metadata": {},
   "outputs": [
    {
     "data": {
      "text/plain": [
       "{'one': 1, 'two': 2}"
      ]
     },
     "execution_count": 2,
     "metadata": {},
     "output_type": "execute_result"
    }
   ],
   "source": [
    "## Factory functions\n",
    "int(4.0)\n",
    "str(4)\n",
    "list()\n",
    "tuple('international')\n",
    "dict(one=1, two=2)"
   ]
  },
  {
   "cell_type": "code",
   "execution_count": 3,
   "metadata": {},
   "outputs": [
    {
     "data": {
      "text/plain": [
       "7"
      ]
     },
     "execution_count": 3,
     "metadata": {},
     "output_type": "execute_result"
    }
   ],
   "source": [
    "## Operations\n",
    "\n",
    "## Modulus\n",
    "15 % 4\n",
    "## Exponentiation\n",
    "4 ** 3\n",
    "-4 ** 2 # minus applies to the result\n",
    "(-4)**2\n",
    "\n",
    "## Random numbers\n",
    "import random\n",
    "random.randint(1,10)"
   ]
  },
  {
   "cell_type": "markdown",
   "metadata": {},
   "source": [
    "## `str` Object"
   ]
  },
  {
   "cell_type": "code",
   "execution_count": 4,
   "metadata": {},
   "outputs": [
    {
     "name": "stdout",
     "output_type": "stream",
     "text": [
      "\\O\n",
      "\t\n",
      "\n",
      "\n",
      "'\n",
      "\"\n",
      "\\\n",
      "This is the first sentence\n",
      "This is a second.\n",
      "And A third. \n"
     ]
    },
    {
     "data": {
      "text/plain": [
       "'The toy is 1234.568 meters long'"
      ]
     },
     "execution_count": 4,
     "metadata": {},
     "output_type": "execute_result"
    }
   ],
   "source": [
    "## Sequences\n",
    "\n",
    "## Membership\n",
    "'a' in 'track'\n",
    "9 in [1, 2, 3, 4]\n",
    "9 not in [1, 2, 3, 4]\n",
    "\n",
    "## Concatenation\n",
    "'this' + 'is'\n",
    "' '.join(['this','is'])\n",
    "\n",
    "## Subsetting Sequences\n",
    "mylist = ['a', 'b','c','a word','e']\n",
    "mylist[1]\n",
    "mylist[0]\n",
    "mylist[-1]\n",
    "mylist[:3]\n",
    "mylist[3][2:6]\n",
    "\n",
    "##Strings\n",
    "mystr = '   This is a seentence sample.  '\n",
    "mystr.capitalize()\n",
    "mystr.title()\n",
    "mystr.upper()\n",
    "mystr.lower()\n",
    "mystr.rstrip()\n",
    "mystr.lstrip()\n",
    "mystr.strip()\n",
    "mystr.find('is')\n",
    "mystr.replace('is','was')\n",
    "\n",
    "## String Comparison\n",
    "## sapce > num > upper > lower\n",
    "' ' > '0'\n",
    "'0' > 'a'\n",
    "'z' > 'm'\n",
    "'m' > 'M'\n",
    "\n",
    "## Special Characters\n",
    "print('\\O')\n",
    "print('\\t')\n",
    "print('\\n')\n",
    "print('\\'')\n",
    "print('\\\"')\n",
    "print('\\\\')\n",
    "\n",
    "### Triple Quotes\n",
    "\n",
    "multiline = \"\"\"This is the first sentence\n",
    "This is a second.\n",
    "And A third. \"\"\"\n",
    "\n",
    "print(multiline)\n",
    "\n",
    "### Format Strings\n",
    "##`formatstring % (arguments to format)`\n",
    "ntoys = 4\n",
    "myname = 'Alvin'\n",
    "length = 1234.5678\n",
    "'%s has %d types' % (myname, ntoys)\n",
    "'The toy is %.3f meters long' % (length)\n"
   ]
  },
  {
   "cell_type": "markdown",
   "metadata": {},
   "source": [
    "## List\n",
    "\n",
    "- A List is typically a sequence of objects all having the same type, of arbitrary length\n",
    "- Mutable\n"
   ]
  },
  {
   "cell_type": "code",
   "execution_count": 5,
   "metadata": {},
   "outputs": [
    {
     "name": "stdout",
     "output_type": "stream",
     "text": [
      "['Tom', 'John']\n",
      "John\n",
      "['Tom']\n"
     ]
    },
    {
     "data": {
      "text/plain": [
       "0"
      ]
     },
     "execution_count": 5,
     "metadata": {},
     "output_type": "execute_result"
    }
   ],
   "source": [
    "## Lists\n",
    "list_empty = []\n",
    "list_strings = ['Amy', 'Emma','Jane']\n",
    "list_mixed = ['Amy','Emma', 5, 6]\n",
    "list_embeded = [1, 3, 4, [99, 100, 101]]\n",
    "len(list_empty)\n",
    "len(list_mixed)\n",
    "len(list_embeded)\n",
    "\n",
    "## List operations\n",
    "list_empty.append('Tom')\n",
    "list_empty.append('John')\n",
    "print(list_empty)\n",
    "print(list_empty[1])\n",
    "del list_empty[1]\n",
    "print(list_empty)\n",
    "list_mixed.index('Amy')\n",
    "# list_mixed.index('Alvin')\n",
    "\n",
    "## Other functions\n",
    "## max(), min(), sum(), sorted(), reversed()"
   ]
  },
  {
   "cell_type": "markdown",
   "metadata": {},
   "source": [
    "## Tuples\n",
    "- A Tuple is typically a collection of objects of different types, of fixed length\n",
    "- Immutable"
   ]
  },
  {
   "cell_type": "code",
   "execution_count": 6,
   "metadata": {},
   "outputs": [
    {
     "name": "stdout",
     "output_type": "stream",
     "text": [
      "(1, 'mon', ['feb', 2])\n"
     ]
    },
    {
     "data": {
      "text/plain": [
       "3"
      ]
     },
     "execution_count": 6,
     "metadata": {},
     "output_type": "execute_result"
    }
   ],
   "source": [
    "## Tuples\n",
    "\n",
    "tuple_numbers = (1,2,3,4,5,6,7)\n",
    "tuple_strings = ('mon','tue','wed','thu','fri','sat','sun')\n",
    "tuple_mixed = (1, 'mon', ['feb', 2])\n",
    "print(tuple_mixed)\n",
    "len(tuple_mixed)"
   ]
  },
  {
   "cell_type": "markdown",
   "metadata": {},
   "source": [
    "## Dictionary"
   ]
  },
  {
   "cell_type": "code",
   "execution_count": 7,
   "metadata": {},
   "outputs": [
    {
     "data": {
      "text/plain": [
       "'NA'"
      ]
     },
     "execution_count": 7,
     "metadata": {},
     "output_type": "execute_result"
    }
   ],
   "source": [
    "## Dictionary\n",
    "\n",
    "dict_days = {'M': 'Monday', 'T':'Tuesday', 'W':'Wednesday'}\n",
    "dict_days['M']\n",
    "#dict_days['S']\n",
    "dict_days['S']='Sunday'\n",
    "dict_days['S']\n",
    "'A' in dict_days\n",
    "dict_days.keys()\n",
    "dict_days.values()\n",
    "dict_days.get('A','NA')"
   ]
  },
  {
   "cell_type": "markdown",
   "metadata": {},
   "source": [
    "## String Formatting"
   ]
  },
  {
   "cell_type": "code",
   "execution_count": 8,
   "metadata": {},
   "outputs": [
    {
     "name": "stdout",
     "output_type": "stream",
     "text": [
      "Hello, Alvin! This is your No.5 book!\n",
      "An apple a day keeps the doctor away.\n",
      "An doctor a day keeps the apple away.\n",
      "The book is difficult!\n",
      "Jack: 45\n",
      "Jack: 45Jessica: 78\n"
     ]
    }
   ],
   "source": [
    "## Format strings\n",
    "print('Hello, {}! This is your No.{} book!'.format('Alvin',5))\n",
    "print('An {0} a day keeps the {1} away.'.format('apple','doctor'))\n",
    "print('An {1} a day keeps the {0} away.'.format('apple','doctor'))\n",
    "print('The {noun} is {adj}!'.format(noun='book',adj='difficult'))\n",
    "\n",
    "## Format strings with Dictionary\n",
    "table = {'John': 98, 'Mary': 30, 'Jessica': 78, 'Goerge': 89, 'Jack': 45}\n",
    "print('Jack: {0[Jack]:d}'.format(table))\n",
    "print('Jack: {Jack:d}Jessica: {Jessica:d}'.format(**table))"
   ]
  },
  {
   "cell_type": "code",
   "execution_count": 9,
   "metadata": {},
   "outputs": [
    {
     "name": "stdout",
     "output_type": "stream",
     "text": [
      " 美國大選首場總統辯論今晚登場，辯論會上\n",
      "總統川普頻頻插話，並與對手拜登互相人身攻\n",
      "擊，兩人鬥嘴不斷。美國有線電視新聞網（C\n",
      "NN）主持人直呼，這是史上最混亂總統辯論\n",
      "。 總統辯論一向被視為美國大選最重要環節\n",
      "之一，不少選民專心聆聽候選人政見，並為他\n",
      "們颱風及口條打分數。不過，今晚在俄亥俄州\n",
      "克里夫蘭市（Cleveland）登場的首\n",
      "場總統辯論，恐怕讓許多民眾直搖頭。 90\n",
      "分鐘辯論開始沒多久，總統川普與民主黨總統\n",
      "候選人拜登（Joe Biden）就吵個不\n",
      "停。川普頻頻插話並對拜登展開人身攻擊，不\n",
      "只酸拜登造勢活動只有兩三隻小貓，並指他一\n",
      "點都不聰明；拜登則多次面露不耐要川普「閉\n",
      "嘴」，並稱他是個「小丑」（clown）。\n"
     ]
    }
   ],
   "source": [
    "# wrapping strings\n",
    "import textwrap\n",
    "sentence= '''\n",
    "美國大選首場總統辯論今晚登場，辯論會上總統川普頻頻插話，並與對手拜登互相人身攻擊，兩人鬥嘴不斷。美國有線電視新聞網（CNN）主持人直呼，這是史上最混亂總統辯論。\n",
    "總統辯論一向被視為美國大選最重要環節之一，不少選民專心聆聽候選人政見，並為他們颱風及口條打分數。不過，今晚在俄亥俄州克里夫蘭市（Cleveland）登場的首場總統辯論，恐怕讓許多民眾直搖頭。\n",
    "90分鐘辯論開始沒多久，總統川普與民主黨總統候選人拜登（Joe Biden）就吵個不停。川普頻頻插話並對拜登展開人身攻擊，不只酸拜登造勢活動只有兩三隻小貓，並指他一點都不聰明；拜登則多次面露不耐要川普「閉嘴」，並稱他是個「小丑」（clown）。'''\n",
    "\n",
    "print(textwrap.fill(sentence, 20))"
   ]
  },
  {
   "cell_type": "code",
   "execution_count": 10,
   "metadata": {},
   "outputs": [
    {
     "name": "stdout",
     "output_type": "stream",
     "text": [
      "The value of pi is 3.14\n"
     ]
    }
   ],
   "source": [
    "## Old string formatting\n",
    "import math\n",
    "print('The value of pi is %1.2f' % math.pi) # specify number of digits before and after ."
   ]
  },
  {
   "cell_type": "markdown",
   "metadata": {},
   "source": [
    "## Requirements"
   ]
  },
  {
   "cell_type": "code",
   "execution_count": 11,
   "metadata": {
    "tags": [
     "remove-input"
    ]
   },
   "outputs": [
    {
     "name": "stdout",
     "output_type": "stream",
     "text": [
      "numpy==1.18.1\n"
     ]
    }
   ],
   "source": [
    "# %load get_modules.py\n",
    "import pkg_resources\n",
    "import types\n",
    "def get_imports():\n",
    "    for name, val in globals().items():\n",
    "        if isinstance(val, types.ModuleType):\n",
    "            # Split ensures you get root package, \n",
    "            # not just imported function\n",
    "            name = val.__name__.split(\".\")[0]\n",
    "\n",
    "        elif isinstance(val, type):\n",
    "            name = val.__module__.split(\".\")[0]\n",
    "\n",
    "        # Some packages are weird and have different\n",
    "        # imported names vs. system/pip names. Unfortunately,\n",
    "        # there is no systematic way to get pip names from\n",
    "        # a package's imported name. You'll have to add\n",
    "        # exceptions to this list manually!\n",
    "        poorly_named_packages = {\n",
    "            \"PIL\": \"Pillow\",\n",
    "            \"sklearn\": \"scikit-learn\"\n",
    "        }\n",
    "        if name in poorly_named_packages.keys():\n",
    "            name = poorly_named_packages[name]\n",
    "\n",
    "        yield name\n",
    "        \n",
    "        \n",
    "imports = list(set(get_imports()))\n",
    "\n",
    "# The only way I found to get the version of the root package\n",
    "# from only the name of the package is to cross-check the names \n",
    "# of installed packages vs. imported packages\n",
    "requirements = []\n",
    "for m in pkg_resources.working_set:\n",
    "    if m.project_name in imports and m.project_name!=\"pip\":\n",
    "        requirements.append((m.project_name, m.version))\n",
    "\n",
    "for r in requirements:\n",
    "    print(\"{}=={}\".format(*r))"
   ]
  }
 ],
 "metadata": {
  "celltoolbar": "Tags",
  "kernelspec": {
   "display_name": "Python 3",
   "language": "python",
   "name": "python3"
  },
  "language_info": {
   "codemirror_mode": {
    "name": "ipython",
    "version": 3
   },
   "file_extension": ".py",
   "mimetype": "text/x-python",
   "name": "python",
   "nbconvert_exporter": "python",
   "pygments_lexer": "ipython3",
   "version": "3.7.6"
  },
  "toc": {
   "base_numbering": 1,
   "nav_menu": {},
   "number_sections": false,
   "sideBar": true,
   "skip_h1_title": false,
   "title_cell": "Table of Contents",
   "title_sidebar": "Contents",
   "toc_cell": false,
   "toc_position": {},
   "toc_section_display": true,
   "toc_window_display": true
  },
  "varInspector": {
   "cols": {
    "lenName": 16,
    "lenType": 16,
    "lenVar": 40
   },
   "kernels_config": {
    "python": {
     "delete_cmd_postfix": "",
     "delete_cmd_prefix": "del ",
     "library": "var_list.py",
     "varRefreshCmd": "print(var_dic_list())"
    },
    "r": {
     "delete_cmd_postfix": ") ",
     "delete_cmd_prefix": "rm(",
     "library": "var_list.r",
     "varRefreshCmd": "cat(var_dic_list()) "
    }
   },
   "types_to_exclude": [
    "module",
    "function",
    "builtin_function_or_method",
    "instance",
    "_Feature"
   ],
   "window_display": false
  }
 },
 "nbformat": 4,
 "nbformat_minor": 4
}