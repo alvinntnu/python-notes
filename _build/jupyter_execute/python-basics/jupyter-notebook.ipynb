{
 "cells": [
  {
   "cell_type": "markdown",
   "metadata": {},
   "source": [
    "# Jupyer Notebook\n",
    "\n",
    "- This section includes notes on how to use `Jupyter Notebook` as well as `jupyter-book`.\n",
    "\n",
    "- Recommended Readings:\n",
    "    - [Jupyter Notebook Tips and Tricks](https://www.dataquest.io/blog/jupyter-notebook-tips-tricks-shortcuts/)\n",
    "    - [Notebook to slides](https://medium.com/pyradise/jupyter-notebook-tricks-slideshows-a057a39c0a23)\n",
    "    - Check notebook extension documentations (Very useful) (See {ref}`nbextensions`)\n",
    "\n"
   ]
  },
  {
   "cell_type": "markdown",
   "metadata": {},
   "source": [
    "## Keyboard Shortcuts\n",
    "\n",
    "- `Cmd + Shift + P`: Look up key shortcuts\n",
    "- `Esc`: Get into command mode\n",
    "- `Enter`: Get into edit mode\n",
    "- While in command mode:\n",
    "    - `A`: insert a new cell above\n",
    "    - `B`: insert a new cell below\n",
    "    - `DD`: delete the current cell\n",
    "- `Shift + Tab`: Documentation (Docstring) of the object\n",
    "- `Ctrl + Shift + -`: Split cells\n",
    "- `Esc + F`: Find and replace\n",
    "- `Esc + O`: Toggle cell outputs\n",
    "- `Shift + UP/DOWN`: select multiple cells\n",
    "\n",
    "- `Shift + M`: Merge multiple cells\n",
    "- `Y`: Change cell to code\n",
    "- `M`: Change cell to markdown"
   ]
  },
  {
   "cell_type": "markdown",
   "metadata": {},
   "source": [
    "## Citation\n",
    "\n",
    "- In-text citation\n",
    "\n",
    "An example of in-text citation \n",
    "\n",
    "```\n",
    "{cite}`deyne2016`.\n",
    "```\n",
    "\n",
    "\n",
    "- Bibliography\n",
    "\n",
    "To include the bibliography at the end of the file):\n",
    "\n",
    "```\n",
    "{bibliography} book.bib\n",
    ":filter: docname in docnames\n",
    ":style: unsrt\n",
    "```\n"
   ]
  },
  {
   "cell_type": "markdown",
   "metadata": {},
   "source": [
    "## Special Blocks in Jupyer Book\n",
    "\n",
    "\n",
    "- [sphinx-book-theme documentation](https://sphinx-book-theme.readthedocs.io/en/latest/reference/demo.html#admonitions)\n",
    "- `note`\n",
    "- `warning`\n",
    "- `caution`\n",
    "- `danger`\n",
    "- `error`\n",
    "- `hint`\n",
    "- `important`\n",
    "- `tip`\n",
    "- self-defined `admonition`"
   ]
  },
  {
   "cell_type": "markdown",
   "metadata": {},
   "source": [
    "## Add Images/Figures\n",
    "\n",
    "- [Documentation](https://jupyterbook.org/content/figures.html)"
   ]
  },
  {
   "cell_type": "markdown",
   "metadata": {},
   "source": [
    "## Cross-reference and Citations\n",
    "\n",
    "- Add labels before the bookmarked positions (e.g., sections):\n",
    "\n",
    "```\n",
    "(LABEL_NAME)=\n",
    "```\n",
    "\n",
    "- Cross-reference:\n",
    "\n",
    "```\n",
    "{ref}`LABEL_NAME`\n",
    "```"
   ]
  },
  {
   "cell_type": "markdown",
   "metadata": {},
   "source": [
    "## Build the book\n",
    "\n",
    "- Open the `terminal` and set to the root of the book directory\n",
    "- Build the book\n",
    "```\n",
    "$ jupyter-book build .\n",
    "```\n",
    "\n",
    "- Push to GitHub\n",
    "```\n",
    "$ git add .\n",
    "$ git commit -m \"XXX\"\n",
    "$ git push origin master\n",
    "```\n",
    "\n",
    "- Create GitHub Pages html files as a branch\n",
    "```\n",
    "$ git-ghp -n -p -f _build/html\n",
    "```\n",
    "\n",
    "- Updates the github pages\n",
    "    - build the jupyter book\n",
    "    - update the repository by pushing all changes\n",
    "    - update the github pages via\n",
    "    ```\n",
    "    $ ghp-import -n -p -f _/build/html\n",
    "    ```"
   ]
  },
  {
   "cell_type": "markdown",
   "metadata": {},
   "source": [
    "## Publish Jupyter-book on Github\n",
    "\n",
    "- Documentations\n",
    "    - [Official documentation](https://jupyterbook.org/publish/gh-pages.html)\n",
    "    - [Adding existing projects to Github repo](https://docs.github.com/en/github/importing-your-projects-to-github/adding-an-existing-project-to-github-using-the-command-line)\n",
    "- Important Steps\n",
    "    - Create an empty repo on Github\n",
    "    - Open Terminal.\n",
    "    - Change the current working directory to your local project.\n",
    "    - Initialize the local directory as a Git repository: \n",
    "    \n",
    "    ```\n",
    "    $ git init\n",
    "    ```\n",
    "    \n",
    "    - Add commmits:\n",
    "    \n",
    "    ```\n",
    "    $ git add .\n",
    "    ```\n",
    "    \n",
    "    - To unstage a file, use 'git reset HEAD YOUR-FILE'.\n",
    "    \n",
    "    ```\n",
    "    $ git commit -m \"First commit\"\n",
    "    ```\n",
    "\n",
    "    - Add the Github remote URL to the project local directory and verify it\n",
    "    \n",
    "    ```\n",
    "    $ git remote add origin remote repository URL\n",
    "    $ git remote -v\n",
    "    ```\n",
    "    \n",
    "    - Push changes\n",
    "    ```\n",
    "    $ git push -u origin master\n",
    "    ```\n",
    "\n",
    "\n",
    "    "
   ]
  },
  {
   "cell_type": "markdown",
   "metadata": {},
   "source": [
    "##  Publish the book as Github Pages\n",
    "\n",
    "- Install `ghp-import`\n",
    "```\n",
    "$ pip install ghp-import\n",
    "```\n",
    "\n",
    "- Create a branch of the repo called gh-pages and pushes to GitHub\n",
    "```\n",
    "$ git-ghp -n -p -f _build/html\n",
    "$ ghp-import -n -p -f _build/html\n",
    "```\n",
    "\n",
    "```{note}\n",
    "The `-n` refers to \"not Jekyll\"\n",
    "```"
   ]
  },
  {
   "cell_type": "markdown",
   "metadata": {},
   "source": [
    "## Change Notebook Themes\n",
    "\n",
    "- Install `jupyterthemes`\n",
    "\n",
    "```\n",
    "$ pip install jupyterthemes\n",
    "```\n",
    "\n",
    "- Change themes\n",
    "\n",
    "To preserve the toolbars (`-T`), Logo (`-N`), and kernel logo (`-kl`)\n",
    "\n",
    "```\n",
    "$ jt -l\n",
    "$ jt -t monokai (-T -N -kl)\n",
    "```\n",
    "\n",
    "- Restart the browser after setting the new theme\n",
    "- List of available theme names\n",
    "    - onedork\n",
    "    - grade3\n",
    "    - oceans16\n",
    "    - chesterish\n",
    "    - monokai\n",
    "    - solarizedl\n",
    "    - solarized\n",
    "- Reset to the original default theme:\n",
    "```\n",
    "$ jt -r\n",
    "```"
   ]
  },
  {
   "cell_type": "markdown",
   "metadata": {},
   "source": [
    "## Use a specific environment in notebook\n",
    "\n",
    "- First, create a new environment\n",
    "```\n",
    "! conda create --name ENV_NAME python=3.6\n",
    "```\n",
    "- Activate the new envrionment\n",
    "```\n",
    "$ source activate ENV_NAME\n",
    "```\n",
    "\n",
    "- install `ipykernal`\n",
    "```\n",
    "$ pip install --user ipykernel\n",
    "```\n",
    "\n",
    "- Add the environment kernal to Jupyter\n",
    "```\n",
    "$ python -m ipykernel install --user --name=myenv\n",
    "```\n",
    "\n",
    "- Check current environment kernels in Jupyter\n",
    "```\n",
    "$ jupyter kernelspec list\n",
    "```\n",
    "\n",
    "- Remove an environment from Jupyter kernel list\n",
    "```\n",
    "$ jupyter kernelspec uninstall myenv\n",
    "```\n",
    "\n",
    "```{note}\n",
    "Sometimes, the pre-existing conda environment does not work properly. An easy solution is to create the environment again after you set up the jupyter notebook. It is recommended to always create a new virtual environment for a new project.\n",
    "```\n",
    "\n",
    "- Update `conda`:\n",
    "\n",
    "```\n",
    "!conda update -n base -c defaults conda\n",
    "```\n"
   ]
  },
  {
   "cell_type": "markdown",
   "metadata": {},
   "source": [
    "(nbextensions)=\n",
    "\n",
    "## Install Notebook Extensions\n",
    "\n",
    "- [nbextensions documentation](https://jupyter-contrib-nbextensions.readthedocs.io/en/latest/install.html)\n",
    "\n",
    "- There are in general three steps\n",
    "    - Install the modudle `jupyter_contribe_nbextensions`\n",
    "    - Install javascript and css files\n",
    "    - Enable specific extensions\n",
    "```\n",
    "$ pip install jupyter_contrib_nbextensions\n",
    "$ jupyter contrib nbextension install --user\n",
    "$ jupyter nbextension enable <nbextension require path>\n",
    "```\n",
    "\n",
    "- Use `jupyter_extensions_configuaror` to manguage the extensions\n",
    "- Recommended extensions:\n",
    "    - `varInspector`: very useful to check objects in the current memory of the kernel.\n",
    "    - `ScratchPad`: very good for debugging in notebook\n",
    "    - `Table on Content (2)`: Good to view the outline structure of the notebook file.\n",
    "    - `Spellchker`\n",
    "    - `Live Markdown Preview`"
   ]
  },
  {
   "cell_type": "markdown",
   "metadata": {},
   "source": [
    "## IPython Magic Commands\n",
    "\n",
    "- Magic commands from IPython\n",
    "- Useful magic commands:\n",
    "    ```\n",
    "    # list all env variables\n",
    "    %evn\n",
    "    # set env variable\n",
    "    %env OMP_NUM_THREADS=4\n",
    "    ```\n",
    "- Run external python codes/files\n",
    "    ```\n",
    "    %run ./hello-world.py\n",
    "    ```\n",
    "- Insert code from an external script\n",
    "    ```\n",
    "    %load SCRIPT_NAME\n",
    "    ```\n",
    "- Time the process\n",
    "    ```\n",
    "    ## Time the single run of the code in the cell\n",
    "    %%time\n",
    "    ## Run a statement 100,000 times by default and provide the mean of the fastest three times\n",
    "    %timeit\n",
    "    ## Shoe how much time your program spent in each function\n",
    "    %prun STATEMENT_NAME\n",
    "    ```\n",
    "- Write files\n",
    "    ```\n",
    "    %%writefile FILENAME\n",
    "    ## save contents of the cell to an external file\n",
    "    %pycat\n",
    "    ## show the syntax highlighted contents of an external file\n",
    "    ```\n",
    "- Debugging `%pdb`\n",
    "- Render high-resolution graphs for Retina screens\n",
    "    ```\n",
    "    %config InlineBackend.figure_format = 'retina'\n",
    "    ```\n",
    "- Run shell commands\n",
    "    ```\n",
    "    !ls *.ipynb\n",
    "    ```\n",
    "- LaTex formula automatic rendering in markdown\n",
    "\n",
    "    $P(A \\mid B) = \\frac{P(B \\mid A) P(A)}{P(B)}$\n"
   ]
  },
  {
   "cell_type": "markdown",
   "metadata": {},
   "source": [
    "## Hide or Remove Content\n",
    "\n",
    "- See [Jupyterbook Documentation](https://jupyterbook.org/interactive/hiding.html)"
   ]
  },
  {
   "cell_type": "markdown",
   "metadata": {},
   "source": [
    "## Running R  and Python in the Same Notebook\n",
    "\n",
    "- To do this, first we need to install relevant R packages to make the system default R kernel avaiable to the notebook\n",
    "    ```\n",
    "    # in the terminal\n",
    "    $ R\n",
    "    # in R\n",
    "    install.package(\"IRkernel\")\n",
    "    IRkernel::installspec()\n",
    "    ```\n",
    "- Then install the python module `pip install rpy2`\n",
    "- To use R and Python at the same time, the magic commend\n",
    "    ```\n",
    "    %load_ext rpy2.ipython\n",
    "    %R library(ggplot2)\n",
    "    ```\n",
    "- Mac users may run into issues when installing `rpy2`. Please see [this solution](https://blog.csdn.net/u010555997/article/details/104078809). General principles:\n",
    "    - Install Homebrew\n",
    "    - Install ggc with `brew install gcc`\n",
    "    - Install rpy2 using the updated gcc `env CC=/usr/local/Cellar/gcc/10.2.0/bin/gcc-10 pip install rpy2`"
   ]
  },
  {
   "cell_type": "code",
   "execution_count": 1,
   "metadata": {},
   "outputs": [
    {
     "name": "stdout",
     "output_type": "stream",
     "text": [
      "Hello Word!\n",
      "\n"
     ]
    }
   ],
   "source": [
    "%run hello-world.ipynb"
   ]
  },
  {
   "cell_type": "code",
   "execution_count": 2,
   "metadata": {},
   "outputs": [
    {
     "name": "stdout",
     "output_type": "stream",
     "text": [
      "CPU times: user 12.3 ms, sys: 11.7 ms, total: 23.9 ms\n",
      "Wall time: 11.3 s\n"
     ]
    }
   ],
   "source": [
    "%%time\n",
    "import time\n",
    "for _ in range(1000):\n",
    "    time.sleep(0.01)"
   ]
  },
  {
   "cell_type": "code",
   "execution_count": 3,
   "metadata": {},
   "outputs": [
    {
     "name": "stdout",
     "output_type": "stream",
     "text": [
      "10.6 µs ± 972 ns per loop (mean ± std. dev. of 7 runs, 100000 loops each)\n"
     ]
    }
   ],
   "source": [
    "import numpy\n",
    "%timeit numpy.random.normal(size=100)"
   ]
  },
  {
   "cell_type": "code",
   "execution_count": 4,
   "metadata": {},
   "outputs": [
    {
     "data": {
      "application/json": {
       "cell": {
        "!": "OSMagics",
        "HTML": "Other",
        "SVG": "Other",
        "bash": "Other",
        "capture": "ExecutionMagics",
        "debug": "ExecutionMagics",
        "file": "Other",
        "html": "DisplayMagics",
        "javascript": "DisplayMagics",
        "js": "DisplayMagics",
        "latex": "DisplayMagics",
        "markdown": "DisplayMagics",
        "perl": "Other",
        "prun": "ExecutionMagics",
        "pypy": "Other",
        "python": "Other",
        "python2": "Other",
        "python3": "Other",
        "ruby": "Other",
        "script": "ScriptMagics",
        "sh": "Other",
        "svg": "DisplayMagics",
        "sx": "OSMagics",
        "system": "OSMagics",
        "time": "ExecutionMagics",
        "timeit": "ExecutionMagics",
        "writefile": "OSMagics"
       },
       "line": {
        "alias": "OSMagics",
        "alias_magic": "BasicMagics",
        "autoawait": "AsyncMagics",
        "autocall": "AutoMagics",
        "automagic": "AutoMagics",
        "autosave": "KernelMagics",
        "bookmark": "OSMagics",
        "cat": "Other",
        "cd": "OSMagics",
        "clear": "KernelMagics",
        "colors": "BasicMagics",
        "conda": "PackagingMagics",
        "config": "ConfigMagics",
        "connect_info": "KernelMagics",
        "cp": "Other",
        "debug": "ExecutionMagics",
        "dhist": "OSMagics",
        "dirs": "OSMagics",
        "doctest_mode": "BasicMagics",
        "ed": "Other",
        "edit": "KernelMagics",
        "env": "OSMagics",
        "gui": "BasicMagics",
        "hist": "Other",
        "history": "HistoryMagics",
        "killbgscripts": "ScriptMagics",
        "ldir": "Other",
        "less": "KernelMagics",
        "lf": "Other",
        "lk": "Other",
        "ll": "Other",
        "load": "CodeMagics",
        "load_ext": "ExtensionMagics",
        "loadpy": "CodeMagics",
        "logoff": "LoggingMagics",
        "logon": "LoggingMagics",
        "logstart": "LoggingMagics",
        "logstate": "LoggingMagics",
        "logstop": "LoggingMagics",
        "ls": "Other",
        "lsmagic": "BasicMagics",
        "lx": "Other",
        "macro": "ExecutionMagics",
        "magic": "BasicMagics",
        "man": "KernelMagics",
        "matplotlib": "PylabMagics",
        "mkdir": "Other",
        "more": "KernelMagics",
        "mv": "Other",
        "notebook": "BasicMagics",
        "page": "BasicMagics",
        "pastebin": "CodeMagics",
        "pdb": "ExecutionMagics",
        "pdef": "NamespaceMagics",
        "pdoc": "NamespaceMagics",
        "pfile": "NamespaceMagics",
        "pinfo": "NamespaceMagics",
        "pinfo2": "NamespaceMagics",
        "pip": "PackagingMagics",
        "popd": "OSMagics",
        "pprint": "BasicMagics",
        "precision": "BasicMagics",
        "prun": "ExecutionMagics",
        "psearch": "NamespaceMagics",
        "psource": "NamespaceMagics",
        "pushd": "OSMagics",
        "pwd": "OSMagics",
        "pycat": "OSMagics",
        "pylab": "PylabMagics",
        "qtconsole": "KernelMagics",
        "quickref": "BasicMagics",
        "recall": "HistoryMagics",
        "rehashx": "OSMagics",
        "reload_ext": "ExtensionMagics",
        "rep": "Other",
        "rerun": "HistoryMagics",
        "reset": "NamespaceMagics",
        "reset_selective": "NamespaceMagics",
        "rm": "Other",
        "rmdir": "Other",
        "run": "ExecutionMagics",
        "save": "CodeMagics",
        "sc": "OSMagics",
        "set_env": "OSMagics",
        "store": "StoreMagics",
        "sx": "OSMagics",
        "system": "OSMagics",
        "tb": "ExecutionMagics",
        "time": "ExecutionMagics",
        "timeit": "ExecutionMagics",
        "unalias": "OSMagics",
        "unload_ext": "ExtensionMagics",
        "who": "NamespaceMagics",
        "who_ls": "NamespaceMagics",
        "whos": "NamespaceMagics",
        "xdel": "NamespaceMagics",
        "xmode": "BasicMagics"
       }
      },
      "text/plain": [
       "Available line magics:\n",
       "%alias  %alias_magic  %autoawait  %autocall  %automagic  %autosave  %bookmark  %cat  %cd  %clear  %colors  %conda  %config  %connect_info  %cp  %debug  %dhist  %dirs  %doctest_mode  %ed  %edit  %env  %gui  %hist  %history  %killbgscripts  %ldir  %less  %lf  %lk  %ll  %load  %load_ext  %loadpy  %logoff  %logon  %logstart  %logstate  %logstop  %ls  %lsmagic  %lx  %macro  %magic  %man  %matplotlib  %mkdir  %more  %mv  %notebook  %page  %pastebin  %pdb  %pdef  %pdoc  %pfile  %pinfo  %pinfo2  %pip  %popd  %pprint  %precision  %prun  %psearch  %psource  %pushd  %pwd  %pycat  %pylab  %qtconsole  %quickref  %recall  %rehashx  %reload_ext  %rep  %rerun  %reset  %reset_selective  %rm  %rmdir  %run  %save  %sc  %set_env  %store  %sx  %system  %tb  %time  %timeit  %unalias  %unload_ext  %who  %who_ls  %whos  %xdel  %xmode\n",
       "\n",
       "Available cell magics:\n",
       "%%!  %%HTML  %%SVG  %%bash  %%capture  %%debug  %%file  %%html  %%javascript  %%js  %%latex  %%markdown  %%perl  %%prun  %%pypy  %%python  %%python2  %%python3  %%ruby  %%script  %%sh  %%svg  %%sx  %%system  %%time  %%timeit  %%writefile\n",
       "\n",
       "Automagic is ON, % prefix IS NOT needed for line magics."
      ]
     },
     "execution_count": 4,
     "metadata": {},
     "output_type": "execute_result"
    }
   ],
   "source": [
    "# List all Magic commands\n",
    "%lsmagic"
   ]
  },
  {
   "cell_type": "code",
   "execution_count": 5,
   "metadata": {},
   "outputs": [
    {
     "name": "stdout",
     "output_type": "stream",
     "text": [
      "data-structure.ipynb       miscellaneous-notes.ipynb\r\n",
      "data-visualization-1.ipynb notebook-to-slides.ipynb\r\n",
      "data-visualization-2.ipynb numpy.ipynb\r\n",
      "docstrings.ipynb           oop.ipynb\r\n",
      "google-colab-r.ipynb       pandas.ipynb\r\n",
      "google-colab.ipynb         pickle.ipynb\r\n",
      "google-drive-ubuntu.ipynb  productive-tech.ipynb\r\n",
      "hello-world.ipynb          program-structure.ipynb\r\n",
      "input-output.ipynb         python-tricks.ipynb\r\n",
      "jupyter-notebook.ipynb     web-applications.ipynb\r\n",
      "magic-r.ipynb\r\n"
     ]
    }
   ],
   "source": [
    "!ls *.ipynb"
   ]
  },
  {
   "cell_type": "code",
   "execution_count": 6,
   "metadata": {},
   "outputs": [],
   "source": [
    "## Run R code chunks in notebook with python codes\n",
    "%load_ext rpy2.ipython"
   ]
  },
  {
   "cell_type": "code",
   "execution_count": 7,
   "metadata": {},
   "outputs": [
    {
     "name": "stderr",
     "output_type": "stream",
     "text": [
      "R[write to console]: \n",
      "Attaching package: ‘dplyr’\n",
      "\n",
      "\n",
      "R[write to console]: The following objects are masked from ‘package:stats’:\n",
      "\n",
      "    filter, lag\n",
      "\n",
      "\n",
      "R[write to console]: The following objects are masked from ‘package:base’:\n",
      "\n",
      "    intersect, setdiff, setequal, union\n",
      "\n",
      "\n"
     ]
    },
    {
     "data": {
      "image/png": "[encoded data removed]"
     },
     "metadata": {
      "filenames": {
       "image/png": "/Users/Alvin/GoogleDrive/_MySyncDrive/Repository/python-notes/_build/jupyter_execute/python-basics/jupyter-notebook_21_1.png"
      }
     },
     "output_type": "display_data"
    }
   ],
   "source": [
    "%%R \n",
    "library(dplyr)\n",
    "library(ggplot2)\n",
    "data.frame(x = seq(1,100), y = seq(seq(1,100))) %>%\n",
    "ggplot(aes(x,y)) + geom_point()"
   ]
  },
  {
   "cell_type": "markdown",
   "metadata": {},
   "source": [
    "## Create Neural Network Diagram"
   ]
  },
  {
   "cell_type": "code",
   "execution_count": 1,
   "metadata": {},
   "outputs": [
    {
     "ename": "ModuleNotFoundError",
     "evalue": "No module named 'draw_neural_net'",
     "output_type": "error",
     "traceback": [
      "\u001b[0;31m---------------------------------------------------------------------------\u001b[0m",
      "\u001b[0;31mModuleNotFoundError\u001b[0m                       Traceback (most recent call last)",
      "\u001b[0;32m<ipython-input-1-702243819bba>\u001b[0m in \u001b[0;36m<module>\u001b[0;34m\u001b[0m\n\u001b[1;32m      1\u001b[0m \u001b[0;32mimport\u001b[0m \u001b[0mnumpy\u001b[0m \u001b[0;32mas\u001b[0m \u001b[0mnp\u001b[0m\u001b[0;34m\u001b[0m\u001b[0m\n\u001b[1;32m      2\u001b[0m \u001b[0;32mimport\u001b[0m \u001b[0mmatplotlib\u001b[0m\u001b[0;34m.\u001b[0m\u001b[0mpylab\u001b[0m \u001b[0;32mas\u001b[0m \u001b[0mplt\u001b[0m\u001b[0;34m\u001b[0m\u001b[0m\n\u001b[0;32m----> 3\u001b[0;31m \u001b[0;32mfrom\u001b[0m \u001b[0mdraw_neural_net\u001b[0m \u001b[0;32mimport\u001b[0m \u001b[0mdraw_neural_net\u001b[0m\u001b[0;34m\u001b[0m\u001b[0m\n\u001b[0m\u001b[1;32m      4\u001b[0m \u001b[0mfig\u001b[0m \u001b[0;34m=\u001b[0m \u001b[0mplt\u001b[0m\u001b[0;34m.\u001b[0m\u001b[0mfigure\u001b[0m\u001b[0;34m(\u001b[0m\u001b[0mfigsize\u001b[0m\u001b[0;34m=\u001b[0m\u001b[0;34m(\u001b[0m\u001b[0;36m6\u001b[0m\u001b[0;34m,\u001b[0m \u001b[0;36m6\u001b[0m\u001b[0;34m)\u001b[0m\u001b[0;34m)\u001b[0m\u001b[0;34m\u001b[0m\u001b[0m\n\u001b[1;32m      5\u001b[0m \u001b[0max\u001b[0m \u001b[0;34m=\u001b[0m \u001b[0mfig\u001b[0m\u001b[0;34m.\u001b[0m\u001b[0mgca\u001b[0m\u001b[0;34m(\u001b[0m\u001b[0;34m)\u001b[0m\u001b[0;34m\u001b[0m\u001b[0m\n",
      "\u001b[0;31mModuleNotFoundError\u001b[0m: No module named 'draw_neural_net'"
     ]
    }
   ],
   "source": [
    "# import numpy as np\n",
    "# import matplotlib.pylab as plt\n",
    "# from draw_neural_net import draw_neural_net\n",
    "# fig = plt.figure(figsize=(6, 6))\n",
    "# ax = fig.gca()\n",
    "# ax.axis('off')\n",
    "# draw_neural_net(ax, .1, .9, .1, .9, [3, 4, 2])\n",
    "\n",
    "# fig = plt.figure(figsize=(6, 6))\n",
    "# ax = fig.gca()\n",
    "# ax.axis('off')\n",
    "# draw_neural_net(ax, .1, .7, .1, .9, [2, 3, 2])"
   ]
  },
  {
   "cell_type": "code",
   "execution_count": null,
   "metadata": {},
   "outputs": [],
   "source": [
    "## Methods to create neural network diagram\n",
    "\n",
    "# from draw_neural_net2 import draw_neural_net3\n",
    "# fig = plt.figure(figsize=(12, 12))\n",
    "# ax = fig.gca()\n",
    "# ax.axis('off')\n",
    "# draw_neural_net3(ax, .1, .9, .1, .9, [2,2],\n",
    "#                 coefs_=[np.array([[0.4,0.5],[0.1,0.2]])],\n",
    "#                 intercepts_=[np.array([99,99])],\n",
    "#                # np=np, plt = plt,\n",
    "#                 n_iter_ = 1, loss_=0.4)\n"
   ]
  },
  {
   "cell_type": "code",
   "execution_count": null,
   "metadata": {},
   "outputs": [],
   "source": [
    "# %load_ext tikzmagic"
   ]
  },
  {
   "cell_type": "code",
   "execution_count": null,
   "metadata": {},
   "outputs": [],
   "source": [
    "# %%tikz -f svg\n",
    "\n",
    "# \\tikzset{every node/.style={font=\\sffamily,white}}\n",
    "\n",
    "# \\node[fill=red] at (0,0) (a) {This};\n",
    "# \\node[fill=blue] at (2,0) (b) {That};\n",
    "# \\draw[->] (a) -- (b);"
   ]
  },
  {
   "cell_type": "code",
   "execution_count": 2,
   "metadata": {},
   "outputs": [
    {
     "data": {
      "image/png": "[encoded data removed]",
      "text/plain": [
       "<Figure size 432x288 with 1 Axes>"
      ]
     },
     "metadata": {
      "filenames": {
       "image/png": "/Users/Alvin/GoogleDrive/_MySyncDrive/Repository/python-notes/_build/jupyter_execute/python-basics/jupyter-notebook_27_0.png"
      },
      "needs_background": "light"
     },
     "output_type": "display_data"
    },
    {
     "data": {
      "text/plain": [
       "(<Figure size 432x288 with 1 Axes>, <AxesSubplot:>)"
      ]
     },
     "execution_count": 2,
     "metadata": {},
     "output_type": "execute_result"
    }
   ],
   "source": [
    "from nnv import NNV\n",
    "\n",
    "layersList = [\n",
    "    {\"title\": \"Input: X\", \"units\": 2, \"color\": \"lightBlue\"},\n",
    "    {\"title\": \"Output: Y\", \"units\": 3, \"color\": \"lightpink\"},\n",
    "    #{\"title\": \"Labels\", \"units\": 2, \"color\": \"lightpink\"},\n",
    "]\n",
    "\n",
    "NNV(layersList, font_size=14).render()"
   ]
  },
  {
   "cell_type": "markdown",
   "metadata": {},
   "source": [
    "## Memory Issues"
   ]
  },
  {
   "cell_type": "markdown",
   "metadata": {},
   "source": [
    "When seeing error messages as shown below:\n",
    "\n",
    "```\n",
    "IOPub data rate exceeded.\n",
    "The notebook server will temporarily stop sending output\n",
    "to the client in order to avoid crashing it.\n",
    "```\n",
    "\n",
    "Try:\n",
    "    \n",
    "```\n",
    "jupyter notebook --NotebookApp.iopub_data_rate_limit=1.0e10\n",
    "```"
   ]
  },
  {
   "cell_type": "markdown",
   "metadata": {},
   "source": [
    "## Package Importing"
   ]
  },
  {
   "cell_type": "markdown",
   "metadata": {},
   "source": [
    "- Python can only import self-defined libraries in the current working directory (i.e., the directory where the script file is).\n",
    "- To use libraries in other directories, we need to add the lib path to the system.\n",
    "\n",
    "```\n",
    "import sys\n",
    "sys.path.insert(1, '../nlp')\n",
    "import text_normalizer_zh as tn\n",
    "\n",
    "```"
   ]
  },
  {
   "cell_type": "markdown",
   "metadata": {},
   "source": [
    "## Requirements"
   ]
  },
  {
   "cell_type": "code",
   "execution_count": 8,
   "metadata": {
    "tags": [
     "remove-input"
    ]
   },
   "outputs": [
    {
     "name": "stdout",
     "output_type": "stream",
     "text": [
      "numpy==1.18.1\n"
     ]
    }
   ],
   "source": [
    "# %load get_modules.py\n",
    "import pkg_resources\n",
    "import types\n",
    "def get_imports():\n",
    "    for name, val in globals().items():\n",
    "        if isinstance(val, types.ModuleType):\n",
    "            # Split ensures you get root package, \n",
    "            # not just imported function\n",
    "            name = val.__name__.split(\".\")[0]\n",
    "\n",
    "        elif isinstance(val, type):\n",
    "            name = val.__module__.split(\".\")[0]\n",
    "\n",
    "        # Some packages are weird and have different\n",
    "        # imported names vs. system/pip names. Unfortunately,\n",
    "        # there is no systematic way to get pip names from\n",
    "        # a package's imported name. You'll have to add\n",
    "        # exceptions to this list manually!\n",
    "        poorly_named_packages = {\n",
    "            \"PIL\": \"Pillow\",\n",
    "            \"sklearn\": \"scikit-learn\"\n",
    "        }\n",
    "        if name in poorly_named_packages.keys():\n",
    "            name = poorly_named_packages[name]\n",
    "\n",
    "        yield name\n",
    "        \n",
    "        \n",
    "imports = list(set(get_imports()))\n",
    "\n",
    "# The only way I found to get the version of the root package\n",
    "# from only the name of the package is to cross-check the names \n",
    "# of installed packages vs. imported packages\n",
    "requirements = []\n",
    "for m in pkg_resources.working_set:\n",
    "    if m.project_name in imports and m.project_name!=\"pip\":\n",
    "        requirements.append((m.project_name, m.version))\n",
    "\n",
    "for r in requirements:\n",
    "    print(\"{}=={}\".format(*r))"
   ]
  }
 ],
 "metadata": {
  "kernelspec": {
   "display_name": "python-notes",
   "language": "python",
   "name": "python-notes"
  },
  "language_info": {
   "codemirror_mode": {
    "name": "ipython",
    "version": 3
   },
   "file_extension": ".py",
   "mimetype": "text/x-python",
   "name": "python",
   "nbconvert_exporter": "python",
   "pygments_lexer": "ipython3",
   "version": "3.7.0"
  },
  "toc": {
   "base_numbering": 1,
   "nav_menu": {
    "height": "97px",
    "width": "176px"
   },
   "number_sections": true,
   "sideBar": true,
   "skip_h1_title": false,
   "title_cell": "Table of Contents",
   "title_sidebar": "Contents",
   "toc_cell": false,
   "toc_position": {
    "height": "calc(100% - 180px)",
    "left": "10px",
    "top": "150px",
    "width": "257.554px"
   },
   "toc_section_display": true,
   "toc_window_display": true
  },
  "varInspector": {
   "cols": {
    "lenName": 16,
    "lenType": 16,
    "lenVar": 40
   },
   "kernels_config": {
    "python": {
     "delete_cmd_postfix": "",
     "delete_cmd_prefix": "del ",
     "library": "var_list.py",
     "varRefreshCmd": "print(var_dic_list())"
    },
    "r": {
     "delete_cmd_postfix": ") ",
     "delete_cmd_prefix": "rm(",
     "library": "var_list.r",
     "varRefreshCmd": "cat(var_dic_list()) "
    }
   },
   "types_to_exclude": [
    "module",
    "function",
    "builtin_function_or_method",
    "instance",
    "_Feature"
   ],
   "window_display": false
  }
 },
 "nbformat": 4,
 "nbformat_minor": 4
}