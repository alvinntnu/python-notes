{
 "cells": [
  {
   "cell_type": "markdown",
   "metadata": {},
   "source": [
    "# Miscellaneous Notes"
   ]
  },
  {
   "cell_type": "markdown",
   "metadata": {},
   "source": [
    "- Fundamentals\n",
    "- Data Structure\n",
    "- Program Structure\n",
    "- Input and Output\n",
    "- Classes and Objects"
   ]
  },
  {
   "cell_type": "code",
   "execution_count": 11,
   "metadata": {},
   "outputs": [
    {
     "name": "stdout",
     "output_type": "stream",
     "text": [
      "48\n"
     ]
    }
   ],
   "source": [
    "## How to check current object sizes in Notebook\n",
    "import sys\n",
    "a = range(10000)\n",
    "print(sys.getsizeof(a))"
   ]
  },
  {
   "cell_type": "code",
   "execution_count": 14,
   "metadata": {},
   "outputs": [],
   "source": [
    "## Get the docstring\n",
    "?sys.getsizeof\n",
    "?who"
   ]
  },
  {
   "cell_type": "code",
   "execution_count": null,
   "metadata": {},
   "outputs": [],
   "source": [
    "%who\n",
    "%whos"
   ]
  },
  {
   "cell_type": "code",
   "execution_count": 6,
   "metadata": {},
   "outputs": [
    {
     "data": {
      "text/plain": [
       "{'__name__': '__main__',\n",
       " '__doc__': 'Automatically created module for IPython interactive environment',\n",
       " '__package__': None,\n",
       " '__loader__': None,\n",
       " '__spec__': None,\n",
       " '__builtin__': <module 'builtins' (built-in)>,\n",
       " '__builtins__': <module 'builtins' (built-in)>,\n",
       " '_ih': ['',\n",
       "  \"#import sys\\na = range(10000)\\n#%memusage a\\nget_ipython().run_line_magic('who', '')\\nget_ipython().run_line_magic('whos', '')\",\n",
       "  \"#import sys\\na = range(10000)\\n#%memusage a\\nget_ipython().run_line_magic('who', '')\\nget_ipython().run_line_magic('whos', '')\",\n",
       "  \"#import sys\\na = range(10000)\\n#%memusage a\\nget_ipython().run_line_magic('who', '')\\nget_ipython().run_line_magic('whos', '')\\nglobal()\",\n",
       "  \"#import sys\\na = range(10000)\\n#%memusage a\\nget_ipython().run_line_magic('who', '')\\nget_ipython().run_line_magic('whos', '')\\nglobals()\",\n",
       "  \"#import sys\\na = range(10000)\\n#%memusage a\\nget_ipython().run_line_magic('who', '')\\nget_ipython().run_line_magic('whos', '')\\nglobals()\\nlocals()\",\n",
       "  'globals()'],\n",
       " '_oh': {4: {...}, 5: {...}},\n",
       " '_dh': ['/Users/Alvin/Dropbox/Python/PythonTricksTheBook/PythonTricksJupyterBook'],\n",
       " 'In': ['',\n",
       "  \"#import sys\\na = range(10000)\\n#%memusage a\\nget_ipython().run_line_magic('who', '')\\nget_ipython().run_line_magic('whos', '')\",\n",
       "  \"#import sys\\na = range(10000)\\n#%memusage a\\nget_ipython().run_line_magic('who', '')\\nget_ipython().run_line_magic('whos', '')\",\n",
       "  \"#import sys\\na = range(10000)\\n#%memusage a\\nget_ipython().run_line_magic('who', '')\\nget_ipython().run_line_magic('whos', '')\\nglobal()\",\n",
       "  \"#import sys\\na = range(10000)\\n#%memusage a\\nget_ipython().run_line_magic('who', '')\\nget_ipython().run_line_magic('whos', '')\\nglobals()\",\n",
       "  \"#import sys\\na = range(10000)\\n#%memusage a\\nget_ipython().run_line_magic('who', '')\\nget_ipython().run_line_magic('whos', '')\\nglobals()\\nlocals()\",\n",
       "  'globals()'],\n",
       " 'Out': {4: {...}, 5: {...}},\n",
       " 'get_ipython': <bound method InteractiveShell.get_ipython of <ipykernel.zmqshell.ZMQInteractiveShell object at 0x7ff579662588>>,\n",
       " 'exit': <IPython.core.autocall.ZMQExitAutocall at 0x7ff57969aa20>,\n",
       " 'quit': <IPython.core.autocall.ZMQExitAutocall at 0x7ff57969aa20>,\n",
       " '_': {...},\n",
       " '__': {...},\n",
       " '___': '',\n",
       " '_i': '#import sys\\na = range(10000)\\n#%memusage a\\n%who\\n%whos\\nglobals()\\nlocals()',\n",
       " '_ii': '#import sys\\na = range(10000)\\n#%memusage a\\n%who\\n%whos\\nglobals()',\n",
       " '_iii': '#import sys\\na = range(10000)\\n#%memusage a\\n%who\\n%whos\\nglobal()',\n",
       " '_i1': '#import sys\\na = range(10000)\\n#%memusage a\\n%who\\n%whos',\n",
       " 'a': range(0, 10000),\n",
       " '_i2': '#import sys\\na = range(10000)\\n#%memusage a\\n%who\\n%whos',\n",
       " '_i3': '#import sys\\na = range(10000)\\n#%memusage a\\n%who\\n%whos\\nglobal()',\n",
       " '_i4': '#import sys\\na = range(10000)\\n#%memusage a\\n%who\\n%whos\\nglobals()',\n",
       " '_4': {...},\n",
       " '_i5': '#import sys\\na = range(10000)\\n#%memusage a\\n%who\\n%whos\\nglobals()\\nlocals()',\n",
       " '_5': {...},\n",
       " '_i6': 'globals()'}"
      ]
     },
     "execution_count": 6,
     "metadata": {},
     "output_type": "execute_result"
    }
   ],
   "source": [
    "globals()"
   ]
  },
  {
   "cell_type": "code",
   "execution_count": 8,
   "metadata": {},
   "outputs": [
    {
     "data": {
      "text/plain": [
       "{'__name__': '__main__',\n",
       " '__doc__': 'Automatically created module for IPython interactive environment',\n",
       " '__package__': None,\n",
       " '__loader__': None,\n",
       " '__spec__': None,\n",
       " '__builtin__': <module 'builtins' (built-in)>,\n",
       " '__builtins__': <module 'builtins' (built-in)>,\n",
       " '_ih': ['',\n",
       "  \"#import sys\\na = range(10000)\\n#%memusage a\\nget_ipython().run_line_magic('who', '')\\nget_ipython().run_line_magic('whos', '')\",\n",
       "  \"#import sys\\na = range(10000)\\n#%memusage a\\nget_ipython().run_line_magic('who', '')\\nget_ipython().run_line_magic('whos', '')\",\n",
       "  \"#import sys\\na = range(10000)\\n#%memusage a\\nget_ipython().run_line_magic('who', '')\\nget_ipython().run_line_magic('whos', '')\\nglobal()\",\n",
       "  \"#import sys\\na = range(10000)\\n#%memusage a\\nget_ipython().run_line_magic('who', '')\\nget_ipython().run_line_magic('whos', '')\\nglobals()\",\n",
       "  \"#import sys\\na = range(10000)\\n#%memusage a\\nget_ipython().run_line_magic('who', '')\\nget_ipython().run_line_magic('whos', '')\\nglobals()\\nlocals()\",\n",
       "  'globals()',\n",
       "  'locals()',\n",
       "  'locals()'],\n",
       " '_oh': {4: {...}, 5: {...}, 6: {...}, 7: {...}},\n",
       " '_dh': ['/Users/Alvin/Dropbox/Python/PythonTricksTheBook/PythonTricksJupyterBook'],\n",
       " 'In': ['',\n",
       "  \"#import sys\\na = range(10000)\\n#%memusage a\\nget_ipython().run_line_magic('who', '')\\nget_ipython().run_line_magic('whos', '')\",\n",
       "  \"#import sys\\na = range(10000)\\n#%memusage a\\nget_ipython().run_line_magic('who', '')\\nget_ipython().run_line_magic('whos', '')\",\n",
       "  \"#import sys\\na = range(10000)\\n#%memusage a\\nget_ipython().run_line_magic('who', '')\\nget_ipython().run_line_magic('whos', '')\\nglobal()\",\n",
       "  \"#import sys\\na = range(10000)\\n#%memusage a\\nget_ipython().run_line_magic('who', '')\\nget_ipython().run_line_magic('whos', '')\\nglobals()\",\n",
       "  \"#import sys\\na = range(10000)\\n#%memusage a\\nget_ipython().run_line_magic('who', '')\\nget_ipython().run_line_magic('whos', '')\\nglobals()\\nlocals()\",\n",
       "  'globals()',\n",
       "  'locals()',\n",
       "  'locals()'],\n",
       " 'Out': {4: {...}, 5: {...}, 6: {...}, 7: {...}},\n",
       " 'get_ipython': <bound method InteractiveShell.get_ipython of <ipykernel.zmqshell.ZMQInteractiveShell object at 0x7ff579662588>>,\n",
       " 'exit': <IPython.core.autocall.ZMQExitAutocall at 0x7ff57969aa20>,\n",
       " 'quit': <IPython.core.autocall.ZMQExitAutocall at 0x7ff57969aa20>,\n",
       " '_': {...},\n",
       " '__': {...},\n",
       " '___': {...},\n",
       " '_i': 'locals()',\n",
       " '_ii': 'globals()',\n",
       " '_iii': '#import sys\\na = range(10000)\\n#%memusage a\\n%who\\n%whos\\nglobals()\\nlocals()',\n",
       " '_i1': '#import sys\\na = range(10000)\\n#%memusage a\\n%who\\n%whos',\n",
       " 'a': range(0, 10000),\n",
       " '_i2': '#import sys\\na = range(10000)\\n#%memusage a\\n%who\\n%whos',\n",
       " '_i3': '#import sys\\na = range(10000)\\n#%memusage a\\n%who\\n%whos\\nglobal()',\n",
       " '_i4': '#import sys\\na = range(10000)\\n#%memusage a\\n%who\\n%whos\\nglobals()',\n",
       " '_4': {...},\n",
       " '_i5': '#import sys\\na = range(10000)\\n#%memusage a\\n%who\\n%whos\\nglobals()\\nlocals()',\n",
       " '_5': {...},\n",
       " '_i6': 'globals()',\n",
       " '_6': {...},\n",
       " '_i7': 'locals()',\n",
       " '_7': {...},\n",
       " '_i8': 'locals()'}"
      ]
     },
     "execution_count": 8,
     "metadata": {},
     "output_type": "execute_result"
    }
   ],
   "source": [
    "locals()"
   ]
  },
  {
   "cell_type": "code",
   "execution_count": 9,
   "metadata": {},
   "outputs": [
    {
     "data": {
      "text/plain": [
       "['In',\n",
       " 'Out',\n",
       " '_',\n",
       " '_4',\n",
       " '_5',\n",
       " '_6',\n",
       " '_7',\n",
       " '_8',\n",
       " '__',\n",
       " '___',\n",
       " '__builtin__',\n",
       " '__builtins__',\n",
       " '__doc__',\n",
       " '__loader__',\n",
       " '__name__',\n",
       " '__package__',\n",
       " '__spec__',\n",
       " '_dh',\n",
       " '_i',\n",
       " '_i1',\n",
       " '_i2',\n",
       " '_i3',\n",
       " '_i4',\n",
       " '_i5',\n",
       " '_i6',\n",
       " '_i7',\n",
       " '_i8',\n",
       " '_i9',\n",
       " '_ih',\n",
       " '_ii',\n",
       " '_iii',\n",
       " '_oh',\n",
       " 'a',\n",
       " 'exit',\n",
       " 'get_ipython',\n",
       " 'quit']"
      ]
     },
     "execution_count": 9,
     "metadata": {},
     "output_type": "execute_result"
    }
   ],
   "source": [
    "dir()"
   ]
  }
 ],
 "metadata": {
  "kernelspec": {
   "display_name": "Python 3",
   "language": "python",
   "name": "python3"
  },
  "language_info": {
   "codemirror_mode": {
    "name": "ipython",
    "version": 3
   },
   "file_extension": ".py",
   "mimetype": "text/x-python",
   "name": "python",
   "nbconvert_exporter": "python",
   "pygments_lexer": "ipython3",
   "version": "3.7.6"
  },
  "toc": {
   "base_numbering": 1,
   "nav_menu": {},
   "number_sections": false,
   "sideBar": true,
   "skip_h1_title": false,
   "title_cell": "Table of Contents",
   "title_sidebar": "Contents",
   "toc_cell": false,
   "toc_position": {},
   "toc_section_display": true,
   "toc_window_display": false
  },
  "varInspector": {
   "cols": {
    "lenName": 16,
    "lenType": 16,
    "lenVar": 40
   },
   "kernels_config": {
    "python": {
     "delete_cmd_postfix": "",
     "delete_cmd_prefix": "del ",
     "library": "var_list.py",
     "varRefreshCmd": "print(var_dic_list())"
    },
    "r": {
     "delete_cmd_postfix": ") ",
     "delete_cmd_prefix": "rm(",
     "library": "var_list.r",
     "varRefreshCmd": "cat(var_dic_list()) "
    }
   },
   "types_to_exclude": [
    "module",
    "function",
    "builtin_function_or_method",
    "instance",
    "_Feature"
   ],
   "window_display": false
  },
  "widgets": {
   "application/vnd.jupyter.widget-state+json": {
    "state": {},
    "version_major": 2,
    "version_minor": 0
   }
  }
 },
 "nbformat": 4,
 "nbformat_minor": 4
}