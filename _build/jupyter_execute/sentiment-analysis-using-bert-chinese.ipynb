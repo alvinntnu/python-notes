{
 "cells": [
  {
   "cell_type": "markdown",
   "metadata": {
    "id": "6nD5S9lyJH9e"
   },
   "source": [
    "# Sentiment Analysis Using BERT"
   ]
  },
  {
   "cell_type": "markdown",
   "metadata": {
    "id": "yedgWIoPJ5tt"
   },
   "source": [
    "- Using `ktrain` for modeling\n",
    "  - The ktrain library is a lightweight wrapper for tf.keras in TensorFlow 2, which is \"designed to make deep learning and AI more accessible and easier to apply for beginners and domain experts\".\n",
    "- Easy to implement BERT-like pre-trained language models\n",
    "- This notebook works on sentiment analysis of Chinese movie reviews, which is a small dataset. I would like to see to what extent the transformers are effective when dealing with relatively smaller training set. This in turn shows us the powerful advantages of transfer learning. "
   ]
  },
  {
   "cell_type": "markdown",
   "metadata": {
    "id": "Xn4nnhm-JNEW"
   },
   "source": [
    "## Installing ktrain"
   ]
  },
  {
   "cell_type": "code",
   "execution_count": 1,
   "metadata": {
    "colab": {
     "base_uri": "https://localhost:8080/",
     "height": 1000
    },
    "executionInfo": {
     "elapsed": 26539,
     "status": "ok",
     "timestamp": 1601673494267,
     "user": {
      "displayName": "Alvin Chen",
      "photoUrl": "",
      "userId": "06244732172561186175"
     },
     "user_tz": -480
    },
    "id": "3HxjovET6uiX",
    "outputId": "668de8a0-2b4c-43b6-f426-1de662c7e24c"
   },
   "outputs": [
    {
     "name": "stdout",
     "output_type": "stream",
     "text": [
      "Collecting ktrain\n",
      "\u001b[?25l  Downloading https://files.pythonhosted.org/packages/f2/d5/a366ea331fc951b8ec2c9e7811cd101acfcac3a5d045f9d9320e74ea5f70/ktrain-0.21.4.tar.gz (25.3MB)\n",
      "\u001b[K     |████████████████████████████████| 25.3MB 129kB/s \n",
      "\u001b[?25hRequirement already satisfied: scikit-learn>=0.21.3 in /usr/local/lib/python3.6/dist-packages (from ktrain) (0.22.2.post1)\n",
      "Requirement already satisfied: matplotlib>=3.0.0 in /usr/local/lib/python3.6/dist-packages (from ktrain) (3.2.2)\n",
      "Requirement already satisfied: pandas>=1.0.1 in /usr/local/lib/python3.6/dist-packages (from ktrain) (1.1.2)\n",
      "Requirement already satisfied: fastprogress>=0.1.21 in /usr/local/lib/python3.6/dist-packages (from ktrain) (1.0.0)\n",
      "Collecting keras_bert>=0.86.0\n",
      "  Downloading https://files.pythonhosted.org/packages/e2/7f/95fabd29f4502924fa3f09ff6538c5a7d290dfef2c2fe076d3d1a16e08f0/keras-bert-0.86.0.tar.gz\n",
      "Requirement already satisfied: requests in /usr/local/lib/python3.6/dist-packages (from ktrain) (2.23.0)\n",
      "Requirement already satisfied: joblib in /usr/local/lib/python3.6/dist-packages (from ktrain) (0.16.0)\n",
      "Collecting langdetect\n",
      "\u001b[?25l  Downloading https://files.pythonhosted.org/packages/56/a3/8407c1e62d5980188b4acc45ef3d94b933d14a2ebc9ef3505f22cf772570/langdetect-1.0.8.tar.gz (981kB)\n",
      "\u001b[K     |████████████████████████████████| 983kB 48.9MB/s \n",
      "\u001b[?25hRequirement already satisfied: jieba in /usr/local/lib/python3.6/dist-packages (from ktrain) (0.42.1)\n",
      "Collecting cchardet\n",
      "\u001b[?25l  Downloading https://files.pythonhosted.org/packages/1e/c5/7e1a0d7b4afd83d6f8de794fce82820ec4c5136c6d52e14000822681a842/cchardet-2.1.6-cp36-cp36m-manylinux2010_x86_64.whl (241kB)\n",
      "\u001b[K     |████████████████████████████████| 245kB 49.5MB/s \n",
      "\u001b[?25hRequirement already satisfied: networkx>=2.3 in /usr/local/lib/python3.6/dist-packages (from ktrain) (2.5)\n",
      "Requirement already satisfied: bokeh in /usr/local/lib/python3.6/dist-packages (from ktrain) (2.1.1)\n",
      "Collecting seqeval\n",
      "  Downloading https://files.pythonhosted.org/packages/d8/9d/89d9ac5d6506f8368ba5ae53b054cf26bf796935eff6a1945431c7a5d485/seqeval-0.0.17.tar.gz\n",
      "Requirement already satisfied: packaging in /usr/local/lib/python3.6/dist-packages (from ktrain) (20.4)\n",
      "Collecting transformers>=3.1.0\n",
      "\u001b[?25l  Downloading https://files.pythonhosted.org/packages/19/22/aff234f4a841f8999e68a7a94bdd4b60b4cebcfeca5d67d61cd08c9179de/transformers-3.3.1-py3-none-any.whl (1.1MB)\n",
      "\u001b[K     |████████████████████████████████| 1.1MB 49.2MB/s \n",
      "\u001b[?25hRequirement already satisfied: ipython in /usr/local/lib/python3.6/dist-packages (from ktrain) (5.5.0)\n",
      "Collecting syntok\n",
      "  Downloading https://files.pythonhosted.org/packages/8c/76/a49e73a04b3e3a14ce232e8e28a1587f8108baa665644fe8c40e307e792e/syntok-1.3.1.tar.gz\n",
      "Collecting whoosh\n",
      "\u001b[?25l  Downloading https://files.pythonhosted.org/packages/ba/19/24d0f1f454a2c1eb689ca28d2f178db81e5024f42d82729a4ff6771155cf/Whoosh-2.7.4-py2.py3-none-any.whl (468kB)\n",
      "\u001b[K     |████████████████████████████████| 471kB 49.2MB/s \n",
      "\u001b[?25hRequirement already satisfied: numpy>=1.11.0 in /usr/local/lib/python3.6/dist-packages (from scikit-learn>=0.21.3->ktrain) (1.18.5)\n",
      "Requirement already satisfied: scipy>=0.17.0 in /usr/local/lib/python3.6/dist-packages (from scikit-learn>=0.21.3->ktrain) (1.4.1)\n",
      "Requirement already satisfied: kiwisolver>=1.0.1 in /usr/local/lib/python3.6/dist-packages (from matplotlib>=3.0.0->ktrain) (1.2.0)\n",
      "Requirement already satisfied: python-dateutil>=2.1 in /usr/local/lib/python3.6/dist-packages (from matplotlib>=3.0.0->ktrain) (2.8.1)\n",
      "Requirement already satisfied: pyparsing!=2.0.4,!=2.1.2,!=2.1.6,>=2.0.1 in /usr/local/lib/python3.6/dist-packages (from matplotlib>=3.0.0->ktrain) (2.4.7)\n",
      "Requirement already satisfied: cycler>=0.10 in /usr/local/lib/python3.6/dist-packages (from matplotlib>=3.0.0->ktrain) (0.10.0)\n",
      "Requirement already satisfied: pytz>=2017.2 in /usr/local/lib/python3.6/dist-packages (from pandas>=1.0.1->ktrain) (2018.9)\n",
      "Requirement already satisfied: Keras>=2.4.3 in /usr/local/lib/python3.6/dist-packages (from keras_bert>=0.86.0->ktrain) (2.4.3)\n",
      "Collecting keras-transformer>=0.38.0\n",
      "  Downloading https://files.pythonhosted.org/packages/89/6c/d6f0c164f4cc16fbc0d0fea85f5526e87a7d2df7b077809e422a7e626150/keras-transformer-0.38.0.tar.gz\n",
      "Requirement already satisfied: idna<3,>=2.5 in /usr/local/lib/python3.6/dist-packages (from requests->ktrain) (2.10)\n",
      "Requirement already satisfied: certifi>=2017.4.17 in /usr/local/lib/python3.6/dist-packages (from requests->ktrain) (2020.6.20)\n",
      "Requirement already satisfied: urllib3!=1.25.0,!=1.25.1,<1.26,>=1.21.1 in /usr/local/lib/python3.6/dist-packages (from requests->ktrain) (1.24.3)\n",
      "Requirement already satisfied: chardet<4,>=3.0.2 in /usr/local/lib/python3.6/dist-packages (from requests->ktrain) (3.0.4)\n",
      "Requirement already satisfied: six in /usr/local/lib/python3.6/dist-packages (from langdetect->ktrain) (1.15.0)\n",
      "Requirement already satisfied: decorator>=4.3.0 in /usr/local/lib/python3.6/dist-packages (from networkx>=2.3->ktrain) (4.4.2)\n",
      "Requirement already satisfied: tornado>=5.1 in /usr/local/lib/python3.6/dist-packages (from bokeh->ktrain) (5.1.1)\n",
      "Requirement already satisfied: Jinja2>=2.7 in /usr/local/lib/python3.6/dist-packages (from bokeh->ktrain) (2.11.2)\n",
      "Requirement already satisfied: PyYAML>=3.10 in /usr/local/lib/python3.6/dist-packages (from bokeh->ktrain) (3.13)\n",
      "Requirement already satisfied: pillow>=4.0 in /usr/local/lib/python3.6/dist-packages (from bokeh->ktrain) (7.0.0)\n",
      "Requirement already satisfied: typing-extensions>=3.7.4 in /usr/local/lib/python3.6/dist-packages (from bokeh->ktrain) (3.7.4.3)\n",
      "Collecting sentencepiece!=0.1.92\n",
      "\u001b[?25l  Downloading https://files.pythonhosted.org/packages/d4/a4/d0a884c4300004a78cca907a6ff9a5e9fe4f090f5d95ab341c53d28cbc58/sentencepiece-0.1.91-cp36-cp36m-manylinux1_x86_64.whl (1.1MB)\n",
      "\u001b[K     |████████████████████████████████| 1.1MB 49.9MB/s \n",
      "\u001b[?25hCollecting sacremoses\n",
      "\u001b[?25l  Downloading https://files.pythonhosted.org/packages/7d/34/09d19aff26edcc8eb2a01bed8e98f13a1537005d31e95233fd48216eed10/sacremoses-0.0.43.tar.gz (883kB)\n",
      "\u001b[K     |████████████████████████████████| 890kB 43.0MB/s \n",
      "\u001b[?25hRequirement already satisfied: filelock in /usr/local/lib/python3.6/dist-packages (from transformers>=3.1.0->ktrain) (3.0.12)\n",
      "Requirement already satisfied: dataclasses; python_version < \"3.7\" in /usr/local/lib/python3.6/dist-packages (from transformers>=3.1.0->ktrain) (0.7)\n",
      "Requirement already satisfied: tqdm>=4.27 in /usr/local/lib/python3.6/dist-packages (from transformers>=3.1.0->ktrain) (4.41.1)\n",
      "Requirement already satisfied: regex!=2019.12.17 in /usr/local/lib/python3.6/dist-packages (from transformers>=3.1.0->ktrain) (2019.12.20)\n",
      "Collecting tokenizers==0.8.1.rc2\n",
      "\u001b[?25l  Downloading https://files.pythonhosted.org/packages/80/83/8b9fccb9e48eeb575ee19179e2bdde0ee9a1904f97de5f02d19016b8804f/tokenizers-0.8.1rc2-cp36-cp36m-manylinux1_x86_64.whl (3.0MB)\n",
      "\u001b[K     |████████████████████████████████| 3.0MB 45.9MB/s \n",
      "\u001b[?25hRequirement already satisfied: setuptools>=18.5 in /usr/local/lib/python3.6/dist-packages (from ipython->ktrain) (50.3.0)\n",
      "Requirement already satisfied: pickleshare in /usr/local/lib/python3.6/dist-packages (from ipython->ktrain) (0.7.5)\n",
      "Requirement already satisfied: pexpect; sys_platform != \"win32\" in /usr/local/lib/python3.6/dist-packages (from ipython->ktrain) (4.8.0)\n",
      "Requirement already satisfied: prompt-toolkit<2.0.0,>=1.0.4 in /usr/local/lib/python3.6/dist-packages (from ipython->ktrain) (1.0.18)\n",
      "Requirement already satisfied: simplegeneric>0.8 in /usr/local/lib/python3.6/dist-packages (from ipython->ktrain) (0.8.1)\n",
      "Requirement already satisfied: pygments in /usr/local/lib/python3.6/dist-packages (from ipython->ktrain) (2.6.1)\n",
      "Requirement already satisfied: traitlets>=4.2 in /usr/local/lib/python3.6/dist-packages (from ipython->ktrain) (4.3.3)\n",
      "Requirement already satisfied: h5py in /usr/local/lib/python3.6/dist-packages (from Keras>=2.4.3->keras_bert>=0.86.0->ktrain) (2.10.0)\n",
      "Collecting keras-pos-embd>=0.11.0\n",
      "  Downloading https://files.pythonhosted.org/packages/09/70/b63ed8fc660da2bb6ae29b9895401c628da5740c048c190b5d7107cadd02/keras-pos-embd-0.11.0.tar.gz\n",
      "Collecting keras-multi-head>=0.27.0\n",
      "  Downloading https://files.pythonhosted.org/packages/e6/32/45adf2549450aca7867deccfa04af80a0ab1ca139af44b16bc669e0e09cd/keras-multi-head-0.27.0.tar.gz\n",
      "Collecting keras-layer-normalization>=0.14.0\n",
      "  Downloading https://files.pythonhosted.org/packages/a4/0e/d1078df0494bac9ce1a67954e5380b6e7569668f0f3b50a9531c62c1fc4a/keras-layer-normalization-0.14.0.tar.gz\n",
      "Collecting keras-position-wise-feed-forward>=0.6.0\n",
      "  Downloading https://files.pythonhosted.org/packages/e3/59/f0faa1037c033059e7e9e7758e6c23b4d1c0772cd48de14c4b6fd4033ad5/keras-position-wise-feed-forward-0.6.0.tar.gz\n",
      "Collecting keras-embed-sim>=0.8.0\n",
      "  Downloading https://files.pythonhosted.org/packages/57/ef/61a1e39082c9e1834a2d09261d4a0b69f7c818b359216d4e1912b20b1c86/keras-embed-sim-0.8.0.tar.gz\n",
      "Requirement already satisfied: MarkupSafe>=0.23 in /usr/local/lib/python3.6/dist-packages (from Jinja2>=2.7->bokeh->ktrain) (1.1.1)\n",
      "Requirement already satisfied: click in /usr/local/lib/python3.6/dist-packages (from sacremoses->transformers>=3.1.0->ktrain) (7.1.2)\n",
      "Requirement already satisfied: ptyprocess>=0.5 in /usr/local/lib/python3.6/dist-packages (from pexpect; sys_platform != \"win32\"->ipython->ktrain) (0.6.0)\n",
      "Requirement already satisfied: wcwidth in /usr/local/lib/python3.6/dist-packages (from prompt-toolkit<2.0.0,>=1.0.4->ipython->ktrain) (0.2.5)\n",
      "Requirement already satisfied: ipython-genutils in /usr/local/lib/python3.6/dist-packages (from traitlets>=4.2->ipython->ktrain) (0.2.0)\n",
      "Collecting keras-self-attention==0.46.0\n",
      "  Downloading https://files.pythonhosted.org/packages/15/6b/c804924a056955fa1f3ff767945187103cfc851ba9bd0fc5a6c6bc18e2eb/keras-self-attention-0.46.0.tar.gz\n",
      "Building wheels for collected packages: ktrain, keras-bert, langdetect, seqeval, syntok, keras-transformer, sacremoses, keras-pos-embd, keras-multi-head, keras-layer-normalization, keras-position-wise-feed-forward, keras-embed-sim, keras-self-attention\n",
      "  Building wheel for ktrain (setup.py) ... \u001b[?25l\u001b[?25hdone\n",
      "  Created wheel for ktrain: filename=ktrain-0.21.4-cp36-none-any.whl size=25270024 sha256=b5d94e83dd30dc5e0cee64f8d9c476a22db5eb7da93af886e3743f20c68b6869\n",
      "  Stored in directory: /root/.cache/pip/wheels/e8/b6/c2/a730bb7727f9402827eb9cdd277a527a4a88acb2b0d22f06f0\n",
      "  Building wheel for keras-bert (setup.py) ... \u001b[?25l\u001b[?25hdone\n",
      "  Created wheel for keras-bert: filename=keras_bert-0.86.0-cp36-none-any.whl size=34145 sha256=9ce5dfdb69ba2a17597d4aae36c73c2833fd192bf5584923776ea4db072b4d93\n",
      "  Stored in directory: /root/.cache/pip/wheels/66/f0/b1/748128b58562fc9e31b907bb5e2ab6a35eb37695e83911236b\n",
      "  Building wheel for langdetect (setup.py) ... \u001b[?25l\u001b[?25hdone\n",
      "  Created wheel for langdetect: filename=langdetect-1.0.8-cp36-none-any.whl size=993195 sha256=452921aad7f0fa71a0a675f05753c83733eec8219da2b0852d2fee1c54a5a8bc\n",
      "  Stored in directory: /root/.cache/pip/wheels/8d/b3/aa/6d99de9f3841d7d3d40a60ea06e6d669e8e5012e6c8b947a57\n",
      "  Building wheel for seqeval (setup.py) ... \u001b[?25l\u001b[?25hdone\n",
      "  Created wheel for seqeval: filename=seqeval-0.0.17-cp36-none-any.whl size=7640 sha256=418a9c8700c05dc4b7c179bcb8fb565e38c2327549228ebbb6616c3b536e0d12\n",
      "  Stored in directory: /root/.cache/pip/wheels/6a/c8/cf/7b9d5d52984c08ce4d27d6f858a682ef74a3738f43f489166a\n",
      "  Building wheel for syntok (setup.py) ... \u001b[?25l\u001b[?25hdone\n",
      "  Created wheel for syntok: filename=syntok-1.3.1-cp36-none-any.whl size=20919 sha256=4756adcf1e33d309eb576663e9c4e35e9555afdfea473cc9a5ed157fff27799c\n",
      "  Stored in directory: /root/.cache/pip/wheels/51/c6/a4/be1920586c49469846bcd2888200bdecfe109ec421dab9be2d\n",
      "  Building wheel for keras-transformer (setup.py) ... \u001b[?25l\u001b[?25hdone\n",
      "  Created wheel for keras-transformer: filename=keras_transformer-0.38.0-cp36-none-any.whl size=12942 sha256=5696a99ee4c1ecb7bd072d5a53192bc7f68c34461f847144283aa4034374d4df\n",
      "  Stored in directory: /root/.cache/pip/wheels/e5/fb/3a/37b2b9326c799aa010ae46a04ddb04f320d8c77c0b7e837f4e\n",
      "  Building wheel for sacremoses (setup.py) ... \u001b[?25l\u001b[?25hdone\n",
      "  Created wheel for sacremoses: filename=sacremoses-0.0.43-cp36-none-any.whl size=893257 sha256=104b0c76271fe04e394fac7fa6369ed52b59d4785fb3b740d958408e0f746e73\n",
      "  Stored in directory: /root/.cache/pip/wheels/29/3c/fd/7ce5c3f0666dab31a50123635e6fb5e19ceb42ce38d4e58f45\n",
      "  Building wheel for keras-pos-embd (setup.py) ... \u001b[?25l\u001b[?25hdone\n",
      "  Created wheel for keras-pos-embd: filename=keras_pos_embd-0.11.0-cp36-none-any.whl size=7554 sha256=32149186fe9e8f532c9104c6cfe4e57b691ee1ffb7b869a671a5d8e809c2189e\n",
      "  Stored in directory: /root/.cache/pip/wheels/5b/a1/a0/ce6b1d49ba1a9a76f592e70cf297b05c96bc9f418146761032\n",
      "  Building wheel for keras-multi-head (setup.py) ... \u001b[?25l\u001b[?25hdone\n",
      "  Created wheel for keras-multi-head: filename=keras_multi_head-0.27.0-cp36-none-any.whl size=15612 sha256=7431cbd7f7986a478fd7a642aea0da819d545be18ed58a6720b3d525ecfa537c\n",
      "  Stored in directory: /root/.cache/pip/wheels/b5/b4/49/0a0c27dcb93c13af02fea254ff51d1a43a924dd4e5b7a7164d\n",
      "  Building wheel for keras-layer-normalization (setup.py) ... \u001b[?25l\u001b[?25hdone\n",
      "  Created wheel for keras-layer-normalization: filename=keras_layer_normalization-0.14.0-cp36-none-any.whl size=5268 sha256=3e568ac688b36f04d28da603f68057323022326cd8f7861e60662a95a54fcccd\n",
      "  Stored in directory: /root/.cache/pip/wheels/54/80/22/a638a7d406fd155e507aa33d703e3fa2612b9eb7bb4f4fe667\n",
      "  Building wheel for keras-position-wise-feed-forward (setup.py) ... \u001b[?25l\u001b[?25hdone\n",
      "  Created wheel for keras-position-wise-feed-forward: filename=keras_position_wise_feed_forward-0.6.0-cp36-none-any.whl size=5626 sha256=2c28f4658965e0022710fa59b0b86b5b03f237fba1ee6516187d604b7ec01642\n",
      "  Stored in directory: /root/.cache/pip/wheels/39/e2/e2/3514fef126a00574b13bc0b9e23891800158df3a3c19c96e3b\n",
      "  Building wheel for keras-embed-sim (setup.py) ... \u001b[?25l\u001b[?25hdone\n",
      "  Created wheel for keras-embed-sim: filename=keras_embed_sim-0.8.0-cp36-none-any.whl size=4559 sha256=513d09467bfe96fd2840e11fa4b551770093fb302ec935ebe144ef1243e7cf21\n",
      "  Stored in directory: /root/.cache/pip/wheels/49/45/8b/c111f6cc8bec253e984677de73a6f4f5d2f1649f42aac191c8\n",
      "  Building wheel for keras-self-attention (setup.py) ... \u001b[?25l\u001b[?25hdone\n",
      "  Created wheel for keras-self-attention: filename=keras_self_attention-0.46.0-cp36-none-any.whl size=17278 sha256=8993ebf2cf413a379708893d0494b85498b3c2aec2cc582b538faf6c573573d2\n",
      "  Stored in directory: /root/.cache/pip/wheels/d2/2e/80/fec4c05eb23c8e13b790e26d207d6e0ffe8013fad8c6bdd4d2\n",
      "Successfully built ktrain keras-bert langdetect seqeval syntok keras-transformer sacremoses keras-pos-embd keras-multi-head keras-layer-normalization keras-position-wise-feed-forward keras-embed-sim keras-self-attention\n",
      "Installing collected packages: keras-pos-embd, keras-self-attention, keras-multi-head, keras-layer-normalization, keras-position-wise-feed-forward, keras-embed-sim, keras-transformer, keras-bert, langdetect, cchardet, seqeval, sentencepiece, sacremoses, tokenizers, transformers, syntok, whoosh, ktrain\n",
      "Successfully installed cchardet-2.1.6 keras-bert-0.86.0 keras-embed-sim-0.8.0 keras-layer-normalization-0.14.0 keras-multi-head-0.27.0 keras-pos-embd-0.11.0 keras-position-wise-feed-forward-0.6.0 keras-self-attention-0.46.0 keras-transformer-0.38.0 ktrain-0.21.4 langdetect-1.0.8 sacremoses-0.0.43 sentencepiece-0.1.91 seqeval-0.0.17 syntok-1.3.1 tokenizers-0.8.1rc2 transformers-3.3.1 whoosh-2.7.4\n"
     ]
    }
   ],
   "source": [
    "!pip install ktrain\n"
   ]
  },
  {
   "cell_type": "markdown",
   "metadata": {
    "id": "aIDG5SAPJQ1e"
   },
   "source": [
    "## Importing Libraries"
   ]
  },
  {
   "cell_type": "code",
   "execution_count": 2,
   "metadata": {
    "executionInfo": {
     "elapsed": 7290,
     "status": "ok",
     "timestamp": 1601673531808,
     "user": {
      "displayName": "Alvin Chen",
      "photoUrl": "",
      "userId": "06244732172561186175"
     },
     "user_tz": -480
    },
    "id": "X-IAR3sl65Js"
   },
   "outputs": [],
   "source": [
    "import tensorflow as tf\n",
    "import pandas as pd\n",
    "import numpy as np\n",
    "import ktrain\n",
    "from ktrain import text\n",
    "import tensorflow as tf"
   ]
  },
  {
   "cell_type": "code",
   "execution_count": null,
   "metadata": {
    "colab": {
     "base_uri": "https://localhost:8080/",
     "height": 35
    },
    "executionInfo": {
     "elapsed": 655,
     "status": "ok",
     "timestamp": 1601671609695,
     "user": {
      "displayName": "Alvin Chen",
      "photoUrl": "",
      "userId": "06244732172561186175"
     },
     "user_tz": -480
    },
    "id": "McPumUFH67dJ",
    "outputId": "442b69f8-35b6-4aa5-c6f2-a8ab3ba79034"
   },
   "outputs": [
    {
     "data": {
      "application/vnd.google.colaboratory.intrinsic+json": {
       "type": "string"
      },
      "text/plain": [
       "'2.3.0'"
      ]
     },
     "execution_count": 3,
     "metadata": {
      "tags": []
     },
     "output_type": "execute_result"
    }
   ],
   "source": [
    "tf.__version__"
   ]
  },
  {
   "cell_type": "markdown",
   "metadata": {
    "id": "D-V4FfazJT2q"
   },
   "source": [
    "## Clone Git Repository for Data"
   ]
  },
  {
   "cell_type": "code",
   "execution_count": null,
   "metadata": {
    "colab": {
     "base_uri": "https://localhost:8080/",
     "height": 121
    },
    "executionInfo": {
     "elapsed": 4154,
     "status": "ok",
     "timestamp": 1601671615689,
     "user": {
      "displayName": "Alvin Chen",
      "photoUrl": "",
      "userId": "06244732172561186175"
     },
     "user_tz": -480
    },
    "id": "KsCi7K5I68eA",
    "outputId": "efd8e5d4-c9ac-477a-a188-63abf126b035"
   },
   "outputs": [
    {
     "name": "stdout",
     "output_type": "stream",
     "text": [
      "Cloning into 'IMDB-Movie-Reviews-Large-Dataset-50k'...\n",
      "remote: Enumerating objects: 10, done.\u001b[K\n",
      "remote: Counting objects: 100% (10/10), done.\u001b[K\n",
      "remote: Compressing objects: 100% (8/8), done.\u001b[K\n",
      "remote: Total 10 (delta 1), reused 0 (delta 0), pack-reused 0\u001b[K\n",
      "Unpacking objects: 100% (10/10), done.\n"
     ]
    }
   ],
   "source": [
    "## Will need this if data is available on GitHub\n",
    "# !git clone https://github.com/laxmimerit/IMDB-Movie-Reviews-Large-Dataset-50k.git"
   ]
  },
  {
   "cell_type": "markdown",
   "metadata": {
    "id": "QhsvEQdAJYoW"
   },
   "source": [
    "## Data Preparation"
   ]
  },
  {
   "cell_type": "markdown",
   "metadata": {
    "id": "NY0u4FstraBA"
   },
   "source": [
    "- Mount the Google Drive first (manually via the tabs on the left of Google Colab\n",
    "\n",
    "- The default path of the input data csv file is:\n",
    "\n",
    "```\n",
    "GOOGLE_DRIVE_ROOT/ColabData/marc_movie_review_metadata.csv\n",
    "```\n",
    "- In BERT, there is no need to do word segmentation. The model takes in the raw reviews as the input."
   ]
  },
  {
   "cell_type": "code",
   "execution_count": 221,
   "metadata": {
    "colab": {
     "base_uri": "https://localhost:8080/",
     "height": 202
    },
    "executionInfo": {
     "elapsed": 948,
     "status": "ok",
     "timestamp": 1601681854515,
     "user": {
      "displayName": "Alvin Chen",
      "photoUrl": "",
      "userId": "06244732172561186175"
     },
     "user_tz": -480
    },
    "id": "s04qHEWErVva",
    "outputId": "fcba6a45-6e0f-4f51-b1af-847bee69aad0"
   },
   "outputs": [
    {
     "data": {
      "text/html": [
       "<div>\n",
       "<style scoped>\n",
       "    .dataframe tbody tr th:only-of-type {\n",
       "        vertical-align: middle;\n",
       "    }\n",
       "\n",
       "    .dataframe tbody tr th {\n",
       "        vertical-align: top;\n",
       "    }\n",
       "\n",
       "    .dataframe thead th {\n",
       "        text-align: right;\n",
       "    }\n",
       "</style>\n",
       "<table border=\"1\" class=\"dataframe\">\n",
       "  <thead>\n",
       "    <tr style=\"text-align: right;\">\n",
       "      <th></th>\n",
       "      <th>Reviews</th>\n",
       "      <th>Sentiment</th>\n",
       "    </tr>\n",
       "  </thead>\n",
       "  <tbody>\n",
       "    <tr>\n",
       "      <th>0</th>\n",
       "      <td>唉，踩雷了，浪費時間，不推 唉，踩雷了，浪費時間，不推</td>\n",
       "      <td>negative</td>\n",
       "    </tr>\n",
       "    <tr>\n",
       "      <th>1</th>\n",
       "      <td>片長三個小時，只有最後半小時能看，前面真的鋪陳太久，我旁邊的都看到打呼</td>\n",
       "      <td>negative</td>\n",
       "    </tr>\n",
       "    <tr>\n",
       "      <th>2</th>\n",
       "      <td>史上之最，劇情拖太長，邊看邊想睡覺......  1.浩克竟然學會跟旁人一起合照。 2.索爾...</td>\n",
       "      <td>negative</td>\n",
       "    </tr>\n",
       "    <tr>\n",
       "      <th>3</th>\n",
       "      <td>難看死ㄌ 難看死了 難看死ㄌ 看到睡著 拖戲拖很長 爛到爆</td>\n",
       "      <td>negative</td>\n",
       "    </tr>\n",
       "    <tr>\n",
       "      <th>4</th>\n",
       "      <td>連續三度睡著，真的演的太好睡了</td>\n",
       "      <td>negative</td>\n",
       "    </tr>\n",
       "  </tbody>\n",
       "</table>\n",
       "</div>"
      ],
      "text/plain": [
       "                                             Reviews Sentiment\n",
       "0                        唉，踩雷了，浪費時間，不推 唉，踩雷了，浪費時間，不推  negative\n",
       "1                片長三個小時，只有最後半小時能看，前面真的鋪陳太久，我旁邊的都看到打呼  negative\n",
       "2  史上之最，劇情拖太長，邊看邊想睡覺......  1.浩克竟然學會跟旁人一起合照。 2.索爾...  negative\n",
       "3                      難看死ㄌ 難看死了 難看死ㄌ 看到睡著 拖戲拖很長 爛到爆  negative\n",
       "4                                    連續三度睡著，真的演的太好睡了  negative"
      ]
     },
     "execution_count": 221,
     "metadata": {
      "tags": []
     },
     "output_type": "execute_result"
    }
   ],
   "source": [
    "## loading the train dataset\n",
    "## change the path if necessary\n",
    "data = pd.read_csv('/content/drive/My Drive/ColabData/marc_movie_review_metadata.csv', dtype= str)[['reviews','rating']]\n",
    "data = data.rename(columns={'reviews':'Reviews', 'rating':'Sentiment'})\n",
    "data.head()"
   ]
  },
  {
   "cell_type": "code",
   "execution_count": 21,
   "metadata": {
    "executionInfo": {
     "elapsed": 1038,
     "status": "ok",
     "timestamp": 1601674079874,
     "user": {
      "displayName": "Alvin Chen",
      "photoUrl": "",
      "userId": "06244732172561186175"
     },
     "user_tz": -480
    },
    "id": "b2db72Sb6-M7"
   },
   "outputs": [],
   "source": [
    "from sklearn.model_selection import train_test_split\n",
    "\n",
    "data_train, data_test = train_test_split(data, test_size=0.1)\n"
   ]
  },
  {
   "cell_type": "code",
   "execution_count": 22,
   "metadata": {
    "colab": {
     "base_uri": "https://localhost:8080/",
     "height": 237
    },
    "executionInfo": {
     "elapsed": 1022,
     "status": "ok",
     "timestamp": 1601674082503,
     "user": {
      "displayName": "Alvin Chen",
      "photoUrl": "",
      "userId": "06244732172561186175"
     },
     "user_tz": -480
    },
    "id": "AzoXmupK7BmB",
    "outputId": "ecfa46af-4200-4b41-c099-29b4bdb3b179"
   },
   "outputs": [
    {
     "name": "stdout",
     "output_type": "stream",
     "text": [
      "Size of train dataset:  (2880, 2)\n",
      "Size of test dataset:  (320, 2)\n"
     ]
    },
    {
     "data": {
      "text/html": [
       "<div>\n",
       "<style scoped>\n",
       "    .dataframe tbody tr th:only-of-type {\n",
       "        vertical-align: middle;\n",
       "    }\n",
       "\n",
       "    .dataframe tbody tr th {\n",
       "        vertical-align: top;\n",
       "    }\n",
       "\n",
       "    .dataframe thead th {\n",
       "        text-align: right;\n",
       "    }\n",
       "</style>\n",
       "<table border=\"1\" class=\"dataframe\">\n",
       "  <thead>\n",
       "    <tr style=\"text-align: right;\">\n",
       "      <th></th>\n",
       "      <th>Reviews</th>\n",
       "      <th>Sentiment</th>\n",
       "    </tr>\n",
       "  </thead>\n",
       "  <tbody>\n",
       "    <tr>\n",
       "      <th>2430</th>\n",
       "      <td>刻劃深刻的一部片，會讓人有心痛的感覺。亞瑟雖然有精神疾病，卻也希望用自己的方法帶來歡笑，可惜...</td>\n",
       "      <td>positive</td>\n",
       "    </tr>\n",
       "    <tr>\n",
       "      <th>1584</th>\n",
       "      <td>看過一次就夠了 如果不是做影評的 何必浪費錢 這就是一部刻意燒腦的電影 沒那麼偉大。</td>\n",
       "      <td>negative</td>\n",
       "    </tr>\n",
       "    <tr>\n",
       "      <th>769</th>\n",
       "      <td>給五星的是怎麼回事？純粹政治認同給的分數嗎？純粹以電影評論而已真的不好看，不合邏輯的地方太多...</td>\n",
       "      <td>negative</td>\n",
       "    </tr>\n",
       "    <tr>\n",
       "      <th>1631</th>\n",
       "      <td>雖然看似輕鬆詼諧劇情\\r\\n但深刻的撼動內心\\r\\n推薦給所有韓粉們</td>\n",
       "      <td>positive</td>\n",
       "    </tr>\n",
       "    <tr>\n",
       "      <th>2247</th>\n",
       "      <td>很刺激好看超爽！\\r\\n推薦去電影院看！</td>\n",
       "      <td>positive</td>\n",
       "    </tr>\n",
       "  </tbody>\n",
       "</table>\n",
       "</div>"
      ],
      "text/plain": [
       "                                                Reviews Sentiment\n",
       "2430  刻劃深刻的一部片，會讓人有心痛的感覺。亞瑟雖然有精神疾病，卻也希望用自己的方法帶來歡笑，可惜...  positive\n",
       "1584         看過一次就夠了 如果不是做影評的 何必浪費錢 這就是一部刻意燒腦的電影 沒那麼偉大。  negative\n",
       "769   給五星的是怎麼回事？純粹政治認同給的分數嗎？純粹以電影評論而已真的不好看，不合邏輯的地方太多...  negative\n",
       "1631                 雖然看似輕鬆詼諧劇情\\r\\n但深刻的撼動內心\\r\\n推薦給所有韓粉們  positive\n",
       "2247                               很刺激好看超爽！\\r\\n推薦去電影院看！  positive"
      ]
     },
     "execution_count": 22,
     "metadata": {
      "tags": []
     },
     "output_type": "execute_result"
    }
   ],
   "source": [
    "## dimension of the dataset\n",
    "\n",
    "print(\"Size of train dataset: \",data_train.shape)\n",
    "print(\"Size of test dataset: \",data_test.shape)\n",
    "\n",
    "#printing last rows of train dataset\n",
    "data_train.tail()\n",
    "\n",
    "#printing head rows of test dataset\n",
    "data_test.head()"
   ]
  },
  {
   "cell_type": "markdown",
   "metadata": {
    "id": "D8WkJgFgJbne"
   },
   "source": [
    "## Train-Test Split"
   ]
  },
  {
   "cell_type": "markdown",
   "metadata": {
    "id": "9mjHIjWzOKJl"
   },
   "source": [
    "Models supported by transformers library for tensorflow 2:\n",
    "\n",
    "- **BERT**: bert-base-uncased, bert-large-uncased,bert-base-multilingual-uncased, and others.\n",
    "- **DistilBERT**: distilbert-base-uncased distilbert-base-multilingual-cased, distilbert-base-german-cased, and others\n",
    "- **ALBERT**: albert-base-v2, albert-large-v2, and others\n",
    "- **RoBERTa**: roberta-base, roberta-large, roberta-large-mnli\n",
    "- **XLM**: xlm-mlm-xnli15–1024, xlm-mlm-100–1280, and others\n",
    "- **XLNet**: xlnet-base-cased, xlnet-large-cased\n"
   ]
  },
  {
   "cell_type": "code",
   "execution_count": 25,
   "metadata": {
    "colab": {
     "base_uri": "https://localhost:8080/",
     "height": 277
    },
    "executionInfo": {
     "elapsed": 17916,
     "status": "ok",
     "timestamp": 1601674449589,
     "user": {
      "displayName": "Alvin Chen",
      "photoUrl": "",
      "userId": "06244732172561186175"
     },
     "user_tz": -480
    },
    "id": "L2fVjt7c7Hpy",
    "outputId": "2d927b0e-5288-463c-94d4-593a1fc2240b"
   },
   "outputs": [
    {
     "name": "stdout",
     "output_type": "stream",
     "text": [
      "downloading pretrained BERT model (chinese_L-12_H-768_A-12.zip)...\n",
      "[██████████████████████████████████████████████████]\n",
      "extracting pretrained BERT model...\n",
      "done.\n",
      "\n",
      "cleanup downloaded zip...\n",
      "done.\n",
      "\n",
      "preprocessing train...\n",
      "language: zh-*\n"
     ]
    },
    {
     "data": {
      "text/html": [
       "done."
      ],
      "text/plain": [
       "<IPython.core.display.HTML object>"
      ]
     },
     "metadata": {
      "tags": []
     },
     "output_type": "display_data"
    },
    {
     "name": "stdout",
     "output_type": "stream",
     "text": [
      "Is Multi-Label? False\n",
      "preprocessing test...\n",
      "language: zh-*\n"
     ]
    },
    {
     "data": {
      "text/html": [
       "done."
      ],
      "text/plain": [
       "<IPython.core.display.HTML object>"
      ]
     },
     "metadata": {
      "tags": []
     },
     "output_type": "display_data"
    }
   ],
   "source": [
    "# text.texts_from_df return two tuples\n",
    "# maxlen means it is considering that much words and rest are getting trucated\n",
    "# preprocess_mode means tokenizing, embedding and transformation of text corpus(here it is considering BERT model)\n",
    "\n",
    "\n",
    "(X_train, y_train), (X_test, y_test), preproc = text.texts_from_df(train_df=data_train,\n",
    "                                                                   text_column = 'Reviews',\n",
    "                                                                   label_columns = 'Sentiment',\n",
    "                                                                   val_df = data_test,\n",
    "                                                                   maxlen = 250,\n",
    "                                                                   lang = 'zh-*',\n",
    "                                                                   preprocess_mode = 'bert') # or distilbert"
   ]
  },
  {
   "cell_type": "code",
   "execution_count": 28,
   "metadata": {
    "colab": {
     "base_uri": "https://localhost:8080/",
     "height": 52
    },
    "executionInfo": {
     "elapsed": 947,
     "status": "ok",
     "timestamp": 1601674565489,
     "user": {
      "displayName": "Alvin Chen",
      "photoUrl": "",
      "userId": "06244732172561186175"
     },
     "user_tz": -480
    },
    "id": "tpPUM8EOPao4",
    "outputId": "69194807-0388-4feb-f376-c488af3e0e95"
   },
   "outputs": [
    {
     "name": "stdout",
     "output_type": "stream",
     "text": [
      "(2880, 250) (2880, 2)\n",
      "(320, 250) (320, 2)\n"
     ]
    }
   ],
   "source": [
    "## size of data\n",
    "print(X_train[0].shape, y_train.shape)\n",
    "print(X_test[0].shape, y_test.shape)"
   ]
  },
  {
   "cell_type": "markdown",
   "metadata": {
    "id": "xTgwwZuLJedX"
   },
   "source": [
    "## Define Model"
   ]
  },
  {
   "cell_type": "code",
   "execution_count": 29,
   "metadata": {
    "colab": {
     "base_uri": "https://localhost:8080/",
     "height": 69
    },
    "executionInfo": {
     "elapsed": 11061,
     "status": "ok",
     "timestamp": 1601674659197,
     "user": {
      "displayName": "Alvin Chen",
      "photoUrl": "",
      "userId": "06244732172561186175"
     },
     "user_tz": -480
    },
    "id": "eO2lRPLR7Jtp",
    "outputId": "4ca938cd-defe-4531-e1e4-6ba6bda55ee5"
   },
   "outputs": [
    {
     "name": "stdout",
     "output_type": "stream",
     "text": [
      "Is Multi-Label? False\n",
      "maxlen is 250\n",
      "done.\n"
     ]
    }
   ],
   "source": [
    "## use 'distilbert' if you want\n",
    "model = text.text_classifier(name = 'bert', # or distilbert\n",
    "                             train_data = (X_train, y_train),\n",
    "                             preproc = preproc)"
   ]
  },
  {
   "cell_type": "markdown",
   "metadata": {
    "id": "UwasznkXJhv9"
   },
   "source": [
    "## Define Learner"
   ]
  },
  {
   "cell_type": "code",
   "execution_count": 30,
   "metadata": {
    "executionInfo": {
     "elapsed": 2180,
     "status": "ok",
     "timestamp": 1601674691049,
     "user": {
      "displayName": "Alvin Chen",
      "photoUrl": "",
      "userId": "06244732172561186175"
     },
     "user_tz": -480
    },
    "id": "NnSfk3qH7Lmv"
   },
   "outputs": [],
   "source": [
    "#here we have taken batch size as 6 as from the documentation it is recommend to use this with maxlen as 500\n",
    "learner = ktrain.get_learner(model=model, train_data=(X_train, y_train),\n",
    "                   val_data = (X_test, y_test),\n",
    "                   batch_size = 6)"
   ]
  },
  {
   "cell_type": "markdown",
   "metadata": {
    "id": "yXeMCJHlQEtK"
   },
   "source": [
    "## Estimate Learning Rate (Optional)\n",
    "\n",
    "- A nice artilce on how to interpret learning rate plots. See [Keras Learning Rate Finder](https://www.pyimagesearch.com/2019/08/05/keras-learning-rate-finder/)."
   ]
  },
  {
   "cell_type": "code",
   "execution_count": 31,
   "metadata": {
    "colab": {
     "base_uri": "https://localhost:8080/",
     "height": 439
    },
    "executionInfo": {
     "elapsed": 493371,
     "status": "ok",
     "timestamp": 1601675244981,
     "user": {
      "displayName": "Alvin Chen",
      "photoUrl": "",
      "userId": "06244732172561186175"
     },
     "user_tz": -480
    },
    "id": "BBqpvJLXQHTE",
    "outputId": "56d241fa-071f-41d9-c9a2-3a19a1db495d"
   },
   "outputs": [
    {
     "name": "stdout",
     "output_type": "stream",
     "text": [
      "simulating training for different learning rates... this may take a few moments...\n",
      "Epoch 1/2\n",
      "480/480 [==============================] - 234s 488ms/step - loss: 0.6287 - accuracy: 0.6681\n",
      "Epoch 2/2\n",
      "480/480 [==============================] - 235s 489ms/step - loss: 2.7506 - accuracy: 0.4878\n",
      "\n",
      "\n",
      "done.\n",
      "Visually inspect loss plot and select learning rate associated with falling loss\n"
     ]
    },
    {
     "data": {
      "image/png": "[encoded data removed]",
      "text/plain": [
       "<Figure size 432x288 with 1 Axes>"
      ]
     },
     "metadata": {
      "filenames": {
       "image/png": "/Users/Alvin/GoogleDrive/_MySyncDrive/Repository/python-notes/_build/jupyter_execute/sentiment-analysis-using-bert-chinese_23_1.png"
      },
      "needs_background": "light",
      "tags": []
     },
     "output_type": "display_data"
    }
   ],
   "source": [
    "learner.lr_find(show_plot=True, max_epochs=2)"
   ]
  },
  {
   "cell_type": "markdown",
   "metadata": {
    "id": "em4XmySEJjhg"
   },
   "source": [
    "## Fit and Save Model"
   ]
  },
  {
   "cell_type": "code",
   "execution_count": 32,
   "metadata": {
    "colab": {
     "base_uri": "https://localhost:8080/",
     "height": 87
    },
    "executionInfo": {
     "elapsed": 270488,
     "status": "ok",
     "timestamp": 1601675737218,
     "user": {
      "displayName": "Alvin Chen",
      "photoUrl": "",
      "userId": "06244732172561186175"
     },
     "user_tz": -480
    },
    "id": "OYx8hDh77NTj",
    "outputId": "b21df17f-64ea-4cb0-8235-4587de87663f"
   },
   "outputs": [
    {
     "name": "stdout",
     "output_type": "stream",
     "text": [
      "\n",
      "\n",
      "begin training using onecycle policy with max lr of 2e-05...\n",
      "480/480 [==============================] - 249s 520ms/step - loss: 0.3143 - accuracy: 0.8639 - val_loss: 0.1878 - val_accuracy: 0.9406\n"
     ]
    }
   ],
   "source": [
    "#Essentially fit is a very basic training loop, whereas fit one cycle uses the one cycle policy callback\n",
    "\n",
    "learner.fit_onecycle(lr = 2e-5, epochs = 1)\n",
    "predictor = ktrain.get_predictor(learner.model, preproc)\n",
    "predictor.save('/content/drive/My Drive/ColabData/bert-ch-marc')\n"
   ]
  },
  {
   "cell_type": "markdown",
   "metadata": {
    "id": "QanjVbtrUg2k"
   },
   "source": [
    "## Evaluation"
   ]
  },
  {
   "cell_type": "code",
   "execution_count": 47,
   "metadata": {
    "colab": {
     "base_uri": "https://localhost:8080/",
     "height": 17
    },
    "executionInfo": {
     "elapsed": 7741,
     "status": "ok",
     "timestamp": 1601676630649,
     "user": {
      "displayName": "Alvin Chen",
      "photoUrl": "",
      "userId": "06244732172561186175"
     },
     "user_tz": -480
    },
    "id": "DIxLGlloW4ZY",
    "outputId": "a2cf6d98-0dac-441e-f0a9-0b7596b16669"
   },
   "outputs": [
    {
     "data": {
      "text/html": [],
      "text/plain": [
       "<IPython.core.display.HTML object>"
      ]
     },
     "metadata": {
      "tags": []
     },
     "output_type": "display_data"
    }
   ],
   "source": [
    "y_pred=predictor.predict(data_test['Reviews'].values)"
   ]
  },
  {
   "cell_type": "code",
   "execution_count": 55,
   "metadata": {
    "colab": {
     "base_uri": "https://localhost:8080/",
     "height": 173
    },
    "executionInfo": {
     "elapsed": 843,
     "status": "ok",
     "timestamp": 1601676815382,
     "user": {
      "displayName": "Alvin Chen",
      "photoUrl": "",
      "userId": "06244732172561186175"
     },
     "user_tz": -480
    },
    "id": "amqEeO1sYKIp",
    "outputId": "04c16165-7afd-4e64-8c24-9333564d0ee6"
   },
   "outputs": [
    {
     "name": "stdout",
     "output_type": "stream",
     "text": [
      "              precision    recall  f1-score   support\n",
      "\n",
      "    negative       0.92      0.95      0.94       145\n",
      "    positive       0.96      0.93      0.94       175\n",
      "\n",
      "    accuracy                           0.94       320\n",
      "   macro avg       0.94      0.94      0.94       320\n",
      "weighted avg       0.94      0.94      0.94       320\n",
      "\n"
     ]
    }
   ],
   "source": [
    "# classification report\n",
    "\n",
    "from sklearn.metrics import classification_report\n",
    "print(classification_report(y_true, y_pred))\n"
   ]
  },
  {
   "cell_type": "code",
   "execution_count": 48,
   "metadata": {
    "colab": {
     "base_uri": "https://localhost:8080/",
     "height": 52
    },
    "executionInfo": {
     "elapsed": 842,
     "status": "ok",
     "timestamp": 1601676677489,
     "user": {
      "displayName": "Alvin Chen",
      "photoUrl": "",
      "userId": "06244732172561186175"
     },
     "user_tz": -480
    },
    "id": "PJt3-6h0XgDV",
    "outputId": "acaad4e0-c02f-48c0-a57b-563e3a3e7683"
   },
   "outputs": [
    {
     "data": {
      "text/plain": [
       "array([[138,   7],\n",
       "       [ 12, 163]])"
      ]
     },
     "execution_count": 48,
     "metadata": {
      "tags": []
     },
     "output_type": "execute_result"
    }
   ],
   "source": [
    "y_true = data_test['Sentiment'].values\n",
    "# Confusion Matrix\n",
    "from sklearn.metrics import confusion_matrix\n",
    "confusion_matrix(y_true, y_pred)"
   ]
  },
  {
   "cell_type": "code",
   "execution_count": 49,
   "metadata": {
    "colab": {
     "base_uri": "https://localhost:8080/",
     "height": 35
    },
    "executionInfo": {
     "elapsed": 828,
     "status": "ok",
     "timestamp": 1601676701347,
     "user": {
      "displayName": "Alvin Chen",
      "photoUrl": "",
      "userId": "06244732172561186175"
     },
     "user_tz": -480
    },
    "id": "3e79QLdVXt17",
    "outputId": "d693de0d-a7e6-46be-c12c-b601a083850b"
   },
   "outputs": [
    {
     "data": {
      "text/plain": [
       "0.940625"
      ]
     },
     "execution_count": 49,
     "metadata": {
      "tags": []
     },
     "output_type": "execute_result"
    }
   ],
   "source": [
    "# Accuracy\n",
    "from sklearn.metrics import accuracy_score\n",
    "accuracy_score(y_true, y_pred)"
   ]
  },
  {
   "cell_type": "code",
   "execution_count": 50,
   "metadata": {
    "colab": {
     "base_uri": "https://localhost:8080/",
     "height": 35
    },
    "executionInfo": {
     "elapsed": 799,
     "status": "ok",
     "timestamp": 1601676709520,
     "user": {
      "displayName": "Alvin Chen",
      "photoUrl": "",
      "userId": "06244732172561186175"
     },
     "user_tz": -480
    },
    "id": "T4B__JNGXvbs",
    "outputId": "44f89ae4-bf8e-4dc4-ec1a-1161264faea9"
   },
   "outputs": [
    {
     "data": {
      "text/plain": [
       "array([0.95172414, 0.93142857])"
      ]
     },
     "execution_count": 50,
     "metadata": {
      "tags": []
     },
     "output_type": "execute_result"
    }
   ],
   "source": [
    "# Recall\n",
    "from sklearn.metrics import recall_score\n",
    "recall_score(y_true, y_pred, average=None)"
   ]
  },
  {
   "cell_type": "code",
   "execution_count": null,
   "metadata": {
    "id": "aZZMJ2JcXzPX"
   },
   "outputs": [],
   "source": [
    "# Precision\n",
    "from sklearn.metrics import precision_score\n",
    "precision_score(y_true, y_pred, average=None)"
   ]
  },
  {
   "cell_type": "code",
   "execution_count": null,
   "metadata": {
    "id": "jdBKbN6xX4Bl"
   },
   "outputs": [],
   "source": [
    "# F1\n",
    "from sklearn.metrics import f1_score\n",
    "f1_score(y_test, y_pred, average=None)\n"
   ]
  },
  {
   "cell_type": "code",
   "execution_count": 202,
   "metadata": {
    "colab": {
     "base_uri": "https://localhost:8080/",
     "height": 121
    },
    "executionInfo": {
     "elapsed": 7683,
     "status": "ok",
     "timestamp": 1601681202415,
     "user": {
      "displayName": "Alvin Chen",
      "photoUrl": "",
      "userId": "06244732172561186175"
     },
     "user_tz": -480
    },
    "id": "c7Iv36tpYoxL",
    "outputId": "3d3801e5-4a7e-4b64-d90d-69953aa69b78"
   },
   "outputs": [
    {
     "data": {
      "text/html": [],
      "text/plain": [
       "<IPython.core.display.HTML object>"
      ]
     },
     "metadata": {
      "tags": []
     },
     "output_type": "display_data"
    },
    {
     "name": "stdout",
     "output_type": "stream",
     "text": [
      "['negative', 'positive']\n",
      "[[0.00750571 0.9924942 ]\n",
      " [0.97774005 0.02225988]\n",
      " [0.97982943 0.02017057]\n",
      " [0.00750882 0.9924912 ]\n",
      " [0.00296137 0.9970386 ]]\n"
     ]
    }
   ],
   "source": [
    "## AUC-ROC Curve\n",
    "y_pred_proba = predictor.predict(data_test['Reviews'].values, return_proba=True)\n",
    "print(predictor.get_classes()) # probability of each class\n",
    "print(y_pred_proba[:5,])"
   ]
  },
  {
   "cell_type": "code",
   "execution_count": 208,
   "metadata": {
    "colab": {
     "base_uri": "https://localhost:8080/",
     "height": 851
    },
    "executionInfo": {
     "elapsed": 1327,
     "status": "ok",
     "timestamp": 1601681275033,
     "user": {
      "displayName": "Alvin Chen",
      "photoUrl": "",
      "userId": "06244732172561186175"
     },
     "user_tz": -480
    },
    "id": "uBj1qtRCUq48",
    "outputId": "7c7451a4-8483-4288-afc1-f3c04265e691"
   },
   "outputs": [
    {
     "name": "stdout",
     "output_type": "stream",
     "text": [
      "<matplotlib.colors.ListedColormap object at 0x7ff18b3b9898>\n"
     ]
    },
    {
     "data": {
      "image/png": "[encoded data removed]",
      "text/plain": [
       "<Figure size 1200x825 with 1 Axes>"
      ]
     },
     "metadata": {
      "filenames": {
       "image/png": "/Users/Alvin/GoogleDrive/_MySyncDrive/Repository/python-notes/_build/jupyter_execute/sentiment-analysis-using-bert-chinese_35_1.png"
      },
      "tags": []
     },
     "output_type": "display_data"
    }
   ],
   "source": [
    "y_true_binary = [1 if label=='positive' else 0 for label in y_true]\n",
    "y_pred_proba_positive = y_pred_proba[:,1]\n",
    "y_pred_proba_negative = y_pred_proba[:,0]\n",
    "import numpy as np\n",
    "from sklearn import metrics\n",
    "from sklearn.metrics import roc_auc_score\n",
    "# y_true = np.array([0, 0, 1, 1])\n",
    "# y_scores = np.array([0.1, 0.4, 0.35, 0.8])\n",
    "roc_auc_score(y_true_binary, y_pred_proba_positive)\n",
    "\n",
    "\n",
    "# import sklearn.metrics as metrics\n",
    "# # calculate the fpr and tpr for all thresholds of the classification\n",
    "# probs = model.predict_proba(X_test)\n",
    "# preds = probs[:,1] # \n",
    "fpr, tpr, threshold = metrics.roc_curve(y_true_binary, y_pred_proba_positive)\n",
    "roc_auc = metrics.auc(fpr, tpr)\n",
    "\n",
    "# method I: plt\n",
    "import matplotlib.pyplot as plt\n",
    "plt.style.use('fivethirtyeight')\n",
    "palette = plt.get_cmap('Set1')\n",
    "print(palette)\n",
    "plt.figure(dpi=150)\n",
    "plt.title('Receiver Operating Characteristic')\n",
    "plt.plot(fpr, tpr, 'b', label = 'AUC = %0.2f' % roc_auc, color=palette(2))\n",
    "plt.legend(loc = 'lower right')\n",
    "plt.plot([0, 1], [0, 1],'r--', color=palette(3))\n",
    "plt.xlim([0, 1])\n",
    "plt.ylim([0, 1])\n",
    "plt.ylabel('True Positive Rate')\n",
    "plt.xlabel('False Positive Rate')\n",
    "plt.show()\n"
   ]
  },
  {
   "cell_type": "code",
   "execution_count": 219,
   "metadata": {
    "colab": {
     "base_uri": "https://localhost:8080/",
     "height": 491
    },
    "executionInfo": {
     "elapsed": 1290,
     "status": "ok",
     "timestamp": 1601681793653,
     "user": {
      "displayName": "Alvin Chen",
      "photoUrl": "",
      "userId": "06244732172561186175"
     },
     "user_tz": -480
    },
    "id": "sNW8GwQtcJO2",
    "outputId": "af1e33e0-c0cf-4ebe-ebc9-36a146d44ff3"
   },
   "outputs": [
    {
     "data": {
      "image/png": "[encoded data removed]",
      "text/plain": [
       "<Figure size 640x480 with 1 Axes>"
      ]
     },
     "metadata": {
      "filenames": {
       "image/png": "/Users/Alvin/GoogleDrive/_MySyncDrive/Repository/python-notes/_build/jupyter_execute/sentiment-analysis-using-bert-chinese_36_0.png"
      },
      "tags": []
     },
     "output_type": "display_data"
    },
    {
     "data": {
      "text/plain": [
       "<ggplot: (-9223363245528407871)>"
      ]
     },
     "execution_count": 219,
     "metadata": {
      "tags": []
     },
     "output_type": "execute_result"
    }
   ],
   "source": [
    "# ## ggplot2 version\n",
    "# ## prettier?\n",
    "\n",
    "\n",
    "## Add label for color aesthetic setting\n",
    "f = pd.DataFrame(dict(fpr = fpr, tpr = tpr))\n",
    "f['label']= ['X' for i in range(f.shape[0])]\n",
    "\n",
    "\n",
    "from plotnine import *\n",
    "\n",
    "g = (\n",
    "    ggplot(f, aes('fpr', 'tpr', color='label'))\n",
    "    + geom_line( size=1)\n",
    "    + geom_abline(linetype='dashed', color=\"lightpink\")\n",
    "    + labs(x = 'False Positive Rate', \n",
    "           y = 'True Positive Rate',\n",
    "           title=\"ROC Curve\")\n",
    "    + scale_color_discrete(labels=['AUC = %0.2f' % roc_auc],name = ' ')\n",
    "    + theme(legend_position = (.75,.25),\n",
    "            legend_background = element_rect(fill='lightblue', \n",
    "                                             alpha=0.2,\n",
    "                                             size=0.5, linetype=\"solid\",\n",
    "                                             colour = None)))\n",
    "g\n"
   ]
  },
  {
   "cell_type": "code",
   "execution_count": 220,
   "metadata": {
    "executionInfo": {
     "elapsed": 846,
     "status": "ok",
     "timestamp": 1601681805275,
     "user": {
      "displayName": "Alvin Chen",
      "photoUrl": "",
      "userId": "06244732172561186175"
     },
     "user_tz": -480
    },
    "id": "_ov7TWArqLdt"
   },
   "outputs": [],
   "source": [
    "# g.save('/content/drive/My Drive/ColabData/ggplot-roc.png', width=12, height=10, dpi=300)"
   ]
  },
  {
   "cell_type": "markdown",
   "metadata": {
    "id": "NhSCOvIzJvhW"
   },
   "source": [
    "## Prediction and Deployment"
   ]
  },
  {
   "cell_type": "code",
   "execution_count": 224,
   "metadata": {
    "executionInfo": {
     "elapsed": 1451,
     "status": "ok",
     "timestamp": 1601682462931,
     "user": {
      "displayName": "Alvin Chen",
      "photoUrl": "",
      "userId": "06244732172561186175"
     },
     "user_tz": -480
    },
    "id": "rWAXw5hm7kR1"
   },
   "outputs": [],
   "source": [
    "#sample dataset to test on\n",
    "\n",
    "data = ['前面好笑看到後面真的很好哭！推薦！',\n",
    "        '也太浪費錢了，劇情普普，新鮮度可以再加強',\n",
    "        '人生一定要走一遭電影院',\n",
    "        '不推',\n",
    "        '帶六歲孩子看，大人覺得小孩看可以，小孩也覺得好看',\n",
    "        '我想看兩人如何化解對方的防線，成為彼此的救贖；在人生旅途中，留下最深刻的回憶。',\n",
    "        '這部新恐龍是有史以來最好看的哆啦電影版，50週年紀念作當之無愧，真的太感人了，並且彩蛋多到數不完，這部電影不僅講述了勇氣、友誼與努力不懈的精神，也以大雄的視角來看父母的心情，不管是劇情、畫面都是一流，另外配樂非常到位，全程都不會無聊，非常推薦大人、小孩、父母去電影院看，絕對值得。',\n",
    "        '看完之後覺得新不如舊，還是大雄的恐龍好看，不管是劇情還是做畫，都是大雄的恐龍好，而且大雄的新恐龍做畫有點崩壞，是有沒有好好審查啊!以一部50周年慶的電影來說有點丟臉，自從藤子不二雄過世後，哆啦A夢的電影就一直表現平平，沒有以前的那份感動。']\n"
   ]
  },
  {
   "cell_type": "code",
   "execution_count": 225,
   "metadata": {
    "colab": {
     "base_uri": "https://localhost:8080/",
     "height": 156
    },
    "executionInfo": {
     "elapsed": 1462,
     "status": "ok",
     "timestamp": 1601682467757,
     "user": {
      "displayName": "Alvin Chen",
      "photoUrl": "",
      "userId": "06244732172561186175"
     },
     "user_tz": -480
    },
    "id": "tDlD-alN7mX7",
    "outputId": "79ec6d21-7256-45b1-ab65-f556f083d6e1"
   },
   "outputs": [
    {
     "data": {
      "text/html": [],
      "text/plain": [
       "<IPython.core.display.HTML object>"
      ]
     },
     "metadata": {
      "tags": []
     },
     "output_type": "display_data"
    },
    {
     "data": {
      "text/plain": [
       "['positive',\n",
       " 'negative',\n",
       " 'positive',\n",
       " 'negative',\n",
       " 'positive',\n",
       " 'positive',\n",
       " 'positive',\n",
       " 'negative']"
      ]
     },
     "execution_count": 225,
     "metadata": {
      "tags": []
     },
     "output_type": "execute_result"
    }
   ],
   "source": [
    "predictor.predict(data)"
   ]
  },
  {
   "cell_type": "code",
   "execution_count": 226,
   "metadata": {
    "colab": {
     "base_uri": "https://localhost:8080/",
     "height": 156
    },
    "executionInfo": {
     "elapsed": 2239,
     "status": "ok",
     "timestamp": 1601682478381,
     "user": {
      "displayName": "Alvin Chen",
      "photoUrl": "",
      "userId": "06244732172561186175"
     },
     "user_tz": -480
    },
    "id": "wEWsxPe67oR7",
    "outputId": "e914e50c-5ccc-400b-8e6f-e8750fd3bf37"
   },
   "outputs": [
    {
     "data": {
      "text/html": [],
      "text/plain": [
       "<IPython.core.display.HTML object>"
      ]
     },
     "metadata": {
      "tags": []
     },
     "output_type": "display_data"
    },
    {
     "data": {
      "text/plain": [
       "array([[0.00433748, 0.9956625 ],\n",
       "       [0.98725605, 0.01274392],\n",
       "       [0.27484193, 0.72515804],\n",
       "       [0.9657716 , 0.0342284 ],\n",
       "       [0.43184906, 0.56815094],\n",
       "       [0.00549422, 0.9945057 ],\n",
       "       [0.00446275, 0.9955373 ],\n",
       "       [0.96282476, 0.03717517]], dtype=float32)"
      ]
     },
     "execution_count": 226,
     "metadata": {
      "tags": []
     },
     "output_type": "execute_result"
    }
   ],
   "source": [
    "#return_proba = True means it will give the prediction probabilty for each class\n",
    "\n",
    "predictor.predict(data, return_proba=True)"
   ]
  },
  {
   "cell_type": "code",
   "execution_count": 227,
   "metadata": {
    "colab": {
     "base_uri": "https://localhost:8080/",
     "height": 35
    },
    "executionInfo": {
     "elapsed": 1451,
     "status": "ok",
     "timestamp": 1601682483848,
     "user": {
      "displayName": "Alvin Chen",
      "photoUrl": "",
      "userId": "06244732172561186175"
     },
     "user_tz": -480
    },
    "id": "PHMi5kc97rW-",
    "outputId": "dd1ecf56-3bad-4a43-a3c2-3740008644dc"
   },
   "outputs": [
    {
     "data": {
      "text/plain": [
       "['negative', 'positive']"
      ]
     },
     "execution_count": 227,
     "metadata": {
      "tags": []
     },
     "output_type": "execute_result"
    }
   ],
   "source": [
    "#classes available\n",
    "\n",
    "predictor.get_classes()"
   ]
  },
  {
   "cell_type": "code",
   "execution_count": null,
   "metadata": {
    "id": "bL7hBVHA7tCM"
   },
   "outputs": [],
   "source": [
    "## zip for furture deployment\n",
    "# !zip -r /content/bert.zip /content/bert"
   ]
  },
  {
   "cell_type": "markdown",
   "metadata": {
    "id": "Tq4VdAZOJy0Q"
   },
   "source": [
    "## Deploy Model"
   ]
  },
  {
   "cell_type": "code",
   "execution_count": 37,
   "metadata": {
    "executionInfo": {
     "elapsed": 90937,
     "status": "ok",
     "timestamp": 1601675929378,
     "user": {
      "displayName": "Alvin Chen",
      "photoUrl": "",
      "userId": "06244732172561186175"
     },
     "user_tz": -480
    },
    "id": "t9HSpE7X7zxk"
   },
   "outputs": [],
   "source": [
    "# #loading the model\n",
    "\n",
    "predictor_load = ktrain.load_predictor('/content/drive/My Drive/ColabData/bert-ch-marc')"
   ]
  },
  {
   "cell_type": "code",
   "execution_count": 39,
   "metadata": {
    "colab": {
     "base_uri": "https://localhost:8080/",
     "height": 35
    },
    "executionInfo": {
     "elapsed": 4493,
     "status": "ok",
     "timestamp": 1601676387433,
     "user": {
      "displayName": "Alvin Chen",
      "photoUrl": "",
      "userId": "06244732172561186175"
     },
     "user_tz": -480
    },
    "id": "8a1ACW7C72fQ",
    "outputId": "131d6ecb-102f-4b3c-e1f5-5e9e0209f8d3"
   },
   "outputs": [
    {
     "data": {
      "text/html": [],
      "text/plain": [
       "<IPython.core.display.HTML object>"
      ]
     },
     "metadata": {
      "tags": []
     },
     "output_type": "display_data"
    },
    {
     "data": {
      "text/plain": [
       "['positive', 'negative', 'positive']"
      ]
     },
     "execution_count": 39,
     "metadata": {
      "tags": []
     },
     "output_type": "execute_result"
    }
   ],
   "source": [
    "# #predicting the data\n",
    "\n",
    "predictor_load.predict(data)"
   ]
  },
  {
   "cell_type": "markdown",
   "metadata": {
    "id": "NmcLZ0jCINwZ"
   },
   "source": [
    "## References\n",
    "\n",
    "- [`ktrain` module](https://github.com/amaiya/ktrain)\n",
    "- [Sentiment Classification Using Bert](https://kgptalkie.com/sentiment-classification-using-bert/)\n",
    "- [當Bert遇上Keras：這可能是Bert最簡單的打開姿勢](http://www.ipshop.xyz/15376.html)\n",
    "- [進擊的 BERT：NLP 界的巨人之力與遷移學習](https://leemeng.tw/attack_on_bert_transfer_learning_in_nlp.html)\n",
    "- [Text Classification with Hugging Face Transformers in TensorFlow 2 (Without Tears)](https://towardsdatascience.com/text-classification-with-hugging-face-transformers-in-tensorflow-2-without-tears-ee50e4f3e7ed)\n",
    "- [Huggingface Transformers](https://github.com/huggingface/transformers)\n",
    "- [Huggingface Pre-trained Models](https://huggingface.co/transformers/pretrained_models.html)"
   ]
  }
 ],
 "metadata": {
  "accelerator": "GPU",
  "colab": {
   "authorship_tag": "ABX9TyN9/xRfpuyFduzuSbCywvgt",
   "collapsed_sections": [],
   "mount_file_id": "163226gAL66V25WuYMlzdvw-Zabkbqi4q",
   "name": "sentiment-analysis-using-bert-chinese.ipynb",
   "provenance": [
    {
     "file_id": "1igApaRCyV5zaO7DNDiUfFAQTfOVT85VJ",
     "timestamp": 1601673399957
    }
   ]
  },
  "kernelspec": {
   "display_name": "Python 3",
   "language": "python",
   "name": "python3"
  },
  "language_info": {
   "codemirror_mode": {
    "name": "ipython",
    "version": 3
   },
   "file_extension": ".py",
   "mimetype": "text/x-python",
   "name": "python",
   "nbconvert_exporter": "python",
   "pygments_lexer": "ipython3",
   "version": "3.7.6"
  },
  "toc": {
   "base_numbering": 1,
   "nav_menu": {},
   "number_sections": false,
   "sideBar": true,
   "skip_h1_title": false,
   "title_cell": "Table of Contents",
   "title_sidebar": "Contents",
   "toc_cell": false,
   "toc_position": {},
   "toc_section_display": true,
   "toc_window_display": false
  },
  "varInspector": {
   "cols": {
    "lenName": 16,
    "lenType": 16,
    "lenVar": 40
   },
   "kernels_config": {
    "python": {
     "delete_cmd_postfix": "",
     "delete_cmd_prefix": "del ",
     "library": "var_list.py",
     "varRefreshCmd": "print(var_dic_list())"
    },
    "r": {
     "delete_cmd_postfix": ") ",
     "delete_cmd_prefix": "rm(",
     "library": "var_list.r",
     "varRefreshCmd": "cat(var_dic_list()) "
    }
   },
   "types_to_exclude": [
    "module",
    "function",
    "builtin_function_or_method",
    "instance",
    "_Feature"
   ],
   "window_display": false
  }
 },
 "nbformat": 4,
 "nbformat_minor": 4
}