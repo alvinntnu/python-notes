{
 "cells": [
  {
   "cell_type": "markdown",
   "metadata": {},
   "source": [
    "# Natural Language Processing (ckipnlp)\n",
    "\n",
    "- Chinese NLP toolkit developed by Academia Sinica\n",
    "- The CPU version works pretty slowly\n",
    "- The documentation of `ckipnlp` is limited. Need more time to figure out what is what and how to do what :)\n",
    "\n",
    "- Documentation:\n",
    "    - [ckipnlp](https://ckipnlp.readthedocs.io)\n"
   ]
  },
  {
   "cell_type": "code",
   "execution_count": 1,
   "metadata": {},
   "outputs": [],
   "source": [
    "from ckipnlp.pipeline import CkipPipeline, CkipDocument\n",
    "\n",
    "pipeline = CkipPipeline()\n",
    "doc = CkipDocument(raw='中研院的開發系統，來測試看看，挺酷的！')"
   ]
  },
  {
   "cell_type": "code",
   "execution_count": 2,
   "metadata": {},
   "outputs": [
    {
     "name": "stderr",
     "output_type": "stream",
     "text": [
      "/Users/Alvin/opt/anaconda3/envs/ckiptagger/lib/python3.6/site-packages/tensorflow/python/framework/dtypes.py:526: FutureWarning: Passing (type, 1) or '1type' as a synonym of type is deprecated; in a future version of numpy, it will be understood as (type, (1,)) / '(1,)type'.\n",
      "  _np_qint8 = np.dtype([(\"qint8\", np.int8, 1)])\n",
      "/Users/Alvin/opt/anaconda3/envs/ckiptagger/lib/python3.6/site-packages/tensorflow/python/framework/dtypes.py:527: FutureWarning: Passing (type, 1) or '1type' as a synonym of type is deprecated; in a future version of numpy, it will be understood as (type, (1,)) / '(1,)type'.\n",
      "  _np_quint8 = np.dtype([(\"quint8\", np.uint8, 1)])\n",
      "/Users/Alvin/opt/anaconda3/envs/ckiptagger/lib/python3.6/site-packages/tensorflow/python/framework/dtypes.py:528: FutureWarning: Passing (type, 1) or '1type' as a synonym of type is deprecated; in a future version of numpy, it will be understood as (type, (1,)) / '(1,)type'.\n",
      "  _np_qint16 = np.dtype([(\"qint16\", np.int16, 1)])\n",
      "/Users/Alvin/opt/anaconda3/envs/ckiptagger/lib/python3.6/site-packages/tensorflow/python/framework/dtypes.py:529: FutureWarning: Passing (type, 1) or '1type' as a synonym of type is deprecated; in a future version of numpy, it will be understood as (type, (1,)) / '(1,)type'.\n",
      "  _np_quint16 = np.dtype([(\"quint16\", np.uint16, 1)])\n",
      "/Users/Alvin/opt/anaconda3/envs/ckiptagger/lib/python3.6/site-packages/tensorflow/python/framework/dtypes.py:530: FutureWarning: Passing (type, 1) or '1type' as a synonym of type is deprecated; in a future version of numpy, it will be understood as (type, (1,)) / '(1,)type'.\n",
      "  _np_qint32 = np.dtype([(\"qint32\", np.int32, 1)])\n",
      "/Users/Alvin/opt/anaconda3/envs/ckiptagger/lib/python3.6/site-packages/tensorflow/python/framework/dtypes.py:535: FutureWarning: Passing (type, 1) or '1type' as a synonym of type is deprecated; in a future version of numpy, it will be understood as (type, (1,)) / '(1,)type'.\n",
      "  np_resource = np.dtype([(\"resource\", np.ubyte, 1)])\n"
     ]
    },
    {
     "name": "stdout",
     "output_type": "stream",
     "text": [
      "[['中研院', '的', '開發', '系統', '，', '來', '測試', '看看', '，', '挺', '酷', '的', '！']]\n",
      "中研院　的　開發　系統　，　來　測試　看看　，　挺　酷　的　！\n"
     ]
    },
    {
     "name": "stdout",
     "output_type": "stream",
     "text": [
      "[['Nc', 'DE', 'Nv', 'Na', 'COMMACATEGORY', 'D', 'VC', 'Di', 'COMMACATEGORY', 'Dfa', 'VH', 'T', 'EXCLAMATIONCATEGORY']]\n",
      "Nc　DE　Nv　Na　COMMACATEGORY　D　VC　Di　COMMACATEGORY　Dfa　VH　T　EXCLAMATIONCATEGORY\n"
     ]
    }
   ],
   "source": [
    "# Word Segmentation\n",
    "pipeline.get_ws(doc)\n",
    "print(doc.ws)\n",
    "for line in doc.ws:\n",
    "    print(line.to_text())\n",
    "\n",
    "# Part-of-Speech Tagging\n",
    "pipeline.get_pos(doc)\n",
    "print(doc.pos)\n",
    "for line in doc.pos:\n",
    "    print(line.to_text())\n",
    "\n",
    "# Named-Entity Recognition\n",
    "pipeline.get_ner(doc)\n",
    "print(doc.ner)\n",
    "# Constituency Parsing\n",
    "#pipeline.get_conparse(doc)\n",
    "#print(doc.conparse)\n"
   ]
  },
  {
   "cell_type": "code",
   "execution_count": 3,
   "metadata": {},
   "outputs": [
    {
     "name": "stdout",
     "output_type": "stream",
     "text": [
      "中研院(Nc)　的(DE)　開發(Nv)　系統(Na)　，(COMMACATEGORY)　來(D)　測試(VC)　看看(Di)　，(COMMACATEGORY)　挺(Dfa)　酷(VH)　的(T)　！(EXCLAMATIONCATEGORY)\n"
     ]
    }
   ],
   "source": [
    "\n",
    "from ckipnlp.container.util.wspos import WsPosParagraph\n",
    "\n",
    "# Word Segmentation & Part-of-Speech Tagging\n",
    "for line in WsPosParagraph.to_text(doc.ws, doc.pos):\n",
    "    print(line)"
   ]
  },
  {
   "cell_type": "code",
   "execution_count": 4,
   "metadata": {},
   "outputs": [
    {
     "name": "stdout",
     "output_type": "stream",
     "text": [
      "中研院(Nc)　的(DE)　開發(Nv)　系統(Na)　，(COMMACATEGORY)　來(D)　測試(VC)　看看(Di)　，(COMMACATEGORY)　挺(Dfa)　酷(VH)　的(T)　！(EXCLAMATIONCATEGORY)\n"
     ]
    }
   ],
   "source": [
    "from ckipnlp.container.util.wspos import WsPosSentence\n",
    "for line in WsPosParagraph.to_text(doc.ws, doc.pos):\n",
    "    print(line)"
   ]
  },
  {
   "cell_type": "code",
   "execution_count": 5,
   "metadata": {},
   "outputs": [
    {
     "name": "stdout",
     "output_type": "stream",
     "text": [
      "[['武漢', '肺炎', '全球', '肆虐', '，', '至今', '已', '有', '2906萬', '人', '確診', '、', '92萬', '染疫', '身亡', '，', '而', '流亡', '美國', '的', '中國', '大陸', '病毒學家', '閻麗夢', '，', '14日', '時', '開通', '了', '推特', '帳號', '，', '並', '公布', '一', '份', '長達', '26', '頁', '的', '科學', '論文', '，', '研究', '直指', '武肺', '病毒', '與', '自然', '人畜', '共通', '傳染病', '的', '病毒', '不同', '，', '並', '呼籲', '追查', '武漢', 'P4', '實驗室', '及', '美國', '衛生', '研究院', '（', 'NIH', '）', '之間', '的', '金流', '，', '引發', '討論', '。']]\n",
      "武漢　肺炎　全球　肆虐　，　至今　已　有　2906萬　人　確診　、　92萬　染疫　身亡　，　而　流亡　美國　的　中國　大陸　病毒學家　閻麗夢　，　14日　時　開通　了　推特　帳號　，　並　公布　一　份　長達　26　頁　的　科學　論文　，　研究　直指　武肺　病毒　與　自然　人畜　共通　傳染病　的　病毒　不同　，　並　呼籲　追查　武漢　P4　實驗室　及　美國　衛生　研究院　（　NIH　）　之間　的　金流　，　引發　討論　。\n"
     ]
    }
   ],
   "source": [
    "doc2 = CkipDocument(raw='武漢肺炎全球肆虐，至今已有2906萬人確診、92萬染疫身亡，而流亡美國的中國大陸病毒學家閻麗夢，14日時開通了推特帳號，並公布一份長達26頁的科學論文，研究直指武肺病毒與自然人畜共通傳染病的病毒不同，並呼籲追查武漢P4實驗室及美國衛生研究院（NIH）之間的金流，引發討論。')\n",
    "# Word Segmentation & Part-of-Speech Tagging\n",
    "\n",
    "# Word Segmentation\n",
    "pipeline.get_ws(doc2)\n",
    "print(doc2.ws)\n",
    "for line in doc2.ws:\n",
    "    print(line.to_text())"
   ]
  },
  {
   "cell_type": "code",
   "execution_count": 6,
   "metadata": {},
   "outputs": [
    {
     "name": "stdout",
     "output_type": "stream",
     "text": [
      "[['Nc', 'Na', 'Nc', 'VC', 'COMMACATEGORY', 'D', 'D', 'V_2', 'Neu', 'Na', 'VA', 'PAUSECATEGORY', 'Neu', 'Na', 'VH', 'COMMACATEGORY', 'Cbb', 'VCL', 'Nc', 'DE', 'Nc', 'Nc', 'Na', 'Nb', 'COMMACATEGORY', 'Nd', 'Ng', 'VH', 'Di', 'Na', 'Na', 'COMMACATEGORY', 'Cbb', 'VE', 'Neu', 'Nf', 'VJ', 'Neu', 'Nf', 'DE', 'Na', 'Na', 'COMMACATEGORY', 'VE', 'VE', 'Na', 'Na', 'Caa', 'Na', 'Na', 'A', 'Na', 'DE', 'Na', 'VH', 'COMMACATEGORY', 'Cbb', 'VE', 'VC', 'Nc', 'Nb', 'Nc', 'Caa', 'Nc', 'Na', 'Nc', 'PARENTHESISCATEGORY', 'FW', 'PARENTHESISCATEGORY', 'Ng', 'DE', 'Na', 'COMMACATEGORY', 'VC', 'VE', 'PERIODCATEGORY']]\n",
      "Nc　Na　Nc　VC　COMMACATEGORY　D　D　V_2　Neu　Na　VA　PAUSECATEGORY　Neu　Na　VH　COMMACATEGORY　Cbb　VCL　Nc　DE　Nc　Nc　Na　Nb　COMMACATEGORY　Nd　Ng　VH　Di　Na　Na　COMMACATEGORY　Cbb　VE　Neu　Nf　VJ　Neu　Nf　DE　Na　Na　COMMACATEGORY　VE　VE　Na　Na　Caa　Na　Na　A　Na　DE　Na　VH　COMMACATEGORY　Cbb　VE　VC　Nc　Nb　Nc　Caa　Nc　Na　Nc　PARENTHESISCATEGORY　FW　PARENTHESISCATEGORY　Ng　DE　Na　COMMACATEGORY　VC　VE　PERIODCATEGORY\n"
     ]
    }
   ],
   "source": [
    "# Part-of-Speech Tagging\n",
    "pipeline.get_pos(doc2)\n",
    "print(doc2.pos)\n",
    "for line in doc2.pos:\n",
    "    print(line.to_text())"
   ]
  },
  {
   "cell_type": "code",
   "execution_count": 7,
   "metadata": {},
   "outputs": [
    {
     "name": "stdout",
     "output_type": "stream",
     "text": [
      "武漢(Nc)　肺炎(Na)　全球(Nc)　肆虐(VC)　，(COMMACATEGORY)　至今(D)　已(D)　有(V_2)　2906萬(Neu)　人(Na)　確診(VA)　、(PAUSECATEGORY)　92萬(Neu)　染疫(Na)　身亡(VH)　，(COMMACATEGORY)　而(Cbb)　流亡(VCL)　美國(Nc)　的(DE)　中國(Nc)　大陸(Nc)　病毒學家(Na)　閻麗夢(Nb)　，(COMMACATEGORY)　14日(Nd)　時(Ng)　開通(VH)　了(Di)　推特(Na)　帳號(Na)　，(COMMACATEGORY)　並(Cbb)　公布(VE)　一(Neu)　份(Nf)　長達(VJ)　26(Neu)　頁(Nf)　的(DE)　科學(Na)　論文(Na)　，(COMMACATEGORY)　研究(VE)　直指(VE)　武肺(Na)　病毒(Na)　與(Caa)　自然(Na)　人畜(Na)　共通(A)　傳染病(Na)　的(DE)　病毒(Na)　不同(VH)　，(COMMACATEGORY)　並(Cbb)　呼籲(VE)　追查(VC)　武漢(Nc)　P4(Nb)　實驗室(Nc)　及(Caa)　美國(Nc)　衛生(Na)　研究院(Nc)　（(PARENTHESISCATEGORY)　NIH(FW)　）(PARENTHESISCATEGORY)　之間(Ng)　的(DE)　金流(Na)　，(COMMACATEGORY)　引發(VC)　討論(VE)　。(PERIODCATEGORY)\n"
     ]
    }
   ],
   "source": [
    "for line in WsPosParagraph.to_text(doc2.ws, doc2.pos):\n",
    "    print(line)"
   ]
  },
  {
   "cell_type": "code",
   "execution_count": 8,
   "metadata": {},
   "outputs": [
    {
     "name": "stdout",
     "output_type": "stream",
     "text": [
      "[[NerToken(word='武漢P4實驗室', ner='ORG', idx=(105, 112)), NerToken(word='2906萬', ner='CARDINAL', idx=(13, 18)), NerToken(word='14日', ner='DATE', idx=(48, 51)), NerToken(word='NIH', ner='ORG', idx=(121, 124)), NerToken(word='26', ner='CARDINAL', idx=(67, 69)), NerToken(word='美國衛生研究院', ner='ORG', idx=(113, 120)), NerToken(word='92萬', ner='CARDINAL', idx=(22, 25)), NerToken(word='閻麗夢', ner='PERSON', idx=(44, 47)), NerToken(word='中國大陸', ner='GPE', idx=(36, 40)), NerToken(word='美國', ner='GPE', idx=(33, 35)), NerToken(word='武漢', ner='GPE', idx=(0, 2))]]\n"
     ]
    }
   ],
   "source": [
    "pipeline.get_ner(doc2)\n",
    "print(doc2.ner)\n",
    "\n",
    "#WsPosSentence.to_text(doc2.ws, doc2.pos)"
   ]
  }
 ],
 "metadata": {
  "kernelspec": {
   "display_name": "ckiptagger",
   "language": "python",
   "name": "ckiptagger"
  },
  "language_info": {
   "codemirror_mode": {
    "name": "ipython",
    "version": 3
   },
   "file_extension": ".py",
   "mimetype": "text/x-python",
   "name": "python",
   "nbconvert_exporter": "python",
   "pygments_lexer": "ipython3",
   "version": "3.6.12"
  }
 },
 "nbformat": 4,
 "nbformat_minor": 4
}