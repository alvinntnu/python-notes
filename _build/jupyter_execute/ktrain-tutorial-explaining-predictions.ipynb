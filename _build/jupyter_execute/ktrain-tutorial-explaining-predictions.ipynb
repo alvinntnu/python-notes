{
 "cells": [
  {
   "cell_type": "markdown",
   "metadata": {
    "id": "wWDMsBS7wG0X"
   },
   "source": [
    "# Explainable AI\n"
   ]
  },
  {
   "cell_type": "markdown",
   "metadata": {
    "id": "TY0Hbt5DwG0Z"
   },
   "source": [
    "- This notebook runs on Google Colab\n",
    "- This is based on the `ktrain` official tutorial [Explainable Ai in krain](https://nbviewer.jupyter.org/github/amaiya/ktrain/blob/master/tutorials/tutorial-A2-explaining-predictions.ipynb)"
   ]
  },
  {
   "cell_type": "markdown",
   "metadata": {
    "id": "ivNCbNQ8xJin"
   },
   "source": [
    "## Preparation on Colab"
   ]
  },
  {
   "cell_type": "markdown",
   "metadata": {
    "id": "z-NoYxpfxPew"
   },
   "source": [
    "- Mount Google Drive\n",
    "- Install `ktrain`\n",
    "- Set the default `DATA_ROOT` (the root directory of the data files)"
   ]
  },
  {
   "cell_type": "code",
   "execution_count": 1,
   "metadata": {
    "colab": {
     "base_uri": "https://localhost:8080/",
     "height": 35
    },
    "executionInfo": {
     "elapsed": 967,
     "status": "ok",
     "timestamp": 1601768673153,
     "user": {
      "displayName": "Alvin Chen",
      "photoUrl": "",
      "userId": "12962786962925949010"
     },
     "user_tz": -480
    },
    "id": "Iw9ytIqPwW6u",
    "outputId": "cf45d6bf-a8fb-4532-8fb0-a6362381034c"
   },
   "outputs": [
    {
     "name": "stdout",
     "output_type": "stream",
     "text": [
      "Drive already mounted at /content/drive; to attempt to forcibly remount, call drive.mount(\"/content/drive\", force_remount=True).\n"
     ]
    }
   ],
   "source": [
    "## Mount Google Drive\n",
    "from google.colab import drive\n",
    "drive.mount('/content/drive')"
   ]
  },
  {
   "cell_type": "code",
   "execution_count": 2,
   "metadata": {
    "colab": {
     "base_uri": "https://localhost:8080/",
     "height": 419
    },
    "executionInfo": {
     "elapsed": 8602,
     "status": "ok",
     "timestamp": 1601768680795,
     "user": {
      "displayName": "Alvin Chen",
      "photoUrl": "",
      "userId": "12962786962925949010"
     },
     "user_tz": -480
    },
    "id": "_hTUkHrrwkDQ",
    "outputId": "884dff7f-f8b9-4a8c-b40d-b21431e39ccc"
   },
   "outputs": [
    {
     "name": "stdout",
     "output_type": "stream",
     "text": [
      "Collecting git+https://github.com/amaiya/eli5@tfkeras_0_10_1\n",
      "  Cloning https://github.com/amaiya/eli5 (to revision tfkeras_0_10_1) to /tmp/pip-req-build-vqe0m0_h\n",
      "  Running command git clone -q https://github.com/amaiya/eli5 /tmp/pip-req-build-vqe0m0_h\n",
      "  Running command git checkout -b tfkeras_0_10_1 --track origin/tfkeras_0_10_1\n",
      "  Switched to a new branch 'tfkeras_0_10_1'\n",
      "  Branch 'tfkeras_0_10_1' set up to track remote branch 'tfkeras_0_10_1' from 'origin'.\n",
      "Requirement already satisfied (use --upgrade to upgrade): eli5==0.10.1 from git+https://github.com/amaiya/eli5@tfkeras_0_10_1 in /usr/local/lib/python3.6/dist-packages\n",
      "Requirement already satisfied: attrs>16.0.0 in /usr/local/lib/python3.6/dist-packages (from eli5==0.10.1) (20.2.0)\n",
      "Requirement already satisfied: jinja2 in /usr/local/lib/python3.6/dist-packages (from eli5==0.10.1) (2.11.2)\n",
      "Requirement already satisfied: numpy>=1.9.0 in /usr/local/lib/python3.6/dist-packages (from eli5==0.10.1) (1.18.5)\n",
      "Requirement already satisfied: scipy in /usr/local/lib/python3.6/dist-packages (from eli5==0.10.1) (1.4.1)\n",
      "Requirement already satisfied: six in /usr/local/lib/python3.6/dist-packages (from eli5==0.10.1) (1.15.0)\n",
      "Requirement already satisfied: scikit-learn>=0.18 in /usr/local/lib/python3.6/dist-packages (from eli5==0.10.1) (0.22.2.post1)\n",
      "Requirement already satisfied: graphviz in /usr/local/lib/python3.6/dist-packages (from eli5==0.10.1) (0.10.1)\n",
      "Requirement already satisfied: tabulate>=0.7.7 in /usr/local/lib/python3.6/dist-packages (from eli5==0.10.1) (0.8.7)\n",
      "Requirement already satisfied: MarkupSafe>=0.23 in /usr/local/lib/python3.6/dist-packages (from jinja2->eli5==0.10.1) (1.1.1)\n",
      "Requirement already satisfied: joblib>=0.11 in /usr/local/lib/python3.6/dist-packages (from scikit-learn>=0.18->eli5==0.10.1) (0.16.0)\n",
      "Building wheels for collected packages: eli5\n",
      "  Building wheel for eli5 (setup.py) ... \u001b[?25l\u001b[?25hdone\n",
      "  Created wheel for eli5: filename=eli5-0.10.1-py2.py3-none-any.whl size=106831 sha256=ab4ff222f9a385b1a7fd347010f89c2ff89324524ded6332d539e401ca425ab4\n",
      "  Stored in directory: /tmp/pip-ephem-wheel-cache-owv1kiir/wheels/51/59/0a/0f48442b8d209583a4453580938d7ba2270aca40edacee6d45\n",
      "Successfully built eli5\n"
     ]
    }
   ],
   "source": [
    "## Install ktrain\n",
    "!pip install git+https://github.com/amaiya/eli5@tfkeras_0_10_1"
   ]
  },
  {
   "cell_type": "markdown",
   "metadata": {
    "id": "brvasjIc4oLq"
   },
   "source": [
    "## Working Directory\n",
    "\n",
    "- Set the working directory to the `DATA_ROOT`"
   ]
  },
  {
   "cell_type": "code",
   "execution_count": 3,
   "metadata": {
    "colab": {
     "base_uri": "https://localhost:8080/",
     "height": 35
    },
    "executionInfo": {
     "elapsed": 8600,
     "status": "ok",
     "timestamp": 1601768680796,
     "user": {
      "displayName": "Alvin Chen",
      "photoUrl": "",
      "userId": "12962786962925949010"
     },
     "user_tz": -480
    },
    "id": "K46o65maw48d",
    "outputId": "97f4ca5f-30dd-4497-b29f-06bae15ec1a4"
   },
   "outputs": [
    {
     "name": "stdout",
     "output_type": "stream",
     "text": [
      "/content/drive/My Drive/_MySyncDrive/RepositoryData/data\n"
     ]
    }
   ],
   "source": [
    "## Set DATA_ROOT\n",
    "DATA_ROOT = '/content/drive/My Drive/_MySyncDrive/RepositoryData/data'\n",
    "%cd '$DATA_ROOT'"
   ]
  },
  {
   "cell_type": "code",
   "execution_count": 4,
   "metadata": {
    "colab": {
     "base_uri": "https://localhost:8080/",
     "height": 35
    },
    "executionInfo": {
     "elapsed": 8598,
     "status": "ok",
     "timestamp": 1601768680797,
     "user": {
      "displayName": "Alvin Chen",
      "photoUrl": "",
      "userId": "12962786962925949010"
     },
     "user_tz": -480
    },
    "id": "lewt3cHBxGU2",
    "outputId": "4464da5c-fa64-4ff0-a9f1-b9621345be95"
   },
   "outputs": [
    {
     "data": {
      "application/vnd.google.colaboratory.intrinsic+json": {
       "type": "string"
      },
      "text/plain": [
       "'/content/drive/My Drive/_MySyncDrive/RepositoryData/data'"
      ]
     },
     "execution_count": 4,
     "metadata": {
      "tags": []
     },
     "output_type": "execute_result"
    }
   ],
   "source": [
    "## Check Working Directory\n",
    "%pwd"
   ]
  },
  {
   "cell_type": "markdown",
   "metadata": {
    "id": "27Ulg4Q34Tdu"
   },
   "source": [
    "## Autoreload"
   ]
  },
  {
   "cell_type": "code",
   "execution_count": 5,
   "metadata": {
    "executionInfo": {
     "elapsed": 8596,
     "status": "ok",
     "timestamp": 1601768680798,
     "user": {
      "displayName": "Alvin Chen",
      "photoUrl": "",
      "userId": "12962786962925949010"
     },
     "user_tz": -480
    },
    "id": "1FHSZ6m_wG0a"
   },
   "outputs": [],
   "source": [
    "%reload_ext autoreload\n",
    "%autoreload 2\n",
    "%matplotlib inline\n",
    "import os\n",
    "os.environ[\"CUDA_DEVICE_ORDER\"]=\"PCI_BUS_ID\";\n",
    "os.environ[\"CUDA_VISIBLE_DEVICES\"]=\"0\" "
   ]
  },
  {
   "cell_type": "markdown",
   "metadata": {
    "id": "VwQ6zpzvwG0e"
   },
   "source": [
    "## Overview: Explainable AI in *ktrain*\n",
    "\n",
    "- [**Explainable AI**](XAI)(https://www.darpa.mil/program/explainable-artificial-intelligence)\n",
    "- Obtain the `Predictor` with `ktrain.get_predictor`\n",
    "- In combination with text data, one can easily make predictions from the raw and unprocessed text of a document as follows:\n",
    "\n",
    "```\n",
    "predictor = ktrain.get_predictor(learner.model, preproc=preproc)\n",
    "predictor.predict(document_text) \n",
    "```\n",
    "- Utilize the `explain` method of `Predictor` objects to help understand how those predictions were **made**"
   ]
  },
  {
   "cell_type": "markdown",
   "metadata": {
    "id": "HbR0wzHc4dUa"
   },
   "source": [
    "## Data\n",
    "\n",
    "- Marc's thesis data (Chinese movie reviews)"
   ]
  },
  {
   "cell_type": "code",
   "execution_count": 6,
   "metadata": {
    "executionInfo": {
     "elapsed": 10882,
     "status": "ok",
     "timestamp": 1601768683087,
     "user": {
      "displayName": "Alvin Chen",
      "photoUrl": "",
      "userId": "12962786962925949010"
     },
     "user_tz": -480
    },
    "id": "rrV_jrpqwG0g"
   },
   "outputs": [],
   "source": [
    "# imports\n",
    "import ktrain\n",
    "from ktrain import text"
   ]
  },
  {
   "cell_type": "code",
   "execution_count": 7,
   "metadata": {
    "colab": {
     "base_uri": "https://localhost:8080/",
     "height": 341
    },
    "executionInfo": {
     "elapsed": 11212,
     "status": "ok",
     "timestamp": 1601768683419,
     "user": {
      "displayName": "Alvin Chen",
      "photoUrl": "",
      "userId": "12962786962925949010"
     },
     "user_tz": -480
    },
    "id": "Ymxtris8yxsa",
    "outputId": "54b69341-67b5-40b4-942b-c97ce8a44cfa"
   },
   "outputs": [
    {
     "name": "stdout",
     "output_type": "stream",
     "text": [
      "Size of train dataset:  (2880, 7)\n",
      "Size of test dataset:  (320, 7)\n"
     ]
    },
    {
     "data": {
      "text/html": [
       "<div>\n",
       "<style scoped>\n",
       "    .dataframe tbody tr th:only-of-type {\n",
       "        vertical-align: middle;\n",
       "    }\n",
       "\n",
       "    .dataframe tbody tr th {\n",
       "        vertical-align: top;\n",
       "    }\n",
       "\n",
       "    .dataframe thead th {\n",
       "        text-align: right;\n",
       "    }\n",
       "</style>\n",
       "<table border=\"1\" class=\"dataframe\">\n",
       "  <thead>\n",
       "    <tr style=\"text-align: right;\">\n",
       "      <th></th>\n",
       "      <th>reviewID</th>\n",
       "      <th>title_CH</th>\n",
       "      <th>title_EN</th>\n",
       "      <th>genre</th>\n",
       "      <th>Sentiment</th>\n",
       "      <th>Reviews</th>\n",
       "      <th>reviews_sentiword_seg</th>\n",
       "    </tr>\n",
       "  </thead>\n",
       "  <tbody>\n",
       "    <tr>\n",
       "      <th>2487</th>\n",
       "      <td>Review_2488</td>\n",
       "      <td>阿拉丁</td>\n",
       "      <td>Aladdin</td>\n",
       "      <td>冒險_奇幻</td>\n",
       "      <td>positive</td>\n",
       "      <td>改編最好的迪士尼動畫影片，非常好看，值得2刷</td>\n",
       "      <td>改編 最好 的 迪士尼 動畫影片 ， 非常 好看 ， 值得 2 刷</td>\n",
       "    </tr>\n",
       "    <tr>\n",
       "      <th>2452</th>\n",
       "      <td>Review_2453</td>\n",
       "      <td>冰雪奇緣2</td>\n",
       "      <td>Frozen 2</td>\n",
       "      <td>動畫_冒險_喜劇</td>\n",
       "      <td>positive</td>\n",
       "      <td>一刷時總是忍不住跟第一集比較，畢竟等了六年。後來發現，比較是沒有意義的，就是兩部不同作品，而...</td>\n",
       "      <td>一刷 時 總是 忍不住 跟 第一集 比較 ， 畢竟 等 了 六年 。 後來 發現 ， 比較 ...</td>\n",
       "    </tr>\n",
       "    <tr>\n",
       "      <th>2658</th>\n",
       "      <td>Review_2659</td>\n",
       "      <td>練愛iNG</td>\n",
       "      <td>Acting out of Love</td>\n",
       "      <td>愛情_喜劇</td>\n",
       "      <td>positive</td>\n",
       "      <td>看的出導演的誠意十足!!希望好電影不要被疫情埋沒!!</td>\n",
       "      <td>看 的 出 導演 的 誠意 十足 ! ! 希望 好 電影 不要 被 疫情 埋 沒 ! !</td>\n",
       "    </tr>\n",
       "    <tr>\n",
       "      <th>2376</th>\n",
       "      <td>Review_2377</td>\n",
       "      <td>白頭山：半島浩劫</td>\n",
       "      <td>Ashfall</td>\n",
       "      <td>動作_劇情</td>\n",
       "      <td>positive</td>\n",
       "      <td>好看，很刺激。劇情緊湊，無冷場！結局很感人</td>\n",
       "      <td>好看 ， 很 刺激 。 劇情 緊湊 ， 無冷場 ！ 結局 很 感人</td>\n",
       "    </tr>\n",
       "    <tr>\n",
       "      <th>944</th>\n",
       "      <td>Review_945</td>\n",
       "      <td>X戰警：黑鳳凰</td>\n",
       "      <td>X-Men: Dark Phoenix</td>\n",
       "      <td>動作_劇情</td>\n",
       "      <td>negative</td>\n",
       "      <td>想浪費錢的可以去消費一下。6.1分的普作無誤</td>\n",
       "      <td>想 浪費 錢 的 可以 去 消費 一下 。 6.1 分 的 普作 無誤</td>\n",
       "    </tr>\n",
       "  </tbody>\n",
       "</table>\n",
       "</div>"
      ],
      "text/plain": [
       "         reviewID  ...                              reviews_sentiword_seg\n",
       "2487  Review_2488  ...                  改編 最好 的 迪士尼 動畫影片 ， 非常 好看 ， 值得 2 刷\n",
       "2452  Review_2453  ...  一刷 時 總是 忍不住 跟 第一集 比較 ， 畢竟 等 了 六年 。 後來 發現 ， 比較 ...\n",
       "2658  Review_2659  ...       看 的 出 導演 的 誠意 十足 ! ! 希望 好 電影 不要 被 疫情 埋 沒 ! !\n",
       "2376  Review_2377  ...                  好看 ， 很 刺激 。 劇情 緊湊 ， 無冷場 ！ 結局 很 感人\n",
       "944    Review_945  ...                想 浪費 錢 的 可以 去 消費 一下 。 6.1 分 的 普作 無誤\n",
       "\n",
       "[5 rows x 7 columns]"
      ]
     },
     "execution_count": 7,
     "metadata": {
      "tags": []
     },
     "output_type": "execute_result"
    }
   ],
   "source": [
    "import pandas as pd\n",
    "\n",
    "raw_csv = pd.read_csv(\"marc_movie_review_metadata.csv\")\n",
    "raw_csv = raw_csv.rename(columns={'reviews':'Reviews', 'rating':'Sentiment'})\n",
    "raw_csv\n",
    "\n",
    "from sklearn.model_selection import train_test_split\n",
    "\n",
    "data_train, data_test = train_test_split(raw_csv, test_size=0.1)\n",
    "## dimension of the dataset\n",
    "\n",
    "print(\"Size of train dataset: \",data_train.shape)\n",
    "print(\"Size of test dataset: \",data_test.shape)\n",
    "\n",
    "#printing last rows of train dataset\n",
    "data_train.tail()\n",
    "\n",
    "#printing head rows of test dataset\n",
    "data_test.head()"
   ]
  },
  {
   "cell_type": "markdown",
   "metadata": {
    "id": "NGUU6AaH4zUF"
   },
   "source": [
    "## Train-Test Split"
   ]
  },
  {
   "cell_type": "code",
   "execution_count": 8,
   "metadata": {
    "colab": {
     "base_uri": "https://localhost:8080/",
     "height": 139
    },
    "executionInfo": {
     "elapsed": 11558,
     "status": "ok",
     "timestamp": 1601768683768,
     "user": {
      "displayName": "Alvin Chen",
      "photoUrl": "",
      "userId": "12962786962925949010"
     },
     "user_tz": -480
    },
    "id": "NRdxniyZwG0j",
    "outputId": "1c33b4bc-d22b-4cab-d2db-24e4aac9542a"
   },
   "outputs": [
    {
     "name": "stdout",
     "output_type": "stream",
     "text": [
      "preprocessing train...\n",
      "language: zh-*\n"
     ]
    },
    {
     "data": {
      "text/html": [
       "done."
      ],
      "text/plain": [
       "<IPython.core.display.HTML object>"
      ]
     },
     "metadata": {
      "tags": []
     },
     "output_type": "display_data"
    },
    {
     "name": "stdout",
     "output_type": "stream",
     "text": [
      "Is Multi-Label? False\n",
      "preprocessing test...\n",
      "language: zh-*\n"
     ]
    },
    {
     "data": {
      "text/html": [
       "done."
      ],
      "text/plain": [
       "<IPython.core.display.HTML object>"
      ]
     },
     "metadata": {
      "tags": []
     },
     "output_type": "display_data"
    }
   ],
   "source": [
    "# STEP 1: load and preprocess text data\n",
    "# (x_train, y_train), (x_test, y_test), preproc = text.texts_from_df('aclImdb', \n",
    "#                                                                        max_features=20000, maxlen=400, \n",
    "#                                                                        ngram_range=1, \n",
    "#                                                                        train_test_names=['train', 'test'],\n",
    "#                                                                        classes=['pos', 'neg'],\n",
    "#                                                                        verbose=1)\n",
    "\n",
    "\n",
    "(X_train, y_train), (X_test, y_test), preproc = text.texts_from_df(train_df=data_train,\n",
    "                                                                   text_column = 'Reviews',\n",
    "                                                                   label_columns = 'Sentiment',\n",
    "                                                                   val_df = data_test,\n",
    "                                                                   maxlen = 250,\n",
    "                                                                   lang = 'zh-*',\n",
    "                                                                   preprocess_mode = 'bert') # or distilbert"
   ]
  },
  {
   "cell_type": "markdown",
   "metadata": {
    "id": "u30Ftcaz44MR"
   },
   "source": [
    "## Define Model"
   ]
  },
  {
   "cell_type": "code",
   "execution_count": 9,
   "metadata": {
    "executionInfo": {
     "elapsed": 11556,
     "status": "ok",
     "timestamp": 1601768683769,
     "user": {
      "displayName": "Alvin Chen",
      "photoUrl": "",
      "userId": "12962786962925949010"
     },
     "user_tz": -480
    },
    "id": "atGSBOlJyQvX"
   },
   "outputs": [],
   "source": [
    "# # STEP 2: define a Keras text classification model\n",
    "# from tensorflow.keras.models import Sequential\n",
    "# from tensorflow.keras.layers import Dense, Embedding, GlobalAveragePooling1D\n",
    "# model = Sequential()\n",
    "# model.add(Embedding(20000+1, 50, input_length=400)) # add 1 for padding token\n",
    "# model.add(GlobalAveragePooling1D())\n",
    "# model.add(Dense(2, activation='softmax'))\n",
    "# model.compile(loss='categorical_crossentropy', optimizer='adam', metrics=['accuracy'])\n",
    "# learner = ktrain.get_learner(model, train_data=(x_train, y_train), val_data=(x_test, y_test))\n"
   ]
  },
  {
   "cell_type": "code",
   "execution_count": 10,
   "metadata": {
    "colab": {
     "base_uri": "https://localhost:8080/",
     "height": 69
    },
    "executionInfo": {
     "elapsed": 7825,
     "status": "ok",
     "timestamp": 1601768704078,
     "user": {
      "displayName": "Alvin Chen",
      "photoUrl": "",
      "userId": "12962786962925949010"
     },
     "user_tz": -480
    },
    "id": "a4YCCxtBz_gh",
    "outputId": "ec3520bb-e85f-478d-b1ba-79d91d9a44b9"
   },
   "outputs": [
    {
     "name": "stdout",
     "output_type": "stream",
     "text": [
      "Is Multi-Label? False\n",
      "maxlen is 250\n",
      "done.\n"
     ]
    }
   ],
   "source": [
    "# # STEP 2: define a text classification model\n",
    "## use 'distilbert' if you want\n",
    "model = text.text_classifier(name = 'bert', # or distilbert\n",
    "                             train_data = (X_train, y_train),\n",
    "                             preproc = preproc)\n",
    "#here we have taken batch size as 6 as from the documentation it is recommend to use this with maxlen as 500\n",
    "learner = ktrain.get_learner(model=model, train_data=(X_train, y_train),\n",
    "                   val_data = (X_test, y_test),\n",
    "                   batch_size = 6)"
   ]
  },
  {
   "cell_type": "markdown",
   "metadata": {
    "id": "xWSoHEFH463r"
   },
   "source": [
    "## Fitting Model"
   ]
  },
  {
   "cell_type": "code",
   "execution_count": 12,
   "metadata": {
    "colab": {
     "base_uri": "https://localhost:8080/",
     "height": 104
    },
    "executionInfo": {
     "elapsed": 261693,
     "status": "ok",
     "timestamp": 1601769120120,
     "user": {
      "displayName": "Alvin Chen",
      "photoUrl": "",
      "userId": "12962786962925949010"
     },
     "user_tz": -480
    },
    "id": "ePD8KqujyRSg",
    "outputId": "00509ee5-39ad-4b01-c40c-1d2306217db2"
   },
   "outputs": [
    {
     "name": "stdout",
     "output_type": "stream",
     "text": [
      "\n",
      "\n",
      "begin training using onecycle policy with max lr of 2e-05...\n",
      "480/480 [==============================] - 247s 515ms/step - loss: 0.2873 - accuracy: 0.8858 - val_loss: 0.1719 - val_accuracy: 0.9281\n"
     ]
    },
    {
     "data": {
      "text/plain": [
       "<tensorflow.python.keras.callbacks.History at 0x7fe5ba401f28>"
      ]
     },
     "execution_count": 12,
     "metadata": {
      "tags": []
     },
     "output_type": "execute_result"
    }
   ],
   "source": [
    "\n",
    "## STEP 3: train\n",
    "## default learning rate and epoch\n",
    "# learner.autofit(0.005, 1)\n",
    "# learner.fit_onecycle(lr = 2e-5, epochs = 1)"
   ]
  },
  {
   "cell_type": "markdown",
   "metadata": {
    "id": "m823zBFn5AaC"
   },
   "source": [
    "## Saving Model"
   ]
  },
  {
   "cell_type": "code",
   "execution_count": 13,
   "metadata": {
    "executionInfo": {
     "elapsed": 6534,
     "status": "ok",
     "timestamp": 1601769346400,
     "user": {
      "displayName": "Alvin Chen",
      "photoUrl": "",
      "userId": "12962786962925949010"
     },
     "user_tz": -480
    },
    "id": "OUGIgcV-3YxF"
   },
   "outputs": [],
   "source": [
    "predictor = ktrain.get_predictor(learner.model, preproc)\n",
    "# predictor = ktrain.load_predictor('bert-ch-marc')\n",
    "\n",
    "# predictor.save('../output/bert-ch-marc')"
   ]
  },
  {
   "cell_type": "markdown",
   "metadata": {
    "id": "AxehFP995MWV"
   },
   "source": [
    "## Prediction"
   ]
  },
  {
   "cell_type": "markdown",
   "metadata": {
    "id": "sDnrdkBYwG0q"
   },
   "source": [
    "- Invoke `view_top_losses` to view the most misclassified review in the validation set"
   ]
  },
  {
   "cell_type": "code",
   "execution_count": 15,
   "metadata": {
    "colab": {
     "base_uri": "https://localhost:8080/",
     "height": 156
    },
    "executionInfo": {
     "elapsed": 7127,
     "status": "ok",
     "timestamp": 1601769393649,
     "user": {
      "displayName": "Alvin Chen",
      "photoUrl": "",
      "userId": "12962786962925949010"
     },
     "user_tz": -480
    },
    "id": "4o3B4fCRwG0r",
    "outputId": "12ab8b9f-f813-40d7-ecf5-ef73f74362c6"
   },
   "outputs": [
    {
     "name": "stdout",
     "output_type": "stream",
     "text": [
      "----------\n",
      "id:81 | loss:3.77 | true:positive | pred:negative)\n",
      "\n",
      "[CLS] 之 於 驚 奇 隊 長 ， 我 會 選 擇 證 人 ， 劇 情 太 多 層 了 [SEP]\n",
      "----------\n",
      "id:150 | loss:2.89 | true:positive | pred:negative)\n",
      "\n",
      "[CLS] 想 二 刷 但 禮 拜 六 日 好 像 沒 了 . . . [SEP]\n"
     ]
    }
   ],
   "source": [
    "learner.view_top_losses(n=2, preproc=preproc)"
   ]
  },
  {
   "cell_type": "code",
   "execution_count": 41,
   "metadata": {
    "colab": {
     "base_uri": "https://localhost:8080/",
     "height": 53
    },
    "executionInfo": {
     "elapsed": 855,
     "status": "ok",
     "timestamp": 1601771036166,
     "user": {
      "displayName": "Alvin Chen",
      "photoUrl": "",
      "userId": "12962786962925949010"
     },
     "user_tz": -480
    },
    "id": "PlbJFxk91eBL",
    "outputId": "728556e8-c9a7-4e06-cc50-be44559bd900"
   },
   "outputs": [
    {
     "data": {
      "application/vnd.google.colaboratory.intrinsic+json": {
       "type": "string"
      },
      "text/plain": [
       "'最後在玻璃屋對決兩個印尼人，感覺這兩枚高手放水了！\\r\\n\\r\\n他們可是「全面突襲」系列的兩個大反派！有看過系列電影的人，應該會跟我一樣覺得，如果基努李維的身手出現在全面突襲系列電影裡的話 … 絕對會被打到殘廢！'"
      ]
     },
     "execution_count": 41,
     "metadata": {
      "tags": []
     },
     "output_type": "execute_result"
    }
   ],
   "source": [
    "import numpy as np\n",
    "X_test_reviews =data_test['Reviews'].values\n",
    "X_test_reviews[0]\n",
    "\n",
    "X_test_len = [len(r) for r in X_test_reviews]\n",
    "id = X_test_len.index(np.percentile(X_test_len, 90))\n",
    "X_test_reviews[id]"
   ]
  },
  {
   "cell_type": "code",
   "execution_count": 42,
   "metadata": {
    "colab": {
     "base_uri": "https://localhost:8080/",
     "height": 69
    },
    "executionInfo": {
     "elapsed": 848,
     "status": "ok",
     "timestamp": 1601771041561,
     "user": {
      "displayName": "Alvin Chen",
      "photoUrl": "",
      "userId": "12962786962925949010"
     },
     "user_tz": -480
    },
    "id": "N4AhjPvj7CUl",
    "outputId": "dc7fecae-827a-47fd-d644-d490de471632"
   },
   "outputs": [
    {
     "data": {
      "text/html": [],
      "text/plain": [
       "<IPython.core.display.HTML object>"
      ]
     },
     "metadata": {
      "tags": []
     },
     "output_type": "display_data"
    },
    {
     "name": "stdout",
     "output_type": "stream",
     "text": [
      "positive\n"
     ]
    },
    {
     "data": {
      "text/html": [],
      "text/plain": [
       "<IPython.core.display.HTML object>"
      ]
     },
     "metadata": {
      "tags": []
     },
     "output_type": "display_data"
    },
    {
     "name": "stdout",
     "output_type": "stream",
     "text": [
      "[0.17040962 0.8295904 ]\n",
      "['negative', 'positive']\n"
     ]
    }
   ],
   "source": [
    "print(predictor.predict(X_test_reviews[id]))\n",
    "print(predictor.predict_proba(X_test_reviews[id]))\n",
    "print(predictor.get_classes())"
   ]
  },
  {
   "cell_type": "code",
   "execution_count": 43,
   "metadata": {
    "colab": {
     "base_uri": "https://localhost:8080/",
     "height": 187
    },
    "executionInfo": {
     "elapsed": 52107,
     "status": "ok",
     "timestamp": 1601771096812,
     "user": {
      "displayName": "Alvin Chen",
      "photoUrl": "",
      "userId": "12962786962925949010"
     },
     "user_tz": -480
    },
    "id": "2g3uFOnHwG02",
    "outputId": "fff812f4-3586-455e-980d-ddf69c0756a3"
   },
   "outputs": [
    {
     "data": {
      "text/html": [],
      "text/plain": [
       "<IPython.core.display.HTML object>"
      ]
     },
     "metadata": {
      "tags": []
     },
     "output_type": "display_data"
    },
    {
     "data": {
      "text/html": [],
      "text/plain": [
       "<IPython.core.display.HTML object>"
      ]
     },
     "metadata": {
      "tags": []
     },
     "output_type": "display_data"
    },
    {
     "data": {
      "text/html": [
       "\n",
       "    <style>\n",
       "    table.eli5-weights tr:hover {\n",
       "        filter: brightness(85%);\n",
       "    }\n",
       "</style>\n",
       "\n",
       "\n",
       "\n",
       "\n",
       "\n",
       "\n",
       "\n",
       "\n",
       "\n",
       "\n",
       "\n",
       "\n",
       "\n",
       "\n",
       "\n",
       "\n",
       "\n",
       "\n",
       "\n",
       "\n",
       "\n",
       "\n",
       "\n",
       "\n",
       "\n",
       "\n",
       "\n",
       "\n",
       "\n",
       "\n",
       "\n",
       "\n",
       "\n",
       "\n",
       "        <p style=\"margin-bottom: 0.5em; margin-top: 0em\">\n",
       "            <b>\n",
       "\n",
       "        y=positive\n",
       "\n",
       "</b>\n",
       "\n",
       "\n",
       "    (probability <b>0.835</b>, score <b>1.620</b>)\n",
       "\n",
       "top features\n",
       "        </p>\n",
       "\n",
       "    <table class=\"eli5-weights\"\n",
       "           style=\"border-collapse: collapse; border: none; margin-top: 0em; table-layout: auto; margin-bottom: 2em;\">\n",
       "        <thead>\n",
       "        <tr style=\"border: none;\">\n",
       "\n",
       "                <th style=\"padding: 0 1em 0 0.5em; text-align: right; border: none;\" title=\"Feature contribution already accounts for the feature value (for linear models, contribution = weight * feature value), and the sum of feature contributions is equal to the score or, for some classifiers, to the probability. Feature values are shown if &quot;show_feature_values&quot; is True.\">\n",
       "                    Contribution<sup>?</sup>\n",
       "                </th>\n",
       "\n",
       "            <th style=\"padding: 0 0.5em 0 0.5em; text-align: left; border: none;\">Feature</th>\n",
       "\n",
       "        </tr>\n",
       "        </thead>\n",
       "        <tbody>\n",
       "\n",
       "            <tr style=\"background-color: hsl(120, 100.00%, 80.00%); border: none;\">\n",
       "    <td style=\"padding: 0 1em 0 0.5em; text-align: right; border: none;\">\n",
       "        +1.682\n",
       "    </td>\n",
       "    <td style=\"padding: 0 0.5em 0 0.5em; text-align: left; border: none;\">\n",
       "        Highlighted in text (sum)\n",
       "    </td>\n",
       "\n",
       "</tr>\n",
       "\n",
       "\n",
       "\n",
       "\n",
       "\n",
       "            <tr style=\"background-color: hsl(0, 100.00%, 98.01%); border: none;\">\n",
       "    <td style=\"padding: 0 1em 0 0.5em; text-align: right; border: none;\">\n",
       "        -0.062\n",
       "    </td>\n",
       "    <td style=\"padding: 0 0.5em 0 0.5em; text-align: left; border: none;\">\n",
       "        &lt;BIAS&gt;\n",
       "    </td>\n",
       "\n",
       "</tr>\n",
       "\n",
       "\n",
       "        </tbody>\n",
       "    </table>\n",
       "\n",
       "\n",
       "\n",
       "\n",
       "\n",
       "    <p style=\"margin-bottom: 2.5em; margin-top:-0.5em;\">\n",
       "        <span style=\"background-color: hsl(120, 100.00%, 60.00%); opacity: 1.00\" title=\"0.873\">最後在玻璃屋對決兩個印尼人</span><span style=\"opacity: 0.80\">，</span><span style=\"background-color: hsl(120, 100.00%, 94.76%); opacity: 0.81\" title=\"0.048\">感覺這兩枚高手放水了</span><span style=\"opacity: 0.80\">！ </span><span style=\"background-color: hsl(120, 100.00%, 80.28%); opacity: 0.87\" title=\"0.318\">他們可是</span><span style=\"opacity: 0.80\">「</span><span style=\"background-color: hsl(120, 100.00%, 82.13%); opacity: 0.86\" title=\"0.276\">全面突襲</span><span style=\"opacity: 0.80\">」</span><span style=\"background-color: hsl(0, 100.00%, 86.76%); opacity: 0.84\" title=\"-0.180\">系列的兩個大反派</span><span style=\"opacity: 0.80\">！</span><span style=\"background-color: hsl(120, 100.00%, 73.37%); opacity: 0.91\" title=\"0.488\">有看過系列電影的人</span><span style=\"opacity: 0.80\">，</span><span style=\"background-color: hsl(0, 100.00%, 92.35%); opacity: 0.82\" title=\"-0.082\">應該會跟我一樣覺得</span><span style=\"opacity: 0.80\">，</span><span style=\"background-color: hsl(120, 100.00%, 84.80%); opacity: 0.85\" title=\"0.219\">如果基努李維的身手出現在全面突襲系列電影裡的話</span><span style=\"opacity: 0.80\"> … </span><span style=\"background-color: hsl(0, 100.00%, 79.40%); opacity: 0.88\" title=\"-0.338\">絕對會被打到殘廢</span><span style=\"opacity: 0.80\">！</span>\n",
       "    </p>\n",
       "\n",
       "\n",
       "\n",
       "\n",
       "\n",
       "\n",
       "\n",
       "\n",
       "\n",
       "\n",
       "\n",
       "\n",
       "\n",
       "\n",
       "\n",
       "\n",
       "\n",
       "\n",
       "\n",
       "\n",
       "\n",
       "\n",
       "\n",
       "\n",
       "\n",
       "\n",
       "\n",
       "\n",
       "\n",
       "\n",
       "\n",
       "\n",
       "\n",
       "\n",
       "\n",
       "\n",
       "\n",
       "\n"
      ],
      "text/plain": [
       "<IPython.core.display.HTML object>"
      ]
     },
     "execution_count": 43,
     "metadata": {
      "tags": []
     },
     "output_type": "execute_result"
    }
   ],
   "source": [
    "predictor.explain(X_test_reviews[id])"
   ]
  },
  {
   "cell_type": "markdown",
   "metadata": {
    "id": "e0x2ayHGwG1B"
   },
   "source": [
    "The visualization is generated using a technique called [LIME](https://arxiv.org/abs/1602.04938).  The input is randomly perturbed to examine how the prediction changes.  This is used to infer the relative importance of different words to the final prediction using a linear interpretable model.  \n",
    "\n",
    "- The GREEN words contribute to the model prediction\n",
    "- The RED (and PINK) words detract from the model prediction (Shade of color denotes the strength or size of the coefficients in the inferred linear model)\n",
    "\n",
    "The model prediction is **positive**. Do GREEN words give the impression of a positive feedback?\n"
   ]
  },
  {
   "cell_type": "markdown",
   "metadata": {
    "id": "lV0_pKhuwG1B"
   },
   "source": [
    "## Explaining Tabular Models\n",
    "\n",
    "- Train a model to predict **Survival** using [Kaggle's Titatnic dataset](https://www.kaggle.com/c/titanic).\n",
    "\n",
    "- After training the model, **explain** the model's prediction for a specific example."
   ]
  },
  {
   "cell_type": "code",
   "execution_count": null,
   "metadata": {
    "id": "MrHenxM_wG1C"
   },
   "outputs": [],
   "source": [
    "import pandas as pd\n",
    "import numpy as np\n",
    "train_df = pd.read_csv('titanic/train.csv', index_col=0)\n",
    "train_df = train_df.drop('Name', 1)\n",
    "train_df = train_df.drop('Ticket', 1)\n",
    "train_df = train_df.drop('Cabin', 1)\n",
    "\n",
    "np.random.seed(42)\n",
    "p = 0.1 # 10% for test set\n",
    "prop = 1-p\n",
    "df = train_df.copy()\n",
    "msk = np.random.rand(len(df)) < prop\n",
    "train_df = df[msk]\n",
    "test_df = df[~msk]\n",
    "\n",
    "\n",
    "import ktrain\n",
    "from ktrain import tabular\n",
    "trn, val, preproc = tabular.tabular_from_df(train_df, label_columns=['Survived'], random_state=42)\n",
    "model = tabular.tabular_classifier('mlp', trn)\n",
    "learner = ktrain.get_learner(model, train_data=trn, val_data=val, batch_size=32)\n",
    "learner.fit_onecycle(1e-3, 25)"
   ]
  },
  {
   "cell_type": "code",
   "execution_count": null,
   "metadata": {
    "id": "x6ocqBEOwG1F"
   },
   "outputs": [],
   "source": [
    "predictor = ktrain.get_predictor(learner.model, preproc)\n",
    "preds = predictor.predict(test_df, return_proba=True)\n",
    "df = test_df.copy()[[c for c in test_df.columns.values if c != 'Survived']]\n",
    "df['Survived'] = test_df['Survived']\n",
    "df['predicted_Survived'] = np.argmax(preds, axis=1)\n",
    "df.head()"
   ]
  },
  {
   "cell_type": "markdown",
   "metadata": {
    "id": "IYSzPgp4wG1I"
   },
   "source": [
    "Let's explain the male passenger with PassengerID=5 using the [shape](https://github.com/slundberg/shap) library."
   ]
  },
  {
   "cell_type": "code",
   "execution_count": null,
   "metadata": {
    "id": "CzJNrkrUwG1J"
   },
   "outputs": [],
   "source": [
    "predictor.explain(test_df, row_index=35, class_id=1)"
   ]
  },
  {
   "cell_type": "markdown",
   "metadata": {
    "id": "MD3qLNETwG1Q"
   },
   "source": [
    "From the visualization above, we can see that his First class status (`Pclass=1`) and his higher-than-average Fare price (suggesting that he i is wealthy) are pushing the model higher towards predicting **Survived**.  At the same time, the fact that he is a `Male` pushes the model to lower its prediction towards **NOT Survived**.   For these reasons, this is a border-line and uncertain prediction.\n",
    "\n",
    "For more information, see the [tutorial notebook on tabular models](https://nbviewer.jupyter.org/github/amaiya/ktrain/blob/master/tutorials/tutorial-08-tabular_classification_and_regression.ipynb)."
   ]
  },
  {
   "cell_type": "code",
   "execution_count": null,
   "metadata": {
    "id": "gO9LGX3VwG1R"
   },
   "outputs": [],
   "source": []
  }
 ],
 "metadata": {
  "accelerator": "GPU",
  "colab": {
   "collapsed_sections": [],
   "name": "ktrain-tutorial-explaining-predictions.ipynb",
   "provenance": [],
   "toc_visible": true
  },
  "kernelspec": {
   "display_name": "Python 3",
   "language": "python",
   "name": "python3"
  },
  "language_info": {
   "codemirror_mode": {
    "name": "ipython",
    "version": 3
   },
   "file_extension": ".py",
   "mimetype": "text/x-python",
   "name": "python",
   "nbconvert_exporter": "python",
   "pygments_lexer": "ipython3",
   "version": "3.7.6"
  },
  "toc": {
   "base_numbering": 1,
   "nav_menu": {},
   "number_sections": false,
   "sideBar": true,
   "skip_h1_title": false,
   "title_cell": "Table of Contents",
   "title_sidebar": "Contents",
   "toc_cell": false,
   "toc_position": {},
   "toc_section_display": true,
   "toc_window_display": true
  },
  "varInspector": {
   "cols": {
    "lenName": 16,
    "lenType": 16,
    "lenVar": 40
   },
   "kernels_config": {
    "python": {
     "delete_cmd_postfix": "",
     "delete_cmd_prefix": "del ",
     "library": "var_list.py",
     "varRefreshCmd": "print(var_dic_list())"
    },
    "r": {
     "delete_cmd_postfix": ") ",
     "delete_cmd_prefix": "rm(",
     "library": "var_list.r",
     "varRefreshCmd": "cat(var_dic_list()) "
    }
   },
   "types_to_exclude": [
    "module",
    "function",
    "builtin_function_or_method",
    "instance",
    "_Feature"
   ],
   "window_display": false
  }
 },
 "nbformat": 4,
 "nbformat_minor": 0
}