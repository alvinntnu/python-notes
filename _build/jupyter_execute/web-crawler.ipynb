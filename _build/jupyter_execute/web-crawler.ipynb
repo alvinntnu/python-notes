{
 "cells": [
  {
   "cell_type": "markdown",
   "metadata": {},
   "source": [
    "# Web Crawler"
   ]
  },
  {
   "cell_type": "code",
   "execution_count": 1,
   "metadata": {},
   "outputs": [],
   "source": [
    "import requests\n",
    "from bs4 import BeautifulSoup as soup  # HTML data structure\n",
    "\n",
    "# extract article hyperlinks from an index page\n",
    "def extractArtLinks(url):\n",
    "    r = requests.get(url, cookies={'over18':'1'})\n",
    "    page_soup = soup(r.text, \"html.parser\")\n",
    "    containers = page_soup.findAll(\"div\", {\"class\": \"r-ent\"})\n",
    "    art_links = []\n",
    "    for container in containers:\n",
    "        # Finds all link tags \"a\" from within the first div.\n",
    "        art_link = container.find('a')\n",
    "        if art_link:\n",
    "            #print(art_link['href'])\n",
    "            #print(container.find('div',{'class':'title'}).get_text())\n",
    "            art_meta = container.find('div',{'class':'meta'})\n",
    "            #print(art_meta.find('div',{'class':'author'}).get_text())\n",
    "            #print(art_meta.find('div',{'class':'date'}).get_text())\n",
    "\n",
    "            art_links.append({\n",
    "                'push': container.find('div',{'class':'nrec'}).get_text(),\n",
    "                'title': container.find('div',{'class':'title'}).get_text().strip(),\n",
    "                'date': art_meta.find('div',{'class':'date'}).get_text(),\n",
    "                'author': art_meta.find('div',{'class':'author'}).get_text(),\n",
    "                'link': art_link['href'],\n",
    "                'text': extractArtText('https://www.ptt.cc' + art_link['href'])\n",
    "            })\n",
    "\n",
    "    return(art_links)\n",
    "\n",
    "# find the previous index page link\n",
    "def findPrevIndex(url):\n",
    "    r = requests.get(url, cookies={'over18':'1'})\n",
    "    page_soup = soup(r.text,\"html.parser\")\n",
    "    btn = page_soup.select('div.btn-group > a')\n",
    "    up_page_href = btn[3]['href']\n",
    "    next_page_url = 'https://www.ptt.cc' + up_page_href\n",
    "    return(next_page_url)\n",
    "\n",
    "# extract article contents from  the article hyperlink\n",
    "def extractArtText(url):\n",
    "    r = requests.get(url, cookies={'over18':'1'})\n",
    "    page_soup = soup(r.text, \"lxml\")\n",
    "    #print(page_soup.find(\"div\",{\"id\":\"main-content\"}).get_text())\n",
    "    art_text=page_soup.select('div#main-content', limit=1)[0].text\n",
    "    return(art_text)"
   ]
  },
  {
   "cell_type": "code",
   "execution_count": 2,
   "metadata": {},
   "outputs": [
    {
     "data": {
      "text/plain": [
       "17"
      ]
     },
     "execution_count": 2,
     "metadata": {},
     "output_type": "execute_result"
    }
   ],
   "source": [
    "# main()\n",
    "num_of_index_page = 2\n",
    "board_name = 'Food'\n",
    "url = 'https://www.ptt.cc/bbs/{}/index.html'.format(board_name)\n",
    "all_links =[]\n",
    "for page in range(1,num_of_index_page):\n",
    "    all_links = all_links + extractArtLinks(url)\n",
    "    url = findPrevIndex(url)\n",
    "len(all_links)"
   ]
  },
  {
   "cell_type": "code",
   "execution_count": 3,
   "metadata": {},
   "outputs": [
    {
     "name": "stdout",
     "output_type": "stream",
     "text": [
      "{'push': '', 'title': '[食記][台北市] Toasteria Cafe 吐司利亞 敦南店', 'date': ' 9/21', 'author': 'JeremyKSKGA', 'link': '/bbs/Food/M.1600701041.A.C41.html', 'text': '作者JeremyKSKGA (Jeremy以食為天)看板Food標題[食記][台北市] Toasteria Cafe 吐司利亞 敦南店時間Mon Sep 21 23:10:33 2020\\n圖文網誌：https://jeremyckt2.pixnet.net/blog/post/229693142\\n\\nToasteria Cafe 吐司利亞 敦南店\\n用餐日期：2020.3.20、9.16\\n地址：台北市大安區敦化南路一段169巷3號\\n鄰近捷運站：台北捷運板南線BL16忠孝敦化站\\n電話：(02) 2752-0033\\n營業時間：星期一~五 11:00~隔日凌晨1:00；星期六、日 9:00~隔日凌晨1:00\\n官網： https://www.toasteriacafe.com/\\nFB粉專： https://www.facebook.com/toasteriacafe/\\n\\n\\n3/20(五)晚上下班後約了好友要去哈根達斯敦南旗艦店買一送一，\\n\\n我們打算先就近在「Toasteria Cafe 吐司利亞」吃晚餐。\\n\\n店門口就種了不少盆栽，\\n\\n綠意盎然令人感到賞心悅目。\\n\\n\\n店裡充滿濃濃的異國風情，\\n\\n布置和裝潢很走地中海風格，\\n\\n現場又播放著異國情調音樂。\\n\\n廚房是開放式的。\\n\\n\\n2樓的座位區(9/16那天中午二訪時補拍的XD)，\\n\\n空間更寬敞又舒適愜意，\\n\\n陽台區種了許多植栽前面也有一排座位。\\n\\n\\n\\n「Toasteria Cafe 吐司利亞」主打地中海料理，\\n\\n最具特色的包括西班牙小菜、中東胡姆斯(Hummus)、夏卡蘇卡(Shakshuka)等，\\n\\n還有地中海風格義大利麵、沙拉、早午餐等，\\n\\n此外這家的經典帕尼尼三明治也是主打之一，\\n\\n其他還有甜點、咖啡、茶飲、果汁、氣泡飲、酒精飲料等。\\n\\n(注意：未成年請勿飲酒！)\\n\\n完整菜單可參見我的相簿：https://jeremyckt2.pixnet.net/album/set/6171980\\n\\n\\n\\n來看看我們當天享用的餐點吧！\\n\\n古巴諾帕尼尼\\n熱壓帕尼尼夾著古巴式慢烤豬里肌肉、煙燻火腿、特製酸黃瓜、焦糖洋蔥、烤白切達起司\\n、黃芥末醬\\n\\nhttps://pic.pimg.tw/jeremyckt2/1584837230-1907758584_l.jpg\\n\\n吐司烤得很脆又帶著小麥香氣，\\n\\n手撕豬肉肉質軟嫩，\\n\\n油脂較少比較不膩，\\n\\n搭著鹹香火腿和香濃起司，\\n\\n以及酸香又脆口的酸黃瓜和鮮甜洋蔥，\\n\\n味道和口感豐富又美味。\\n\\n\\n\\n費城牛肉帕尼尼\\n熱壓帕尼尼夾著鐵板孜然沙朗牛肉片、烤切達起司、洋蔥、甜紅椒、費城肉汁、新鮮羅勒\\n葉、蜂蜜芥末醬\\n\\nhttps://pic.pimg.tw/jeremyckt2/1584837228-258980031_l.jpg\\n\\n牛肉肉質軟嫩孜然香氣很入味\\n\\n\\n\\n沙瓦瑪雞肉胡姆斯\\n胡姆斯就是阿拉伯語的鷹嘴豆泥，\\n\\n鷹嘴豆泥搭配羊油花拌炒的沙瓦瑪香料雞肉，\\n\\n並附上烤皮塔餅。\\n\\nhttps://pic.pimg.tw/jeremyckt2/1584837236-1032214477_l.jpg\\n\\n鷹嘴豆泥是中東常見的主食之一，\\n\\n口感香濃滑順，\\n\\n雞肉肉質軟嫩不柴香料入味，\\n\\n享用方式為將皮塔餅包著鷹嘴豆泥和雞肉享用。\\n\\n\\n\\n9/16(三)中午我再度造訪「Toasteria Cafe 吐司利亞」敦南店，\\n\\n來享用早午餐。\\n\\n吐司利亞最愛肉俱樂部歐姆蛋\\n歐姆蛋裡包著西班牙紅椒香料雞肉、培根、火腿、白切達起司、墨西哥辣椒和新鮮百里香\\n，\\n\\n附上熱壓麵包、薯條、小沙拉、特製酸黃瓜橄欖和檸檬酸豆蛋黃醬。\\n\\nhttps://pic.pimg.tw/jeremyckt2/1600233247-4119305450-g_l.jpg\\nhttps://pic.pimg.tw/jeremyckt2/1600233255-2898717963-g_l.jpg\\n\\n歐姆蛋相當厚實，\\n\\n口感滑嫩細緻又濕潤。\\n\\n裡面的料很豐富有滿滿的肉真令人滿足，\\n\\n雞肉肉質軟嫩以西班牙紅椒醃得入味帶點微辣，\\n\\n還有鹹香的培根和火腿，\\n\\n以及香濃又牽絲的白切達起司，\\n\\n又有墨西哥辣椒和百里香的提味，\\n\\n這款歐姆蛋美味十足。\\n\\n附上的薯條沾著酸酸的檸檬酸豆蛋黃醬吃挺涮嘴的。\\n\\n\\n「Toasteria Cafe 吐司利亞」是間氣氛很棒的地中海特色餐廳，\\n\\n這家的餐點包括地中海料理、早午餐、帕尼尼都很好吃，\\n\\n品項和口味的選擇性很豐富，\\n\\n風味都很獨特，\\n\\n也是不錯的異國料理好選擇之一。\\n\\n\\n\\n--\\n※ 發信站: 批踢踢實業坊(ptt.cc), 來自: 223.137.22.206 (臺灣)\\n※ 文章網址: https://www.ptt.cc/bbs/Food/M.1600701041.A.C41.html\\n※ JeremyKSKGA:轉錄至看板 Taipei                                   09/21 23:10\\n※ JeremyKSKGA:轉錄至看板 Daan                                     09/21 23:10\\n'}\n"
     ]
    }
   ],
   "source": [
    "type(all_links[2])\n",
    "print(all_links[2])"
   ]
  },
  {
   "cell_type": "code",
   "execution_count": 4,
   "metadata": {},
   "outputs": [
    {
     "name": "stdout",
     "output_type": "stream",
     "text": [
      "Push:  \n",
      "title: [食記][台北市] Toasteria Cafe 吐司利亞 敦南店 \n",
      "date:  9/21 \n",
      "author: JeremyKSKGA \n",
      "link: /bbs/Food/M.1600701041.A.C41.html \n",
      "text: 作者Jer \n",
      "\n"
     ]
    }
   ],
   "source": [
    "print('Push: {push:s} \\n'\n",
    "      'title: {title:s} \\n'\n",
    "      'date: {date:s} \\n'\n",
    "      'author: {author:s} \\n'\n",
    "      'link: {link:s} \\n'\n",
    "      'text: {text:.5} \\n'.format(**all_links[2]))"
   ]
  },
  {
   "cell_type": "code",
   "execution_count": null,
   "metadata": {},
   "outputs": [],
   "source": []
  },
  {
   "cell_type": "markdown",
   "metadata": {},
   "source": [
    ":::{admonition} Exercise\n",
    "How to seperate post texts from push texts?\n",
    ":::\n"
   ]
  }
 ],
 "metadata": {
  "kernelspec": {
   "display_name": "ckiptagger",
   "language": "python",
   "name": "ckiptagger"
  },
  "language_info": {
   "codemirror_mode": {
    "name": "ipython",
    "version": 3
   },
   "file_extension": ".py",
   "mimetype": "text/x-python",
   "name": "python",
   "nbconvert_exporter": "python",
   "pygments_lexer": "ipython3",
   "version": "3.6.12"
  }
 },
 "nbformat": 4,
 "nbformat_minor": 4
}