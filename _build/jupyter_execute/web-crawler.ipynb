{
 "cells": [
  {
   "cell_type": "markdown",
   "metadata": {},
   "source": [
    "# Web Crawler"
   ]
  },
  {
   "cell_type": "code",
   "execution_count": 1,
   "metadata": {},
   "outputs": [],
   "source": [
    "import requests\n",
    "from bs4 import BeautifulSoup as soup  # HTML data structure\n",
    "\n",
    "# extract article hyperlinks from an index page\n",
    "def extractArtLinks(url):\n",
    "    r = requests.get(url, cookies={'over18':'1'})\n",
    "    page_soup = soup(r.text, \"html.parser\")\n",
    "    containers = page_soup.findAll(\"div\", {\"class\": \"r-ent\"})\n",
    "    art_links = []\n",
    "    for container in containers:\n",
    "        # Finds all link tags \"a\" from within the first div.\n",
    "        art_link = container.find('a')\n",
    "        if art_link:\n",
    "            #print(art_link['href'])\n",
    "            #print(container.find('div',{'class':'title'}).get_text())\n",
    "            art_meta = container.find('div',{'class':'meta'})\n",
    "            #print(art_meta.find('div',{'class':'author'}).get_text())\n",
    "            #print(art_meta.find('div',{'class':'date'}).get_text())\n",
    "\n",
    "            art_links.append({\n",
    "                'push': container.find('div',{'class':'nrec'}).get_text(),\n",
    "                'title': container.find('div',{'class':'title'}).get_text().strip(),\n",
    "                'date': art_meta.find('div',{'class':'date'}).get_text(),\n",
    "                'author': art_meta.find('div',{'class':'author'}).get_text(),\n",
    "                'link': art_link['href'],\n",
    "                'text': extractArtText('https://www.ptt.cc' + art_link['href'])\n",
    "            })\n",
    "\n",
    "    return(art_links)\n",
    "\n",
    "# find the previous index page link\n",
    "def findPrevIndex(url):\n",
    "    r = requests.get(url, cookies={'over18':'1'})\n",
    "    page_soup = soup(r.text,\"html.parser\")\n",
    "    btn = page_soup.select('div.btn-group > a')\n",
    "    up_page_href = btn[3]['href']\n",
    "    next_page_url = 'https://www.ptt.cc' + up_page_href\n",
    "    return(next_page_url)\n",
    "\n",
    "# extract article contents from  the article hyperlink\n",
    "def extractArtText(url):\n",
    "    r = requests.get(url, cookies={'over18':'1'})\n",
    "    page_soup = soup(r.text, \"lxml\")\n",
    "    #print(page_soup.find(\"div\",{\"id\":\"main-content\"}).get_text())\n",
    "    art_text=page_soup.select('div#main-content', limit=1)[0].text\n",
    "    return(art_text)"
   ]
  },
  {
   "cell_type": "code",
   "execution_count": 2,
   "metadata": {},
   "outputs": [
    {
     "data": {
      "text/plain": [
       "24"
      ]
     },
     "execution_count": 2,
     "metadata": {},
     "output_type": "execute_result"
    }
   ],
   "source": [
    "# main()\n",
    "num_of_index_page = 2\n",
    "board_name = 'Food'\n",
    "url = 'https://www.ptt.cc/bbs/{}/index.html'.format(board_name)\n",
    "all_links =[]\n",
    "for page in range(1,num_of_index_page):\n",
    "    all_links = all_links + extractArtLinks(url)\n",
    "    url = findPrevIndex(url)\n",
    "len(all_links)"
   ]
  },
  {
   "cell_type": "code",
   "execution_count": 3,
   "metadata": {},
   "outputs": [
    {
     "name": "stdout",
     "output_type": "stream",
     "text": [
      "{'push': '', 'title': '[食記] 台北大安美式Diner漢堡店｜Everywhere', 'date': '10/03', 'author': 'TooQoo', 'link': '/bbs/Food/M.1601735629.A.BD6.html', 'text': '作者TooQoo (禿酷)看板Food標題[食記] 台北大安美式Diner漢堡店｜Everywhere 時間Sat Oct  3 22:33:43 2020\\n\\n   餐廳名稱：Everywhere Burger Club 漢堡俱樂部\\n   消費時間：2020/7\\n   地址：台北市大安區光復南路420巷21號\\n   營業時間：11:30–15:00，17:00–22:00 (週五、六至22:30，週一公休)\\n   每人平均價位：250-350\\n   推薦菜色：煙燻番茄醬/壓扁雙層牛 老派南方炸雞 紅甜薯片\\n   官網：https://www.facebook.com/everywherebc/\\n\\n----------------------------------\\n\\n圖文食記：\\nhttps://adaitalk.com/taiwanfoodie/taipeifoodie/6813/\\n\\n----------------------------------\\n\\nhttps://imgur.com/wsRuFkS\\n\\n【環境】\\n我們大約18:40抵達，入店內登記後位，\\n前面約有5組2位的客人，\\n等待大約30分鐘後輪到我們!\\n(無法留電話等提醒喔!)\\n下圖照片是20:15左右離開時的狀況\\n\\n很喜歡霓虹燈管的風格呀!\\n\\n\\n只有一個漢堡圖案的燈牌，很有趣耶!\\n\\n\\n雖然我們近期都愛去老屋改造的店，\\n但是這間的風格強烈，且很有整體性，\\n很有誠意的裝潢~ 我們很愛!\\n\\n一進門會聞到蠻濃的料理味，肚子會超餓~\\n不知道坐吧台吃完後身上會不會很有味道?!\\n(我們剛好被排到旁邊的座位區)\\n\\n\\n【餐點】\\n菜單\\n\\n\\n煙燻番茄醬/壓扁雙層牛 + 經典薯條/可樂\\nNTD 215 + 70\\n新鮮牛番茄/自製煙燻番茄醬/牛肉排x2/切達起司x2/焦香洋蔥圈\\n漢堡 麵包並不是烤到脆的類型，\\n是很又鬆又厚又有彈性的布里歐麵包 (是今年改版的麵包喔!)\\n雙層牛肉很多汁，\\n現場還可以聽到手打牛肉的聲音!!\\n起士、番茄、洋蔥 彼此搭配也很棒~\\n份量不算大喔! 先生吃完沒有太飽~\\n薯條 覺得中規中矩~ 但是吃漢堡沒有薯條就是不對勁，\\n還是要點才行~哈哈\\n\\n\\n老派南方炸雞 + 紅甜薯片/焦糖冰奶茶\\nNTD 220 + 100\\n檸檬百里香蛋黃醬/波士頓奶油萵苣/新鮮牛番茄/老派南方炸雞\\n\\n漢堡 炸雞肉很嫩唷! 醬汁有點辣感 (我是怕辣人)\\n生菜搭配進去後，覺得整個漢堡口味更豐富~\\n我邊喊辣邊吃，對我來說份量很夠!\\n紅甜薯片 這個~我超級愛! (本來就愛地瓜)\\n他的切片因為厚度略有不同，\\n因此可以吃到薄脆如洋芋片，\\n也有能咬到地瓜的軟度滋潤!\\n這是市售地瓜餅乾吃不到的口感呀~\\n鹹甜的調味粉超棒! 個人大大推!\\n焦糖冰奶茶 覺得蠻甜的，是飲料店半糖以上的甜度喔!\\n\\n\\n難得入鏡一下~\\n就是這麼好吃! 就是這麼喜歡~\\n\\n\\n去年在美國吃了好多漢堡，\\n導致我回國都過10個月了~還不想再去吃!\\n這次的Every Where Burger Club讓我從新燃起對漢堡的熱情~\\n還有哪裡有好吃的漢堡可以推薦我們喔~\\n\\n--\\n我們是阿呆夫妻過日子主要分享國內外旅遊、美食\\n\\n部落格：https://adaitalk.com/\\nInstgram：https://www.instagram.com/adai_talk/\\nFB粉專：https://www.facebook.com/Adaitalk\\n\\n--\\n※ 發信站: 批踢踢實業坊(ptt.cc), 來自: 36.228.126.139 (臺灣)\\n※ 文章網址: https://www.ptt.cc/bbs/Food/M.1601735629.A.BD6.html\\n'}\n"
     ]
    }
   ],
   "source": [
    "type(all_links[2])\n",
    "print(all_links[2])"
   ]
  },
  {
   "cell_type": "code",
   "execution_count": 4,
   "metadata": {},
   "outputs": [
    {
     "name": "stdout",
     "output_type": "stream",
     "text": [
      "Push:  \n",
      "title: [食記] 台北大安美式Diner漢堡店｜Everywhere \n",
      "date: 10/03 \n",
      "author: TooQoo \n",
      "link: /bbs/Food/M.1601735629.A.BD6.html \n",
      "text: 作者Too \n",
      "\n"
     ]
    }
   ],
   "source": [
    "print('Push: {push:s} \\n'\n",
    "      'title: {title:s} \\n'\n",
    "      'date: {date:s} \\n'\n",
    "      'author: {author:s} \\n'\n",
    "      'link: {link:s} \\n'\n",
    "      'text: {text:.5} \\n'.format(**all_links[2]))"
   ]
  },
  {
   "cell_type": "code",
   "execution_count": null,
   "metadata": {},
   "outputs": [],
   "source": []
  },
  {
   "cell_type": "markdown",
   "metadata": {},
   "source": [
    ":::{admonition} Exercise\n",
    "How to seperate post texts from push texts?\n",
    ":::\n"
   ]
  }
 ],
 "metadata": {
  "kernelspec": {
   "display_name": "ckiptagger",
   "language": "python",
   "name": "ckiptagger"
  },
  "language_info": {
   "codemirror_mode": {
    "name": "ipython",
    "version": 3
   },
   "file_extension": ".py",
   "mimetype": "text/x-python",
   "name": "python",
   "nbconvert_exporter": "python",
   "pygments_lexer": "ipython3",
   "version": "3.6.12"
  }
 },
 "nbformat": 4,
 "nbformat_minor": 4
}