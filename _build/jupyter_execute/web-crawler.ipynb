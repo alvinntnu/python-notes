{
 "cells": [
  {
   "cell_type": "markdown",
   "metadata": {},
   "source": [
    "# Web Crawler"
   ]
  },
  {
   "cell_type": "code",
   "execution_count": 1,
   "metadata": {},
   "outputs": [],
   "source": [
    "import requests\n",
    "from bs4 import BeautifulSoup as soup  # HTML data structure\n",
    "\n",
    "# extract article hyperlinks from an index page\n",
    "def extractArtLinks(url):\n",
    "    r = requests.get(url, cookies={'over18':'1'})\n",
    "    page_soup = soup(r.text, \"html.parser\")\n",
    "    containers = page_soup.findAll(\"div\", {\"class\": \"r-ent\"})\n",
    "    art_links = []\n",
    "    for container in containers:\n",
    "        # Finds all link tags \"a\" from within the first div.\n",
    "        art_link = container.find('a')\n",
    "        if art_link:\n",
    "            #print(art_link['href'])\n",
    "            #print(container.find('div',{'class':'title'}).get_text())\n",
    "            art_meta = container.find('div',{'class':'meta'})\n",
    "            #print(art_meta.find('div',{'class':'author'}).get_text())\n",
    "            #print(art_meta.find('div',{'class':'date'}).get_text())\n",
    "\n",
    "            art_links.append({\n",
    "                'push': container.find('div',{'class':'nrec'}).get_text(),\n",
    "                'title': container.find('div',{'class':'title'}).get_text().strip(),\n",
    "                'date': art_meta.find('div',{'class':'date'}).get_text(),\n",
    "                'author': art_meta.find('div',{'class':'author'}).get_text(),\n",
    "                'link': art_link['href'],\n",
    "                'text': extractArtText('https://www.ptt.cc' + art_link['href'])\n",
    "            })\n",
    "\n",
    "    return(art_links)\n",
    "\n",
    "# find the previous index page link\n",
    "def findPrevIndex(url):\n",
    "    r = requests.get(url, cookies={'over18':'1'})\n",
    "    page_soup = soup(r.text,\"html.parser\")\n",
    "    btn = page_soup.select('div.btn-group > a')\n",
    "    up_page_href = btn[3]['href']\n",
    "    next_page_url = 'https://www.ptt.cc' + up_page_href\n",
    "    return(next_page_url)\n",
    "\n",
    "# extract article contents from  the article hyperlink\n",
    "def extractArtText(url):\n",
    "    r = requests.get(url, cookies={'over18':'1'})\n",
    "    page_soup = soup(r.text, \"lxml\")\n",
    "    #print(page_soup.find(\"div\",{\"id\":\"main-content\"}).get_text())\n",
    "    art_text=page_soup.select('div#main-content', limit=1)[0].text\n",
    "    return(art_text)"
   ]
  },
  {
   "cell_type": "code",
   "execution_count": 2,
   "metadata": {},
   "outputs": [
    {
     "data": {
      "text/plain": [
       "14"
      ]
     },
     "execution_count": 2,
     "metadata": {},
     "output_type": "execute_result"
    }
   ],
   "source": [
    "# main()\n",
    "num_of_index_page = 2\n",
    "board_name = 'Food'\n",
    "url = 'https://www.ptt.cc/bbs/{}/index.html'.format(board_name)\n",
    "all_links =[]\n",
    "for page in range(1,num_of_index_page):\n",
    "    all_links = all_links + extractArtLinks(url)\n",
    "    url = findPrevIndex(url)\n",
    "len(all_links)"
   ]
  },
  {
   "cell_type": "code",
   "execution_count": 3,
   "metadata": {},
   "outputs": [
    {
     "name": "stdout",
     "output_type": "stream",
     "text": [
      "{'push': '', 'title': 'Fw: [食記] 高雄 小城牛排館，鐵板麵可全換蛋', 'date': '10/06', 'author': 'ctx705f', 'link': '/bbs/Food/M.1601967402.A.E42.html', 'text': '作者ctx705f (鍵盤小妹)看板Food標題Fw: [食記] 高雄 小城牛排館，鐵板麵可全換蛋時間Tue Oct  6 14:56:41 2020\\n※ [本文轉錄自 Kaohsiung 看板 #1VV1KTHX ]\\n\\n作者: ctx705f (鍵盤小妹) 看板: Kaohsiung\\n標題: [食記] 小城牛排館，鐵板麵可全換蛋\\n時間: Tue Oct  6 13:25:09 2020\\n\\n地址：80788高雄市三民區鼎強街131號\\n\\n電話：(07)350-9162\\n\\n營業時間：11:00~14:00、17:00~21:00，週日公休\\n\\n每人消費：200元左右\\n\\n消費時間：2020年10月\\n\\n無音樂圖文：https://chaos810126.pixnet.net/blog/post/353030468\\n\\n==\\n\\n小城牛排館位在鼎強街與天祥一路的交叉口。招牌雖然小，但可以認對面的加油站，看到\\n加油站就知道到了。\\n\\n\\n前檯是料理區，右手邊則提供的可以自取的紅茶以及玉米濃湯。\\n\\n\\n店內空間簡單明亮，整潔看起來也做得不錯，而且有冷氣可以吹。在走道的中央則擺放的\\n需要用到的餐具及各式調味料，常見的番茄醬、辣椒醬、胡椒粉與梅林醬都有了。如果有\\n海鹽的話會更完美。\\n\\n\\n菜單。百元以下有鐵板麵以及豬排兩種選擇，常見的排餐大約在150元左右，幾個較高檔\\n的牛排則在200~300元左右，整體平價。小城可以進行加麵加蛋，而且麵也可以單換成蛋\\n。\\n\\n\\n舉例說明，一份餐點中本來就有一顆蛋、一份鐵板麵和一份肉。鐵板麵在套餐中佔30元，\\n可以把這30元以10元/顆的方式換成蛋，簡單說就是如果全部換成蛋的話，餐點就會變成\\n原本的一顆蛋+一份肉+交換過後的三顆蛋=四顆蛋！對於在澱粉控制的人來說是一大福音\\n。\\n\\n\\n自取的玉米濃湯。勾芡的口感比較濃一些，但香味十分足夠，可以再加點胡椒調味。但我\\n個人覺得喝一碗就夠了，再多會膩。\\n\\n\\n自取的紅茶。甜度適中，當作解渴用或解膩用都不錯。\\n\\n\\n我點的是沙朗牛排(200元)。因為牛排比較大所以分開放，在視覺上少了些震撼，可以自\\n己堆上去。分開來擺也讓鐵板麵的醬汁比較不足，可以自己另外配沾醬，但不影響鐵板麵\\nQQ的口感。這麵做得滿好吃的，但這種夜市鐵板牛排的鐵板麵總覺得要稍微被鐵板弄到焦\\n掉更有FU一點？\\n\\n\\n沙朗的份量如圖所示，還滿大一塊的，小城處理得比較偏熟一些，我個人口味喜歡更生一\\n點點，但友人覺得很夠了。\\n\\n\\n友人點的是雞腿排(130元)，麵全部換成蛋。一大塊雞腿排下面就是四顆荷包蛋真的相當\\n壯觀！而雞腿排也是在這種店的安全牌之一，香脆的表皮與雞腿的肉質非常難踩雷，滿足\\n度相當高。\\n\\n\\n結論。內用有冷氣、價格合理，自取的湯和紅茶也不錯。重點是友人跟店家提出的換蛋需\\n求成功，有了一個低澱粉的蛋白質大餐。如果有健身族或正在控制澱粉，不妨都向店家問\\n問能否換成蛋吧！\\n\\n\\n--------------本文警語------------------------\\n本篇推文禁止出現政治人物或與其有關之內容，\\n 違者將向板主以高雄板規 6-1 或 6-5 檢舉。\\n----以上警語請自行決定是否刪除---------------- \\n\\n--\\n┌─── ▲◣▂▄▆◤ ──▲◣▂▄▆◤ ──▲◣▂▄▆◤ ──▲◣▂▄▆◤ ──┐\\n│這讓 ◤      │  ha   ◤      │  cool ◤      │  man  ◤      │      │\\n│篇您 ◢●  ●  \\\\      ◢●  ●  \\\\      ◢●  ●  \\\\      ◢●  ●  \\\\      │\\n│文覺  人 ︸ ＿◤ 新    人 ︸ ＿◤ 溫    人 ︸ ＿◤ 難    人 ︸ ＿◤ 生   │\\n│章得   █◣◥ ◣ 奇   █◣◥ ◣ 馨   █◣◥ ◣ 過   █◣◥ ◣ 氣   │\\n└───  ◣▲▍ /  \\\\──  ◣▲▍ /  \\\\──  ◣▲▍ /  \\\\──  ◣▲▍ /  \\\\ ──┘\\n\\n--\\n※ 發信站: 批踢踢實業坊(ptt.cc), 來自: 36.236.42.97 (臺灣)\\n※ 文章網址: https://www.ptt.cc/bbs/Kaohsiung/M.1601967389.A.461.html\\n\\n※ 發信站: 批踢踢實業坊(ptt.cc)\\n※ 轉錄者: ctx705f (36.236.42.97 臺灣), 10/06/2020 14:56:41\\n'}\n"
     ]
    }
   ],
   "source": [
    "type(all_links[2])\n",
    "print(all_links[2])"
   ]
  },
  {
   "cell_type": "code",
   "execution_count": 4,
   "metadata": {},
   "outputs": [
    {
     "name": "stdout",
     "output_type": "stream",
     "text": [
      "Push:  \n",
      "title: Fw: [食記] 高雄 小城牛排館，鐵板麵可全換蛋 \n",
      "date: 10/06 \n",
      "author: ctx705f \n",
      "link: /bbs/Food/M.1601967402.A.E42.html \n",
      "text: 作者ctx \n",
      "\n"
     ]
    }
   ],
   "source": [
    "print('Push: {push:s} \\n'\n",
    "      'title: {title:s} \\n'\n",
    "      'date: {date:s} \\n'\n",
    "      'author: {author:s} \\n'\n",
    "      'link: {link:s} \\n'\n",
    "      'text: {text:.5} \\n'.format(**all_links[2]))"
   ]
  },
  {
   "cell_type": "code",
   "execution_count": null,
   "metadata": {},
   "outputs": [],
   "source": []
  },
  {
   "cell_type": "markdown",
   "metadata": {},
   "source": [
    ":::{admonition} Exercise\n",
    "How to seperate post texts from push texts?\n",
    ":::\n"
   ]
  }
 ],
 "metadata": {
  "kernelspec": {
   "display_name": "ckiptagger",
   "language": "python",
   "name": "ckiptagger"
  },
  "language_info": {
   "codemirror_mode": {
    "name": "ipython",
    "version": 3
   },
   "file_extension": ".py",
   "mimetype": "text/x-python",
   "name": "python",
   "nbconvert_exporter": "python",
   "pygments_lexer": "ipython3",
   "version": "3.6.12"
  }
 },
 "nbformat": 4,
 "nbformat_minor": 4
}