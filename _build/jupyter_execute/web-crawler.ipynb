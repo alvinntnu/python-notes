{
 "cells": [
  {
   "cell_type": "markdown",
   "metadata": {},
   "source": [
    "# Web Crawler"
   ]
  },
  {
   "cell_type": "code",
   "execution_count": 1,
   "metadata": {},
   "outputs": [],
   "source": [
    "import requests\n",
    "from bs4 import BeautifulSoup as soup  # HTML data structure\n",
    "\n",
    "# extract article hyperlinks from an index page\n",
    "def extractArtLinks(url):\n",
    "    r = requests.get(url, cookies={'over18':'1'})\n",
    "    page_soup = soup(r.text, \"html.parser\")\n",
    "    containers = page_soup.findAll(\"div\", {\"class\": \"r-ent\"})\n",
    "    art_links = []\n",
    "    for container in containers:\n",
    "        # Finds all link tags \"a\" from within the first div.\n",
    "        art_link = container.find('a')\n",
    "        if art_link:\n",
    "            #print(art_link['href'])\n",
    "            #print(container.find('div',{'class':'title'}).get_text())\n",
    "            art_meta = container.find('div',{'class':'meta'})\n",
    "            #print(art_meta.find('div',{'class':'author'}).get_text())\n",
    "            #print(art_meta.find('div',{'class':'date'}).get_text())\n",
    "\n",
    "            art_links.append({\n",
    "                'push': container.find('div',{'class':'nrec'}).get_text(),\n",
    "                'title': container.find('div',{'class':'title'}).get_text().strip(),\n",
    "                'date': art_meta.find('div',{'class':'date'}).get_text(),\n",
    "                'author': art_meta.find('div',{'class':'author'}).get_text(),\n",
    "                'link': art_link['href'],\n",
    "                'text': extractArtText('https://www.ptt.cc' + art_link['href'])\n",
    "            })\n",
    "\n",
    "    return(art_links)\n",
    "\n",
    "# find the previous index page link\n",
    "def findPrevIndex(url):\n",
    "    r = requests.get(url, cookies={'over18':'1'})\n",
    "    page_soup = soup(r.text,\"html.parser\")\n",
    "    btn = page_soup.select('div.btn-group > a')\n",
    "    up_page_href = btn[3]['href']\n",
    "    next_page_url = 'https://www.ptt.cc' + up_page_href\n",
    "    return(next_page_url)\n",
    "\n",
    "# extract article contents from  the article hyperlink\n",
    "def extractArtText(url):\n",
    "    r = requests.get(url, cookies={'over18':'1'})\n",
    "    page_soup = soup(r.text, \"lxml\")\n",
    "    #print(page_soup.find(\"div\",{\"id\":\"main-content\"}).get_text())\n",
    "    art_text=page_soup.select('div#main-content', limit=1)[0].text\n",
    "    return(art_text)"
   ]
  },
  {
   "cell_type": "code",
   "execution_count": 2,
   "metadata": {},
   "outputs": [
    {
     "data": {
      "text/plain": [
       "19"
      ]
     },
     "execution_count": 2,
     "metadata": {},
     "output_type": "execute_result"
    }
   ],
   "source": [
    "# main()\n",
    "num_of_index_page = 2\n",
    "board_name = 'Food'\n",
    "url = 'https://www.ptt.cc/bbs/{}/index.html'.format(board_name)\n",
    "all_links =[]\n",
    "for page in range(1,num_of_index_page):\n",
    "    all_links = all_links + extractArtLinks(url)\n",
    "    url = findPrevIndex(url)\n",
    "len(all_links)"
   ]
  },
  {
   "cell_type": "code",
   "execution_count": 3,
   "metadata": {},
   "outputs": [
    {
     "name": "stdout",
     "output_type": "stream",
     "text": [
      "{'push': '1', 'title': '[食記] 新店Oli 不用跑台北就有的浪漫餐酒館', 'date': '10/02', 'author': 'aner', 'link': '/bbs/Food/M.1601622171.A.16A.html', 'text': '作者aner ()看板Food標題[食記] 新店Oli 不用跑台北就有的浪漫餐酒館時間Fri Oct  2 15:02:48 2020\\n無音樂圖文網誌版 https://wanwanr9.pixnet.net/blog/post/353015117\\n==\\n   餐廳名稱：Oli\\n   消費時間：2020年/9月\\n   地址：新北市新店區中興路三段220巷2號1 樓\\n   電話： 02 2910 5887\\n==\\n\\nOh my God  本身住新店那麼久\\n\\n居然最近是第一次聽到別人跟我介紹一家在大坪林附近的好餐廳\\n\\n而且還不是新店人跟我推荐的！\\n\\n常聽到有人在新店粉絲團問  新店那裡可以小酌一杯(不是熱炒店那種)\\n\\n再加上新店在地  真的是比較多的家庭餐廳或日常小吃店\\n\\n要找比較有點氣氛  適合約會或安靜談事情的餐廳  真旳是比較少一點\\n\\n尤其在新店市區\\n\\n\\n這間Oli真的太低調隱密了  低調到在地人都不知道會不會太誇張\\n\\nOli在中興路三段的小巷子裡  外觀還是一個公寓老房子改造的\\n\\n我是新店在地人都找了一下  門口也很低調  走過路過真的很容易錯過\\n\\n不過一進去真的是別有洞天阿 沒想到有這麼有氣氛的地方\\n\\nOli西班牙餐酒館  主打西班牙料理  也適合喝一杯  氣氛都蠻清輕的\\n\\n[花生醬乳酪松露薯條180元]  花生醬+乳酪+松露  這三個加起來感覺就是必點啊\\n\\n本來以為花生醬是會淋在薯條上  結果是沾醬裡有花生醬\\n\\n保有薯條還是酥酥脆脆充滿松露味  很特別也很好吃\\n\\n[西班牙烘蛋180元]  本來以為西班牙餐廳的前菜都會像tapas這樣一小碟份量很小\\n\\n但Oli的份量並不小耶  很蠻有誠意的  光看這烘蛋就非常紥實\\n\\n蛋香味噴發啊\\n\\n切開來可以看到非常厚阿\\n\\n還有一點點的蛋液\\n\\n上面還有松露醬  也好香  裡面還有馬羚薯塊\\n\\n\\n[伊比利豬老饕上蓋肉 8oz 1280元]  主餐選了伊比利豬\\n\\n處理的熟度適中   甚至還有吃牛排的錯覺耶\\n\\n非常的juicy  配上一點胡蘿蔔燉醬  非常特別\\n\\n份量也很大  非常有飽足感\\n\\n/tmp/phpyFdYrz\\n\\n[南瓜燉飯480元]  另一份主餐選了燉飯\\n\\n果然很有西班牙味  保有燉飯的米心\\n\\n而且不得不說  南瓜燉飯燉的太綿密了\\n\\n南瓜超香的  還有沙沙的口感\\n\\n很一顆米都充滿香味   一定要試試\\n\\n[白蘭地冷壓初榨橄欖油泡大蒜蝦 240元]  其實已經好飯了\\n\\n再點了一份聽說是招牌菜的大蒜蝦 一上菜大蒜的味道好香\\n\\n蝦子也是脫殼處理好的\\n\\n泡在橄欖油裡   也附上麵包可以沾橄欖油吃\\n\\n點上一支清涼的白酒  甜甜的很好喝\\n\\n有一般的沙發椅   也有吧台的座位\\n\\n真的是老房子改建\\n\\n看看這個磨石子地\\n\\n讓我想到小時候的家\\n\\n夏天太熱我都會直接躺在地板上哈哈\\n\\n附上菜單  給大家參考\\n\\nOli的菜單種類不算多  就一頁\\n\\n但會固定換菜單\\n\\n不會每次來都吃到一樣的菜\\n\\n酒單的選擇比菜單還多呢.....\\n\\n第一次來Oli  覺得很驚豔\\n\\n真的沒想到新店有像這樣的餐廳\\n\\n而且居然已開了2-3年了\\n\\n\\n\\n而且生意好像也蠻好的\\n\\n平日晚間去用餐  後來座位也大概有坐到8-9成滿\\n\\n價位跟台北市的餐酒館比雖然沒有比較便宜\\n\\n但我覺得份量上比較有誠意\\n\\n感覺想要去放鬆小酌  不用跑到台北市\\n\\n推荐給大家喔\\n\\n\\n\\n\\n\\n 走過路過 也請來萬的粉絲團按個讚 交個朋友吧\\n\\n--\\n來加入「美食是努力工作的附產品」FB粉絲團\\n美食資訊即時通\\nhttp://www.facebook.com/tallwanwan\\n\\n\\n--\\n※ 發信站: 批踢踢實業坊(ptt.cc), 來自: 49.219.152.224 (臺灣)\\n※ 文章網址: https://www.ptt.cc/bbs/Food/M.1601622171.A.16A.html\\n※ aner:轉錄至看板 HsinTien                                        10/02 15:04\\n→ laiteng0105: 這家很棒 10/02 16:48\\n推 Parker08: 味道算還不錯，但這價位可以在北市吃更好的 10/02 17:26\\n'}\n"
     ]
    }
   ],
   "source": [
    "type(all_links[2])\n",
    "print(all_links[2])"
   ]
  },
  {
   "cell_type": "code",
   "execution_count": 4,
   "metadata": {},
   "outputs": [
    {
     "name": "stdout",
     "output_type": "stream",
     "text": [
      "Push: 1 \n",
      "title: [食記] 新店Oli 不用跑台北就有的浪漫餐酒館 \n",
      "date: 10/02 \n",
      "author: aner \n",
      "link: /bbs/Food/M.1601622171.A.16A.html \n",
      "text: 作者ane \n",
      "\n"
     ]
    }
   ],
   "source": [
    "print('Push: {push:s} \\n'\n",
    "      'title: {title:s} \\n'\n",
    "      'date: {date:s} \\n'\n",
    "      'author: {author:s} \\n'\n",
    "      'link: {link:s} \\n'\n",
    "      'text: {text:.5} \\n'.format(**all_links[2]))"
   ]
  },
  {
   "cell_type": "code",
   "execution_count": null,
   "metadata": {},
   "outputs": [],
   "source": []
  },
  {
   "cell_type": "markdown",
   "metadata": {},
   "source": [
    ":::{admonition} Exercise\n",
    "How to seperate post texts from push texts?\n",
    ":::\n"
   ]
  }
 ],
 "metadata": {
  "kernelspec": {
   "display_name": "ckiptagger",
   "language": "python",
   "name": "ckiptagger"
  },
  "language_info": {
   "codemirror_mode": {
    "name": "ipython",
    "version": 3
   },
   "file_extension": ".py",
   "mimetype": "text/x-python",
   "name": "python",
   "nbconvert_exporter": "python",
   "pygments_lexer": "ipython3",
   "version": "3.6.12"
  }
 },
 "nbformat": 4,
 "nbformat_minor": 4
}