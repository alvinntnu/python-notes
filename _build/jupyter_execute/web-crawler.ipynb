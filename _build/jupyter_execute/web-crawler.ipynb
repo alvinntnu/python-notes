{
 "cells": [
  {
   "cell_type": "markdown",
   "metadata": {},
   "source": [
    "# Web Crawler"
   ]
  },
  {
   "cell_type": "code",
   "execution_count": 1,
   "metadata": {},
   "outputs": [],
   "source": [
    "import requests\n",
    "from bs4 import BeautifulSoup as soup  # HTML data structure\n",
    "\n",
    "# extract article hyperlinks from an index page\n",
    "def extractArtLinks(url):\n",
    "    r = requests.get(url, cookies={'over18':'1'})\n",
    "    page_soup = soup(r.text, \"html.parser\")\n",
    "    containers = page_soup.findAll(\"div\", {\"class\": \"r-ent\"})\n",
    "    art_links = []\n",
    "    for container in containers:\n",
    "        # Finds all link tags \"a\" from within the first div.\n",
    "        art_link = container.find('a')\n",
    "        if art_link:\n",
    "            #print(art_link['href'])\n",
    "            #print(container.find('div',{'class':'title'}).get_text())\n",
    "            art_meta = container.find('div',{'class':'meta'})\n",
    "            #print(art_meta.find('div',{'class':'author'}).get_text())\n",
    "            #print(art_meta.find('div',{'class':'date'}).get_text())\n",
    "\n",
    "            art_links.append({\n",
    "                'push': container.find('div',{'class':'nrec'}).get_text(),\n",
    "                'title': container.find('div',{'class':'title'}).get_text().strip(),\n",
    "                'date': art_meta.find('div',{'class':'date'}).get_text(),\n",
    "                'author': art_meta.find('div',{'class':'author'}).get_text(),\n",
    "                'link': art_link['href'],\n",
    "                'text': extractArtText('https://www.ptt.cc' + art_link['href'])\n",
    "            })\n",
    "\n",
    "    return(art_links)\n",
    "\n",
    "# find the previous index page link\n",
    "def findPrevIndex(url):\n",
    "    r = requests.get(url, cookies={'over18':'1'})\n",
    "    page_soup = soup(r.text,\"html.parser\")\n",
    "    btn = page_soup.select('div.btn-group > a')\n",
    "    up_page_href = btn[3]['href']\n",
    "    next_page_url = 'https://www.ptt.cc' + up_page_href\n",
    "    return(next_page_url)\n",
    "\n",
    "# extract article contents from  the article hyperlink\n",
    "def extractArtText(url):\n",
    "    r = requests.get(url, cookies={'over18':'1'})\n",
    "    page_soup = soup(r.text, \"lxml\")\n",
    "    #print(page_soup.find(\"div\",{\"id\":\"main-content\"}).get_text())\n",
    "    art_text=page_soup.select('div#main-content', limit=1)[0].text\n",
    "    return(art_text)"
   ]
  },
  {
   "cell_type": "code",
   "execution_count": 2,
   "metadata": {},
   "outputs": [
    {
     "data": {
      "text/plain": [
       "21"
      ]
     },
     "execution_count": 2,
     "metadata": {},
     "output_type": "execute_result"
    }
   ],
   "source": [
    "# main()\n",
    "num_of_index_page = 2\n",
    "board_name = 'Food'\n",
    "url = 'https://www.ptt.cc/bbs/{}/index.html'.format(board_name)\n",
    "all_links =[]\n",
    "for page in range(1,num_of_index_page):\n",
    "    all_links = all_links + extractArtLinks(url)\n",
    "    url = findPrevIndex(url)\n",
    "len(all_links)"
   ]
  },
  {
   "cell_type": "code",
   "execution_count": 3,
   "metadata": {},
   "outputs": [
    {
     "name": "stdout",
     "output_type": "stream",
     "text": [
      "{'push': '', 'title': '[食記] 屏東琉球—小琉球脆皮蛋餅｜咔滋作響脆口蛋餅', 'date': '10/05', 'author': 'shinyban', 'link': '/bbs/Food/M.1601877418.A.D46.html', 'text': '作者shinyban (甩尼班)看板Food標題[食記] 屏東琉球—小琉球脆皮蛋餅｜咔滋作響脆口蛋餅時間Mon Oct  5 13:56:49 2020\\n   餐廳名稱：小琉球脆皮蛋餅\\n   消費時間：2020/9\\n   地址：屏東縣琉球鄉中正路186號\\n   電話：0981-621-756\\n   營業時間：週一至週五06:00-10:30；週六週日05:30-10:30\\n   每人平均價位：100\\n   可否刷卡：否\\n   有無包廂：無\\n\\n[*BLOG：https://shinyban.pixnet.net/blog/post/531454885 ]\\n\\n\\n小琉球是臺灣唯一的珊瑚島，天然奇景甚美、海底生態資源豐富，是著名的旅遊、潛水景\\n點。\\n\\n由於今年疫情影響無法出國，所以目標鎖定探索台灣之美，除了宜蘭、高雄、花蓮之外，\\n也首次踏上了小琉球這塊美麗的島嶼。\\n\\n從屏東東港搭船約三十分鐘即可抵達，環島一圈僅二十公里不到，騎機車不用一小時即可\\n跑透透，而與海龜同遊也是一大亮點，當然也是這次的重頭戲。\\n\\n除了玩樂之外，吃的部分也不能馬虎，由於小琉球面積不大，餐廳店家還算好選擇，不過\\n旅遊旺季每間幾乎都是人潮滿滿，包含早餐店也是。\\n\\n--\\n\\n\\n「小琉球脆皮蛋餅」位於小琉球中間位置，不論住哪到這都是挺方便的。\\n\\n室內室外皆有座位，但因為人潮太多就沒有多加拍攝，而店員則是不停的翻動平底鍋，才\\n能應付絡繹不絕的訂單。\\n\\n不過或許是因為客人多，所以店家服務態度不算是挺好，甚至有點不耐煩，上桌速度不快\\n且有漏單狀況，建議事先打電話預訂較保險些。\\n\\n--\\n\\n▲奶茶（小） $20\\n\\n▲薯條 $25\\n\\n▲雞塊 $30\\n\\n奶茶跟炸物表現不優，奶茶淡、薯條份量少、雞塊炸得不夠酥脆，來這還是乖乖吃招牌脆\\n皮蛋餅就好。\\n\\n▲脆皮鮪魚蛋餅 $45\\n\\n小琉球早餐店販售的蛋餅多為粉漿蛋餅，但我更偏好脆皮蛋餅多些。\\n\\n「小琉球脆皮蛋餅」蛋餅餅皮較一般來的薄，且使用半煎半炸讓餅皮超級脆口，卻不會過\\n於油膩。\\n\\n裡頭夾的水煮鮪魚份量不少，整體吃下來很有飽足感。\\n\\n▲脆皮起司蛋餅 $45\\n\\n相較於鮪魚蛋餅，我又更喜歡起司蛋餅多些。\\n\\n雖然僅是一般的起司片，但搭超級酥脆的餅皮，以及上頭的胡椒，微鹹帶點奶香是恰到好\\n處的美味。\\n\\n--\\n\\nShinyBan×Life-\\nhttps://shinyban.pixnet.net/blog\\n\\nIG-\\nhttps://www.instagram.com/__shinyban.life__/\\n\\n--\\n※ 發信站: 批踢踢實業坊(ptt.cc), 來自: 123.51.170.192 (臺灣)\\n※ 文章網址: https://www.ptt.cc/bbs/Food/M.1601877418.A.D46.html\\n'}\n"
     ]
    }
   ],
   "source": [
    "type(all_links[2])\n",
    "print(all_links[2])"
   ]
  },
  {
   "cell_type": "code",
   "execution_count": 4,
   "metadata": {},
   "outputs": [
    {
     "name": "stdout",
     "output_type": "stream",
     "text": [
      "Push:  \n",
      "title: [食記] 屏東琉球—小琉球脆皮蛋餅｜咔滋作響脆口蛋餅 \n",
      "date: 10/05 \n",
      "author: shinyban \n",
      "link: /bbs/Food/M.1601877418.A.D46.html \n",
      "text: 作者shi \n",
      "\n"
     ]
    }
   ],
   "source": [
    "print('Push: {push:s} \\n'\n",
    "      'title: {title:s} \\n'\n",
    "      'date: {date:s} \\n'\n",
    "      'author: {author:s} \\n'\n",
    "      'link: {link:s} \\n'\n",
    "      'text: {text:.5} \\n'.format(**all_links[2]))"
   ]
  },
  {
   "cell_type": "code",
   "execution_count": null,
   "metadata": {},
   "outputs": [],
   "source": []
  },
  {
   "cell_type": "markdown",
   "metadata": {},
   "source": [
    ":::{admonition} Exercise\n",
    "How to seperate post texts from push texts?\n",
    ":::\n"
   ]
  }
 ],
 "metadata": {
  "kernelspec": {
   "display_name": "ckiptagger",
   "language": "python",
   "name": "ckiptagger"
  },
  "language_info": {
   "codemirror_mode": {
    "name": "ipython",
    "version": 3
   },
   "file_extension": ".py",
   "mimetype": "text/x-python",
   "name": "python",
   "nbconvert_exporter": "python",
   "pygments_lexer": "ipython3",
   "version": "3.6.12"
  }
 },
 "nbformat": 4,
 "nbformat_minor": 4
}