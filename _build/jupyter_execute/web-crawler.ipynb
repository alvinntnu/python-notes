{
 "cells": [
  {
   "cell_type": "markdown",
   "metadata": {},
   "source": [
    "# Web Crawler"
   ]
  },
  {
   "cell_type": "code",
   "execution_count": 1,
   "metadata": {},
   "outputs": [],
   "source": [
    "import requests\n",
    "from bs4 import BeautifulSoup as soup  # HTML data structure\n",
    "\n",
    "# extract article hyperlinks from an index page\n",
    "def extractArtLinks(url):\n",
    "    r = requests.get(url, cookies={'over18':'1'})\n",
    "    page_soup = soup(r.text, \"html.parser\")\n",
    "    containers = page_soup.findAll(\"div\", {\"class\": \"r-ent\"})\n",
    "    art_links = []\n",
    "    for container in containers:\n",
    "        # Finds all link tags \"a\" from within the first div.\n",
    "        art_link = container.find('a')\n",
    "        if art_link:\n",
    "            #print(art_link['href'])\n",
    "            #print(container.find('div',{'class':'title'}).get_text())\n",
    "            art_meta = container.find('div',{'class':'meta'})\n",
    "            #print(art_meta.find('div',{'class':'author'}).get_text())\n",
    "            #print(art_meta.find('div',{'class':'date'}).get_text())\n",
    "\n",
    "            art_links.append({\n",
    "                'push': container.find('div',{'class':'nrec'}).get_text(),\n",
    "                'title': container.find('div',{'class':'title'}).get_text().strip(),\n",
    "                'date': art_meta.find('div',{'class':'date'}).get_text(),\n",
    "                'author': art_meta.find('div',{'class':'author'}).get_text(),\n",
    "                'link': art_link['href'],\n",
    "                'text': extractArtText('https://www.ptt.cc' + art_link['href'])\n",
    "            })\n",
    "\n",
    "    return(art_links)\n",
    "\n",
    "# find the previous index page link\n",
    "def findPrevIndex(url):\n",
    "    r = requests.get(url, cookies={'over18':'1'})\n",
    "    page_soup = soup(r.text,\"html.parser\")\n",
    "    btn = page_soup.select('div.btn-group > a')\n",
    "    up_page_href = btn[3]['href']\n",
    "    next_page_url = 'https://www.ptt.cc' + up_page_href\n",
    "    return(next_page_url)\n",
    "\n",
    "# extract article contents from  the article hyperlink\n",
    "def extractArtText(url):\n",
    "    r = requests.get(url, cookies={'over18':'1'})\n",
    "    page_soup = soup(r.text, \"lxml\")\n",
    "    #print(page_soup.find(\"div\",{\"id\":\"main-content\"}).get_text())\n",
    "    art_text=page_soup.select('div#main-content', limit=1)[0].text\n",
    "    return(art_text)"
   ]
  },
  {
   "cell_type": "code",
   "execution_count": 2,
   "metadata": {},
   "outputs": [
    {
     "data": {
      "text/plain": [
       "17"
      ]
     },
     "execution_count": 2,
     "metadata": {},
     "output_type": "execute_result"
    }
   ],
   "source": [
    "# main()\n",
    "num_of_index_page = 2\n",
    "board_name = 'Food'\n",
    "url = 'https://www.ptt.cc/bbs/{}/index.html'.format(board_name)\n",
    "all_links =[]\n",
    "for page in range(1,num_of_index_page):\n",
    "    all_links = all_links + extractArtLinks(url)\n",
    "    url = findPrevIndex(url)\n",
    "len(all_links)"
   ]
  },
  {
   "cell_type": "code",
   "execution_count": 3,
   "metadata": {},
   "outputs": [
    {
     "name": "stdout",
     "output_type": "stream",
     "text": [
      "{'push': '', 'title': '[食記] 台北中山 神田橋和食 初訪 - 道地日本味', 'date': '10/09', 'author': 'scissorstone', 'link': '/bbs/Food/M.1602202133.A.FEB.html', 'text': '作者scissorstone (剪刀石頭布)看板Food標題[食記] 台北中山 神田橋和食 初訪 - 道地日本味時間Fri Oct  9 08:08:50 2020\\n   餐廳名稱：神田橋和食\\n   消費時間：2020年/8月\\n   地址：台北市中山區吉林路26巷21號\\n   電話：02 2542 6085\\n   營業時間：17:00–22:00 (星期日公休)\\n   每人平均價位：300-1000\\n   推薦菜色：茄子麻糬煮\\n   圖文連結: https://tinyurl.com/yy3ab7cs\\n\\n--\\n\\n碎碎念:\\n\\n這是間有點年紀的日本料理，最早位於一江街\\n日本老闆堅持提供道地日本味的食物\\n鹹度偏高，搭配米飯或下酒非常合適\\n\\n--\\n\\n菜色介紹:\\n\\n竹筴魚たたき\\n今天的竹筴魚特別肥美\\n為了凸顯魚肉本身的美味\\n選擇厚切，並減少薑蔥的比例\\n\\n\\n海鮮奶油可樂餅\\n對這種外皮酥脆，內心滑嫩的食物\\n沒有抵抗力阿\\n濃郁的白醬跟海鮮的鮮味完美融合在一起\\n\\n\\n茄子麻糬煮\\n一道暖心的料理\\n炸過的麻糬與茄子\\n吸飽沉鹹的柴魚高湯\\n\\n\\n炸豆腐\\n高湯本身跟茄子麻糬的一樣\\n外皮的粉漿一樣有吸附湯汁的功能\\n但口味跟茄子麻糬重複了，建議點一種就好\\n\\n\\n明太子里肌肉串、蔥雞肉串\\n熟度烤得剛好，汁水都有保留住\\n重鹹的調味好想來杯啤酒\\n\\n--\\n\\n總結:\\n\\n跟小島食堂老闆聊到神田橋時\\n他印象最深刻的是店主一絲不苟的料理態度\\n的確，今天呈現出的料理夠水準\\n而且能感受到食物的溫暖\\n\\n--\\nDr. ERIC 的飲食札記：https://www.facebook.com/ericfoodblog\\n\\n--\\n※ 發信站: 批踢踢實業坊(ptt.cc), 來自: 223.136.7.205 (臺灣)\\n※ 文章網址: https://www.ptt.cc/bbs/Food/M.1602202133.A.FEB.html\\n'}\n"
     ]
    }
   ],
   "source": [
    "type(all_links[2])\n",
    "print(all_links[2])"
   ]
  },
  {
   "cell_type": "code",
   "execution_count": 4,
   "metadata": {},
   "outputs": [
    {
     "name": "stdout",
     "output_type": "stream",
     "text": [
      "Push:  \n",
      "title: [食記] 台北中山 神田橋和食 初訪 - 道地日本味 \n",
      "date: 10/09 \n",
      "author: scissorstone \n",
      "link: /bbs/Food/M.1602202133.A.FEB.html \n",
      "text: 作者sci \n",
      "\n"
     ]
    }
   ],
   "source": [
    "print('Push: {push:s} \\n'\n",
    "      'title: {title:s} \\n'\n",
    "      'date: {date:s} \\n'\n",
    "      'author: {author:s} \\n'\n",
    "      'link: {link:s} \\n'\n",
    "      'text: {text:.5} \\n'.format(**all_links[2]))"
   ]
  },
  {
   "cell_type": "code",
   "execution_count": null,
   "metadata": {},
   "outputs": [],
   "source": []
  },
  {
   "cell_type": "markdown",
   "metadata": {},
   "source": [
    ":::{admonition} Exercise\n",
    "How to seperate post texts from push texts?\n",
    ":::\n"
   ]
  }
 ],
 "metadata": {
  "kernelspec": {
   "display_name": "ckiptagger",
   "language": "python",
   "name": "ckiptagger"
  },
  "language_info": {
   "codemirror_mode": {
    "name": "ipython",
    "version": 3
   },
   "file_extension": ".py",
   "mimetype": "text/x-python",
   "name": "python",
   "nbconvert_exporter": "python",
   "pygments_lexer": "ipython3",
   "version": "3.6.12"
  }
 },
 "nbformat": 4,
 "nbformat_minor": 4
}