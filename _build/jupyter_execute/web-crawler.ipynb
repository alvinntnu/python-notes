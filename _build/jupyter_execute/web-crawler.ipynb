{
 "cells": [
  {
   "cell_type": "markdown",
   "metadata": {},
   "source": [
    "# Web Crawler"
   ]
  },
  {
   "cell_type": "code",
   "execution_count": 1,
   "metadata": {},
   "outputs": [],
   "source": [
    "import requests\n",
    "from bs4 import BeautifulSoup as soup  # HTML data structure\n",
    "\n",
    "# extract article hyperlinks from an index page\n",
    "def extractArtLinks(url):\n",
    "    r = requests.get(url, cookies={'over18':'1'})\n",
    "    page_soup = soup(r.text, \"html.parser\")\n",
    "    containers = page_soup.findAll(\"div\", {\"class\": \"r-ent\"})\n",
    "    art_links = []\n",
    "    for container in containers:\n",
    "        # Finds all link tags \"a\" from within the first div.\n",
    "        art_link = container.find('a')\n",
    "        if art_link:\n",
    "            #print(art_link['href'])\n",
    "            #print(container.find('div',{'class':'title'}).get_text())\n",
    "            art_meta = container.find('div',{'class':'meta'})\n",
    "            #print(art_meta.find('div',{'class':'author'}).get_text())\n",
    "            #print(art_meta.find('div',{'class':'date'}).get_text())\n",
    "\n",
    "            art_links.append({\n",
    "                'push': container.find('div',{'class':'nrec'}).get_text(),\n",
    "                'title': container.find('div',{'class':'title'}).get_text().strip(),\n",
    "                'date': art_meta.find('div',{'class':'date'}).get_text(),\n",
    "                'author': art_meta.find('div',{'class':'author'}).get_text(),\n",
    "                'link': art_link['href'],\n",
    "                'text': extractArtText('https://www.ptt.cc' + art_link['href'])\n",
    "            })\n",
    "\n",
    "    return(art_links)\n",
    "\n",
    "# find the previous index page link\n",
    "def findPrevIndex(url):\n",
    "    r = requests.get(url, cookies={'over18':'1'})\n",
    "    page_soup = soup(r.text,\"html.parser\")\n",
    "    btn = page_soup.select('div.btn-group > a')\n",
    "    up_page_href = btn[3]['href']\n",
    "    next_page_url = 'https://www.ptt.cc' + up_page_href\n",
    "    return(next_page_url)\n",
    "\n",
    "# extract article contents from  the article hyperlink\n",
    "def extractArtText(url):\n",
    "    r = requests.get(url, cookies={'over18':'1'})\n",
    "    page_soup = soup(r.text, \"lxml\")\n",
    "    #print(page_soup.find(\"div\",{\"id\":\"main-content\"}).get_text())\n",
    "    art_text=page_soup.select('div#main-content', limit=1)[0].text\n",
    "    return(art_text)"
   ]
  },
  {
   "cell_type": "code",
   "execution_count": 2,
   "metadata": {},
   "outputs": [
    {
     "data": {
      "text/plain": [
       "15"
      ]
     },
     "execution_count": 2,
     "metadata": {},
     "output_type": "execute_result"
    }
   ],
   "source": [
    "# main()\n",
    "num_of_index_page = 2\n",
    "board_name = 'Food'\n",
    "url = 'https://www.ptt.cc/bbs/{}/index.html'.format(board_name)\n",
    "all_links =[]\n",
    "for page in range(1,num_of_index_page):\n",
    "    all_links = all_links + extractArtLinks(url)\n",
    "    url = findPrevIndex(url)\n",
    "len(all_links)"
   ]
  },
  {
   "cell_type": "code",
   "execution_count": 3,
   "metadata": {},
   "outputs": [
    {
     "name": "stdout",
     "output_type": "stream",
     "text": [
      "{'push': '2', 'title': '[廣宣] 台北 Leone Restaurant&Bar~台味地中海', 'date': '10/01', 'author': 'clairegarden', 'link': '/bbs/Food/M.1601558242.A.828.html', 'text': '作者clairegarden (簡單的幸福)看板Food標題[廣宣] 台北 Leone Restaurant&Bar~台味地中海時間Thu Oct  1 21:17:16 2020\\n\\n     店名：Leone Restaurant & Bar\\n\\n     地址：104台北市中山區林森北路353巷20號\\n     電話：02 2581 3109\\n     試吃日期：2020.09\\n\\n網誌圖文版\\nhttps://clairegarden.pixnet.net/blog/post/539689720\\n\\n很難想像在林森北路的巷弄裡\\n\\n竟然藏了一棟這樣藍白異國風的建築物\\n\\n牆上畫著聖托里尼的風景讓人彷彿來到了希臘\\n\\nLeone是希臘文的獅子\\n\\n有別於其他店家的logo店家是半隻獅子的臉\\n\\n反而更讓人映象深刻呢\\n\\n小黑板上的台式地中海讓人好讓人好奇是甚麼樣的料理喔\\n\\n\\n\\n走進店內馬上就注意到一整排的調酒吧\\n\\n感覺店家的調酒非常厲害呢\\n\\n大包廂的座位區\\n\\n還有靠牆的座位區\\n\\n\\n\\n先上桌的迎賓飲料\\n\\n是用非常華麗的樹葉藤蔓裝著的桂花梅子釀\\n\\n喝起來有淡淡桂花香氣和梅子釀的愛玉\\n\\n非常清爽又開胃\\n\\n\\n\\n店家的餐點主要以台灣的各地特色食材為基準\\n\\n再搭配地中海的清爽式料理調味\\n\\n激盪出中西碰撞的料理花火\\n\\n\\n\\n首先上桌的是流沙芝心芋棗球\\n\\n外圍是一層厚厚的大甲芋頭泥\\n\\n鹹蛋黃醬加蛋黃醬輕輕一壓就要爆餡\\n\\n口感外酥內軟外\\n\\n還吃的到小顆芋頭塊喔\\n\\n\\n\\n奶香焦糖海鮮義大利麵\\n\\n義大利麵用高湯燉煮的很軟爛\\n\\n並沒有義大利麵條吃起來偏硬的口感\\n\\n奶香味非常濃郁吃起來讓人一口接著一口\\n\\n裡面有花枝、蝦子、淡菜、蛤蠣\\n\\n淡菜是用烤的吃起來有點香烤風味\\n\\n蝦子和花枝非常Q彈好吃\\n\\n蛤蠣則是鮮美多汁\\n\\n來自基隆的新鮮海產可是個頭各個都不小呢\\n\\n\\n\\n焦糖低溫鴨胸佐蔥油鴨香飯\\n\\n油蔥醬和奶醬為基底上面有蛋黃液和松露醬\\n\\n整個攪拌起來有非常多層次的口感\\n\\n涔涔的蛋黃傾瀉而下好誘人\\n\\n\\n剝皮辣椒水牛城辣小腿\\n\\n這道真是讓我又愛又恨的料理啊\\n\\n烤得金黃的雞腿光看就讓人流口水\\n\\n不過醃過剝皮辣椒的雞肉可是非常辣啊\\n\\n吃到這道就好想來杯啤酒喔\\n\\n於是這時候趕緊跟服務生要來酒單XD\\n\\n\\n\\n草原豆乳瀑布雞\\n\\n類似甕窯雞的做法\\n\\n雞肉吃起很嫩外單吃就很有味道\\n\\n\\n\\n(未滿十八歲請勿飲酒)\\n\\n噓!女孩請閉眼\\n\\n送上來的是一個插著乾燥花的酒瓶\\n\\n整個就是我的菜\\n\\n喝起來像是巧克力牛奶的感覺\\n\\n我想如果換成草莓牛奶會更有女孩味啊\\n\\n\\n\\n記憶是陣陣花香\\n\\n清酒為基底有洛神花薰衣草和玫瑰\\n\\n用著美麗的雕花盒子裝飾\\n\\n也是走很浮誇系列的酒啊\\n\\n\\n創世紀第九章\\n\\n搭配的是超像一幅畫的底板\\n\\n用貝殼裝乘的酒有漸層\\n\\n玫瑰花辨、茉莉花泡沫\\n\\n紅酒搭配胭脂莓果茶喝起來跟果汁一樣\\n\\n完全沒有酒味\\n\\n\\n\\n打卡抽紅心可得到特調一杯\\n\\n他家的酒喝起來沒有甚麼酒味我還挺愛的\\n\\n今天手氣不賴抽到了特調一杯\\n\\n特調喝起來有點柑橘味道\\n\\n\\n\\n一喝喝上癮又加點了一杯啤酒\\n\\n他家的啤酒真的是超級好喝的\\n\\n來自阿爾卑斯山的白啤酒花\\n\\n喝起來完全沒有啤酒的苦澀味\\n\\n連我這平常不愛喝啤酒的人都覺得很好喝呢\\n\\n\\n\\n店家還有提供壽星禮\\n\\n會有精緻小點心喔\\n\\n\\n\\n和一般小酒吧不同是店內也有提供蛋糕呢\\n\\n蛋糕吃起來清爽不甜膩\\n\\n\\n店家台式地中海料理讓我們很驚豔外\\n\\n美麗的調酒還有意外好喝的啤酒更是讓我們喜歡\\n\\n不管是兩個人的小酌或者是多人的聚會很推薦這裡喔\\n\\n(喝酒不開車，開車不喝酒)\\n\\n\\n\\n美食指數*****\\n\\n氣氛指數****\\n\\ncp值指數****\\n\\n再訪指數****\\n\\n\\n\\n--\\n跟我一起吃美食。玩世界\\nhttps://www.facebook.com/pages/Clairegarden/557535050984502\\nhttps://www.instagram.com/clairegardenlove/\\n\\n--\\n※ 發信站: 批踢踢實業坊(ptt.cc), 來自: 123.192.223.177 (臺灣)\\n※ 文章網址: https://www.ptt.cc/bbs/Food/M.1601558242.A.828.html\\n※ clairegarden:轉錄至看板 Zhongshan                               10/01 21:25\\n→ girl5627: 「義大利麵用高湯燉煮的很軟爛」……義大利人會生氣 10/01 22:05\\n推 pz5202: 他標題已經寫了「台味」地中海了 10/01 22:49\\n→ pz5202: 這應該是走「台式義大利麵」風格的店！ 10/01 22:49\\n推 ghostl40809: 掛著聖托里尼名字的FRIDAY餐廳嗎......... 10/02 01:32\\n'}\n"
     ]
    }
   ],
   "source": [
    "type(all_links[2])\n",
    "print(all_links[2])"
   ]
  },
  {
   "cell_type": "code",
   "execution_count": 4,
   "metadata": {},
   "outputs": [
    {
     "name": "stdout",
     "output_type": "stream",
     "text": [
      "Push: 2 \n",
      "title: [廣宣] 台北 Leone Restaurant&Bar~台味地中海 \n",
      "date: 10/01 \n",
      "author: clairegarden \n",
      "link: /bbs/Food/M.1601558242.A.828.html \n",
      "text: 作者cla \n",
      "\n"
     ]
    }
   ],
   "source": [
    "print('Push: {push:s} \\n'\n",
    "      'title: {title:s} \\n'\n",
    "      'date: {date:s} \\n'\n",
    "      'author: {author:s} \\n'\n",
    "      'link: {link:s} \\n'\n",
    "      'text: {text:.5} \\n'.format(**all_links[2]))"
   ]
  },
  {
   "cell_type": "code",
   "execution_count": null,
   "metadata": {},
   "outputs": [],
   "source": []
  },
  {
   "cell_type": "markdown",
   "metadata": {},
   "source": [
    ":::{admonition} Exercise\n",
    "How to seperate post texts from push texts?\n",
    ":::\n"
   ]
  }
 ],
 "metadata": {
  "kernelspec": {
   "display_name": "ckiptagger",
   "language": "python",
   "name": "ckiptagger"
  },
  "language_info": {
   "codemirror_mode": {
    "name": "ipython",
    "version": 3
   },
   "file_extension": ".py",
   "mimetype": "text/x-python",
   "name": "python",
   "nbconvert_exporter": "python",
   "pygments_lexer": "ipython3",
   "version": "3.6.12"
  }
 },
 "nbformat": 4,
 "nbformat_minor": 4
}