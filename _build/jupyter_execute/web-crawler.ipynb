{
 "cells": [
  {
   "cell_type": "markdown",
   "metadata": {},
   "source": [
    "# Web Crawler"
   ]
  },
  {
   "cell_type": "code",
   "execution_count": 1,
   "metadata": {},
   "outputs": [],
   "source": [
    "import requests\n",
    "from bs4 import BeautifulSoup as soup  # HTML data structure\n",
    "\n",
    "# extract article hyperlinks from an index page\n",
    "def extractArtLinks(url):\n",
    "    r = requests.get(url, cookies={'over18':'1'})\n",
    "    page_soup = soup(r.text, \"html.parser\")\n",
    "    containers = page_soup.findAll(\"div\", {\"class\": \"r-ent\"})\n",
    "    art_links = []\n",
    "    for container in containers:\n",
    "        # Finds all link tags \"a\" from within the first div.\n",
    "        art_link = container.find('a')\n",
    "        if art_link:\n",
    "            #print(art_link['href'])\n",
    "            #print(container.find('div',{'class':'title'}).get_text())\n",
    "            art_meta = container.find('div',{'class':'meta'})\n",
    "            #print(art_meta.find('div',{'class':'author'}).get_text())\n",
    "            #print(art_meta.find('div',{'class':'date'}).get_text())\n",
    "\n",
    "            art_links.append({\n",
    "                'push': container.find('div',{'class':'nrec'}).get_text(),\n",
    "                'title': container.find('div',{'class':'title'}).get_text().strip(),\n",
    "                'date': art_meta.find('div',{'class':'date'}).get_text(),\n",
    "                'author': art_meta.find('div',{'class':'author'}).get_text(),\n",
    "                'link': art_link['href'],\n",
    "                'text': extractArtText('https://www.ptt.cc' + art_link['href'])\n",
    "            })\n",
    "\n",
    "    return(art_links)\n",
    "\n",
    "# find the previous index page link\n",
    "def findPrevIndex(url):\n",
    "    r = requests.get(url, cookies={'over18':'1'})\n",
    "    page_soup = soup(r.text,\"html.parser\")\n",
    "    btn = page_soup.select('div.btn-group > a')\n",
    "    up_page_href = btn[3]['href']\n",
    "    next_page_url = 'https://www.ptt.cc' + up_page_href\n",
    "    return(next_page_url)\n",
    "\n",
    "# extract article contents from  the article hyperlink\n",
    "def extractArtText(url):\n",
    "    r = requests.get(url, cookies={'over18':'1'})\n",
    "    page_soup = soup(r.text, \"lxml\")\n",
    "    #print(page_soup.find(\"div\",{\"id\":\"main-content\"}).get_text())\n",
    "    art_text=page_soup.select('div#main-content', limit=1)[0].text\n",
    "    return(art_text)"
   ]
  },
  {
   "cell_type": "code",
   "execution_count": 2,
   "metadata": {},
   "outputs": [
    {
     "data": {
      "text/plain": [
       "22"
      ]
     },
     "execution_count": 2,
     "metadata": {},
     "output_type": "execute_result"
    }
   ],
   "source": [
    "# main()\n",
    "num_of_index_page = 2\n",
    "board_name = 'Food'\n",
    "url = 'https://www.ptt.cc/bbs/{}/index.html'.format(board_name)\n",
    "all_links =[]\n",
    "for page in range(1,num_of_index_page):\n",
    "    all_links = all_links + extractArtLinks(url)\n",
    "    url = findPrevIndex(url)\n",
    "len(all_links)"
   ]
  },
  {
   "cell_type": "code",
   "execution_count": 3,
   "metadata": {},
   "outputs": [
    {
     "name": "stdout",
     "output_type": "stream",
     "text": [
      "{'push': '', 'title': '[食記] 高雄 老周冷熱飲- 60年老店/20元好吃麻糬', 'date': ' 9/24', 'author': 'vhygdih', 'link': '/bbs/Food/M.1600949101.A.5F2.html', 'text': '作者vhygdih (ATJ)看板Food標題[食記] 高雄 老周冷熱飲- 60年老店/20元好吃麻糬時間Thu Sep 24 20:04:58 2020\\n   餐廳名稱：老周冷熱飲\\n   消費時間：2020年/08月\\n   地址：高雄市三民區三民街126號\\n   電話：07 281 6780\\n   營業時間：09:30–00:00\\n   每人平均價位：$20-50\\n   可否刷卡：否\\n   有無包廂：無\\n   推薦菜色：\\n\\n\\n\\n完整圖文介紹:\\nhttps://vhygdih0412.pixnet.net/blog/post/352934567\\n\\n\\n\\n這家位於位於三民市場的八寶冰\\n已經是60年的老店~\\n在朋友推薦之下過來吃麻糬,\\n沒有聽錯就是麻糬XD\\n趕快來看看為什麼, 八寶冰會想推麻糬吧\\n\\n\\n\\n這附近很多停車位\\n至少晚上不會太難停,\\n畢竟沒有捷運站, 自己來會比較方便\\n晚餐過後是吃冰熱門時間\\n還蠻多人過來外帶~\\n內用外帶排隊都是直接點餐付錢\\n\\n\\n\\n夏天招牌是八寶冰\\n另外也會提供湯的選擇,\\n不過夏天不會準備好,\\n有人點才會做需要等~\\n提供室內的空間可以內用\\n位置還蠻多的~\\n\\n\\n\\n燒麻糬芝麻, 花生 $40/2顆\\n\\n先介紹老周最多人吃的麻糬燒\\n有花生跟芝麻口味\\n建議兩個都要點,\\n一口花生一口芝麻配著吃\\n\\n\\n這邊麻糬口感是軟綿帶著Q\\n完全不會黏牙, 本身就非常香\\n個人還蠻喜歡這口感,\\n有點溫度的麻糬還是比較好吃\\n兩顆份量還蠻多,p果有吃別的東西\\n推薦可以兩個人分兩顆\\n\\n\\n\\n八寶冰 $50\\n\\n據說已經有漲價\\n現在是50元一碗,\\n相比流行的水果冰, 韓式冰品\\n這個價錢還是很便宜\\n而且是古早味還懷念的味道\\n\\n\\n\\n八寶冰配料有紅豆, 小湯圓, 地瓜, 鳳梨\\n芋頭, 愛玉, 珍珠,等等, 都是現煮現熬\\n我個人就還蠻喜歡鳳梨跟地瓜的搭配\\n帶有天然的甜度非常消暑\\n\\n\\n\\n圓仔湯 $50\\n\\n這份感覺冬天會賣很好的圓仔湯,\\n吃起來QQ的, 跟麻糬一樣\\n如果喝飲料喜歡粉角或者是小芋圓,\\n一定會很喜歡\\n我喜歡這口感更勝一般湯圓\\n紅豆也很綿密不過甜~\\n\\n\\n在老周第一次吃到他們的麻糬真的讓我很懷念\\n雖然離家算有一段距離,\\n還是會讓人想要特別跑一趟~\\n重點是價錢不貴20顆, 還很大顆\\n如果兩個口味要選的話我會比較推花生\\n喜歡麻糬燒的朋友不要錯過囉~\\n\\n--\\n※ 發信站: 批踢踢實業坊(ptt.cc), 來自: 122.121.179.231 (臺灣)\\n※ 文章網址: https://www.ptt.cc/bbs/Food/M.1600949101.A.5F2.html\\n※ vhygdih:轉錄至看板 Kaohsiung                                    09/24 20:20\\n'}\n"
     ]
    }
   ],
   "source": [
    "type(all_links[2])\n",
    "print(all_links[2])"
   ]
  },
  {
   "cell_type": "code",
   "execution_count": 4,
   "metadata": {},
   "outputs": [
    {
     "name": "stdout",
     "output_type": "stream",
     "text": [
      "Push:  \n",
      "title: [食記] 高雄 老周冷熱飲- 60年老店/20元好吃麻糬 \n",
      "date:  9/24 \n",
      "author: vhygdih \n",
      "link: /bbs/Food/M.1600949101.A.5F2.html \n",
      "text: 作者vhy \n",
      "\n"
     ]
    }
   ],
   "source": [
    "print('Push: {push:s} \\n'\n",
    "      'title: {title:s} \\n'\n",
    "      'date: {date:s} \\n'\n",
    "      'author: {author:s} \\n'\n",
    "      'link: {link:s} \\n'\n",
    "      'text: {text:.5} \\n'.format(**all_links[2]))"
   ]
  },
  {
   "cell_type": "code",
   "execution_count": null,
   "metadata": {},
   "outputs": [],
   "source": []
  },
  {
   "cell_type": "markdown",
   "metadata": {},
   "source": [
    ":::{admonition} Exercise\n",
    "How to seperate post texts from push texts?\n",
    ":::\n"
   ]
  }
 ],
 "metadata": {
  "kernelspec": {
   "display_name": "ckiptagger",
   "language": "python",
   "name": "ckiptagger"
  },
  "language_info": {
   "codemirror_mode": {
    "name": "ipython",
    "version": 3
   },
   "file_extension": ".py",
   "mimetype": "text/x-python",
   "name": "python",
   "nbconvert_exporter": "python",
   "pygments_lexer": "ipython3",
   "version": "3.6.12"
  }
 },
 "nbformat": 4,
 "nbformat_minor": 4
}