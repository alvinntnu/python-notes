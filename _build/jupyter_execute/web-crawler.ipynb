{
 "cells": [
  {
   "cell_type": "markdown",
   "metadata": {},
   "source": [
    "# Web Crawler"
   ]
  },
  {
   "cell_type": "code",
   "execution_count": 1,
   "metadata": {},
   "outputs": [],
   "source": [
    "import requests\n",
    "from bs4 import BeautifulSoup as soup  # HTML data structure\n",
    "\n",
    "# extract article hyperlinks from an index page\n",
    "def extractArtLinks(url):\n",
    "    r = requests.get(url, cookies={'over18':'1'})\n",
    "    page_soup = soup(r.text, \"html.parser\")\n",
    "    containers = page_soup.findAll(\"div\", {\"class\": \"r-ent\"})\n",
    "    art_links = []\n",
    "    for container in containers:\n",
    "        # Finds all link tags \"a\" from within the first div.\n",
    "        art_link = container.find('a')\n",
    "        if art_link:\n",
    "            #print(art_link['href'])\n",
    "            #print(container.find('div',{'class':'title'}).get_text())\n",
    "            art_meta = container.find('div',{'class':'meta'})\n",
    "            #print(art_meta.find('div',{'class':'author'}).get_text())\n",
    "            #print(art_meta.find('div',{'class':'date'}).get_text())\n",
    "\n",
    "            art_links.append({\n",
    "                'push': container.find('div',{'class':'nrec'}).get_text(),\n",
    "                'title': container.find('div',{'class':'title'}).get_text().strip(),\n",
    "                'date': art_meta.find('div',{'class':'date'}).get_text(),\n",
    "                'author': art_meta.find('div',{'class':'author'}).get_text(),\n",
    "                'link': art_link['href'],\n",
    "                'text': extractArtText('https://www.ptt.cc' + art_link['href'])\n",
    "            })\n",
    "\n",
    "    return(art_links)\n",
    "\n",
    "# find the previous index page link\n",
    "def findPrevIndex(url):\n",
    "    r = requests.get(url, cookies={'over18':'1'})\n",
    "    page_soup = soup(r.text,\"html.parser\")\n",
    "    btn = page_soup.select('div.btn-group > a')\n",
    "    up_page_href = btn[3]['href']\n",
    "    next_page_url = 'https://www.ptt.cc' + up_page_href\n",
    "    return(next_page_url)\n",
    "\n",
    "# extract article contents from  the article hyperlink\n",
    "def extractArtText(url):\n",
    "    r = requests.get(url, cookies={'over18':'1'})\n",
    "    page_soup = soup(r.text, \"lxml\")\n",
    "    #print(page_soup.find(\"div\",{\"id\":\"main-content\"}).get_text())\n",
    "    art_text=page_soup.select('div#main-content', limit=1)[0].text\n",
    "    return(art_text)"
   ]
  },
  {
   "cell_type": "code",
   "execution_count": 2,
   "metadata": {},
   "outputs": [
    {
     "data": {
      "text/plain": [
       "24"
      ]
     },
     "execution_count": 2,
     "metadata": {},
     "output_type": "execute_result"
    }
   ],
   "source": [
    "# main()\n",
    "num_of_index_page = 2\n",
    "board_name = 'Food'\n",
    "url = 'https://www.ptt.cc/bbs/{}/index.html'.format(board_name)\n",
    "all_links =[]\n",
    "for page in range(1,num_of_index_page):\n",
    "    all_links = all_links + extractArtLinks(url)\n",
    "    url = findPrevIndex(url)\n",
    "len(all_links)"
   ]
  },
  {
   "cell_type": "code",
   "execution_count": 3,
   "metadata": {},
   "outputs": [
    {
     "name": "stdout",
     "output_type": "stream",
     "text": [
      "{'push': '1', 'title': '[廣宣] 台中西屯 越好吃越南料理黎明店', 'date': ' 9/25', 'author': 'matchstick', 'link': '/bbs/Food/M.1601003051.A.E08.html', 'text': '作者matchstick (ccc)看板Food標題[廣宣] 台中西屯 越好吃越南料理黎明店時間Fri Sep 25 11:04:09 2020\\n\\n     店名：越好吃越南料理 黎明店\\n\\n     地址：台中市西屯區黎明路二段898號B室\\n     電話：(04)2259-1186\\n     試吃日期：2020/9\\n\\n     食記：https://mercury0314.pixnet.net/blog/post/523900357\\n\\n\\n大里超人氣平價越南料理\\n越好吃插旗台中西屯七期！\\n專賣越式手作餐盒，\\n必吃爆料大份量越南法國麵包，\\n七期商辦大樓附近美食，\\n配合Ubereats、foodpanda外送。\\n\\n\\n越好吃越南料理黎明店\\n位於西屯區黎明路二段，\\n鄰近市政七期商辦、百貨公司，\\n網友喻為「越式網美店」的越好吃，\\n二代店延續清新風格，\\n讓越南小吃也能很文青。\\n\\n\\n\\n木質調的門面裝潢，\\n有著木頭暖暖的溫度，\\n前方放有兩張長椅，\\n餐點以外帶和外送為主，\\n沒有提供內用座位～\\n\\n\\n\\n雖然空間不大，\\n但佈置溫馨有特色，\\n彩色菜單設計得像本美食雜誌，\\n附上照片可供點餐參考。\\n\\n\\n越好吃越南料理黎明店菜單\\n越式米線、越南法國麵包、\\n炸物小品、涼拌小食、\\n越式飲品、氣泡飲和套餐，\\n可勾選去除不愛吃的配料，\\n店員也會口頭詢問是否吃香菜。\\n\\n\\n\\n網美風外帶越南美食，\\n顏值和美味兼具，\\n餐盒設計超有質感，\\n內容物更是澎湃豐盛。\\n\\n\\n\\n朋友來家裡聚餐，開盒即吃，\\n不需要更換自家碗盤，\\n擺盤就已經很美了～\\n也很適合作為會議便當，\\n近期會推出團訂方案，可來電詢問。\\n\\n\\n\\n經典的越南法國麵包，\\n大顆份量餡料多，\\n有越南火腿(原味)、越式炸排骨、\\n越式醬燒牛、綠咖哩雞，\\n多達四種口味選擇！\\n\\n越南火腿麵包 90元\\n法國麵包烤到外層酥脆，\\n口感紮實有嚼勁，料多爆餡，\\n光嗑這顆就能解決一餐。\\n\\n\\n包有越南火腿、醃蘿蔔條、香菜、\\n醃紫高麗菜、小黃瓜、洋蔥等，\\n吃得到大量蔬菜的爽脆口感，\\n特製醬料帶有美乃滋的香甜滑潤，\\n吃起來清爽又有飽足感。\\n\\n\\n越式炸排骨麵包 100元\\n肉肉控最愛的口味，\\n乾淨衛生的外帶盒裝，\\n帶去野餐、露營都很方便。\\n\\n\\n\\n即使外帶經過一段時間，\\n麵包依舊外酥內軟，\\n不會因為夾有配料和醬汁，\\n就變得濕軟，失去原有口感，\\n這點還滿厲害的～\\n\\n\\n店家自己醃的越式排骨，\\n裡頭肉量很有誠意，\\n咀嚼到濃厚肉香味，\\nCP值比潛艇堡還要高。\\n\\n\\n\\n綠咖哩雞越式米線 130元\\n越式米線走創意料理路線，\\n都是我之前沒吃過的口味，\\n香Q米線搭配豆芽菜，\\n再淋上熱呼呼的醬汁。\\n\\n\\n\\n綠咖哩非常有料，\\n放有雞肉、番茄、九層塔\\n玉米筍、杏鮑菇、洋蔥等，\\n並加入南薑、香茅提味。\\n\\n\\n雞肉給了不少塊，\\n香氣逼人的南洋風味，\\n椰漿中和了鹹度和辣味，\\n讓口感更為溫順。\\n\\n\\n\\n米線裹上濃稠咖哩醬，\\n滑順咕溜，微辣微甜，\\n吃到最後連一滴醬汁都不想放過。\\n\\n\\n\\n越式醬燒牛米線 130元\\n沒胃口吃不下時可以點這道，\\n辛香酸辣很能提振食慾，\\n醬料淋入米線，拌開就能吃。\\n\\n\\n\\n爽滑米線鋪滿醬燒牛肉，\\n會聯想到義式茄汁紅醬，\\n能吃到番茄自然的酸甜，\\n但又有點辣度，\\n還帶有淡淡的香料味。\\n\\n\\n富有油花的牛五花，\\n香嫩而不油膩，\\n相對於綠咖哩醬的濃稠，\\n這碗的湯汁較多，\\n拿來沾麵包也不錯。\\n\\n\\n\\n越式炸排骨 60元\\n之前吃過越好吃大里店，\\n就很喜歡他們家的炸排骨，\\n醃料入味，不裹粉酥炸，\\n肉質軟嫩帶點彈牙。\\n\\n\\n\\n肉量給得很大方，\\n搭配生菜、洋蔥和番茄，\\n單點價格也好划算～\\n\\n\\n\\n炸物會附上特製水果辣醬，\\n味道酸甜微辣，\\n散發熱帶水果的繽紛果香，\\n一份排骨可以三吃，\\n單吃、沾醬吃，還能生菜包肉，\\n配起來更加清爽。\\n\\n\\n\\n越式炸雞腿塊 90元\\n招牌必點炸物小品，\\n獨家香料配方醃製入味，\\n咬下去卡滋酥脆，\\n肉質鮮嫩爆汁，超級juicy。\\n\\n\\n\\n香辣夠勁的炸雞腿塊，\\n口味偏重，不用特別沾醬，\\n可配清爽生菜一起吃。\\n\\n\\n\\n雖然份量不多，但真的好吃，\\n香噴噴的誘人滋味，\\n邪惡指數非常高。\\n\\n\\n\\n越式炸蝦餅 150元\\n看起來比較像月亮蝦餅，\\n金黃外皮炸香酥脆，\\nQ彈蝦醬夾著鮮美蝦肉。\\n\\n\\n\\n爽口彈牙，沒有油膩感，\\n普羅大眾會喜歡的口味，\\n可以點一份大家share。\\n\\n\\n\\n搭配特製水果辣醬，\\n鮮甜海味結合果香微辣，\\n越吃越涮嘴。\\n\\n\\n來自大里的排隊越南美食，\\n文青越式餐盒外帶店新開幕，\\n經典道地的越南風味，\\n酸甜辣爽簡直開胃救星，\\n附近的上班族嚐鮮吃一波！\\n\\n\\n\\n\\n\\n--\\n※ 發信站: 批踢踢實業坊(ptt.cc), 來自: 122.118.8.100 (臺灣)\\n※ 文章網址: https://www.ptt.cc/bbs/Food/M.1601003051.A.E08.html\\n推 longya: 叫越南吃比較有梗 09/25 16:40\\n'}\n"
     ]
    }
   ],
   "source": [
    "type(all_links[2])\n",
    "print(all_links[2])"
   ]
  },
  {
   "cell_type": "code",
   "execution_count": 4,
   "metadata": {},
   "outputs": [
    {
     "name": "stdout",
     "output_type": "stream",
     "text": [
      "Push: 1 \n",
      "title: [廣宣] 台中西屯 越好吃越南料理黎明店 \n",
      "date:  9/25 \n",
      "author: matchstick \n",
      "link: /bbs/Food/M.1601003051.A.E08.html \n",
      "text: 作者mat \n",
      "\n"
     ]
    }
   ],
   "source": [
    "print('Push: {push:s} \\n'\n",
    "      'title: {title:s} \\n'\n",
    "      'date: {date:s} \\n'\n",
    "      'author: {author:s} \\n'\n",
    "      'link: {link:s} \\n'\n",
    "      'text: {text:.5} \\n'.format(**all_links[2]))"
   ]
  },
  {
   "cell_type": "code",
   "execution_count": null,
   "metadata": {},
   "outputs": [],
   "source": []
  },
  {
   "cell_type": "markdown",
   "metadata": {},
   "source": [
    ":::{admonition} Exercise\n",
    "How to seperate post texts from push texts?\n",
    ":::\n"
   ]
  }
 ],
 "metadata": {
  "kernelspec": {
   "display_name": "ckiptagger",
   "language": "python",
   "name": "ckiptagger"
  },
  "language_info": {
   "codemirror_mode": {
    "name": "ipython",
    "version": 3
   },
   "file_extension": ".py",
   "mimetype": "text/x-python",
   "name": "python",
   "nbconvert_exporter": "python",
   "pygments_lexer": "ipython3",
   "version": "3.6.12"
  }
 },
 "nbformat": 4,
 "nbformat_minor": 4
}