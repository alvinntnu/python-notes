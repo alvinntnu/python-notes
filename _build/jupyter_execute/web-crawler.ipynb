{
 "cells": [
  {
   "cell_type": "markdown",
   "metadata": {},
   "source": [
    "# Web Crawler"
   ]
  },
  {
   "cell_type": "code",
   "execution_count": 1,
   "metadata": {},
   "outputs": [],
   "source": [
    "import requests\n",
    "from bs4 import BeautifulSoup as soup  # HTML data structure\n",
    "\n",
    "# extract article hyperlinks from an index page\n",
    "def extractArtLinks(url):\n",
    "    r = requests.get(url, cookies={'over18':'1'})\n",
    "    page_soup = soup(r.text, \"html.parser\")\n",
    "    containers = page_soup.findAll(\"div\", {\"class\": \"r-ent\"})\n",
    "    art_links = []\n",
    "    for container in containers:\n",
    "        # Finds all link tags \"a\" from within the first div.\n",
    "        art_link = container.find('a')\n",
    "        if art_link:\n",
    "            #print(art_link['href'])\n",
    "            #print(container.find('div',{'class':'title'}).get_text())\n",
    "            art_meta = container.find('div',{'class':'meta'})\n",
    "            #print(art_meta.find('div',{'class':'author'}).get_text())\n",
    "            #print(art_meta.find('div',{'class':'date'}).get_text())\n",
    "\n",
    "            art_links.append({\n",
    "                'push': container.find('div',{'class':'nrec'}).get_text(),\n",
    "                'title': container.find('div',{'class':'title'}).get_text().strip(),\n",
    "                'date': art_meta.find('div',{'class':'date'}).get_text(),\n",
    "                'author': art_meta.find('div',{'class':'author'}).get_text(),\n",
    "                'link': art_link['href'],\n",
    "                'text': extractArtText('https://www.ptt.cc' + art_link['href'])\n",
    "            })\n",
    "\n",
    "    return(art_links)\n",
    "\n",
    "# find the previous index page link\n",
    "def findPrevIndex(url):\n",
    "    r = requests.get(url, cookies={'over18':'1'})\n",
    "    page_soup = soup(r.text,\"html.parser\")\n",
    "    btn = page_soup.select('div.btn-group > a')\n",
    "    up_page_href = btn[3]['href']\n",
    "    next_page_url = 'https://www.ptt.cc' + up_page_href\n",
    "    return(next_page_url)\n",
    "\n",
    "# extract article contents from  the article hyperlink\n",
    "def extractArtText(url):\n",
    "    r = requests.get(url, cookies={'over18':'1'})\n",
    "    page_soup = soup(r.text, \"lxml\")\n",
    "    #print(page_soup.find(\"div\",{\"id\":\"main-content\"}).get_text())\n",
    "    art_text=page_soup.select('div#main-content', limit=1)[0].text\n",
    "    return(art_text)"
   ]
  },
  {
   "cell_type": "code",
   "execution_count": 2,
   "metadata": {},
   "outputs": [
    {
     "data": {
      "text/plain": [
       "11"
      ]
     },
     "execution_count": 2,
     "metadata": {},
     "output_type": "execute_result"
    }
   ],
   "source": [
    "# main()\n",
    "num_of_index_page = 2\n",
    "board_name = 'Food'\n",
    "url = 'https://www.ptt.cc/bbs/{}/index.html'.format(board_name)\n",
    "all_links =[]\n",
    "for page in range(1,num_of_index_page):\n",
    "    all_links = all_links + extractArtLinks(url)\n",
    "    url = findPrevIndex(url)\n",
    "len(all_links)"
   ]
  },
  {
   "cell_type": "code",
   "execution_count": 3,
   "metadata": {},
   "outputs": [
    {
     "name": "stdout",
     "output_type": "stream",
     "text": [
      "{'push': '', 'title': \"[食記] 日本 Eggs 'n Things 鬆餅\", 'date': '10/04', 'author': 'osakaleo', 'link': '/bbs/Food/M.1601802187.A.ACC.html', 'text': \"作者osakaleo (osakaleo)看板Food標題[食記] 日本 Eggs 'n Things 鬆餅時間Sun Oct  4 17:03:05 2020\\n   餐廳名稱：Eggs 'n Things\\n   消費時間：2019年7月\\n   地址：日本 大阪市 環球影城前\\n\\n\\n有圖有真相網誌版：https://osakaleo.pixnet.net/blog/post/353017262\\n\\n\\n「Eggs 'n Things」在日本鬆餅界，人氣向來很高！\\n\\n我們點了「草莓、生奶油和夏威夷果鬆餅」，\\n這款滿適合第一次吃Eggs 'n Things的人，算是人氣基本款。\\n\\nEggs 'n Things最讓大家印象深刻的，應該就是那堆得超高的鮮奶油！！！\\n\\n第一次吃真的有嚇到！XD\\n\\n像我自己是不吃鮮奶油的(從小就這樣，蛋糕上的鮮奶油一定都刮掉)，\\n但Eggs 'n Things的鮮奶油改變了我對鮮奶油的既定印象\\n它的鮮奶油柔嫩順口，不會覺得膩也不會刮口\\n有種鮮甜感\\n\\n鬆餅本身的口感也很好，蓬鬆膨鬆的本體，配上滑順的鮮奶油\\n吃起來很過癮啊！\\n\\n\\n--\\n※ 發信站: 批踢踢實業坊(ptt.cc), 來自: 114.136.213.101 (臺灣)\\n※ 文章網址: https://www.ptt.cc/bbs/Food/M.1601802187.A.ACC.html\\n\"}\n"
     ]
    }
   ],
   "source": [
    "type(all_links[2])\n",
    "print(all_links[2])"
   ]
  },
  {
   "cell_type": "code",
   "execution_count": 4,
   "metadata": {},
   "outputs": [
    {
     "name": "stdout",
     "output_type": "stream",
     "text": [
      "Push:  \n",
      "title: [食記] 日本 Eggs 'n Things 鬆餅 \n",
      "date: 10/04 \n",
      "author: osakaleo \n",
      "link: /bbs/Food/M.1601802187.A.ACC.html \n",
      "text: 作者osa \n",
      "\n"
     ]
    }
   ],
   "source": [
    "print('Push: {push:s} \\n'\n",
    "      'title: {title:s} \\n'\n",
    "      'date: {date:s} \\n'\n",
    "      'author: {author:s} \\n'\n",
    "      'link: {link:s} \\n'\n",
    "      'text: {text:.5} \\n'.format(**all_links[2]))"
   ]
  },
  {
   "cell_type": "code",
   "execution_count": null,
   "metadata": {},
   "outputs": [],
   "source": []
  },
  {
   "cell_type": "markdown",
   "metadata": {},
   "source": [
    ":::{admonition} Exercise\n",
    "How to seperate post texts from push texts?\n",
    ":::\n"
   ]
  }
 ],
 "metadata": {
  "kernelspec": {
   "display_name": "ckiptagger",
   "language": "python",
   "name": "ckiptagger"
  },
  "language_info": {
   "codemirror_mode": {
    "name": "ipython",
    "version": 3
   },
   "file_extension": ".py",
   "mimetype": "text/x-python",
   "name": "python",
   "nbconvert_exporter": "python",
   "pygments_lexer": "ipython3",
   "version": "3.6.12"
  }
 },
 "nbformat": 4,
 "nbformat_minor": 4
}