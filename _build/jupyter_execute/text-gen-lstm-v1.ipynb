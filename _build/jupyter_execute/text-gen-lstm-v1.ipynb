{
 "cells": [
  {
   "cell_type": "markdown",
   "metadata": {},
   "source": [
    "# Text Generation\n",
    "\n",
    "- Deep-learning Language model\n",
    "- Generative model\n",
    "- Based on Chp 8 Deep Learning with Python\n",
    "- Character-based text generative model (using LSTM)"
   ]
  },
  {
   "cell_type": "code",
   "execution_count": 1,
   "metadata": {},
   "outputs": [],
   "source": [
    "import keras\n",
    "import numpy as np"
   ]
  },
  {
   "cell_type": "code",
   "execution_count": 2,
   "metadata": {},
   "outputs": [
    {
     "name": "stdout",
     "output_type": "stream",
     "text": [
      "Corpus Length: 600893\n"
     ]
    }
   ],
   "source": [
    "## Download texts\n",
    "path = keras.utils.get_file('nietzsche.txt',\n",
    "                           origin='https://s3.amazonaws.com/text-datasets/nietzsche.txt')\n",
    "text = open(path).read().lower()\n",
    "print('Corpus Length:', len(text))"
   ]
  },
  {
   "cell_type": "code",
   "execution_count": 3,
   "metadata": {},
   "outputs": [
    {
     "name": "stdout",
     "output_type": "stream",
     "text": [
      "Number of sequences: 200278\n"
     ]
    }
   ],
   "source": [
    "## Creating sequences for training\n",
    "maxlen = 60 # 60 characters as one sequence at a time\n",
    "step = 3 # sample new sequence every 3 characters, shift size\n",
    "sentences = []\n",
    "next_chars = []\n",
    "for i in range(0, len(text) - maxlen, step):\n",
    "    sentences.append(text[i: i + maxlen]) # context\n",
    "    next_chars.append(text[i + maxlen]) # target word\n",
    "print('Number of sequences:', len(sentences))"
   ]
  },
  {
   "cell_type": "code",
   "execution_count": 4,
   "metadata": {},
   "outputs": [
    {
     "name": "stdout",
     "output_type": "stream",
     "text": [
      "Unique characters: 57\n"
     ]
    }
   ],
   "source": [
    "## Creating char mapping dictionary\n",
    "chars = sorted(list(set(text))) # dict of chars\n",
    "print('Unique characters:', len(chars))\n",
    "# create a map of each character and its corresponding numeric index in `chars`\n",
    "char_indices = dict((char, chars.index(char)) for char in chars)"
   ]
  },
  {
   "cell_type": "code",
   "execution_count": 5,
   "metadata": {},
   "outputs": [
    {
     "name": "stdout",
     "output_type": "stream",
     "text": [
      "Vectorization...\n"
     ]
    }
   ],
   "source": [
    "## Vectorizing sequences\n",
    "print('Vectorization...')\n",
    "## one-hot encoding for all characters\n",
    "x = np.zeros((len(sentences), maxlen, len(chars)), dtype=np.bool)\n",
    "y = np.zeros((len(sentences), len(chars)), dtype=np.bool)\n",
    "for i, sentence in enumerate(sentences):\n",
    "    for t, char in enumerate(sentence):\n",
    "        x[i, t, char_indices[char]]=1 # i-th sentence, t-th character, one-hot position\n",
    "    y[i, char_indices[next_chars[i]]]=1 # i-th sentence, the target word one-hot position"
   ]
  },
  {
   "cell_type": "code",
   "execution_count": 6,
   "metadata": {},
   "outputs": [],
   "source": [
    "# ## Building Network\n",
    "# from keras import layers\n",
    "# model = keras.models.Sequential()\n",
    "# model.add(layers.LSTM(128, input_shape=(maxlen, len(chars))))\n",
    "# model.add(layers.Dense(len(chars), activation='softmax'))\n",
    "\n",
    "# ## Model configuration\n",
    "# optimizer = keras.optimizers.RMSprop(lr=0.001)\n",
    "# model.compile(loss='categorical_crossentropy', optimizer=optimizer)"
   ]
  },
  {
   "cell_type": "code",
   "execution_count": 7,
   "metadata": {},
   "outputs": [],
   "source": [
    "## After the training, a function to sample the next char given the model prediction\n",
    "def sample(preds, temperature = 1.0):\n",
    "    preds = np.asarray(preds).astype('float64')\n",
    "    preds = np.log(preds)/temperature\n",
    "    exp_preds = np.exp(preds)\n",
    "    preds = exp_preds/np.sum(exp_preds)\n",
    "    probas = np.random.multinomial(1, preds, 1)\n",
    "    return np.argmax(probas)"
   ]
  },
  {
   "cell_type": "code",
   "execution_count": 8,
   "metadata": {},
   "outputs": [],
   "source": [
    "## Model Training\n",
    "# history = model.fit(x, y, batch_size=128, epochs = 60)\n"
   ]
  },
  {
   "cell_type": "code",
   "execution_count": 9,
   "metadata": {},
   "outputs": [],
   "source": [
    "## Save model\n",
    "# model.save('../data/text-gen-lstm-nietzsche.h5')\n"
   ]
  },
  {
   "cell_type": "code",
   "execution_count": 10,
   "metadata": {},
   "outputs": [],
   "source": [
    "# print(history.history.keys())\n",
    "# loss_values = history.history['loss']\n",
    "# epochs = range(1, len(loss_values)+1)"
   ]
  },
  {
   "cell_type": "code",
   "execution_count": 11,
   "metadata": {},
   "outputs": [
    {
     "data": {
      "text/plain": [
       "<seaborn.axisgrid.FacetGrid at 0x7fa5cb673250>"
      ]
     },
     "execution_count": 11,
     "metadata": {},
     "output_type": "execute_result"
    },
    {
     "data": {
      "image/png": "[encoded data removed]",
      "text/plain": [
       "<Figure size 360x360 with 1 Axes>"
      ]
     },
     "metadata": {
      "filenames": {
       "image/png": "/Users/Alvin/Dropbox/Python/PythonTricksTheBook/PythonTricksJupyterBook/_build/jupyter_execute/text-gen-lstm-v1_11_1.png"
      }
     },
     "output_type": "display_data"
    }
   ],
   "source": [
    "import seaborn as sns\n",
    "import pandas as pd\n",
    "import pickle\n",
    "%matplotlib inline\n",
    "\n",
    "## load previous saved df\n",
    "pickle_in = open(\"../data/text-gen-lstm-nietzschet-history.pickle\",\"rb\")\n",
    "hist_df = pickle.load(pickle_in)\n",
    "\n",
    "#hist_df=pd.DataFrame(list(zip(epochs, loss_values)), columns=['epochs','loss_values'])\n",
    "sns.set(style='darkgrid')\n",
    "sns.relplot(data=hist_df,x='epochs', y='loss_values', kind='line')"
   ]
  },
  {
   "cell_type": "code",
   "execution_count": 12,
   "metadata": {},
   "outputs": [],
   "source": [
    "# import pickle\n",
    "# pickle_out = open(\"../data/text-gen-lstm-nietzschet-history.pickle\",\"wb\")\n",
    "# pickle.dump(hist_df, pickle_out)\n",
    "# pickle_out.close()"
   ]
  },
  {
   "cell_type": "code",
   "execution_count": 13,
   "metadata": {},
   "outputs": [],
   "source": [
    "## Load Saved Model\n",
    "## No need to create and compile the model first?\n",
    "model = keras.models.load_model('../data/text-gen-lstm-nietzsche.h5')"
   ]
  },
  {
   "cell_type": "code",
   "execution_count": 14,
   "metadata": {},
   "outputs": [],
   "source": [
    "## Generating Texts\n",
    "\n",
    "import random\n",
    "import sys\n",
    "\n",
    "\n",
    "start_index = random.randint(0, len(text)-maxlen-1)\n",
    "generated_text = text[start_index:start_index+maxlen]"
   ]
  },
  {
   "cell_type": "code",
   "execution_count": 15,
   "metadata": {},
   "outputs": [
    {
     "name": "stdout",
     "output_type": "stream",
     "text": [
      "--Generating with seed: \"ely before the man of the great current he\n",
      "stands all the co\"\n",
      "----- temperature: 0.2\n",
      "ely before the man of the great current he\n",
      "stands all the co"
     ]
    },
    {
     "name": "stdout",
     "output_type": "stream",
     "text": [
      "mmand-"
     ]
    },
    {
     "name": "stdout",
     "output_type": "stream",
     "text": [
      "-inter"
     ]
    },
    {
     "name": "stdout",
     "output_type": "stream",
     "text": [
      "pentat"
     ]
    },
    {
     "name": "stdout",
     "output_type": "stream",
     "text": [
      "y of"
     ]
    },
    {
     "name": "stdout",
     "output_type": "stream",
     "text": [
      " the "
     ]
    },
    {
     "name": "stdout",
     "output_type": "stream",
     "text": [
      "most "
     ]
    },
    {
     "name": "stdout",
     "output_type": "stream",
     "text": [
      "reffir"
     ]
    },
    {
     "name": "stdout",
     "output_type": "stream",
     "text": [
      "ed t"
     ]
    },
    {
     "name": "stdout",
     "output_type": "stream",
     "text": [
      "o hav"
     ]
    },
    {
     "name": "stdout",
     "output_type": "stream",
     "text": [
      "e and"
     ]
    },
    {
     "name": "stdout",
     "output_type": "stream",
     "text": [
      " the\n",
      "f"
     ]
    },
    {
     "name": "stdout",
     "output_type": "stream",
     "text": [
      "act th"
     ]
    },
    {
     "name": "stdout",
     "output_type": "stream",
     "text": [
      "at the"
     ]
    },
    {
     "name": "stdout",
     "output_type": "stream",
     "text": [
      " even"
     ]
    },
    {
     "name": "stdout",
     "output_type": "stream",
     "text": [
      " to t"
     ]
    },
    {
     "name": "stdout",
     "output_type": "stream",
     "text": [
      "he ex"
     ]
    },
    {
     "name": "stdout",
     "output_type": "stream",
     "text": [
      "istenc"
     ]
    },
    {
     "name": "stdout",
     "output_type": "stream",
     "text": [
      "e of t"
     ]
    },
    {
     "name": "stdout",
     "output_type": "stream",
     "text": [
      "he sen"
     ]
    },
    {
     "name": "stdout",
     "output_type": "stream",
     "text": [
      "ses it"
     ]
    },
    {
     "name": "stdout",
     "output_type": "stream",
     "text": [
      " is a "
     ]
    },
    {
     "name": "stdout",
     "output_type": "stream",
     "text": [
      "sort o"
     ]
    },
    {
     "name": "stdout",
     "output_type": "stream",
     "text": [
      "f suc"
     ]
    },
    {
     "name": "stdout",
     "output_type": "stream",
     "text": [
      "h an\n"
     ]
    },
    {
     "name": "stdout",
     "output_type": "stream",
     "text": [
      "advis"
     ]
    },
    {
     "name": "stdout",
     "output_type": "stream",
     "text": [
      "tonce-"
     ]
    },
    {
     "name": "stdout",
     "output_type": "stream",
     "text": [
      "-with "
     ]
    },
    {
     "name": "stdout",
     "output_type": "stream",
     "text": [
      "all th"
     ]
    },
    {
     "name": "stdout",
     "output_type": "stream",
     "text": [
      "e same"
     ]
    },
    {
     "name": "stdout",
     "output_type": "stream",
     "text": [
      " a new"
     ]
    },
    {
     "name": "stdout",
     "output_type": "stream",
     "text": [
      " sudde"
     ]
    },
    {
     "name": "stdout",
     "output_type": "stream",
     "text": [
      "r to h"
     ]
    },
    {
     "name": "stdout",
     "output_type": "stream",
     "text": [
      "im al"
     ]
    },
    {
     "name": "stdout",
     "output_type": "stream",
     "text": [
      "so the"
     ]
    },
    {
     "name": "stdout",
     "output_type": "stream",
     "text": [
      "\n",
      "last "
     ]
    },
    {
     "name": "stdout",
     "output_type": "stream",
     "text": [
      "that ----- temperature: 0.5\n",
      "e--with all the same a new sudder to him also the\n",
      "last that t"
     ]
    },
    {
     "name": "stdout",
     "output_type": "stream",
     "text": [
      "he can"
     ]
    },
    {
     "name": "stdout",
     "output_type": "stream",
     "text": [
      " be ev"
     ]
    },
    {
     "name": "stdout",
     "output_type": "stream",
     "text": [
      "er tha"
     ]
    },
    {
     "name": "stdout",
     "output_type": "stream",
     "text": [
      "t thes"
     ]
    },
    {
     "name": "stdout",
     "output_type": "stream",
     "text": [
      "e poin"
     ]
    },
    {
     "name": "stdout",
     "output_type": "stream",
     "text": [
      "t of d"
     ]
    },
    {
     "name": "stdout",
     "output_type": "stream",
     "text": [
      "istrus"
     ]
    },
    {
     "name": "stdout",
     "output_type": "stream",
     "text": [
      "tful a"
     ]
    },
    {
     "name": "stdout",
     "output_type": "stream",
     "text": [
      "nd\n",
      "sub"
     ]
    },
    {
     "name": "stdout",
     "output_type": "stream",
     "text": [
      "lim th"
     ]
    },
    {
     "name": "stdout",
     "output_type": "stream",
     "text": [
      "at is "
     ]
    },
    {
     "name": "stdout",
     "output_type": "stream",
     "text": [
      "the se"
     ]
    },
    {
     "name": "stdout",
     "output_type": "stream",
     "text": [
      "nse of"
     ]
    },
    {
     "name": "stdout",
     "output_type": "stream",
     "text": [
      " the s"
     ]
    },
    {
     "name": "stdout",
     "output_type": "stream",
     "text": [
      "oul as"
     ]
    },
    {
     "name": "stdout",
     "output_type": "stream",
     "text": [
      " i pro"
     ]
    },
    {
     "name": "stdout",
     "output_type": "stream",
     "text": [
      "doun a"
     ]
    },
    {
     "name": "stdout",
     "output_type": "stream",
     "text": [
      "nd the"
     ]
    },
    {
     "name": "stdout",
     "output_type": "stream",
     "text": [
      " soul "
     ]
    },
    {
     "name": "stdout",
     "output_type": "stream",
     "text": [
      "is the"
     ]
    },
    {
     "name": "stdout",
     "output_type": "stream",
     "text": [
      "re\n",
      "ind"
     ]
    },
    {
     "name": "stdout",
     "output_type": "stream",
     "text": [
      "uperem"
     ]
    },
    {
     "name": "stdout",
     "output_type": "stream",
     "text": [
      ". the "
     ]
    },
    {
     "name": "stdout",
     "output_type": "stream",
     "text": [
      "greate"
     ]
    },
    {
     "name": "stdout",
     "output_type": "stream",
     "text": [
      "st and"
     ]
    },
    {
     "name": "stdout",
     "output_type": "stream",
     "text": [
      " weak;"
     ]
    },
    {
     "name": "stdout",
     "output_type": "stream",
     "text": [
      " how g"
     ]
    },
    {
     "name": "stdout",
     "output_type": "stream",
     "text": [
      "eneral"
     ]
    },
    {
     "name": "stdout",
     "output_type": "stream",
     "text": [
      "ly and"
     ]
    },
    {
     "name": "stdout",
     "output_type": "stream",
     "text": [
      " the s"
     ]
    },
    {
     "name": "stdout",
     "output_type": "stream",
     "text": [
      "pirit,"
     ]
    },
    {
     "name": "stdout",
     "output_type": "stream",
     "text": [
      " speci"
     ]
    },
    {
     "name": "stdout",
     "output_type": "stream",
     "text": [
      "alike\n"
     ]
    },
    {
     "name": "stdout",
     "output_type": "stream",
     "text": [
      "t----- temperature: 1.0\n",
      "reatest and weak; how generally and the spirit, specialike\n",
      "to hor"
     ]
    },
    {
     "name": "stdout",
     "output_type": "stream",
     "text": [
      "dwich "
     ]
    },
    {
     "name": "stdout",
     "output_type": "stream",
     "text": [
      "in our"
     ]
    },
    {
     "name": "stdout",
     "output_type": "stream",
     "text": [
      " of wh"
     ]
    },
    {
     "name": "stdout",
     "output_type": "stream",
     "text": [
      "o muck"
     ]
    },
    {
     "name": "stdout",
     "output_type": "stream",
     "text": [
      " whow "
     ]
    },
    {
     "name": "stdout",
     "output_type": "stream",
     "text": [
      "itself"
     ]
    },
    {
     "name": "stdout",
     "output_type": "stream",
     "text": [
      " elum"
     ]
    },
    {
     "name": "stdout",
     "output_type": "stream",
     "text": [
      "vasi"
     ]
    },
    {
     "name": "stdout",
     "output_type": "stream",
     "text": [
      "on"
     ]
    },
    {
     "name": "stdout",
     "output_type": "stream",
     "text": [
      "al erv"
     ]
    },
    {
     "name": "stdout",
     "output_type": "stream",
     "text": [
      "eders\n"
     ]
    },
    {
     "name": "stdout",
     "output_type": "stream",
     "text": [
      "and mu"
     ]
    },
    {
     "name": "stdout",
     "output_type": "stream",
     "text": [
      "st bes"
     ]
    },
    {
     "name": "stdout",
     "output_type": "stream",
     "text": [
      "e, a g"
     ]
    },
    {
     "name": "stdout",
     "output_type": "stream",
     "text": [
      "oper d"
     ]
    },
    {
     "name": "stdout",
     "output_type": "stream",
     "text": [
      "elight"
     ]
    },
    {
     "name": "stdout",
     "output_type": "stream",
     "text": [
      " who d"
     ]
    },
    {
     "name": "stdout",
     "output_type": "stream",
     "text": [
      "eex to"
     ]
    },
    {
     "name": "stdout",
     "output_type": "stream",
     "text": [
      "ous, t"
     ]
    },
    {
     "name": "stdout",
     "output_type": "stream",
     "text": [
      "he spi"
     ]
    },
    {
     "name": "stdout",
     "output_type": "stream",
     "text": [
      "rit of"
     ]
    },
    {
     "name": "stdout",
     "output_type": "stream",
     "text": [
      "\n",
      ".\n",
      "a\n",
      "m"
     ]
    },
    {
     "name": "stdout",
     "output_type": "stream",
     "text": [
      "aveaks"
     ]
    },
    {
     "name": "stdout",
     "output_type": "stream",
     "text": [
      ". bot "
     ]
    },
    {
     "name": "stdout",
     "output_type": "stream",
     "text": [
      "even m"
     ]
    },
    {
     "name": "stdout",
     "output_type": "stream",
     "text": [
      "un'est"
     ]
    },
    {
     "name": "stdout",
     "output_type": "stream",
     "text": [
      "!e\"--t"
     ]
    },
    {
     "name": "stdout",
     "output_type": "stream",
     "text": [
      "he hun"
     ]
    },
    {
     "name": "stdout",
     "output_type": "stream",
     "text": [
      "dage a"
     ]
    },
    {
     "name": "stdout",
     "output_type": "stream",
     "text": [
      "nd suc"
     ]
    },
    {
     "name": "stdout",
     "output_type": "stream",
     "text": [
      "h gren"
     ]
    },
    {
     "name": "stdout",
     "output_type": "stream",
     "text": [
      "iness "
     ]
    },
    {
     "name": "stdout",
     "output_type": "stream",
     "text": [
      "in thi"
     ]
    },
    {
     "name": "stdout",
     "output_type": "stream",
     "text": [
      "ng s----- temperature: 1.2\n",
      "t even mun'est!e\"--the hundage and such greniness in thing som"
     ]
    },
    {
     "name": "stdout",
     "output_type": "stream",
     "text": [
      "e dist"
     ]
    },
    {
     "name": "stdout",
     "output_type": "stream",
     "text": [
      "iction"
     ]
    },
    {
     "name": "stdout",
     "output_type": "stream",
     "text": [
      ", is i"
     ]
    },
    {
     "name": "stdout",
     "output_type": "stream",
     "text": [
      "f\n",
      "gold"
     ]
    },
    {
     "name": "stdout",
     "output_type": "stream",
     "text": [
      " and a"
     ]
    },
    {
     "name": "stdout",
     "output_type": "stream",
     "text": [
      " chrim"
     ]
    },
    {
     "name": "stdout",
     "output_type": "stream",
     "text": [
      "ed beg"
     ]
    },
    {
     "name": "stdout",
     "output_type": "stream",
     "text": [
      "nezess"
     ]
    },
    {
     "name": "stdout",
     "output_type": "stream",
     "text": [
      "ive, a"
     ]
    },
    {
     "name": "stdout",
     "output_type": "stream",
     "text": [
      "nd wit"
     ]
    },
    {
     "name": "stdout",
     "output_type": "stream",
     "text": [
      "h unch"
     ]
    },
    {
     "name": "stdout",
     "output_type": "stream",
     "text": [
      "ant a "
     ]
    },
    {
     "name": "stdout",
     "output_type": "stream",
     "text": [
      "call\n",
      "n"
     ]
    },
    {
     "name": "stdout",
     "output_type": "stream",
     "text": [
      "o ross"
     ]
    },
    {
     "name": "stdout",
     "output_type": "stream",
     "text": [
      " passi"
     ]
    },
    {
     "name": "stdout",
     "output_type": "stream",
     "text": [
      "on and"
     ]
    },
    {
     "name": "stdout",
     "output_type": "stream",
     "text": [
      " of th"
     ]
    },
    {
     "name": "stdout",
     "output_type": "stream",
     "text": [
      "e look"
     ]
    },
    {
     "name": "stdout",
     "output_type": "stream",
     "text": [
      "ing of"
     ]
    },
    {
     "name": "stdout",
     "output_type": "stream",
     "text": [
      " his p"
     ]
    },
    {
     "name": "stdout",
     "output_type": "stream",
     "text": [
      "roposa"
     ]
    },
    {
     "name": "stdout",
     "output_type": "stream",
     "text": [
      "rity o"
     ]
    },
    {
     "name": "stdout",
     "output_type": "stream",
     "text": [
      "verpto"
     ]
    },
    {
     "name": "stdout",
     "output_type": "stream",
     "text": [
      "rs, al"
     ]
    },
    {
     "name": "stdout",
     "output_type": "stream",
     "text": [
      "so,\n",
      "in"
     ]
    },
    {
     "name": "stdout",
     "output_type": "stream",
     "text": [
      " profo"
     ]
    },
    {
     "name": "stdout",
     "output_type": "stream",
     "text": [
      "umpys,"
     ]
    },
    {
     "name": "stdout",
     "output_type": "stream",
     "text": [
      " would"
     ]
    },
    {
     "name": "stdout",
     "output_type": "stream",
     "text": [
      " else "
     ]
    },
    {
     "name": "stdout",
     "output_type": "stream",
     "text": [
      "dreame"
     ]
    },
    {
     "name": "stdout",
     "output_type": "stream",
     "text": [
      "sture "
     ]
    },
    {
     "name": "stdout",
     "output_type": "stream",
     "text": [
      "in the"
     ]
    },
    {
     "name": "stdout",
     "output_type": "stream",
     "text": [
      " a del"
     ]
    }
   ],
   "source": [
    "print('--Generating with seed: \"'+ generated_text + '\"')\n",
    "for temperature in [0.2, 0.5, 1.0, 1.2]:\n",
    "    print('----- temperature:', temperature)\n",
    "    sys.stdout.write(generated_text)\n",
    "    # generate 400 chars after the seed text\n",
    "    for i in range(200):\n",
    "        # one-hot encoding seed text\n",
    "        sampled = np.zeros((1, maxlen, len(chars)))\n",
    "        for t, char in enumerate(generated_text):\n",
    "            sampled[0, t, char_indices[char]]=1 # given the sample text, t-th char, one-hot position\n",
    "        \n",
    "        preds = model.predict(sampled, verbose=0)[0] # get output prob distribution\n",
    "        next_index = sample(preds, temperature) # choose the char based on temperature\n",
    "        next_char = chars[next_index]\n",
    "        \n",
    "        generated_text += next_char # append the new char\n",
    "        generated_text = generated_text[1:] # get rid of the first char\n",
    "        sys.stdout.write(next_char)\n",
    "    "
   ]
  }
 ],
 "metadata": {
  "kernelspec": {
   "display_name": "r-tensorflow",
   "language": "python",
   "name": "r-tensorflow"
  },
  "language_info": {
   "codemirror_mode": {
    "name": "ipython",
    "version": 3
   },
   "file_extension": ".py",
   "mimetype": "text/x-python",
   "name": "python",
   "nbconvert_exporter": "python",
   "pygments_lexer": "ipython3",
   "version": "3.7.6"
  }
 },
 "nbformat": 4,
 "nbformat_minor": 4
}