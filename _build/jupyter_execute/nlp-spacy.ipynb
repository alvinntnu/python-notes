{
 "cells": [
  {
   "cell_type": "markdown",
   "metadata": {},
   "source": [
    "# Natural Language Processing (spaCy)"
   ]
  },
  {
   "cell_type": "markdown",
   "metadata": {},
   "source": [
    "## Installation\n",
    "\n",
    "```\n",
    "# Install package\n",
    "## In terminal:\n",
    "!pip install spacy\n",
    "\n",
    "## Download language model for Chinese and English\n",
    "!spacy download en\n",
    "!spacy download zh\n",
    "```"
   ]
  },
  {
   "cell_type": "code",
   "execution_count": 1,
   "metadata": {},
   "outputs": [],
   "source": [
    "import spacy\n",
    "nlp_en = spacy.load('en')\n",
    "\n",
    "doc = nlp_en('This is a sentence')\n"
   ]
  },
  {
   "cell_type": "markdown",
   "metadata": {},
   "source": [
    "## POS Tagging"
   ]
  },
  {
   "cell_type": "code",
   "execution_count": 2,
   "metadata": {},
   "outputs": [
    {
     "name": "stdout",
     "output_type": "stream",
     "text": [
      "('This', 'DET', 'DT')\n",
      "('is', 'AUX', 'VBZ')\n",
      "('a', 'DET', 'DT')\n",
      "('sentence', 'NOUN', 'NN')\n"
     ]
    }
   ],
   "source": [
    "# parts of speech tagging\n",
    "for token in doc:\n",
    "    print(((token.text, token.pos_, token.tag_)))"
   ]
  },
  {
   "cell_type": "code",
   "execution_count": 3,
   "metadata": {},
   "outputs": [
    {
     "name": "stdout",
     "output_type": "stream",
     "text": [
      "This_DT\n",
      "is_VBZ\n",
      "a_DT\n",
      "sentence_NN\n"
     ]
    }
   ],
   "source": [
    "for token in doc:\n",
    "    print('%s_%s' % (token.text, token.tag_))\n"
   ]
  },
  {
   "cell_type": "code",
   "execution_count": 4,
   "metadata": {},
   "outputs": [
    {
     "name": "stdout",
     "output_type": "stream",
     "text": [
      " This/DT is/VBZ a/DT sentence/NN\n"
     ]
    }
   ],
   "source": [
    "out = ''\n",
    "for token in doc:\n",
    "    out = out + ' '+ '/'.join((token.text, token.tag_))\n",
    "print(out)"
   ]
  },
  {
   "cell_type": "markdown",
   "metadata": {},
   "source": [
    "## Chunking"
   ]
  },
  {
   "cell_type": "code",
   "execution_count": 5,
   "metadata": {},
   "outputs": [
    {
     "name": "stdout",
     "output_type": "stream",
     "text": [
      "a sentence sentence attr is\n"
     ]
    }
   ],
   "source": [
    "for c in doc.noun_chunks:\n",
    "    print(c.text, c.root.text, c.root.dep_, c.root.head.text)"
   ]
  }
 ],
 "metadata": {
  "kernelspec": {
   "display_name": "ckiptagger",
   "language": "python",
   "name": "ckiptagger"
  },
  "language_info": {
   "codemirror_mode": {
    "name": "ipython",
    "version": 3
   },
   "file_extension": ".py",
   "mimetype": "text/x-python",
   "name": "python",
   "nbconvert_exporter": "python",
   "pygments_lexer": "ipython3",
   "version": "3.6.12"
  }
 },
 "nbformat": 4,
 "nbformat_minor": 4
}