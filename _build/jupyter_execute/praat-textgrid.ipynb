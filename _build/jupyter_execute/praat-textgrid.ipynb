{
 "cells": [
  {
   "cell_type": "markdown",
   "metadata": {},
   "source": [
    "# Praat TextGrid Data\n",
    "\n",
    "- Module: [praatio](https://pypi.org/project/praatio/)\n",
    "- Tutorial: [PraatIO-Doing Speech Analysis with Python](https://nbviewer.jupyter.org/github/timmahrt/praatIO/blob/master/tutorials/tutorial1_intro_to_praatio.ipynb)"
   ]
  },
  {
   "cell_type": "code",
   "execution_count": 1,
   "metadata": {},
   "outputs": [],
   "source": [
    "from praatio import tgio\n",
    "tg = tgio.openTextgrid('../../../Projects/MOST-Prosody/data/2014_di702_TextGrid_Alvin/di_001.TextGrid')"
   ]
  },
  {
   "cell_type": "code",
   "execution_count": 2,
   "metadata": {},
   "outputs": [
    {
     "data": {
      "text/plain": [
       "{'DU': <praatio.tgio.IntervalTier at 0x7f9890423518>,\n",
       " 'PU': <praatio.tgio.IntervalTier at 0x7f98c0f3db00>,\n",
       " 'Hanzi': <praatio.tgio.IntervalTier at 0x7f98c0f3a208>,\n",
       " 'Word': <praatio.tgio.IntervalTier at 0x7f98c0f3a470>,\n",
       " 'POS': <praatio.tgio.IntervalTier at 0x7f98c0f3a748>,\n",
       " 'Syllable': <praatio.tgio.IntervalTier at 0x7f9890423198>}"
      ]
     },
     "execution_count": 2,
     "metadata": {},
     "output_type": "execute_result"
    }
   ],
   "source": [
    "tg.tierDict"
   ]
  },
  {
   "cell_type": "code",
   "execution_count": 3,
   "metadata": {},
   "outputs": [
    {
     "data": {
      "text/plain": [
       "[Interval(start=0.0, end=0.08910100003511151, label='SILENCE'),\n",
       " Interval(start=0.08910100003511151, end=2.545392639802688, label='001-01'),\n",
       " Interval(start=2.545392639802688, end=2.827885181500808, label='INHALE'),\n",
       " Interval(start=2.827885181500808, end=3.796965181500808, label='001-02'),\n",
       " Interval(start=3.796965181500808, end=4.0534851815008075, label='001-03'),\n",
       " Interval(start=4.0534851815008075, end=5.667585181500808, label='001-04'),\n",
       " Interval(start=5.667585181500808, end=6.857576537125045, label='001-05'),\n",
       " Interval(start=6.857576537125045, end=7.267132404585203, label='INHALE'),\n",
       " Interval(start=7.267132404585203, end=8.307932404585202, label='001-06'),\n",
       " Interval(start=8.307932404585202, end=9.189732404585204, label='001-07'),\n",
       " Interval(start=9.189732404585204, end=9.586900772653916, label='001-08'),\n",
       " Interval(start=9.586900772653916, end=9.72222249424322, label='BREAK'),\n",
       " Interval(start=9.72222249424322, end=10.896550071849948, label='001-09'),\n",
       " Interval(start=10.896550071849948, end=11.253792659155748, label='INHALE'),\n",
       " Interval(start=11.253792659155748, end=12.072532659155748, label='001-10'),\n",
       " Interval(start=12.072532659155748, end=12.529592659155748, label='001-11'),\n",
       " Interval(start=12.529592659155748, end=13.493012631305778, label='001-12'),\n",
       " Interval(start=13.493012631305778, end=14.002673795348752, label='INHALE'),\n",
       " Interval(start=14.002673795348752, end=15.546373795348751, label='001-13'),\n",
       " Interval(start=15.546373795348751, end=16.905172445406897, label='001-14'),\n",
       " Interval(start=16.905172445406897, end=17.333458754946722, label='BREAK'),\n",
       " Interval(start=17.333458754946722, end=17.814973694535343, label='001-15'),\n",
       " Interval(start=17.814973694535343, end=18.6811750044612, label='001-16'),\n",
       " Interval(start=18.6811750044612, end=18.788004535147394, label='SILENCE')]"
      ]
     },
     "execution_count": 3,
     "metadata": {},
     "output_type": "execute_result"
    }
   ],
   "source": [
    "# get all intervals\n",
    "tg.tierDict['PU'].entryList"
   ]
  },
  {
   "cell_type": "code",
   "execution_count": 4,
   "metadata": {},
   "outputs": [
    {
     "data": {
      "text/plain": [
       "[Interval(start=0.0, end=0.08910100003511151, label='SILENCE'),\n",
       " Interval(start=0.08910100003511151, end=0.8030583475894366, label='南港'),\n",
       " Interval(start=0.8030583475894366, end=1.4300964566345282, label='過去'),\n",
       " Interval(start=1.4300964566345282, end=1.6983112476321507, label='的'),\n",
       " Interval(start=1.6983112476321507, end=2.545392639802688, label='話'),\n",
       " Interval(start=2.545392639802688, end=2.827885181500808, label='INHALE'),\n",
       " Interval(start=2.827885181500808, end=2.894020472246423, label='我'),\n",
       " Interval(start=2.894020472246423, end=3.073005181500808, label='就'),\n",
       " Interval(start=3.073005181500808, end=3.38547756708703, label='比較'),\n",
       " Interval(start=3.38547756708703, end=3.4684488581941855, label='不'),\n",
       " Interval(start=3.4684488581941855, end=3.796965181500808, label='清楚'),\n",
       " Interval(start=3.796965181500808, end=3.9740698058745503, label='像'),\n",
       " Interval(start=3.9740698058745503, end=4.0534851815008075, label='UNCERTAIN'),\n",
       " Interval(start=4.0534851815008075, end=4.260025476170655, label='我'),\n",
       " Interval(start=4.260025476170655, end=4.455985181500808, label='每'),\n",
       " Interval(start=4.455985181500808, end=4.6733324608007285, label='天'),\n",
       " Interval(start=4.6733324608007285, end=5.1662851815008075, label='上班'),\n",
       " Interval(start=5.1662851815008075, end=5.321504689041388, label='是'),\n",
       " Interval(start=5.321504689041388, end=5.667585181500808, label='從'),\n",
       " Interval(start=5.667585181500808, end=6.018412388059074, label='捷運'),\n",
       " Interval(start=6.018412388059074, end=6.549597723575854, label='永春'),\n",
       " Interval(start=6.549597723575854, end=6.857576537125045, label='站'),\n",
       " Interval(start=6.857576537125045, end=7.267132404585203, label='INHALE'),\n",
       " Interval(start=7.267132404585203, end=7.4823724045852025, label='搭'),\n",
       " Interval(start=7.4823724045852025, end=8.307932404585202, label='捷運'),\n",
       " Interval(start=8.307932404585202, end=8.546352955764087, label='到'),\n",
       " Interval(start=8.546352955764087, end=9.189732404585204, label='NE GE'),\n",
       " Interval(start=9.189732404585204, end=9.586900772653916, label='捷運'),\n",
       " Interval(start=9.586900772653916, end=9.72222249424322, label='BREAK'),\n",
       " Interval(start=9.72222249424322, end=10.066174868235244, label='忠孝'),\n",
       " Interval(start=10.066174868235244, end=10.62507065477828, label='復興'),\n",
       " Interval(start=10.62507065477828, end=10.896550071849948, label='站'),\n",
       " Interval(start=10.896550071849948, end=11.253792659155748, label='INHALE'),\n",
       " Interval(start=11.253792659155748, end=11.507412659155747, label='再'),\n",
       " Interval(start=11.507412659155747, end=12.072532659155748, label='轉'),\n",
       " Interval(start=12.072532659155748, end=12.529592659155748, label='NE GE'),\n",
       " Interval(start=12.529592659155748, end=13.493012631305778, label='木柵線'),\n",
       " Interval(start=13.493012631305778, end=14.002673795348752, label='INHALE'),\n",
       " Interval(start=14.002673795348752, end=14.190468411637928, label='到'),\n",
       " Interval(start=14.190468411637928, end=14.56504394461461, label='南京'),\n",
       " Interval(start=14.56504394461461, end=14.761767837630165, label='站'),\n",
       " Interval(start=14.761767837630165, end=15.546373795348751, label='下車'),\n",
       " Interval(start=15.546373795348751, end=15.772873795348751, label='再'),\n",
       " Interval(start=15.772873795348751, end=15.926809885128144, label='搭'),\n",
       " Interval(start=15.926809885128144, end=16.025073795348753, label='一'),\n",
       " Interval(start=16.025073795348753, end=16.33847379534875, label='程'),\n",
       " Interval(start=16.33847379534875, end=16.905172445406897, label='公車'),\n",
       " Interval(start=16.905172445406897, end=17.333458754946722, label='BREAK'),\n",
       " Interval(start=17.333458754946722, end=17.498171747880015, label='到'),\n",
       " Interval(start=17.498171747880015, end=17.814973694535343, label='NE GE'),\n",
       " Interval(start=17.814973694535343, end=18.415958754946722, label='建國北路'),\n",
       " Interval(start=18.415958754946722, end=18.6811750044612, label='口'),\n",
       " Interval(start=18.6811750044612, end=18.788004535147394, label='SILENCE')]"
      ]
     },
     "execution_count": 4,
     "metadata": {},
     "output_type": "execute_result"
    }
   ],
   "source": [
    "tg.tierDict['Word'].entryList"
   ]
  },
  {
   "cell_type": "code",
   "execution_count": 5,
   "metadata": {},
   "outputs": [
    {
     "data": {
      "text/plain": [
       "[6, 13]"
      ]
     },
     "execution_count": 5,
     "metadata": {},
     "output_type": "execute_result"
    }
   ],
   "source": [
    "tg.tierDict['Word'].find('我')"
   ]
  },
  {
   "cell_type": "code",
   "execution_count": 6,
   "metadata": {},
   "outputs": [],
   "source": [
    "\n",
    "\n",
    "import pandas as pd\n",
    "word_tier = tg.tierDict['Word']\n",
    "pd.DataFrame([(start, end, label) for (start, end, label) in word_tier.entryList],\n",
    "            columns = ['start','end','label'])\n"
   ]
  },
  {
   "cell_type": "code",
   "execution_count": 21,
   "metadata": {},
   "outputs": [
    {
     "data": {
      "text/html": [
       "<div>\n",
       "<style scoped>\n",
       "    .dataframe tbody tr th:only-of-type {\n",
       "        vertical-align: middle;\n",
       "    }\n",
       "\n",
       "    .dataframe tbody tr th {\n",
       "        vertical-align: top;\n",
       "    }\n",
       "\n",
       "    .dataframe thead th {\n",
       "        text-align: right;\n",
       "    }\n",
       "</style>\n",
       "<table border=\"1\" class=\"dataframe\">\n",
       "  <thead>\n",
       "    <tr style=\"text-align: right;\">\n",
       "      <th></th>\n",
       "      <th>start</th>\n",
       "      <th>end</th>\n",
       "      <th>label</th>\n",
       "    </tr>\n",
       "  </thead>\n",
       "  <tbody>\n",
       "    <tr>\n",
       "      <th>0</th>\n",
       "      <td>0.000000</td>\n",
       "      <td>0.089101</td>\n",
       "      <td>SILENCE</td>\n",
       "    </tr>\n",
       "    <tr>\n",
       "      <th>1</th>\n",
       "      <td>0.089101</td>\n",
       "      <td>2.545393</td>\n",
       "      <td>001-01</td>\n",
       "    </tr>\n",
       "    <tr>\n",
       "      <th>2</th>\n",
       "      <td>2.545393</td>\n",
       "      <td>2.827885</td>\n",
       "      <td>INHALE</td>\n",
       "    </tr>\n",
       "    <tr>\n",
       "      <th>3</th>\n",
       "      <td>2.827885</td>\n",
       "      <td>3.796965</td>\n",
       "      <td>001-02</td>\n",
       "    </tr>\n",
       "    <tr>\n",
       "      <th>4</th>\n",
       "      <td>3.796965</td>\n",
       "      <td>4.053485</td>\n",
       "      <td>001-03</td>\n",
       "    </tr>\n",
       "    <tr>\n",
       "      <th>5</th>\n",
       "      <td>4.053485</td>\n",
       "      <td>5.667585</td>\n",
       "      <td>001-04</td>\n",
       "    </tr>\n",
       "    <tr>\n",
       "      <th>6</th>\n",
       "      <td>5.667585</td>\n",
       "      <td>6.857577</td>\n",
       "      <td>001-05</td>\n",
       "    </tr>\n",
       "    <tr>\n",
       "      <th>7</th>\n",
       "      <td>6.857577</td>\n",
       "      <td>7.267132</td>\n",
       "      <td>INHALE</td>\n",
       "    </tr>\n",
       "    <tr>\n",
       "      <th>8</th>\n",
       "      <td>7.267132</td>\n",
       "      <td>8.307932</td>\n",
       "      <td>001-06</td>\n",
       "    </tr>\n",
       "    <tr>\n",
       "      <th>9</th>\n",
       "      <td>8.307932</td>\n",
       "      <td>9.189732</td>\n",
       "      <td>001-07</td>\n",
       "    </tr>\n",
       "    <tr>\n",
       "      <th>10</th>\n",
       "      <td>9.189732</td>\n",
       "      <td>9.586901</td>\n",
       "      <td>001-08</td>\n",
       "    </tr>\n",
       "    <tr>\n",
       "      <th>11</th>\n",
       "      <td>9.586901</td>\n",
       "      <td>9.722222</td>\n",
       "      <td>BREAK</td>\n",
       "    </tr>\n",
       "    <tr>\n",
       "      <th>12</th>\n",
       "      <td>9.722222</td>\n",
       "      <td>10.896550</td>\n",
       "      <td>001-09</td>\n",
       "    </tr>\n",
       "    <tr>\n",
       "      <th>13</th>\n",
       "      <td>10.896550</td>\n",
       "      <td>11.253793</td>\n",
       "      <td>INHALE</td>\n",
       "    </tr>\n",
       "    <tr>\n",
       "      <th>14</th>\n",
       "      <td>11.253793</td>\n",
       "      <td>12.072533</td>\n",
       "      <td>001-10</td>\n",
       "    </tr>\n",
       "    <tr>\n",
       "      <th>15</th>\n",
       "      <td>12.072533</td>\n",
       "      <td>12.529593</td>\n",
       "      <td>001-11</td>\n",
       "    </tr>\n",
       "    <tr>\n",
       "      <th>16</th>\n",
       "      <td>12.529593</td>\n",
       "      <td>13.493013</td>\n",
       "      <td>001-12</td>\n",
       "    </tr>\n",
       "    <tr>\n",
       "      <th>17</th>\n",
       "      <td>13.493013</td>\n",
       "      <td>14.002674</td>\n",
       "      <td>INHALE</td>\n",
       "    </tr>\n",
       "    <tr>\n",
       "      <th>18</th>\n",
       "      <td>14.002674</td>\n",
       "      <td>15.546374</td>\n",
       "      <td>001-13</td>\n",
       "    </tr>\n",
       "    <tr>\n",
       "      <th>19</th>\n",
       "      <td>15.546374</td>\n",
       "      <td>16.905172</td>\n",
       "      <td>001-14</td>\n",
       "    </tr>\n",
       "    <tr>\n",
       "      <th>20</th>\n",
       "      <td>16.905172</td>\n",
       "      <td>17.333459</td>\n",
       "      <td>BREAK</td>\n",
       "    </tr>\n",
       "    <tr>\n",
       "      <th>21</th>\n",
       "      <td>17.333459</td>\n",
       "      <td>17.814974</td>\n",
       "      <td>001-15</td>\n",
       "    </tr>\n",
       "    <tr>\n",
       "      <th>22</th>\n",
       "      <td>17.814974</td>\n",
       "      <td>18.681175</td>\n",
       "      <td>001-16</td>\n",
       "    </tr>\n",
       "    <tr>\n",
       "      <th>23</th>\n",
       "      <td>18.681175</td>\n",
       "      <td>18.788005</td>\n",
       "      <td>SILENCE</td>\n",
       "    </tr>\n",
       "  </tbody>\n",
       "</table>\n",
       "</div>"
      ],
      "text/plain": [
       "        start        end    label\n",
       "0    0.000000   0.089101  SILENCE\n",
       "1    0.089101   2.545393   001-01\n",
       "2    2.545393   2.827885   INHALE\n",
       "3    2.827885   3.796965   001-02\n",
       "4    3.796965   4.053485   001-03\n",
       "5    4.053485   5.667585   001-04\n",
       "6    5.667585   6.857577   001-05\n",
       "7    6.857577   7.267132   INHALE\n",
       "8    7.267132   8.307932   001-06\n",
       "9    8.307932   9.189732   001-07\n",
       "10   9.189732   9.586901   001-08\n",
       "11   9.586901   9.722222    BREAK\n",
       "12   9.722222  10.896550   001-09\n",
       "13  10.896550  11.253793   INHALE\n",
       "14  11.253793  12.072533   001-10\n",
       "15  12.072533  12.529593   001-11\n",
       "16  12.529593  13.493013   001-12\n",
       "17  13.493013  14.002674   INHALE\n",
       "18  14.002674  15.546374   001-13\n",
       "19  15.546374  16.905172   001-14\n",
       "20  16.905172  17.333459    BREAK\n",
       "21  17.333459  17.814974   001-15\n",
       "22  17.814974  18.681175   001-16\n",
       "23  18.681175  18.788005  SILENCE"
      ]
     },
     "execution_count": 21,
     "metadata": {},
     "output_type": "execute_result"
    }
   ],
   "source": [
    "pu_tier = tg.tierDict['PU']\n",
    "pd.DataFrame([(start, end, label) for (start, end, label) in pu_tier.entryList],\n",
    "            columns = ['start','end','label'])\n"
   ]
  }
 ],
 "metadata": {
  "kernelspec": {
   "display_name": "ckiptagger",
   "language": "python",
   "name": "ckiptagger"
  },
  "language_info": {
   "codemirror_mode": {
    "name": "ipython",
    "version": 3
   },
   "file_extension": ".py",
   "mimetype": "text/x-python",
   "name": "python",
   "nbconvert_exporter": "python",
   "pygments_lexer": "ipython3",
   "version": "3.6.12"
  }
 },
 "nbformat": 4,
 "nbformat_minor": 4
}