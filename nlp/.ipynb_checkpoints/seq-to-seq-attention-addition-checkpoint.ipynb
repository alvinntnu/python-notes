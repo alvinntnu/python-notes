{
 "cells": [
  {
   "cell_type": "markdown",
   "metadata": {
    "id": "Xs39Dske1RXR"
   },
   "source": [
    "# Seqeunce Model with Attention for Addition Learning\n",
    "\n",
    "- Use seq-to-seq model to learn mathematical addition based on data\n",
    "- This is based on Chapter 7 of [Deep Learning 2用 Python 進行自然語言處理的基礎理論實作](https://www.tenlong.com.tw/products/9789865020675).\n",
    "- Bahdanau Attention Layber developed in [Thushan](https://github.com/thushv89/attention_keras)\n",
    "- Thushan Ganegedara's\n",
    "[Attention in Deep Networks with Keras](https://towardsdatascience.com/light-on-math-ml-attention-with-keras-dc8dbc1fad39)"
   ]
  },
  {
   "cell_type": "code",
   "execution_count": 4,
   "metadata": {
    "colab": {
     "base_uri": "https://localhost:8080/"
    },
    "executionInfo": {
     "elapsed": 904,
     "status": "ok",
     "timestamp": 1604295181395,
     "user": {
      "displayName": "Alvin Chen",
      "photoUrl": "",
      "userId": "12962786962925949010"
     },
     "user_tz": -480
    },
    "id": "en-5vhhf1bcX",
    "outputId": "8ff7eff6-77b5-4f46-ca51-8da18c99f8e4"
   },
   "outputs": [
    {
     "name": "stdout",
     "output_type": "stream",
     "text": [
      "Drive already mounted at /content/drive; to attempt to forcibly remount, call drive.mount(\"/content/drive\", force_remount=True).\n"
     ]
    }
   ],
   "source": [
    "from google.colab import drive\n",
    "drive.mount('/content/drive')"
   ]
  },
  {
   "cell_type": "code",
   "execution_count": 5,
   "metadata": {
    "executionInfo": {
     "elapsed": 897,
     "status": "ok",
     "timestamp": 1604295181396,
     "user": {
      "displayName": "Alvin Chen",
      "photoUrl": "",
      "userId": "12962786962925949010"
     },
     "user_tz": -480
    },
    "id": "n0q4MgpC21qT"
   },
   "outputs": [],
   "source": [
    "import os\n",
    "os.chdir('/content/drive/My Drive/_MySyncDrive/Repository/python-notes/nlp')"
   ]
  },
  {
   "cell_type": "code",
   "execution_count": 6,
   "metadata": {
    "colab": {
     "base_uri": "https://localhost:8080/",
     "height": 35
    },
    "executionInfo": {
     "elapsed": 890,
     "status": "ok",
     "timestamp": 1604295181397,
     "user": {
      "displayName": "Alvin Chen",
      "photoUrl": "",
      "userId": "12962786962925949010"
     },
     "user_tz": -480
    },
    "id": "bGkO78wv3GGc",
    "outputId": "750f56eb-297b-4d35-d3e1-906d2b1fc86b"
   },
   "outputs": [
    {
     "data": {
      "application/vnd.google.colaboratory.intrinsic+json": {
       "type": "string"
      },
      "text/plain": [
       "'/content/drive/My Drive/_MySyncDrive/Repository/python-notes/nlp'"
      ]
     },
     "execution_count": 6,
     "metadata": {
      "tags": []
     },
     "output_type": "execute_result"
    }
   ],
   "source": [
    "%pwd"
   ]
  },
  {
   "cell_type": "markdown",
   "metadata": {
    "id": "1a6l96PQ1RXS"
   },
   "source": [
    "## Functions"
   ]
  },
  {
   "cell_type": "code",
   "execution_count": 7,
   "metadata": {
    "executionInfo": {
     "elapsed": 2429,
     "status": "ok",
     "timestamp": 1604295182944,
     "user": {
      "displayName": "Alvin Chen",
      "photoUrl": "",
      "userId": "12962786962925949010"
     },
     "user_tz": -480
    },
    "id": "93dDeBY41RXT"
   },
   "outputs": [],
   "source": [
    "import re\n",
    "import keras\n",
    "from keras.preprocessing.sequence import pad_sequences\n",
    "from keras.models import Model\n",
    "from keras.layers import Input, LSTM, Dense, GRU\n",
    "import numpy as np\n",
    "from random import randint\n",
    "from numpy import array\n",
    "from numpy import argmax\n",
    "from numpy import array_equal\n",
    "from keras import Model\n",
    "from keras.models import Sequential\n",
    "from keras.layers import LSTM, GRU, Concatenate\n",
    "from keras.layers import Attention\n",
    "from keras.layers import Dense\n",
    "from keras.layers import TimeDistributed\n",
    "from keras.layers import RepeatVector\n",
    "from keras import Input\n",
    "from attention import AttentionLayer\n",
    "from keras.utils import to_categorical\n",
    "\n",
    "\n",
    "# Path to the data txt file on disk.\n",
    "def get_data(data_path, train_test = 0.9):\n",
    "    data_path = '../../../RepositoryData/data/deep-learning-2/addition.txt'\n",
    "    with open(data_path, 'r', encoding='utf-8') as f:\n",
    "        lines = f.read().split('\\n')\n",
    "\n",
    "    enc_text=[l.split('_')[0] for l in lines]\n",
    "    dec_text=[l.split('_')[-1].strip() for l in lines]\n",
    "\n",
    "    dec_text = ['_' + sent + '_' for sent in dec_text]\n",
    "    \n",
    "    np.random.seed(123)\n",
    "    inds = np.arange(len(enc_text))\n",
    "    np.random.shuffle(inds)\n",
    "        \n",
    "    train_size = int(round(len(lines)*train_test))\n",
    "    train_inds = inds[:train_size]\n",
    "    test_inds = inds[train_size:]\n",
    "    tr_enc_text = [enc_text[ti] for ti in train_inds]\n",
    "    tr_dec_text = [dec_text[ti] for ti in train_inds]\n",
    "\n",
    "    ts_enc_text = [enc_text[ti] for ti in test_inds]\n",
    "    ts_dec_text = [dec_text[ti] for ti in test_inds]\n",
    "    \n",
    "    return tr_enc_text, tr_dec_text, ts_enc_text, ts_dec_text\n",
    "\n",
    "\n",
    "## when the max_len is known, use this func to convert text to seq\n",
    "def sents2sequences(tokenizer, sentences, reverse=False, pad_length=None, padding_type='post'):\n",
    "    encoded_text = tokenizer.texts_to_sequences(sentences)\n",
    "    preproc_text = pad_sequences(encoded_text, padding=padding_type, maxlen=pad_length)\n",
    "    if reverse:\n",
    "        preproc_text = np.flip(preproc_text, axis=1)\n",
    "    return preproc_text\n",
    "\n",
    "\n",
    "\n",
    "def preprocess_data(enc_tokenizer, dec_tokenizer, enc_text, dec_text):\n",
    "    enc_seq = enc_tokenizer.texts_to_sequences(tr_enc_text)\n",
    "    enc_timesteps = np.max([len(l) for l in enc_seq])\n",
    "    enc_seq = pad_sequences(enc_seq, padding='post', maxlen = enc_timesteps)\n",
    "    dec_seq = dec_tokenizer.texts_to_sequences(tr_dec_text)\n",
    "    dec_timesteps = np.max([len(l) for l in dec_seq])\n",
    "    dec_seq = pad_sequences(dec_seq, padding='post', maxlen = dec_timesteps)\n",
    "    return enc_seq, dec_seq"
   ]
  },
  {
   "cell_type": "code",
   "execution_count": 8,
   "metadata": {
    "executionInfo": {
     "elapsed": 2426,
     "status": "ok",
     "timestamp": 1604295182946,
     "user": {
      "displayName": "Alvin Chen",
      "photoUrl": "",
      "userId": "12962786962925949010"
     },
     "user_tz": -480
    },
    "id": "4iOdp6C31RXX"
   },
   "outputs": [],
   "source": [
    "def define_nmt(hidden_size, batch_size, enc_timesteps, enc_vsize, dec_timesteps, dec_vsize):\n",
    "    \"\"\" Defining a NMT model \"\"\"\n",
    "\n",
    "    # Define an input sequence and process it.\n",
    "    if batch_size:\n",
    "        encoder_inputs = Input(batch_shape=(batch_size, enc_timesteps, enc_vsize), name='encoder_inputs')\n",
    "        decoder_inputs = Input(batch_shape=(batch_size, dec_timesteps - 1, dec_vsize), name='decoder_inputs')\n",
    "    else:\n",
    "        encoder_inputs = Input(shape=(enc_timesteps, enc_vsize), name='encoder_inputs')\n",
    "        if fr_timesteps:\n",
    "            decoder_inputs = Input(shape=(dec_timesteps - 1, dec_vsize), name='decoder_inputs')\n",
    "        else:\n",
    "            decoder_inputs = Input(shape=(None, dec_vsize), name='decoder_inputs')\n",
    "\n",
    "    # Encoder GRU\n",
    "    encoder_gru = GRU(hidden_size, return_sequences=True, return_state=True, name='encoder_gru')\n",
    "    encoder_out, encoder_state = encoder_gru(encoder_inputs)\n",
    "\n",
    "    # Set up the decoder GRU, using `encoder_states` as initial state.\n",
    "    decoder_gru = GRU(hidden_size, return_sequences=True, return_state=True, name='decoder_gru')\n",
    "    decoder_out, decoder_state = decoder_gru(decoder_inputs, initial_state=encoder_state)\n",
    "\n",
    "    # Attention layer\n",
    "    attn_layer = AttentionLayer(name='attention_layer')\n",
    "    attn_out, attn_states = attn_layer([encoder_out, decoder_out])\n",
    "\n",
    "    # Concat attention input and decoder GRU output\n",
    "    decoder_concat_input = Concatenate(axis=-1, name='concat_layer')([decoder_out, attn_out])\n",
    "\n",
    "    # Dense layer\n",
    "    dense = Dense(dec_vsize, activation='softmax', name='softmax_layer')\n",
    "    dense_time = TimeDistributed(dense, name='time_distributed_layer')\n",
    "    decoder_pred = dense_time(decoder_concat_input)\n",
    "\n",
    "    # Full model\n",
    "    full_model = Model(inputs=[encoder_inputs, decoder_inputs], outputs=decoder_pred)\n",
    "    full_model.compile(optimizer='adam', loss='categorical_crossentropy', metrics=['accuracy'])\n",
    "\n",
    "    full_model.summary()\n",
    "\n",
    "    \"\"\" Inference model \"\"\"\n",
    "    batch_size = 1\n",
    "\n",
    "    \"\"\" Encoder (Inference) model \"\"\"\n",
    "    encoder_inf_inputs = Input(batch_shape=(batch_size, enc_timesteps, enc_vsize), name='encoder_inf_inputs')\n",
    "    encoder_inf_out, encoder_inf_state = encoder_gru(encoder_inf_inputs)\n",
    "    encoder_model = Model(inputs=encoder_inf_inputs, outputs=[encoder_inf_out, encoder_inf_state])\n",
    "\n",
    "    \"\"\" Decoder (Inference) model \"\"\"\n",
    "    decoder_inf_inputs = Input(batch_shape=(batch_size, 1, dec_vsize), name='decoder_word_inputs')\n",
    "    encoder_inf_states = Input(batch_shape=(batch_size, enc_timesteps, hidden_size), name='encoder_inf_states')\n",
    "    decoder_init_state = Input(batch_shape=(batch_size, hidden_size), name='decoder_init')\n",
    "\n",
    "    decoder_inf_out, decoder_inf_state = decoder_gru(decoder_inf_inputs, initial_state=decoder_init_state)\n",
    "    attn_inf_out, attn_inf_states = attn_layer([encoder_inf_states, decoder_inf_out])\n",
    "    decoder_inf_concat = Concatenate(axis=-1, name='concat')([decoder_inf_out, attn_inf_out])\n",
    "    decoder_inf_pred = TimeDistributed(dense)(decoder_inf_concat)\n",
    "    decoder_model = Model(inputs=[encoder_inf_states, decoder_init_state, decoder_inf_inputs],\n",
    "                          outputs=[decoder_inf_pred, attn_inf_states, decoder_inf_state])\n",
    "\n",
    "    return full_model, encoder_model, decoder_model\n",
    "\n",
    "def train(full_model, enc_seq, dec_seq, batch_size, n_epochs=10):\n",
    "    \"\"\" Training the model \"\"\"\n",
    "    loss_epoch = []\n",
    "    accuracy_epoch = []\n",
    "    for ep in range(n_epochs):\n",
    "        losses = []\n",
    "        accuracies = []\n",
    "        for bi in range(0, enc_seq.shape[0] - batch_size, batch_size):\n",
    "\n",
    "            enc_onehot_seq = to_categorical(\n",
    "                enc_seq[bi:bi + batch_size, :], num_classes=enc_vsize)\n",
    "            dec_onehot_seq = to_categorical(\n",
    "                dec_seq[bi:bi + batch_size, :], num_classes=dec_vsize)\n",
    "\n",
    "            full_model.train_on_batch(\n",
    "                [enc_onehot_seq, dec_onehot_seq[:, :-1, :]], dec_onehot_seq[:, 1:, :])\n",
    "\n",
    "            l,a = full_model.evaluate([enc_onehot_seq, dec_onehot_seq[:, :-1, :]], dec_onehot_seq[:, 1:, :],\n",
    "                                    batch_size=batch_size, verbose=0)\n",
    "\n",
    "            losses.append(l)\n",
    "            accuracies.append(a)\n",
    "        if (ep + 1) % 1 == 0:\n",
    "            print(\"Loss/Accuracy in epoch {}: {}/{}\".format(ep + 1, np.mean(losses), np.mean(accuracies)))\n",
    "            loss_epoch.append(np.mean(losses))\n",
    "            accuracy_epoch.append(np.mean(accuracies))\n",
    "    return loss_epoch, accuracy_epoch\n",
    "\n",
    "\n",
    "def infer_nmt(encoder_model, decoder_model, test_enc_seq, enc_vsize, dec_vsize, dec_timesteps):\n",
    "    \"\"\"\n",
    "    Infer logic\n",
    "    :param encoder_model: keras.Model\n",
    "    :param decoder_model: keras.Model\n",
    "    :param test_en_seq: sequence of word ids\n",
    "    :param en_vsize: int\n",
    "    :param fr_vsize: int\n",
    "    :return:\n",
    "    \"\"\"\n",
    "\n",
    "    test_dec_seq = sents2sequences(dec_tokenizer, ['_'], dec_vsize)\n",
    "    test_enc_onehot_seq = to_categorical(test_enc_seq, num_classes=enc_vsize)\n",
    "    test_dec_onehot_seq = np.expand_dims(\n",
    "        to_categorical(test_dec_seq, num_classes=dec_vsize), 1)\n",
    "\n",
    "    enc_outs, enc_last_state = encoder_model.predict(test_enc_onehot_seq)\n",
    "    dec_state = enc_last_state\n",
    "    attention_weights = []\n",
    "    dec_text = ''\n",
    "    for i in range(dec_timesteps):\n",
    "\n",
    "        dec_out, attention, dec_state = decoder_model.predict(\n",
    "            [enc_outs, dec_state, test_dec_onehot_seq])\n",
    "        dec_ind = np.argmax(dec_out, axis=-1)[0, 0]\n",
    "\n",
    "        if dec_ind == 0:\n",
    "            break\n",
    "        test_dec_seq = sents2sequences(\n",
    "            dec_tokenizer, [dec_index2word[dec_ind]], dec_vsize)\n",
    "        test_dec_onehot_seq = np.expand_dims(\n",
    "            to_categorical(test_dec_seq, num_classes=dec_vsize), 1)\n",
    "\n",
    "        attention_weights.append((dec_ind, attention))\n",
    "        dec_text += dec_index2word[dec_ind]\n",
    "\n",
    "    return dec_text, attention_weights\n"
   ]
  },
  {
   "cell_type": "code",
   "execution_count": 9,
   "metadata": {
    "executionInfo": {
     "elapsed": 2420,
     "status": "ok",
     "timestamp": 1604295182946,
     "user": {
      "displayName": "Alvin Chen",
      "photoUrl": "",
      "userId": "12962786962925949010"
     },
     "user_tz": -480
    },
    "id": "ekT96bwH1RXb"
   },
   "outputs": [],
   "source": [
    "import matplotlib.pyplot as plt\n",
    "plt.rcParams['font.sans-serif']=[\"PingFang HK\"]\n",
    "def plot_attention_weights(encoder_inputs, attention_weights, enc_id2word, dec_id2word, filename=None):\n",
    "    \"\"\"\n",
    "    Plots attention weights\n",
    "    :param encoder_inputs: Sequence of word ids (list/numpy.ndarray)\n",
    "    :param attention_weights: Sequence of (<word_id_at_decode_step_t>:<attention_weights_at_decode_step_t>)\n",
    "    :param en_id2word: dict\n",
    "    :param fr_id2word: dict\n",
    "    :return:\n",
    "    \"\"\"\n",
    "\n",
    "    if len(attention_weights) == 0:\n",
    "        print('Your attention weights was empty. No attention map saved to the disk. ' +\n",
    "              '\\nPlease check if the decoder produced  a proper translation')\n",
    "        return\n",
    "\n",
    "    mats = []\n",
    "    dec_inputs = []\n",
    "    for dec_ind, attn in attention_weights:\n",
    "        mats.append(attn.reshape(-1))\n",
    "        dec_inputs.append(dec_ind)\n",
    "    attention_mat = np.transpose(np.array(mats))\n",
    "\n",
    "    fig, ax = plt.subplots(figsize=(32, 32))\n",
    "    ax.imshow(attention_mat)\n",
    "\n",
    "    ax.set_xticks(np.arange(attention_mat.shape[1]))\n",
    "    ax.set_yticks(np.arange(attention_mat.shape[0]))\n",
    "\n",
    "    ax.set_xticklabels([dec_id2word[inp] if inp != 0 else \"<Res>\" for inp in dec_inputs])\n",
    "    ax.set_yticklabels([enc_id2word[inp] if inp != 0 else \"<Res>\" for inp in encoder_inputs.ravel()])\n",
    "\n",
    "    ax.tick_params(labelsize=32)\n",
    "    ax.tick_params(axis='x', labelrotation=90)\n",
    "\n",
    "#     if not os.path.exists(config.RESULTS_DIR):\n",
    "#         os.mkdir(config.RESULTS_DIR)\n",
    "#     if filename is None:\n",
    "#         plt.savefig( 'attention.png'))\n",
    "#     else:\n",
    "#         plt.savefig(os.path.join(config.RESULTS_DIR, '{}'.format(filename)))"
   ]
  },
  {
   "cell_type": "markdown",
   "metadata": {
    "id": "R7bx-mx71RXe"
   },
   "source": [
    "## Main Program"
   ]
  },
  {
   "cell_type": "markdown",
   "metadata": {
    "id": "9zQxZYUx1RXf"
   },
   "source": [
    "### Data Wrangling and Training"
   ]
  },
  {
   "cell_type": "code",
   "execution_count": 10,
   "metadata": {
    "executionInfo": {
     "elapsed": 3394,
     "status": "ok",
     "timestamp": 1604295183926,
     "user": {
      "displayName": "Alvin Chen",
      "photoUrl": "",
      "userId": "12962786962925949010"
     },
     "user_tz": -480
    },
    "id": "gmfdApDw1RXf"
   },
   "outputs": [],
   "source": [
    "#### hyperparameters\n",
    "batch_size = 128\n",
    "hidden_size = 256\n",
    "n_epochs = 50\n",
    "\n",
    "### Get data\n",
    "tr_enc_text, tr_dec_text, ts_enc_text, ts_dec_text = get_data(data_path='../../../RepositoryData/data/deep-learning-2/addition.txt')\n",
    "\n",
    "# \"\"\" Defining tokenizers \"\"\"\n",
    "enc_tokenizer = keras.preprocessing.text.Tokenizer(oov_token='UNK', char_level=True)\n",
    "enc_tokenizer.fit_on_texts(tr_enc_text)\n",
    "\n",
    "dec_tokenizer = keras.preprocessing.text.Tokenizer(oov_token='UNK', char_level=True)\n",
    "dec_tokenizer.fit_on_texts(tr_dec_text)\n",
    "\n",
    "# ### Getting sequence integer data\n",
    "enc_seq, dec_seq = preprocess_data(enc_tokenizer, dec_tokenizer, tr_enc_text, tr_dec_text)\n",
    "\n",
    "# ### timestesps\n",
    "enc_timesteps = enc_seq.shape[1]\n",
    "dec_timesteps = dec_seq.shape[1]\n",
    "\n",
    "# ### vocab size\n",
    "enc_vsize = max(enc_tokenizer.index_word.keys()) + 1\n",
    "dec_vsize = max(dec_tokenizer.index_word.keys()) + 1\n",
    "\n",
    "\n",
    "\n",
    "\n"
   ]
  },
  {
   "cell_type": "code",
   "execution_count": 11,
   "metadata": {
    "colab": {
     "base_uri": "https://localhost:8080/"
    },
    "executionInfo": {
     "elapsed": 3389,
     "status": "ok",
     "timestamp": 1604295183927,
     "user": {
      "displayName": "Alvin Chen",
      "photoUrl": "",
      "userId": "12962786962925949010"
     },
     "user_tz": -480
    },
    "id": "JG2rXnGMVKch",
    "outputId": "5087433b-d973-434b-f1c3-63408d14dadb"
   },
   "outputs": [
    {
     "name": "stdout",
     "output_type": "stream",
     "text": [
      "14\n",
      "13\n",
      "['27+673 ', '153+27 ', '93+901 ', '243+678', '269+46 ']\n",
      "['_700_', '_180_', '_994_', '_921_', '_315_']\n"
     ]
    }
   ],
   "source": [
    "print(enc_vsize)\n",
    "print(dec_vsize)\n",
    "print(tr_enc_text[:5])\n",
    "print(tr_dec_text[:5])"
   ]
  },
  {
   "cell_type": "code",
   "execution_count": 12,
   "metadata": {
    "colab": {
     "base_uri": "https://localhost:8080/"
    },
    "executionInfo": {
     "elapsed": 5601,
     "status": "ok",
     "timestamp": 1604295186147,
     "user": {
      "displayName": "Alvin Chen",
      "photoUrl": "",
      "userId": "12962786962925949010"
     },
     "user_tz": -480
    },
    "id": "DiA0aWsC1RXj",
    "outputId": "3d4e29d3-53c7-4d63-9cfa-c036f33bfb1e"
   },
   "outputs": [
    {
     "name": "stdout",
     "output_type": "stream",
     "text": [
      "Model: \"functional_1\"\n",
      "__________________________________________________________________________________________________\n",
      "Layer (type)                    Output Shape         Param #     Connected to                     \n",
      "==================================================================================================\n",
      "encoder_inputs (InputLayer)     [(128, 7, 14)]       0                                            \n",
      "__________________________________________________________________________________________________\n",
      "decoder_inputs (InputLayer)     [(128, 5, 13)]       0                                            \n",
      "__________________________________________________________________________________________________\n",
      "encoder_gru (GRU)               [(128, 7, 256), (128 208896      encoder_inputs[0][0]             \n",
      "__________________________________________________________________________________________________\n",
      "decoder_gru (GRU)               [(128, 5, 256), (128 208128      decoder_inputs[0][0]             \n",
      "                                                                 encoder_gru[0][1]                \n",
      "__________________________________________________________________________________________________\n",
      "attention_layer (AttentionLayer ((128, 5, 256), (128 131328      encoder_gru[0][0]                \n",
      "                                                                 decoder_gru[0][0]                \n",
      "__________________________________________________________________________________________________\n",
      "concat_layer (Concatenate)      (128, 5, 512)        0           decoder_gru[0][0]                \n",
      "                                                                 attention_layer[0][0]            \n",
      "__________________________________________________________________________________________________\n",
      "time_distributed_layer (TimeDis (128, 5, 13)         6669        concat_layer[0][0]               \n",
      "==================================================================================================\n",
      "Total params: 555,021\n",
      "Trainable params: 555,021\n",
      "Non-trainable params: 0\n",
      "__________________________________________________________________________________________________\n"
     ]
    }
   ],
   "source": [
    "###\"\"\" Defining the full model \"\"\"\n",
    "full_model, infer_enc_model, infer_dec_model = define_nmt(\n",
    "    hidden_size=hidden_size,\n",
    "    batch_size=batch_size,\n",
    "    enc_timesteps=enc_timesteps,\n",
    "    dec_timesteps=dec_timesteps,\n",
    "    enc_vsize=enc_vsize,\n",
    "    dec_vsize=dec_vsize)"
   ]
  },
  {
   "cell_type": "code",
   "execution_count": 13,
   "metadata": {
    "colab": {
     "base_uri": "https://localhost:8080/",
     "height": 644
    },
    "executionInfo": {
     "elapsed": 5596,
     "status": "ok",
     "timestamp": 1604295186150,
     "user": {
      "displayName": "Alvin Chen",
      "photoUrl": "",
      "userId": "12962786962925949010"
     },
     "user_tz": -480
    },
    "id": "Ag_JZSCu1RXn",
    "outputId": "29728877-2411-4e0d-d439-c7619147015c"
   },
   "outputs": [
    {
     "data": {
      "image/png": "[encoded data removed]",
      "text/plain": [
       "<IPython.core.display.Image object>"
      ]
     },
     "execution_count": 13,
     "metadata": {
      "tags": []
     },
     "output_type": "execute_result"
    }
   ],
   "source": [
    "from keras.utils import plot_model\n",
    "plot_model(full_model, show_shapes=True)"
   ]
  },
  {
   "cell_type": "code",
   "execution_count": 14,
   "metadata": {
    "colab": {
     "base_uri": "https://localhost:8080/"
    },
    "executionInfo": {
     "elapsed": 837336,
     "status": "ok",
     "timestamp": 1604296017899,
     "user": {
      "displayName": "Alvin Chen",
      "photoUrl": "",
      "userId": "12962786962925949010"
     },
     "user_tz": -480
    },
    "id": "qpG52mJK1RXq",
    "outputId": "f96782be-a8a2-40e1-dce0-794835ba6c59"
   },
   "outputs": [
    {
     "name": "stdout",
     "output_type": "stream",
     "text": [
      "Loss/Accuracy in epoch 1: 1.4604635802429287/0.46745904435289554\n",
      "Loss/Accuracy in epoch 2: 1.206452102403016/0.553058226648559\n",
      "Loss/Accuracy in epoch 3: 0.9999539234020092/0.6222266717853709\n",
      "Loss/Accuracy in epoch 4: 0.8590037481397645/0.6716880350031404\n",
      "Loss/Accuracy in epoch 5: 0.6759363209080492/0.7340544886738486\n",
      "Loss/Accuracy in epoch 6: 0.45516615537157085/0.8257478628403101\n",
      "Loss/Accuracy in epoch 7: 0.30675891067227745/0.9019008187147287\n",
      "Loss/Accuracy in epoch 8: 0.22180791619496468/0.9420450496198105\n",
      "Loss/Accuracy in epoch 9: 0.16457938748886783/0.9635505688156497\n",
      "Loss/Accuracy in epoch 10: 0.12532161609229878/0.9750178065734711\n",
      "Loss/Accuracy in epoch 11: 0.09903096656004588/0.9812321941397468\n",
      "Loss/Accuracy in epoch 12: 0.0792723479773584/0.9859375002717021\n",
      "Loss/Accuracy in epoch 13: 0.06174239431351338/0.9902199060149343\n",
      "Loss/Accuracy in epoch 14: 0.05001822133094837/0.9931089733740543\n",
      "Loss/Accuracy in epoch 15: 0.04354670027700754/0.9937321937661565\n",
      "Loss/Accuracy in epoch 16: 0.04069449908054962/0.993563033916332\n",
      "Loss/Accuracy in epoch 17: 0.03312275711011853/0.9954950162488171\n",
      "Loss/Accuracy in epoch 18: 0.027821670840905602/0.9966346198676997\n",
      "Loss/Accuracy in epoch 19: 0.02218689081229885/0.9977074489634261\n",
      "Loss/Accuracy in epoch 20: 0.020731496815689098/0.9980591218016426\n",
      "Loss/Accuracy in epoch 21: 0.02214262581714283/0.9973201622650494\n",
      "Loss/Accuracy in epoch 22: 0.020352509804069996/0.9972979018830845\n",
      "Loss/Accuracy in epoch 23: 0.020515288703907758/0.9971777098810571\n",
      "Loss/Accuracy in epoch 24: 0.014983995753921505/0.9985087318637772\n",
      "Loss/Accuracy in epoch 25: 0.015898788284160133/0.9981659594764057\n",
      "Loss/Accuracy in epoch 26: 0.01691755444538432/0.9977475119452192\n",
      "Loss/Accuracy in epoch 27: 0.009889968296783602/0.9991898203847075\n",
      "Loss/Accuracy in epoch 28: 0.01565518932273755/0.9977875764553363\n",
      "Loss/Accuracy in epoch 29: 0.008698951618804296/0.9993278197413497\n",
      "Loss/Accuracy in epoch 30: 0.008788059608867535/0.9992076255317427\n",
      "Loss/Accuracy in epoch 31: 0.014639497259658286/0.9979344786402167\n",
      "Loss/Accuracy in epoch 32: 0.009142608024933484/0.9992343355447818\n",
      "Loss/Accuracy in epoch 33: 0.009348449498903209/0.9991942725629888\n",
      "Loss/Accuracy in epoch 34: 0.01071334116630511/0.99874021286978\n",
      "Loss/Accuracy in epoch 35: 0.00955160209866628/0.9989805961945797\n",
      "Loss/Accuracy in epoch 36: 0.007329548855028261/0.9993856892286882\n",
      "Loss/Accuracy in epoch 37: 0.010063559734965661/0.9988425980266343\n",
      "Loss/Accuracy in epoch 38: 0.008715107908307911/0.9991675647575291\n",
      "Loss/Accuracy in epoch 39: 0.006642797468973063/0.9995236863777508\n",
      "Loss/Accuracy in epoch 40: 0.005238430724450072/0.9997017483765583\n",
      "Loss/Accuracy in epoch 41: 0.011059149969740641/0.9982816998095934\n",
      "Loss/Accuracy in epoch 42: 0.006415550503481785/0.9994969772137807\n",
      "Loss/Accuracy in epoch 43: 0.005111332875981587/0.9995370405352014\n",
      "Loss/Accuracy in epoch 44: 0.004361259335110712/0.9998486488633006\n",
      "Loss/Accuracy in epoch 45: 0.0020799085675629967/0.9999599365087656\n",
      "Loss/Accuracy in epoch 46: 0.0018333555328556234/0.9998842603460676\n",
      "Loss/Accuracy in epoch 47: 0.023051353517065405/0.9943465121790894\n",
      "Loss/Accuracy in epoch 48: 0.003039498568016325/0.9999243243467434\n",
      "Loss/Accuracy in epoch 49: 0.001385307979426397/1.0\n",
      "Loss/Accuracy in epoch 50: 0.0009322014784551838/1.0\n",
      "CPU times: user 13min 48s, sys: 42 s, total: 14min 30s\n",
      "Wall time: 13min 51s\n"
     ]
    }
   ],
   "source": [
    "# %%time\n",
    "# loss, accuracy = train(full_model, enc_seq, dec_seq, batch_size, n_epochs)"
   ]
  },
  {
   "cell_type": "code",
   "execution_count": 17,
   "metadata": {
    "colab": {
     "base_uri": "https://localhost:8080/",
     "height": 289
    },
    "executionInfo": {
     "elapsed": 821,
     "status": "ok",
     "timestamp": 1604296122839,
     "user": {
      "displayName": "Alvin Chen",
      "photoUrl": "",
      "userId": "12962786962925949010"
     },
     "user_tz": -480
    },
    "id": "nJ4qK1iBbQP4",
    "outputId": "8e83981d-d539-45b5-f90d-251ce1d46e6d"
   },
   "outputs": [
    {
     "data": {
      "image/png": "[encoded data removed]",
      "text/plain": [
       "<Figure size 432x288 with 1 Axes>"
      ]
     },
     "metadata": {
      "tags": []
     },
     "output_type": "display_data"
    }
   ],
   "source": [
    "plt.style.use('fivethirtyeight')\n",
    "\n",
    "plt.plot(range(len(loss)), loss, label='loss')\n",
    "plt.plot(range(len(accuracy)), accuracy, label='accuracy')\n",
    "plt.legend()\n",
    "plt.tight_layout()\n",
    "plt.show()"
   ]
  },
  {
   "cell_type": "markdown",
   "metadata": {
    "id": "i8klqxC_1RXu"
   },
   "source": [
    "### Model Saving"
   ]
  },
  {
   "cell_type": "code",
   "execution_count": 25,
   "metadata": {
    "executionInfo": {
     "elapsed": 1727,
     "status": "ok",
     "timestamp": 1604296305312,
     "user": {
      "displayName": "Alvin Chen",
      "photoUrl": "",
      "userId": "12962786962925949010"
     },
     "user_tz": -480
    },
    "id": "LnIhxTm51RXu"
   },
   "outputs": [],
   "source": [
    "# full_model.save('../../../RepositoryData/output/seq2seq-attention-addition/full-model.h5')\n",
    "# infer_enc_model.save('../../../RepositoryData/output/seq2seq-attention-addition/infer-enc-model.h5')\n",
    "# infer_dec_model.save('../../../RepositoryData/output/seq2seq-attention-addition/infer-dec-model.h5')"
   ]
  },
  {
   "cell_type": "markdown",
   "metadata": {
    "id": "e3alO12-1RXx"
   },
   "source": [
    "### Prediction"
   ]
  },
  {
   "cell_type": "code",
   "execution_count": null,
   "metadata": {},
   "outputs": [],
   "source": [
    "full_model.load_weights('../../../RepositoryData/output/seq2seq-attention-addition/full-model.h5')\n",
    "infer_enc_model.load_weights('../../../RepositoryData/output/seq2seq-attention-addition/infer-enc-model.h5')\n",
    "infer_dec_model.load_weights('../../../RepositoryData/output/seq2seq-attention-addition/infer-dec-model.h5')"
   ]
  },
  {
   "cell_type": "code",
   "execution_count": 31,
   "metadata": {
    "colab": {
     "base_uri": "https://localhost:8080/",
     "height": 201
    },
    "executionInfo": {
     "elapsed": 1296,
     "status": "ok",
     "timestamp": 1604296823486,
     "user": {
      "displayName": "Alvin Chen",
      "photoUrl": "",
      "userId": "12962786962925949010"
     },
     "user_tz": -480
    },
    "id": "cvBvOP8x1RXx",
    "outputId": "d0f468fc-4159-489c-cff4-78c88ab2f24a"
   },
   "outputs": [
    {
     "data": {
      "image/png": "[encoded data removed]",
      "text/plain": [
       "<IPython.core.display.Image object>"
      ]
     },
     "execution_count": 31,
     "metadata": {
      "tags": []
     },
     "output_type": "execute_result"
    }
   ],
   "source": [
    "plot_model(infer_enc_model,show_shapes=True)"
   ]
  },
  {
   "cell_type": "code",
   "execution_count": 32,
   "metadata": {
    "colab": {
     "base_uri": "https://localhost:8080/",
     "height": 533
    },
    "executionInfo": {
     "elapsed": 1551,
     "status": "ok",
     "timestamp": 1604296823749,
     "user": {
      "displayName": "Alvin Chen",
      "photoUrl": "",
      "userId": "12962786962925949010"
     },
     "user_tz": -480
    },
    "id": "GAiolzrH1RX0",
    "outputId": "a45fe3c7-4246-4622-b1d3-508a84f20479"
   },
   "outputs": [
    {
     "data": {
      "image/png": "[encoded data removed]",
      "text/plain": [
       "<IPython.core.display.Image object>"
      ]
     },
     "execution_count": 32,
     "metadata": {
      "tags": []
     },
     "output_type": "execute_result"
    }
   ],
   "source": [
    "plot_model(infer_dec_model, show_shapes=True)"
   ]
  },
  {
   "cell_type": "code",
   "execution_count": 33,
   "metadata": {
    "executionInfo": {
     "elapsed": 1544,
     "status": "ok",
     "timestamp": 1604296823750,
     "user": {
      "displayName": "Alvin Chen",
      "photoUrl": "",
      "userId": "12962786962925949010"
     },
     "user_tz": -480
    },
    "id": "6u5tsB_51RX3"
   },
   "outputs": [],
   "source": [
    "\"\"\" Index2word \"\"\"\n",
    "enc_index2word = dict(\n",
    "    zip(enc_tokenizer.word_index.values(), enc_tokenizer.word_index.keys()))\n",
    "dec_index2word = dict(\n",
    "    zip(dec_tokenizer.word_index.values(), dec_tokenizer.word_index.keys()))\n"
   ]
  },
  {
   "cell_type": "code",
   "execution_count": 34,
   "metadata": {
    "executionInfo": {
     "elapsed": 1539,
     "status": "ok",
     "timestamp": 1604296823750,
     "user": {
      "displayName": "Alvin Chen",
      "photoUrl": "",
      "userId": "12962786962925949010"
     },
     "user_tz": -480
    },
    "id": "WHLDUdfz1RX5"
   },
   "outputs": [],
   "source": [
    "def translate(infer_enc_model, infer_dec_model, test_enc_text, \n",
    "              enc_vsize, dec_vsize, enc_timesteps, dec_timesteps,\n",
    "              enc_tokenizer, dec_tokenizer):\n",
    "    \"\"\" Inferring with trained model \"\"\"\n",
    "    test_enc = test_enc_text\n",
    "    print('Translating: {}'.format(test_enc))\n",
    "\n",
    "    test_enc_seq = sents2sequences(\n",
    "        enc_tokenizer, [test_enc], pad_length=enc_timesteps)\n",
    "\n",
    "    test_dec, attn_weights = infer_nmt(\n",
    "        encoder_model=infer_enc_model, decoder_model=infer_dec_model,\n",
    "        test_enc_seq=test_enc_seq, enc_vsize=enc_vsize, dec_vsize=dec_vsize, dec_timesteps = dec_timesteps)\n",
    "    print('\\tFrench: {}'.format(test_dec))\n",
    "    return test_enc_seq, test_dec, attn_weights"
   ]
  },
  {
   "cell_type": "code",
   "execution_count": 35,
   "metadata": {
    "colab": {
     "base_uri": "https://localhost:8080/"
    },
    "executionInfo": {
     "elapsed": 1533,
     "status": "ok",
     "timestamp": 1604296823751,
     "user": {
      "displayName": "Alvin Chen",
      "photoUrl": "",
      "userId": "12962786962925949010"
     },
     "user_tz": -480
    },
    "id": "jMjTGMjJ1RX8",
    "outputId": "63a294fb-9ce6-46af-cc45-5bb2b155190c"
   },
   "outputs": [
    {
     "name": "stdout",
     "output_type": "stream",
     "text": [
      "Translating: 406+77 \n",
      "\tFrench: 483_\n"
     ]
    }
   ],
   "source": [
    "test_enc_seq, test_dec, attn_weights=translate(infer_enc_model=infer_enc_model,\n",
    "          infer_dec_model=infer_dec_model,\n",
    "          test_enc_text=ts_enc_text[120],\n",
    "          enc_vsize=enc_vsize,\n",
    "          dec_vsize=dec_vsize,\n",
    "          enc_timesteps=enc_timesteps,\n",
    "          dec_timesteps=dec_timesteps,\n",
    "          enc_tokenizer=enc_tokenizer,\n",
    "          dec_tokenizer=dec_tokenizer)\n",
    "\n"
   ]
  },
  {
   "cell_type": "code",
   "execution_count": 36,
   "metadata": {
    "colab": {
     "base_uri": "https://localhost:8080/",
     "height": 1000
    },
    "executionInfo": {
     "elapsed": 1820,
     "status": "ok",
     "timestamp": 1604296824049,
     "user": {
      "displayName": "Alvin Chen",
      "photoUrl": "",
      "userId": "12962786962925949010"
     },
     "user_tz": -480
    },
    "id": "OPresXWv1RX_",
    "outputId": "db2fe561-cef2-4f79-872c-92bbee47b4d2"
   },
   "outputs": [
    {
     "data": {
      "image/png": "[encoded data removed]",
      "text/plain": [
       "<Figure size 2304x2304 with 1 Axes>"
      ]
     },
     "metadata": {
      "tags": []
     },
     "output_type": "display_data"
    }
   ],
   "source": [
    "\"\"\" Attention plotting \"\"\"\n",
    "plot_attention_weights(test_enc_seq, attn_weights,\n",
    "                       enc_index2word, dec_index2word)"
   ]
  },
  {
   "cell_type": "code",
   "execution_count": 37,
   "metadata": {
    "colab": {
     "base_uri": "https://localhost:8080/"
    },
    "executionInfo": {
     "elapsed": 1814,
     "status": "ok",
     "timestamp": 1604296824050,
     "user": {
      "displayName": "Alvin Chen",
      "photoUrl": "",
      "userId": "12962786962925949010"
     },
     "user_tz": -480
    },
    "id": "JMFrKFDj1RYC",
    "outputId": "a09ceb3e-c4ed-42da-8c7c-ebcdd91c1e44"
   },
   "outputs": [
    {
     "name": "stdout",
     "output_type": "stream",
     "text": [
      "['27+673 ', '153+27 ', '93+901 ', '243+678', '269+46 ']\n",
      "['_700_', '_180_', '_994_', '_921_', '_315_']\n"
     ]
    }
   ],
   "source": [
    "\n",
    "print(tr_enc_text[:5])\n",
    "print(tr_dec_text[:5])\n",
    "\n"
   ]
  },
  {
   "cell_type": "markdown",
   "metadata": {
    "id": "5tMXgkUTiw-n"
   },
   "source": [
    "## Evaluation on Test Data"
   ]
  },
  {
   "cell_type": "code",
   "execution_count": 42,
   "metadata": {
    "colab": {
     "base_uri": "https://localhost:8080/"
    },
    "executionInfo": {
     "elapsed": 13805,
     "status": "ok",
     "timestamp": 1604297167840,
     "user": {
      "displayName": "Alvin Chen",
      "photoUrl": "",
      "userId": "12962786962925949010"
     },
     "user_tz": -480
    },
    "id": "qntLn9jUioZl",
    "outputId": "5788716b-5976-44ac-cce5-7c0e0037bda9"
   },
   "outputs": [
    {
     "name": "stdout",
     "output_type": "stream",
     "text": [
      "Average Loss:0.0008140528404440444\n",
      "Average Accuracy:1.0\n"
     ]
    }
   ],
   "source": [
    "def test(full_model, ts_enc_text, ts_dec_text, enc_tokenizer, dec_tokenizer, batch_size):\n",
    "    # ### Getting sequence integer data\n",
    "    ts_enc_seq, ts_dec_seq = preprocess_data(enc_tokenizer, dec_tokenizer, ts_enc_text, ts_dec_text)\n",
    "    losses = []\n",
    "    accuracies = []\n",
    "    for bi in range(0, ts_enc_seq.shape[0] - batch_size, batch_size):\n",
    "        enc_onehot_seq = to_categorical(\n",
    "            ts_enc_seq[bi:bi + batch_size, :], num_classes=enc_vsize)\n",
    "        dec_onehot_seq = to_categorical(\n",
    "            ts_dec_seq[bi:bi + batch_size, :], num_classes=dec_vsize)\n",
    "\n",
    "        # full_model.train_on_batch(\n",
    "        #     [enc_onehot_seq, dec_onehot_seq[:, :-1, :]], dec_onehot_seq[:, 1:, :])\n",
    "        l,a = full_model.evaluate([enc_onehot_seq, dec_onehot_seq[:, :-1, :]], dec_onehot_seq[:, 1:, :],\n",
    "                                batch_size=batch_size, verbose=0)\n",
    "        losses.append(l)\n",
    "        accuracies.append(a)\n",
    "    print('Average Loss:{}'.format(np.mean(losses)))\n",
    "    print('Average Accuracy:{}'.format(np.mean(accuracies)))\n",
    "\n",
    "test(full_model, ts_enc_text = ts_enc_text, ts_dec_text = ts_dec_text, \n",
    "     enc_tokenizer = enc_tokenizer, dec_tokenizer = dec_tokenizer, batch_size = batch_size)"
   ]
  }
 ],
 "metadata": {
  "accelerator": "GPU",
  "colab": {
   "collapsed_sections": [],
   "name": "seq-to-seq-attention-addition.ipynb",
   "provenance": [],
   "toc_visible": true
  },
  "kernelspec": {
   "display_name": "python-notes",
   "language": "python",
   "name": "python-notes"
  },
  "language_info": {
   "codemirror_mode": {
    "name": "ipython",
    "version": 3
   },
   "file_extension": ".py",
   "mimetype": "text/x-python",
   "name": "python",
   "nbconvert_exporter": "python",
   "pygments_lexer": "ipython3",
   "version": "3.7.0"
  },
  "toc": {
   "base_numbering": 1,
   "nav_menu": {},
   "number_sections": false,
   "sideBar": true,
   "skip_h1_title": false,
   "title_cell": "Table of Contents",
   "title_sidebar": "Contents",
   "toc_cell": false,
   "toc_position": {},
   "toc_section_display": true,
   "toc_window_display": true
  },
  "varInspector": {
   "cols": {
    "lenName": 16,
    "lenType": 16,
    "lenVar": 40
   },
   "kernels_config": {
    "python": {
     "delete_cmd_postfix": "",
     "delete_cmd_prefix": "del ",
     "library": "var_list.py",
     "varRefreshCmd": "print(var_dic_list())"
    },
    "r": {
     "delete_cmd_postfix": ") ",
     "delete_cmd_prefix": "rm(",
     "library": "var_list.r",
     "varRefreshCmd": "cat(var_dic_list()) "
    }
   },
   "types_to_exclude": [
    "module",
    "function",
    "builtin_function_or_method",
    "instance",
    "_Feature"
   ],
   "window_display": false
  }
 },
 "nbformat": 4,
 "nbformat_minor": 1
}
